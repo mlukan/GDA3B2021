{
  "nbformat": 4,
  "nbformat_minor": 0,
  "metadata": {
    "colab": {
      "name": "Martin Lukan  Mathematics rhymes with Numpy part 1.ipynb",
      "provenance": [],
      "collapsed_sections": [],
      "include_colab_link": true
    },
    "kernelspec": {
      "name": "python3",
      "display_name": "Python 3"
    }
  },
  "cells": [
    {
      "cell_type": "markdown",
      "metadata": {
        "id": "view-in-github",
        "colab_type": "text"
      },
      "source": [
        "<a href=\"https://colab.research.google.com/github/mlukan/GDA3B2021/blob/main/Martin_Lukan_Mathematics_rhymes_with_Numpy_part_1.ipynb\" target=\"_parent\"><img src=\"https://colab.research.google.com/assets/colab-badge.svg\" alt=\"Open In Colab\"/></a>"
      ]
    },
    {
      "cell_type": "markdown",
      "metadata": {
        "id": "K7HOMJUBt5cD"
      },
      "source": [
        "# Mission 1"
      ]
    },
    {
      "cell_type": "markdown",
      "metadata": {
        "id": "6IqfpiNQujlE"
      },
      "source": [
        "Find a way to calculate the following statistical indicators for any given array\n",
        "\n",
        "---\n",
        "\n",
        "using functions and Numpy.\n",
        "- mode\n",
        "- median\n",
        "- average\n",
        "- the range (the difference between max and min)\n",
        "- standard deviation\n",
        "- variance\n",
        "- the different quantiles\n",
        "- Change your array to have 2 rows and n columns, then calculate the Pearson coefficient"
      ]
    },
    {
      "cell_type": "code",
      "metadata": {
        "id": "lSzKwJ2PyWyz",
        "colab": {
          "base_uri": "https://localhost:8080/",
          "height": 227
        },
        "outputId": "76f378b2-ec87-4fc8-9995-4b1fa416537b"
      },
      "source": [
        "import numpy as np\n",
        "import pandas as pd\n",
        "myarr = np.random.randn(10,10)\n",
        "def arrstat(array):\n",
        "  stats=[]\n",
        "  df=pd.DataFrame(index=['median','mean','var','std','percentile(25)','percentile(75)'],columns=[\"Stats\"])\n",
        "  funclist = ['np.median(array)','np.mean(array)','np.var(array)','np.std(array)','np.percentile(array,25)','np.percentile(array,75)']\n",
        "  for f in funclist:\n",
        "    stats.append(eval(f))\n",
        "  df.Stats=stats\n",
        "  return df\n",
        "arrstat(myarr)\n",
        "\n",
        "\n"
      ],
      "execution_count": 39,
      "outputs": [
        {
          "output_type": "execute_result",
          "data": {
            "text/html": [
              "<div>\n",
              "<style scoped>\n",
              "    .dataframe tbody tr th:only-of-type {\n",
              "        vertical-align: middle;\n",
              "    }\n",
              "\n",
              "    .dataframe tbody tr th {\n",
              "        vertical-align: top;\n",
              "    }\n",
              "\n",
              "    .dataframe thead th {\n",
              "        text-align: right;\n",
              "    }\n",
              "</style>\n",
              "<table border=\"1\" class=\"dataframe\">\n",
              "  <thead>\n",
              "    <tr style=\"text-align: right;\">\n",
              "      <th></th>\n",
              "      <th>Stats</th>\n",
              "    </tr>\n",
              "  </thead>\n",
              "  <tbody>\n",
              "    <tr>\n",
              "      <th>median</th>\n",
              "      <td>-0.124270</td>\n",
              "    </tr>\n",
              "    <tr>\n",
              "      <th>mean</th>\n",
              "      <td>-0.011137</td>\n",
              "    </tr>\n",
              "    <tr>\n",
              "      <th>var</th>\n",
              "      <td>0.942506</td>\n",
              "    </tr>\n",
              "    <tr>\n",
              "      <th>std</th>\n",
              "      <td>0.970828</td>\n",
              "    </tr>\n",
              "    <tr>\n",
              "      <th>percentile(25)</th>\n",
              "      <td>-0.569390</td>\n",
              "    </tr>\n",
              "    <tr>\n",
              "      <th>percentile(75)</th>\n",
              "      <td>0.626170</td>\n",
              "    </tr>\n",
              "  </tbody>\n",
              "</table>\n",
              "</div>"
            ],
            "text/plain": [
              "                   Stats\n",
              "median         -0.124270\n",
              "mean           -0.011137\n",
              "var             0.942506\n",
              "std             0.970828\n",
              "percentile(25) -0.569390\n",
              "percentile(75)  0.626170"
            ]
          },
          "metadata": {
            "tags": []
          },
          "execution_count": 39
        }
      ]
    },
    {
      "cell_type": "code",
      "metadata": {
        "colab": {
          "base_uri": "https://localhost:8080/"
        },
        "id": "OIp86Nx0Zvm5",
        "outputId": "bcba665a-e462-4d27-de13-46a736010bd5"
      },
      "source": [
        "myarr1=np.random.randn(2,10)\n",
        "np.corrcoef(myarr1)"
      ],
      "execution_count": 40,
      "outputs": [
        {
          "output_type": "execute_result",
          "data": {
            "text/plain": [
              "array([[1.        , 0.33139043],\n",
              "       [0.33139043, 1.        ]])"
            ]
          },
          "metadata": {
            "tags": []
          },
          "execution_count": 40
        }
      ]
    },
    {
      "cell_type": "markdown",
      "metadata": {
        "id": "dSPGdxdsy5sg"
      },
      "source": [
        "## Mission 2\n",
        "\n",
        "Create a function using Numpy that indicates the values (integers only), from -100 to 100, where the remainder from performing Euclidean division by both 3 and 7 is equal."
      ]
    },
    {
      "cell_type": "code",
      "metadata": {
        "id": "_6S3mTjiy5jT",
        "colab": {
          "base_uri": "https://localhost:8080/"
        },
        "outputId": "7166f8ce-f243-4a57-b48d-7ef2f818f489"
      },
      "source": [
        "intarr = np.arange(-100,101)\n",
        "def modulos(arr):\n",
        "  modlist=[n for n in arr if  n%3  == n%7]\n",
        "  return modlist\n",
        "modulos(intarr)\n"
      ],
      "execution_count": 44,
      "outputs": [
        {
          "output_type": "execute_result",
          "data": {
            "text/plain": [
              "[-84,\n",
              " -83,\n",
              " -82,\n",
              " -63,\n",
              " -62,\n",
              " -61,\n",
              " -42,\n",
              " -41,\n",
              " -40,\n",
              " -21,\n",
              " -20,\n",
              " -19,\n",
              " 0,\n",
              " 1,\n",
              " 2,\n",
              " 21,\n",
              " 22,\n",
              " 23,\n",
              " 42,\n",
              " 43,\n",
              " 44,\n",
              " 63,\n",
              " 64,\n",
              " 65,\n",
              " 84,\n",
              " 85,\n",
              " 86]"
            ]
          },
          "metadata": {
            "tags": []
          },
          "execution_count": 44
        }
      ]
    },
    {
      "cell_type": "markdown",
      "metadata": {
        "id": "Tr3pka4-0az7"
      },
      "source": [
        "## Mission 3\n",
        "\n",
        "Create a function that returns the [inverse value (for `3`, return `1/3`)](https://en.wikipedia.org/wiki/Multiplicative_inverse) of a set of values contained in a Numpy array"
      ]
    },
    {
      "cell_type": "code",
      "metadata": {
        "id": "m4qgMMqH0hSl",
        "colab": {
          "base_uri": "https://localhost:8080/"
        },
        "outputId": "f96ac79c-01a0-4e1b-8e0d-fef8cddcc4e0"
      },
      "source": [
        "def invertor(arr):\n",
        "  vals=[i/3 for i in arr]\n",
        "  return vals\n",
        "invertor(intarr)\n",
        "  "
      ],
      "execution_count": 47,
      "outputs": [
        {
          "output_type": "execute_result",
          "data": {
            "text/plain": [
              "[-33.333333333333336,\n",
              " -33.0,\n",
              " -32.666666666666664,\n",
              " -32.333333333333336,\n",
              " -32.0,\n",
              " -31.666666666666668,\n",
              " -31.333333333333332,\n",
              " -31.0,\n",
              " -30.666666666666668,\n",
              " -30.333333333333332,\n",
              " -30.0,\n",
              " -29.666666666666668,\n",
              " -29.333333333333332,\n",
              " -29.0,\n",
              " -28.666666666666668,\n",
              " -28.333333333333332,\n",
              " -28.0,\n",
              " -27.666666666666668,\n",
              " -27.333333333333332,\n",
              " -27.0,\n",
              " -26.666666666666668,\n",
              " -26.333333333333332,\n",
              " -26.0,\n",
              " -25.666666666666668,\n",
              " -25.333333333333332,\n",
              " -25.0,\n",
              " -24.666666666666668,\n",
              " -24.333333333333332,\n",
              " -24.0,\n",
              " -23.666666666666668,\n",
              " -23.333333333333332,\n",
              " -23.0,\n",
              " -22.666666666666668,\n",
              " -22.333333333333332,\n",
              " -22.0,\n",
              " -21.666666666666668,\n",
              " -21.333333333333332,\n",
              " -21.0,\n",
              " -20.666666666666668,\n",
              " -20.333333333333332,\n",
              " -20.0,\n",
              " -19.666666666666668,\n",
              " -19.333333333333332,\n",
              " -19.0,\n",
              " -18.666666666666668,\n",
              " -18.333333333333332,\n",
              " -18.0,\n",
              " -17.666666666666668,\n",
              " -17.333333333333332,\n",
              " -17.0,\n",
              " -16.666666666666668,\n",
              " -16.333333333333332,\n",
              " -16.0,\n",
              " -15.666666666666666,\n",
              " -15.333333333333334,\n",
              " -15.0,\n",
              " -14.666666666666666,\n",
              " -14.333333333333334,\n",
              " -14.0,\n",
              " -13.666666666666666,\n",
              " -13.333333333333334,\n",
              " -13.0,\n",
              " -12.666666666666666,\n",
              " -12.333333333333334,\n",
              " -12.0,\n",
              " -11.666666666666666,\n",
              " -11.333333333333334,\n",
              " -11.0,\n",
              " -10.666666666666666,\n",
              " -10.333333333333334,\n",
              " -10.0,\n",
              " -9.666666666666666,\n",
              " -9.333333333333334,\n",
              " -9.0,\n",
              " -8.666666666666666,\n",
              " -8.333333333333334,\n",
              " -8.0,\n",
              " -7.666666666666667,\n",
              " -7.333333333333333,\n",
              " -7.0,\n",
              " -6.666666666666667,\n",
              " -6.333333333333333,\n",
              " -6.0,\n",
              " -5.666666666666667,\n",
              " -5.333333333333333,\n",
              " -5.0,\n",
              " -4.666666666666667,\n",
              " -4.333333333333333,\n",
              " -4.0,\n",
              " -3.6666666666666665,\n",
              " -3.3333333333333335,\n",
              " -3.0,\n",
              " -2.6666666666666665,\n",
              " -2.3333333333333335,\n",
              " -2.0,\n",
              " -1.6666666666666667,\n",
              " -1.3333333333333333,\n",
              " -1.0,\n",
              " -0.6666666666666666,\n",
              " -0.3333333333333333,\n",
              " 0.0,\n",
              " 0.3333333333333333,\n",
              " 0.6666666666666666,\n",
              " 1.0,\n",
              " 1.3333333333333333,\n",
              " 1.6666666666666667,\n",
              " 2.0,\n",
              " 2.3333333333333335,\n",
              " 2.6666666666666665,\n",
              " 3.0,\n",
              " 3.3333333333333335,\n",
              " 3.6666666666666665,\n",
              " 4.0,\n",
              " 4.333333333333333,\n",
              " 4.666666666666667,\n",
              " 5.0,\n",
              " 5.333333333333333,\n",
              " 5.666666666666667,\n",
              " 6.0,\n",
              " 6.333333333333333,\n",
              " 6.666666666666667,\n",
              " 7.0,\n",
              " 7.333333333333333,\n",
              " 7.666666666666667,\n",
              " 8.0,\n",
              " 8.333333333333334,\n",
              " 8.666666666666666,\n",
              " 9.0,\n",
              " 9.333333333333334,\n",
              " 9.666666666666666,\n",
              " 10.0,\n",
              " 10.333333333333334,\n",
              " 10.666666666666666,\n",
              " 11.0,\n",
              " 11.333333333333334,\n",
              " 11.666666666666666,\n",
              " 12.0,\n",
              " 12.333333333333334,\n",
              " 12.666666666666666,\n",
              " 13.0,\n",
              " 13.333333333333334,\n",
              " 13.666666666666666,\n",
              " 14.0,\n",
              " 14.333333333333334,\n",
              " 14.666666666666666,\n",
              " 15.0,\n",
              " 15.333333333333334,\n",
              " 15.666666666666666,\n",
              " 16.0,\n",
              " 16.333333333333332,\n",
              " 16.666666666666668,\n",
              " 17.0,\n",
              " 17.333333333333332,\n",
              " 17.666666666666668,\n",
              " 18.0,\n",
              " 18.333333333333332,\n",
              " 18.666666666666668,\n",
              " 19.0,\n",
              " 19.333333333333332,\n",
              " 19.666666666666668,\n",
              " 20.0,\n",
              " 20.333333333333332,\n",
              " 20.666666666666668,\n",
              " 21.0,\n",
              " 21.333333333333332,\n",
              " 21.666666666666668,\n",
              " 22.0,\n",
              " 22.333333333333332,\n",
              " 22.666666666666668,\n",
              " 23.0,\n",
              " 23.333333333333332,\n",
              " 23.666666666666668,\n",
              " 24.0,\n",
              " 24.333333333333332,\n",
              " 24.666666666666668,\n",
              " 25.0,\n",
              " 25.333333333333332,\n",
              " 25.666666666666668,\n",
              " 26.0,\n",
              " 26.333333333333332,\n",
              " 26.666666666666668,\n",
              " 27.0,\n",
              " 27.333333333333332,\n",
              " 27.666666666666668,\n",
              " 28.0,\n",
              " 28.333333333333332,\n",
              " 28.666666666666668,\n",
              " 29.0,\n",
              " 29.333333333333332,\n",
              " 29.666666666666668,\n",
              " 30.0,\n",
              " 30.333333333333332,\n",
              " 30.666666666666668,\n",
              " 31.0,\n",
              " 31.333333333333332,\n",
              " 31.666666666666668,\n",
              " 32.0,\n",
              " 32.333333333333336,\n",
              " 32.666666666666664,\n",
              " 33.0,\n",
              " 33.333333333333336]"
            ]
          },
          "metadata": {
            "tags": []
          },
          "execution_count": 47
        }
      ]
    },
    {
      "cell_type": "code",
      "metadata": {
        "colab": {
          "base_uri": "https://localhost:8080/"
        },
        "id": "3HWbLINxjgRh",
        "outputId": "3cfede65-6946-41ba-fa51-b40027a3877a"
      },
      "source": [
        "intarr"
      ],
      "execution_count": 46,
      "outputs": [
        {
          "output_type": "execute_result",
          "data": {
            "text/plain": [
              "array([-100,  -99,  -98,  -97,  -96,  -95,  -94,  -93,  -92,  -91,  -90,\n",
              "        -89,  -88,  -87,  -86,  -85,  -84,  -83,  -82,  -81,  -80,  -79,\n",
              "        -78,  -77,  -76,  -75,  -74,  -73,  -72,  -71,  -70,  -69,  -68,\n",
              "        -67,  -66,  -65,  -64,  -63,  -62,  -61,  -60,  -59,  -58,  -57,\n",
              "        -56,  -55,  -54,  -53,  -52,  -51,  -50,  -49,  -48,  -47,  -46,\n",
              "        -45,  -44,  -43,  -42,  -41,  -40,  -39,  -38,  -37,  -36,  -35,\n",
              "        -34,  -33,  -32,  -31,  -30,  -29,  -28,  -27,  -26,  -25,  -24,\n",
              "        -23,  -22,  -21,  -20,  -19,  -18,  -17,  -16,  -15,  -14,  -13,\n",
              "        -12,  -11,  -10,   -9,   -8,   -7,   -6,   -5,   -4,   -3,   -2,\n",
              "         -1,    0,    1,    2,    3,    4,    5,    6,    7,    8,    9,\n",
              "         10,   11,   12,   13,   14,   15,   16,   17,   18,   19,   20,\n",
              "         21,   22,   23,   24,   25,   26,   27,   28,   29,   30,   31,\n",
              "         32,   33,   34,   35,   36,   37,   38,   39,   40,   41,   42,\n",
              "         43,   44,   45,   46,   47,   48,   49,   50,   51,   52,   53,\n",
              "         54,   55,   56,   57,   58,   59,   60,   61,   62,   63,   64,\n",
              "         65,   66,   67,   68,   69,   70,   71,   72,   73,   74,   75,\n",
              "         76,   77,   78,   79,   80,   81,   82,   83,   84,   85,   86,\n",
              "         87,   88,   89,   90,   91,   92,   93,   94,   95,   96,   97,\n",
              "         98,   99,  100])"
            ]
          },
          "metadata": {
            "tags": []
          },
          "execution_count": 46
        }
      ]
    },
    {
      "cell_type": "code",
      "metadata": {
        "id": "30QlQArEjniK"
      },
      "source": [
        ""
      ],
      "execution_count": null,
      "outputs": []
    }
  ]
}