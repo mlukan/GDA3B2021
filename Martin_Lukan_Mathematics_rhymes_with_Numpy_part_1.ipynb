{
  "nbformat": 4,
  "nbformat_minor": 0,
  "metadata": {
    "colab": {
      "name": "Martin Lukan  Mathematics rhymes with Numpy part 1.ipynb",
      "provenance": [],
      "collapsed_sections": [],
      "include_colab_link": true
    },
    "kernelspec": {
      "name": "python3",
      "display_name": "Python 3"
    }
  },
  "cells": [
    {
      "cell_type": "markdown",
      "metadata": {
        "id": "view-in-github",
        "colab_type": "text"
      },
      "source": [
        "<a href=\"https://colab.research.google.com/github/mlukan/GDA3B2021/blob/main/Martin_Lukan_Mathematics_rhymes_with_Numpy_part_1.ipynb\" target=\"_parent\"><img src=\"https://colab.research.google.com/assets/colab-badge.svg\" alt=\"Open In Colab\"/></a>"
      ]
    },
    {
      "cell_type": "markdown",
      "metadata": {
        "id": "K7HOMJUBt5cD"
      },
      "source": [
        "# Mission 1"
      ]
    },
    {
      "cell_type": "markdown",
      "metadata": {
        "id": "6IqfpiNQujlE"
      },
      "source": [
        "Find a way to calculate the following statistical indicators for any given array\n",
        "\n",
        "---\n",
        "\n",
        "using functions and Numpy.\n",
        "- mode\n",
        "- median\n",
        "- average\n",
        "- the range (the difference between max and min)\n",
        "- standard deviation\n",
        "- variance\n",
        "- the different quantiles\n",
        "- Change your array to have 2 rows and n columns, then calculate the Pearson coefficient"
      ]
    },
    {
      "cell_type": "code",
      "metadata": {
        "id": "lSzKwJ2PyWyz"
      },
      "source": [
        ""
      ],
      "execution_count": null,
      "outputs": []
    },
    {
      "cell_type": "markdown",
      "metadata": {
        "id": "dSPGdxdsy5sg"
      },
      "source": [
        "## Mission 2\n",
        "\n",
        "Create a function using Numpy that indicates the values (integers only), from -100 to 100, where the remainder from performing Euclidean division by both 3 and 7 is equal."
      ]
    },
    {
      "cell_type": "code",
      "metadata": {
        "id": "_6S3mTjiy5jT"
      },
      "source": [
        ""
      ],
      "execution_count": null,
      "outputs": []
    },
    {
      "cell_type": "markdown",
      "metadata": {
        "id": "Tr3pka4-0az7"
      },
      "source": [
        "## Mission 3\n",
        "\n",
        "Create a function that returns the [inverse value (for `3`, return `1/3`)](https://en.wikipedia.org/wiki/Multiplicative_inverse) of a set of values contained in a Numpy array"
      ]
    },
    {
      "cell_type": "code",
      "metadata": {
        "id": "m4qgMMqH0hSl"
      },
      "source": [
        ""
      ],
      "execution_count": null,
      "outputs": []
    }
  ]
}