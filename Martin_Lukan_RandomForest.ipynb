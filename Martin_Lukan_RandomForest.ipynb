{
  "nbformat": 4,
  "nbformat_minor": 0,
  "metadata": {
    "colab": {
      "name": "Martin Lukan RandomForest.ipynb",
      "provenance": [],
      "collapsed_sections": [],
      "include_colab_link": true
    },
    "kernelspec": {
      "name": "python3",
      "display_name": "Python 3"
    }
  },
  "cells": [
    {
      "cell_type": "markdown",
      "metadata": {
        "id": "view-in-github",
        "colab_type": "text"
      },
      "source": [
        "<a href=\"https://colab.research.google.com/github/mlukan/GDA3B2021/blob/main/Martin_Lukan_RandomForest.ipynb\" target=\"_parent\"><img src=\"https://colab.research.google.com/assets/colab-badge.svg\" alt=\"Open In Colab\"/></a>"
      ]
    },
    {
      "cell_type": "markdown",
      "metadata": {
        "id": "55CvTNrtu2sE"
      },
      "source": [
        "## Random Forests\n",
        "Here, we're going to learn how to use Random Forests through the use of the example given in \"An Introduction to Statistical Learning\" but adapted for Python rather than R. If given the chance, I can't recommend this book enough. It's the easier, introductory version of what's often called the \"Bible\" of Machine Learning - \"The Elements of Statistical Learning\""
      ]
    },
    {
      "cell_type": "code",
      "metadata": {
        "id": "DKq15qbGuuhu"
      },
      "source": [
        "# Import the necessary library and datasets\n",
        "import pandas as pd\n",
        "import numpy as np\n",
        "from sklearn.datasets import load_boston\n",
        "from sklearn.ensemble import RandomForestRegressor\n",
        "from sklearn.model_selection import train_test_split\n",
        "from sklearn.metrics import mean_squared_error, r2_score\n",
        "import matplotlib.pyplot as plt\n",
        "\n",
        "data = pd.DataFrame(load_boston().data)\n",
        "data.columns = load_boston().feature_names\n",
        "data['MEDV'] = load_boston().target"
      ],
      "execution_count": 1,
      "outputs": []
    },
    {
      "cell_type": "code",
      "metadata": {
        "id": "6HP9t861v84b",
        "colab": {
          "base_uri": "https://localhost:8080/",
          "height": 204
        },
        "outputId": "55e6fad7-eb3e-463d-d42e-dd5c1b76a2f0"
      },
      "source": [
        "data.head()"
      ],
      "execution_count": 2,
      "outputs": [
        {
          "output_type": "execute_result",
          "data": {
            "text/html": [
              "<div>\n",
              "<style scoped>\n",
              "    .dataframe tbody tr th:only-of-type {\n",
              "        vertical-align: middle;\n",
              "    }\n",
              "\n",
              "    .dataframe tbody tr th {\n",
              "        vertical-align: top;\n",
              "    }\n",
              "\n",
              "    .dataframe thead th {\n",
              "        text-align: right;\n",
              "    }\n",
              "</style>\n",
              "<table border=\"1\" class=\"dataframe\">\n",
              "  <thead>\n",
              "    <tr style=\"text-align: right;\">\n",
              "      <th></th>\n",
              "      <th>CRIM</th>\n",
              "      <th>ZN</th>\n",
              "      <th>INDUS</th>\n",
              "      <th>CHAS</th>\n",
              "      <th>NOX</th>\n",
              "      <th>RM</th>\n",
              "      <th>AGE</th>\n",
              "      <th>DIS</th>\n",
              "      <th>RAD</th>\n",
              "      <th>TAX</th>\n",
              "      <th>PTRATIO</th>\n",
              "      <th>B</th>\n",
              "      <th>LSTAT</th>\n",
              "      <th>MEDV</th>\n",
              "    </tr>\n",
              "  </thead>\n",
              "  <tbody>\n",
              "    <tr>\n",
              "      <th>0</th>\n",
              "      <td>0.00632</td>\n",
              "      <td>18.0</td>\n",
              "      <td>2.31</td>\n",
              "      <td>0.0</td>\n",
              "      <td>0.538</td>\n",
              "      <td>6.575</td>\n",
              "      <td>65.2</td>\n",
              "      <td>4.0900</td>\n",
              "      <td>1.0</td>\n",
              "      <td>296.0</td>\n",
              "      <td>15.3</td>\n",
              "      <td>396.90</td>\n",
              "      <td>4.98</td>\n",
              "      <td>24.0</td>\n",
              "    </tr>\n",
              "    <tr>\n",
              "      <th>1</th>\n",
              "      <td>0.02731</td>\n",
              "      <td>0.0</td>\n",
              "      <td>7.07</td>\n",
              "      <td>0.0</td>\n",
              "      <td>0.469</td>\n",
              "      <td>6.421</td>\n",
              "      <td>78.9</td>\n",
              "      <td>4.9671</td>\n",
              "      <td>2.0</td>\n",
              "      <td>242.0</td>\n",
              "      <td>17.8</td>\n",
              "      <td>396.90</td>\n",
              "      <td>9.14</td>\n",
              "      <td>21.6</td>\n",
              "    </tr>\n",
              "    <tr>\n",
              "      <th>2</th>\n",
              "      <td>0.02729</td>\n",
              "      <td>0.0</td>\n",
              "      <td>7.07</td>\n",
              "      <td>0.0</td>\n",
              "      <td>0.469</td>\n",
              "      <td>7.185</td>\n",
              "      <td>61.1</td>\n",
              "      <td>4.9671</td>\n",
              "      <td>2.0</td>\n",
              "      <td>242.0</td>\n",
              "      <td>17.8</td>\n",
              "      <td>392.83</td>\n",
              "      <td>4.03</td>\n",
              "      <td>34.7</td>\n",
              "    </tr>\n",
              "    <tr>\n",
              "      <th>3</th>\n",
              "      <td>0.03237</td>\n",
              "      <td>0.0</td>\n",
              "      <td>2.18</td>\n",
              "      <td>0.0</td>\n",
              "      <td>0.458</td>\n",
              "      <td>6.998</td>\n",
              "      <td>45.8</td>\n",
              "      <td>6.0622</td>\n",
              "      <td>3.0</td>\n",
              "      <td>222.0</td>\n",
              "      <td>18.7</td>\n",
              "      <td>394.63</td>\n",
              "      <td>2.94</td>\n",
              "      <td>33.4</td>\n",
              "    </tr>\n",
              "    <tr>\n",
              "      <th>4</th>\n",
              "      <td>0.06905</td>\n",
              "      <td>0.0</td>\n",
              "      <td>2.18</td>\n",
              "      <td>0.0</td>\n",
              "      <td>0.458</td>\n",
              "      <td>7.147</td>\n",
              "      <td>54.2</td>\n",
              "      <td>6.0622</td>\n",
              "      <td>3.0</td>\n",
              "      <td>222.0</td>\n",
              "      <td>18.7</td>\n",
              "      <td>396.90</td>\n",
              "      <td>5.33</td>\n",
              "      <td>36.2</td>\n",
              "    </tr>\n",
              "  </tbody>\n",
              "</table>\n",
              "</div>"
            ],
            "text/plain": [
              "      CRIM    ZN  INDUS  CHAS    NOX  ...    TAX  PTRATIO       B  LSTAT  MEDV\n",
              "0  0.00632  18.0   2.31   0.0  0.538  ...  296.0     15.3  396.90   4.98  24.0\n",
              "1  0.02731   0.0   7.07   0.0  0.469  ...  242.0     17.8  396.90   9.14  21.6\n",
              "2  0.02729   0.0   7.07   0.0  0.469  ...  242.0     17.8  392.83   4.03  34.7\n",
              "3  0.03237   0.0   2.18   0.0  0.458  ...  222.0     18.7  394.63   2.94  33.4\n",
              "4  0.06905   0.0   2.18   0.0  0.458  ...  222.0     18.7  396.90   5.33  36.2\n",
              "\n",
              "[5 rows x 14 columns]"
            ]
          },
          "metadata": {
            "tags": []
          },
          "execution_count": 2
        }
      ]
    },
    {
      "cell_type": "markdown",
      "metadata": {
        "id": "3MIW3gjDwoeK"
      },
      "source": [
        "A description of each of the variables can be seen below:\n",
        "- CRIM - per capita crime rate by town\n",
        "- ZN - proportion of residential land zoned for lots over 25,000 sq.ft.\n",
        "- INDUS - proportion of non-retail business acres per town.\n",
        "- CHAS - Charles River dummy variable (1 if tract bounds river; 0 otherwise)\n",
        "- NOX - nitric oxides concentration (parts per 10 million)\n",
        "- RM - average number of rooms per dwelling\n",
        "- AGE - proportion of owner-occupied units built prior to 1940\n",
        "- DIS - weighted distances to five Boston employment centres\n",
        "- RAD - index of accessibility to radial highways\n",
        "- TAX - full-value property-tax rate per 10,000 dollars\n",
        "- PTRATIO - pupil-teacher ratio by town\n",
        "- B - $1000(B_k - 0.63)^2$ where $B_k$ is the proportion of blacks by town\n",
        "- LSTAT - % lower status of the population\n",
        "- MEDV - Median value of owner-occupied homes in 1000's of dollars"
      ]
    },
    {
      "cell_type": "markdown",
      "metadata": {
        "id": "CqQDwS52xJG_"
      },
      "source": [
        "We're going to be using the dataset to predict MEDV."
      ]
    },
    {
      "cell_type": "code",
      "metadata": {
        "id": "fyp1OVF3wAD4"
      },
      "source": [
        "# Using a random state of 42, create a train/test set with a test set ratio of 0.20\n",
        "X_train,X_test,y_train,y_test=train_test_split(data.iloc[:,:-1],data['MEDV'],test_size=0.2,random_state=42)"
      ],
      "execution_count": 10,
      "outputs": []
    },
    {
      "cell_type": "code",
      "metadata": {
        "id": "4l-RzvIXweqg",
        "colab": {
          "base_uri": "https://localhost:8080/"
        },
        "outputId": "b22123c8-7682-43da-cb90-0eed5b8f68a2"
      },
      "source": [
        "# Fit a Random Forest with the the following hyperparameters:\n",
        "# max_samples = 100, max_depth = 10, n_estimators = 100\n",
        "#for i in [X_train,x_test,y_train,y_test]:\n",
        "#  print(i.describe())\n",
        "# Instantiate model with 1000 decision trees\n",
        "# Train the model on training data\n",
        "RFR=RandomForestRegressor(n_estimators=100,max_samples=100,max_depth=10,random_state=42)\n",
        "RFR.fit(X_train,y_train)"
      ],
      "execution_count": 11,
      "outputs": [
        {
          "output_type": "execute_result",
          "data": {
            "text/plain": [
              "RandomForestRegressor(bootstrap=True, ccp_alpha=0.0, criterion='mse',\n",
              "                      max_depth=10, max_features='auto', max_leaf_nodes=None,\n",
              "                      max_samples=100, min_impurity_decrease=0.0,\n",
              "                      min_impurity_split=None, min_samples_leaf=1,\n",
              "                      min_samples_split=2, min_weight_fraction_leaf=0.0,\n",
              "                      n_estimators=100, n_jobs=None, oob_score=False,\n",
              "                      random_state=42, verbose=0, warm_start=False)"
            ]
          },
          "metadata": {
            "tags": []
          },
          "execution_count": 11
        }
      ]
    },
    {
      "cell_type": "code",
      "metadata": {
        "id": "zImZVZTryHDU"
      },
      "source": [
        "# Predict on the test set\n",
        "predicts=RFR.predict(x_test)"
      ],
      "execution_count": 15,
      "outputs": []
    },
    {
      "cell_type": "code",
      "metadata": {
        "id": "X1TZb3hQyTct",
        "colab": {
          "base_uri": "https://localhost:8080/"
        },
        "outputId": "bb4cdcdd-e233-4a56-a412-b5f11ef01cd5"
      },
      "source": [
        "# Calculate both the MSE and the R2 score`\n",
        "from sklearn.metrics import mean_squared_error, r2_score, mean_absolute_error\n",
        "\n",
        "# Mean absolute error (MAE)\n",
        "mae = mean_absolute_error(y_test.values.ravel(), predicts)\n",
        "\n",
        "# Mean squared error (MSE)\n",
        "mse = mean_squared_error(y_test.values.ravel(), predicts)\n",
        "\n",
        "# R-squared scores\n",
        "r2 = r2_score(y_test.values.ravel(), predicts)\n",
        "\n",
        "# Print metrics\n",
        "print('Mean Absolute Error:', round(mae, 2))\n",
        "print('Mean Squared Error:', round(mse, 2))\n",
        "print('R-squared scores:', round(r2, 2))\n",
        "\n"
      ],
      "execution_count": 16,
      "outputs": [
        {
          "output_type": "stream",
          "text": [
            "Mean Absolute Error: 2.21\n",
            "Mean Squared Error: 13.16\n",
            "R-squared scores: 0.82\n"
          ],
          "name": "stdout"
        }
      ]
    },
    {
      "cell_type": "code",
      "metadata": {
        "id": "o0H53rTyzCFR"
      },
      "source": [
        "# Plot the variable importance with the variable importance on the y-axis and the feature names on the x-axis\n",
        "# INSERT CODE HERE\n",
        "# What are the two most important variables?\n",
        "# INSERT ANSWERS HERE\n"
      ],
      "execution_count": null,
      "outputs": []
    },
    {
      "cell_type": "markdown",
      "metadata": {
        "id": "HpWBBs5F1iDr"
      },
      "source": [
        "# Hyperparameter Optimization\n",
        "Now we're going to try to use the optimal hyperparameters of the Random Forest algorithm using Grid Search in addition to cross validation"
      ]
    },
    {
      "cell_type": "code",
      "metadata": {
        "id": "OMG9lSAJ2n5z"
      },
      "source": [
        "data.shape"
      ],
      "execution_count": null,
      "outputs": []
    },
    {
      "cell_type": "code",
      "metadata": {
        "id": "KNGaLH2C1VZ8"
      },
      "source": [
        "from sklearn.model_selection import GridSearchCV\n",
        "\n",
        "# View all the possible hyperparameters to use\n",
        "model.get_params()"
      ],
      "execution_count": null,
      "outputs": []
    },
    {
      "cell_type": "code",
      "metadata": {
        "id": "ECWn00E52C4L"
      },
      "source": [
        "# Create the parameter grid for only max_depth, n_estimators (number of trees), max_features (number of features) and max_samples (maximum number of observations)\n",
        "param_grid = {\n",
        "    'max_depth': list(range(0, 51, 10)),\n",
        "    'n_estimators': list(range(60, 161, 20)),\n",
        "    'max_features': ['auto', 'sqrt', None],\n",
        "    'max_samples': list(range(6, 507, 100))\n",
        "}"
      ],
      "execution_count": null,
      "outputs": []
    },
    {
      "cell_type": "code",
      "metadata": {
        "id": "i9LI3Eui3YkD"
      },
      "source": [
        "# Initialize a random forest model\n",
        "# INSERT CODE HERE"
      ],
      "execution_count": null,
      "outputs": []
    },
    {
      "cell_type": "code",
      "metadata": {
        "id": "LzRN1PRz2tKT"
      },
      "source": [
        "# Perform a grid search using the following parameter list.\n",
        "grid_search = GridSearchCV(\n",
        "    estimator = model,\n",
        "    param_grid = param_grid,\n",
        "    cv = 3,\n",
        "    n_jobs = -1,\n",
        "    verbose = 2\n",
        ")\n",
        "\n",
        "# Fit the model to the data (this may take a couple minutes)\n",
        "# INSERT CODE HERE"
      ],
      "execution_count": null,
      "outputs": []
    },
    {
      "cell_type": "code",
      "metadata": {
        "id": "NqBsg3rz2ufh"
      },
      "source": [
        "# Output the best parameters\n",
        "# INSERT CODE HERE"
      ],
      "execution_count": null,
      "outputs": []
    },
    {
      "cell_type": "code",
      "metadata": {
        "id": "uX8TQifH30t2"
      },
      "source": [
        "# Using the best parameters, evaluate the MSE and R2 of a new random forest model.\n",
        "# INSERT CODE HERE"
      ],
      "execution_count": null,
      "outputs": []
    }
  ]
}