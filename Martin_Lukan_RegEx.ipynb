{
  "nbformat": 4,
  "nbformat_minor": 0,
  "metadata": {
    "colab": {
      "name": "Martin  Lukan  RegEx.ipynb",
      "provenance": [],
      "collapsed_sections": [],
      "include_colab_link": true
    },
    "kernelspec": {
      "name": "python3",
      "display_name": "Python 3"
    }
  },
  "cells": [
    {
      "cell_type": "markdown",
      "metadata": {
        "id": "view-in-github",
        "colab_type": "text"
      },
      "source": [
        "<a href=\"https://colab.research.google.com/github/mlukan/GDA3B2021/blob/main/Martin_Lukan_RegEx.ipynb\" target=\"_parent\"><img src=\"https://colab.research.google.com/assets/colab-badge.svg\" alt=\"Open In Colab\"/></a>"
      ]
    },
    {
      "cell_type": "code",
      "metadata": {
        "id": "qZRZHUqjxhvH"
      },
      "source": [
        "import re"
      ],
      "execution_count": 3,
      "outputs": []
    },
    {
      "cell_type": "code",
      "metadata": {
        "id": "u_1sj7UPxyTH"
      },
      "source": [
        "txt = \"\"\"\n",
        "Matrix (31/03/1999) - 130 minutes\n",
        "\n",
        "IMDB note 9/10 (https://www.imdb.com/title/tt0133093)\n",
        "\n",
        "Thomas A. Anderson (Keanu Reeves), a young computer scientist known in the hacking world as Neo, is contacted via his computer by what he thinks is a group of hackers. They make him discover that the world he lives in is only a virtual world, the matrix, in which human beings are kept under control.\n",
        "\n",
        "Morpheus (Laurence Fishburne), the captain of the Nebuchadnezzar, contacts Neo and believes he is the Chosen One who can free human beings from the yoke of machines and take control of the Matrix.\n",
        "\n",
        "\"\"\""
      ],
      "execution_count": 4,
      "outputs": []
    },
    {
      "cell_type": "code",
      "metadata": {
        "id": "YKZevioT1sKN",
        "colab": {
          "base_uri": "https://localhost:8080/"
        },
        "outputId": "b4e2a56d-463f-4d48-f5d1-d664e6250c30"
      },
      "source": [
        "# Example of how to use the regex library in python.\n",
        "\n",
        "# Finding all occurrances of \"Matrix\":\n",
        "number_of_occurences = len(re.findall(\"Matrix\", txt))\n",
        "print(f'The word \"Matrix\" appears {number_of_occurences} times in the text.')\n",
        "\n",
        "# Finding how many numbers are in the text:\n",
        "number_of_occurences = len(re.findall(\"[0-9]\", txt))\n",
        "print(f'There are {number_of_occurences} total numbers within the text.')"
      ],
      "execution_count": 6,
      "outputs": [
        {
          "output_type": "stream",
          "text": [
            "The word \"Matrix\" appears 2 times in the text.\n",
            "There are 21 total numbers within the text.\n"
          ],
          "name": "stdout"
        }
      ]
    },
    {
      "cell_type": "code",
      "metadata": {
        "id": "1jSIbBgAzP03",
        "colab": {
          "base_uri": "https://localhost:8080/"
        },
        "outputId": "01d168b1-1e05-45c5-ebbd-c6d1ebc9f4c0"
      },
      "source": [
        "# Task 1: Make a regular expression that counts the amount of times that Neo's middle name appears\n",
        "# (i.e. the \"A.\" of \"Thomas A. Anderson\")\n",
        "# INSERT CODE HERE\n",
        "neo=re.findall(\"A\\.\",txt)\n",
        "print(neo,len(neo))\n"
      ],
      "execution_count": 9,
      "outputs": [
        {
          "output_type": "stream",
          "text": [
            "['A.'] 1\n"
          ],
          "name": "stdout"
        }
      ]
    },
    {
      "cell_type": "code",
      "metadata": {
        "id": "9drf__hB087f",
        "colab": {
          "base_uri": "https://localhost:8080/"
        },
        "outputId": "95e5c738-8c65-4db4-d91b-672938729cbe"
      },
      "source": [
        "# Task 2: Make a regular expression that counts the amount of times a date appears in the document.\n",
        "# HINT: Do not look for the date itself but rather for two digits and a slash followed by another two digits and a slash followed by four digits.\n",
        "len(re.findall('\\d{2}/\\d{2}/\\d{4}',txt))"
      ],
      "execution_count": 12,
      "outputs": [
        {
          "output_type": "execute_result",
          "data": {
            "text/plain": [
              "1"
            ]
          },
          "metadata": {
            "tags": []
          },
          "execution_count": 12
        }
      ]
    },
    {
      "cell_type": "code",
      "metadata": {
        "id": "SoMfXTCY1Iw7",
        "colab": {
          "base_uri": "https://localhost:8080/"
        },
        "outputId": "113ed304-5c42-493a-e50d-15ab821776fe"
      },
      "source": [
        "# Task 3: Make a regular expression that looks for a data in the text, without selecting the year of that date.\n",
        "# HINT: It is not a question of searching directly for the date itself, but rather looking for a number and a slash followed by two numbers.\n",
        "re.findall('\\d{2}/\\d{2}',txt)"
      ],
      "execution_count": 15,
      "outputs": [
        {
          "output_type": "execute_result",
          "data": {
            "text/plain": [
              "['31/03']"
            ]
          },
          "metadata": {
            "tags": []
          },
          "execution_count": 15
        }
      ]
    },
    {
      "cell_type": "code",
      "metadata": {
        "id": "KbfFWJnu1abL",
        "colab": {
          "base_uri": "https://localhost:8080/"
        },
        "outputId": "979cb202-305a-4f05-d6b8-8c9487c8b4fc"
      },
      "source": [
        "# Task 4: Find the regular expression that returns words with at least 14 characters.\n",
        "re.findall('\\w{14,}',txt)"
      ],
      "execution_count": 17,
      "outputs": [
        {
          "output_type": "execute_result",
          "data": {
            "text/plain": [
              "['Nebuchadnezzar']"
            ]
          },
          "metadata": {
            "tags": []
          },
          "execution_count": 17
        }
      ]
    },
    {
      "cell_type": "code",
      "metadata": {
        "id": "2piF8ByC1hBK",
        "colab": {
          "base_uri": "https://localhost:8080/"
        },
        "outputId": "c3286f31-9148-44ce-a7fa-d89471ff320a"
      },
      "source": [
        "# Task 5: Find the regular expression that selects only the unique parts of the following links:\n",
        "mytxt=\"\\\n",
        "# https://www.imdb.com/title/tt0133093 \\\n",
        "# https://www.imdb.com/title/tt0167261 \\\n",
        "# https://www.imdb.com/title/tt0468569 \\\n",
        "\"\n",
        "# For example, the three strings that should be extracted are \"tt0133093\", \"tt0167261\", and \"tt0468569\"\n",
        "re.findall('https://www.imdb.com/title/(\\w{9})',mytxt)"
      ],
      "execution_count": 33,
      "outputs": [
        {
          "output_type": "execute_result",
          "data": {
            "text/plain": [
              "['tt0133093', 'tt0167261', 'tt0468569']"
            ]
          },
          "metadata": {
            "tags": []
          },
          "execution_count": 33
        }
      ]
    },
    {
      "cell_type": "code",
      "metadata": {
        "id": "1CXWwQo4BXaM"
      },
      "source": [
        ""
      ],
      "execution_count": null,
      "outputs": []
    }
  ]
}