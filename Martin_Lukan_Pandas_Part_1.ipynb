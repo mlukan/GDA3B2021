{
  "nbformat": 4,
  "nbformat_minor": 0,
  "metadata": {
    "colab": {
      "name": "Martin Lukan Pandas - Part 1.ipynb",
      "provenance": [],
      "collapsed_sections": [],
      "include_colab_link": true
    },
    "kernelspec": {
      "name": "python3",
      "display_name": "Python 3"
    }
  },
  "cells": [
    {
      "cell_type": "markdown",
      "metadata": {
        "id": "view-in-github",
        "colab_type": "text"
      },
      "source": [
        "<a href=\"https://colab.research.google.com/github/mlukan/GDA3B2021/blob/main/Martin_Lukan_Pandas_Part_1.ipynb\" target=\"_parent\"><img src=\"https://colab.research.google.com/assets/colab-badge.svg\" alt=\"Open In Colab\"/></a>"
      ]
    },
    {
      "cell_type": "markdown",
      "metadata": {
        "id": "iGmmrwi0cC08"
      },
      "source": [
        "# Mission 1\n",
        "\n",
        "![](https://i.imgur.com/Ax3pp2A.png)\n",
        "\n",
        "\n",
        "Create a \"fruit\" dataframe that reflects the above example **using a list** data structure\n",
        "\n",
        "[This resource could help you.](https://www.geeksforgeeks.org/create-a-pandas-dataframe-from-lists/)"
      ]
    },
    {
      "cell_type": "code",
      "metadata": {
        "id": "qaxzkL8aaM3O",
        "colab": {
          "base_uri": "https://localhost:8080/",
          "height": 80
        },
        "outputId": "2c8a1cba-fb43-4801-bfd3-9310d01f047f"
      },
      "source": [
        "import pandas as pd\n",
        "fruit=pd.DataFrame([[30,21]],columns=['Apples','Bananas'])\n",
        "fruit"
      ],
      "execution_count": 2,
      "outputs": [
        {
          "output_type": "execute_result",
          "data": {
            "text/html": [
              "<div>\n",
              "<style scoped>\n",
              "    .dataframe tbody tr th:only-of-type {\n",
              "        vertical-align: middle;\n",
              "    }\n",
              "\n",
              "    .dataframe tbody tr th {\n",
              "        vertical-align: top;\n",
              "    }\n",
              "\n",
              "    .dataframe thead th {\n",
              "        text-align: right;\n",
              "    }\n",
              "</style>\n",
              "<table border=\"1\" class=\"dataframe\">\n",
              "  <thead>\n",
              "    <tr style=\"text-align: right;\">\n",
              "      <th></th>\n",
              "      <th>Apples</th>\n",
              "      <th>Bananas</th>\n",
              "    </tr>\n",
              "  </thead>\n",
              "  <tbody>\n",
              "    <tr>\n",
              "      <th>0</th>\n",
              "      <td>30</td>\n",
              "      <td>21</td>\n",
              "    </tr>\n",
              "  </tbody>\n",
              "</table>\n",
              "</div>"
            ],
            "text/plain": [
              "   Apples  Bananas\n",
              "0      30       21"
            ]
          },
          "metadata": {
            "tags": []
          },
          "execution_count": 2
        }
      ]
    },
    {
      "cell_type": "markdown",
      "metadata": {
        "id": "SyGDBMkkcQ9W"
      },
      "source": [
        "# Mission 2\n",
        "\n",
        "Create a \"fruit_vendors\" dataframe that reflects the below example **using a dictionary** data structure\n",
        "\n",
        "![](https://i.imgur.com/CHPn7ZF.png)\n",
        "\n",
        "[This resource could help you.](https://pandas.pydata.org/pandas-docs/stable/reference/api/pandas.DataFrame.from_dict.html)"
      ]
    },
    {
      "cell_type": "code",
      "metadata": {
        "id": "K-giWZ5hcdRv",
        "colab": {
          "base_uri": "https://localhost:8080/",
          "height": 111
        },
        "outputId": "c5fb722f-ef49-4992-d024-caab8ac3bde5"
      },
      "source": [
        "fruit_vendors=pd.DataFrame.from_dict({\"Apples\":{'2017 Sales':35,\"2018 Sales\":41},\"Bananas\":{\"2017 Sales\":21,\"2018 Sales\":34}})\n",
        "fruit_vendors"
      ],
      "execution_count": 7,
      "outputs": [
        {
          "output_type": "execute_result",
          "data": {
            "text/html": [
              "<div>\n",
              "<style scoped>\n",
              "    .dataframe tbody tr th:only-of-type {\n",
              "        vertical-align: middle;\n",
              "    }\n",
              "\n",
              "    .dataframe tbody tr th {\n",
              "        vertical-align: top;\n",
              "    }\n",
              "\n",
              "    .dataframe thead th {\n",
              "        text-align: right;\n",
              "    }\n",
              "</style>\n",
              "<table border=\"1\" class=\"dataframe\">\n",
              "  <thead>\n",
              "    <tr style=\"text-align: right;\">\n",
              "      <th></th>\n",
              "      <th>Apples</th>\n",
              "      <th>Bananas</th>\n",
              "    </tr>\n",
              "  </thead>\n",
              "  <tbody>\n",
              "    <tr>\n",
              "      <th>2017 Sales</th>\n",
              "      <td>35</td>\n",
              "      <td>21</td>\n",
              "    </tr>\n",
              "    <tr>\n",
              "      <th>2018 Sales</th>\n",
              "      <td>41</td>\n",
              "      <td>34</td>\n",
              "    </tr>\n",
              "  </tbody>\n",
              "</table>\n",
              "</div>"
            ],
            "text/plain": [
              "            Apples  Bananas\n",
              "2017 Sales      35       21\n",
              "2018 Sales      41       34"
            ]
          },
          "metadata": {
            "tags": []
          },
          "execution_count": 7
        }
      ]
    },
    {
      "cell_type": "markdown",
      "metadata": {
        "id": "XXBoq2QQeaWV"
      },
      "source": [
        "# Mission 3\n",
        "\n",
        "Use a loop to display the values from each column in the dataframe from mission 2.\n"
      ]
    },
    {
      "cell_type": "code",
      "metadata": {
        "id": "0Gjh7zAwejGv",
        "colab": {
          "base_uri": "https://localhost:8080/"
        },
        "outputId": "e97d59fe-d178-4854-cbf1-cc7810d96971"
      },
      "source": [
        "for i in fruit_vendors:\n",
        "  print(fruit_vendors[i])"
      ],
      "execution_count": 14,
      "outputs": [
        {
          "output_type": "stream",
          "text": [
            "2017 Sales    35\n",
            "2018 Sales    41\n",
            "Name: Apples, dtype: int64\n",
            "2017 Sales    21\n",
            "2018 Sales    34\n",
            "Name: Bananas, dtype: int64\n"
          ],
          "name": "stdout"
        }
      ]
    },
    {
      "cell_type": "markdown",
      "metadata": {
        "id": "FJsldb56eCZ0"
      },
      "source": [
        "# Mission 4\n",
        "\n",
        "Delete line 1 of the dataframe from mission 2\n",
        "\n",
        "[This resource could help you.](https://pandas.pydata.org/pandas-docs/stable/reference/api/pandas.DataFrame.drop.html)"
      ]
    },
    {
      "cell_type": "code",
      "metadata": {
        "id": "8NvM_j35gJTZ",
        "colab": {
          "base_uri": "https://localhost:8080/",
          "height": 80
        },
        "outputId": "7737b625-d1cc-47d0-bf25-e5cf8bd05c58"
      },
      "source": [
        "fruit_vendors.drop('2017 Sales')"
      ],
      "execution_count": 15,
      "outputs": [
        {
          "output_type": "execute_result",
          "data": {
            "text/html": [
              "<div>\n",
              "<style scoped>\n",
              "    .dataframe tbody tr th:only-of-type {\n",
              "        vertical-align: middle;\n",
              "    }\n",
              "\n",
              "    .dataframe tbody tr th {\n",
              "        vertical-align: top;\n",
              "    }\n",
              "\n",
              "    .dataframe thead th {\n",
              "        text-align: right;\n",
              "    }\n",
              "</style>\n",
              "<table border=\"1\" class=\"dataframe\">\n",
              "  <thead>\n",
              "    <tr style=\"text-align: right;\">\n",
              "      <th></th>\n",
              "      <th>Apples</th>\n",
              "      <th>Bananas</th>\n",
              "    </tr>\n",
              "  </thead>\n",
              "  <tbody>\n",
              "    <tr>\n",
              "      <th>2018 Sales</th>\n",
              "      <td>41</td>\n",
              "      <td>34</td>\n",
              "    </tr>\n",
              "  </tbody>\n",
              "</table>\n",
              "</div>"
            ],
            "text/plain": [
              "            Apples  Bananas\n",
              "2018 Sales      41       34"
            ]
          },
          "metadata": {
            "tags": []
          },
          "execution_count": 15
        }
      ]
    },
    {
      "cell_type": "markdown",
      "metadata": {
        "id": "-XdmcyLqe66p"
      },
      "source": [
        "# Mission 5\n",
        "\n",
        "Delete column 1 from the dataframe from mission 2.\n"
      ]
    },
    {
      "cell_type": "code",
      "metadata": {
        "id": "g9l_0VqghJn9",
        "colab": {
          "base_uri": "https://localhost:8080/",
          "height": 111
        },
        "outputId": "2765bad8-d12d-400a-d35a-3d3f7b151168"
      },
      "source": [
        "fruit_vendors.drop(columns='Apples')"
      ],
      "execution_count": 16,
      "outputs": [
        {
          "output_type": "execute_result",
          "data": {
            "text/html": [
              "<div>\n",
              "<style scoped>\n",
              "    .dataframe tbody tr th:only-of-type {\n",
              "        vertical-align: middle;\n",
              "    }\n",
              "\n",
              "    .dataframe tbody tr th {\n",
              "        vertical-align: top;\n",
              "    }\n",
              "\n",
              "    .dataframe thead th {\n",
              "        text-align: right;\n",
              "    }\n",
              "</style>\n",
              "<table border=\"1\" class=\"dataframe\">\n",
              "  <thead>\n",
              "    <tr style=\"text-align: right;\">\n",
              "      <th></th>\n",
              "      <th>Bananas</th>\n",
              "    </tr>\n",
              "  </thead>\n",
              "  <tbody>\n",
              "    <tr>\n",
              "      <th>2017 Sales</th>\n",
              "      <td>21</td>\n",
              "    </tr>\n",
              "    <tr>\n",
              "      <th>2018 Sales</th>\n",
              "      <td>34</td>\n",
              "    </tr>\n",
              "  </tbody>\n",
              "</table>\n",
              "</div>"
            ],
            "text/plain": [
              "            Bananas\n",
              "2017 Sales       21\n",
              "2018 Sales       34"
            ]
          },
          "metadata": {
            "tags": []
          },
          "execution_count": 16
        }
      ]
    },
    {
      "cell_type": "code",
      "metadata": {
        "colab": {
          "base_uri": "https://localhost:8080/",
          "height": 111
        },
        "id": "GN6O0EEZJ6q7",
        "outputId": "283139ee-408d-46eb-8166-415bc0a589e5"
      },
      "source": [
        "fruit_vendors.drop(fruit_vendors.columns[0],axis = 1)"
      ],
      "execution_count": 19,
      "outputs": [
        {
          "output_type": "execute_result",
          "data": {
            "text/html": [
              "<div>\n",
              "<style scoped>\n",
              "    .dataframe tbody tr th:only-of-type {\n",
              "        vertical-align: middle;\n",
              "    }\n",
              "\n",
              "    .dataframe tbody tr th {\n",
              "        vertical-align: top;\n",
              "    }\n",
              "\n",
              "    .dataframe thead th {\n",
              "        text-align: right;\n",
              "    }\n",
              "</style>\n",
              "<table border=\"1\" class=\"dataframe\">\n",
              "  <thead>\n",
              "    <tr style=\"text-align: right;\">\n",
              "      <th></th>\n",
              "      <th>Bananas</th>\n",
              "    </tr>\n",
              "  </thead>\n",
              "  <tbody>\n",
              "    <tr>\n",
              "      <th>2017 Sales</th>\n",
              "      <td>21</td>\n",
              "    </tr>\n",
              "    <tr>\n",
              "      <th>2018 Sales</th>\n",
              "      <td>34</td>\n",
              "    </tr>\n",
              "  </tbody>\n",
              "</table>\n",
              "</div>"
            ],
            "text/plain": [
              "            Bananas\n",
              "2017 Sales       21\n",
              "2018 Sales       34"
            ]
          },
          "metadata": {
            "tags": []
          },
          "execution_count": 19
        }
      ]
    },
    {
      "cell_type": "code",
      "metadata": {
        "id": "O8WTSqhXKAX6"
      },
      "source": [
        ""
      ],
      "execution_count": null,
      "outputs": []
    }
  ]
}