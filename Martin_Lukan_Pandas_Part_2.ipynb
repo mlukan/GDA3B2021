{
  "nbformat": 4,
  "nbformat_minor": 0,
  "metadata": {
    "colab": {
      "name": "Martin Lukan Pandas - Part 2.ipynb",
      "provenance": [],
      "collapsed_sections": [],
      "include_colab_link": true
    },
    "kernelspec": {
      "name": "python3",
      "display_name": "Python 3"
    }
  },
  "cells": [
    {
      "cell_type": "markdown",
      "metadata": {
        "id": "view-in-github",
        "colab_type": "text"
      },
      "source": [
        "<a href=\"https://colab.research.google.com/github/mlukan/GDA3B2021/blob/main/Martin_Lukan_Pandas_Part_2.ipynb\" target=\"_parent\"><img src=\"https://colab.research.google.com/assets/colab-badge.svg\" alt=\"Open In Colab\"/></a>"
      ]
    },
    {
      "cell_type": "markdown",
      "metadata": {
        "id": "vPeraeSVmy3l"
      },
      "source": [
        "# Mission 1\n",
        "\n",
        "Display the following information for this dataset: http://bit.ly/movieusers\n",
        "- The last 5 rows\n",
        "- The first 5 rows\n",
        "- The type of each column\n",
        "\n",
        "Note : start coding something by typing `pd.read...` and explore the different options available, especially the `sep` parameter.\n"
      ]
    },
    {
      "cell_type": "code",
      "metadata": {
        "id": "hYiMPyQjnDiX",
        "colab": {
          "base_uri": "https://localhost:8080/"
        },
        "outputId": "1d560743-64c6-4439-e733-5904c8748cf8"
      },
      "source": [
        "import pandas as pd\n",
        "import urllib\n",
        "#f = urllib. request. urlopen('http://bit.ly/movieusers')\n",
        "#print(f.readlines()[:9])\n",
        "moviedf =pd.read_csv('http://bit.ly/movieusers', sep='|')\n",
        "moviedf.head()\n",
        "moviedf.tail()\n",
        "moviedf.dtypes"
      ],
      "execution_count": 8,
      "outputs": [
        {
          "output_type": "execute_result",
          "data": {
            "text/plain": [
              "1              int64\n",
              "24             int64\n",
              "M             object\n",
              "technician    object\n",
              "85711         object\n",
              "dtype: object"
            ]
          },
          "metadata": {
            "tags": []
          },
          "execution_count": 8
        }
      ]
    },
    {
      "cell_type": "markdown",
      "metadata": {
        "id": "FBZHvmA4m0Hp"
      },
      "source": [
        "# Mission 2\n",
        "\n",
        "Display the first 10 rows in the following file: http://bit.ly/drinksbycountry\n"
      ]
    },
    {
      "cell_type": "code",
      "metadata": {
        "id": "tEarIThhnjtj",
        "colab": {
          "base_uri": "https://localhost:8080/",
          "height": 359
        },
        "outputId": "1c251079-d0aa-479a-e394-30e82e08880f"
      },
      "source": [
        "\n",
        "drinksdf = pd.read_csv('http://bit.ly/drinksbycountry', sep=',')\n",
        "drinksdf.head(10)"
      ],
      "execution_count": 10,
      "outputs": [
        {
          "output_type": "execute_result",
          "data": {
            "text/html": [
              "<div>\n",
              "<style scoped>\n",
              "    .dataframe tbody tr th:only-of-type {\n",
              "        vertical-align: middle;\n",
              "    }\n",
              "\n",
              "    .dataframe tbody tr th {\n",
              "        vertical-align: top;\n",
              "    }\n",
              "\n",
              "    .dataframe thead th {\n",
              "        text-align: right;\n",
              "    }\n",
              "</style>\n",
              "<table border=\"1\" class=\"dataframe\">\n",
              "  <thead>\n",
              "    <tr style=\"text-align: right;\">\n",
              "      <th></th>\n",
              "      <th>country</th>\n",
              "      <th>beer_servings</th>\n",
              "      <th>spirit_servings</th>\n",
              "      <th>wine_servings</th>\n",
              "      <th>total_litres_of_pure_alcohol</th>\n",
              "      <th>continent</th>\n",
              "    </tr>\n",
              "  </thead>\n",
              "  <tbody>\n",
              "    <tr>\n",
              "      <th>0</th>\n",
              "      <td>Afghanistan</td>\n",
              "      <td>0</td>\n",
              "      <td>0</td>\n",
              "      <td>0</td>\n",
              "      <td>0.0</td>\n",
              "      <td>Asia</td>\n",
              "    </tr>\n",
              "    <tr>\n",
              "      <th>1</th>\n",
              "      <td>Albania</td>\n",
              "      <td>89</td>\n",
              "      <td>132</td>\n",
              "      <td>54</td>\n",
              "      <td>4.9</td>\n",
              "      <td>Europe</td>\n",
              "    </tr>\n",
              "    <tr>\n",
              "      <th>2</th>\n",
              "      <td>Algeria</td>\n",
              "      <td>25</td>\n",
              "      <td>0</td>\n",
              "      <td>14</td>\n",
              "      <td>0.7</td>\n",
              "      <td>Africa</td>\n",
              "    </tr>\n",
              "    <tr>\n",
              "      <th>3</th>\n",
              "      <td>Andorra</td>\n",
              "      <td>245</td>\n",
              "      <td>138</td>\n",
              "      <td>312</td>\n",
              "      <td>12.4</td>\n",
              "      <td>Europe</td>\n",
              "    </tr>\n",
              "    <tr>\n",
              "      <th>4</th>\n",
              "      <td>Angola</td>\n",
              "      <td>217</td>\n",
              "      <td>57</td>\n",
              "      <td>45</td>\n",
              "      <td>5.9</td>\n",
              "      <td>Africa</td>\n",
              "    </tr>\n",
              "    <tr>\n",
              "      <th>5</th>\n",
              "      <td>Antigua &amp; Barbuda</td>\n",
              "      <td>102</td>\n",
              "      <td>128</td>\n",
              "      <td>45</td>\n",
              "      <td>4.9</td>\n",
              "      <td>North America</td>\n",
              "    </tr>\n",
              "    <tr>\n",
              "      <th>6</th>\n",
              "      <td>Argentina</td>\n",
              "      <td>193</td>\n",
              "      <td>25</td>\n",
              "      <td>221</td>\n",
              "      <td>8.3</td>\n",
              "      <td>South America</td>\n",
              "    </tr>\n",
              "    <tr>\n",
              "      <th>7</th>\n",
              "      <td>Armenia</td>\n",
              "      <td>21</td>\n",
              "      <td>179</td>\n",
              "      <td>11</td>\n",
              "      <td>3.8</td>\n",
              "      <td>Europe</td>\n",
              "    </tr>\n",
              "    <tr>\n",
              "      <th>8</th>\n",
              "      <td>Australia</td>\n",
              "      <td>261</td>\n",
              "      <td>72</td>\n",
              "      <td>212</td>\n",
              "      <td>10.4</td>\n",
              "      <td>Oceania</td>\n",
              "    </tr>\n",
              "    <tr>\n",
              "      <th>9</th>\n",
              "      <td>Austria</td>\n",
              "      <td>279</td>\n",
              "      <td>75</td>\n",
              "      <td>191</td>\n",
              "      <td>9.7</td>\n",
              "      <td>Europe</td>\n",
              "    </tr>\n",
              "  </tbody>\n",
              "</table>\n",
              "</div>"
            ],
            "text/plain": [
              "             country  ...      continent\n",
              "0        Afghanistan  ...           Asia\n",
              "1            Albania  ...         Europe\n",
              "2            Algeria  ...         Africa\n",
              "3            Andorra  ...         Europe\n",
              "4             Angola  ...         Africa\n",
              "5  Antigua & Barbuda  ...  North America\n",
              "6          Argentina  ...  South America\n",
              "7            Armenia  ...         Europe\n",
              "8          Australia  ...        Oceania\n",
              "9            Austria  ...         Europe\n",
              "\n",
              "[10 rows x 6 columns]"
            ]
          },
          "metadata": {
            "tags": []
          },
          "execution_count": 10
        }
      ]
    },
    {
      "cell_type": "markdown",
      "metadata": {
        "id": "GDYdX4GhVqcv"
      },
      "source": [
        "Set the \"country\" column as the index for the dataframe."
      ]
    },
    {
      "cell_type": "code",
      "metadata": {
        "id": "v6UStsirVonR"
      },
      "source": [
        "drinksdf = drinksdf.set_index('country')"
      ],
      "execution_count": 15,
      "outputs": []
    },
    {
      "cell_type": "markdown",
      "metadata": {
        "id": "4c0iWWwbm0J-"
      },
      "source": [
        "# Mission 3\n",
        "\n",
        "Access the values of the row for **Zimbabwe** (use the index value)  "
      ]
    },
    {
      "cell_type": "code",
      "metadata": {
        "id": "FJfMGNdXq9A4",
        "colab": {
          "base_uri": "https://localhost:8080/"
        },
        "outputId": "a08f598a-ea1e-4ef7-fe19-15a79c4912c8"
      },
      "source": [
        "drinksdf.loc[\"Zimbabwe\",:]\n"
      ],
      "execution_count": 17,
      "outputs": [
        {
          "output_type": "execute_result",
          "data": {
            "text/plain": [
              "beer_servings                       64\n",
              "spirit_servings                     18\n",
              "wine_servings                        4\n",
              "total_litres_of_pure_alcohol       4.7\n",
              "continent                       Africa\n",
              "Name: Zimbabwe, dtype: object"
            ]
          },
          "metadata": {
            "tags": []
          },
          "execution_count": 17
        }
      ]
    },
    {
      "cell_type": "markdown",
      "metadata": {
        "id": "U5q4qElxm0MH"
      },
      "source": [
        "# Mision 4\n",
        "\n",
        "Display only the \"continent\" column value for the country **Zimbabwe**. "
      ]
    },
    {
      "cell_type": "code",
      "metadata": {
        "id": "PiIjLs4erHy6",
        "colab": {
          "base_uri": "https://localhost:8080/",
          "height": 35
        },
        "outputId": "d577b131-cdd8-4530-c948-bcff82958de2"
      },
      "source": [
        "drinksdf.loc['Zimbabwe','continent']"
      ],
      "execution_count": 18,
      "outputs": [
        {
          "output_type": "execute_result",
          "data": {
            "application/vnd.google.colaboratory.intrinsic+json": {
              "type": "string"
            },
            "text/plain": [
              "'Africa'"
            ]
          },
          "metadata": {
            "tags": []
          },
          "execution_count": 18
        }
      ]
    },
    {
      "cell_type": "markdown",
      "metadata": {
        "id": "jrmdH5LirTPE"
      },
      "source": [
        "# Mission 5\n",
        "\n",
        "Rename the columns of this dataset: http://bit.ly/uforeports, try using the following 2 different methods to achieve this:\n",
        "- Setting column names directly when reading the file \n",
        "- Editing after creating the dataframe ([This resource could be useful](https://pandas.pydata.org/pandas-docs/stable/reference/api/pandas.DataFrame.rename.html))"
      ]
    },
    {
      "cell_type": "code",
      "metadata": {
        "id": "clMCInd-sqHC",
        "colab": {
          "base_uri": "https://localhost:8080/",
          "height": 419
        },
        "outputId": "3197a099-bdf3-4677-940b-074d8984d732"
      },
      "source": [
        "# Setting column names directly when reading the file\n",
        "portsdf = pd.read_csv('http://bit.ly/uforeports',sep=',', names=['city','color','shape','state','timestamp'],header=0)\n",
        "portsdf\n"
      ],
      "execution_count": 34,
      "outputs": [
        {
          "output_type": "execute_result",
          "data": {
            "text/html": [
              "<div>\n",
              "<style scoped>\n",
              "    .dataframe tbody tr th:only-of-type {\n",
              "        vertical-align: middle;\n",
              "    }\n",
              "\n",
              "    .dataframe tbody tr th {\n",
              "        vertical-align: top;\n",
              "    }\n",
              "\n",
              "    .dataframe thead th {\n",
              "        text-align: right;\n",
              "    }\n",
              "</style>\n",
              "<table border=\"1\" class=\"dataframe\">\n",
              "  <thead>\n",
              "    <tr style=\"text-align: right;\">\n",
              "      <th></th>\n",
              "      <th>city</th>\n",
              "      <th>color</th>\n",
              "      <th>shape</th>\n",
              "      <th>state</th>\n",
              "      <th>timestamp</th>\n",
              "    </tr>\n",
              "  </thead>\n",
              "  <tbody>\n",
              "    <tr>\n",
              "      <th>0</th>\n",
              "      <td>Ithaca</td>\n",
              "      <td>NaN</td>\n",
              "      <td>TRIANGLE</td>\n",
              "      <td>NY</td>\n",
              "      <td>6/1/1930 22:00</td>\n",
              "    </tr>\n",
              "    <tr>\n",
              "      <th>1</th>\n",
              "      <td>Willingboro</td>\n",
              "      <td>NaN</td>\n",
              "      <td>OTHER</td>\n",
              "      <td>NJ</td>\n",
              "      <td>6/30/1930 20:00</td>\n",
              "    </tr>\n",
              "    <tr>\n",
              "      <th>2</th>\n",
              "      <td>Holyoke</td>\n",
              "      <td>NaN</td>\n",
              "      <td>OVAL</td>\n",
              "      <td>CO</td>\n",
              "      <td>2/15/1931 14:00</td>\n",
              "    </tr>\n",
              "    <tr>\n",
              "      <th>3</th>\n",
              "      <td>Abilene</td>\n",
              "      <td>NaN</td>\n",
              "      <td>DISK</td>\n",
              "      <td>KS</td>\n",
              "      <td>6/1/1931 13:00</td>\n",
              "    </tr>\n",
              "    <tr>\n",
              "      <th>4</th>\n",
              "      <td>New York Worlds Fair</td>\n",
              "      <td>NaN</td>\n",
              "      <td>LIGHT</td>\n",
              "      <td>NY</td>\n",
              "      <td>4/18/1933 19:00</td>\n",
              "    </tr>\n",
              "    <tr>\n",
              "      <th>...</th>\n",
              "      <td>...</td>\n",
              "      <td>...</td>\n",
              "      <td>...</td>\n",
              "      <td>...</td>\n",
              "      <td>...</td>\n",
              "    </tr>\n",
              "    <tr>\n",
              "      <th>18236</th>\n",
              "      <td>Grant Park</td>\n",
              "      <td>NaN</td>\n",
              "      <td>TRIANGLE</td>\n",
              "      <td>IL</td>\n",
              "      <td>12/31/2000 23:00</td>\n",
              "    </tr>\n",
              "    <tr>\n",
              "      <th>18237</th>\n",
              "      <td>Spirit Lake</td>\n",
              "      <td>NaN</td>\n",
              "      <td>DISK</td>\n",
              "      <td>IA</td>\n",
              "      <td>12/31/2000 23:00</td>\n",
              "    </tr>\n",
              "    <tr>\n",
              "      <th>18238</th>\n",
              "      <td>Eagle River</td>\n",
              "      <td>NaN</td>\n",
              "      <td>NaN</td>\n",
              "      <td>WI</td>\n",
              "      <td>12/31/2000 23:45</td>\n",
              "    </tr>\n",
              "    <tr>\n",
              "      <th>18239</th>\n",
              "      <td>Eagle River</td>\n",
              "      <td>RED</td>\n",
              "      <td>LIGHT</td>\n",
              "      <td>WI</td>\n",
              "      <td>12/31/2000 23:45</td>\n",
              "    </tr>\n",
              "    <tr>\n",
              "      <th>18240</th>\n",
              "      <td>Ybor</td>\n",
              "      <td>NaN</td>\n",
              "      <td>OVAL</td>\n",
              "      <td>FL</td>\n",
              "      <td>12/31/2000 23:59</td>\n",
              "    </tr>\n",
              "  </tbody>\n",
              "</table>\n",
              "<p>18241 rows × 5 columns</p>\n",
              "</div>"
            ],
            "text/plain": [
              "                       city color     shape state         timestamp\n",
              "0                    Ithaca   NaN  TRIANGLE    NY    6/1/1930 22:00\n",
              "1               Willingboro   NaN     OTHER    NJ   6/30/1930 20:00\n",
              "2                   Holyoke   NaN      OVAL    CO   2/15/1931 14:00\n",
              "3                   Abilene   NaN      DISK    KS    6/1/1931 13:00\n",
              "4      New York Worlds Fair   NaN     LIGHT    NY   4/18/1933 19:00\n",
              "...                     ...   ...       ...   ...               ...\n",
              "18236            Grant Park   NaN  TRIANGLE    IL  12/31/2000 23:00\n",
              "18237           Spirit Lake   NaN      DISK    IA  12/31/2000 23:00\n",
              "18238           Eagle River   NaN       NaN    WI  12/31/2000 23:45\n",
              "18239           Eagle River   RED     LIGHT    WI  12/31/2000 23:45\n",
              "18240                  Ybor   NaN      OVAL    FL  12/31/2000 23:59\n",
              "\n",
              "[18241 rows x 5 columns]"
            ]
          },
          "metadata": {
            "tags": []
          },
          "execution_count": 34
        }
      ]
    },
    {
      "cell_type": "code",
      "metadata": {
        "id": "V5FCkuk-5Opm"
      },
      "source": [
        "# Editing after creating the dataframe\n",
        "portsdf = pd.read_csv('http://bit.ly/uforeports',sep=',')\n",
        "portsdf.columns=['city','color','shape','state','timestamp']\n",
        "portsdf"
      ],
      "execution_count": null,
      "outputs": []
    },
    {
      "cell_type": "markdown",
      "metadata": {
        "id": "hDeNn--qVyUo"
      },
      "source": [
        "# Mission 6\n",
        "\n",
        "Select the first 3 rows and all the columns of the dataframe using iloc"
      ]
    },
    {
      "cell_type": "code",
      "metadata": {
        "id": "weMAN0jeWSsy",
        "colab": {
          "base_uri": "https://localhost:8080/",
          "height": 142
        },
        "outputId": "6b35ef28-b28e-49cb-d4ee-52a619a9cf2d"
      },
      "source": [
        "portsdf.iloc[:3,:]"
      ],
      "execution_count": 21,
      "outputs": [
        {
          "output_type": "execute_result",
          "data": {
            "text/html": [
              "<div>\n",
              "<style scoped>\n",
              "    .dataframe tbody tr th:only-of-type {\n",
              "        vertical-align: middle;\n",
              "    }\n",
              "\n",
              "    .dataframe tbody tr th {\n",
              "        vertical-align: top;\n",
              "    }\n",
              "\n",
              "    .dataframe thead th {\n",
              "        text-align: right;\n",
              "    }\n",
              "</style>\n",
              "<table border=\"1\" class=\"dataframe\">\n",
              "  <thead>\n",
              "    <tr style=\"text-align: right;\">\n",
              "      <th></th>\n",
              "      <th>City</th>\n",
              "      <th>Colors Reported</th>\n",
              "      <th>Shape Reported</th>\n",
              "      <th>State</th>\n",
              "      <th>Time</th>\n",
              "    </tr>\n",
              "  </thead>\n",
              "  <tbody>\n",
              "    <tr>\n",
              "      <th>0</th>\n",
              "      <td>Ithaca</td>\n",
              "      <td>NaN</td>\n",
              "      <td>TRIANGLE</td>\n",
              "      <td>NY</td>\n",
              "      <td>6/1/1930 22:00</td>\n",
              "    </tr>\n",
              "    <tr>\n",
              "      <th>1</th>\n",
              "      <td>Willingboro</td>\n",
              "      <td>NaN</td>\n",
              "      <td>OTHER</td>\n",
              "      <td>NJ</td>\n",
              "      <td>6/30/1930 20:00</td>\n",
              "    </tr>\n",
              "    <tr>\n",
              "      <th>2</th>\n",
              "      <td>Holyoke</td>\n",
              "      <td>NaN</td>\n",
              "      <td>OVAL</td>\n",
              "      <td>CO</td>\n",
              "      <td>2/15/1931 14:00</td>\n",
              "    </tr>\n",
              "  </tbody>\n",
              "</table>\n",
              "</div>"
            ],
            "text/plain": [
              "          City Colors Reported Shape Reported State             Time\n",
              "0       Ithaca             NaN       TRIANGLE    NY   6/1/1930 22:00\n",
              "1  Willingboro             NaN          OTHER    NJ  6/30/1930 20:00\n",
              "2      Holyoke             NaN           OVAL    CO  2/15/1931 14:00"
            ]
          },
          "metadata": {
            "tags": []
          },
          "execution_count": 21
        }
      ]
    },
    {
      "cell_type": "markdown",
      "metadata": {
        "id": "eGVlIK-KWSBh"
      },
      "source": [
        "# Mission 7\n",
        "\n",
        "Achieve the same result as in mission 6 by using loc"
      ]
    },
    {
      "cell_type": "code",
      "metadata": {
        "id": "W9WC9f5CWWfz",
        "colab": {
          "base_uri": "https://localhost:8080/",
          "height": 142
        },
        "outputId": "f1ff880c-1689-49af-f917-918a5254cce6"
      },
      "source": [
        "portsdf.loc[:2,:]"
      ],
      "execution_count": 23,
      "outputs": [
        {
          "output_type": "execute_result",
          "data": {
            "text/html": [
              "<div>\n",
              "<style scoped>\n",
              "    .dataframe tbody tr th:only-of-type {\n",
              "        vertical-align: middle;\n",
              "    }\n",
              "\n",
              "    .dataframe tbody tr th {\n",
              "        vertical-align: top;\n",
              "    }\n",
              "\n",
              "    .dataframe thead th {\n",
              "        text-align: right;\n",
              "    }\n",
              "</style>\n",
              "<table border=\"1\" class=\"dataframe\">\n",
              "  <thead>\n",
              "    <tr style=\"text-align: right;\">\n",
              "      <th></th>\n",
              "      <th>City</th>\n",
              "      <th>Colors Reported</th>\n",
              "      <th>Shape Reported</th>\n",
              "      <th>State</th>\n",
              "      <th>Time</th>\n",
              "    </tr>\n",
              "  </thead>\n",
              "  <tbody>\n",
              "    <tr>\n",
              "      <th>0</th>\n",
              "      <td>Ithaca</td>\n",
              "      <td>NaN</td>\n",
              "      <td>TRIANGLE</td>\n",
              "      <td>NY</td>\n",
              "      <td>6/1/1930 22:00</td>\n",
              "    </tr>\n",
              "    <tr>\n",
              "      <th>1</th>\n",
              "      <td>Willingboro</td>\n",
              "      <td>NaN</td>\n",
              "      <td>OTHER</td>\n",
              "      <td>NJ</td>\n",
              "      <td>6/30/1930 20:00</td>\n",
              "    </tr>\n",
              "    <tr>\n",
              "      <th>2</th>\n",
              "      <td>Holyoke</td>\n",
              "      <td>NaN</td>\n",
              "      <td>OVAL</td>\n",
              "      <td>CO</td>\n",
              "      <td>2/15/1931 14:00</td>\n",
              "    </tr>\n",
              "  </tbody>\n",
              "</table>\n",
              "</div>"
            ],
            "text/plain": [
              "          City Colors Reported Shape Reported State             Time\n",
              "0       Ithaca             NaN       TRIANGLE    NY   6/1/1930 22:00\n",
              "1  Willingboro             NaN          OTHER    NJ  6/30/1930 20:00\n",
              "2      Holyoke             NaN           OVAL    CO  2/15/1931 14:00"
            ]
          },
          "metadata": {
            "tags": []
          },
          "execution_count": 23
        }
      ]
    },
    {
      "cell_type": "code",
      "metadata": {
        "id": "_NFNvRBV3QxO"
      },
      "source": [
        ""
      ],
      "execution_count": null,
      "outputs": []
    }
  ]
}