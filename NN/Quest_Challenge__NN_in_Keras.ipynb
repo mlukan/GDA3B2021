{
  "nbformat": 4,
  "nbformat_minor": 0,
  "metadata": {
    "kernelspec": {
      "display_name": "PyCharm (adams)",
      "language": "python",
      "name": "pycharm-feb95198"
    },
    "language_info": {
      "codemirror_mode": {
        "name": "ipython",
        "version": 3
      },
      "file_extension": ".py",
      "mimetype": "text/x-python",
      "name": "python",
      "nbconvert_exporter": "python",
      "pygments_lexer": "ipython3",
      "version": "3.7.6"
    },
    "pycharm": {
      "stem_cell": {
        "cell_type": "raw",
        "metadata": {
          "collapsed": false
        },
        "source": []
      }
    },
    "colab": {
      "name": "Quest Challenge_ NN-in-Keras.ipynb",
      "provenance": [],
      "collapsed_sections": [],
      "include_colab_link": true
    }
  },
  "cells": [
    {
      "cell_type": "markdown",
      "metadata": {
        "id": "view-in-github",
        "colab_type": "text"
      },
      "source": [
        "<a href=\"https://colab.research.google.com/github/mlukan/GDA3B2021/blob/main/NN/Quest_Challenge__NN_in_Keras.ipynb\" target=\"_parent\"><img src=\"https://colab.research.google.com/assets/colab-badge.svg\" alt=\"Open In Colab\"/></a>"
      ]
    },
    {
      "cell_type": "markdown",
      "metadata": {
        "id": "SuLKSWb86lKs"
      },
      "source": [
        "[![Open In Colab](https://colab.research.google.com/assets/colab-badge.svg)](https://colab.research.google.com/github/Humboldt-WI/adams/blob/master/exercises/Ex05-NN-in-Keras.ipynb) "
      ]
    },
    {
      "cell_type": "markdown",
      "metadata": {
        "id": "E-JlC9Rb6lKx"
      },
      "source": [
        "\n",
        "\n",
        "\n",
        "\n",
        "# Neural Networks using Keras "
      ]
    },
    {
      "cell_type": "markdown",
      "metadata": {
        "id": "Lv4fDZZr6lKx"
      },
      "source": [
        "\n",
        "### Outline\n",
        "Our goal is to build a NN for multi-class classification. We need to make several decisions when configuring our NN and focus on these when learning about Keras. \n",
        " 1. number of hidden layers\n",
        " 2. number of neurons in hidden layers\n",
        " 3. activation functions\n",
        " 4. type of weight initialization\n",
        " 5. loss function\n",
        " 6. learning rate and momentum\n",
        " 6. optimizer\n",
        " 7. size of batch\n",
        " 8. number of epochs\n",
        " 9. regularization (dropout)"
      ]
    },
    {
      "cell_type": "code",
      "metadata": {
        "colab": {
          "base_uri": "https://localhost:8080/"
        },
        "id": "xd4_RjCGA4iK",
        "outputId": "3030edc6-8146-4775-c56a-50e6deba2259"
      },
      "source": [
        "# Setting up the environment: import standard libraries and load the data. \n",
        "import numpy as np\n",
        "import matplotlib.pyplot as plt\n",
        "from sklearn.preprocessing import LabelEncoder\n",
        "from sklearn.model_selection import train_test_split\n",
        "from keras.utils import np_utils\n",
        "\n",
        "# Load dataset and set app name as index\n",
        "import pandas as pd\n",
        "\n",
        "from google.colab import drive\n",
        "drive.mount('/content/drive')\n",
        "\n",
        "#set the path to where you stored the AppleStore_prep.csv data here\n",
        "path=\"/content/drive/My Drive/Colab Notebooks/WCS/\""
      ],
      "execution_count": null,
      "outputs": [
        {
          "output_type": "stream",
          "text": [
            "Mounted at /content/drive\n"
          ],
          "name": "stdout"
        }
      ]
    },
    {
      "cell_type": "code",
      "metadata": {
        "colab": {
          "base_uri": "https://localhost:8080/",
          "height": 455
        },
        "id": "UbQw4uikBM9W",
        "outputId": "5c52cf0b-694b-4b4d-dfe3-ef4f5d4b7fa6"
      },
      "source": [
        "# Select the app name as row index\n",
        "# Load dataset and set app name as index\n",
        "data_file = path +'AppleStore_prep.csv' \n",
        "app = pd.read_csv(data_file, index_col=False, sep='\\t', encoding='utf-8')\n",
        "app = app.set_index('track_name')\n",
        "app.head()"
      ],
      "execution_count": null,
      "outputs": [
        {
          "output_type": "execute_result",
          "data": {
            "text/html": [
              "<div>\n",
              "<style scoped>\n",
              "    .dataframe tbody tr th:only-of-type {\n",
              "        vertical-align: middle;\n",
              "    }\n",
              "\n",
              "    .dataframe tbody tr th {\n",
              "        vertical-align: top;\n",
              "    }\n",
              "\n",
              "    .dataframe thead th {\n",
              "        text-align: right;\n",
              "    }\n",
              "</style>\n",
              "<table border=\"1\" class=\"dataframe\">\n",
              "  <thead>\n",
              "    <tr style=\"text-align: right;\">\n",
              "      <th></th>\n",
              "      <th>size_bytes</th>\n",
              "      <th>price</th>\n",
              "      <th>rating_count_tot</th>\n",
              "      <th>sup_devices.num</th>\n",
              "      <th>ipadSc_urls.num</th>\n",
              "      <th>lang.num</th>\n",
              "      <th>vpp_lic</th>\n",
              "      <th>currency_USD</th>\n",
              "      <th>cont_rating_12+</th>\n",
              "      <th>cont_rating_17+</th>\n",
              "      <th>cont_rating_4+</th>\n",
              "      <th>cont_rating_9+</th>\n",
              "      <th>prime_genre_Book</th>\n",
              "      <th>prime_genre_Business</th>\n",
              "      <th>prime_genre_Catalogs</th>\n",
              "      <th>prime_genre_Education</th>\n",
              "      <th>prime_genre_Entertainment</th>\n",
              "      <th>prime_genre_Finance</th>\n",
              "      <th>prime_genre_Food &amp; Drink</th>\n",
              "      <th>prime_genre_Games</th>\n",
              "      <th>prime_genre_Health &amp; Fitness</th>\n",
              "      <th>prime_genre_Lifestyle</th>\n",
              "      <th>prime_genre_Medical</th>\n",
              "      <th>prime_genre_Music</th>\n",
              "      <th>prime_genre_Navigation</th>\n",
              "      <th>prime_genre_News</th>\n",
              "      <th>prime_genre_Photo &amp; Video</th>\n",
              "      <th>prime_genre_Productivity</th>\n",
              "      <th>prime_genre_Reference</th>\n",
              "      <th>prime_genre_Shopping</th>\n",
              "      <th>prime_genre_Social Networking</th>\n",
              "      <th>prime_genre_Sports</th>\n",
              "      <th>prime_genre_Travel</th>\n",
              "      <th>prime_genre_Utilities</th>\n",
              "      <th>prime_genre_Weather</th>\n",
              "      <th>user_rating</th>\n",
              "    </tr>\n",
              "    <tr>\n",
              "      <th>track_name</th>\n",
              "      <th></th>\n",
              "      <th></th>\n",
              "      <th></th>\n",
              "      <th></th>\n",
              "      <th></th>\n",
              "      <th></th>\n",
              "      <th></th>\n",
              "      <th></th>\n",
              "      <th></th>\n",
              "      <th></th>\n",
              "      <th></th>\n",
              "      <th></th>\n",
              "      <th></th>\n",
              "      <th></th>\n",
              "      <th></th>\n",
              "      <th></th>\n",
              "      <th></th>\n",
              "      <th></th>\n",
              "      <th></th>\n",
              "      <th></th>\n",
              "      <th></th>\n",
              "      <th></th>\n",
              "      <th></th>\n",
              "      <th></th>\n",
              "      <th></th>\n",
              "      <th></th>\n",
              "      <th></th>\n",
              "      <th></th>\n",
              "      <th></th>\n",
              "      <th></th>\n",
              "      <th></th>\n",
              "      <th></th>\n",
              "      <th></th>\n",
              "      <th></th>\n",
              "      <th></th>\n",
              "      <th></th>\n",
              "    </tr>\n",
              "  </thead>\n",
              "  <tbody>\n",
              "    <tr>\n",
              "      <th>PAC-MAN Premium</th>\n",
              "      <td>-0.273806</td>\n",
              "      <td>0.388126</td>\n",
              "      <td>0.110902</td>\n",
              "      <td>0.170753</td>\n",
              "      <td>0.651051</td>\n",
              "      <td>0.576471</td>\n",
              "      <td>0.083642</td>\n",
              "      <td>1</td>\n",
              "      <td>0</td>\n",
              "      <td>0</td>\n",
              "      <td>1</td>\n",
              "      <td>0</td>\n",
              "      <td>0</td>\n",
              "      <td>0</td>\n",
              "      <td>0</td>\n",
              "      <td>0</td>\n",
              "      <td>0</td>\n",
              "      <td>0</td>\n",
              "      <td>0</td>\n",
              "      <td>1</td>\n",
              "      <td>0</td>\n",
              "      <td>0</td>\n",
              "      <td>0</td>\n",
              "      <td>0</td>\n",
              "      <td>0</td>\n",
              "      <td>0</td>\n",
              "      <td>0</td>\n",
              "      <td>0</td>\n",
              "      <td>0</td>\n",
              "      <td>0</td>\n",
              "      <td>0</td>\n",
              "      <td>0</td>\n",
              "      <td>0</td>\n",
              "      <td>0</td>\n",
              "      <td>0</td>\n",
              "      <td>4.0</td>\n",
              "    </tr>\n",
              "    <tr>\n",
              "      <th>Evernote - stay organized</th>\n",
              "      <td>-0.112911</td>\n",
              "      <td>-0.295960</td>\n",
              "      <td>1.956477</td>\n",
              "      <td>-0.096808</td>\n",
              "      <td>0.651051</td>\n",
              "      <td>2.218083</td>\n",
              "      <td>0.083642</td>\n",
              "      <td>1</td>\n",
              "      <td>0</td>\n",
              "      <td>0</td>\n",
              "      <td>1</td>\n",
              "      <td>0</td>\n",
              "      <td>0</td>\n",
              "      <td>0</td>\n",
              "      <td>0</td>\n",
              "      <td>0</td>\n",
              "      <td>0</td>\n",
              "      <td>0</td>\n",
              "      <td>0</td>\n",
              "      <td>0</td>\n",
              "      <td>0</td>\n",
              "      <td>0</td>\n",
              "      <td>0</td>\n",
              "      <td>0</td>\n",
              "      <td>0</td>\n",
              "      <td>0</td>\n",
              "      <td>0</td>\n",
              "      <td>1</td>\n",
              "      <td>0</td>\n",
              "      <td>0</td>\n",
              "      <td>0</td>\n",
              "      <td>0</td>\n",
              "      <td>0</td>\n",
              "      <td>0</td>\n",
              "      <td>0</td>\n",
              "      <td>4.0</td>\n",
              "    </tr>\n",
              "    <tr>\n",
              "      <th>WeatherBug - Local Weather, Radar, Maps, Alerts</th>\n",
              "      <td>-0.274542</td>\n",
              "      <td>-0.295960</td>\n",
              "      <td>2.319827</td>\n",
              "      <td>-0.096808</td>\n",
              "      <td>0.651051</td>\n",
              "      <td>-0.307474</td>\n",
              "      <td>0.083642</td>\n",
              "      <td>1</td>\n",
              "      <td>0</td>\n",
              "      <td>0</td>\n",
              "      <td>1</td>\n",
              "      <td>0</td>\n",
              "      <td>0</td>\n",
              "      <td>0</td>\n",
              "      <td>0</td>\n",
              "      <td>0</td>\n",
              "      <td>0</td>\n",
              "      <td>0</td>\n",
              "      <td>0</td>\n",
              "      <td>0</td>\n",
              "      <td>0</td>\n",
              "      <td>0</td>\n",
              "      <td>0</td>\n",
              "      <td>0</td>\n",
              "      <td>0</td>\n",
              "      <td>0</td>\n",
              "      <td>0</td>\n",
              "      <td>0</td>\n",
              "      <td>0</td>\n",
              "      <td>0</td>\n",
              "      <td>0</td>\n",
              "      <td>0</td>\n",
              "      <td>0</td>\n",
              "      <td>0</td>\n",
              "      <td>1</td>\n",
              "      <td>4.0</td>\n",
              "    </tr>\n",
              "    <tr>\n",
              "      <th>eBay: Best App to Buy, Sell, Save! Online Shopping</th>\n",
              "      <td>-0.196620</td>\n",
              "      <td>-0.295960</td>\n",
              "      <td>3.292413</td>\n",
              "      <td>-0.096808</td>\n",
              "      <td>0.651051</td>\n",
              "      <td>0.450193</td>\n",
              "      <td>0.083642</td>\n",
              "      <td>1</td>\n",
              "      <td>1</td>\n",
              "      <td>0</td>\n",
              "      <td>0</td>\n",
              "      <td>0</td>\n",
              "      <td>0</td>\n",
              "      <td>0</td>\n",
              "      <td>0</td>\n",
              "      <td>0</td>\n",
              "      <td>0</td>\n",
              "      <td>0</td>\n",
              "      <td>0</td>\n",
              "      <td>0</td>\n",
              "      <td>0</td>\n",
              "      <td>0</td>\n",
              "      <td>0</td>\n",
              "      <td>0</td>\n",
              "      <td>0</td>\n",
              "      <td>0</td>\n",
              "      <td>0</td>\n",
              "      <td>0</td>\n",
              "      <td>0</td>\n",
              "      <td>1</td>\n",
              "      <td>0</td>\n",
              "      <td>0</td>\n",
              "      <td>0</td>\n",
              "      <td>0</td>\n",
              "      <td>0</td>\n",
              "      <td>4.0</td>\n",
              "    </tr>\n",
              "    <tr>\n",
              "      <th>Bible</th>\n",
              "      <td>-0.296117</td>\n",
              "      <td>-0.295960</td>\n",
              "      <td>12.847931</td>\n",
              "      <td>-0.096808</td>\n",
              "      <td>0.651051</td>\n",
              "      <td>4.996197</td>\n",
              "      <td>0.083642</td>\n",
              "      <td>1</td>\n",
              "      <td>0</td>\n",
              "      <td>0</td>\n",
              "      <td>1</td>\n",
              "      <td>0</td>\n",
              "      <td>0</td>\n",
              "      <td>0</td>\n",
              "      <td>0</td>\n",
              "      <td>0</td>\n",
              "      <td>0</td>\n",
              "      <td>0</td>\n",
              "      <td>0</td>\n",
              "      <td>0</td>\n",
              "      <td>0</td>\n",
              "      <td>0</td>\n",
              "      <td>0</td>\n",
              "      <td>0</td>\n",
              "      <td>0</td>\n",
              "      <td>0</td>\n",
              "      <td>0</td>\n",
              "      <td>0</td>\n",
              "      <td>1</td>\n",
              "      <td>0</td>\n",
              "      <td>0</td>\n",
              "      <td>0</td>\n",
              "      <td>0</td>\n",
              "      <td>0</td>\n",
              "      <td>0</td>\n",
              "      <td>4.0</td>\n",
              "    </tr>\n",
              "  </tbody>\n",
              "</table>\n",
              "</div>"
            ],
            "text/plain": [
              "                                                    size_bytes  ...  user_rating\n",
              "track_name                                                      ...             \n",
              "PAC-MAN Premium                                      -0.273806  ...          4.0\n",
              "Evernote - stay organized                            -0.112911  ...          4.0\n",
              "WeatherBug - Local Weather, Radar, Maps, Alerts      -0.274542  ...          4.0\n",
              "eBay: Best App to Buy, Sell, Save! Online Shopping   -0.196620  ...          4.0\n",
              "Bible                                                -0.296117  ...          4.0\n",
              "\n",
              "[5 rows x 36 columns]"
            ]
          },
          "metadata": {
            "tags": []
          },
          "execution_count": 3
        }
      ]
    },
    {
      "cell_type": "code",
      "metadata": {
        "id": "-n9rz3ySBrz6"
      },
      "source": [
        "\n",
        "# Prepare the target variable\n",
        "# LabelEncoder() transforms a string vector to a num vector\n",
        "\n"
      ],
      "execution_count": null,
      "outputs": []
    },
    {
      "cell_type": "code",
      "metadata": {
        "pycharm": {
          "is_executing": false
        },
        "id": "CZvL8RGt6lKz",
        "outputId": "7908f411-3362-4317-c16e-e1e26aee2553"
      },
      "source": [
        "#plot the Rating distribution as seen in the plot below\n",
        "\n",
        "\n",
        "\n",
        "\n",
        "X = \n",
        "y = \n",
        "# Let's split our data set in train and test and use random seed = 42 and 30% test size\n",
        "# Keep in mind that this data set is already normalized, which leads to a leakage of information from train set to test set\n",
        "# When you are working with a dataset, make sure you normalize the variables in test set according to the parameters of the train set\n",
        "\n",
        "seed=42\n",
        "\n",
        "    \n",
        "print (X_train.shape)\n",
        "print(y_train.shape) \n",
        "X.head(5)\n"
      ],
      "execution_count": null,
      "outputs": [
        {
          "output_type": "display_data",
          "data": {
            "image/png": "[encoded data removed]",
            "text/plain": [
              "<Figure size 432x288 with 1 Axes>"
            ]
          },
          "metadata": {
            "tags": [],
            "needs_background": "light"
          }
        },
        {
          "output_type": "stream",
          "text": [
            "(5037, 35)\n",
            "(5037, 6)\n"
          ],
          "name": "stdout"
        },
        {
          "output_type": "execute_result",
          "data": {
            "text/html": [
              "<div>\n",
              "<style scoped>\n",
              "    .dataframe tbody tr th:only-of-type {\n",
              "        vertical-align: middle;\n",
              "    }\n",
              "\n",
              "    .dataframe tbody tr th {\n",
              "        vertical-align: top;\n",
              "    }\n",
              "\n",
              "    .dataframe thead th {\n",
              "        text-align: right;\n",
              "    }\n",
              "</style>\n",
              "<table border=\"1\" class=\"dataframe\">\n",
              "  <thead>\n",
              "    <tr style=\"text-align: right;\">\n",
              "      <th></th>\n",
              "      <th>size_bytes</th>\n",
              "      <th>price</th>\n",
              "      <th>rating_count_tot</th>\n",
              "      <th>sup_devices.num</th>\n",
              "      <th>ipadSc_urls.num</th>\n",
              "      <th>lang.num</th>\n",
              "      <th>vpp_lic</th>\n",
              "      <th>currency_USD</th>\n",
              "      <th>cont_rating_12+</th>\n",
              "      <th>cont_rating_17+</th>\n",
              "      <th>...</th>\n",
              "      <th>prime_genre_News</th>\n",
              "      <th>prime_genre_Photo &amp; Video</th>\n",
              "      <th>prime_genre_Productivity</th>\n",
              "      <th>prime_genre_Reference</th>\n",
              "      <th>prime_genre_Shopping</th>\n",
              "      <th>prime_genre_Social Networking</th>\n",
              "      <th>prime_genre_Sports</th>\n",
              "      <th>prime_genre_Travel</th>\n",
              "      <th>prime_genre_Utilities</th>\n",
              "      <th>prime_genre_Weather</th>\n",
              "    </tr>\n",
              "    <tr>\n",
              "      <th>track_name</th>\n",
              "      <th></th>\n",
              "      <th></th>\n",
              "      <th></th>\n",
              "      <th></th>\n",
              "      <th></th>\n",
              "      <th></th>\n",
              "      <th></th>\n",
              "      <th></th>\n",
              "      <th></th>\n",
              "      <th></th>\n",
              "      <th></th>\n",
              "      <th></th>\n",
              "      <th></th>\n",
              "      <th></th>\n",
              "      <th></th>\n",
              "      <th></th>\n",
              "      <th></th>\n",
              "      <th></th>\n",
              "      <th></th>\n",
              "      <th></th>\n",
              "      <th></th>\n",
              "    </tr>\n",
              "  </thead>\n",
              "  <tbody>\n",
              "    <tr>\n",
              "      <th>PAC-MAN Premium</th>\n",
              "      <td>-0.273806</td>\n",
              "      <td>0.388126</td>\n",
              "      <td>0.110902</td>\n",
              "      <td>0.170753</td>\n",
              "      <td>0.651051</td>\n",
              "      <td>0.576471</td>\n",
              "      <td>0.083642</td>\n",
              "      <td>1</td>\n",
              "      <td>0</td>\n",
              "      <td>0</td>\n",
              "      <td>...</td>\n",
              "      <td>0</td>\n",
              "      <td>0</td>\n",
              "      <td>0</td>\n",
              "      <td>0</td>\n",
              "      <td>0</td>\n",
              "      <td>0</td>\n",
              "      <td>0</td>\n",
              "      <td>0</td>\n",
              "      <td>0</td>\n",
              "      <td>0</td>\n",
              "    </tr>\n",
              "    <tr>\n",
              "      <th>Evernote - stay organized</th>\n",
              "      <td>-0.112911</td>\n",
              "      <td>-0.295960</td>\n",
              "      <td>1.956477</td>\n",
              "      <td>-0.096808</td>\n",
              "      <td>0.651051</td>\n",
              "      <td>2.218083</td>\n",
              "      <td>0.083642</td>\n",
              "      <td>1</td>\n",
              "      <td>0</td>\n",
              "      <td>0</td>\n",
              "      <td>...</td>\n",
              "      <td>0</td>\n",
              "      <td>0</td>\n",
              "      <td>1</td>\n",
              "      <td>0</td>\n",
              "      <td>0</td>\n",
              "      <td>0</td>\n",
              "      <td>0</td>\n",
              "      <td>0</td>\n",
              "      <td>0</td>\n",
              "      <td>0</td>\n",
              "    </tr>\n",
              "    <tr>\n",
              "      <th>WeatherBug - Local Weather, Radar, Maps, Alerts</th>\n",
              "      <td>-0.274542</td>\n",
              "      <td>-0.295960</td>\n",
              "      <td>2.319827</td>\n",
              "      <td>-0.096808</td>\n",
              "      <td>0.651051</td>\n",
              "      <td>-0.307474</td>\n",
              "      <td>0.083642</td>\n",
              "      <td>1</td>\n",
              "      <td>0</td>\n",
              "      <td>0</td>\n",
              "      <td>...</td>\n",
              "      <td>0</td>\n",
              "      <td>0</td>\n",
              "      <td>0</td>\n",
              "      <td>0</td>\n",
              "      <td>0</td>\n",
              "      <td>0</td>\n",
              "      <td>0</td>\n",
              "      <td>0</td>\n",
              "      <td>0</td>\n",
              "      <td>1</td>\n",
              "    </tr>\n",
              "    <tr>\n",
              "      <th>eBay: Best App to Buy, Sell, Save! Online Shopping</th>\n",
              "      <td>-0.196620</td>\n",
              "      <td>-0.295960</td>\n",
              "      <td>3.292413</td>\n",
              "      <td>-0.096808</td>\n",
              "      <td>0.651051</td>\n",
              "      <td>0.450193</td>\n",
              "      <td>0.083642</td>\n",
              "      <td>1</td>\n",
              "      <td>1</td>\n",
              "      <td>0</td>\n",
              "      <td>...</td>\n",
              "      <td>0</td>\n",
              "      <td>0</td>\n",
              "      <td>0</td>\n",
              "      <td>0</td>\n",
              "      <td>1</td>\n",
              "      <td>0</td>\n",
              "      <td>0</td>\n",
              "      <td>0</td>\n",
              "      <td>0</td>\n",
              "      <td>0</td>\n",
              "    </tr>\n",
              "    <tr>\n",
              "      <th>Bible</th>\n",
              "      <td>-0.296117</td>\n",
              "      <td>-0.295960</td>\n",
              "      <td>12.847931</td>\n",
              "      <td>-0.096808</td>\n",
              "      <td>0.651051</td>\n",
              "      <td>4.996197</td>\n",
              "      <td>0.083642</td>\n",
              "      <td>1</td>\n",
              "      <td>0</td>\n",
              "      <td>0</td>\n",
              "      <td>...</td>\n",
              "      <td>0</td>\n",
              "      <td>0</td>\n",
              "      <td>0</td>\n",
              "      <td>1</td>\n",
              "      <td>0</td>\n",
              "      <td>0</td>\n",
              "      <td>0</td>\n",
              "      <td>0</td>\n",
              "      <td>0</td>\n",
              "      <td>0</td>\n",
              "    </tr>\n",
              "  </tbody>\n",
              "</table>\n",
              "<p>5 rows × 35 columns</p>\n",
              "</div>"
            ],
            "text/plain": [
              "                                                    size_bytes     price  \\\n",
              "track_name                                                                 \n",
              "PAC-MAN Premium                                      -0.273806  0.388126   \n",
              "Evernote - stay organized                            -0.112911 -0.295960   \n",
              "WeatherBug - Local Weather, Radar, Maps, Alerts      -0.274542 -0.295960   \n",
              "eBay: Best App to Buy, Sell, Save! Online Shopping   -0.196620 -0.295960   \n",
              "Bible                                                -0.296117 -0.295960   \n",
              "\n",
              "                                                    rating_count_tot  \\\n",
              "track_name                                                             \n",
              "PAC-MAN Premium                                             0.110902   \n",
              "Evernote - stay organized                                   1.956477   \n",
              "WeatherBug - Local Weather, Radar, Maps, Alerts             2.319827   \n",
              "eBay: Best App to Buy, Sell, Save! Online Shopping          3.292413   \n",
              "Bible                                                      12.847931   \n",
              "\n",
              "                                                    sup_devices.num  \\\n",
              "track_name                                                            \n",
              "PAC-MAN Premium                                            0.170753   \n",
              "Evernote - stay organized                                 -0.096808   \n",
              "WeatherBug - Local Weather, Radar, Maps, Alerts           -0.096808   \n",
              "eBay: Best App to Buy, Sell, Save! Online Shopping        -0.096808   \n",
              "Bible                                                     -0.096808   \n",
              "\n",
              "                                                    ipadSc_urls.num  lang.num  \\\n",
              "track_name                                                                      \n",
              "PAC-MAN Premium                                            0.651051  0.576471   \n",
              "Evernote - stay organized                                  0.651051  2.218083   \n",
              "WeatherBug - Local Weather, Radar, Maps, Alerts            0.651051 -0.307474   \n",
              "eBay: Best App to Buy, Sell, Save! Online Shopping         0.651051  0.450193   \n",
              "Bible                                                      0.651051  4.996197   \n",
              "\n",
              "                                                     vpp_lic  currency_USD  \\\n",
              "track_name                                                                   \n",
              "PAC-MAN Premium                                     0.083642             1   \n",
              "Evernote - stay organized                           0.083642             1   \n",
              "WeatherBug - Local Weather, Radar, Maps, Alerts     0.083642             1   \n",
              "eBay: Best App to Buy, Sell, Save! Online Shopping  0.083642             1   \n",
              "Bible                                               0.083642             1   \n",
              "\n",
              "                                                    cont_rating_12+  \\\n",
              "track_name                                                            \n",
              "PAC-MAN Premium                                                   0   \n",
              "Evernote - stay organized                                         0   \n",
              "WeatherBug - Local Weather, Radar, Maps, Alerts                   0   \n",
              "eBay: Best App to Buy, Sell, Save! Online Shopping                1   \n",
              "Bible                                                             0   \n",
              "\n",
              "                                                    cont_rating_17+  ...  \\\n",
              "track_name                                                           ...   \n",
              "PAC-MAN Premium                                                   0  ...   \n",
              "Evernote - stay organized                                         0  ...   \n",
              "WeatherBug - Local Weather, Radar, Maps, Alerts                   0  ...   \n",
              "eBay: Best App to Buy, Sell, Save! Online Shopping                0  ...   \n",
              "Bible                                                             0  ...   \n",
              "\n",
              "                                                    prime_genre_News  \\\n",
              "track_name                                                             \n",
              "PAC-MAN Premium                                                    0   \n",
              "Evernote - stay organized                                          0   \n",
              "WeatherBug - Local Weather, Radar, Maps, Alerts                    0   \n",
              "eBay: Best App to Buy, Sell, Save! Online Shopping                 0   \n",
              "Bible                                                              0   \n",
              "\n",
              "                                                    prime_genre_Photo & Video  \\\n",
              "track_name                                                                      \n",
              "PAC-MAN Premium                                                             0   \n",
              "Evernote - stay organized                                                   0   \n",
              "WeatherBug - Local Weather, Radar, Maps, Alerts                             0   \n",
              "eBay: Best App to Buy, Sell, Save! Online Shopping                          0   \n",
              "Bible                                                                       0   \n",
              "\n",
              "                                                    prime_genre_Productivity  \\\n",
              "track_name                                                                     \n",
              "PAC-MAN Premium                                                            0   \n",
              "Evernote - stay organized                                                  1   \n",
              "WeatherBug - Local Weather, Radar, Maps, Alerts                            0   \n",
              "eBay: Best App to Buy, Sell, Save! Online Shopping                         0   \n",
              "Bible                                                                      0   \n",
              "\n",
              "                                                    prime_genre_Reference  \\\n",
              "track_name                                                                  \n",
              "PAC-MAN Premium                                                         0   \n",
              "Evernote - stay organized                                               0   \n",
              "WeatherBug - Local Weather, Radar, Maps, Alerts                         0   \n",
              "eBay: Best App to Buy, Sell, Save! Online Shopping                      0   \n",
              "Bible                                                                   1   \n",
              "\n",
              "                                                    prime_genre_Shopping  \\\n",
              "track_name                                                                 \n",
              "PAC-MAN Premium                                                        0   \n",
              "Evernote - stay organized                                              0   \n",
              "WeatherBug - Local Weather, Radar, Maps, Alerts                        0   \n",
              "eBay: Best App to Buy, Sell, Save! Online Shopping                     1   \n",
              "Bible                                                                  0   \n",
              "\n",
              "                                                    prime_genre_Social Networking  \\\n",
              "track_name                                                                          \n",
              "PAC-MAN Premium                                                                 0   \n",
              "Evernote - stay organized                                                       0   \n",
              "WeatherBug - Local Weather, Radar, Maps, Alerts                                 0   \n",
              "eBay: Best App to Buy, Sell, Save! Online Shopping                              0   \n",
              "Bible                                                                           0   \n",
              "\n",
              "                                                    prime_genre_Sports  \\\n",
              "track_name                                                               \n",
              "PAC-MAN Premium                                                      0   \n",
              "Evernote - stay organized                                            0   \n",
              "WeatherBug - Local Weather, Radar, Maps, Alerts                      0   \n",
              "eBay: Best App to Buy, Sell, Save! Online Shopping                   0   \n",
              "Bible                                                                0   \n",
              "\n",
              "                                                    prime_genre_Travel  \\\n",
              "track_name                                                               \n",
              "PAC-MAN Premium                                                      0   \n",
              "Evernote - stay organized                                            0   \n",
              "WeatherBug - Local Weather, Radar, Maps, Alerts                      0   \n",
              "eBay: Best App to Buy, Sell, Save! Online Shopping                   0   \n",
              "Bible                                                                0   \n",
              "\n",
              "                                                    prime_genre_Utilities  \\\n",
              "track_name                                                                  \n",
              "PAC-MAN Premium                                                         0   \n",
              "Evernote - stay organized                                               0   \n",
              "WeatherBug - Local Weather, Radar, Maps, Alerts                         0   \n",
              "eBay: Best App to Buy, Sell, Save! Online Shopping                      0   \n",
              "Bible                                                                   0   \n",
              "\n",
              "                                                    prime_genre_Weather  \n",
              "track_name                                                               \n",
              "PAC-MAN Premium                                                       0  \n",
              "Evernote - stay organized                                             0  \n",
              "WeatherBug - Local Weather, Radar, Maps, Alerts                       1  \n",
              "eBay: Best App to Buy, Sell, Save! Online Shopping                    0  \n",
              "Bible                                                                 0  \n",
              "\n",
              "[5 rows x 35 columns]"
            ]
          },
          "metadata": {
            "tags": []
          },
          "execution_count": 4
        }
      ]
    },
    {
      "cell_type": "markdown",
      "metadata": {
        "id": "MsU0uG-96lK1"
      },
      "source": [
        "### Preparing the Keras framework ###\n",
        "\n",
        "We will revise the architecture of our basic neural network and look into the tuning of hyperparameters.\n",
        "\n"
      ]
    },
    {
      "cell_type": "markdown",
      "metadata": {
        "id": "pd3gVQuZ6lK2"
      },
      "source": [
        "### 1+2: Number of hidden layers and number of neurons\n",
        "The number of layers and the number of neurons is a parameter that you would have to decide on. \n",
        "\n",
        "*Deep* neural network is the one with more than one layer, so we will use **2 hidden layers** this time.\n",
        "\n",
        "As for neurons, look up for the industry practice, we are going for **n=128**."
      ]
    },
    {
      "cell_type": "code",
      "metadata": {
        "id": "dNX5GLEm6lK2"
      },
      "source": [
        "nb_units = 128"
      ],
      "execution_count": null,
      "outputs": []
    },
    {
      "cell_type": "markdown",
      "metadata": {
        "id": "Lm7Bqms06lK2"
      },
      "source": [
        "### 3: activation function ###\n",
        "We will go for industry standard which is **relu** and keep a **softmax** at the end, given our multiclass task. We do not need to define those functions manually this time, Keras got our back.\n",
        "\n",
        "IMPORTANT NOTE on output function for binary classification.\n",
        "You could have two output neurons for every class and then run it through the softmax to aqcuire probabilities. However, the more efficient way (faster updating) would be to replace it with 1 neuron and a sigmoid function, which is basically a softmax for 2 classes:\n",
        "\n",
        "$$y = \\frac{1}{1 + e ^ {-x}} = \\frac{1}{1 + \\frac{1}{e ^ x}} = \\frac{1}{\\frac{e ^ x + 1}{e ^ x}} <= >\\frac{e ^ x}{1 + e ^ x}  $$\n"
      ]
    },
    {
      "cell_type": "markdown",
      "metadata": {
        "id": "y3JE6df_6lK3"
      },
      "source": [
        "### 4: weight initialisation\n",
        "Weight initialization might seem minor but it can have a major impact on the convergence of the network.\n",
        "\n",
        "At the picture: all weights are set to 0, second is the normally distributed weights with std=0.4. \n",
        "In the rightmost plot, the weights are drawn from normal distributions with variances which are inversely proportional to the number of inputs into each neuron (he normal).\n",
        "\n",
        "<img src=\"https://intoli.com/blog/neural-network-initialization/img/training-losses.png\"  alt=\"fwe\" style=\"width: 1000px;\"/> \n",
        "\n",
        "https://intoli.com/blog/neural-network-initialization/\n",
        "\n",
        "We will be using the **He Normal initialization**, which is one of the industry standards and recommended for ReLu. It draws samples from a truncated normal distribution with $\\mu=0$ and $ \\sigma = \\sqrt{2 / (i)}$, where $i$ is the number of input units in the weight tensor.\n",
        "\n",
        "So in our case the standard deviation for our first weight matrix would be:"
      ]
    },
    {
      "cell_type": "code",
      "metadata": {
        "id": "5k0GCJyN6lK3",
        "outputId": "22e9e9cf-849f-449e-a818-d313477f88ad"
      },
      "source": [
        "# If you remember we previously used the (6/(35)) - we used the Glorot uniform (also called Xavier initialization)\n",
        "std = np.sqrt(2/(X.shape[1])) \n",
        "std"
      ],
      "execution_count": null,
      "outputs": [
        {
          "output_type": "execute_result",
          "data": {
            "text/plain": [
              "0.23904572186687872"
            ]
          },
          "metadata": {
            "tags": []
          },
          "execution_count": 8
        }
      ]
    },
    {
      "cell_type": "markdown",
      "metadata": {
        "id": "LOcAh5vk6lK4"
      },
      "source": [
        "## Let's put down what we have decided on already: ##\n",
        "Keras offer you two \"styles\" of setting up the structure of your network (they call it two types of model): sequential and functional API (https://keras.io/models/about-keras-mod). It's a matter of preference in most cases. \n",
        "\n",
        "Lets implement both to see their differences:\n",
        "\n",
        "Starting with **sequential** when the layers follow sequentially one after the other, it is slightly leaner in notation."
      ]
    },
    {
      "cell_type": "code",
      "metadata": {
        "id": "GhlZTiCJ6lK4",
        "outputId": "393e43ed-e2c6-4faa-857c-ec6cebdb0d75"
      },
      "source": [
        "# Import Keras\n",
        "import keras\n",
        "from keras.models import Sequential\n",
        "from keras.layers import Dense, Dropout, Activation, Flatten\n",
        "\n",
        "#set up the name of the model and its type\n",
        "\n",
        "\n",
        "# Start adding layers one by one, add first a Dense Layer and specify\n",
        "#number of neurons\n",
        "#activation function\n",
        "#initialisation of weights with kernel_initializer=keras.initializers.he_normal(seed=seed); check doc for more options\n",
        "#initialization of biases with bias_initializer='zeros', will also be done by default\n",
        "#set the input shape, i.e. number of features\n",
        "\n",
        "\n",
        "# Add another Dense Layer\n",
        "#One more layer with the same configuration\n",
        "\n",
        "\n",
        "# And finally the outout layer as another Dense layer with number of neurosns = number of classes with the same configurations for weights and biases\n",
        "\n",
        "\n",
        "\n",
        "######################let's see how our architecture looks like (also very helpful to learn how many parameters will be trained and compare to\n",
        "#the size of your training set)\n",
        "model.summary()"
      ],
      "execution_count": null,
      "outputs": [
        {
          "output_type": "stream",
          "text": [
            "Model: \"sequential_1\"\n",
            "_________________________________________________________________\n",
            "Layer (type)                 Output Shape              Param #   \n",
            "=================================================================\n",
            "dense_1 (Dense)              (None, 128)               4608      \n",
            "_________________________________________________________________\n",
            "dense_2 (Dense)              (None, 128)               16512     \n",
            "_________________________________________________________________\n",
            "dense_3 (Dense)              (None, 6)                 774       \n",
            "=================================================================\n",
            "Total params: 21,894\n",
            "Trainable params: 21,894\n",
            "Non-trainable params: 0\n",
            "_________________________________________________________________\n"
          ],
          "name": "stdout"
        }
      ]
    },
    {
      "cell_type": "markdown",
      "metadata": {
        "id": "WE6k3gD16lK5"
      },
      "source": [
        "Let's try to confirm these parameters manually. Print the numbers of "
      ]
    },
    {
      "cell_type": "code",
      "metadata": {
        "id": "cXrTj5yV6lK5",
        "outputId": "52e67afd-7d2b-4328-a8b4-c6fc380a4144"
      },
      "source": [
        "# print the forumla that gives you the parameters for input to hidden layer \n",
        "\n",
        "\n",
        "# print the forumla that gives you the parameters for first hidden to second hidden layer\n",
        "\n",
        "\n",
        "\n",
        "# print the forumla that gives you the parameters for second hidden to output layer\n"
      ],
      "execution_count": null,
      "outputs": [
        {
          "output_type": "stream",
          "text": [
            "4608\n",
            "16512\n",
            "768\n"
          ],
          "name": "stdout"
        }
      ]
    },
    {
      "cell_type": "markdown",
      "metadata": {
        "id": "PtsszlhOGQxA"
      },
      "source": [
        "Now implement the same Architecture using the functional API"
      ]
    },
    {
      "cell_type": "code",
      "metadata": {
        "id": "pLF4S79j6lK5",
        "outputId": "442118c2-3905-4880-f902-aaaab74bf070"
      },
      "source": [
        "# Functional API analogue\n",
        "from keras.layers import Input, Dense\n",
        "from keras.models import Model\n",
        "\n",
        "\n",
        "\n",
        "model.summary()"
      ],
      "execution_count": null,
      "outputs": [
        {
          "output_type": "stream",
          "text": [
            "Model: \"model_1\"\n",
            "_________________________________________________________________\n",
            "Layer (type)                 Output Shape              Param #   \n",
            "=================================================================\n",
            "input_1 (InputLayer)         (None, 35)                0         \n",
            "_________________________________________________________________\n",
            "dense_4 (Dense)              (None, 128)               4608      \n",
            "_________________________________________________________________\n",
            "dense_5 (Dense)              (None, 128)               16512     \n",
            "_________________________________________________________________\n",
            "dense_6 (Dense)              (None, 6)                 774       \n",
            "=================================================================\n",
            "Total params: 21,894\n",
            "Trainable params: 21,894\n",
            "Non-trainable params: 0\n",
            "_________________________________________________________________\n"
          ],
          "name": "stdout"
        }
      ]
    },
    {
      "cell_type": "markdown",
      "metadata": {
        "id": "Uf_Kua5j6lK6"
      },
      "source": [
        "### Wonderful, we have set up the infrastructure and can proceed with training\n",
        "Most of the parameters that define the training process are set within the **compile** and **fit** methods.\n",
        "\n",
        "The parameter optimization strategy is one of the most important choices for the training of the neural network.\n",
        "\n",
        "We have already learned about one - stochastic gradient descent, it is considered the basic one. Improved performance can be achieved by using optimizers like **Rmsprop, Adagrad,  Adam**, etc."
      ]
    },
    {
      "cell_type": "markdown",
      "metadata": {
        "id": "xJKFasVB6lK6"
      },
      "source": [
        "### 5+6: loss function, learning rate and optimizer\n",
        "The loss function is defined by the task (mse, binary crossentropy, etc.), in our case it is crossentropy.\n",
        "Learning rate is set in the optimizer but does not have to remain the same throughout the training (i.e. AdaGrad)."
      ]
    },
    {
      "cell_type": "code",
      "metadata": {
        "id": "WS_e_33O6lK6"
      },
      "source": [
        "from keras import optimizers\n",
        "# define the optimiter\n",
        "# We use SGD as optimizer and cover more options later on, lets start with a learning rate of 0.01. There are many more parameters that we could be adding in the optimizer,\n",
        "# but for now let us only declare the lr \n",
        "opt = \n",
        "\n",
        "\n",
        "\n",
        "# Calling compile and specifying some mandatory arguments completes setting up the NN, ie. loss and metrics\n",
        "\n",
        "\n"
      ],
      "execution_count": null,
      "outputs": []
    },
    {
      "cell_type": "markdown",
      "metadata": {
        "id": "oNJhTIf-6lK7"
      },
      "source": [
        "### 7+8: batch size and epochs ###\n",
        "Batch size is a chunk of data that would be fed into the optimizer. Larger batch sizes result in faster progress in training, but don't always converge as fast. Smaller batch sizes update the weights more slowly, but lead to more stable convergence. Batch Gradient Descent (all samples used for one update), Online Stochastic Gradient Descent (one sample used for one update), Mini-batch Stochastic Gradient Descent (More than one but less than all samples used for one update).\n",
        "Batch size determines how many examples you look at before making a weight update. The lower it is, the noisier the training signal is going to be, the higher it is, the longer it will take to compute the gradient for each step.\n",
        "\n",
        "Epochs is the number of rounds the algorithm will go through the entire dataset. Usually the more epochs of training, the better are the results, until the network starts to overfit. When you see the results flattening out, it's the time to stop."
      ]
    },
    {
      "cell_type": "code",
      "metadata": {
        "id": "w0MSTeIV6lK7",
        "outputId": "8b2a04b2-fd95-49c1-c346-171a9f0cab00"
      },
      "source": [
        "batch_size = 56 #1 for online SGD\n",
        "epochs = 30\n",
        "\n",
        "#And now we fit the model (that is the training part), mind that saving it to the \n",
        "# variable will help you retrieve and analyse the training history\n",
        "\n",
        "\n",
        "story = "
      ],
      "execution_count": null,
      "outputs": [
        {
          "output_type": "stream",
          "text": [
            "Train on 5037 samples, validate on 2160 samples\n",
            "Epoch 1/30\n",
            "5037/5037 [==============================] - 0s 28us/step - loss: 0.8272 - accuracy: 0.7238 - val_loss: 0.9247 - val_accuracy: 0.7106\n",
            "Epoch 2/30\n",
            "5037/5037 [==============================] - 0s 23us/step - loss: 0.8263 - accuracy: 0.7232 - val_loss: 0.9241 - val_accuracy: 0.7139\n",
            "Epoch 3/30\n",
            "5037/5037 [==============================] - 0s 22us/step - loss: 0.8256 - accuracy: 0.7230 - val_loss: 0.9235 - val_accuracy: 0.7116\n",
            "Epoch 4/30\n",
            "5037/5037 [==============================] - 0s 23us/step - loss: 0.8250 - accuracy: 0.7225 - val_loss: 0.9231 - val_accuracy: 0.7093\n",
            "Epoch 5/30\n",
            "5037/5037 [==============================] - 0s 23us/step - loss: 0.8246 - accuracy: 0.7238 - val_loss: 0.9252 - val_accuracy: 0.7079\n",
            "Epoch 6/30\n",
            "5037/5037 [==============================] - 0s 23us/step - loss: 0.8241 - accuracy: 0.7246 - val_loss: 0.9235 - val_accuracy: 0.7088\n",
            "Epoch 7/30\n",
            "5037/5037 [==============================] - 0s 23us/step - loss: 0.8237 - accuracy: 0.7246 - val_loss: 0.9255 - val_accuracy: 0.7079\n",
            "Epoch 8/30\n",
            "5037/5037 [==============================] - 0s 23us/step - loss: 0.8223 - accuracy: 0.7230 - val_loss: 0.9241 - val_accuracy: 0.7093\n",
            "Epoch 9/30\n",
            "5037/5037 [==============================] - 0s 24us/step - loss: 0.8221 - accuracy: 0.7248 - val_loss: 0.9261 - val_accuracy: 0.7125\n",
            "Epoch 10/30\n",
            "5037/5037 [==============================] - 0s 23us/step - loss: 0.8211 - accuracy: 0.7236 - val_loss: 0.9242 - val_accuracy: 0.7106\n",
            "Epoch 11/30\n",
            "5037/5037 [==============================] - 0s 23us/step - loss: 0.8216 - accuracy: 0.7244 - val_loss: 0.9228 - val_accuracy: 0.7130\n",
            "Epoch 12/30\n",
            "5037/5037 [==============================] - 0s 24us/step - loss: 0.8205 - accuracy: 0.7250 - val_loss: 0.9236 - val_accuracy: 0.7097\n",
            "Epoch 13/30\n",
            "5037/5037 [==============================] - 0s 25us/step - loss: 0.8198 - accuracy: 0.7240 - val_loss: 0.9226 - val_accuracy: 0.7102\n",
            "Epoch 14/30\n",
            "5037/5037 [==============================] - 0s 23us/step - loss: 0.8195 - accuracy: 0.7240 - val_loss: 0.9226 - val_accuracy: 0.7088\n",
            "Epoch 15/30\n",
            "5037/5037 [==============================] - 0s 21us/step - loss: 0.8194 - accuracy: 0.7260 - val_loss: 0.9228 - val_accuracy: 0.7083\n",
            "Epoch 16/30\n",
            "5037/5037 [==============================] - 0s 26us/step - loss: 0.8188 - accuracy: 0.7250 - val_loss: 0.9232 - val_accuracy: 0.7144\n",
            "Epoch 17/30\n",
            "5037/5037 [==============================] - 0s 20us/step - loss: 0.8183 - accuracy: 0.7238 - val_loss: 0.9231 - val_accuracy: 0.7079\n",
            "Epoch 18/30\n",
            "5037/5037 [==============================] - 0s 23us/step - loss: 0.8174 - accuracy: 0.7256 - val_loss: 0.9229 - val_accuracy: 0.7111\n",
            "Epoch 19/30\n",
            "5037/5037 [==============================] - 0s 23us/step - loss: 0.8168 - accuracy: 0.7254 - val_loss: 0.9238 - val_accuracy: 0.7106\n",
            "Epoch 20/30\n",
            "5037/5037 [==============================] - 0s 23us/step - loss: 0.8165 - accuracy: 0.7268 - val_loss: 0.9222 - val_accuracy: 0.7088\n",
            "Epoch 21/30\n",
            "5037/5037 [==============================] - 0s 24us/step - loss: 0.8145 - accuracy: 0.7268 - val_loss: 0.9260 - val_accuracy: 0.7079\n",
            "Epoch 22/30\n",
            "5037/5037 [==============================] - 0s 24us/step - loss: 0.8150 - accuracy: 0.7254 - val_loss: 0.9235 - val_accuracy: 0.7079\n",
            "Epoch 23/30\n",
            "5037/5037 [==============================] - 0s 23us/step - loss: 0.8141 - accuracy: 0.7270 - val_loss: 0.9241 - val_accuracy: 0.7088\n",
            "Epoch 24/30\n",
            "5037/5037 [==============================] - 0s 21us/step - loss: 0.8146 - accuracy: 0.7268 - val_loss: 0.9223 - val_accuracy: 0.7102\n",
            "Epoch 25/30\n",
            "5037/5037 [==============================] - 0s 23us/step - loss: 0.8137 - accuracy: 0.7260 - val_loss: 0.9229 - val_accuracy: 0.7088\n",
            "Epoch 26/30\n",
            "5037/5037 [==============================] - 0s 23us/step - loss: 0.8120 - accuracy: 0.7276 - val_loss: 0.9216 - val_accuracy: 0.7106\n",
            "Epoch 27/30\n",
            "5037/5037 [==============================] - 0s 20us/step - loss: 0.8128 - accuracy: 0.7270 - val_loss: 0.9222 - val_accuracy: 0.7097\n",
            "Epoch 28/30\n",
            "5037/5037 [==============================] - 0s 21us/step - loss: 0.8110 - accuracy: 0.7304 - val_loss: 0.9256 - val_accuracy: 0.7056\n",
            "Epoch 29/30\n",
            "5037/5037 [==============================] - 0s 23us/step - loss: 0.8107 - accuracy: 0.7256 - val_loss: 0.9208 - val_accuracy: 0.7120\n",
            "Epoch 30/30\n",
            "5037/5037 [==============================] - 0s 23us/step - loss: 0.8104 - accuracy: 0.7270 - val_loss: 0.9227 - val_accuracy: 0.7120\n"
          ],
          "name": "stdout"
        }
      ]
    },
    {
      "cell_type": "markdown",
      "metadata": {
        "id": "dgw9tmzT6lK7"
      },
      "source": [
        "The output already provides a lot of information how well your model performance and whether is shows tendencies of overfitting. You can also obtain such insight explicitly after the model has trained. For example, you can use *evaluate()* to compute model performance. "
      ]
    },
    {
      "cell_type": "code",
      "metadata": {
        "id": "8M373W4A6lK7"
      },
      "source": [
        "#use evaluate to evaluate your model and check the output\n",
        "\n",
        "\n",
        "# print test loss and accuracy "
      ],
      "execution_count": null,
      "outputs": []
    },
    {
      "cell_type": "markdown",
      "metadata": {
        "id": "SLOKX8Z_6lK8"
      },
      "source": [
        "The metrics that *evaluate()* gives us depend on the input argument *metrics* that we used when setting up our NN. Keras knows several other metrics (see [Keras doc. for details](https://keras.io/metrics/)) but not all known metrics are supported for training the NN. Between, you can also extend the set of metrics with customer metrics (see this [example](https://machinelearningmastery.com/custom-metrics-deep-learning-keras-python/) if interested.).\n",
        "\n",
        "We also have access to model performance results via the result of *model.fit()*. Use history on the variable 'story' you saved model.fit to and check its keys and values:"
      ]
    },
    {
      "cell_type": "code",
      "metadata": {
        "id": "QHLKr4ZG6lK8",
        "outputId": "c8f966d3-f559-4cc4-c22c-0b31210e7abb"
      },
      "source": [
        ""
      ],
      "execution_count": null,
      "outputs": [
        {
          "output_type": "execute_result",
          "data": {
            "text/plain": [
              "dict_keys(['val_loss', 'val_accuracy', 'loss', 'accuracy'])"
            ]
          },
          "metadata": {
            "tags": []
          },
          "execution_count": 30
        }
      ]
    },
    {
      "cell_type": "markdown",
      "metadata": {
        "id": "Zg54WCCc6lK8"
      },
      "source": [
        "It is good practice to define custom functions to diagnose model performance and display results as needed. Here are some examples."
      ]
    },
    {
      "cell_type": "code",
      "metadata": {
        "id": "YwWqKFmQ6lK8",
        "outputId": "cb966afe-6458-479c-d075-78b1ca6c7c77"
      },
      "source": [
        "def show_history(story):\n",
        "    plt.plot(story.history['accuracy'])\n",
        "    plt.plot(story.history['val_accuracy'])\n",
        "    plt.ylabel('accuracy')\n",
        "    plt.xlabel('epoch')\n",
        "    plt.legend(['train_accuracy', 'test_accuracy'], loc='best')\n",
        "    plt.show()\n",
        "\n",
        "show_history(story)"
      ],
      "execution_count": null,
      "outputs": [
        {
          "output_type": "display_data",
          "data": {
            "image/png": "[encoded data removed]",
            "text/plain": [
              "<Figure size 432x288 with 1 Axes>"
            ]
          },
          "metadata": {
            "tags": [],
            "needs_background": "light"
          }
        }
      ]
    },
    {
      "cell_type": "code",
      "metadata": {
        "id": "zU9_j3pU6lK9",
        "outputId": "c5d834b3-3567-4c1c-e526-fdaa9c8f82f6"
      },
      "source": [
        "def show_history(story):\n",
        "    fig, (ax1, ax2) = plt.subplots(1, 2)\n",
        "    fig.set_size_inches(18.5, 10.5)\n",
        "    ax1.plot(story.history['accuracy'])\n",
        "    ax1.plot(story.history['val_accuracy'])\n",
        "    ax1.set(xlabel='epoch', ylabel='accuracy')\n",
        "    ax1.legend(['train_accuracy', 'test_accuracy'], loc='best')\n",
        "    ax1.set_title('Accuracy evolution during NN training')\n",
        "    \n",
        "    ax2.plot(story.history['loss'])\n",
        "    ax2.plot(story.history['val_loss'])\n",
        "    ax2.set(xlabel='epoch', ylabel='loss')\n",
        "    ax2.legend(['train_loss', 'test_loss'], loc='best')\n",
        "    ax2.set_title('Loss evolution during NN training')\n",
        "    plt.show()\n",
        "\n",
        "show_history(story)\n"
      ],
      "execution_count": null,
      "outputs": [
        {
          "output_type": "display_data",
          "data": {
            "image/png": "[encoded data removed]",
            "text/plain": [
              "<Figure size 1332x756 with 2 Axes>"
            ]
          },
          "metadata": {
            "tags": [],
            "needs_background": "light"
          }
        }
      ]
    },
    {
      "cell_type": "markdown",
      "metadata": {
        "id": "7X81Xqg76lK9"
      },
      "source": [
        "To get more insight and benefit from the full stack of performance measures that you know, we can simply calculate test set predictions explicitly and then proceed with these in the usual way, producing ROC curves, confusion tables, and the like."
      ]
    },
    {
      "cell_type": "code",
      "metadata": {
        "id": "EQKA_S8n6lK9",
        "outputId": "df3b7b1c-7269-40fa-af29-12c47c91a4a3"
      },
      "source": [
        "# Compute predictions and save them in yhat\n",
        "yhat = \n",
        "\n",
        "yhat.shape"
      ],
      "execution_count": null,
      "outputs": [
        {
          "output_type": "execute_result",
          "data": {
            "text/plain": [
              "(2160, 6)"
            ]
          },
          "metadata": {
            "tags": []
          },
          "execution_count": 41
        }
      ]
    },
    {
      "cell_type": "code",
      "metadata": {
        "id": "YKsBuTDg6lK-",
        "outputId": "08b946f1-0594-4f2e-ee40-357f59f69a9e"
      },
      "source": [
        "# Finding the most probable class\n",
        "yhat_c = np.argmax(yhat, axis=1)\n",
        "print(yhat_c)"
      ],
      "execution_count": null,
      "outputs": [
        {
          "output_type": "stream",
          "text": [
            "[4 4 4 ... 4 4 4]\n"
          ],
          "name": "stdout"
        }
      ]
    },
    {
      "cell_type": "code",
      "metadata": {
        "id": "2k2FeUmJ6lK-"
      },
      "source": [
        "pd.crosstab(index=app[\"user_rating\"],columns=\"count\") "
      ],
      "execution_count": null,
      "outputs": []
    },
    {
      "cell_type": "code",
      "metadata": {
        "id": "7SAEF9pm6lK-",
        "outputId": "7602d185-29eb-4fe9-c4ba-fdbcf39e16ef"
      },
      "source": [
        "from sklearn.metrics import classification_report\n",
        "target_names = [\"Grade 0\",\"Grade 1\",\"Grade 2\",\"Grade 3\",\"Grade 4\",\"Grade 5\"]\n",
        "true_label = np.argmax(y_test,axis = 1)\n",
        "#print the following classification report\n",
        "\n"
      ],
      "execution_count": null,
      "outputs": [
        {
          "output_type": "stream",
          "text": [
            "\n",
            "Clasification report:\n",
            "               precision    recall  f1-score   support\n",
            "\n",
            "     Grade 0       0.56      0.32      0.41       282\n",
            "     Grade 1       0.00      0.00      0.00        20\n",
            "     Grade 2       0.20      0.01      0.02       110\n",
            "     Grade 3       0.21      0.03      0.05       117\n",
            "     Grade 4       0.73      0.97      0.83      1489\n",
            "     Grade 5       0.00      0.00      0.00       142\n",
            "\n",
            "    accuracy                           0.71      2160\n",
            "   macro avg       0.28      0.22      0.22      2160\n",
            "weighted avg       0.60      0.71      0.63      2160\n",
            "\n"
          ],
          "name": "stdout"
        }
      ]
    },
    {
      "cell_type": "code",
      "metadata": {
        "id": "wWff-OKn6lK-",
        "outputId": "ff54d0df-e601-498b-e94d-845b26d7b782"
      },
      "source": [
        "from sklearn.metrics import confusion_matrix\n",
        "# print the confustion matrix\n",
        "\n"
      ],
      "execution_count": null,
      "outputs": [
        {
          "output_type": "stream",
          "text": [
            "\n",
            "Confusion matrix:\n",
            " [[  90    0    1    3  188    0]\n",
            " [   4    0    0    0   16    0]\n",
            " [  12    0    1    2   95    0]\n",
            " [   9    0    1    3  104    0]\n",
            " [  37    0    2    5 1444    1]\n",
            " [  10    0    0    1  131    0]]\n"
          ],
          "name": "stdout"
        }
      ]
    },
    {
      "cell_type": "markdown",
      "metadata": {
        "id": "WNQFYcw06lK_"
      },
      "source": [
        "### 9: dropout\n",
        "Dropout 'impedes' the model and can be used against overfitting. It randomly sets a fraction rate of input units to 0 at each update during training time, which is a manner of regularization. Let's add up the Dropout rates after the hidden layers.\n",
        "\n"
      ]
    },
    {
      "cell_type": "code",
      "metadata": {
        "id": "9zzkwgRM6lK_"
      },
      "source": [
        "#Let's rebuild the model and add 2 dropout layers after each Hidden Layer with a drop out rate of 0.1 (we can leave the bias setting to default this time)\n"
      ],
      "execution_count": null,
      "outputs": []
    },
    {
      "cell_type": "code",
      "metadata": {
        "id": "sUeuh4hL6lK_"
      },
      "source": [
        "# fit and evaluate the model\n"
      ],
      "execution_count": null,
      "outputs": []
    },
    {
      "cell_type": "code",
      "metadata": {
        "id": "qZgpbGYAKpbH"
      },
      "source": [
        "#print Test Loss and Accuracy\n",
        "#plot the history using the above defined function show_history( )"
      ],
      "execution_count": null,
      "outputs": []
    },
    {
      "cell_type": "markdown",
      "metadata": {
        "id": "Ul4iMBHg6lK_"
      },
      "source": [
        "### more on optimizers\n",
        "\n",
        "So far we have mainly been looking at the SGD as our optimization algorithm, but there are many more: Adam, RMSprop, Adagrad, etc. (some more info here http://ruder.io/optimizing-gradient-descent/). Like other tools they all have their strengths and weaknesses. We will look more into Adam:"
      ]
    },
    {
      "cell_type": "code",
      "metadata": {
        "id": "fOA7RaR66lK_",
        "outputId": "f8579939-3607-4aa1-fec3-07aa00193a59"
      },
      "source": [
        "# build the same model as before, including the Dropout Layers, but now instead of SGD, choose Adam with a lr=0.01 as optimizer.\n",
        "# fit and evaluate the model\n",
        "from keras import optimizers\n",
        "\n"
      ],
      "execution_count": null,
      "outputs": [
        {
          "output_type": "stream",
          "text": [
            "Model: \"sequential_4\"\n",
            "_________________________________________________________________\n",
            "Layer (type)                 Output Shape              Param #   \n",
            "=================================================================\n",
            "dense_13 (Dense)             (None, 128)               4608      \n",
            "_________________________________________________________________\n",
            "dropout_5 (Dropout)          (None, 128)               0         \n",
            "_________________________________________________________________\n",
            "dense_14 (Dense)             (None, 128)               16512     \n",
            "_________________________________________________________________\n",
            "dropout_6 (Dropout)          (None, 128)               0         \n",
            "_________________________________________________________________\n",
            "dense_15 (Dense)             (None, 6)                 774       \n",
            "=================================================================\n",
            "Total params: 21,894\n",
            "Trainable params: 21,894\n",
            "Non-trainable params: 0\n",
            "_________________________________________________________________\n"
          ],
          "name": "stdout"
        }
      ]
    },
    {
      "cell_type": "code",
      "metadata": {
        "id": "LFaLh58O6lLA"
      },
      "source": [
        "#print Test Loss and Accuracy\n",
        "#plot the history using the above defined function show_history( )"
      ],
      "execution_count": null,
      "outputs": []
    },
    {
      "cell_type": "markdown",
      "metadata": {
        "id": "iJhwbqIH6lLA"
      },
      "source": [
        "### 10: momentum and learning rate"
      ]
    },
    {
      "cell_type": "markdown",
      "metadata": {
        "id": "JqiOrO696lLA"
      },
      "source": [
        "\n",
        "Learning rate has been overlooked for a while but currently a lot of research is looking into it.\n",
        "Lower LR takes more time but allows better allocation of local minimum, higher LR allows faster calculations but drastic jumps do not always yield good results. However, learning rate doesn't have to be remained constant. We will try different learning rate schedules for our NN.\n",
        "\n",
        "The SGD optimization algorithm in Keras has an argument called **decay**. This argument is used in the time-based learning rate decay schedule equation as follows:\n",
        "LearningRate = LearningRate * 1/(1 + decay * epoch) (if decay=0 then there is no change)\n",
        "\n",
        "Another term to know is **momentum**. Use a large momentum. Using a larger momentum value will help the optimization algorithm to continue to make updates in the right direction when your learning rate shrinks to small values.\n",
        "\n",
        "$$\\Delta  W_k(i) = -\\eta  \\frac{\\partial E}{\\partial W_k} + \\mu  \\Delta W_k(i-1)$$\n",
        "\n",
        "\n",
        "$\\mu$ is a momentum term here. Imagine if at some point gradient is zero, it would put the backpropagation to stall. Here momentum comes to the rescue - the algorithm remembers its last step, and adds some proportion of it to the current step. This way, even if the algorithm is stuck in a flat region, or a small local minimum, it can get out and continue towards the global minimum. So learning rate measures how much the current situation affects the next step, while momentum measures how much past steps affect the next step. \n",
        "\n"
      ]
    },
    {
      "cell_type": "code",
      "metadata": {
        "id": "uk1WsI2X6lLA"
      },
      "source": [
        "from keras.optimizers import SGD\n",
        "# rebuild the model with Dropout Layers as before\n",
        "\n",
        "\n",
        "\n",
        "# Compile the model using SGD as optimizer with the following parameters\n",
        "learning_rate = 0.01\n",
        "decay_rate = learning_rate / epochs\n",
        "momentum = 0.8\n",
        "\n",
        "\n",
        "\n",
        "# Fit and evaluate the model\n",
        "\n",
        "\n"
      ],
      "execution_count": null,
      "outputs": []
    },
    {
      "cell_type": "code",
      "metadata": {
        "id": "AxtlKoKz6lLB",
        "outputId": "1ed6b48d-f99b-4729-838c-2cfa32d4e338"
      },
      "source": [
        "# print test loss and accuracy and plit results with show_history()"
      ],
      "execution_count": null,
      "outputs": [
        {
          "output_type": "stream",
          "text": [
            "Test loss: 0.9270786824049773\n",
            "Test accuracy: 0.7074074149131775\n"
          ],
          "name": "stdout"
        },
        {
          "output_type": "display_data",
          "data": {
            "image/png": "[encoded data removed]",
            "text/plain": [
              "<Figure size 1332x756 with 2 Axes>"
            ]
          },
          "metadata": {
            "tags": [],
            "needs_background": "light"
          }
        }
      ]
    },
    {
      "cell_type": "markdown",
      "metadata": {
        "id": "35dd3a8q6lLB"
      },
      "source": [
        "## Early stopping"
      ]
    },
    {
      "cell_type": "code",
      "metadata": {
        "id": "5q6SGh3w6lLB",
        "outputId": "273f8f56-7529-4a5a-f3a2-ab9f82a4f9f6"
      },
      "source": [
        "from keras.callbacks import EarlyStopping\n",
        "# define a Callback in teh following way\n",
        "cb=EarlyStopping(monitor='val_loss', min_delta=0.1, verbose=0, patience=10, restore_best_weights=True) #difference of loss is below min_delta, it is quantified as no improvement\n",
        "\n",
        "#fit the previous model using the above defined callback \n",
        "\n",
        "\n",
        "# evaluate the model\n"
      ],
      "execution_count": null,
      "outputs": [
        {
          "output_type": "stream",
          "text": [
            "Train on 5037 samples, validate on 2160 samples\n",
            "Epoch 1/30\n",
            "5037/5037 [==============================] - 0s 40us/step - loss: 0.8542 - accuracy: 0.7161 - val_loss: 0.9215 - val_accuracy: 0.7097\n",
            "Epoch 2/30\n",
            "5037/5037 [==============================] - 0s 37us/step - loss: 0.8539 - accuracy: 0.7167 - val_loss: 0.9225 - val_accuracy: 0.7079\n",
            "Epoch 3/30\n",
            "5037/5037 [==============================] - 0s 37us/step - loss: 0.8523 - accuracy: 0.7183 - val_loss: 0.9208 - val_accuracy: 0.7093\n",
            "Epoch 4/30\n",
            "5037/5037 [==============================] - 0s 37us/step - loss: 0.8518 - accuracy: 0.7195 - val_loss: 0.9209 - val_accuracy: 0.7097\n",
            "Epoch 5/30\n",
            "5037/5037 [==============================] - 0s 37us/step - loss: 0.8503 - accuracy: 0.7157 - val_loss: 0.9203 - val_accuracy: 0.7097\n",
            "Epoch 6/30\n",
            "5037/5037 [==============================] - 0s 40us/step - loss: 0.8525 - accuracy: 0.7181 - val_loss: 0.9201 - val_accuracy: 0.7083\n",
            "Epoch 7/30\n",
            "5037/5037 [==============================] - 0s 35us/step - loss: 0.8515 - accuracy: 0.7163 - val_loss: 0.9211 - val_accuracy: 0.7088\n",
            "Epoch 8/30\n",
            "5037/5037 [==============================] - 0s 40us/step - loss: 0.8581 - accuracy: 0.7173 - val_loss: 0.9204 - val_accuracy: 0.7088\n",
            "Epoch 9/30\n",
            "5037/5037 [==============================] - 0s 34us/step - loss: 0.8490 - accuracy: 0.7185 - val_loss: 0.9211 - val_accuracy: 0.7088\n",
            "Epoch 10/30\n",
            "5037/5037 [==============================] - 0s 39us/step - loss: 0.8484 - accuracy: 0.7191 - val_loss: 0.9209 - val_accuracy: 0.7097\n",
            "Epoch 11/30\n",
            "5037/5037 [==============================] - 0s 37us/step - loss: 0.8514 - accuracy: 0.7175 - val_loss: 0.9216 - val_accuracy: 0.7074\n"
          ],
          "name": "stdout"
        }
      ]
    },
    {
      "cell_type": "code",
      "metadata": {
        "id": "IBGIwLxN6lLB",
        "outputId": "3485447b-59f4-4927-8fad-00dca1a4310b"
      },
      "source": [
        "#print loss and accuracy and plot it using show_history()"
      ],
      "execution_count": null,
      "outputs": [
        {
          "output_type": "stream",
          "text": [
            "Test loss: 0.9214704500304328\n",
            "Test accuracy: 0.7097222208976746\n"
          ],
          "name": "stdout"
        },
        {
          "output_type": "display_data",
          "data": {
            "image/png": "[encoded data removed]",
            "text/plain": [
              "<Figure size 1332x756 with 2 Axes>"
            ]
          },
          "metadata": {
            "tags": [],
            "needs_background": "light"
          }
        }
      ]
    }
  ]
}