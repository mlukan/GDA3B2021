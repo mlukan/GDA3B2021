{
 "cells": [
  {
   "cell_type": "markdown",
   "metadata": {
    "colab_type": "text",
    "id": "view-in-github"
   },
   "source": [
    "<a href=\"https://colab.research.google.com/github/mlukan/GDA3B2021/blob/main/NN/Quest_Challenge__NN_in_Keras.ipynb\" target=\"_parent\"><img src=\"https://colab.research.google.com/assets/colab-badge.svg\" alt=\"Open In Colab\"/></a>"
   ]
  },
  {
   "cell_type": "markdown",
   "metadata": {
    "id": "SuLKSWb86lKs"
   },
   "source": []
  },
  {
   "cell_type": "markdown",
   "metadata": {
    "id": "E-JlC9Rb6lKx"
   },
   "source": [
    "\n",
    "\n",
    "\n",
    "\n",
    "# Neural Networks using Keras "
   ]
  },
  {
   "cell_type": "markdown",
   "metadata": {
    "id": "Lv4fDZZr6lKx"
   },
   "source": [
    "\n",
    "### Outline\n",
    "Our goal is to build a NN for multi-class classification. We need to make several decisions when configuring our NN and focus on these when learning about Keras. \n",
    " 1. number of hidden layers\n",
    " 2. number of neurons in hidden layers\n",
    " 3. activation functions\n",
    " 4. type of weight initialization\n",
    " 5. loss function\n",
    " 6. learning rate and momentum\n",
    " 6. optimizer\n",
    " 7. size of batch\n",
    " 8. number of epochs\n",
    " 9. regularization (dropout)"
   ]
  },
  {
   "cell_type": "code",
   "execution_count": 1,
   "metadata": {
    "colab": {
     "base_uri": "https://localhost:8080/"
    },
    "id": "xd4_RjCGA4iK",
    "outputId": "3030edc6-8146-4775-c56a-50e6deba2259"
   },
   "outputs": [],
   "source": [
    "# Setting up the environment: import standard libraries and load the data. \n",
    "import numpy as np\n",
    "import matplotlib.pyplot as plt\n",
    "from sklearn.preprocessing import LabelEncoder\n",
    "from sklearn.model_selection import train_test_split\n",
    "from keras.utils import np_utils\n",
    "\n",
    "# Load dataset and set app name as index\n",
    "import pandas as pd\n",
    "\n",
    "'''\n",
    "from google.colab import drive\n",
    "drive.mount('/content/drive')\n",
    "\n",
    "#set the path to where you stored the AppleStore_prep.csv data here\n",
    "path=\"/content/drive/My Drive/Colab Notebooks/WCS/\"\n",
    "'''\n",
    "import os\n",
    "path=os.path.split(os.getcwd())[:-1][0]+'/files/'\n"
   ]
  },
  {
   "cell_type": "code",
   "execution_count": 2,
   "metadata": {
    "colab": {
     "base_uri": "https://localhost:8080/",
     "height": 455
    },
    "id": "UbQw4uikBM9W",
    "outputId": "5c52cf0b-694b-4b4d-dfe3-ef4f5d4b7fa6"
   },
   "outputs": [
    {
     "data": {
      "text/html": [
       "<div>\n",
       "<style scoped>\n",
       "    .dataframe tbody tr th:only-of-type {\n",
       "        vertical-align: middle;\n",
       "    }\n",
       "\n",
       "    .dataframe tbody tr th {\n",
       "        vertical-align: top;\n",
       "    }\n",
       "\n",
       "    .dataframe thead th {\n",
       "        text-align: right;\n",
       "    }\n",
       "</style>\n",
       "<table border=\"1\" class=\"dataframe\">\n",
       "  <thead>\n",
       "    <tr style=\"text-align: right;\">\n",
       "      <th></th>\n",
       "      <th>size_bytes</th>\n",
       "      <th>price</th>\n",
       "      <th>rating_count_tot</th>\n",
       "      <th>sup_devices.num</th>\n",
       "      <th>ipadSc_urls.num</th>\n",
       "      <th>lang.num</th>\n",
       "      <th>vpp_lic</th>\n",
       "      <th>currency_USD</th>\n",
       "      <th>cont_rating_12+</th>\n",
       "      <th>cont_rating_17+</th>\n",
       "      <th>...</th>\n",
       "      <th>prime_genre_Photo &amp; Video</th>\n",
       "      <th>prime_genre_Productivity</th>\n",
       "      <th>prime_genre_Reference</th>\n",
       "      <th>prime_genre_Shopping</th>\n",
       "      <th>prime_genre_Social Networking</th>\n",
       "      <th>prime_genre_Sports</th>\n",
       "      <th>prime_genre_Travel</th>\n",
       "      <th>prime_genre_Utilities</th>\n",
       "      <th>prime_genre_Weather</th>\n",
       "      <th>user_rating</th>\n",
       "    </tr>\n",
       "    <tr>\n",
       "      <th>track_name</th>\n",
       "      <th></th>\n",
       "      <th></th>\n",
       "      <th></th>\n",
       "      <th></th>\n",
       "      <th></th>\n",
       "      <th></th>\n",
       "      <th></th>\n",
       "      <th></th>\n",
       "      <th></th>\n",
       "      <th></th>\n",
       "      <th></th>\n",
       "      <th></th>\n",
       "      <th></th>\n",
       "      <th></th>\n",
       "      <th></th>\n",
       "      <th></th>\n",
       "      <th></th>\n",
       "      <th></th>\n",
       "      <th></th>\n",
       "      <th></th>\n",
       "      <th></th>\n",
       "    </tr>\n",
       "  </thead>\n",
       "  <tbody>\n",
       "    <tr>\n",
       "      <th>PAC-MAN Premium</th>\n",
       "      <td>-0.273806</td>\n",
       "      <td>0.388126</td>\n",
       "      <td>0.110902</td>\n",
       "      <td>0.170753</td>\n",
       "      <td>0.651051</td>\n",
       "      <td>0.576471</td>\n",
       "      <td>0.083642</td>\n",
       "      <td>1</td>\n",
       "      <td>0</td>\n",
       "      <td>0</td>\n",
       "      <td>...</td>\n",
       "      <td>0</td>\n",
       "      <td>0</td>\n",
       "      <td>0</td>\n",
       "      <td>0</td>\n",
       "      <td>0</td>\n",
       "      <td>0</td>\n",
       "      <td>0</td>\n",
       "      <td>0</td>\n",
       "      <td>0</td>\n",
       "      <td>4.0</td>\n",
       "    </tr>\n",
       "    <tr>\n",
       "      <th>Evernote - stay organized</th>\n",
       "      <td>-0.112911</td>\n",
       "      <td>-0.295960</td>\n",
       "      <td>1.956477</td>\n",
       "      <td>-0.096808</td>\n",
       "      <td>0.651051</td>\n",
       "      <td>2.218083</td>\n",
       "      <td>0.083642</td>\n",
       "      <td>1</td>\n",
       "      <td>0</td>\n",
       "      <td>0</td>\n",
       "      <td>...</td>\n",
       "      <td>0</td>\n",
       "      <td>1</td>\n",
       "      <td>0</td>\n",
       "      <td>0</td>\n",
       "      <td>0</td>\n",
       "      <td>0</td>\n",
       "      <td>0</td>\n",
       "      <td>0</td>\n",
       "      <td>0</td>\n",
       "      <td>4.0</td>\n",
       "    </tr>\n",
       "    <tr>\n",
       "      <th>WeatherBug - Local Weather, Radar, Maps, Alerts</th>\n",
       "      <td>-0.274542</td>\n",
       "      <td>-0.295960</td>\n",
       "      <td>2.319827</td>\n",
       "      <td>-0.096808</td>\n",
       "      <td>0.651051</td>\n",
       "      <td>-0.307474</td>\n",
       "      <td>0.083642</td>\n",
       "      <td>1</td>\n",
       "      <td>0</td>\n",
       "      <td>0</td>\n",
       "      <td>...</td>\n",
       "      <td>0</td>\n",
       "      <td>0</td>\n",
       "      <td>0</td>\n",
       "      <td>0</td>\n",
       "      <td>0</td>\n",
       "      <td>0</td>\n",
       "      <td>0</td>\n",
       "      <td>0</td>\n",
       "      <td>1</td>\n",
       "      <td>4.0</td>\n",
       "    </tr>\n",
       "    <tr>\n",
       "      <th>eBay: Best App to Buy, Sell, Save! Online Shopping</th>\n",
       "      <td>-0.196620</td>\n",
       "      <td>-0.295960</td>\n",
       "      <td>3.292413</td>\n",
       "      <td>-0.096808</td>\n",
       "      <td>0.651051</td>\n",
       "      <td>0.450193</td>\n",
       "      <td>0.083642</td>\n",
       "      <td>1</td>\n",
       "      <td>1</td>\n",
       "      <td>0</td>\n",
       "      <td>...</td>\n",
       "      <td>0</td>\n",
       "      <td>0</td>\n",
       "      <td>0</td>\n",
       "      <td>1</td>\n",
       "      <td>0</td>\n",
       "      <td>0</td>\n",
       "      <td>0</td>\n",
       "      <td>0</td>\n",
       "      <td>0</td>\n",
       "      <td>4.0</td>\n",
       "    </tr>\n",
       "    <tr>\n",
       "      <th>Bible</th>\n",
       "      <td>-0.296117</td>\n",
       "      <td>-0.295960</td>\n",
       "      <td>12.847931</td>\n",
       "      <td>-0.096808</td>\n",
       "      <td>0.651051</td>\n",
       "      <td>4.996197</td>\n",
       "      <td>0.083642</td>\n",
       "      <td>1</td>\n",
       "      <td>0</td>\n",
       "      <td>0</td>\n",
       "      <td>...</td>\n",
       "      <td>0</td>\n",
       "      <td>0</td>\n",
       "      <td>1</td>\n",
       "      <td>0</td>\n",
       "      <td>0</td>\n",
       "      <td>0</td>\n",
       "      <td>0</td>\n",
       "      <td>0</td>\n",
       "      <td>0</td>\n",
       "      <td>4.0</td>\n",
       "    </tr>\n",
       "  </tbody>\n",
       "</table>\n",
       "<p>5 rows × 36 columns</p>\n",
       "</div>"
      ],
      "text/plain": [
       "                                                    size_bytes     price  \\\n",
       "track_name                                                                 \n",
       "PAC-MAN Premium                                      -0.273806  0.388126   \n",
       "Evernote - stay organized                            -0.112911 -0.295960   \n",
       "WeatherBug - Local Weather, Radar, Maps, Alerts      -0.274542 -0.295960   \n",
       "eBay: Best App to Buy, Sell, Save! Online Shopping   -0.196620 -0.295960   \n",
       "Bible                                                -0.296117 -0.295960   \n",
       "\n",
       "                                                    rating_count_tot  \\\n",
       "track_name                                                             \n",
       "PAC-MAN Premium                                             0.110902   \n",
       "Evernote - stay organized                                   1.956477   \n",
       "WeatherBug - Local Weather, Radar, Maps, Alerts             2.319827   \n",
       "eBay: Best App to Buy, Sell, Save! Online Shopping          3.292413   \n",
       "Bible                                                      12.847931   \n",
       "\n",
       "                                                    sup_devices.num  \\\n",
       "track_name                                                            \n",
       "PAC-MAN Premium                                            0.170753   \n",
       "Evernote - stay organized                                 -0.096808   \n",
       "WeatherBug - Local Weather, Radar, Maps, Alerts           -0.096808   \n",
       "eBay: Best App to Buy, Sell, Save! Online Shopping        -0.096808   \n",
       "Bible                                                     -0.096808   \n",
       "\n",
       "                                                    ipadSc_urls.num  lang.num  \\\n",
       "track_name                                                                      \n",
       "PAC-MAN Premium                                            0.651051  0.576471   \n",
       "Evernote - stay organized                                  0.651051  2.218083   \n",
       "WeatherBug - Local Weather, Radar, Maps, Alerts            0.651051 -0.307474   \n",
       "eBay: Best App to Buy, Sell, Save! Online Shopping         0.651051  0.450193   \n",
       "Bible                                                      0.651051  4.996197   \n",
       "\n",
       "                                                     vpp_lic  currency_USD  \\\n",
       "track_name                                                                   \n",
       "PAC-MAN Premium                                     0.083642             1   \n",
       "Evernote - stay organized                           0.083642             1   \n",
       "WeatherBug - Local Weather, Radar, Maps, Alerts     0.083642             1   \n",
       "eBay: Best App to Buy, Sell, Save! Online Shopping  0.083642             1   \n",
       "Bible                                               0.083642             1   \n",
       "\n",
       "                                                    cont_rating_12+  \\\n",
       "track_name                                                            \n",
       "PAC-MAN Premium                                                   0   \n",
       "Evernote - stay organized                                         0   \n",
       "WeatherBug - Local Weather, Radar, Maps, Alerts                   0   \n",
       "eBay: Best App to Buy, Sell, Save! Online Shopping                1   \n",
       "Bible                                                             0   \n",
       "\n",
       "                                                    cont_rating_17+  ...  \\\n",
       "track_name                                                           ...   \n",
       "PAC-MAN Premium                                                   0  ...   \n",
       "Evernote - stay organized                                         0  ...   \n",
       "WeatherBug - Local Weather, Radar, Maps, Alerts                   0  ...   \n",
       "eBay: Best App to Buy, Sell, Save! Online Shopping                0  ...   \n",
       "Bible                                                             0  ...   \n",
       "\n",
       "                                                    prime_genre_Photo & Video  \\\n",
       "track_name                                                                      \n",
       "PAC-MAN Premium                                                             0   \n",
       "Evernote - stay organized                                                   0   \n",
       "WeatherBug - Local Weather, Radar, Maps, Alerts                             0   \n",
       "eBay: Best App to Buy, Sell, Save! Online Shopping                          0   \n",
       "Bible                                                                       0   \n",
       "\n",
       "                                                    prime_genre_Productivity  \\\n",
       "track_name                                                                     \n",
       "PAC-MAN Premium                                                            0   \n",
       "Evernote - stay organized                                                  1   \n",
       "WeatherBug - Local Weather, Radar, Maps, Alerts                            0   \n",
       "eBay: Best App to Buy, Sell, Save! Online Shopping                         0   \n",
       "Bible                                                                      0   \n",
       "\n",
       "                                                    prime_genre_Reference  \\\n",
       "track_name                                                                  \n",
       "PAC-MAN Premium                                                         0   \n",
       "Evernote - stay organized                                               0   \n",
       "WeatherBug - Local Weather, Radar, Maps, Alerts                         0   \n",
       "eBay: Best App to Buy, Sell, Save! Online Shopping                      0   \n",
       "Bible                                                                   1   \n",
       "\n",
       "                                                    prime_genre_Shopping  \\\n",
       "track_name                                                                 \n",
       "PAC-MAN Premium                                                        0   \n",
       "Evernote - stay organized                                              0   \n",
       "WeatherBug - Local Weather, Radar, Maps, Alerts                        0   \n",
       "eBay: Best App to Buy, Sell, Save! Online Shopping                     1   \n",
       "Bible                                                                  0   \n",
       "\n",
       "                                                    prime_genre_Social Networking  \\\n",
       "track_name                                                                          \n",
       "PAC-MAN Premium                                                                 0   \n",
       "Evernote - stay organized                                                       0   \n",
       "WeatherBug - Local Weather, Radar, Maps, Alerts                                 0   \n",
       "eBay: Best App to Buy, Sell, Save! Online Shopping                              0   \n",
       "Bible                                                                           0   \n",
       "\n",
       "                                                    prime_genre_Sports  \\\n",
       "track_name                                                               \n",
       "PAC-MAN Premium                                                      0   \n",
       "Evernote - stay organized                                            0   \n",
       "WeatherBug - Local Weather, Radar, Maps, Alerts                      0   \n",
       "eBay: Best App to Buy, Sell, Save! Online Shopping                   0   \n",
       "Bible                                                                0   \n",
       "\n",
       "                                                    prime_genre_Travel  \\\n",
       "track_name                                                               \n",
       "PAC-MAN Premium                                                      0   \n",
       "Evernote - stay organized                                            0   \n",
       "WeatherBug - Local Weather, Radar, Maps, Alerts                      0   \n",
       "eBay: Best App to Buy, Sell, Save! Online Shopping                   0   \n",
       "Bible                                                                0   \n",
       "\n",
       "                                                    prime_genre_Utilities  \\\n",
       "track_name                                                                  \n",
       "PAC-MAN Premium                                                         0   \n",
       "Evernote - stay organized                                               0   \n",
       "WeatherBug - Local Weather, Radar, Maps, Alerts                         0   \n",
       "eBay: Best App to Buy, Sell, Save! Online Shopping                      0   \n",
       "Bible                                                                   0   \n",
       "\n",
       "                                                    prime_genre_Weather  \\\n",
       "track_name                                                                \n",
       "PAC-MAN Premium                                                       0   \n",
       "Evernote - stay organized                                             0   \n",
       "WeatherBug - Local Weather, Radar, Maps, Alerts                       1   \n",
       "eBay: Best App to Buy, Sell, Save! Online Shopping                    0   \n",
       "Bible                                                                 0   \n",
       "\n",
       "                                                    user_rating  \n",
       "track_name                                                       \n",
       "PAC-MAN Premium                                             4.0  \n",
       "Evernote - stay organized                                   4.0  \n",
       "WeatherBug - Local Weather, Radar, Maps, Alerts             4.0  \n",
       "eBay: Best App to Buy, Sell, Save! Online Shopping          4.0  \n",
       "Bible                                                       4.0  \n",
       "\n",
       "[5 rows x 36 columns]"
      ]
     },
     "execution_count": 2,
     "metadata": {},
     "output_type": "execute_result"
    }
   ],
   "source": [
    "# Select the app name as row index\n",
    "# Load dataset and set app name as index\n",
    "data_file = path +'AppleStore_prep.csv' \n",
    "app = pd.read_csv(data_file, index_col=False, sep='\\t', encoding='utf-8')\n",
    "app = app.set_index('track_name')\n",
    "app.head()"
   ]
  },
  {
   "cell_type": "code",
   "execution_count": 3,
   "metadata": {
    "id": "-n9rz3ySBrz6"
   },
   "outputs": [
    {
     "data": {
      "text/plain": [
       "array([[0., 0., 0., 0., 1., 0.],\n",
       "       [0., 0., 0., 0., 1., 0.],\n",
       "       [0., 0., 0., 0., 1., 0.],\n",
       "       ...,\n",
       "       [0., 0., 0., 0., 1., 0.],\n",
       "       [0., 0., 0., 0., 1., 0.],\n",
       "       [0., 0., 0., 0., 0., 1.]], dtype=float32)"
      ]
     },
     "execution_count": 3,
     "metadata": {},
     "output_type": "execute_result"
    }
   ],
   "source": [
    "\n",
    "# Prepare the target variable\n",
    "# LabelEncoder() transforms a string vector to a num vector\n",
    "# Encode the target variable\n",
    "encoder = LabelEncoder()\n",
    "encoder.fit(app[\"user_rating\"])\n",
    "encoded_y = encoder.transform(app[\"user_rating\"])\n",
    "\n",
    "# convert integers to dummy variables (i.e. one hot encoded)\n",
    "from keras.utils import np_utils\n",
    "hot_y = np_utils.to_categorical(encoded_y)\n",
    "hot_y  # 6 levels -> 6 columns\n",
    "\n",
    "#data = np.array(app)  # convert to numpy array\n"
   ]
  },
  {
   "cell_type": "code",
   "execution_count": 4,
   "metadata": {
    "id": "CZvL8RGt6lKz",
    "outputId": "7908f411-3362-4317-c16e-e1e26aee2553",
    "pycharm": {
     "is_executing": false
    }
   },
   "outputs": [
    {
     "name": "stdout",
     "output_type": "stream",
     "text": [
      "(5037, 35)\n",
      "(5037, 6)\n"
     ]
    },
    {
     "data": {
      "text/html": [
       "<div>\n",
       "<style scoped>\n",
       "    .dataframe tbody tr th:only-of-type {\n",
       "        vertical-align: middle;\n",
       "    }\n",
       "\n",
       "    .dataframe tbody tr th {\n",
       "        vertical-align: top;\n",
       "    }\n",
       "\n",
       "    .dataframe thead th {\n",
       "        text-align: right;\n",
       "    }\n",
       "</style>\n",
       "<table border=\"1\" class=\"dataframe\">\n",
       "  <thead>\n",
       "    <tr style=\"text-align: right;\">\n",
       "      <th></th>\n",
       "      <th>size_bytes</th>\n",
       "      <th>price</th>\n",
       "      <th>rating_count_tot</th>\n",
       "      <th>sup_devices.num</th>\n",
       "      <th>ipadSc_urls.num</th>\n",
       "      <th>lang.num</th>\n",
       "      <th>vpp_lic</th>\n",
       "      <th>currency_USD</th>\n",
       "      <th>cont_rating_12+</th>\n",
       "      <th>cont_rating_17+</th>\n",
       "      <th>...</th>\n",
       "      <th>prime_genre_News</th>\n",
       "      <th>prime_genre_Photo &amp; Video</th>\n",
       "      <th>prime_genre_Productivity</th>\n",
       "      <th>prime_genre_Reference</th>\n",
       "      <th>prime_genre_Shopping</th>\n",
       "      <th>prime_genre_Social Networking</th>\n",
       "      <th>prime_genre_Sports</th>\n",
       "      <th>prime_genre_Travel</th>\n",
       "      <th>prime_genre_Utilities</th>\n",
       "      <th>prime_genre_Weather</th>\n",
       "    </tr>\n",
       "    <tr>\n",
       "      <th>track_name</th>\n",
       "      <th></th>\n",
       "      <th></th>\n",
       "      <th></th>\n",
       "      <th></th>\n",
       "      <th></th>\n",
       "      <th></th>\n",
       "      <th></th>\n",
       "      <th></th>\n",
       "      <th></th>\n",
       "      <th></th>\n",
       "      <th></th>\n",
       "      <th></th>\n",
       "      <th></th>\n",
       "      <th></th>\n",
       "      <th></th>\n",
       "      <th></th>\n",
       "      <th></th>\n",
       "      <th></th>\n",
       "      <th></th>\n",
       "      <th></th>\n",
       "      <th></th>\n",
       "    </tr>\n",
       "  </thead>\n",
       "  <tbody>\n",
       "    <tr>\n",
       "      <th>PAC-MAN Premium</th>\n",
       "      <td>-0.273806</td>\n",
       "      <td>0.388126</td>\n",
       "      <td>0.110902</td>\n",
       "      <td>0.170753</td>\n",
       "      <td>0.651051</td>\n",
       "      <td>0.576471</td>\n",
       "      <td>0.083642</td>\n",
       "      <td>1</td>\n",
       "      <td>0</td>\n",
       "      <td>0</td>\n",
       "      <td>...</td>\n",
       "      <td>0</td>\n",
       "      <td>0</td>\n",
       "      <td>0</td>\n",
       "      <td>0</td>\n",
       "      <td>0</td>\n",
       "      <td>0</td>\n",
       "      <td>0</td>\n",
       "      <td>0</td>\n",
       "      <td>0</td>\n",
       "      <td>0</td>\n",
       "    </tr>\n",
       "    <tr>\n",
       "      <th>Evernote - stay organized</th>\n",
       "      <td>-0.112911</td>\n",
       "      <td>-0.295960</td>\n",
       "      <td>1.956477</td>\n",
       "      <td>-0.096808</td>\n",
       "      <td>0.651051</td>\n",
       "      <td>2.218083</td>\n",
       "      <td>0.083642</td>\n",
       "      <td>1</td>\n",
       "      <td>0</td>\n",
       "      <td>0</td>\n",
       "      <td>...</td>\n",
       "      <td>0</td>\n",
       "      <td>0</td>\n",
       "      <td>1</td>\n",
       "      <td>0</td>\n",
       "      <td>0</td>\n",
       "      <td>0</td>\n",
       "      <td>0</td>\n",
       "      <td>0</td>\n",
       "      <td>0</td>\n",
       "      <td>0</td>\n",
       "    </tr>\n",
       "    <tr>\n",
       "      <th>WeatherBug - Local Weather, Radar, Maps, Alerts</th>\n",
       "      <td>-0.274542</td>\n",
       "      <td>-0.295960</td>\n",
       "      <td>2.319827</td>\n",
       "      <td>-0.096808</td>\n",
       "      <td>0.651051</td>\n",
       "      <td>-0.307474</td>\n",
       "      <td>0.083642</td>\n",
       "      <td>1</td>\n",
       "      <td>0</td>\n",
       "      <td>0</td>\n",
       "      <td>...</td>\n",
       "      <td>0</td>\n",
       "      <td>0</td>\n",
       "      <td>0</td>\n",
       "      <td>0</td>\n",
       "      <td>0</td>\n",
       "      <td>0</td>\n",
       "      <td>0</td>\n",
       "      <td>0</td>\n",
       "      <td>0</td>\n",
       "      <td>1</td>\n",
       "    </tr>\n",
       "    <tr>\n",
       "      <th>eBay: Best App to Buy, Sell, Save! Online Shopping</th>\n",
       "      <td>-0.196620</td>\n",
       "      <td>-0.295960</td>\n",
       "      <td>3.292413</td>\n",
       "      <td>-0.096808</td>\n",
       "      <td>0.651051</td>\n",
       "      <td>0.450193</td>\n",
       "      <td>0.083642</td>\n",
       "      <td>1</td>\n",
       "      <td>1</td>\n",
       "      <td>0</td>\n",
       "      <td>...</td>\n",
       "      <td>0</td>\n",
       "      <td>0</td>\n",
       "      <td>0</td>\n",
       "      <td>0</td>\n",
       "      <td>1</td>\n",
       "      <td>0</td>\n",
       "      <td>0</td>\n",
       "      <td>0</td>\n",
       "      <td>0</td>\n",
       "      <td>0</td>\n",
       "    </tr>\n",
       "    <tr>\n",
       "      <th>Bible</th>\n",
       "      <td>-0.296117</td>\n",
       "      <td>-0.295960</td>\n",
       "      <td>12.847931</td>\n",
       "      <td>-0.096808</td>\n",
       "      <td>0.651051</td>\n",
       "      <td>4.996197</td>\n",
       "      <td>0.083642</td>\n",
       "      <td>1</td>\n",
       "      <td>0</td>\n",
       "      <td>0</td>\n",
       "      <td>...</td>\n",
       "      <td>0</td>\n",
       "      <td>0</td>\n",
       "      <td>0</td>\n",
       "      <td>1</td>\n",
       "      <td>0</td>\n",
       "      <td>0</td>\n",
       "      <td>0</td>\n",
       "      <td>0</td>\n",
       "      <td>0</td>\n",
       "      <td>0</td>\n",
       "    </tr>\n",
       "  </tbody>\n",
       "</table>\n",
       "<p>5 rows × 35 columns</p>\n",
       "</div>"
      ],
      "text/plain": [
       "                                                    size_bytes     price  \\\n",
       "track_name                                                                 \n",
       "PAC-MAN Premium                                      -0.273806  0.388126   \n",
       "Evernote - stay organized                            -0.112911 -0.295960   \n",
       "WeatherBug - Local Weather, Radar, Maps, Alerts      -0.274542 -0.295960   \n",
       "eBay: Best App to Buy, Sell, Save! Online Shopping   -0.196620 -0.295960   \n",
       "Bible                                                -0.296117 -0.295960   \n",
       "\n",
       "                                                    rating_count_tot  \\\n",
       "track_name                                                             \n",
       "PAC-MAN Premium                                             0.110902   \n",
       "Evernote - stay organized                                   1.956477   \n",
       "WeatherBug - Local Weather, Radar, Maps, Alerts             2.319827   \n",
       "eBay: Best App to Buy, Sell, Save! Online Shopping          3.292413   \n",
       "Bible                                                      12.847931   \n",
       "\n",
       "                                                    sup_devices.num  \\\n",
       "track_name                                                            \n",
       "PAC-MAN Premium                                            0.170753   \n",
       "Evernote - stay organized                                 -0.096808   \n",
       "WeatherBug - Local Weather, Radar, Maps, Alerts           -0.096808   \n",
       "eBay: Best App to Buy, Sell, Save! Online Shopping        -0.096808   \n",
       "Bible                                                     -0.096808   \n",
       "\n",
       "                                                    ipadSc_urls.num  lang.num  \\\n",
       "track_name                                                                      \n",
       "PAC-MAN Premium                                            0.651051  0.576471   \n",
       "Evernote - stay organized                                  0.651051  2.218083   \n",
       "WeatherBug - Local Weather, Radar, Maps, Alerts            0.651051 -0.307474   \n",
       "eBay: Best App to Buy, Sell, Save! Online Shopping         0.651051  0.450193   \n",
       "Bible                                                      0.651051  4.996197   \n",
       "\n",
       "                                                     vpp_lic  currency_USD  \\\n",
       "track_name                                                                   \n",
       "PAC-MAN Premium                                     0.083642             1   \n",
       "Evernote - stay organized                           0.083642             1   \n",
       "WeatherBug - Local Weather, Radar, Maps, Alerts     0.083642             1   \n",
       "eBay: Best App to Buy, Sell, Save! Online Shopping  0.083642             1   \n",
       "Bible                                               0.083642             1   \n",
       "\n",
       "                                                    cont_rating_12+  \\\n",
       "track_name                                                            \n",
       "PAC-MAN Premium                                                   0   \n",
       "Evernote - stay organized                                         0   \n",
       "WeatherBug - Local Weather, Radar, Maps, Alerts                   0   \n",
       "eBay: Best App to Buy, Sell, Save! Online Shopping                1   \n",
       "Bible                                                             0   \n",
       "\n",
       "                                                    cont_rating_17+  ...  \\\n",
       "track_name                                                           ...   \n",
       "PAC-MAN Premium                                                   0  ...   \n",
       "Evernote - stay organized                                         0  ...   \n",
       "WeatherBug - Local Weather, Radar, Maps, Alerts                   0  ...   \n",
       "eBay: Best App to Buy, Sell, Save! Online Shopping                0  ...   \n",
       "Bible                                                             0  ...   \n",
       "\n",
       "                                                    prime_genre_News  \\\n",
       "track_name                                                             \n",
       "PAC-MAN Premium                                                    0   \n",
       "Evernote - stay organized                                          0   \n",
       "WeatherBug - Local Weather, Radar, Maps, Alerts                    0   \n",
       "eBay: Best App to Buy, Sell, Save! Online Shopping                 0   \n",
       "Bible                                                              0   \n",
       "\n",
       "                                                    prime_genre_Photo & Video  \\\n",
       "track_name                                                                      \n",
       "PAC-MAN Premium                                                             0   \n",
       "Evernote - stay organized                                                   0   \n",
       "WeatherBug - Local Weather, Radar, Maps, Alerts                             0   \n",
       "eBay: Best App to Buy, Sell, Save! Online Shopping                          0   \n",
       "Bible                                                                       0   \n",
       "\n",
       "                                                    prime_genre_Productivity  \\\n",
       "track_name                                                                     \n",
       "PAC-MAN Premium                                                            0   \n",
       "Evernote - stay organized                                                  1   \n",
       "WeatherBug - Local Weather, Radar, Maps, Alerts                            0   \n",
       "eBay: Best App to Buy, Sell, Save! Online Shopping                         0   \n",
       "Bible                                                                      0   \n",
       "\n",
       "                                                    prime_genre_Reference  \\\n",
       "track_name                                                                  \n",
       "PAC-MAN Premium                                                         0   \n",
       "Evernote - stay organized                                               0   \n",
       "WeatherBug - Local Weather, Radar, Maps, Alerts                         0   \n",
       "eBay: Best App to Buy, Sell, Save! Online Shopping                      0   \n",
       "Bible                                                                   1   \n",
       "\n",
       "                                                    prime_genre_Shopping  \\\n",
       "track_name                                                                 \n",
       "PAC-MAN Premium                                                        0   \n",
       "Evernote - stay organized                                              0   \n",
       "WeatherBug - Local Weather, Radar, Maps, Alerts                        0   \n",
       "eBay: Best App to Buy, Sell, Save! Online Shopping                     1   \n",
       "Bible                                                                  0   \n",
       "\n",
       "                                                    prime_genre_Social Networking  \\\n",
       "track_name                                                                          \n",
       "PAC-MAN Premium                                                                 0   \n",
       "Evernote - stay organized                                                       0   \n",
       "WeatherBug - Local Weather, Radar, Maps, Alerts                                 0   \n",
       "eBay: Best App to Buy, Sell, Save! Online Shopping                              0   \n",
       "Bible                                                                           0   \n",
       "\n",
       "                                                    prime_genre_Sports  \\\n",
       "track_name                                                               \n",
       "PAC-MAN Premium                                                      0   \n",
       "Evernote - stay organized                                            0   \n",
       "WeatherBug - Local Weather, Radar, Maps, Alerts                      0   \n",
       "eBay: Best App to Buy, Sell, Save! Online Shopping                   0   \n",
       "Bible                                                                0   \n",
       "\n",
       "                                                    prime_genre_Travel  \\\n",
       "track_name                                                               \n",
       "PAC-MAN Premium                                                      0   \n",
       "Evernote - stay organized                                            0   \n",
       "WeatherBug - Local Weather, Radar, Maps, Alerts                      0   \n",
       "eBay: Best App to Buy, Sell, Save! Online Shopping                   0   \n",
       "Bible                                                                0   \n",
       "\n",
       "                                                    prime_genre_Utilities  \\\n",
       "track_name                                                                  \n",
       "PAC-MAN Premium                                                         0   \n",
       "Evernote - stay organized                                               0   \n",
       "WeatherBug - Local Weather, Radar, Maps, Alerts                         0   \n",
       "eBay: Best App to Buy, Sell, Save! Online Shopping                      0   \n",
       "Bible                                                                   0   \n",
       "\n",
       "                                                    prime_genre_Weather  \n",
       "track_name                                                               \n",
       "PAC-MAN Premium                                                       0  \n",
       "Evernote - stay organized                                             0  \n",
       "WeatherBug - Local Weather, Radar, Maps, Alerts                       1  \n",
       "eBay: Best App to Buy, Sell, Save! Online Shopping                    0  \n",
       "Bible                                                                 0  \n",
       "\n",
       "[5 rows x 35 columns]"
      ]
     },
     "execution_count": 4,
     "metadata": {},
     "output_type": "execute_result"
    },
    {
     "data": {
      "image/png": "[encoded data removed]",
      "text/plain": [
       "<Figure size 432x288 with 1 Axes>"
      ]
     },
     "metadata": {
      "needs_background": "light"
     },
     "output_type": "display_data"
    }
   ],
   "source": [
    "#plot the Rating distribution as seen in the plot below\n",
    "\n",
    "app['user_rating'].plot.hist()\n",
    "\n",
    "\n",
    "X = app.copy()\n",
    "X= X.drop(columns='user_rating')# matrix of covariates only \n",
    "y = hot_y.astype(int)  # type conversion of the target\n",
    "\n",
    "# Let's split our data set in train and test and use random seed = 42 and 30% test size\n",
    "# Keep in mind that this data set is already normalized, which leads to a leakage of information from train set to test set\n",
    "# When you are working with a dataset, make sure you normalize the variables in test set according to the parameters of the train set\n",
    "seed=42\n",
    "X_train,X_test,y_train,y_test=train_test_split(X,y,random_state=seed,test_size=0.3)\n",
    "    \n",
    "print (X_train.shape)\n",
    "print(y_train.shape) \n",
    "X.head(5)\n"
   ]
  },
  {
   "cell_type": "code",
   "execution_count": null,
   "metadata": {},
   "outputs": [],
   "source": []
  },
  {
   "cell_type": "markdown",
   "metadata": {
    "id": "MsU0uG-96lK1"
   },
   "source": [
    "### Preparing the Keras framework ###\n",
    "\n",
    "We will revise the architecture of our basic neural network and look into the tuning of hyperparameters.\n",
    "\n"
   ]
  },
  {
   "cell_type": "markdown",
   "metadata": {
    "id": "pd3gVQuZ6lK2"
   },
   "source": [
    "### 1+2: Number of hidden layers and number of neurons\n",
    "The number of layers and the number of neurons is a parameter that you would have to decide on. \n",
    "\n",
    "*Deep* neural network is the one with more than one layer, so we will use **2 hidden layers** this time.\n",
    "\n",
    "As for neurons, look up for the industry practice, we are going for **n=128**."
   ]
  },
  {
   "cell_type": "code",
   "execution_count": 105,
   "metadata": {
    "id": "dNX5GLEm6lK2"
   },
   "outputs": [],
   "source": [
    "nb_units = 128"
   ]
  },
  {
   "cell_type": "markdown",
   "metadata": {
    "id": "Lm7Bqms06lK2"
   },
   "source": [
    "### 3: activation function ###\n",
    "We will go for industry standard which is **relu** and keep a **softmax** at the end, given our multiclass task. We do not need to define those functions manually this time, Keras got our back.\n",
    "\n",
    "IMPORTANT NOTE on output function for binary classification.\n",
    "You could have two output neurons for every class and then run it through the softmax to aqcuire probabilities. However, the more efficient way (faster updating) would be to replace it with 1 neuron and a sigmoid function, which is basically a softmax for 2 classes:\n",
    "\n",
    "$$y = \\frac{1}{1 + e ^ {-x}} = \\frac{1}{1 + \\frac{1}{e ^ x}} = \\frac{1}{\\frac{e ^ x + 1}{e ^ x}} <= >\\frac{e ^ x}{1 + e ^ x}  $$\n"
   ]
  },
  {
   "cell_type": "markdown",
   "metadata": {
    "id": "y3JE6df_6lK3"
   },
   "source": [
    "### 4: weight initialisation\n",
    "Weight initialization might seem minor but it can have a major impact on the convergence of the network.\n",
    "\n",
    "At the picture: all weights are set to 0, second is the normally distributed weights with std=0.4. \n",
    "In the rightmost plot, the weights are drawn from normal distributions with variances which are inversely proportional to the number of inputs into each neuron (he normal).\n",
    "\n",
    "<img src=\"https://intoli.com/blog/neural-network-initialization/img/training-losses.png\"  alt=\"fwe\" style=\"width: 1000px;\"/> \n",
    "\n",
    "https://intoli.com/blog/neural-network-initialization/\n",
    "\n",
    "We will be using the **He Normal initialization**, which is one of the industry standards and recommended for ReLu. It draws samples from a truncated normal distribution with $\\mu=0$ and $ \\sigma = \\sqrt{2 / (i)}$, where $i$ is the number of input units in the weight tensor.\n",
    "\n",
    "So in our case the standard deviation for our first weight matrix would be:"
   ]
  },
  {
   "cell_type": "code",
   "execution_count": 106,
   "metadata": {
    "id": "5k0GCJyN6lK3",
    "outputId": "22e9e9cf-849f-449e-a818-d313477f88ad"
   },
   "outputs": [
    {
     "data": {
      "text/plain": [
       "0.23904572186687872"
      ]
     },
     "execution_count": 106,
     "metadata": {},
     "output_type": "execute_result"
    }
   ],
   "source": [
    "# If you remember we previously used the (6/(35)) - we used the Glorot uniform (also called Xavier initialization)\n",
    "std = np.sqrt(2/(X.shape[1])) \n",
    "std"
   ]
  },
  {
   "cell_type": "markdown",
   "metadata": {
    "id": "LOcAh5vk6lK4"
   },
   "source": [
    "## Let's put down what we have decided on already: ##\n",
    "Keras offer you two \"styles\" of setting up the structure of your network (they call it two types of model): sequential and functional API (https://keras.io/models/about-keras-mod). It's a matter of preference in most cases. \n",
    "\n",
    "Lets implement both to see their differences:\n",
    "\n",
    "Starting with **sequential** when the layers follow sequentially one after the other, it is slightly leaner in notation."
   ]
  },
  {
   "cell_type": "code",
   "execution_count": 107,
   "metadata": {
    "id": "GhlZTiCJ6lK4",
    "outputId": "393e43ed-e2c6-4faa-857c-ec6cebdb0d75"
   },
   "outputs": [
    {
     "name": "stdout",
     "output_type": "stream",
     "text": [
      "Model: \"sequential_4\"\n",
      "_________________________________________________________________\n",
      "Layer (type)                 Output Shape              Param #   \n",
      "=================================================================\n",
      "dense_41 (Dense)             (None, 128)               4608      \n",
      "_________________________________________________________________\n",
      "dense_42 (Dense)             (None, 128)               16512     \n",
      "_________________________________________________________________\n",
      "dense_43 (Dense)             (None, 6)                 774       \n",
      "=================================================================\n",
      "Total params: 21,894\n",
      "Trainable params: 21,894\n",
      "Non-trainable params: 0\n",
      "_________________________________________________________________\n"
     ]
    }
   ],
   "source": [
    "# Import Keras\n",
    "import keras\n",
    "from keras.models import Sequential\n",
    "from keras.layers import Dense, Dropout, Activation, Flatten\n",
    "\n",
    "#set up the name of the model and its type\n",
    "\n",
    "model= Sequential()\n",
    "\n",
    "# Start adding layers one by one, add first a Dense Layer and specify\n",
    "#number of neurons\n",
    "#activation function\n",
    "#initialisation of weights with kernel_initializer=keras.initializers.he_normal(seed=seed); check doc for more options\n",
    "#initialization of biases with bias_initializer='zeros', will also be done by default\n",
    "#set the input shape, i.e. number of features\n",
    "model.add(Dense(nb_units,input_dim=35,activation='relu',kernel_initializer='normal'))\n",
    "\n",
    "\n",
    "# Add another Dense Layer\n",
    "#One more layer with the same configuration\n",
    "model.add(Dense(nb_units,activation='relu',kernel_initializer='normal'))\n",
    "\n",
    "\n",
    "# And finally the outout layer as another Dense layer with number of neurosns = number of classes with the same configurations for weights and biases\n",
    "model.add(Dense(6,activation='softmax',kernel_initializer='normal'))\n",
    "\n",
    "\n",
    "\n",
    "######################let's see how our architecture looks like (also very helpful to learn how many parameters will be trained and compare to\n",
    "#the size of your training set)\n",
    "model.summary()"
   ]
  },
  {
   "cell_type": "markdown",
   "metadata": {
    "id": "WE6k3gD16lK5"
   },
   "source": [
    "Let's try to confirm these parameters manually. Print the numbers of "
   ]
  },
  {
   "cell_type": "code",
   "execution_count": 108,
   "metadata": {
    "id": "cXrTj5yV6lK5",
    "outputId": "52e67afd-7d2b-4328-a8b4-c6fc380a4144"
   },
   "outputs": [
    {
     "name": "stdout",
     "output_type": "stream",
     "text": [
      "4608\n",
      "16512\n",
      "774\n"
     ]
    }
   ],
   "source": [
    "#model.__dict__\n",
    "# print the forumla that gives you the parameters for input to hidden layer \n",
    "print(nb_units*(35+1))\n",
    "# print the forumla that gives you the parameters for first hidden to second hidden layer\n",
    "print(nb_units*(nb_units+1))\n",
    "# print the forumla that gives you the parameters for second hidden to output layer\n",
    "print((nb_units+1)*(6))"
   ]
  },
  {
   "cell_type": "markdown",
   "metadata": {
    "id": "PtsszlhOGQxA"
   },
   "source": [
    "Now implement the same Architecture using the functional API"
   ]
  },
  {
   "cell_type": "code",
   "execution_count": 109,
   "metadata": {
    "id": "pLF4S79j6lK5",
    "outputId": "442118c2-3905-4880-f902-aaaab74bf070"
   },
   "outputs": [
    {
     "name": "stdout",
     "output_type": "stream",
     "text": [
      "Model: \"func_model\"\n",
      "_________________________________________________________________\n",
      "Layer (type)                 Output Shape              Param #   \n",
      "=================================================================\n",
      "input_14 (InputLayer)        [(None, 35)]              0         \n",
      "_________________________________________________________________\n",
      "dense_44 (Dense)             (None, 128)               4608      \n",
      "_________________________________________________________________\n",
      "dense_45 (Dense)             (None, 128)               16512     \n",
      "_________________________________________________________________\n",
      "dense_46 (Dense)             (None, 6)                 774       \n",
      "=================================================================\n",
      "Total params: 21,894\n",
      "Trainable params: 21,894\n",
      "Non-trainable params: 0\n",
      "_________________________________________________________________\n"
     ]
    }
   ],
   "source": [
    "# Functional API analogue\n",
    "from keras.layers import Input, Dense\n",
    "from keras.models import Model\n",
    "\n",
    "inputs = Input(shape=(35,))\n",
    "l1 = Dense(128, activation=\"relu\")(inputs)\n",
    "l2 = Dense(128)(l1)\n",
    "outputs = Dense(6)(l2)\n",
    "func_model = Model(inputs=inputs, outputs=outputs, name=\"func_model\")\n",
    "\n",
    "func_model.summary()"
   ]
  },
  {
   "cell_type": "markdown",
   "metadata": {
    "id": "Uf_Kua5j6lK6"
   },
   "source": [
    "### Wonderful, we have set up the infrastructure and can proceed with training\n",
    "Most of the parameters that define the training process are set within the **compile** and **fit** methods.\n",
    "\n",
    "The parameter optimization strategy is one of the most important choices for the training of the neural network.\n",
    "\n",
    "We have already learned about one - stochastic gradient descent, it is considered the basic one. Improved performance can be achieved by using optimizers like **Rmsprop, Adagrad,  Adam**, etc."
   ]
  },
  {
   "cell_type": "markdown",
   "metadata": {
    "id": "xJKFasVB6lK6"
   },
   "source": [
    "### 5+6: loss function, learning rate and optimizer\n",
    "The loss function is defined by the task (mse, binary crossentropy, etc.), in our case it is crossentropy.\n",
    "Learning rate is set in the optimizer but does not have to remain the same throughout the training (i.e. AdaGrad)."
   ]
  },
  {
   "cell_type": "code",
   "execution_count": 110,
   "metadata": {
    "id": "WS_e_33O6lK6"
   },
   "outputs": [],
   "source": [
    "from keras import optimizers\n",
    "# define the optimizer\n",
    "# We use SGD as optimizer and cover more options later on, lets start with a learning rate of 0.01. There are many more parameters that we could be adding in the optimizer,\n",
    "# but for now let us only declare the lr \n",
    "opt =keras.optimizers.SGD(learning_rate=0.01) \n",
    "\n",
    "\n",
    "\n",
    "# Calling compile and specifying some mandatory arguments completes setting up the NN, ie. loss and metrics\n",
    "model.compile(loss='categorical_crossentropy',\n",
    "                  optimizer=opt,\n",
    "                  metrics=['accuracy'])\n",
    "\n"
   ]
  },
  {
   "cell_type": "markdown",
   "metadata": {
    "id": "oNJhTIf-6lK7"
   },
   "source": [
    "### 7+8: batch size and epochs ###\n",
    "Batch size is a chunk of data that would be fed into the optimizer. Larger batch sizes result in faster progress in training, but don't always converge as fast. Smaller batch sizes update the weights more slowly, but lead to more stable convergence. Batch Gradient Descent (all samples used for one update), Online Stochastic Gradient Descent (one sample used for one update), Mini-batch Stochastic Gradient Descent (More than one but less than all samples used for one update).\n",
    "Batch size determines how many examples you look at before making a weight update. The lower it is, the noisier the training signal is going to be, the higher it is, the longer it will take to compute the gradient for each step.\n",
    "\n",
    "Epochs is the number of rounds the algorithm will go through the entire dataset. Usually the more epochs of training, the better are the results, until the network starts to overfit. When you see the results flattening out, it's the time to stop."
   ]
  },
  {
   "cell_type": "code",
   "execution_count": 111,
   "metadata": {
    "id": "w0MSTeIV6lK7",
    "outputId": "8b2a04b2-fd95-49c1-c346-171a9f0cab00"
   },
   "outputs": [
    {
     "name": "stdout",
     "output_type": "stream",
     "text": [
      "Epoch 1/30\n",
      "90/90 - 0s - loss: 1.6012 - accuracy: 0.6845 - val_loss: 1.4354 - val_accuracy: 0.6894\n",
      "Epoch 2/30\n",
      "90/90 - 0s - loss: 1.2880 - accuracy: 0.6953 - val_loss: 1.1768 - val_accuracy: 0.6894\n",
      "Epoch 3/30\n",
      "90/90 - 0s - loss: 1.1027 - accuracy: 0.6953 - val_loss: 1.0760 - val_accuracy: 0.6894\n",
      "Epoch 4/30\n",
      "90/90 - 0s - loss: 1.0457 - accuracy: 0.6953 - val_loss: 1.0505 - val_accuracy: 0.6894\n",
      "Epoch 5/30\n",
      "90/90 - 0s - loss: 1.0267 - accuracy: 0.6953 - val_loss: 1.0384 - val_accuracy: 0.6894\n",
      "Epoch 6/30\n",
      "90/90 - 0s - loss: 1.0150 - accuracy: 0.6953 - val_loss: 1.0303 - val_accuracy: 0.6894\n",
      "Epoch 7/30\n",
      "90/90 - 0s - loss: 1.0067 - accuracy: 0.6953 - val_loss: 1.0242 - val_accuracy: 0.6894\n",
      "Epoch 8/30\n",
      "90/90 - 0s - loss: 1.0002 - accuracy: 0.6953 - val_loss: 1.0196 - val_accuracy: 0.6894\n",
      "Epoch 9/30\n",
      "90/90 - 0s - loss: 0.9950 - accuracy: 0.6953 - val_loss: 1.0159 - val_accuracy: 0.6894\n",
      "Epoch 10/30\n",
      "90/90 - 0s - loss: 0.9906 - accuracy: 0.6953 - val_loss: 1.0129 - val_accuracy: 0.6894\n",
      "Epoch 11/30\n",
      "90/90 - 0s - loss: 0.9870 - accuracy: 0.6953 - val_loss: 1.0103 - val_accuracy: 0.6894\n",
      "Epoch 12/30\n",
      "90/90 - 0s - loss: 0.9838 - accuracy: 0.6953 - val_loss: 1.0081 - val_accuracy: 0.6894\n",
      "Epoch 13/30\n",
      "90/90 - 0s - loss: 0.9811 - accuracy: 0.6953 - val_loss: 1.0062 - val_accuracy: 0.6894\n",
      "Epoch 14/30\n",
      "90/90 - 0s - loss: 0.9785 - accuracy: 0.6953 - val_loss: 1.0045 - val_accuracy: 0.6894\n",
      "Epoch 15/30\n",
      "90/90 - 0s - loss: 0.9762 - accuracy: 0.6953 - val_loss: 1.0031 - val_accuracy: 0.6894\n",
      "Epoch 16/30\n",
      "90/90 - 0s - loss: 0.9740 - accuracy: 0.6953 - val_loss: 1.0015 - val_accuracy: 0.6894\n",
      "Epoch 17/30\n",
      "90/90 - 0s - loss: 0.9721 - accuracy: 0.6953 - val_loss: 1.0002 - val_accuracy: 0.6894\n",
      "Epoch 18/30\n",
      "90/90 - 0s - loss: 0.9704 - accuracy: 0.6953 - val_loss: 0.9989 - val_accuracy: 0.6894\n",
      "Epoch 19/30\n",
      "90/90 - 0s - loss: 0.9687 - accuracy: 0.6953 - val_loss: 0.9977 - val_accuracy: 0.6894\n",
      "Epoch 20/30\n",
      "90/90 - 0s - loss: 0.9670 - accuracy: 0.6955 - val_loss: 0.9968 - val_accuracy: 0.6894\n",
      "Epoch 21/30\n",
      "90/90 - 0s - loss: 0.9655 - accuracy: 0.6955 - val_loss: 0.9958 - val_accuracy: 0.6894\n",
      "Epoch 22/30\n",
      "90/90 - 0s - loss: 0.9641 - accuracy: 0.6962 - val_loss: 0.9948 - val_accuracy: 0.6898\n",
      "Epoch 23/30\n",
      "90/90 - 0s - loss: 0.9629 - accuracy: 0.6966 - val_loss: 0.9939 - val_accuracy: 0.6894\n",
      "Epoch 24/30\n",
      "90/90 - 0s - loss: 0.9617 - accuracy: 0.6964 - val_loss: 0.9929 - val_accuracy: 0.6894\n",
      "Epoch 25/30\n",
      "90/90 - 0s - loss: 0.9604 - accuracy: 0.6966 - val_loss: 0.9921 - val_accuracy: 0.6894\n",
      "Epoch 26/30\n",
      "90/90 - 0s - loss: 0.9593 - accuracy: 0.6968 - val_loss: 0.9915 - val_accuracy: 0.6889\n",
      "Epoch 27/30\n",
      "90/90 - 0s - loss: 0.9583 - accuracy: 0.6964 - val_loss: 0.9909 - val_accuracy: 0.6889\n",
      "Epoch 28/30\n",
      "90/90 - 0s - loss: 0.9573 - accuracy: 0.6964 - val_loss: 0.9900 - val_accuracy: 0.6875\n",
      "Epoch 29/30\n",
      "90/90 - 0s - loss: 0.9564 - accuracy: 0.6966 - val_loss: 0.9893 - val_accuracy: 0.6875\n",
      "Epoch 30/30\n",
      "90/90 - 0s - loss: 0.9555 - accuracy: 0.6968 - val_loss: 0.9887 - val_accuracy: 0.6875\n"
     ]
    }
   ],
   "source": [
    "batch_size = 56 #1 for online SGD\n",
    "epochs = 30\n",
    "\n",
    "#And now we fit the model (that is the training part), mind that saving it to the \n",
    "# variable will help you retrieve and analyse the training history\n",
    "\n",
    "\n",
    "story = model.fit(X_train,\n",
    "          y_train,\n",
    "          epochs=epochs,\n",
    "          batch_size=batch_size,\n",
    "        validation_data=(X_test, y_test),\n",
    "          verbose=2)\n"
   ]
  },
  {
   "cell_type": "markdown",
   "metadata": {
    "id": "dgw9tmzT6lK7"
   },
   "source": [
    "The output already provides a lot of information how well your model performance and whether is shows tendencies of overfitting. You can also obtain such insight explicitly after the model has trained. For example, you can use *evaluate()* to compute model performance. "
   ]
  },
  {
   "cell_type": "code",
   "execution_count": 112,
   "metadata": {
    "id": "8M373W4A6lK7"
   },
   "outputs": [
    {
     "name": "stdout",
     "output_type": "stream",
     "text": [
      "Loss:0.9886634945869446,Accuracy: 0.6875\n"
     ]
    }
   ],
   "source": [
    "#use evaluate to evaluate your model and check the output\n",
    "loss,accuracy=model.evaluate(X_test, y_test,verbose=0)\n",
    "# print test loss and accuracy \n",
    "print(f\"Loss:{loss},Accuracy: {accuracy}\")"
   ]
  },
  {
   "cell_type": "markdown",
   "metadata": {
    "id": "SLOKX8Z_6lK8"
   },
   "source": [
    "The metrics that *evaluate()* gives us depend on the input argument *metrics* that we used when setting up our NN. Keras knows several other metrics (see [Keras doc. for details](https://keras.io/metrics/)) but not all known metrics are supported for training the NN. Between, you can also extend the set of metrics with customer metrics (see this [example](https://machinelearningmastery.com/custom-metrics-deep-learning-keras-python/) if interested.).\n",
    "\n",
    "We also have access to model performance results via the result of *model.fit()*. Use history on the variable 'story' you saved model.fit to and check its keys and values:"
   ]
  },
  {
   "cell_type": "code",
   "execution_count": 113,
   "metadata": {
    "id": "QHLKr4ZG6lK8",
    "outputId": "c8f966d3-f559-4cc4-c22c-0b31210e7abb"
   },
   "outputs": [
    {
     "data": {
      "text/plain": [
       "{'loss': [1.6011848449707031,\n",
       "  1.2879688739776611,\n",
       "  1.1026580333709717,\n",
       "  1.0457218885421753,\n",
       "  1.026716709136963,\n",
       "  1.0149905681610107,\n",
       "  1.0067157745361328,\n",
       "  1.0001949071884155,\n",
       "  0.9950152039527893,\n",
       "  0.9906483292579651,\n",
       "  0.9870281219482422,\n",
       "  0.9837806820869446,\n",
       "  0.9810552597045898,\n",
       "  0.9784772396087646,\n",
       "  0.9762224555015564,\n",
       "  0.9740417003631592,\n",
       "  0.9721497297286987,\n",
       "  0.9703717827796936,\n",
       "  0.9686887264251709,\n",
       "  0.9669952392578125,\n",
       "  0.9655460715293884,\n",
       "  0.9641192555427551,\n",
       "  0.9629076719284058,\n",
       "  0.9616519212722778,\n",
       "  0.9604368209838867,\n",
       "  0.9592745900154114,\n",
       "  0.9583286046981812,\n",
       "  0.9573082327842712,\n",
       "  0.9563800096511841,\n",
       "  0.9555210471153259],\n",
       " 'accuracy': [0.6845344305038452,\n",
       "  0.6952551007270813,\n",
       "  0.6952551007270813,\n",
       "  0.6952551007270813,\n",
       "  0.6952551007270813,\n",
       "  0.6952551007270813,\n",
       "  0.6952551007270813,\n",
       "  0.6952551007270813,\n",
       "  0.6952551007270813,\n",
       "  0.6952551007270813,\n",
       "  0.6952551007270813,\n",
       "  0.6952551007270813,\n",
       "  0.6952551007270813,\n",
       "  0.6952551007270813,\n",
       "  0.6952551007270813,\n",
       "  0.6952551007270813,\n",
       "  0.6952551007270813,\n",
       "  0.6952551007270813,\n",
       "  0.6952551007270813,\n",
       "  0.6954536437988281,\n",
       "  0.6954536437988281,\n",
       "  0.6962477564811707,\n",
       "  0.6966448426246643,\n",
       "  0.6964462995529175,\n",
       "  0.6966448426246643,\n",
       "  0.6968433856964111,\n",
       "  0.6964462995529175,\n",
       "  0.6964462995529175,\n",
       "  0.6966448426246643,\n",
       "  0.6968433856964111],\n",
       " 'val_loss': [1.4354228973388672,\n",
       "  1.1768009662628174,\n",
       "  1.0759755373001099,\n",
       "  1.050536036491394,\n",
       "  1.0383977890014648,\n",
       "  1.0303062200546265,\n",
       "  1.0242091417312622,\n",
       "  1.0196019411087036,\n",
       "  1.0158770084381104,\n",
       "  1.0128588676452637,\n",
       "  1.0103118419647217,\n",
       "  1.0081053972244263,\n",
       "  1.0062026977539062,\n",
       "  1.004543423652649,\n",
       "  1.0030663013458252,\n",
       "  1.0014785528182983,\n",
       "  1.0001904964447021,\n",
       "  0.9989308714866638,\n",
       "  0.9977476000785828,\n",
       "  0.9967750906944275,\n",
       "  0.995793879032135,\n",
       "  0.9948193430900574,\n",
       "  0.9938634634017944,\n",
       "  0.9929348230361938,\n",
       "  0.9921404719352722,\n",
       "  0.9914632439613342,\n",
       "  0.9908611178398132,\n",
       "  0.9900192618370056,\n",
       "  0.9892972707748413,\n",
       "  0.9886632561683655],\n",
       " 'val_accuracy': [0.6893518567085266,\n",
       "  0.6893518567085266,\n",
       "  0.6893518567085266,\n",
       "  0.6893518567085266,\n",
       "  0.6893518567085266,\n",
       "  0.6893518567085266,\n",
       "  0.6893518567085266,\n",
       "  0.6893518567085266,\n",
       "  0.6893518567085266,\n",
       "  0.6893518567085266,\n",
       "  0.6893518567085266,\n",
       "  0.6893518567085266,\n",
       "  0.6893518567085266,\n",
       "  0.6893518567085266,\n",
       "  0.6893518567085266,\n",
       "  0.6893518567085266,\n",
       "  0.6893518567085266,\n",
       "  0.6893518567085266,\n",
       "  0.6893518567085266,\n",
       "  0.6893518567085266,\n",
       "  0.6893518567085266,\n",
       "  0.6898148059844971,\n",
       "  0.6893518567085266,\n",
       "  0.6893518567085266,\n",
       "  0.6893518567085266,\n",
       "  0.6888889074325562,\n",
       "  0.6888889074325562,\n",
       "  0.6875,\n",
       "  0.6875,\n",
       "  0.6875]}"
      ]
     },
     "execution_count": 113,
     "metadata": {},
     "output_type": "execute_result"
    }
   ],
   "source": [
    "story.history"
   ]
  },
  {
   "cell_type": "markdown",
   "metadata": {
    "id": "Zg54WCCc6lK8"
   },
   "source": [
    "It is good practice to define custom functions to diagnose model performance and display results as needed. Here are some examples."
   ]
  },
  {
   "cell_type": "code",
   "execution_count": 114,
   "metadata": {
    "id": "YwWqKFmQ6lK8",
    "outputId": "cb966afe-6458-479c-d075-78b1ca6c7c77"
   },
   "outputs": [
    {
     "data": {
      "image/png": "[encoded data removed]",
      "text/plain": [
       "<Figure size 432x288 with 1 Axes>"
      ]
     },
     "metadata": {
      "needs_background": "light"
     },
     "output_type": "display_data"
    }
   ],
   "source": [
    "def show_history(story):\n",
    "    plt.plot(story.history['accuracy'])\n",
    "    plt.plot(story.history['val_accuracy'])\n",
    "    plt.ylabel('accuracy')\n",
    "    plt.xlabel('epoch')\n",
    "    plt.legend(['train_accuracy', 'test_accuracy'], loc='best')\n",
    "    plt.show()\n",
    "\n",
    "show_history(story)"
   ]
  },
  {
   "cell_type": "code",
   "execution_count": 13,
   "metadata": {
    "id": "zU9_j3pU6lK9",
    "outputId": "c5d834b3-3567-4c1c-e526-fdaa9c8f82f6"
   },
   "outputs": [],
   "source": [
    "def show_history(story):\n",
    "    fig, (ax1, ax2) = plt.subplots(1, 2)\n",
    "    fig.set_size_inches(18.5, 10.5)\n",
    "    ax1.plot(story.history['accuracy'])\n",
    "    ax1.plot(story.history['val_accuracy'])\n",
    "    ax1.set(xlabel='epoch', ylabel='accuracy')\n",
    "    ax1.legend(['train_accuracy', 'test_accuracy'], loc='best')\n",
    "    ax1.set_title('Accuracy evolution during NN training')\n",
    "    \n",
    "    ax2.plot(story.history['loss'])\n",
    "    ax2.plot(story.history['val_loss'])\n",
    "    ax2.set(xlabel='epoch', ylabel='loss')\n",
    "    ax2.legend(['train_loss', 'test_loss'], loc='best')\n",
    "    ax2.set_title('Loss evolution during NN training')\n",
    "    plt.show()\n",
    "\n",
    "#show_history(story)\n"
   ]
  },
  {
   "cell_type": "markdown",
   "metadata": {
    "id": "7X81Xqg76lK9"
   },
   "source": [
    "To get more insight and benefit from the full stack of performance measures that you know, we can simply calculate test set predictions explicitly and then proceed with these in the usual way, producing ROC curves, confusion tables, and the like."
   ]
  },
  {
   "cell_type": "code",
   "execution_count": 116,
   "metadata": {
    "id": "EQKA_S8n6lK9",
    "outputId": "df3b7b1c-7269-40fa-af29-12c47c91a4a3"
   },
   "outputs": [
    {
     "data": {
      "text/plain": [
       "(2160, 6)"
      ]
     },
     "execution_count": 116,
     "metadata": {},
     "output_type": "execute_result"
    }
   ],
   "source": [
    "# Compute predictions and save them in yhat\n",
    "yhat = model.predict(X_test)\n",
    "\n",
    "yhat.shape"
   ]
  },
  {
   "cell_type": "code",
   "execution_count": 117,
   "metadata": {
    "id": "YKsBuTDg6lK-",
    "outputId": "08b946f1-0594-4f2e-ee40-357f59f69a9e"
   },
   "outputs": [
    {
     "name": "stdout",
     "output_type": "stream",
     "text": [
      "[4 4 4 ... 4 4 4]\n"
     ]
    }
   ],
   "source": [
    "# Finding the most probable class\n",
    "yhat_c = np.argmax(yhat, axis=1)\n",
    "print(yhat_c)"
   ]
  },
  {
   "cell_type": "code",
   "execution_count": 118,
   "metadata": {
    "id": "2k2FeUmJ6lK-"
   },
   "outputs": [
    {
     "data": {
      "text/html": [
       "<div>\n",
       "<style scoped>\n",
       "    .dataframe tbody tr th:only-of-type {\n",
       "        vertical-align: middle;\n",
       "    }\n",
       "\n",
       "    .dataframe tbody tr th {\n",
       "        vertical-align: top;\n",
       "    }\n",
       "\n",
       "    .dataframe thead th {\n",
       "        text-align: right;\n",
       "    }\n",
       "</style>\n",
       "<table border=\"1\" class=\"dataframe\">\n",
       "  <thead>\n",
       "    <tr style=\"text-align: right;\">\n",
       "      <th>col_0</th>\n",
       "      <th>count</th>\n",
       "    </tr>\n",
       "    <tr>\n",
       "      <th>user_rating</th>\n",
       "      <th></th>\n",
       "    </tr>\n",
       "  </thead>\n",
       "  <tbody>\n",
       "    <tr>\n",
       "      <th>0.0</th>\n",
       "      <td>929</td>\n",
       "    </tr>\n",
       "    <tr>\n",
       "      <th>1.0</th>\n",
       "      <td>44</td>\n",
       "    </tr>\n",
       "    <tr>\n",
       "      <th>2.0</th>\n",
       "      <td>358</td>\n",
       "    </tr>\n",
       "    <tr>\n",
       "      <th>3.0</th>\n",
       "      <td>383</td>\n",
       "    </tr>\n",
       "    <tr>\n",
       "      <th>4.0</th>\n",
       "      <td>4991</td>\n",
       "    </tr>\n",
       "    <tr>\n",
       "      <th>5.0</th>\n",
       "      <td>492</td>\n",
       "    </tr>\n",
       "  </tbody>\n",
       "</table>\n",
       "</div>"
      ],
      "text/plain": [
       "col_0        count\n",
       "user_rating       \n",
       "0.0            929\n",
       "1.0             44\n",
       "2.0            358\n",
       "3.0            383\n",
       "4.0           4991\n",
       "5.0            492"
      ]
     },
     "execution_count": 118,
     "metadata": {},
     "output_type": "execute_result"
    }
   ],
   "source": [
    "pd.crosstab(index=app[\"user_rating\"],columns=\"count\") "
   ]
  },
  {
   "cell_type": "code",
   "execution_count": 119,
   "metadata": {
    "id": "7SAEF9pm6lK-",
    "outputId": "7602d185-29eb-4fe9-c4ba-fdbcf39e16ef"
   },
   "outputs": [
    {
     "data": {
      "text/html": [
       "<div>\n",
       "<style scoped>\n",
       "    .dataframe tbody tr th:only-of-type {\n",
       "        vertical-align: middle;\n",
       "    }\n",
       "\n",
       "    .dataframe tbody tr th {\n",
       "        vertical-align: top;\n",
       "    }\n",
       "\n",
       "    .dataframe thead th {\n",
       "        text-align: right;\n",
       "    }\n",
       "</style>\n",
       "<table border=\"1\" class=\"dataframe\">\n",
       "  <thead>\n",
       "    <tr style=\"text-align: right;\">\n",
       "      <th></th>\n",
       "      <th>precision</th>\n",
       "      <th>recall</th>\n",
       "      <th>f1-score</th>\n",
       "      <th>support</th>\n",
       "    </tr>\n",
       "  </thead>\n",
       "  <tbody>\n",
       "    <tr>\n",
       "      <th>Grade 0</th>\n",
       "      <td>0.266667</td>\n",
       "      <td>0.014184</td>\n",
       "      <td>0.026936</td>\n",
       "      <td>282.0000</td>\n",
       "    </tr>\n",
       "    <tr>\n",
       "      <th>Grade 1</th>\n",
       "      <td>1.000000</td>\n",
       "      <td>0.000000</td>\n",
       "      <td>0.000000</td>\n",
       "      <td>20.0000</td>\n",
       "    </tr>\n",
       "    <tr>\n",
       "      <th>Grade 2</th>\n",
       "      <td>1.000000</td>\n",
       "      <td>0.000000</td>\n",
       "      <td>0.000000</td>\n",
       "      <td>110.0000</td>\n",
       "    </tr>\n",
       "    <tr>\n",
       "      <th>Grade 3</th>\n",
       "      <td>1.000000</td>\n",
       "      <td>0.000000</td>\n",
       "      <td>0.000000</td>\n",
       "      <td>117.0000</td>\n",
       "    </tr>\n",
       "    <tr>\n",
       "      <th>Grade 4</th>\n",
       "      <td>0.690443</td>\n",
       "      <td>0.994627</td>\n",
       "      <td>0.815080</td>\n",
       "      <td>1489.0000</td>\n",
       "    </tr>\n",
       "    <tr>\n",
       "      <th>Grade 5</th>\n",
       "      <td>1.000000</td>\n",
       "      <td>0.000000</td>\n",
       "      <td>0.000000</td>\n",
       "      <td>142.0000</td>\n",
       "    </tr>\n",
       "    <tr>\n",
       "      <th>accuracy</th>\n",
       "      <td>0.687500</td>\n",
       "      <td>0.687500</td>\n",
       "      <td>0.687500</td>\n",
       "      <td>0.6875</td>\n",
       "    </tr>\n",
       "    <tr>\n",
       "      <th>macro avg</th>\n",
       "      <td>0.826185</td>\n",
       "      <td>0.168135</td>\n",
       "      <td>0.140336</td>\n",
       "      <td>2160.0000</td>\n",
       "    </tr>\n",
       "    <tr>\n",
       "      <th>weighted avg</th>\n",
       "      <td>0.690865</td>\n",
       "      <td>0.687500</td>\n",
       "      <td>0.565393</td>\n",
       "      <td>2160.0000</td>\n",
       "    </tr>\n",
       "  </tbody>\n",
       "</table>\n",
       "</div>"
      ],
      "text/plain": [
       "              precision    recall  f1-score    support\n",
       "Grade 0        0.266667  0.014184  0.026936   282.0000\n",
       "Grade 1        1.000000  0.000000  0.000000    20.0000\n",
       "Grade 2        1.000000  0.000000  0.000000   110.0000\n",
       "Grade 3        1.000000  0.000000  0.000000   117.0000\n",
       "Grade 4        0.690443  0.994627  0.815080  1489.0000\n",
       "Grade 5        1.000000  0.000000  0.000000   142.0000\n",
       "accuracy       0.687500  0.687500  0.687500     0.6875\n",
       "macro avg      0.826185  0.168135  0.140336  2160.0000\n",
       "weighted avg   0.690865  0.687500  0.565393  2160.0000"
      ]
     },
     "execution_count": 119,
     "metadata": {},
     "output_type": "execute_result"
    }
   ],
   "source": [
    "from sklearn.metrics import classification_report\n",
    "target_names = [\"Grade 0\",\"Grade 1\",\"Grade 2\",\"Grade 3\",\"Grade 4\",\"Grade 5\"]\n",
    "true_label = np.argmax(y_test,axis = 1)\n",
    "#print  classification report\n",
    "\n",
    "pd.DataFrame.from_dict(classification_report(true_label, yhat_c, target_names=target_names, sample_weight=None, digits=0, output_dict=True, zero_division=1)).transpose()"
   ]
  },
  {
   "cell_type": "code",
   "execution_count": 122,
   "metadata": {
    "id": "wWff-OKn6lK-",
    "outputId": "ff54d0df-e601-498b-e94d-845b26d7b782"
   },
   "outputs": [
    {
     "name": "stdout",
     "output_type": "stream",
     "text": [
      "[[   4    0    0    0  278    0]\n",
      " [   0    0    0    0   20    0]\n",
      " [   2    0    0    0  108    0]\n",
      " [   0    0    0    0  117    0]\n",
      " [   8    0    0    0 1481    0]\n",
      " [   1    0    0    0  141    0]]\n"
     ]
    }
   ],
   "source": [
    "from sklearn.metrics import confusion_matrix\n",
    "# print the confusion matrix\n",
    "cm = confusion_matrix(true_label, yhat_c)\n",
    "print(cm)\n",
    "\n"
   ]
  },
  {
   "cell_type": "markdown",
   "metadata": {
    "id": "WNQFYcw06lK_"
   },
   "source": [
    "### 9: dropout\n",
    "Dropout 'impedes' the model and can be used against overfitting. It randomly sets a fraction rate of input units to 0 at each update during training time, which is a manner of regularization. Let's add up the Dropout rates after the hidden layers.\n",
    "\n"
   ]
  },
  {
   "cell_type": "code",
   "execution_count": 125,
   "metadata": {
    "id": "9zzkwgRM6lK_"
   },
   "outputs": [
    {
     "name": "stdout",
     "output_type": "stream",
     "text": [
      "Model: \"sequential_7\"\n",
      "_________________________________________________________________\n",
      "Layer (type)                 Output Shape              Param #   \n",
      "=================================================================\n",
      "dense_49 (Dense)             (None, 128)               4608      \n",
      "_________________________________________________________________\n",
      "dropout (Dropout)            (None, 128)               0         \n",
      "_________________________________________________________________\n",
      "dense_50 (Dense)             (None, 128)               16512     \n",
      "_________________________________________________________________\n",
      "dropout_1 (Dropout)          (None, 128)               0         \n",
      "_________________________________________________________________\n",
      "dense_51 (Dense)             (None, 6)                 774       \n",
      "=================================================================\n",
      "Total params: 21,894\n",
      "Trainable params: 21,894\n",
      "Non-trainable params: 0\n",
      "_________________________________________________________________\n"
     ]
    }
   ],
   "source": [
    "#Let's rebuild the model and add 2 dropout layers after each Hidden Layer with a drop out rate of 0.1 (we can leave the bias setting to default this time)\n",
    "#import keras\n",
    "#from keras.models import Sequential\n",
    "from keras.layers import Dense, Dropout, Activation, Flatten,Dropout\n",
    "nndrop= Sequential()\n",
    "\n",
    "nndrop.add(Dense(nb_units,input_dim=35,activation='relu',kernel_initializer='normal'))\n",
    "nndrop.add(Dropout(0.1))\n",
    "nndrop.add(Dense(nb_units,activation='relu',kernel_initializer='normal'))\n",
    "nndrop.add(Dropout(0.1))\n",
    "nndrop.add(Dense(6,activation='softmax',kernel_initializer='normal'))\n",
    "\n",
    "nndrop.summary()"
   ]
  },
  {
   "cell_type": "code",
   "execution_count": 129,
   "metadata": {
    "id": "sUeuh4hL6lK_"
   },
   "outputs": [
    {
     "name": "stdout",
     "output_type": "stream",
     "text": [
      "Epoch 1/30\n",
      "90/90 - 0s - loss: 1.5906 - accuracy: 0.6883 - val_loss: 1.4186 - val_accuracy: 0.6894\n",
      "Epoch 2/30\n",
      "90/90 - 0s - loss: 1.2633 - accuracy: 0.6953 - val_loss: 1.1521 - val_accuracy: 0.6894\n",
      "Epoch 3/30\n",
      "90/90 - 0s - loss: 1.0862 - accuracy: 0.6953 - val_loss: 1.0681 - val_accuracy: 0.6894\n",
      "Epoch 4/30\n",
      "90/90 - 0s - loss: 1.0409 - accuracy: 0.6953 - val_loss: 1.0478 - val_accuracy: 0.6894\n",
      "Epoch 5/30\n",
      "90/90 - 0s - loss: 1.0254 - accuracy: 0.6953 - val_loss: 1.0370 - val_accuracy: 0.6894\n",
      "Epoch 6/30\n",
      "90/90 - 0s - loss: 1.0154 - accuracy: 0.6953 - val_loss: 1.0295 - val_accuracy: 0.6894\n",
      "Epoch 7/30\n",
      "90/90 - 0s - loss: 1.0058 - accuracy: 0.6953 - val_loss: 1.0239 - val_accuracy: 0.6894\n",
      "Epoch 8/30\n",
      "90/90 - 0s - loss: 1.0036 - accuracy: 0.6953 - val_loss: 1.0198 - val_accuracy: 0.6894\n",
      "Epoch 9/30\n",
      "90/90 - 0s - loss: 0.9959 - accuracy: 0.6953 - val_loss: 1.0167 - val_accuracy: 0.6894\n",
      "Epoch 10/30\n",
      "90/90 - 0s - loss: 0.9936 - accuracy: 0.6953 - val_loss: 1.0139 - val_accuracy: 0.6894\n",
      "Epoch 11/30\n",
      "90/90 - 0s - loss: 0.9906 - accuracy: 0.6953 - val_loss: 1.0116 - val_accuracy: 0.6894\n",
      "Epoch 12/30\n",
      "90/90 - 0s - loss: 0.9879 - accuracy: 0.6953 - val_loss: 1.0096 - val_accuracy: 0.6894\n",
      "Epoch 13/30\n",
      "90/90 - 0s - loss: 0.9840 - accuracy: 0.6953 - val_loss: 1.0080 - val_accuracy: 0.6894\n",
      "Epoch 14/30\n",
      "90/90 - 0s - loss: 0.9825 - accuracy: 0.6953 - val_loss: 1.0064 - val_accuracy: 0.6894\n",
      "Epoch 15/30\n",
      "90/90 - 0s - loss: 0.9801 - accuracy: 0.6953 - val_loss: 1.0050 - val_accuracy: 0.6894\n",
      "Epoch 16/30\n",
      "90/90 - 0s - loss: 0.9783 - accuracy: 0.6953 - val_loss: 1.0035 - val_accuracy: 0.6894\n",
      "Epoch 17/30\n",
      "90/90 - 0s - loss: 0.9769 - accuracy: 0.6953 - val_loss: 1.0023 - val_accuracy: 0.6894\n",
      "Epoch 18/30\n",
      "90/90 - 0s - loss: 0.9753 - accuracy: 0.6953 - val_loss: 1.0012 - val_accuracy: 0.6894\n",
      "Epoch 19/30\n",
      "90/90 - 0s - loss: 0.9752 - accuracy: 0.6953 - val_loss: 1.0001 - val_accuracy: 0.6894\n",
      "Epoch 20/30\n",
      "90/90 - 0s - loss: 0.9748 - accuracy: 0.6953 - val_loss: 0.9991 - val_accuracy: 0.6894\n",
      "Epoch 21/30\n",
      "90/90 - 0s - loss: 0.9720 - accuracy: 0.6953 - val_loss: 0.9981 - val_accuracy: 0.6894\n",
      "Epoch 22/30\n",
      "90/90 - 0s - loss: 0.9695 - accuracy: 0.6953 - val_loss: 0.9972 - val_accuracy: 0.6894\n",
      "Epoch 23/30\n",
      "90/90 - 0s - loss: 0.9701 - accuracy: 0.6953 - val_loss: 0.9965 - val_accuracy: 0.6894\n",
      "Epoch 24/30\n",
      "90/90 - 0s - loss: 0.9677 - accuracy: 0.6951 - val_loss: 0.9956 - val_accuracy: 0.6894\n",
      "Epoch 25/30\n",
      "90/90 - 0s - loss: 0.9673 - accuracy: 0.6953 - val_loss: 0.9947 - val_accuracy: 0.6894\n",
      "Epoch 26/30\n",
      "90/90 - 0s - loss: 0.9655 - accuracy: 0.6953 - val_loss: 0.9939 - val_accuracy: 0.6894\n",
      "Epoch 27/30\n",
      "90/90 - 0s - loss: 0.9649 - accuracy: 0.6951 - val_loss: 0.9932 - val_accuracy: 0.6889\n",
      "Epoch 28/30\n",
      "90/90 - 0s - loss: 0.9645 - accuracy: 0.6955 - val_loss: 0.9926 - val_accuracy: 0.6894\n",
      "Epoch 29/30\n",
      "90/90 - 0s - loss: 0.9620 - accuracy: 0.6955 - val_loss: 0.9920 - val_accuracy: 0.6894\n",
      "Epoch 30/30\n",
      "90/90 - 0s - loss: 0.9625 - accuracy: 0.6957 - val_loss: 0.9914 - val_accuracy: 0.6894\n"
     ]
    }
   ],
   "source": [
    "# fit and evaluate the model\n",
    "nndrop.compile(loss='categorical_crossentropy',\n",
    "                  optimizer=opt,\n",
    "                  metrics=['accuracy'])\n",
    "batch_size = 56\n",
    "epochs = 30\n",
    "\n",
    "storydrop = nndrop.fit(X_train,\n",
    "          y_train,\n",
    "          epochs=epochs,\n",
    "          batch_size=batch_size,\n",
    "        validation_data=(X_test, y_test),\n",
    "          verbose=2)"
   ]
  },
  {
   "cell_type": "code",
   "execution_count": 131,
   "metadata": {
    "id": "qZgpbGYAKpbH"
   },
   "outputs": [
    {
     "name": "stdout",
     "output_type": "stream",
     "text": [
      "Loss:0.9913670420646667,Accuracy: 0.6893518567085266\n"
     ]
    },
    {
     "data": {
      "image/png": "[encoded data removed]",
      "text/plain": [
       "<Figure size 1332x756 with 2 Axes>"
      ]
     },
     "metadata": {
      "needs_background": "light"
     },
     "output_type": "display_data"
    }
   ],
   "source": [
    "#print Test Loss and Accuracy\n",
    "loss,accuracy=nndrop.evaluate(X_test, y_test,verbose=0)\n",
    "# print test loss and accuracy \n",
    "print(f\"Loss:{loss},Accuracy: {accuracy}\")\n",
    "#plot the history using the above defined function show_history( )\n",
    "show_history(storydrop)"
   ]
  },
  {
   "cell_type": "markdown",
   "metadata": {
    "id": "Ul4iMBHg6lK_"
   },
   "source": [
    "### more on optimizers\n",
    "\n",
    "So far we have mainly been looking at the SGD as our optimization algorithm, but there are many more: Adam, RMSprop, Adagrad, etc. (some more info here http://ruder.io/optimizing-gradient-descent/). Like other tools they all have their strengths and weaknesses. We will look more into Adam:"
   ]
  },
  {
   "cell_type": "code",
   "execution_count": 134,
   "metadata": {
    "id": "fOA7RaR66lK_",
    "outputId": "f8579939-3607-4aa1-fec3-07aa00193a59"
   },
   "outputs": [
    {
     "name": "stdout",
     "output_type": "stream",
     "text": [
      "Epoch 1/60\n",
      "504/504 - 1s - loss: 0.9421 - accuracy: 0.7010 - val_loss: 0.9743 - val_accuracy: 0.7000\n",
      "Epoch 2/60\n",
      "504/504 - 0s - loss: 0.9402 - accuracy: 0.7020 - val_loss: 0.9724 - val_accuracy: 0.7028\n",
      "Epoch 3/60\n",
      "504/504 - 0s - loss: 0.9388 - accuracy: 0.7044 - val_loss: 0.9703 - val_accuracy: 0.7023\n",
      "Epoch 4/60\n",
      "504/504 - 0s - loss: 0.9370 - accuracy: 0.7030 - val_loss: 0.9674 - val_accuracy: 0.7032\n",
      "Epoch 5/60\n",
      "504/504 - 0s - loss: 0.9332 - accuracy: 0.7086 - val_loss: 0.9649 - val_accuracy: 0.7019\n",
      "Epoch 6/60\n",
      "504/504 - 0s - loss: 0.9337 - accuracy: 0.7056 - val_loss: 0.9628 - val_accuracy: 0.7065\n",
      "Epoch 7/60\n",
      "504/504 - 1s - loss: 0.9285 - accuracy: 0.7076 - val_loss: 0.9616 - val_accuracy: 0.7083\n",
      "Epoch 8/60\n",
      "504/504 - 1s - loss: 0.9247 - accuracy: 0.7107 - val_loss: 0.9573 - val_accuracy: 0.7088\n",
      "Epoch 9/60\n",
      "504/504 - 0s - loss: 0.9251 - accuracy: 0.7068 - val_loss: 0.9562 - val_accuracy: 0.7097\n",
      "Epoch 10/60\n",
      "504/504 - 1s - loss: 0.9215 - accuracy: 0.7074 - val_loss: 0.9558 - val_accuracy: 0.7106\n",
      "Epoch 11/60\n",
      "504/504 - 0s - loss: 0.9195 - accuracy: 0.7095 - val_loss: 0.9515 - val_accuracy: 0.7093\n",
      "Epoch 12/60\n",
      "504/504 - 0s - loss: 0.9207 - accuracy: 0.7082 - val_loss: 0.9501 - val_accuracy: 0.7116\n",
      "Epoch 13/60\n",
      "504/504 - 0s - loss: 0.9173 - accuracy: 0.7127 - val_loss: 0.9472 - val_accuracy: 0.7120\n",
      "Epoch 14/60\n",
      "504/504 - 0s - loss: 0.9168 - accuracy: 0.7088 - val_loss: 0.9457 - val_accuracy: 0.7111\n",
      "Epoch 15/60\n",
      "504/504 - 0s - loss: 0.9143 - accuracy: 0.7084 - val_loss: 0.9433 - val_accuracy: 0.7120\n",
      "Epoch 16/60\n",
      "504/504 - 1s - loss: 0.9109 - accuracy: 0.7103 - val_loss: 0.9477 - val_accuracy: 0.7116\n",
      "Epoch 17/60\n",
      "504/504 - 0s - loss: 0.9110 - accuracy: 0.7143 - val_loss: 0.9399 - val_accuracy: 0.7120\n",
      "Epoch 18/60\n",
      "504/504 - 0s - loss: 0.9100 - accuracy: 0.7084 - val_loss: 0.9401 - val_accuracy: 0.7102\n",
      "Epoch 19/60\n",
      "504/504 - 0s - loss: 0.9057 - accuracy: 0.7123 - val_loss: 0.9382 - val_accuracy: 0.7088\n",
      "Epoch 20/60\n",
      "504/504 - 0s - loss: 0.9033 - accuracy: 0.7131 - val_loss: 0.9358 - val_accuracy: 0.7102\n",
      "Epoch 21/60\n",
      "504/504 - 0s - loss: 0.8996 - accuracy: 0.7113 - val_loss: 0.9353 - val_accuracy: 0.7130\n",
      "Epoch 22/60\n",
      "504/504 - 0s - loss: 0.9028 - accuracy: 0.7145 - val_loss: 0.9315 - val_accuracy: 0.7120\n",
      "Epoch 23/60\n",
      "504/504 - 0s - loss: 0.9003 - accuracy: 0.7139 - val_loss: 0.9329 - val_accuracy: 0.7134\n",
      "Epoch 24/60\n",
      "504/504 - 0s - loss: 0.8979 - accuracy: 0.7151 - val_loss: 0.9301 - val_accuracy: 0.7148\n",
      "Epoch 25/60\n",
      "504/504 - 0s - loss: 0.8953 - accuracy: 0.7151 - val_loss: 0.9280 - val_accuracy: 0.7106\n",
      "Epoch 26/60\n",
      "504/504 - 0s - loss: 0.8924 - accuracy: 0.7141 - val_loss: 0.9256 - val_accuracy: 0.7134\n",
      "Epoch 27/60\n",
      "504/504 - 0s - loss: 0.8913 - accuracy: 0.7129 - val_loss: 0.9254 - val_accuracy: 0.7144\n",
      "Epoch 28/60\n",
      "504/504 - 0s - loss: 0.8898 - accuracy: 0.7129 - val_loss: 0.9228 - val_accuracy: 0.7167\n",
      "Epoch 29/60\n",
      "504/504 - 0s - loss: 0.8910 - accuracy: 0.7133 - val_loss: 0.9216 - val_accuracy: 0.7134\n",
      "Epoch 30/60\n",
      "504/504 - 0s - loss: 0.8901 - accuracy: 0.7131 - val_loss: 0.9210 - val_accuracy: 0.7144\n",
      "Epoch 31/60\n",
      "504/504 - 0s - loss: 0.8863 - accuracy: 0.7169 - val_loss: 0.9207 - val_accuracy: 0.7130\n",
      "Epoch 32/60\n",
      "504/504 - 0s - loss: 0.8877 - accuracy: 0.7141 - val_loss: 0.9202 - val_accuracy: 0.7134\n",
      "Epoch 33/60\n",
      "504/504 - 0s - loss: 0.8844 - accuracy: 0.7131 - val_loss: 0.9225 - val_accuracy: 0.7157\n",
      "Epoch 34/60\n",
      "504/504 - 0s - loss: 0.8818 - accuracy: 0.7161 - val_loss: 0.9183 - val_accuracy: 0.7144\n",
      "Epoch 35/60\n",
      "504/504 - 0s - loss: 0.8822 - accuracy: 0.7151 - val_loss: 0.9163 - val_accuracy: 0.7153\n",
      "Epoch 36/60\n",
      "504/504 - 0s - loss: 0.8807 - accuracy: 0.7165 - val_loss: 0.9169 - val_accuracy: 0.7065\n",
      "Epoch 37/60\n",
      "504/504 - 0s - loss: 0.8789 - accuracy: 0.7163 - val_loss: 0.9179 - val_accuracy: 0.7157\n",
      "Epoch 38/60\n",
      "504/504 - 0s - loss: 0.8809 - accuracy: 0.7169 - val_loss: 0.9180 - val_accuracy: 0.7106\n",
      "Epoch 39/60\n",
      "504/504 - 0s - loss: 0.8748 - accuracy: 0.7169 - val_loss: 0.9189 - val_accuracy: 0.7093\n",
      "Epoch 40/60\n",
      "504/504 - 0s - loss: 0.8813 - accuracy: 0.7151 - val_loss: 0.9174 - val_accuracy: 0.7120\n",
      "Epoch 41/60\n",
      "504/504 - 0s - loss: 0.8746 - accuracy: 0.7179 - val_loss: 0.9123 - val_accuracy: 0.7134\n",
      "Epoch 42/60\n",
      "504/504 - 0s - loss: 0.8714 - accuracy: 0.7153 - val_loss: 0.9146 - val_accuracy: 0.7111\n",
      "Epoch 43/60\n",
      "504/504 - 0s - loss: 0.8716 - accuracy: 0.7155 - val_loss: 0.9141 - val_accuracy: 0.7097\n",
      "Epoch 44/60\n",
      "504/504 - 0s - loss: 0.8701 - accuracy: 0.7193 - val_loss: 0.9111 - val_accuracy: 0.7167\n",
      "Epoch 45/60\n",
      "504/504 - 0s - loss: 0.8710 - accuracy: 0.7193 - val_loss: 0.9131 - val_accuracy: 0.7139\n",
      "Epoch 46/60\n",
      "504/504 - 0s - loss: 0.8679 - accuracy: 0.7201 - val_loss: 0.9067 - val_accuracy: 0.7134\n",
      "Epoch 47/60\n",
      "504/504 - 0s - loss: 0.8642 - accuracy: 0.7175 - val_loss: 0.9070 - val_accuracy: 0.7144\n",
      "Epoch 48/60\n",
      "504/504 - 0s - loss: 0.8652 - accuracy: 0.7193 - val_loss: 0.9134 - val_accuracy: 0.7106\n",
      "Epoch 49/60\n",
      "504/504 - 0s - loss: 0.8651 - accuracy: 0.7197 - val_loss: 0.9073 - val_accuracy: 0.7148\n",
      "Epoch 50/60\n",
      "504/504 - 0s - loss: 0.8636 - accuracy: 0.7163 - val_loss: 0.9069 - val_accuracy: 0.7153\n",
      "Epoch 51/60\n",
      "504/504 - 0s - loss: 0.8606 - accuracy: 0.7185 - val_loss: 0.9075 - val_accuracy: 0.7157\n",
      "Epoch 52/60\n",
      "504/504 - 0s - loss: 0.8612 - accuracy: 0.7205 - val_loss: 0.9061 - val_accuracy: 0.7134\n",
      "Epoch 53/60\n",
      "504/504 - 0s - loss: 0.8623 - accuracy: 0.7173 - val_loss: 0.9043 - val_accuracy: 0.7162\n",
      "Epoch 54/60\n",
      "504/504 - 0s - loss: 0.8531 - accuracy: 0.7217 - val_loss: 0.9065 - val_accuracy: 0.7144\n",
      "Epoch 55/60\n",
      "504/504 - 0s - loss: 0.8548 - accuracy: 0.7205 - val_loss: 0.9059 - val_accuracy: 0.7144\n",
      "Epoch 56/60\n",
      "504/504 - 0s - loss: 0.8566 - accuracy: 0.7211 - val_loss: 0.9061 - val_accuracy: 0.7139\n",
      "Epoch 57/60\n",
      "504/504 - 0s - loss: 0.8548 - accuracy: 0.7187 - val_loss: 0.9037 - val_accuracy: 0.7148\n",
      "Epoch 58/60\n",
      "504/504 - 0s - loss: 0.8590 - accuracy: 0.7193 - val_loss: 0.9013 - val_accuracy: 0.7194\n",
      "Epoch 59/60\n",
      "504/504 - 0s - loss: 0.8531 - accuracy: 0.7205 - val_loss: 0.9038 - val_accuracy: 0.7181\n",
      "Epoch 60/60\n",
      "504/504 - 0s - loss: 0.8538 - accuracy: 0.7225 - val_loss: 0.9161 - val_accuracy: 0.7120\n"
     ]
    }
   ],
   "source": [
    "# build the same model as before, including the Dropout Layers, but now instead of SGD, choose Adam with a lr=0.01 as optimizer.\n",
    "# fit and evaluate the model\n",
    "#from keras import optimizers\n",
    "#import keras\n",
    "#from keras.models import Sequential\n",
    "from keras.layers import Dense, Dropout, Activation, Flatten,Dropout\n",
    "nnadam= Sequential()\n",
    "\n",
    "nnadam.add(Dense(nb_units,input_dim=35,activation='relu',kernel_initializer='normal'))\n",
    "nnadam.add(Dropout(0.1))\n",
    "nnadam.add(Dense(nb_units,activation='relu',kernel_initializer='normal'))\n",
    "nnadam.add(Dropout(0.1))\n",
    "nnadam.add(Dense(6,activation='softmax',kernel_initializer='normal'))\n",
    "\n",
    "nnadam.compile(loss='categorical_crossentropy',\n",
    "                  optimizer='Adam',\n",
    "                  metrics=['accuracy'])\n",
    "batch_size = 56\n",
    "epochs = 30\n",
    "\n",
    "storyadam = nndrop.fit(X_train,\n",
    "          y_train,\n",
    "          epochs=epochs,\n",
    "          batch_size=batch_size,\n",
    "        validation_data=(X_test, y_test),\n",
    "          verbose=2)"
   ]
  },
  {
   "cell_type": "code",
   "execution_count": 136,
   "metadata": {
    "id": "LFaLh58O6lLA"
   },
   "outputs": [
    {
     "name": "stdout",
     "output_type": "stream",
     "text": [
      "Loss:1.7814247608184814,Accuracy: 0.14166666567325592\n"
     ]
    },
    {
     "data": {
      "image/png": "[encoded data removed]",
      "text/plain": [
       "<Figure size 1332x756 with 2 Axes>"
      ]
     },
     "metadata": {
      "needs_background": "light"
     },
     "output_type": "display_data"
    }
   ],
   "source": [
    "#print Test Loss and Accuracy\n",
    "loss,accuracy=nnadam.evaluate(X_test, y_test,verbose=0)\n",
    "# print test loss and accuracy \n",
    "print(f\"Loss:{loss},Accuracy: {accuracy}\")\n",
    "#plot the history using the above defined function show_history( )\n",
    "show_history(storyadam)"
   ]
  },
  {
   "cell_type": "markdown",
   "metadata": {
    "id": "iJhwbqIH6lLA"
   },
   "source": [
    "### 10: momentum and learning rate"
   ]
  },
  {
   "cell_type": "markdown",
   "metadata": {
    "id": "JqiOrO696lLA"
   },
   "source": [
    "\n",
    "Learning rate has been overlooked for a while but currently a lot of research is looking into it.\n",
    "Lower LR takes more time but allows better allocation of local minimum, higher LR allows faster calculations but drastic jumps do not always yield good results. However, learning rate doesn't have to be remained constant. We will try different learning rate schedules for our NN.\n",
    "\n",
    "The SGD optimization algorithm in Keras has an argument called **decay**. This argument is used in the time-based learning rate decay schedule equation as follows:\n",
    "LearningRate = LearningRate * 1/(1 + decay * epoch) (if decay=0 then there is no change)\n",
    "\n",
    "Another term to know is **momentum**. Use a large momentum. Using a larger momentum value will help the optimization algorithm to continue to make updates in the right direction when your learning rate shrinks to small values.\n",
    "\n",
    "$$\\Delta  W_k(i) = -\\eta  \\frac{\\partial E}{\\partial W_k} + \\mu  \\Delta W_k(i-1)$$\n",
    "\n",
    "\n",
    "$\\mu$ is a momentum term here. Imagine if at some point gradient is zero, it would put the backpropagation to stall. Here momentum comes to the rescue - the algorithm remembers its last step, and adds some proportion of it to the current step. This way, even if the algorithm is stuck in a flat region, or a small local minimum, it can get out and continue towards the global minimum. So learning rate measures how much the current situation affects the next step, while momentum measures how much past steps affect the next step. \n",
    "\n"
   ]
  },
  {
   "cell_type": "code",
   "execution_count": 208,
   "metadata": {
    "id": "uk1WsI2X6lLA"
   },
   "outputs": [
    {
     "name": "stdout",
     "output_type": "stream",
     "text": [
      "Epoch 1/30\n",
      "336/336 - 0s - loss: 1.0816 - accuracy: 0.6885 - val_loss: 1.0108 - val_accuracy: 0.6894\n",
      "Epoch 2/30\n",
      "336/336 - 0s - loss: 0.9734 - accuracy: 0.6953 - val_loss: 0.9945 - val_accuracy: 0.6875\n",
      "Epoch 3/30\n",
      "336/336 - 0s - loss: 0.9624 - accuracy: 0.6962 - val_loss: 0.9859 - val_accuracy: 0.6884\n",
      "Epoch 4/30\n",
      "336/336 - 0s - loss: 0.9531 - accuracy: 0.6988 - val_loss: 0.9821 - val_accuracy: 0.6912\n",
      "Epoch 5/30\n",
      "336/336 - 0s - loss: 0.9493 - accuracy: 0.6968 - val_loss: 0.9767 - val_accuracy: 0.6926\n",
      "Epoch 6/30\n",
      "336/336 - 0s - loss: 0.9416 - accuracy: 0.6994 - val_loss: 0.9691 - val_accuracy: 0.7009\n",
      "Epoch 7/30\n",
      "336/336 - 0s - loss: 0.9384 - accuracy: 0.7004 - val_loss: 0.9662 - val_accuracy: 0.7065\n",
      "Epoch 8/30\n",
      "336/336 - 0s - loss: 0.9338 - accuracy: 0.7038 - val_loss: 0.9608 - val_accuracy: 0.7074\n",
      "Epoch 9/30\n",
      "336/336 - 0s - loss: 0.9293 - accuracy: 0.7066 - val_loss: 0.9560 - val_accuracy: 0.7079\n",
      "Epoch 10/30\n",
      "336/336 - 0s - loss: 0.9246 - accuracy: 0.7084 - val_loss: 0.9575 - val_accuracy: 0.7023\n",
      "Epoch 11/30\n",
      "336/336 - 0s - loss: 0.9213 - accuracy: 0.7074 - val_loss: 0.9511 - val_accuracy: 0.7060\n",
      "Epoch 12/30\n",
      "336/336 - 0s - loss: 0.9178 - accuracy: 0.7076 - val_loss: 0.9470 - val_accuracy: 0.7134\n",
      "Epoch 13/30\n",
      "336/336 - 0s - loss: 0.9169 - accuracy: 0.7105 - val_loss: 0.9450 - val_accuracy: 0.7116\n",
      "Epoch 14/30\n",
      "336/336 - 0s - loss: 0.9126 - accuracy: 0.7111 - val_loss: 0.9433 - val_accuracy: 0.7116\n",
      "Epoch 15/30\n",
      "336/336 - 0s - loss: 0.9115 - accuracy: 0.7105 - val_loss: 0.9439 - val_accuracy: 0.7111\n",
      "Epoch 16/30\n",
      "336/336 - 0s - loss: 0.9081 - accuracy: 0.7121 - val_loss: 0.9386 - val_accuracy: 0.7130\n",
      "Epoch 17/30\n",
      "336/336 - 0s - loss: 0.9063 - accuracy: 0.7117 - val_loss: 0.9367 - val_accuracy: 0.7106\n",
      "Epoch 18/30\n",
      "336/336 - 0s - loss: 0.9025 - accuracy: 0.7143 - val_loss: 0.9333 - val_accuracy: 0.7153\n",
      "Epoch 19/30\n",
      "336/336 - 0s - loss: 0.9024 - accuracy: 0.7129 - val_loss: 0.9337 - val_accuracy: 0.7167\n",
      "Epoch 20/30\n",
      "336/336 - 0s - loss: 0.8986 - accuracy: 0.7121 - val_loss: 0.9303 - val_accuracy: 0.7106\n",
      "Epoch 21/30\n",
      "336/336 - 0s - loss: 0.8972 - accuracy: 0.7101 - val_loss: 0.9279 - val_accuracy: 0.7139\n",
      "Epoch 22/30\n",
      "336/336 - 0s - loss: 0.8993 - accuracy: 0.7141 - val_loss: 0.9267 - val_accuracy: 0.7176\n",
      "Epoch 23/30\n",
      "336/336 - 0s - loss: 0.8948 - accuracy: 0.7101 - val_loss: 0.9251 - val_accuracy: 0.7157\n",
      "Epoch 24/30\n",
      "336/336 - 0s - loss: 0.8908 - accuracy: 0.7119 - val_loss: 0.9244 - val_accuracy: 0.7130\n",
      "Epoch 25/30\n",
      "336/336 - 0s - loss: 0.8909 - accuracy: 0.7143 - val_loss: 0.9242 - val_accuracy: 0.7125\n",
      "Epoch 26/30\n",
      "336/336 - 0s - loss: 0.8871 - accuracy: 0.7157 - val_loss: 0.9215 - val_accuracy: 0.7125\n",
      "Epoch 27/30\n",
      "336/336 - 0s - loss: 0.8856 - accuracy: 0.7157 - val_loss: 0.9219 - val_accuracy: 0.7120\n",
      "Epoch 28/30\n",
      "336/336 - 0s - loss: 0.8882 - accuracy: 0.7149 - val_loss: 0.9193 - val_accuracy: 0.7144\n",
      "Epoch 29/30\n",
      "336/336 - 0s - loss: 0.8844 - accuracy: 0.7141 - val_loss: 0.9198 - val_accuracy: 0.7130\n",
      "Epoch 30/30\n",
      "336/336 - 0s - loss: 0.8831 - accuracy: 0.7137 - val_loss: 0.9197 - val_accuracy: 0.7134\n"
     ]
    }
   ],
   "source": [
    "from keras.optimizers import SGD\n",
    "# rebuild the model with Dropout Layers as before\n",
    "\n",
    "nnmom= Sequential()\n",
    "\n",
    "nnmom.add(Dense(nb_units,input_dim=35,activation='relu',kernel_initializer='normal'))\n",
    "nnmom.add(Dropout(0.1))\n",
    "nnmom.add(Dense(nb_units,activation='relu',kernel_initializer='normal'))\n",
    "nnmom.add(Dropout(0.1))\n",
    "nnmom.add(Dense(6,activation='softmax',kernel_initializer='normal'))\n",
    "\n",
    "batch_size = 15\n",
    "epochs = 30\n",
    "\n",
    "\n",
    "\n",
    "# Compile the model using SGD as optimizer with the following parameters\n",
    "learning_rate = 0.01\n",
    "decay_rate = learning_rate / epochs\n",
    "momentum = 0.8\n",
    "opt = SGD(learning_rate=learning_rate,decay=decay_rate,momentum=momentum) \n",
    "\n",
    "\n",
    "nnmom.compile(loss='categorical_crossentropy',\n",
    "                  optimizer=opt,\n",
    "                  metrics=['accuracy'])\n",
    "\n",
    "\n",
    "# Fit and evaluate the model\n",
    "\n",
    "\n",
    "storymom = nnmom.fit(X_train,\n",
    "          y_train,\n",
    "          epochs=epochs,\n",
    "          batch_size=batch_size,\n",
    "        validation_data=(X_test, y_test),\n",
    "          verbose=2)\n",
    "\n"
   ]
  },
  {
   "cell_type": "code",
   "execution_count": 139,
   "metadata": {},
   "outputs": [
    {
     "data": {
      "text/plain": [
       "0.0003333333333333333"
      ]
     },
     "execution_count": 139,
     "metadata": {},
     "output_type": "execute_result"
    }
   ],
   "source": []
  },
  {
   "cell_type": "code",
   "execution_count": 183,
   "metadata": {
    "id": "AxtlKoKz6lLB",
    "outputId": "1ed6b48d-f99b-4729-838c-2cfa32d4e338"
   },
   "outputs": [
    {
     "name": "stdout",
     "output_type": "stream",
     "text": [
      "Loss:0.9224649667739868,Accuracy: 0.7097222208976746\n"
     ]
    },
    {
     "data": {
      "image/png": "[encoded data removed]",
      "text/plain": [
       "<Figure size 1332x756 with 2 Axes>"
      ]
     },
     "metadata": {
      "needs_background": "light"
     },
     "output_type": "display_data"
    }
   ],
   "source": [
    "# print test loss and accuracy and plit results with show_history()\n",
    "#print Test Loss and Accuracy\n",
    "loss,accuracy=nnmom.evaluate(X_test, y_test,verbose=0)\n",
    "# print test loss and accuracy \n",
    "print(f\"Loss:{loss},Accuracy: {accuracy}\")\n",
    "#plot the history using the above defined function show_history( )\n",
    "show_history(storymom)"
   ]
  },
  {
   "cell_type": "markdown",
   "metadata": {
    "id": "35dd3a8q6lLB"
   },
   "source": [
    "## Early stopping"
   ]
  },
  {
   "cell_type": "code",
   "execution_count": 203,
   "metadata": {
    "id": "5q6SGh3w6lLB",
    "outputId": "273f8f56-7529-4a5a-f3a2-ab9f82a4f9f6"
   },
   "outputs": [
    {
     "name": "stdout",
     "output_type": "stream",
     "text": [
      "Epoch 1/60\n",
      "336/336 - 0s - loss: 1.6206 - accuracy: 0.6847 - val_loss: 1.4727 - val_accuracy: 0.6894\n",
      "Epoch 2/60\n",
      "336/336 - 0s - loss: 1.3365 - accuracy: 0.6953 - val_loss: 1.2285 - val_accuracy: 0.6894\n",
      "Epoch 3/60\n",
      "336/336 - 0s - loss: 1.1435 - accuracy: 0.6953 - val_loss: 1.0999 - val_accuracy: 0.6894\n",
      "Epoch 4/60\n",
      "336/336 - 0s - loss: 1.0638 - accuracy: 0.6953 - val_loss: 1.0617 - val_accuracy: 0.6894\n",
      "Epoch 5/60\n",
      "336/336 - 0s - loss: 1.0401 - accuracy: 0.6953 - val_loss: 1.0480 - val_accuracy: 0.6894\n",
      "Epoch 6/60\n",
      "336/336 - 0s - loss: 1.0273 - accuracy: 0.6953 - val_loss: 1.0395 - val_accuracy: 0.6894\n",
      "Epoch 7/60\n",
      "336/336 - 0s - loss: 1.0185 - accuracy: 0.6953 - val_loss: 1.0333 - val_accuracy: 0.6894\n",
      "Epoch 8/60\n",
      "336/336 - 0s - loss: 1.0125 - accuracy: 0.6953 - val_loss: 1.0285 - val_accuracy: 0.6894\n",
      "Epoch 9/60\n",
      "336/336 - 0s - loss: 1.0079 - accuracy: 0.6953 - val_loss: 1.0247 - val_accuracy: 0.6894\n",
      "Epoch 10/60\n",
      "336/336 - 0s - loss: 1.0042 - accuracy: 0.6953 - val_loss: 1.0215 - val_accuracy: 0.6894\n",
      "Epoch 11/60\n",
      "336/336 - 0s - loss: 0.9976 - accuracy: 0.6953 - val_loss: 1.0189 - val_accuracy: 0.6894\n",
      "Epoch 12/60\n",
      "336/336 - 0s - loss: 0.9962 - accuracy: 0.6953 - val_loss: 1.0166 - val_accuracy: 0.6894\n",
      "Epoch 13/60\n",
      "336/336 - 0s - loss: 0.9943 - accuracy: 0.6953 - val_loss: 1.0147 - val_accuracy: 0.6894\n"
     ]
    }
   ],
   "source": [
    "from keras.callbacks import EarlyStopping\n",
    "# define a Callback in teh following way\n",
    "cb=EarlyStopping(monitor='val_loss', min_delta=0.1, verbose=0, patience=10, restore_best_weights=True) #difference of loss is below min_delta, it is quantified as no improvement\n",
    "\n",
    "nnmom= Sequential()\n",
    "\n",
    "nnmom.add(Dense(nb_units,input_dim=35,activation='relu',kernel_initializer='normal'))\n",
    "nnmom.add(Dropout(0.1))\n",
    "nnmom.add(Dense(nb_units,activation='relu',kernel_initializer='normal'))\n",
    "nnmom.add(Dropout(0.1))\n",
    "nnmom.add(Dense(6,activation='softmax',kernel_initializer='normal'))\n",
    "\n",
    "batch_size = 15\n",
    "epochs = 60\n",
    "nnmom.compile(loss='categorical_crossentropy',\n",
    "                  optimizer=opt,\n",
    "                  metrics=['accuracy'])\n",
    "\n",
    "\n",
    "#fit the previous model using the above defined callback \n",
    "storystop = nnmom.fit(X_train,\n",
    "          y_train,\n",
    "          epochs=epochs,\n",
    "          batch_size=batch_size,\n",
    "        validation_data=(X_test, y_test),\n",
    "          verbose=2,\n",
    "          callbacks=cb)\n",
    "\n",
    "\n",
    "# evaluate the model\n",
    "loss,accuracy=nnmom.evaluate(X_test, y_test,verbose=0)\n"
   ]
  },
  {
   "cell_type": "code",
   "execution_count": 190,
   "metadata": {
    "id": "IBGIwLxN6lLB",
    "outputId": "3485447b-59f4-4927-8fad-00dca1a4310b"
   },
   "outputs": [
    {
     "name": "stdout",
     "output_type": "stream",
     "text": [
      "Loss:0.9895496368408203,Accuracy: 0.6912037134170532\n"
     ]
    },
    {
     "data": {
      "image/png": "[encoded data removed]",
      "text/plain": [
       "<Figure size 1332x756 with 2 Axes>"
      ]
     },
     "metadata": {
      "needs_background": "light"
     },
     "output_type": "display_data"
    }
   ],
   "source": [
    "#print loss and accuracy and plot it using show_history()\n",
    "\n",
    "print(f\"Loss:{loss},Accuracy: {accuracy}\")\n",
    "#plot the history using the above defined function show_history( )\n",
    "show_history(storystop)"
   ]
  },
  {
   "cell_type": "code",
   "execution_count": 89,
   "metadata": {},
   "outputs": [
    {
     "name": "stdout",
     "output_type": "stream",
     "text": [
      "[0.1674823  0.32163421 0.44817075 0.57067498 0.6830299  0.78931206\n",
      " 0.8714502  0.90547583 0.92800792 0.94403099 0.95381768]\n"
     ]
    },
    {
     "data": {
      "text/plain": [
       "11"
      ]
     },
     "execution_count": 89,
     "metadata": {},
     "output_type": "execute_result"
    }
   ],
   "source": [
    "from sklearn.decomposition import PCA\n",
    "pca = PCA(n_components=0.95, svd_solver='full')\n",
    "pca.fit(X_train)\n",
    "print(pca.explained_variance_ratio_.cumsum())\n",
    "nodes= pca.n_components_\n",
    "nodes"
   ]
  },
  {
   "cell_type": "code",
   "execution_count": 114,
   "metadata": {},
   "outputs": [
    {
     "name": "stdout",
     "output_type": "stream",
     "text": [
      "Epoch 1/60\n",
      "168/168 - 0s - loss: 1.0394 - accuracy: 0.6901 - val_loss: 1.0042 - val_accuracy: 0.6894\n",
      "Epoch 2/60\n",
      "168/168 - 0s - loss: 0.9684 - accuracy: 0.6937 - val_loss: 0.9951 - val_accuracy: 0.6926\n",
      "Epoch 3/60\n",
      "168/168 - 0s - loss: 0.9627 - accuracy: 0.6988 - val_loss: 0.9789 - val_accuracy: 0.6926\n",
      "Epoch 4/60\n",
      "168/168 - 0s - loss: 0.9543 - accuracy: 0.6988 - val_loss: 0.9757 - val_accuracy: 0.7046\n",
      "Epoch 5/60\n",
      "168/168 - 0s - loss: 0.9413 - accuracy: 0.7036 - val_loss: 0.9728 - val_accuracy: 0.7014\n",
      "Epoch 6/60\n",
      "168/168 - 0s - loss: 0.9381 - accuracy: 0.7004 - val_loss: 0.9704 - val_accuracy: 0.7028\n",
      "Epoch 7/60\n",
      "168/168 - 0s - loss: 0.9387 - accuracy: 0.7030 - val_loss: 0.9738 - val_accuracy: 0.7019\n",
      "Epoch 8/60\n",
      "168/168 - 0s - loss: 0.9345 - accuracy: 0.7062 - val_loss: 0.9564 - val_accuracy: 0.7083\n",
      "Epoch 9/60\n",
      "168/168 - 0s - loss: 0.9293 - accuracy: 0.7064 - val_loss: 0.9529 - val_accuracy: 0.7116\n",
      "Epoch 10/60\n",
      "168/168 - 0s - loss: 0.9254 - accuracy: 0.7086 - val_loss: 0.9513 - val_accuracy: 0.7148\n",
      "Epoch 11/60\n",
      "168/168 - 0s - loss: 0.9222 - accuracy: 0.7074 - val_loss: 0.9507 - val_accuracy: 0.7134\n",
      "Epoch 12/60\n",
      "168/168 - 0s - loss: 0.9222 - accuracy: 0.7066 - val_loss: 0.9462 - val_accuracy: 0.7120\n",
      "Epoch 13/60\n",
      "168/168 - 0s - loss: 0.9169 - accuracy: 0.7090 - val_loss: 0.9469 - val_accuracy: 0.7042\n",
      "Epoch 14/60\n",
      "168/168 - 0s - loss: 0.9195 - accuracy: 0.7094 - val_loss: 0.9397 - val_accuracy: 0.7144\n",
      "Epoch 15/60\n",
      "168/168 - 0s - loss: 0.9088 - accuracy: 0.7177 - val_loss: 0.9555 - val_accuracy: 0.6954\n",
      "Epoch 16/60\n",
      "168/168 - 0s - loss: 0.9109 - accuracy: 0.7119 - val_loss: 0.9343 - val_accuracy: 0.7120\n",
      "Epoch 17/60\n",
      "168/168 - 0s - loss: 0.9026 - accuracy: 0.7123 - val_loss: 0.9304 - val_accuracy: 0.7148\n",
      "Epoch 18/60\n",
      "168/168 - 0s - loss: 0.9021 - accuracy: 0.7123 - val_loss: 0.9286 - val_accuracy: 0.7167\n",
      "Epoch 19/60\n",
      "168/168 - 0s - loss: 0.9028 - accuracy: 0.7088 - val_loss: 0.9298 - val_accuracy: 0.7148\n"
     ]
    }
   ],
   "source": [
    "from keras import optimizers\n",
    "from keras.callbacks import EarlyStopping\n",
    "from keras.optimizers import SGD,Adam\n",
    "import keras\n",
    "from keras.models import Sequential\n",
    "from keras.layers import Dense, Dropout, Activation, Flatten,Dropout\n",
    "cb=EarlyStopping(monitor='val_loss', min_delta=0.05, verbose=0, patience=10, restore_best_weights=True) #difference of loss is below min_delta, it is quantified as no improvement\n",
    "\n",
    "nnadam= Sequential()\n",
    "nnpca= Sequential()\n",
    "nb_units=128\n",
    "nnpca.add(Dense(nodes,input_dim=35,activation='relu',kernel_initializer='normal'))\n",
    "nnpca.add(Dropout(0.1))\n",
    "nnpca.add(Dense(nodes,activation='relu',kernel_initializer='normal'))\n",
    "nnpca.add(Dropout(0.1))\n",
    "nnpca.add(Dense(6,activation='softmax',kernel_initializer='normal'))\n",
    "\n",
    "learning_rate = 0.2\n",
    "decay_rate = learning_rate / epochs\n",
    "momentum = 0.8\n",
    "opt = SGD(learning_rate=learning_rate,decay=decay_rate,momentum=momentum) \n",
    "optadam=Adam(learning_rate=learning_rate)\n",
    "batch_size = 30\n",
    "epochs = 60\n",
    "nnpca.compile(loss='categorical_crossentropy',\n",
    "                  optimizer=opt,\n",
    "                  metrics=['accuracy'])\n",
    "\n",
    "\n",
    "#fit the previous model using the above defined callback \n",
    "storypca = nnpca.fit(X_train,\n",
    "          y_train,\n",
    "          epochs=epochs,\n",
    "          batch_size=batch_size,\n",
    "        validation_data=(X_test, y_test),\n",
    "          verbose=2,\n",
    "          callbacks=cb\n",
    "                    )\n",
    "\n",
    "\n",
    "\n"
   ]
  },
  {
   "cell_type": "code",
   "execution_count": 115,
   "metadata": {},
   "outputs": [
    {
     "name": "stdout",
     "output_type": "stream",
     "text": [
      "Loss:0.9528730511665344,Accuracy: 0.7115740776062012\n"
     ]
    },
    {
     "data": {
      "image/png": "[encoded data removed]",
      "text/plain": [
       "<Figure size 1332x756 with 2 Axes>"
      ]
     },
     "metadata": {
      "needs_background": "light"
     },
     "output_type": "display_data"
    }
   ],
   "source": [
    "# evaluate the model\n",
    "loss,accuracy=nnpca.evaluate(X_test, y_test,verbose=0)\n",
    "print(f\"Loss:{loss},Accuracy: {accuracy}\")\n",
    "#plot the history using the above defined function show_history( )\n",
    "show_history(storypca)"
   ]
  },
  {
   "cell_type": "code",
   "execution_count": 113,
   "metadata": {},
   "outputs": [
    {
     "ename": "NameError",
     "evalue": "name 'nnpca' is not defined",
     "output_type": "error",
     "traceback": [
      "\u001b[0;31m---------------------------------------------------------------------------\u001b[0m",
      "\u001b[0;31mNameError\u001b[0m                                 Traceback (most recent call last)",
      "\u001b[0;32m<ipython-input-113-f28830db7907>\u001b[0m in \u001b[0;36m<module>\u001b[0;34m\u001b[0m\n\u001b[0;32m----> 1\u001b[0;31m \u001b[0;32mdel\u001b[0m \u001b[0mnnpca\u001b[0m\u001b[0;34m,\u001b[0m\u001b[0mstorypca\u001b[0m\u001b[0;34m\u001b[0m\u001b[0;34m\u001b[0m\u001b[0m\n\u001b[0m",
      "\u001b[0;31mNameError\u001b[0m: name 'nnpca' is not defined"
     ]
    }
   ],
   "source": [
    "del nnpca,storypca"
   ]
  }
 ],
 "metadata": {
  "colab": {
   "collapsed_sections": [],
   "include_colab_link": true,
   "name": "Quest Challenge_ NN-in-Keras.ipynb",
   "provenance": []
  },
  "kernelspec": {
   "display_name": "Python 3",
   "language": "python",
   "name": "python3"
  },
  "language_info": {
   "codemirror_mode": {
    "name": "ipython",
    "version": 3
   },
   "file_extension": ".py",
   "mimetype": "text/x-python",
   "name": "python",
   "nbconvert_exporter": "python",
   "pygments_lexer": "ipython3",
   "version": "3.8.5"
  },
  "pycharm": {
   "stem_cell": {
    "cell_type": "raw",
    "metadata": {
     "collapsed": false
    },
    "source": []
   }
  }
 },
 "nbformat": 4,
 "nbformat_minor": 4
}
