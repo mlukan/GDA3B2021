{
 "cells": [
  {
   "cell_type": "markdown",
   "metadata": {
    "id": "DQPbhutEGd4F"
   },
   "source": [
    "## Preparation"
   ]
  },
  {
   "cell_type": "markdown",
   "metadata": {
    "id": "m7tA7ZIuGhsP"
   },
   "source": [
    "Loading the dataset about breast cancer:\n",
    "\n",
    "\n",
    "*   radius (mean of distances from center to points on the perimeter)\n",
    "*   texture (standard deviation of gray-scale values)\n",
    "\n",
    "* perimeter\n",
    "\n",
    "* area\n",
    "\n",
    "* smoothness (local variation in radius lengths)\n",
    "\n",
    "* compactness (perimeter^2 / area - 1.0)\n",
    "\n",
    "* concavity (severity of concave portions of the contour)\n",
    "\n",
    "* concave points (number of concave portions of the contour)\n",
    "\n",
    "* symmetry\n",
    "\n",
    "* fractal dimension (“coastline approximation” - 1)\n",
    "\n",
    "Features are computed from a digitized image of a fine needle aspirate (FNA) of a breast mass. They describe characteristics of the cell nuclei present in the image.\n",
    "\n"
   ]
  },
  {
   "cell_type": "code",
   "execution_count": 36,
   "metadata": {
    "id": "utxOpPt7Gj5t"
   },
   "outputs": [],
   "source": [
    "import numpy as np\n",
    "import pandas as pd\n",
    "import matplotlib.pyplot as plt\n",
    "import seaborn as sns\n",
    "sns.set_style(\"whitegrid\")\n",
    "import warnings\n",
    "warnings.simplefilter(action=\"ignore\")"
   ]
  },
  {
   "cell_type": "code",
   "execution_count": 37,
   "metadata": {
    "id": "ecnfoEAeGktv"
   },
   "outputs": [],
   "source": [
    "from sklearn.datasets import load_breast_cancer\n",
    "\n",
    "cancer = load_breast_cancer()\n",
    "\n",
    "df = pd.DataFrame(np.c_[cancer['data'], cancer['target']],\n",
    "                            columns=np.append(cancer['feature_names'], ['target']))"
   ]
  },
  {
   "cell_type": "code",
   "execution_count": 38,
   "metadata": {
    "colab": {
     "base_uri": "https://localhost:8080/",
     "height": 462
    },
    "executionInfo": {
     "elapsed": 263,
     "status": "ok",
     "timestamp": 1622658894755,
     "user": {
      "displayName": "Patricia Craja",
      "photoUrl": "",
      "userId": "02912126000997772383"
     },
     "user_tz": -120
    },
    "id": "q2ovzkD1HJvz",
    "outputId": "ffa65943-22eb-4d87-c40f-ced63b8e8804"
   },
   "outputs": [
    {
     "data": {
      "text/plain": [
       "array([0., 1.])"
      ]
     },
     "execution_count": 38,
     "metadata": {},
     "output_type": "execute_result"
    }
   ],
   "source": [
    "df['target'].unique()"
   ]
  },
  {
   "cell_type": "markdown",
   "metadata": {
    "id": "EvXIhc6jHroe"
   },
   "source": [
    "## Data Inspection/Exploration"
   ]
  },
  {
   "cell_type": "code",
   "execution_count": 39,
   "metadata": {
    "id": "TVL1Pa-5Ht5u"
   },
   "outputs": [],
   "source": [
    "df.replace({'target': 1}, \"malignant\", inplace=True)\n",
    "df.replace({'target': 0}, \"benign\", inplace=True)"
   ]
  },
  {
   "cell_type": "code",
   "execution_count": 40,
   "metadata": {
    "colab": {
     "base_uri": "https://localhost:8080/",
     "height": 295
    },
    "executionInfo": {
     "elapsed": 220,
     "status": "ok",
     "timestamp": 1622658903783,
     "user": {
      "displayName": "Patricia Craja",
      "photoUrl": "",
      "userId": "02912126000997772383"
     },
     "user_tz": -120
    },
    "id": "rfSfdKNCH-oN",
    "outputId": "76961bc1-50f9-48f4-9636-214e8f83f924"
   },
   "outputs": [
    {
     "data": {
      "image/png": "[encoded data removed]",
      "text/plain": [
       "<Figure size 432x288 with 1 Axes>"
      ]
     },
     "metadata": {},
     "output_type": "display_data"
    }
   ],
   "source": [
    "# inspect the distribution\n",
    "\n",
    "sns.countplot(data = df, x='target')\n",
    "plt.title('Diagnosis');"
   ]
  },
  {
   "cell_type": "code",
   "execution_count": 41,
   "metadata": {
    "id": "Rty_ZwMA9sqi"
   },
   "outputs": [
    {
     "data": {
      "text/plain": [
       "mean radius                float64\n",
       "mean texture               float64\n",
       "mean perimeter             float64\n",
       "mean area                  float64\n",
       "mean smoothness            float64\n",
       "mean compactness           float64\n",
       "mean concavity             float64\n",
       "mean concave points        float64\n",
       "mean symmetry              float64\n",
       "mean fractal dimension     float64\n",
       "radius error               float64\n",
       "texture error              float64\n",
       "perimeter error            float64\n",
       "area error                 float64\n",
       "smoothness error           float64\n",
       "compactness error          float64\n",
       "concavity error            float64\n",
       "concave points error       float64\n",
       "symmetry error             float64\n",
       "fractal dimension error    float64\n",
       "worst radius               float64\n",
       "worst texture              float64\n",
       "worst perimeter            float64\n",
       "worst area                 float64\n",
       "worst smoothness           float64\n",
       "worst compactness          float64\n",
       "worst concavity            float64\n",
       "worst concave points       float64\n",
       "worst symmetry             float64\n",
       "worst fractal dimension    float64\n",
       "target                      object\n",
       "dtype: object"
      ]
     },
     "execution_count": 41,
     "metadata": {},
     "output_type": "execute_result"
    }
   ],
   "source": [
    "#inspect the data and columns\n",
    "df.info\n",
    "#df.describe()\n",
    "df.dtypes"
   ]
  },
  {
   "cell_type": "code",
   "execution_count": 42,
   "metadata": {
    "id": "Egfds3xAULJF"
   },
   "outputs": [],
   "source": [
    "#define X and y\n",
    "X=df.drop(columns='target',axis=1)\n",
    "y=df['target']\n"
   ]
  },
  {
   "cell_type": "code",
   "execution_count": 79,
   "metadata": {
    "colab": {
     "base_uri": "https://localhost:8080/"
    },
    "executionInfo": {
     "elapsed": 6,
     "status": "ok",
     "timestamp": 1622662246152,
     "user": {
      "displayName": "Patricia Craja",
      "photoUrl": "",
      "userId": "02912126000997772383"
     },
     "user_tz": -120
    },
    "id": "GAKeHBzY-XDe",
    "outputId": "a2186e1d-2ebb-4b68-8b81-a58210318445"
   },
   "outputs": [
    {
     "data": {
      "text/plain": [
       "array([[1, 0],\n",
       "       [1, 0],\n",
       "       [1, 0],\n",
       "       ...,\n",
       "       [1, 0],\n",
       "       [1, 0],\n",
       "       [0, 1]], dtype=uint8)"
      ]
     },
     "execution_count": 79,
     "metadata": {},
     "output_type": "execute_result"
    }
   ],
   "source": [
    "y1=df[['target']]\n",
    "y1=pd.get_dummies(y1).to_numpy()\n",
    "y1\n"
   ]
  },
  {
   "cell_type": "code",
   "execution_count": null,
   "metadata": {
    "id": "nogeYRgB_tjc"
   },
   "outputs": [],
   "source": []
  },
  {
   "cell_type": "code",
   "execution_count": 43,
   "metadata": {
    "id": "gl3cWkS508oi"
   },
   "outputs": [],
   "source": [
    "# Prepare the target variable\n",
    "from sklearn.preprocessing import LabelEncoder\n",
    "encoder = LabelEncoder()\n",
    "encoder.fit(y)\n",
    "y = encoder.transform(y)\n"
   ]
  },
  {
   "cell_type": "markdown",
   "metadata": {
    "id": "dvNTnzqJCZcf"
   },
   "source": [
    "## 1) Split the Data into Train/Test"
   ]
  },
  {
   "cell_type": "code",
   "execution_count": 80,
   "metadata": {
    "colab": {
     "base_uri": "https://localhost:8080/"
    },
    "executionInfo": {
     "elapsed": 202,
     "status": "ok",
     "timestamp": 1622662251606,
     "user": {
      "displayName": "Patricia Craja",
      "photoUrl": "",
      "userId": "02912126000997772383"
     },
     "user_tz": -120
    },
    "id": "hq_mpO7LCF1j",
    "outputId": "8721940b-0945-40bd-8069-ba79bc79b0bf"
   },
   "outputs": [
    {
     "name": "stdout",
     "output_type": "stream",
     "text": [
      "(398, 30)\n",
      "(171, 30)\n"
     ]
    }
   ],
   "source": [
    "from sklearn.model_selection import train_test_split\n",
    "# use random state 42\n",
    "X_train,X_test,y_train,y_test=train_test_split(X,y1,test_size=0.3,random_state=42)\n",
    "print(X_train.shape)\n",
    "print(X_test.shape)"
   ]
  },
  {
   "cell_type": "code",
   "execution_count": 81,
   "metadata": {},
   "outputs": [
    {
     "data": {
      "text/plain": [
       "0.30052724077328646"
      ]
     },
     "execution_count": 81,
     "metadata": {},
     "output_type": "execute_result"
    }
   ],
   "source": [
    "171/(398+171)"
   ]
  },
  {
   "cell_type": "code",
   "execution_count": 82,
   "metadata": {
    "id": "LEu-XQIuLfE4"
   },
   "outputs": [],
   "source": [
    "# feature scaling - standardscaler\n",
    "from sklearn import preprocessing\n",
    "scaler=preprocessing.StandardScaler()\n",
    "scaler=scaler.fit(X_train)\n",
    "\n",
    "X_train_scaled=scaler.transform(X_train)\n",
    "X_test_scaled=scaler.transform(X_test)\n"
   ]
  },
  {
   "cell_type": "code",
   "execution_count": 83,
   "metadata": {},
   "outputs": [
    {
     "name": "stdout",
     "output_type": "stream",
     "text": [
      "(398, 30) (171, 30)\n"
     ]
    }
   ],
   "source": [
    "print(X_train_scaled.shape,X_test_scaled.shape)"
   ]
  },
  {
   "cell_type": "code",
   "execution_count": 86,
   "metadata": {},
   "outputs": [
    {
     "name": "stdout",
     "output_type": "stream",
     "text": [
      "(398, 2) (171, 2)\n"
     ]
    }
   ],
   "source": [
    "print(y_train.shape,y_test.shape)"
   ]
  },
  {
   "cell_type": "markdown",
   "metadata": {
    "id": "qnDZpY7dNGV4"
   },
   "source": [
    "## Create Classifier"
   ]
  },
  {
   "cell_type": "code",
   "execution_count": 87,
   "metadata": {
    "executionInfo": {
     "elapsed": 219,
     "status": "ok",
     "timestamp": 1622664419900,
     "user": {
      "displayName": "Patricia Craja",
      "photoUrl": "",
      "userId": "02912126000997772383"
     },
     "user_tz": -120
    },
    "id": "aKopWmrJCnK_"
   },
   "outputs": [],
   "source": [
    "from tensorflow.keras.models import Sequential\n",
    "from tensorflow.keras.layers import Dense,Input,InputLayer\n",
    "from keras.utils import np_utils\n",
    "\n",
    "'''create dummies from y using keras\n",
    "dummy_y = np_utils.to_categorical(y)'''"
   ]
  },
  {
   "cell_type": "code",
   "execution_count": 88,
   "metadata": {
    "id": "RqhUBrRvCsS6"
   },
   "outputs": [],
   "source": [
    "nn=Sequential()\n",
    "#adding the input and first hidden layer\n",
    "nn.add(InputLayer(input_shape=(30,)))\n",
    "nn.add(Dense(128,activation='relu'))\n",
    "\n",
    "#adding second layer\n",
    "nn.add(Dense(128,activation='relu'))\n",
    "\n",
    "#adding the output layer\n",
    "nn.add(Dense(2,activation='softmax'))\n"
   ]
  },
  {
   "cell_type": "code",
   "execution_count": 89,
   "metadata": {
    "id": "Trg8k2LwCyva"
   },
   "outputs": [],
   "source": [
    "#compile the model\n",
    "from tensorflow import keras\n",
    "from keras import optimizers\n",
    "# define the optimizer\n",
    "# We use SGD as optimizer and cover more options later on, lets start with a learning rate of 0.01. There are many more parameters that we could be adding in the optimizer,\n",
    "# but for now let us only declare the lr \n",
    "opt=keras.optimizers.SGD(learning_rate=0.01) \n",
    "\n",
    "\n",
    "\n",
    "# Calling compile and specifying some mandatory arguments completes setting up the NN, ie. loss and metrics\n",
    "nn.compile(loss='categorical_crossentropy',\n",
    "                  optimizer=opt,\n",
    "                  metrics=['accuracy'])\n"
   ]
  },
  {
   "cell_type": "code",
   "execution_count": 90,
   "metadata": {
    "id": "iWfxIVPMDrvy"
   },
   "outputs": [
    {
     "name": "stdout",
     "output_type": "stream",
     "text": [
      "Model: \"sequential_8\"\n",
      "_________________________________________________________________\n",
      "Layer (type)                 Output Shape              Param #   \n",
      "=================================================================\n",
      "dense_14 (Dense)             (None, 128)               3968      \n",
      "_________________________________________________________________\n",
      "dense_15 (Dense)             (None, 128)               16512     \n",
      "_________________________________________________________________\n",
      "dense_16 (Dense)             (None, 2)                 258       \n",
      "=================================================================\n",
      "Total params: 20,738\n",
      "Trainable params: 20,738\n",
      "Non-trainable params: 0\n",
      "_________________________________________________________________\n"
     ]
    }
   ],
   "source": [
    "#show model summary\n",
    "nn.summary()"
   ]
  },
  {
   "cell_type": "code",
   "execution_count": 91,
   "metadata": {
    "id": "B-kHOxG_ImdG"
   },
   "outputs": [
    {
     "name": "stdout",
     "output_type": "stream",
     "text": [
      "3968\n",
      "16512\n",
      "258\n"
     ]
    }
   ],
   "source": [
    "# see if you can reproduce the parameters from input to hidden layer:\n",
    "\n",
    "#(dimension of W_1)\n",
    "#W_1=(input_nodes*1hidden_layer_nodes+1hidden_layer_biases)\n",
    "W_1=(30*128+128)\n",
    "print(W_1)\n",
    "\n",
    "# first hidden to second hidden layer\n",
    "\n",
    "#(dimension of W_2))\n",
    "print(128*128+128)\n",
    "# second hidden to output layer\n",
    "#(dimension of W_3 )\n",
    "print(129*(2))"
   ]
  },
  {
   "cell_type": "code",
   "execution_count": 93,
   "metadata": {
    "id": "XRVmifMsC1lS"
   },
   "outputs": [
    {
     "name": "stdout",
     "output_type": "stream",
     "text": [
      "Epoch 1/20\n",
      "20/20 - 0s - loss: 0.5716 - accuracy: 0.7161 - val_loss: 0.4119 - val_accuracy: 0.9474\n",
      "Epoch 2/20\n",
      "20/20 - 0s - loss: 0.3821 - accuracy: 0.8945 - val_loss: 0.2993 - val_accuracy: 0.9591\n",
      "Epoch 3/20\n",
      "20/20 - 0s - loss: 0.3006 - accuracy: 0.9171 - val_loss: 0.2422 - val_accuracy: 0.9474\n",
      "Epoch 4/20\n",
      "20/20 - 0s - loss: 0.2546 - accuracy: 0.9347 - val_loss: 0.2070 - val_accuracy: 0.9415\n",
      "Epoch 5/20\n",
      "20/20 - 0s - loss: 0.2252 - accuracy: 0.9347 - val_loss: 0.1830 - val_accuracy: 0.9415\n",
      "Epoch 6/20\n",
      "20/20 - 0s - loss: 0.2043 - accuracy: 0.9372 - val_loss: 0.1654 - val_accuracy: 0.9474\n",
      "Epoch 7/20\n",
      "20/20 - 0s - loss: 0.1885 - accuracy: 0.9397 - val_loss: 0.1521 - val_accuracy: 0.9532\n",
      "Epoch 8/20\n",
      "20/20 - 0s - loss: 0.1761 - accuracy: 0.9422 - val_loss: 0.1413 - val_accuracy: 0.9532\n",
      "Epoch 9/20\n",
      "20/20 - 0s - loss: 0.1660 - accuracy: 0.9447 - val_loss: 0.1326 - val_accuracy: 0.9591\n",
      "Epoch 10/20\n",
      "20/20 - 0s - loss: 0.1576 - accuracy: 0.9472 - val_loss: 0.1251 - val_accuracy: 0.9649\n",
      "Epoch 11/20\n",
      "20/20 - 0s - loss: 0.1500 - accuracy: 0.9472 - val_loss: 0.1188 - val_accuracy: 0.9649\n",
      "Epoch 12/20\n",
      "20/20 - 0s - loss: 0.1436 - accuracy: 0.9523 - val_loss: 0.1133 - val_accuracy: 0.9649\n",
      "Epoch 13/20\n",
      "20/20 - 0s - loss: 0.1378 - accuracy: 0.9598 - val_loss: 0.1084 - val_accuracy: 0.9649\n",
      "Epoch 14/20\n",
      "20/20 - 0s - loss: 0.1327 - accuracy: 0.9598 - val_loss: 0.1043 - val_accuracy: 0.9649\n",
      "Epoch 15/20\n",
      "20/20 - 0s - loss: 0.1279 - accuracy: 0.9673 - val_loss: 0.1002 - val_accuracy: 0.9649\n",
      "Epoch 16/20\n",
      "20/20 - 0s - loss: 0.1236 - accuracy: 0.9673 - val_loss: 0.0967 - val_accuracy: 0.9649\n",
      "Epoch 17/20\n",
      "20/20 - 0s - loss: 0.1199 - accuracy: 0.9673 - val_loss: 0.0936 - val_accuracy: 0.9649\n",
      "Epoch 18/20\n",
      "20/20 - 0s - loss: 0.1161 - accuracy: 0.9673 - val_loss: 0.0909 - val_accuracy: 0.9649\n",
      "Epoch 19/20\n",
      "20/20 - 0s - loss: 0.1128 - accuracy: 0.9724 - val_loss: 0.0881 - val_accuracy: 0.9649\n",
      "Epoch 20/20\n",
      "20/20 - 0s - loss: 0.1097 - accuracy: 0.9724 - val_loss: 0.0858 - val_accuracy: 0.9649\n",
      "CPU times: user 942 ms, sys: 58.3 ms, total: 1 s\n",
      "Wall time: 916 ms\n"
     ]
    }
   ],
   "source": [
    "%%time\n",
    "#fit the model\n",
    "nnstory = nn.fit(X_train_scaled,\n",
    "          y_train,\n",
    "          epochs=20,\n",
    "          batch_size=20,\n",
    "          validation_data=(X_test_scaled, y_test),\n",
    "          verbose=2)\n"
   ]
  },
  {
   "cell_type": "code",
   "execution_count": 8,
   "metadata": {
    "executionInfo": {
     "elapsed": 193,
     "status": "ok",
     "timestamp": 1622664635762,
     "user": {
      "displayName": "Patricia Craja",
      "photoUrl": "",
      "userId": "02912126000997772383"
     },
     "user_tz": -120
    },
    "id": "AMOzagezETjU"
   },
   "outputs": [],
   "source": []
  },
  {
   "cell_type": "code",
   "execution_count": 95,
   "metadata": {
    "id": "-qBTMOIcFLGf"
   },
   "outputs": [
    {
     "name": "stdout",
     "output_type": "stream",
     "text": [
      "6/6 [==============================] - 0s 684us/step - loss: 0.0858 - accuracy: 0.9649\n"
     ]
    }
   ],
   "source": [
    "#evaluate the model and save it into the variable score\n",
    "score=nn.evaluate(X_test_scaled,y_test)\n"
   ]
  },
  {
   "cell_type": "markdown",
   "metadata": {
    "id": "y9aygjgtJUiv"
   },
   "source": [
    "The metrics that *evaluate()* gives us depend on the input argument *metrics* that we used when setting up our NN. Keras knows several other metrics (see [Keras doc. for details](https://keras.io/metrics/)) but not all known metrics are supported for training the NN. Between, you can also extend the set of metrics with customer metrics (see this [example](https://machinelearningmastery.com/custom-metrics-deep-learning-keras-python/) if interested.).\n",
    "\n",
    "We also have access to model performance results via the result of *model.fit()*, that is our variable *story*."
   ]
  },
  {
   "cell_type": "code",
   "execution_count": null,
   "metadata": {
    "id": "wzrrd6XLWvXg"
   },
   "outputs": [],
   "source": [
    "# Now install the tensorflow addons and define the following metrics. You have AUC,Precision and Recall in Keras Metrics but F1 you will need to get it from tensorflow addons\n"
   ]
  },
  {
   "cell_type": "code",
   "execution_count": 96,
   "metadata": {
    "colab": {
     "base_uri": "https://localhost:8080/",
     "height": 140
    },
    "executionInfo": {
     "elapsed": 205,
     "status": "error",
     "timestamp": 1622664756061,
     "user": {
      "displayName": "Patricia Craja",
      "photoUrl": "",
      "userId": "02912126000997772383"
     },
     "user_tz": -120
    },
    "id": "kPRMM0usWor3",
    "outputId": "b3472f95-e96b-4210-ab2e-64ea24af7b6c"
   },
   "outputs": [
    {
     "name": "stdout",
     "output_type": "stream",
     "text": [
      "Collecting tensorflow-addons\n",
      "  Downloading tensorflow_addons-0.13.0-cp38-cp38-manylinux2010_x86_64.whl (679 kB)\n",
      "\u001b[K     |████████████████████████████████| 679 kB 3.8 MB/s eta 0:00:01     |███▉                            | 81 kB 3.5 MB/s eta 0:00:01\n",
      "\u001b[?25hCollecting typeguard>=2.7\n",
      "  Downloading typeguard-2.12.0-py3-none-any.whl (16 kB)\n",
      "Installing collected packages: typeguard, tensorflow-addons\n",
      "Successfully installed tensorflow-addons-0.13.0 typeguard-2.12.0\n",
      "\u001b[33mWARNING: You are using pip version 21.1.1; however, version 21.1.2 is available.\n",
      "You should consider upgrading via the '/home/A19893678/local/miniconda3/bin/python -m pip install --upgrade pip' command.\u001b[0m\n"
     ]
    }
   ],
   "source": [
    "!pip install tensorflow-addons\n",
    "\n"
   ]
  },
  {
   "cell_type": "code",
   "execution_count": 124,
   "metadata": {
    "id": "r4zWF58rWmcG"
   },
   "outputs": [],
   "source": [
    "import keras\n",
    "import tensorflow as tf \n",
    "import tensorflow_addons as tfa\n",
    "\n",
    "\n",
    "metrics = [\n",
    "    keras.metrics.Precision(),\n",
    "    keras.metrics.Recall(),\n",
    "    keras.metrics.AUC(),\n",
    "    keras.metrics.BinaryAccuracy(),\n",
    "    keras.metrics.CategoricalAccuracy(),\n",
    "    tfa.metrics.F1Score(\n",
    "        name=\"f1_micro\",\n",
    "        average=\"micro\",\n",
    "        num_classes=2,\n",
    "        threshold=0.5,\n",
    "    ),\n",
    "    tfa.metrics.F1Score(\n",
    "        name=\"f1_weighted\",\n",
    "        average=\"weighted\",\n",
    "        num_classes=2,\n",
    "        threshold=0.5,\n",
    "    ),\n",
    "]"
   ]
  },
  {
   "cell_type": "code",
   "execution_count": 125,
   "metadata": {
    "id": "xeYiEkLjW2hE"
   },
   "outputs": [
    {
     "name": "stdout",
     "output_type": "stream",
     "text": [
      "CPU times: user 2.33 s, sys: 79.1 ms, total: 2.41 s\n",
      "Wall time: 2.27 s\n"
     ]
    }
   ],
   "source": [
    "%%time\n",
    "# rerun the mmodel with the above defined metrics in your complie call\n",
    "nn.compile(loss='categorical_crossentropy',\n",
    "                  optimizer=opt,\n",
    "                  metrics=metrics)\n",
    "\n",
    "nn2story = nn.fit(X_train_scaled,\n",
    "          y_train,\n",
    "          epochs=40,\n",
    "          batch_size=20,\n",
    "          validation_data=(X_test_scaled, y_test),\n",
    "          verbose=0)"
   ]
  },
  {
   "cell_type": "code",
   "execution_count": 126,
   "metadata": {
    "colab": {
     "base_uri": "https://localhost:8080/",
     "height": 580
    },
    "executionInfo": {
     "elapsed": 1063,
     "status": "ok",
     "timestamp": 1622662278117,
     "user": {
      "displayName": "Patricia Craja",
      "photoUrl": "",
      "userId": "02912126000997772383"
     },
     "user_tz": -120
    },
    "id": "p_DLHy3BFemk",
    "outputId": "aea15f9a-8dd1-4ee9-b797-c943c01ae1ec"
   },
   "outputs": [
    {
     "name": "stdout",
     "output_type": "stream",
     "text": [
      "Test loss: 0.08576633781194687,Test accuracy: 0.9649122953414917\n"
     ]
    }
   ],
   "source": [
    "# print Test Loss and Accuracy and plot the history\n",
    "print(f\"Test loss: {nnstory.history['val_loss'][-1]},Test accuracy: {nnstory.history['val_accuracy'][-1]}\")\n",
    "#nnstory.history.keys()"
   ]
  },
  {
   "cell_type": "code",
   "execution_count": 127,
   "metadata": {},
   "outputs": [
    {
     "name": "stdout",
     "output_type": "stream",
     "text": [
      "loss :  0.014184086583554745\n",
      "precision_4 :  0.9974874258041382\n",
      "recall_4 :  0.9974874258041382\n",
      "auc_4 :  0.9999936819076538\n",
      "binary_accuracy :  0.9974874258041382\n",
      "categorical_accuracy :  0.9974874258041382\n",
      "f1_micro :  0.9974874258041382\n",
      "f1_weighted :  0.9974856376647949\n",
      "val_loss :  0.057807426899671555\n",
      "val_precision_4 :  0.9824561476707458\n",
      "val_recall_4 :  0.9824561476707458\n",
      "val_auc_4 :  0.997366726398468\n",
      "val_binary_accuracy :  0.9824561476707458\n",
      "val_categorical_accuracy :  0.9824561476707458\n",
      "val_f1_micro :  0.9824561476707458\n",
      "val_f1_weighted :  0.9824262857437134\n"
     ]
    }
   ],
   "source": [
    "for k,v in nn2story.history.items():\n",
    "    #if  'loss' in k:\n",
    "    print(k,': ',v[-1])\n",
    "    "
   ]
  },
  {
   "cell_type": "code",
   "execution_count": 129,
   "metadata": {
    "id": "jQ4AwjONFbRV"
   },
   "outputs": [
    {
     "data": {
      "image/png": "[encoded data removed]",
      "text/plain": [
       "<Figure size 1332x756 with 2 Axes>"
      ]
     },
     "metadata": {},
     "output_type": "display_data"
    }
   ],
   "source": [
    "def show_history(story):\n",
    "    fig, (ax1, ax2) = plt.subplots(1, 2)\n",
    "    fig.set_size_inches(18.5, 10.5)\n",
    "    ax1.plot(story.history['binary_accuracy'])\n",
    "    ax1.plot(story.history['val_binary_accuracy'])\n",
    "    ax1.set(xlabel='epoch', ylabel='accuracy')\n",
    "    ax1.legend(['train_accuracy', 'test_accuracy'], loc='best')\n",
    "    ax1.set_title('Accuracy evolution during NN training')\n",
    "    #ax1.set_ylim(0.9,1)\n",
    "    \n",
    "    ax2.plot(story.history['loss'])\n",
    "    ax2.plot(story.history['val_loss'])\n",
    "    ax2.set(xlabel='epoch', ylabel='loss')\n",
    "    ax2.legend(['train_loss', 'test_loss'], loc='best')\n",
    "    ax2.set_title('Loss evolution during NN training')\n",
    "    ax2.set_ylim(0,0.1)\n",
    "\n",
    "    plt.show()\n",
    "\n",
    "show_history(nn2story)"
   ]
  },
  {
   "cell_type": "markdown",
   "metadata": {
    "id": "IUH7mdynJKVF"
   },
   "source": [
    "If validation loss >> training loss you can call it overfitting.\n",
    "\n",
    "If validation loss  > training loss you can call it some overfitting.\n",
    "\n",
    "If validation loss  < training loss you can call it some underfitting.\n",
    "\n",
    "If validation loss << training loss you can call it underfitting.\n",
    "\n",
    "Just right if training loss ~ validation loss\n",
    "\n",
    "[Check out this link](https://towardsdatascience.com/dont-overfit-how-to-prevent-overfitting-in-your-deep-learning-models-63274e552323)\n",
    "\n",
    "```\n",
    "# This is formatted as code\n",
    "```\n",
    "\n",
    "\n",
    "\n",
    "Typically validation loss should be similar to but slightly higher than training loss. \n",
    "As long as validation loss is lower than or even equal to training loss one should keep doing more training.\n",
    "If training loss is reducing without increase in validation loss then again keep doing more training\n",
    "If validation loss starts increasing then it is time to stop\n",
    "Some over-fitting is nearly always a good thing. All that matters in the end is: is the validation loss as low as you can get it! \n",
    "\n",
    "If overall accuracy still not acceptable then review mistakes model is making and think of what can one change:\n",
    "More data? More / different data augmentations? Different architecture?"
   ]
  },
  {
   "cell_type": "code",
   "execution_count": 138,
   "metadata": {
    "colab": {
     "base_uri": "https://localhost:8080/"
    },
    "executionInfo": {
     "elapsed": 202,
     "status": "ok",
     "timestamp": 1622662286975,
     "user": {
      "displayName": "Patricia Craja",
      "photoUrl": "",
      "userId": "02912126000997772383"
     },
     "user_tz": -120
    },
    "id": "JXFMSTVhJh02",
    "outputId": "472fccf8-f39f-4c4c-aae4-8de123eab08b"
   },
   "outputs": [
    {
     "data": {
      "text/plain": [
       "array([0.02256733, 0.9774327 ], dtype=float32)"
      ]
     },
     "execution_count": 138,
     "metadata": {},
     "output_type": "execute_result"
    }
   ],
   "source": [
    "# Compute predictions of X_test\n",
    "yhat = nn.predict(X_test_scaled)\n",
    "yhat[0]"
   ]
  },
  {
   "cell_type": "markdown",
   "metadata": {
    "id": "32rVq2dmK76Q"
   },
   "source": []
  },
  {
   "cell_type": "code",
   "execution_count": 143,
   "metadata": {
    "id": "9YLpHjipKbZM"
   },
   "outputs": [
    {
     "data": {
      "text/plain": [
       "array([[0., 1.],\n",
       "       [1., 0.],\n",
       "       [1., 0.],\n",
       "       [0., 1.],\n",
       "       [0., 1.],\n",
       "       [1., 0.],\n",
       "       [1., 0.],\n",
       "       [1., 0.],\n",
       "       [0., 1.],\n",
       "       [0., 1.]], dtype=float32)"
      ]
     },
     "execution_count": 143,
     "metadata": {},
     "output_type": "execute_result"
    }
   ],
   "source": [
    "# Finding the most probable class\n",
    "yhat_c=np.rint(yhat)\n",
    "yhat_c[:10]"
   ]
  },
  {
   "cell_type": "code",
   "execution_count": 150,
   "metadata": {},
   "outputs": [
    {
     "data": {
      "text/plain": [
       "(array([0, 1], dtype=uint8), array([171, 171]))"
      ]
     },
     "execution_count": 150,
     "metadata": {},
     "output_type": "execute_result"
    }
   ],
   "source": [
    "yhat_c = np.argmax(yhat, axis=1)\n",
    "#print(yhat_c.shape)\n"
   ]
  },
  {
   "cell_type": "code",
   "execution_count": 152,
   "metadata": {
    "colab": {
     "base_uri": "https://localhost:8080/"
    },
    "executionInfo": {
     "elapsed": 295,
     "status": "ok",
     "timestamp": 1622662319196,
     "user": {
      "displayName": "Patricia Craja",
      "photoUrl": "",
      "userId": "02912126000997772383"
     },
     "user_tz": -120
    },
    "id": "Ttv8CTL9J2u9",
    "outputId": "3e9fee63-50d0-4cad-a687-6754e2fd9154"
   },
   "outputs": [
    {
     "data": {
      "text/plain": [
       "array([[ 61,   2],\n",
       "       [  1, 107]])"
      ]
     },
     "execution_count": 152,
     "metadata": {},
     "output_type": "execute_result"
    }
   ],
   "source": [
    "# print the confusion matrix\n",
    "from sklearn.metrics import confusion_matrix\n",
    "confusion_matrix(y_test[:,1],yhat_c)"
   ]
  },
  {
   "cell_type": "code",
   "execution_count": 155,
   "metadata": {
    "colab": {
     "base_uri": "https://localhost:8080/"
    },
    "executionInfo": {
     "elapsed": 827,
     "status": "ok",
     "timestamp": 1622662379738,
     "user": {
      "displayName": "Patricia Craja",
      "photoUrl": "",
      "userId": "02912126000997772383"
     },
     "user_tz": -120
    },
    "id": "6y_9kW-HNogg",
    "outputId": "845e1272-99ef-4ab5-aa4b-527122cf20f4"
   },
   "outputs": [
    {
     "name": "stdout",
     "output_type": "stream",
     "text": [
      "              precision    recall  f1-score   support\n",
      "\n",
      "           0       0.98      0.97      0.98        63\n",
      "           1       0.98      0.99      0.99       108\n",
      "\n",
      "    accuracy                           0.98       171\n",
      "   macro avg       0.98      0.98      0.98       171\n",
      "weighted avg       0.98      0.98      0.98       171\n",
      "\n"
     ]
    }
   ],
   "source": [
    "#print calssification report\n",
    "from sklearn.metrics import classification_report\n",
    "\n",
    "print(classification_report(y_test[:,1], yhat_c))\n"
   ]
  },
  {
   "cell_type": "code",
   "execution_count": 157,
   "metadata": {
    "id": "B8dJ82XAAQ9f"
   },
   "outputs": [],
   "source": [
    "nn.save(\"team3.h5\")"
   ]
  },
  {
   "cell_type": "code",
   "execution_count": null,
   "metadata": {},
   "outputs": [],
   "source": []
  }
 ],
 "metadata": {
  "colab": {
   "name": "Copy of NN_Dojo_Solution.ipynb",
   "provenance": [
    {
     "file_id": "1e6eTT0yutdkhQ1WzVUUz64_5HlIgnqjs",
     "timestamp": 1622664022799
    },
    {
     "file_id": "1IaKAsvoMPBt2ozOUUgX-SzCgd7YcZC-e",
     "timestamp": 1622657974516
    },
    {
     "file_id": "1-C2LGWS21Di7_Xpku8OWNbCfx-m0SvDJ",
     "timestamp": 1620804072340
    },
    {
     "file_id": "1cLEZXk1PgbrA45X5x_Kyr8BGSQIweZCE",
     "timestamp": 1620707842451
    }
   ]
  },
  "kernelspec": {
   "display_name": "Python 3",
   "language": "python",
   "name": "python3"
  },
  "language_info": {
   "codemirror_mode": {
    "name": "ipython",
    "version": 3
   },
   "file_extension": ".py",
   "mimetype": "text/x-python",
   "name": "python",
   "nbconvert_exporter": "python",
   "pygments_lexer": "ipython3",
   "version": "3.8.5"
  }
 },
 "nbformat": 4,
 "nbformat_minor": 4
}
