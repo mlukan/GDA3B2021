{
 "cells": [
  {
   "cell_type": "markdown",
   "metadata": {
    "id": "DQPbhutEGd4F"
   },
   "source": [
    "## Preparation"
   ]
  },
  {
   "cell_type": "markdown",
   "metadata": {
    "id": "m7tA7ZIuGhsP"
   },
   "source": [
    "Loading the dataset about breast cancer:\n",
    "\n",
    "\n",
    "*   radius (mean of distances from center to points on the perimeter)\n",
    "*   texture (standard deviation of gray-scale values)\n",
    "\n",
    "* perimeter\n",
    "\n",
    "* area\n",
    "\n",
    "* smoothness (local variation in radius lengths)\n",
    "\n",
    "* compactness (perimeter^2 / area - 1.0)\n",
    "\n",
    "* concavity (severity of concave portions of the contour)\n",
    "\n",
    "* concave points (number of concave portions of the contour)\n",
    "\n",
    "* symmetry\n",
    "\n",
    "* fractal dimension (“coastline approximation” - 1)\n",
    "\n",
    "Features are computed from a digitized image of a fine needle aspirate (FNA) of a breast mass. They describe characteristics of the cell nuclei present in the image.\n",
    "\n"
   ]
  },
  {
   "cell_type": "code",
   "execution_count": 1,
   "metadata": {
    "id": "utxOpPt7Gj5t"
   },
   "outputs": [],
   "source": [
    "import numpy as np\n",
    "import pandas as pd\n",
    "import matplotlib.pyplot as plt\n",
    "import seaborn as sns\n",
    "sns.set_style(\"whitegrid\")\n",
    "import warnings\n",
    "warnings.simplefilter(action=\"ignore\")"
   ]
  },
  {
   "cell_type": "code",
   "execution_count": 2,
   "metadata": {
    "id": "ecnfoEAeGktv"
   },
   "outputs": [],
   "source": [
    "from sklearn.datasets import load_breast_cancer\n",
    "\n",
    "cancer = load_breast_cancer()\n",
    "\n",
    "df = pd.DataFrame(np.c_[cancer['data'], cancer['target']],\n",
    "                            columns=np.append(cancer['feature_names'], ['target']))"
   ]
  },
  {
   "cell_type": "code",
   "execution_count": 3,
   "metadata": {
    "colab": {
     "base_uri": "https://localhost:8080/",
     "height": 462
    },
    "executionInfo": {
     "elapsed": 263,
     "status": "ok",
     "timestamp": 1622658894755,
     "user": {
      "displayName": "Patricia Craja",
      "photoUrl": "",
      "userId": "02912126000997772383"
     },
     "user_tz": -120
    },
    "id": "q2ovzkD1HJvz",
    "outputId": "ffa65943-22eb-4d87-c40f-ced63b8e8804"
   },
   "outputs": [
    {
     "data": {
      "text/plain": [
       "array([0., 1.])"
      ]
     },
     "execution_count": 3,
     "metadata": {},
     "output_type": "execute_result"
    }
   ],
   "source": [
    "df['target'].unique()"
   ]
  },
  {
   "cell_type": "markdown",
   "metadata": {
    "id": "EvXIhc6jHroe"
   },
   "source": [
    "## Data Inspection/Exploration"
   ]
  },
  {
   "cell_type": "code",
   "execution_count": 4,
   "metadata": {
    "id": "TVL1Pa-5Ht5u"
   },
   "outputs": [],
   "source": [
    "df.replace({'target': 1}, \"malignant\", inplace=True)\n",
    "df.replace({'target': 0}, \"benign\", inplace=True)"
   ]
  },
  {
   "cell_type": "code",
   "execution_count": 5,
   "metadata": {
    "colab": {
     "base_uri": "https://localhost:8080/",
     "height": 295
    },
    "executionInfo": {
     "elapsed": 220,
     "status": "ok",
     "timestamp": 1622658903783,
     "user": {
      "displayName": "Patricia Craja",
      "photoUrl": "",
      "userId": "02912126000997772383"
     },
     "user_tz": -120
    },
    "id": "rfSfdKNCH-oN",
    "outputId": "76961bc1-50f9-48f4-9636-214e8f83f924"
   },
   "outputs": [
    {
     "data": {
      "image/png": "[encoded data removed]",
      "text/plain": [
       "<Figure size 432x288 with 1 Axes>"
      ]
     },
     "metadata": {},
     "output_type": "display_data"
    }
   ],
   "source": [
    "# inspect the distribution\n",
    "\n",
    "sns.countplot(data = df, x='target')\n",
    "plt.title('Diagnosis');"
   ]
  },
  {
   "cell_type": "code",
   "execution_count": 6,
   "metadata": {
    "id": "Rty_ZwMA9sqi"
   },
   "outputs": [
    {
     "data": {
      "text/html": [
       "<div>\n",
       "<style scoped>\n",
       "    .dataframe tbody tr th:only-of-type {\n",
       "        vertical-align: middle;\n",
       "    }\n",
       "\n",
       "    .dataframe tbody tr th {\n",
       "        vertical-align: top;\n",
       "    }\n",
       "\n",
       "    .dataframe thead th {\n",
       "        text-align: right;\n",
       "    }\n",
       "</style>\n",
       "<table border=\"1\" class=\"dataframe\">\n",
       "  <thead>\n",
       "    <tr style=\"text-align: right;\">\n",
       "      <th></th>\n",
       "      <th>mean radius</th>\n",
       "      <th>mean texture</th>\n",
       "      <th>mean perimeter</th>\n",
       "      <th>mean area</th>\n",
       "      <th>mean smoothness</th>\n",
       "      <th>mean compactness</th>\n",
       "      <th>mean concavity</th>\n",
       "      <th>mean concave points</th>\n",
       "      <th>mean symmetry</th>\n",
       "      <th>mean fractal dimension</th>\n",
       "      <th>...</th>\n",
       "      <th>worst radius</th>\n",
       "      <th>worst texture</th>\n",
       "      <th>worst perimeter</th>\n",
       "      <th>worst area</th>\n",
       "      <th>worst smoothness</th>\n",
       "      <th>worst compactness</th>\n",
       "      <th>worst concavity</th>\n",
       "      <th>worst concave points</th>\n",
       "      <th>worst symmetry</th>\n",
       "      <th>worst fractal dimension</th>\n",
       "    </tr>\n",
       "  </thead>\n",
       "  <tbody>\n",
       "    <tr>\n",
       "      <th>count</th>\n",
       "      <td>569.000000</td>\n",
       "      <td>569.000000</td>\n",
       "      <td>569.000000</td>\n",
       "      <td>569.000000</td>\n",
       "      <td>569.000000</td>\n",
       "      <td>569.000000</td>\n",
       "      <td>569.000000</td>\n",
       "      <td>569.000000</td>\n",
       "      <td>569.000000</td>\n",
       "      <td>569.000000</td>\n",
       "      <td>...</td>\n",
       "      <td>569.000000</td>\n",
       "      <td>569.000000</td>\n",
       "      <td>569.000000</td>\n",
       "      <td>569.000000</td>\n",
       "      <td>569.000000</td>\n",
       "      <td>569.000000</td>\n",
       "      <td>569.000000</td>\n",
       "      <td>569.000000</td>\n",
       "      <td>569.000000</td>\n",
       "      <td>569.000000</td>\n",
       "    </tr>\n",
       "    <tr>\n",
       "      <th>mean</th>\n",
       "      <td>14.127292</td>\n",
       "      <td>19.289649</td>\n",
       "      <td>91.969033</td>\n",
       "      <td>654.889104</td>\n",
       "      <td>0.096360</td>\n",
       "      <td>0.104341</td>\n",
       "      <td>0.088799</td>\n",
       "      <td>0.048919</td>\n",
       "      <td>0.181162</td>\n",
       "      <td>0.062798</td>\n",
       "      <td>...</td>\n",
       "      <td>16.269190</td>\n",
       "      <td>25.677223</td>\n",
       "      <td>107.261213</td>\n",
       "      <td>880.583128</td>\n",
       "      <td>0.132369</td>\n",
       "      <td>0.254265</td>\n",
       "      <td>0.272188</td>\n",
       "      <td>0.114606</td>\n",
       "      <td>0.290076</td>\n",
       "      <td>0.083946</td>\n",
       "    </tr>\n",
       "    <tr>\n",
       "      <th>std</th>\n",
       "      <td>3.524049</td>\n",
       "      <td>4.301036</td>\n",
       "      <td>24.298981</td>\n",
       "      <td>351.914129</td>\n",
       "      <td>0.014064</td>\n",
       "      <td>0.052813</td>\n",
       "      <td>0.079720</td>\n",
       "      <td>0.038803</td>\n",
       "      <td>0.027414</td>\n",
       "      <td>0.007060</td>\n",
       "      <td>...</td>\n",
       "      <td>4.833242</td>\n",
       "      <td>6.146258</td>\n",
       "      <td>33.602542</td>\n",
       "      <td>569.356993</td>\n",
       "      <td>0.022832</td>\n",
       "      <td>0.157336</td>\n",
       "      <td>0.208624</td>\n",
       "      <td>0.065732</td>\n",
       "      <td>0.061867</td>\n",
       "      <td>0.018061</td>\n",
       "    </tr>\n",
       "    <tr>\n",
       "      <th>min</th>\n",
       "      <td>6.981000</td>\n",
       "      <td>9.710000</td>\n",
       "      <td>43.790000</td>\n",
       "      <td>143.500000</td>\n",
       "      <td>0.052630</td>\n",
       "      <td>0.019380</td>\n",
       "      <td>0.000000</td>\n",
       "      <td>0.000000</td>\n",
       "      <td>0.106000</td>\n",
       "      <td>0.049960</td>\n",
       "      <td>...</td>\n",
       "      <td>7.930000</td>\n",
       "      <td>12.020000</td>\n",
       "      <td>50.410000</td>\n",
       "      <td>185.200000</td>\n",
       "      <td>0.071170</td>\n",
       "      <td>0.027290</td>\n",
       "      <td>0.000000</td>\n",
       "      <td>0.000000</td>\n",
       "      <td>0.156500</td>\n",
       "      <td>0.055040</td>\n",
       "    </tr>\n",
       "    <tr>\n",
       "      <th>25%</th>\n",
       "      <td>11.700000</td>\n",
       "      <td>16.170000</td>\n",
       "      <td>75.170000</td>\n",
       "      <td>420.300000</td>\n",
       "      <td>0.086370</td>\n",
       "      <td>0.064920</td>\n",
       "      <td>0.029560</td>\n",
       "      <td>0.020310</td>\n",
       "      <td>0.161900</td>\n",
       "      <td>0.057700</td>\n",
       "      <td>...</td>\n",
       "      <td>13.010000</td>\n",
       "      <td>21.080000</td>\n",
       "      <td>84.110000</td>\n",
       "      <td>515.300000</td>\n",
       "      <td>0.116600</td>\n",
       "      <td>0.147200</td>\n",
       "      <td>0.114500</td>\n",
       "      <td>0.064930</td>\n",
       "      <td>0.250400</td>\n",
       "      <td>0.071460</td>\n",
       "    </tr>\n",
       "    <tr>\n",
       "      <th>50%</th>\n",
       "      <td>13.370000</td>\n",
       "      <td>18.840000</td>\n",
       "      <td>86.240000</td>\n",
       "      <td>551.100000</td>\n",
       "      <td>0.095870</td>\n",
       "      <td>0.092630</td>\n",
       "      <td>0.061540</td>\n",
       "      <td>0.033500</td>\n",
       "      <td>0.179200</td>\n",
       "      <td>0.061540</td>\n",
       "      <td>...</td>\n",
       "      <td>14.970000</td>\n",
       "      <td>25.410000</td>\n",
       "      <td>97.660000</td>\n",
       "      <td>686.500000</td>\n",
       "      <td>0.131300</td>\n",
       "      <td>0.211900</td>\n",
       "      <td>0.226700</td>\n",
       "      <td>0.099930</td>\n",
       "      <td>0.282200</td>\n",
       "      <td>0.080040</td>\n",
       "    </tr>\n",
       "    <tr>\n",
       "      <th>75%</th>\n",
       "      <td>15.780000</td>\n",
       "      <td>21.800000</td>\n",
       "      <td>104.100000</td>\n",
       "      <td>782.700000</td>\n",
       "      <td>0.105300</td>\n",
       "      <td>0.130400</td>\n",
       "      <td>0.130700</td>\n",
       "      <td>0.074000</td>\n",
       "      <td>0.195700</td>\n",
       "      <td>0.066120</td>\n",
       "      <td>...</td>\n",
       "      <td>18.790000</td>\n",
       "      <td>29.720000</td>\n",
       "      <td>125.400000</td>\n",
       "      <td>1084.000000</td>\n",
       "      <td>0.146000</td>\n",
       "      <td>0.339100</td>\n",
       "      <td>0.382900</td>\n",
       "      <td>0.161400</td>\n",
       "      <td>0.317900</td>\n",
       "      <td>0.092080</td>\n",
       "    </tr>\n",
       "    <tr>\n",
       "      <th>max</th>\n",
       "      <td>28.110000</td>\n",
       "      <td>39.280000</td>\n",
       "      <td>188.500000</td>\n",
       "      <td>2501.000000</td>\n",
       "      <td>0.163400</td>\n",
       "      <td>0.345400</td>\n",
       "      <td>0.426800</td>\n",
       "      <td>0.201200</td>\n",
       "      <td>0.304000</td>\n",
       "      <td>0.097440</td>\n",
       "      <td>...</td>\n",
       "      <td>36.040000</td>\n",
       "      <td>49.540000</td>\n",
       "      <td>251.200000</td>\n",
       "      <td>4254.000000</td>\n",
       "      <td>0.222600</td>\n",
       "      <td>1.058000</td>\n",
       "      <td>1.252000</td>\n",
       "      <td>0.291000</td>\n",
       "      <td>0.663800</td>\n",
       "      <td>0.207500</td>\n",
       "    </tr>\n",
       "  </tbody>\n",
       "</table>\n",
       "<p>8 rows × 30 columns</p>\n",
       "</div>"
      ],
      "text/plain": [
       "       mean radius  mean texture  mean perimeter    mean area  \\\n",
       "count   569.000000    569.000000      569.000000   569.000000   \n",
       "mean     14.127292     19.289649       91.969033   654.889104   \n",
       "std       3.524049      4.301036       24.298981   351.914129   \n",
       "min       6.981000      9.710000       43.790000   143.500000   \n",
       "25%      11.700000     16.170000       75.170000   420.300000   \n",
       "50%      13.370000     18.840000       86.240000   551.100000   \n",
       "75%      15.780000     21.800000      104.100000   782.700000   \n",
       "max      28.110000     39.280000      188.500000  2501.000000   \n",
       "\n",
       "       mean smoothness  mean compactness  mean concavity  mean concave points  \\\n",
       "count       569.000000        569.000000      569.000000           569.000000   \n",
       "mean          0.096360          0.104341        0.088799             0.048919   \n",
       "std           0.014064          0.052813        0.079720             0.038803   \n",
       "min           0.052630          0.019380        0.000000             0.000000   \n",
       "25%           0.086370          0.064920        0.029560             0.020310   \n",
       "50%           0.095870          0.092630        0.061540             0.033500   \n",
       "75%           0.105300          0.130400        0.130700             0.074000   \n",
       "max           0.163400          0.345400        0.426800             0.201200   \n",
       "\n",
       "       mean symmetry  mean fractal dimension  ...  worst radius  \\\n",
       "count     569.000000              569.000000  ...    569.000000   \n",
       "mean        0.181162                0.062798  ...     16.269190   \n",
       "std         0.027414                0.007060  ...      4.833242   \n",
       "min         0.106000                0.049960  ...      7.930000   \n",
       "25%         0.161900                0.057700  ...     13.010000   \n",
       "50%         0.179200                0.061540  ...     14.970000   \n",
       "75%         0.195700                0.066120  ...     18.790000   \n",
       "max         0.304000                0.097440  ...     36.040000   \n",
       "\n",
       "       worst texture  worst perimeter   worst area  worst smoothness  \\\n",
       "count     569.000000       569.000000   569.000000        569.000000   \n",
       "mean       25.677223       107.261213   880.583128          0.132369   \n",
       "std         6.146258        33.602542   569.356993          0.022832   \n",
       "min        12.020000        50.410000   185.200000          0.071170   \n",
       "25%        21.080000        84.110000   515.300000          0.116600   \n",
       "50%        25.410000        97.660000   686.500000          0.131300   \n",
       "75%        29.720000       125.400000  1084.000000          0.146000   \n",
       "max        49.540000       251.200000  4254.000000          0.222600   \n",
       "\n",
       "       worst compactness  worst concavity  worst concave points  \\\n",
       "count         569.000000       569.000000            569.000000   \n",
       "mean            0.254265         0.272188              0.114606   \n",
       "std             0.157336         0.208624              0.065732   \n",
       "min             0.027290         0.000000              0.000000   \n",
       "25%             0.147200         0.114500              0.064930   \n",
       "50%             0.211900         0.226700              0.099930   \n",
       "75%             0.339100         0.382900              0.161400   \n",
       "max             1.058000         1.252000              0.291000   \n",
       "\n",
       "       worst symmetry  worst fractal dimension  \n",
       "count      569.000000               569.000000  \n",
       "mean         0.290076                 0.083946  \n",
       "std          0.061867                 0.018061  \n",
       "min          0.156500                 0.055040  \n",
       "25%          0.250400                 0.071460  \n",
       "50%          0.282200                 0.080040  \n",
       "75%          0.317900                 0.092080  \n",
       "max          0.663800                 0.207500  \n",
       "\n",
       "[8 rows x 30 columns]"
      ]
     },
     "execution_count": 6,
     "metadata": {},
     "output_type": "execute_result"
    }
   ],
   "source": [
    "#inspect the data and columns\n",
    "df.info\n",
    "df.describe()\n",
    "#df.dtypes"
   ]
  },
  {
   "cell_type": "code",
   "execution_count": 7,
   "metadata": {
    "id": "Egfds3xAULJF"
   },
   "outputs": [],
   "source": [
    "#define X and y\n",
    "X=df.drop(columns='target',axis=1)\n",
    "y=df['target']\n"
   ]
  },
  {
   "cell_type": "code",
   "execution_count": 8,
   "metadata": {
    "colab": {
     "base_uri": "https://localhost:8080/"
    },
    "executionInfo": {
     "elapsed": 6,
     "status": "ok",
     "timestamp": 1622662246152,
     "user": {
      "displayName": "Patricia Craja",
      "photoUrl": "",
      "userId": "02912126000997772383"
     },
     "user_tz": -120
    },
    "id": "GAKeHBzY-XDe",
    "outputId": "a2186e1d-2ebb-4b68-8b81-a58210318445"
   },
   "outputs": [
    {
     "data": {
      "text/plain": [
       "array([[1, 0],\n",
       "       [1, 0],\n",
       "       [1, 0],\n",
       "       ...,\n",
       "       [1, 0],\n",
       "       [1, 0],\n",
       "       [0, 1]], dtype=uint8)"
      ]
     },
     "execution_count": 8,
     "metadata": {},
     "output_type": "execute_result"
    }
   ],
   "source": [
    "y1=df[['target']]\n",
    "y1=pd.get_dummies(y1).to_numpy()\n",
    "y1\n"
   ]
  },
  {
   "cell_type": "code",
   "execution_count": null,
   "metadata": {
    "id": "nogeYRgB_tjc"
   },
   "outputs": [],
   "source": []
  },
  {
   "cell_type": "code",
   "execution_count": 9,
   "metadata": {
    "id": "gl3cWkS508oi"
   },
   "outputs": [],
   "source": [
    "# Prepare the target variable\n",
    "from sklearn.preprocessing import LabelEncoder\n",
    "encoder = LabelEncoder()\n",
    "encoder.fit(y)\n",
    "y = encoder.transform(y)\n"
   ]
  },
  {
   "cell_type": "markdown",
   "metadata": {
    "id": "dvNTnzqJCZcf"
   },
   "source": [
    "## 1) Split the Data into Train/Test"
   ]
  },
  {
   "cell_type": "code",
   "execution_count": 10,
   "metadata": {
    "colab": {
     "base_uri": "https://localhost:8080/"
    },
    "executionInfo": {
     "elapsed": 202,
     "status": "ok",
     "timestamp": 1622662251606,
     "user": {
      "displayName": "Patricia Craja",
      "photoUrl": "",
      "userId": "02912126000997772383"
     },
     "user_tz": -120
    },
    "id": "hq_mpO7LCF1j",
    "outputId": "8721940b-0945-40bd-8069-ba79bc79b0bf"
   },
   "outputs": [
    {
     "name": "stdout",
     "output_type": "stream",
     "text": [
      "(398, 30)\n",
      "(171, 30)\n"
     ]
    }
   ],
   "source": [
    "from sklearn.model_selection import train_test_split\n",
    "# use random state 42\n",
    "X_train,X_test,y_train,y_test=train_test_split(X,y1,test_size=0.3,random_state=42)\n",
    "print(X_train.shape)\n",
    "print(X_test.shape)"
   ]
  },
  {
   "cell_type": "code",
   "execution_count": 11,
   "metadata": {},
   "outputs": [
    {
     "data": {
      "text/plain": [
       "0.30052724077328646"
      ]
     },
     "execution_count": 11,
     "metadata": {},
     "output_type": "execute_result"
    }
   ],
   "source": [
    "171/(398+171)"
   ]
  },
  {
   "cell_type": "code",
   "execution_count": 12,
   "metadata": {
    "id": "LEu-XQIuLfE4"
   },
   "outputs": [],
   "source": [
    "# feature scaling - standardscaler\n",
    "from sklearn import preprocessing\n",
    "scaler=preprocessing.StandardScaler()\n",
    "scaler=scaler.fit(X_train)\n",
    "\n",
    "X_train_scaled=scaler.transform(X_train)\n",
    "X_test_scaled=scaler.transform(X_test)\n"
   ]
  },
  {
   "cell_type": "code",
   "execution_count": 13,
   "metadata": {},
   "outputs": [
    {
     "name": "stdout",
     "output_type": "stream",
     "text": [
      "(398, 30) (171, 30)\n"
     ]
    }
   ],
   "source": [
    "print(X_train_scaled.shape,X_test_scaled.shape)"
   ]
  },
  {
   "cell_type": "code",
   "execution_count": 14,
   "metadata": {},
   "outputs": [
    {
     "name": "stdout",
     "output_type": "stream",
     "text": [
      "(398, 2) (171, 2)\n"
     ]
    }
   ],
   "source": [
    "print(y_train.shape,y_test.shape)"
   ]
  },
  {
   "cell_type": "markdown",
   "metadata": {
    "id": "qnDZpY7dNGV4"
   },
   "source": [
    "## Create Classifier"
   ]
  },
  {
   "cell_type": "code",
   "execution_count": 15,
   "metadata": {
    "executionInfo": {
     "elapsed": 219,
     "status": "ok",
     "timestamp": 1622664419900,
     "user": {
      "displayName": "Patricia Craja",
      "photoUrl": "",
      "userId": "02912126000997772383"
     },
     "user_tz": -120
    },
    "id": "aKopWmrJCnK_"
   },
   "outputs": [
    {
     "data": {
      "text/plain": [
       "'create dummies from y using keras\\ndummy_y = np_utils.to_categorical(y)'"
      ]
     },
     "execution_count": 15,
     "metadata": {},
     "output_type": "execute_result"
    }
   ],
   "source": [
    "from tensorflow.keras.models import Sequential\n",
    "from tensorflow.keras.layers import Dense,Input,InputLayer\n",
    "from keras.utils import np_utils\n",
    "\n",
    "'''create dummies from y using keras\n",
    "dummy_y = np_utils.to_categorical(y)'''"
   ]
  },
  {
   "cell_type": "code",
   "execution_count": 16,
   "metadata": {
    "id": "RqhUBrRvCsS6"
   },
   "outputs": [],
   "source": [
    "nn=Sequential()\n",
    "#adding the input and first hidden layer\n",
    "nn.add(InputLayer(input_shape=(30,)))\n",
    "nn.add(Dense(128,activation='relu'))\n",
    "\n",
    "#adding second layer\n",
    "nn.add(Dense(128,activation='relu'))\n",
    "\n",
    "#adding the output layer\n",
    "nn.add(Dense(2,activation='softmax'))\n"
   ]
  },
  {
   "cell_type": "code",
   "execution_count": 17,
   "metadata": {
    "id": "Trg8k2LwCyva"
   },
   "outputs": [],
   "source": [
    "#compile the model\n",
    "from tensorflow import keras\n",
    "from keras import optimizers\n",
    "# define the optimizer\n",
    "# We use SGD as optimizer and cover more options later on, lets start with a learning rate of 0.01. There are many more parameters that we could be adding in the optimizer,\n",
    "# but for now let us only declare the lr \n",
    "opt=keras.optimizers.SGD(learning_rate=0.01) \n",
    "\n",
    "\n",
    "\n",
    "# Calling compile and specifying some mandatory arguments completes setting up the NN, ie. loss and metrics\n",
    "nn.compile(loss='categorical_crossentropy',\n",
    "                  optimizer=opt,\n",
    "                  metrics=['accuracy'])\n"
   ]
  },
  {
   "cell_type": "code",
   "execution_count": 18,
   "metadata": {
    "id": "iWfxIVPMDrvy"
   },
   "outputs": [
    {
     "name": "stdout",
     "output_type": "stream",
     "text": [
      "Model: \"sequential\"\n",
      "_________________________________________________________________\n",
      "Layer (type)                 Output Shape              Param #   \n",
      "=================================================================\n",
      "dense (Dense)                (None, 128)               3968      \n",
      "_________________________________________________________________\n",
      "dense_1 (Dense)              (None, 128)               16512     \n",
      "_________________________________________________________________\n",
      "dense_2 (Dense)              (None, 2)                 258       \n",
      "=================================================================\n",
      "Total params: 20,738\n",
      "Trainable params: 20,738\n",
      "Non-trainable params: 0\n",
      "_________________________________________________________________\n"
     ]
    }
   ],
   "source": [
    "#show model summary\n",
    "nn.summary()"
   ]
  },
  {
   "cell_type": "code",
   "execution_count": 19,
   "metadata": {
    "id": "B-kHOxG_ImdG"
   },
   "outputs": [
    {
     "name": "stdout",
     "output_type": "stream",
     "text": [
      "3968\n",
      "16512\n",
      "258\n"
     ]
    }
   ],
   "source": [
    "# see if you can reproduce the parameters from input to hidden layer:\n",
    "\n",
    "#(dimension of W_1)\n",
    "#W_1=(input_nodes*1hidden_layer_nodes+1hidden_layer_biases)\n",
    "W_1=(30*128+128)\n",
    "print(W_1)\n",
    "\n",
    "# first hidden to second hidden layer\n",
    "\n",
    "#(dimension of W_2))\n",
    "print(128*128+128)\n",
    "# second hidden to output layer\n",
    "#(dimension of W_3 )\n",
    "print(129*(2))"
   ]
  },
  {
   "cell_type": "code",
   "execution_count": 20,
   "metadata": {
    "id": "XRVmifMsC1lS"
   },
   "outputs": [
    {
     "name": "stdout",
     "output_type": "stream",
     "text": [
      "Epoch 1/20\n",
      "20/20 - 0s - loss: 0.5752 - accuracy: 0.7839 - val_loss: 0.4288 - val_accuracy: 0.9474\n",
      "Epoch 2/20\n",
      "20/20 - 0s - loss: 0.3696 - accuracy: 0.9372 - val_loss: 0.3016 - val_accuracy: 0.9591\n",
      "Epoch 3/20\n",
      "20/20 - 0s - loss: 0.2847 - accuracy: 0.9447 - val_loss: 0.2367 - val_accuracy: 0.9708\n",
      "Epoch 4/20\n",
      "20/20 - 0s - loss: 0.2373 - accuracy: 0.9548 - val_loss: 0.1980 - val_accuracy: 0.9708\n",
      "Epoch 5/20\n",
      "20/20 - 0s - loss: 0.2068 - accuracy: 0.9497 - val_loss: 0.1712 - val_accuracy: 0.9766\n",
      "Epoch 6/20\n",
      "20/20 - 0s - loss: 0.1853 - accuracy: 0.9548 - val_loss: 0.1519 - val_accuracy: 0.9766\n",
      "Epoch 7/20\n",
      "20/20 - 0s - loss: 0.1693 - accuracy: 0.9548 - val_loss: 0.1375 - val_accuracy: 0.9766\n",
      "Epoch 8/20\n",
      "20/20 - 0s - loss: 0.1566 - accuracy: 0.9548 - val_loss: 0.1261 - val_accuracy: 0.9766\n",
      "Epoch 9/20\n",
      "20/20 - 0s - loss: 0.1465 - accuracy: 0.9548 - val_loss: 0.1168 - val_accuracy: 0.9825\n",
      "Epoch 10/20\n",
      "20/20 - 0s - loss: 0.1379 - accuracy: 0.9573 - val_loss: 0.1093 - val_accuracy: 0.9825\n",
      "Epoch 11/20\n",
      "20/20 - 0s - loss: 0.1308 - accuracy: 0.9573 - val_loss: 0.1030 - val_accuracy: 0.9825\n",
      "Epoch 12/20\n",
      "20/20 - 0s - loss: 0.1248 - accuracy: 0.9573 - val_loss: 0.0976 - val_accuracy: 0.9825\n",
      "Epoch 13/20\n",
      "20/20 - 0s - loss: 0.1195 - accuracy: 0.9598 - val_loss: 0.0930 - val_accuracy: 0.9825\n",
      "Epoch 14/20\n",
      "20/20 - 0s - loss: 0.1149 - accuracy: 0.9598 - val_loss: 0.0891 - val_accuracy: 0.9825\n",
      "Epoch 15/20\n",
      "20/20 - 0s - loss: 0.1106 - accuracy: 0.9648 - val_loss: 0.0857 - val_accuracy: 0.9825\n",
      "Epoch 16/20\n",
      "20/20 - 0s - loss: 0.1071 - accuracy: 0.9648 - val_loss: 0.0827 - val_accuracy: 0.9825\n",
      "Epoch 17/20\n",
      "20/20 - 0s - loss: 0.1036 - accuracy: 0.9673 - val_loss: 0.0801 - val_accuracy: 0.9825\n",
      "Epoch 18/20\n",
      "20/20 - 0s - loss: 0.1004 - accuracy: 0.9673 - val_loss: 0.0776 - val_accuracy: 0.9883\n",
      "Epoch 19/20\n",
      "20/20 - 0s - loss: 0.0975 - accuracy: 0.9673 - val_loss: 0.0755 - val_accuracy: 0.9883\n",
      "Epoch 20/20\n",
      "20/20 - 0s - loss: 0.0951 - accuracy: 0.9673 - val_loss: 0.0738 - val_accuracy: 0.9883\n",
      "CPU times: user 1.05 s, sys: 19.4 ms, total: 1.06 s\n",
      "Wall time: 964 ms\n"
     ]
    }
   ],
   "source": [
    "%%time\n",
    "#fit the model\n",
    "nnstory = nn.fit(X_train_scaled,\n",
    "          y_train,\n",
    "          epochs=20,\n",
    "          batch_size=20,\n",
    "          validation_data=(X_test_scaled, y_test),\n",
    "          verbose=2)\n"
   ]
  },
  {
   "cell_type": "code",
   "execution_count": 8,
   "metadata": {
    "executionInfo": {
     "elapsed": 193,
     "status": "ok",
     "timestamp": 1622664635762,
     "user": {
      "displayName": "Patricia Craja",
      "photoUrl": "",
      "userId": "02912126000997772383"
     },
     "user_tz": -120
    },
    "id": "AMOzagezETjU"
   },
   "outputs": [],
   "source": []
  },
  {
   "cell_type": "code",
   "execution_count": 21,
   "metadata": {
    "id": "-qBTMOIcFLGf"
   },
   "outputs": [
    {
     "name": "stdout",
     "output_type": "stream",
     "text": [
      "6/6 [==============================] - 0s 739us/step - loss: 0.0738 - accuracy: 0.9883\n"
     ]
    }
   ],
   "source": [
    "#evaluate the model and save it into the variable score\n",
    "score=nn.evaluate(X_test_scaled,y_test)\n"
   ]
  },
  {
   "cell_type": "markdown",
   "metadata": {
    "id": "y9aygjgtJUiv"
   },
   "source": [
    "The metrics that *evaluate()* gives us depend on the input argument *metrics* that we used when setting up our NN. Keras knows several other metrics (see [Keras doc. for details](https://keras.io/metrics/)) but not all known metrics are supported for training the NN. Between, you can also extend the set of metrics with customer metrics (see this [example](https://machinelearningmastery.com/custom-metrics-deep-learning-keras-python/) if interested.).\n",
    "\n",
    "We also have access to model performance results via the result of *model.fit()*, that is our variable *story*."
   ]
  },
  {
   "cell_type": "code",
   "execution_count": null,
   "metadata": {
    "id": "wzrrd6XLWvXg"
   },
   "outputs": [],
   "source": [
    "# Now install the tensorflow addons and define the following metrics. You have AUC,Precision and Recall in Keras Metrics but F1 you will need to get it from tensorflow addons\n"
   ]
  },
  {
   "cell_type": "code",
   "execution_count": 96,
   "metadata": {
    "colab": {
     "base_uri": "https://localhost:8080/",
     "height": 140
    },
    "executionInfo": {
     "elapsed": 205,
     "status": "error",
     "timestamp": 1622664756061,
     "user": {
      "displayName": "Patricia Craja",
      "photoUrl": "",
      "userId": "02912126000997772383"
     },
     "user_tz": -120
    },
    "id": "kPRMM0usWor3",
    "outputId": "b3472f95-e96b-4210-ab2e-64ea24af7b6c"
   },
   "outputs": [
    {
     "name": "stdout",
     "output_type": "stream",
     "text": [
      "Collecting tensorflow-addons\n",
      "  Downloading tensorflow_addons-0.13.0-cp38-cp38-manylinux2010_x86_64.whl (679 kB)\n",
      "\u001b[K     |████████████████████████████████| 679 kB 3.8 MB/s eta 0:00:01     |███▉                            | 81 kB 3.5 MB/s eta 0:00:01\n",
      "\u001b[?25hCollecting typeguard>=2.7\n",
      "  Downloading typeguard-2.12.0-py3-none-any.whl (16 kB)\n",
      "Installing collected packages: typeguard, tensorflow-addons\n",
      "Successfully installed tensorflow-addons-0.13.0 typeguard-2.12.0\n",
      "\u001b[33mWARNING: You are using pip version 21.1.1; however, version 21.1.2 is available.\n",
      "You should consider upgrading via the '/home/A19893678/local/miniconda3/bin/python -m pip install --upgrade pip' command.\u001b[0m\n"
     ]
    }
   ],
   "source": [
    "!pip install tensorflow-addons\n",
    "\n"
   ]
  },
  {
   "cell_type": "code",
   "execution_count": 22,
   "metadata": {
    "id": "r4zWF58rWmcG"
   },
   "outputs": [],
   "source": [
    "import keras\n",
    "import tensorflow as tf \n",
    "import tensorflow_addons as tfa\n",
    "\n",
    "\n",
    "metrics = [\n",
    "    keras.metrics.Precision(),\n",
    "    keras.metrics.Recall(),\n",
    "    keras.metrics.AUC(),\n",
    "    keras.metrics.BinaryAccuracy(),\n",
    "    keras.metrics.CategoricalAccuracy(),\n",
    "    tfa.metrics.F1Score(\n",
    "        name=\"f1_micro\",\n",
    "        average=\"micro\",\n",
    "        num_classes=2,\n",
    "        threshold=0.5,\n",
    "    ),\n",
    "    tfa.metrics.F1Score(\n",
    "        name=\"f1_weighted\",\n",
    "        average=\"weighted\",\n",
    "        num_classes=2,\n",
    "        threshold=0.5,\n",
    "    ),\n",
    "]"
   ]
  },
  {
   "cell_type": "code",
   "execution_count": 23,
   "metadata": {
    "id": "xeYiEkLjW2hE"
   },
   "outputs": [
    {
     "name": "stdout",
     "output_type": "stream",
     "text": [
      "CPU times: user 2.89 s, sys: 135 ms, total: 3.02 s\n",
      "Wall time: 2.57 s\n"
     ]
    }
   ],
   "source": [
    "%%time\n",
    "# rerun the mmodel with the above defined metrics in your complie call\n",
    "nn.compile(loss='categorical_crossentropy',\n",
    "                  optimizer=opt,\n",
    "                  metrics=metrics)\n",
    "\n",
    "nn2story = nn.fit(X_train_scaled,\n",
    "          y_train,\n",
    "          epochs=40,\n",
    "          batch_size=20,\n",
    "          validation_data=(X_test_scaled, y_test),\n",
    "          verbose=0)"
   ]
  },
  {
   "cell_type": "code",
   "execution_count": 24,
   "metadata": {
    "colab": {
     "base_uri": "https://localhost:8080/",
     "height": 580
    },
    "executionInfo": {
     "elapsed": 1063,
     "status": "ok",
     "timestamp": 1622662278117,
     "user": {
      "displayName": "Patricia Craja",
      "photoUrl": "",
      "userId": "02912126000997772383"
     },
     "user_tz": -120
    },
    "id": "p_DLHy3BFemk",
    "outputId": "aea15f9a-8dd1-4ee9-b797-c943c01ae1ec"
   },
   "outputs": [
    {
     "name": "stdout",
     "output_type": "stream",
     "text": [
      "Test loss: 0.07378339022397995,Test accuracy: 0.988304078578949\n"
     ]
    }
   ],
   "source": [
    "# print Test Loss and Accuracy and plot the history\n",
    "print(f\"Test loss: {nnstory.history['val_loss'][-1]},Test accuracy: {nnstory.history['val_accuracy'][-1]}\")\n",
    "#nnstory.history.keys()"
   ]
  },
  {
   "cell_type": "code",
   "execution_count": 27,
   "metadata": {},
   "outputs": [
    {
     "name": "stdout",
     "output_type": "stream",
     "text": [
      "loss :  0.05212658643722534\n",
      "precision :  0.9849246144294739\n",
      "recall :  0.9849246144294739\n",
      "auc :  0.9985290765762329\n",
      "binary_accuracy :  0.9849246144294739\n",
      "categorical_accuracy :  0.9849246144294739\n",
      "f1_micro :  0.9849246144294739\n",
      "f1_weighted :  0.9849246144294739\n",
      "val_loss :  0.0534222349524498\n",
      "val_precision :  0.9824561476707458\n",
      "val_recall :  0.9824561476707458\n",
      "val_auc :  0.9987345933914185\n",
      "val_binary_accuracy :  0.9824561476707458\n",
      "val_categorical_accuracy :  0.9824561476707458\n",
      "val_f1_micro :  0.9824561476707458\n",
      "val_f1_weighted :  0.9824843406677246\n"
     ]
    },
    {
     "data": {
      "text/plain": [
       "dict_keys(['loss', 'precision', 'recall', 'auc', 'binary_accuracy', 'categorical_accuracy', 'f1_micro', 'f1_weighted', 'val_loss', 'val_precision', 'val_recall', 'val_auc', 'val_binary_accuracy', 'val_categorical_accuracy', 'val_f1_micro', 'val_f1_weighted'])"
      ]
     },
     "execution_count": 27,
     "metadata": {},
     "output_type": "execute_result"
    }
   ],
   "source": [
    "for k,v in nn2story.history.items():\n",
    "    #if  'loss' in k:\n",
    "    print(k,': ',v[-1])\n",
    "nn2story.history.keys()"
   ]
  },
  {
   "cell_type": "code",
   "execution_count": 28,
   "metadata": {
    "id": "jQ4AwjONFbRV"
   },
   "outputs": [
    {
     "data": {
      "image/png": "[encoded data removed]",
      "text/plain": [
       "<Figure size 1332x756 with 2 Axes>"
      ]
     },
     "metadata": {},
     "output_type": "display_data"
    }
   ],
   "source": [
    "def show_history(story):\n",
    "    fig, (ax1, ax2) = plt.subplots(1, 2)\n",
    "    fig.set_size_inches(18.5, 10.5)\n",
    "    ax1.plot(story.history['binary_accuracy'])\n",
    "    ax1.plot(story.history['val_binary_accuracy'])\n",
    "    ax1.set(xlabel='epoch', ylabel='accuracy')\n",
    "    ax1.legend(['train_accuracy', 'test_accuracy'], loc='best')\n",
    "    ax1.set_title('Accuracy evolution during NN training')\n",
    "    ax1.set_ylim(0.9,1)\n",
    "    \n",
    "    ax2.plot(story.history['loss'])\n",
    "    ax2.plot(story.history['val_loss'])\n",
    "    ax2.set(xlabel='epoch', ylabel='loss')\n",
    "    ax2.legend(['train_loss', 'test_loss'], loc='best')\n",
    "    ax2.set_title('Loss evolution during NN training')\n",
    "    ax2.set_ylim(0,0.1)\n",
    "\n",
    "    plt.show()\n",
    "\n",
    "show_history(nn2story)"
   ]
  },
  {
   "cell_type": "markdown",
   "metadata": {
    "id": "IUH7mdynJKVF"
   },
   "source": [
    "If validation loss >> training loss you can call it overfitting.\n",
    "\n",
    "If validation loss  > training loss you can call it some overfitting.\n",
    "\n",
    "If validation loss  < training loss you can call it some underfitting.\n",
    "\n",
    "If validation loss << training loss you can call it underfitting.\n",
    "\n",
    "Just right if training loss ~ validation loss\n",
    "\n",
    "[Check out this link](https://towardsdatascience.com/dont-overfit-how-to-prevent-overfitting-in-your-deep-learning-models-63274e552323)\n",
    "\n",
    "```\n",
    "# This is formatted as code\n",
    "```\n",
    "\n",
    "\n",
    "\n",
    "Typically validation loss should be similar to but slightly higher than training loss. \n",
    "As long as validation loss is lower than or even equal to training loss one should keep doing more training.\n",
    "If training loss is reducing without increase in validation loss then again keep doing more training\n",
    "If validation loss starts increasing then it is time to stop\n",
    "Some over-fitting is nearly always a good thing. All that matters in the end is: is the validation loss as low as you can get it! \n",
    "\n",
    "If overall accuracy still not acceptable then review mistakes model is making and think of what can one change:\n",
    "More data? More / different data augmentations? Different architecture?"
   ]
  },
  {
   "cell_type": "code",
   "execution_count": 29,
   "metadata": {
    "colab": {
     "base_uri": "https://localhost:8080/"
    },
    "executionInfo": {
     "elapsed": 202,
     "status": "ok",
     "timestamp": 1622662286975,
     "user": {
      "displayName": "Patricia Craja",
      "photoUrl": "",
      "userId": "02912126000997772383"
     },
     "user_tz": -120
    },
    "id": "JXFMSTVhJh02",
    "outputId": "472fccf8-f39f-4c4c-aae4-8de123eab08b"
   },
   "outputs": [
    {
     "data": {
      "text/plain": [
       "array([0.07937721, 0.92062277], dtype=float32)"
      ]
     },
     "execution_count": 29,
     "metadata": {},
     "output_type": "execute_result"
    }
   ],
   "source": [
    "# Compute predictions of X_test\n",
    "yhat = nn.predict(X_test_scaled)\n",
    "yhat[0]"
   ]
  },
  {
   "cell_type": "markdown",
   "metadata": {
    "id": "32rVq2dmK76Q"
   },
   "source": []
  },
  {
   "cell_type": "code",
   "execution_count": 143,
   "metadata": {
    "id": "9YLpHjipKbZM"
   },
   "outputs": [
    {
     "data": {
      "text/plain": [
       "array([[0., 1.],\n",
       "       [1., 0.],\n",
       "       [1., 0.],\n",
       "       [0., 1.],\n",
       "       [0., 1.],\n",
       "       [1., 0.],\n",
       "       [1., 0.],\n",
       "       [1., 0.],\n",
       "       [0., 1.],\n",
       "       [0., 1.]], dtype=float32)"
      ]
     },
     "execution_count": 143,
     "metadata": {},
     "output_type": "execute_result"
    }
   ],
   "source": [
    "# Finding the most probable class\n",
    "yhat_c=np.rint(yhat)\n",
    "#yhat_c[:10]"
   ]
  },
  {
   "cell_type": "code",
   "execution_count": 33,
   "metadata": {},
   "outputs": [
    {
     "name": "stdout",
     "output_type": "stream",
     "text": [
      "[1 0 0 1 1 0 0 0 0 1 1 0 1 0 1 0 1 1 1 0 1 1 0 1 1 1 1 1 1 0 1 1 1 1 1 1 0\n",
      " 1 0 1 1 0 1 1 1 1 1 1 1 1 0 0 1 1 1 1 1 0 0 1 1 0 0 1 1 1 0 0 1 1 0 0 1 0\n",
      " 1 1 1 0 1 1 0 1 0 0 0 0 0 0 1 1 1 0 1 1 1 1 0 0 1 0 0 1 0 0 1 1 1 0 1 1 0\n",
      " 1 1 0 1 0 1 1 1 0 1 1 1 0 1 0 0 1 1 0 0 0 1 1 1 0 1 1 1 0 1 0 1 1 0 1 0 0\n",
      " 0 1 0 1 1 1 1 0 0 1 1 1 1 1 1 1 0 1 1 1 1 0 1]\n"
     ]
    }
   ],
   "source": [
    "yhat_c = np.argmax(yhat, axis=1)\n",
    "print(yhat_c)\n"
   ]
  },
  {
   "cell_type": "code",
   "execution_count": 34,
   "metadata": {
    "colab": {
     "base_uri": "https://localhost:8080/"
    },
    "executionInfo": {
     "elapsed": 295,
     "status": "ok",
     "timestamp": 1622662319196,
     "user": {
      "displayName": "Patricia Craja",
      "photoUrl": "",
      "userId": "02912126000997772383"
     },
     "user_tz": -120
    },
    "id": "Ttv8CTL9J2u9",
    "outputId": "3e9fee63-50d0-4cad-a687-6754e2fd9154"
   },
   "outputs": [
    {
     "data": {
      "text/plain": [
       "array([[ 62,   1],\n",
       "       [  2, 106]])"
      ]
     },
     "execution_count": 34,
     "metadata": {},
     "output_type": "execute_result"
    }
   ],
   "source": [
    "# print the confusion matrix\n",
    "from sklearn.metrics import confusion_matrix\n",
    "confusion_matrix(y_test[:,1],yhat_c)"
   ]
  },
  {
   "cell_type": "code",
   "execution_count": 35,
   "metadata": {
    "colab": {
     "base_uri": "https://localhost:8080/"
    },
    "executionInfo": {
     "elapsed": 827,
     "status": "ok",
     "timestamp": 1622662379738,
     "user": {
      "displayName": "Patricia Craja",
      "photoUrl": "",
      "userId": "02912126000997772383"
     },
     "user_tz": -120
    },
    "id": "6y_9kW-HNogg",
    "outputId": "845e1272-99ef-4ab5-aa4b-527122cf20f4"
   },
   "outputs": [
    {
     "name": "stdout",
     "output_type": "stream",
     "text": [
      "              precision    recall  f1-score   support\n",
      "\n",
      "           0       0.97      0.98      0.98        63\n",
      "           1       0.99      0.98      0.99       108\n",
      "\n",
      "    accuracy                           0.98       171\n",
      "   macro avg       0.98      0.98      0.98       171\n",
      "weighted avg       0.98      0.98      0.98       171\n",
      "\n"
     ]
    }
   ],
   "source": [
    "#print calssification report\n",
    "from sklearn.metrics import classification_report\n",
    "\n",
    "print(classification_report(y_test[:,1], yhat_c))\n"
   ]
  },
  {
   "cell_type": "code",
   "execution_count": 157,
   "metadata": {
    "id": "B8dJ82XAAQ9f"
   },
   "outputs": [],
   "source": [
    "nn.save(\"team3.h5\")"
   ]
  },
  {
   "cell_type": "code",
   "execution_count": 126,
   "metadata": {},
   "outputs": [
    {
     "name": "stdout",
     "output_type": "stream",
     "text": [
      "CPU times: user 3.26 s, sys: 205 ms, total: 3.46 s\n",
      "Wall time: 2.78 s\n"
     ]
    }
   ],
   "source": [
    "%%time\n",
    "nn3=Sequential()\n",
    "#adding the input and first hidden layer\n",
    "nn3.add(InputLayer(input_shape=(30,)))\n",
    "nn3.add(Dense(32,activation='relu'))\n",
    "\n",
    "#adding second layer\n",
    "nn3.add(Dense(32,activation='relu'))\n",
    "\n",
    "#adding the output layer\n",
    "nn3.add(Dense(2,activation='softmax'))\n",
    "\n",
    "\n",
    "# rerun the mmodel with the above defined metrics in your complie call\n",
    "nn3.compile(loss='categorical_crossentropy',\n",
    "                  optimizer=opt,\n",
    "                  metrics=metrics)\n",
    "\n",
    "nn3story = nn3.fit(X_train_scaled,\n",
    "          y_train,\n",
    "          epochs=32,\n",
    "          batch_size=8,\n",
    "          validation_data=(X_test_scaled, y_test),\n",
    "          verbose=0)"
   ]
  },
  {
   "cell_type": "code",
   "execution_count": 127,
   "metadata": {},
   "outputs": [
    {
     "data": {
      "image/png": "[encoded data removed]",
      "text/plain": [
       "<Figure size 1332x756 with 2 Axes>"
      ]
     },
     "metadata": {},
     "output_type": "display_data"
    }
   ],
   "source": [
    "show_history(nn3story)"
   ]
  },
  {
   "cell_type": "code",
   "execution_count": 124,
   "metadata": {},
   "outputs": [
    {
     "name": "stdout",
     "output_type": "stream",
     "text": [
      "loss :  0.046365197747945786\n",
      "precision :  0.9899497628211975\n",
      "recall :  0.9899497628211975\n",
      "auc :  0.9985290169715881\n",
      "binary_accuracy :  0.9899497628211975\n",
      "categorical_accuracy :  0.9899497628211975\n",
      "f1_micro :  0.9899497628211975\n",
      "f1_weighted :  0.9899358749389648\n",
      "val_loss :  0.04629965126514435\n",
      "val_precision :  0.9824561476707458\n",
      "val_recall :  0.9824561476707458\n",
      "val_auc :  0.999008297920227\n",
      "val_binary_accuracy :  0.9824561476707458\n",
      "val_categorical_accuracy :  0.9824561476707458\n",
      "val_f1_micro :  0.9824561476707458\n",
      "val_f1_weighted :  0.9824262857437134\n"
     ]
    }
   ],
   "source": [
    "for k,v in nnpcastory.history.items():\n",
    "    #if  'loss' in k:\n",
    "    print(k,': ',v[-1])"
   ]
  },
  {
   "cell_type": "code",
   "execution_count": 125,
   "metadata": {},
   "outputs": [],
   "source": [
    "del nn3story"
   ]
  },
  {
   "cell_type": "code",
   "execution_count": null,
   "metadata": {},
   "outputs": [],
   "source": []
  }
 ],
 "metadata": {
  "colab": {
   "name": "Copy of NN_Dojo_Solution.ipynb",
   "provenance": [
    {
     "file_id": "1e6eTT0yutdkhQ1WzVUUz64_5HlIgnqjs",
     "timestamp": 1622664022799
    },
    {
     "file_id": "1IaKAsvoMPBt2ozOUUgX-SzCgd7YcZC-e",
     "timestamp": 1622657974516
    },
    {
     "file_id": "1-C2LGWS21Di7_Xpku8OWNbCfx-m0SvDJ",
     "timestamp": 1620804072340
    },
    {
     "file_id": "1cLEZXk1PgbrA45X5x_Kyr8BGSQIweZCE",
     "timestamp": 1620707842451
    }
   ]
  },
  "kernelspec": {
   "display_name": "Python 3",
   "language": "python",
   "name": "python3"
  },
  "language_info": {
   "codemirror_mode": {
    "name": "ipython",
    "version": 3
   },
   "file_extension": ".py",
   "mimetype": "text/x-python",
   "name": "python",
   "nbconvert_exporter": "python",
   "pygments_lexer": "ipython3",
   "version": "3.8.5"
  }
 },
 "nbformat": 4,
 "nbformat_minor": 4
}
