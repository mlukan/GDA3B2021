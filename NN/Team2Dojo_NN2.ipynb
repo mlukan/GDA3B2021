{
 "cells": [
  {
   "cell_type": "markdown",
   "metadata": {
    "id": "qW3t4bcVTDaB"
   },
   "source": [
    "In this Dojo we will work with the Titanic data set and predict the survivors\n",
    "."
   ]
  },
  {
   "cell_type": "code",
   "execution_count": 1,
   "metadata": {
    "executionInfo": {
     "elapsed": 246,
     "status": "ok",
     "timestamp": 1623269877704,
     "user": {
      "displayName": "Patricia Craja",
      "photoUrl": "",
      "userId": "02912126000997772383"
     },
     "user_tz": -120
    },
    "id": "1RcDBS2WS_vB"
   },
   "outputs": [],
   "source": [
    "import pandas as pd\n",
    "import numpy as np\n",
    "\n",
    "from sklearn.preprocessing import StandardScaler\n",
    "from sklearn.model_selection import train_test_split\n"
   ]
  },
  {
   "cell_type": "code",
   "execution_count": 2,
   "metadata": {
    "colab": {
     "base_uri": "https://localhost:8080/"
    },
    "executionInfo": {
     "elapsed": 28477,
     "status": "ok",
     "timestamp": 1623269108667,
     "user": {
      "displayName": "Patricia Craja",
      "photoUrl": "",
      "userId": "02912126000997772383"
     },
     "user_tz": -120
    },
    "id": "9wc8w_DkXykW",
    "outputId": "511139ce-2deb-49dc-f71f-c709f1118206"
   },
   "outputs": [],
   "source": [
    "#from google.colab import drive\n",
    "#drive.mount('/content/drive')\n",
    "import os\n",
    "#path=\"/content/drive/My Drive/Colab Notebooks/WCS/\"\n",
    "path=os.getcwd()\n",
    "\n"
   ]
  },
  {
   "cell_type": "code",
   "execution_count": 3,
   "metadata": {},
   "outputs": [
    {
     "data": {
      "text/plain": [
       "'/home/A19893678/GDA3B2021/GDRIVE/Week5 - NN Backpropagation, Tuning etc.'"
      ]
     },
     "execution_count": 3,
     "metadata": {},
     "output_type": "execute_result"
    }
   ],
   "source": [
    "path"
   ]
  },
  {
   "cell_type": "code",
   "execution_count": 4,
   "metadata": {
    "colab": {
     "base_uri": "https://localhost:8080/",
     "height": 580
    },
    "executionInfo": {
     "elapsed": 1118,
     "status": "ok",
     "timestamp": 1623269672230,
     "user": {
      "displayName": "Patricia Craja",
      "photoUrl": "",
      "userId": "02912126000997772383"
     },
     "user_tz": -120
    },
    "id": "8WFUScagXdjJ",
    "outputId": "445cae68-6526-4e84-ec55-c4a83f250925"
   },
   "outputs": [
    {
     "data": {
      "text/html": [
       "<div>\n",
       "<style scoped>\n",
       "    .dataframe tbody tr th:only-of-type {\n",
       "        vertical-align: middle;\n",
       "    }\n",
       "\n",
       "    .dataframe tbody tr th {\n",
       "        vertical-align: top;\n",
       "    }\n",
       "\n",
       "    .dataframe thead th {\n",
       "        text-align: right;\n",
       "    }\n",
       "</style>\n",
       "<table border=\"1\" class=\"dataframe\">\n",
       "  <thead>\n",
       "    <tr style=\"text-align: right;\">\n",
       "      <th></th>\n",
       "      <th>Age</th>\n",
       "      <th>Family_Size</th>\n",
       "      <th>Fare</th>\n",
       "      <th>Parch</th>\n",
       "      <th>PassengerId</th>\n",
       "      <th>Pclass</th>\n",
       "      <th>SibSp</th>\n",
       "      <th>Survived</th>\n",
       "    </tr>\n",
       "  </thead>\n",
       "  <tbody>\n",
       "    <tr>\n",
       "      <th>count</th>\n",
       "      <td>1309.000000</td>\n",
       "      <td>1309.000000</td>\n",
       "      <td>1309.000000</td>\n",
       "      <td>1309.000000</td>\n",
       "      <td>1309.000000</td>\n",
       "      <td>1309.000000</td>\n",
       "      <td>1309.000000</td>\n",
       "      <td>891.000000</td>\n",
       "    </tr>\n",
       "    <tr>\n",
       "      <th>mean</th>\n",
       "      <td>29.562391</td>\n",
       "      <td>0.883881</td>\n",
       "      <td>33.276193</td>\n",
       "      <td>0.385027</td>\n",
       "      <td>655.000000</td>\n",
       "      <td>2.294882</td>\n",
       "      <td>0.498854</td>\n",
       "      <td>0.383838</td>\n",
       "    </tr>\n",
       "    <tr>\n",
       "      <th>std</th>\n",
       "      <td>13.165360</td>\n",
       "      <td>1.583639</td>\n",
       "      <td>51.743584</td>\n",
       "      <td>0.865560</td>\n",
       "      <td>378.020061</td>\n",
       "      <td>0.837836</td>\n",
       "      <td>1.041658</td>\n",
       "      <td>0.486592</td>\n",
       "    </tr>\n",
       "    <tr>\n",
       "      <th>min</th>\n",
       "      <td>0.170000</td>\n",
       "      <td>0.000000</td>\n",
       "      <td>0.000000</td>\n",
       "      <td>0.000000</td>\n",
       "      <td>1.000000</td>\n",
       "      <td>1.000000</td>\n",
       "      <td>0.000000</td>\n",
       "      <td>0.000000</td>\n",
       "    </tr>\n",
       "    <tr>\n",
       "      <th>25%</th>\n",
       "      <td>22.000000</td>\n",
       "      <td>0.000000</td>\n",
       "      <td>7.895800</td>\n",
       "      <td>0.000000</td>\n",
       "      <td>328.000000</td>\n",
       "      <td>2.000000</td>\n",
       "      <td>0.000000</td>\n",
       "      <td>0.000000</td>\n",
       "    </tr>\n",
       "    <tr>\n",
       "      <th>50%</th>\n",
       "      <td>30.000000</td>\n",
       "      <td>0.000000</td>\n",
       "      <td>14.454200</td>\n",
       "      <td>0.000000</td>\n",
       "      <td>655.000000</td>\n",
       "      <td>3.000000</td>\n",
       "      <td>0.000000</td>\n",
       "      <td>0.000000</td>\n",
       "    </tr>\n",
       "    <tr>\n",
       "      <th>75%</th>\n",
       "      <td>35.500000</td>\n",
       "      <td>1.000000</td>\n",
       "      <td>31.275000</td>\n",
       "      <td>0.000000</td>\n",
       "      <td>982.000000</td>\n",
       "      <td>3.000000</td>\n",
       "      <td>1.000000</td>\n",
       "      <td>1.000000</td>\n",
       "    </tr>\n",
       "    <tr>\n",
       "      <th>max</th>\n",
       "      <td>80.000000</td>\n",
       "      <td>10.000000</td>\n",
       "      <td>512.329200</td>\n",
       "      <td>9.000000</td>\n",
       "      <td>1309.000000</td>\n",
       "      <td>3.000000</td>\n",
       "      <td>8.000000</td>\n",
       "      <td>1.000000</td>\n",
       "    </tr>\n",
       "  </tbody>\n",
       "</table>\n",
       "</div>"
      ],
      "text/plain": [
       "               Age  Family_Size         Fare        Parch  PassengerId  \\\n",
       "count  1309.000000  1309.000000  1309.000000  1309.000000  1309.000000   \n",
       "mean     29.562391     0.883881    33.276193     0.385027   655.000000   \n",
       "std      13.165360     1.583639    51.743584     0.865560   378.020061   \n",
       "min       0.170000     0.000000     0.000000     0.000000     1.000000   \n",
       "25%      22.000000     0.000000     7.895800     0.000000   328.000000   \n",
       "50%      30.000000     0.000000    14.454200     0.000000   655.000000   \n",
       "75%      35.500000     1.000000    31.275000     0.000000   982.000000   \n",
       "max      80.000000    10.000000   512.329200     9.000000  1309.000000   \n",
       "\n",
       "            Pclass        SibSp    Survived  \n",
       "count  1309.000000  1309.000000  891.000000  \n",
       "mean      2.294882     0.498854    0.383838  \n",
       "std       0.837836     1.041658    0.486592  \n",
       "min       1.000000     0.000000    0.000000  \n",
       "25%       2.000000     0.000000    0.000000  \n",
       "50%       3.000000     0.000000    0.000000  \n",
       "75%       3.000000     1.000000    1.000000  \n",
       "max       3.000000     8.000000    1.000000  "
      ]
     },
     "execution_count": 4,
     "metadata": {},
     "output_type": "execute_result"
    }
   ],
   "source": [
    "# Load data as Pandas dataframe\n",
    "train = pd.read_csv(path  + '/train_clean.csv', )\n",
    "test = pd.read_csv(path  + '/test_clean.csv')\n",
    "df = pd.concat([train, test], axis=0, sort=True)\n",
    "df.describe()"
   ]
  },
  {
   "cell_type": "code",
   "execution_count": 5,
   "metadata": {},
   "outputs": [
    {
     "name": "stdout",
     "output_type": "stream",
     "text": [
      "<class 'pandas.core.frame.DataFrame'>\n",
      "Int64Index: 1309 entries, 0 to 417\n",
      "Data columns (total 14 columns):\n",
      " #   Column       Non-Null Count  Dtype  \n",
      "---  ------       --------------  -----  \n",
      " 0   Age          1309 non-null   float64\n",
      " 1   Cabin        295 non-null    object \n",
      " 2   Embarked     1309 non-null   object \n",
      " 3   Family_Size  1309 non-null   int64  \n",
      " 4   Fare         1309 non-null   float64\n",
      " 5   Name         1309 non-null   object \n",
      " 6   Parch        1309 non-null   int64  \n",
      " 7   PassengerId  1309 non-null   int64  \n",
      " 8   Pclass       1309 non-null   int64  \n",
      " 9   Sex          1309 non-null   object \n",
      " 10  SibSp        1309 non-null   int64  \n",
      " 11  Survived     891 non-null    float64\n",
      " 12  Ticket       1309 non-null   object \n",
      " 13  Title        1309 non-null   object \n",
      "dtypes: float64(3), int64(5), object(6)\n",
      "memory usage: 153.4+ KB\n"
     ]
    }
   ],
   "source": [
    "df.info()"
   ]
  },
  {
   "cell_type": "markdown",
   "metadata": {
    "id": "9h60ncJXh106"
   },
   "source": [
    "Explore the data\n",
    "\n",
    "How many data points do we have here?\n",
    "- 1309 feature records,891 labels\n",
    "\n",
    "What is the format of the data points\n",
    "- Integers and objects\n",
    "\n",
    "How many labels do we have?\n",
    "- 2 labels (0,1)\n",
    "What is the format of the labels?\n",
    "- float\n",
    "What else would you like to know?\n",
    "missing values\n",
    "- fields Cabin and Survived have missing values"
   ]
  },
  {
   "cell_type": "markdown",
   "metadata": {
    "id": "UV9ilYYoZN9D"
   },
   "source": [
    "# Preprocessing \n",
    "\n"
   ]
  },
  {
   "cell_type": "code",
   "execution_count": 6,
   "metadata": {
    "colab": {
     "base_uri": "https://localhost:8080/",
     "height": 281
    },
    "executionInfo": {
     "elapsed": 311,
     "status": "ok",
     "timestamp": 1623269889727,
     "user": {
      "displayName": "Patricia Craja",
      "photoUrl": "",
      "userId": "02912126000997772383"
     },
     "user_tz": -120
    },
    "id": "b-BY_Sv2Y_V6",
    "outputId": "cfaad690-8164-42c0-a7a3-3e5bbc68c1d4"
   },
   "outputs": [
    {
     "data": {
      "image/png": "[encoded data removed]",
      "text/plain": [
       "<Figure size 432x288 with 1 Axes>"
      ]
     },
     "metadata": {
      "needs_background": "light"
     },
     "output_type": "display_data"
    }
   ],
   "source": [
    "import seaborn as sns\n",
    "import matplotlib.pyplot as plt\n",
    "sns.countplot(x='Pclass', data=df, palette='hls', hue='Survived')\n",
    "plt.xticks(rotation=45)\n",
    "plt.show()\n"
   ]
  },
  {
   "cell_type": "code",
   "execution_count": 7,
   "metadata": {
    "colab": {
     "base_uri": "https://localhost:8080/",
     "height": 301
    },
    "executionInfo": {
     "elapsed": 291,
     "status": "ok",
     "timestamp": 1623269904715,
     "user": {
      "displayName": "Patricia Craja",
      "photoUrl": "",
      "userId": "02912126000997772383"
     },
     "user_tz": -120
    },
    "id": "36cXzQRMbQQI",
    "outputId": "7b788997-3c2b-478d-eb2d-83fa0ea8db91"
   },
   "outputs": [
    {
     "data": {
      "image/png": "[encoded data removed]",
      "text/plain": [
       "<Figure size 432x288 with 1 Axes>"
      ]
     },
     "metadata": {
      "needs_background": "light"
     },
     "output_type": "display_data"
    }
   ],
   "source": [
    "sns.countplot(x='Sex', data=df, palette='hls', hue='Survived')\n",
    "plt.xticks(rotation=45)\n",
    "plt.show()"
   ]
  },
  {
   "cell_type": "code",
   "execution_count": 8,
   "metadata": {
    "colab": {
     "base_uri": "https://localhost:8080/",
     "height": 282
    },
    "executionInfo": {
     "elapsed": 290,
     "status": "ok",
     "timestamp": 1623269914529,
     "user": {
      "displayName": "Patricia Craja",
      "photoUrl": "",
      "userId": "02912126000997772383"
     },
     "user_tz": -120
    },
    "id": "mo7uvw5VbRsS",
    "outputId": "a5c7676f-c239-4c13-fc28-734361df092d"
   },
   "outputs": [
    {
     "data": {
      "image/png": "[encoded data removed]",
      "text/plain": [
       "<Figure size 432x288 with 1 Axes>"
      ]
     },
     "metadata": {
      "needs_background": "light"
     },
     "output_type": "display_data"
    }
   ],
   "source": [
    "sns.countplot(x='Embarked', data=df, palette='hls', hue='Survived')\n",
    "plt.xticks(rotation=45)\n",
    "plt.show()"
   ]
  },
  {
   "cell_type": "markdown",
   "metadata": {
    "id": "StmyE81-iKVU"
   },
   "source": [
    "Encode Categorical Variables\n",
    "We need to convert all categorical variables into numeric format. The categorical variables we will be keeping are Embarked, Sex and Title.\n"
   ]
  },
  {
   "cell_type": "code",
   "execution_count": 9,
   "metadata": {
    "id": "vQY3GS_SiLXB"
   },
   "outputs": [],
   "source": [
    "input=df.drop(columns=['Cabin','Name','Ticket','PassengerId'])"
   ]
  },
  {
   "cell_type": "markdown",
   "metadata": {
    "id": "mbYAHMreiOGq"
   },
   "source": [
    "drop the variables we won't be using 'Cabin', 'Name', 'Ticket', 'PassengerId'"
   ]
  },
  {
   "cell_type": "code",
   "execution_count": 10,
   "metadata": {
    "id": "FrXYnUTriLyS"
   },
   "outputs": [
    {
     "data": {
      "text/html": [
       "<div>\n",
       "<style scoped>\n",
       "    .dataframe tbody tr th:only-of-type {\n",
       "        vertical-align: middle;\n",
       "    }\n",
       "\n",
       "    .dataframe tbody tr th {\n",
       "        vertical-align: top;\n",
       "    }\n",
       "\n",
       "    .dataframe thead th {\n",
       "        text-align: right;\n",
       "    }\n",
       "</style>\n",
       "<table border=\"1\" class=\"dataframe\">\n",
       "  <thead>\n",
       "    <tr style=\"text-align: right;\">\n",
       "      <th></th>\n",
       "      <th>Age</th>\n",
       "      <th>Embarked</th>\n",
       "      <th>Family_Size</th>\n",
       "      <th>Fare</th>\n",
       "      <th>Parch</th>\n",
       "      <th>Pclass</th>\n",
       "      <th>Sex</th>\n",
       "      <th>SibSp</th>\n",
       "      <th>Survived</th>\n",
       "      <th>Title</th>\n",
       "    </tr>\n",
       "  </thead>\n",
       "  <tbody>\n",
       "    <tr>\n",
       "      <th>0</th>\n",
       "      <td>22.0</td>\n",
       "      <td>S</td>\n",
       "      <td>1</td>\n",
       "      <td>7.2500</td>\n",
       "      <td>0</td>\n",
       "      <td>3</td>\n",
       "      <td>male</td>\n",
       "      <td>1</td>\n",
       "      <td>0.0</td>\n",
       "      <td>Mr</td>\n",
       "    </tr>\n",
       "    <tr>\n",
       "      <th>1</th>\n",
       "      <td>38.0</td>\n",
       "      <td>C</td>\n",
       "      <td>1</td>\n",
       "      <td>71.2833</td>\n",
       "      <td>0</td>\n",
       "      <td>1</td>\n",
       "      <td>female</td>\n",
       "      <td>1</td>\n",
       "      <td>1.0</td>\n",
       "      <td>Mrs</td>\n",
       "    </tr>\n",
       "    <tr>\n",
       "      <th>2</th>\n",
       "      <td>26.0</td>\n",
       "      <td>S</td>\n",
       "      <td>0</td>\n",
       "      <td>7.9250</td>\n",
       "      <td>0</td>\n",
       "      <td>3</td>\n",
       "      <td>female</td>\n",
       "      <td>0</td>\n",
       "      <td>1.0</td>\n",
       "      <td>Miss</td>\n",
       "    </tr>\n",
       "    <tr>\n",
       "      <th>3</th>\n",
       "      <td>35.0</td>\n",
       "      <td>S</td>\n",
       "      <td>1</td>\n",
       "      <td>53.1000</td>\n",
       "      <td>0</td>\n",
       "      <td>1</td>\n",
       "      <td>female</td>\n",
       "      <td>1</td>\n",
       "      <td>1.0</td>\n",
       "      <td>Mrs</td>\n",
       "    </tr>\n",
       "    <tr>\n",
       "      <th>4</th>\n",
       "      <td>35.0</td>\n",
       "      <td>S</td>\n",
       "      <td>0</td>\n",
       "      <td>8.0500</td>\n",
       "      <td>0</td>\n",
       "      <td>3</td>\n",
       "      <td>male</td>\n",
       "      <td>0</td>\n",
       "      <td>0.0</td>\n",
       "      <td>Mr</td>\n",
       "    </tr>\n",
       "  </tbody>\n",
       "</table>\n",
       "</div>"
      ],
      "text/plain": [
       "    Age Embarked  Family_Size     Fare  Parch  Pclass     Sex  SibSp  \\\n",
       "0  22.0        S            1   7.2500      0       3    male      1   \n",
       "1  38.0        C            1  71.2833      0       1  female      1   \n",
       "2  26.0        S            0   7.9250      0       3  female      0   \n",
       "3  35.0        S            1  53.1000      0       1  female      1   \n",
       "4  35.0        S            0   8.0500      0       3    male      0   \n",
       "\n",
       "   Survived Title  \n",
       "0       0.0    Mr  \n",
       "1       1.0   Mrs  \n",
       "2       1.0  Miss  \n",
       "3       1.0   Mrs  \n",
       "4       0.0    Mr  "
      ]
     },
     "execution_count": 10,
     "metadata": {},
     "output_type": "execute_result"
    }
   ],
   "source": [
    "input.head()"
   ]
  },
  {
   "cell_type": "code",
   "execution_count": 11,
   "metadata": {},
   "outputs": [],
   "source": [
    "#input['Embarked'].get_dummies()\n",
    "#input['Embarked'].factorize()[0]\n",
    "#input['Sex']=input['Sex'].factorize()[0]\n",
    "#input['Title']=input['Title'].factorize()[0]\n",
    "input=pd.get_dummies(input, columns=[\"Sex\",\"Embarked\",\"Title\"],drop_first=True)"
   ]
  },
  {
   "cell_type": "code",
   "execution_count": 12,
   "metadata": {},
   "outputs": [],
   "source": [
    "#from sklearn.preprocessing import OneHotEncoder\n",
    "#input1hot=OneHotEncoder().fit_transform(input)\n"
   ]
  },
  {
   "cell_type": "markdown",
   "metadata": {
    "id": "E3W4FonRiR1i"
   },
   "source": [
    "Scale Continuous Variables\n",
    "The continuous variables need to be scaled. This is done using a standard scaler from SkLearn.\n"
   ]
  },
  {
   "cell_type": "code",
   "execution_count": 13,
   "metadata": {},
   "outputs": [],
   "source": [
    "X=input.drop(columns='Survived')\n",
    "y=pd.DataFrame(input['Survived'])\n"
   ]
  },
  {
   "cell_type": "code",
   "execution_count": 14,
   "metadata": {},
   "outputs": [],
   "source": [
    "X_train = input[pd.notnull(input['Survived'])]\n",
    "y_train = y[pd.notnull(y['Survived'])]['Survived']\n",
    "X_test = input[pd.isnull(input['Survived'])]"
   ]
  },
  {
   "cell_type": "code",
   "execution_count": 15,
   "metadata": {},
   "outputs": [],
   "source": [
    "#print(\"Xtrain\", X_train.shape, \"y_train: \", y_train.shape, \"X-test\", X_test.shape)\n",
    "XX_train,X_val,yy_train,y_val=train_test_split(X_train,y_train,test_size=.1,random_state=42)\n"
   ]
  },
  {
   "cell_type": "code",
   "execution_count": 16,
   "metadata": {},
   "outputs": [
    {
     "data": {
      "text/plain": [
       "((801, 15), (801,), (801,), (90,))"
      ]
     },
     "execution_count": 16,
     "metadata": {},
     "output_type": "execute_result"
    }
   ],
   "source": [
    "XX_train.shape,yy_train.shape,yy_train.shape,y_val.shape"
   ]
  },
  {
   "cell_type": "code",
   "execution_count": 17,
   "metadata": {},
   "outputs": [],
   "source": [
    "from sklearn.preprocessing import StandardScaler\n",
    "scaler=StandardScaler()\n",
    "#scaler.fit(XX_train[['Fare','Family_Size','Age','Pclass','Parch','SibSp']])\n",
    "#XX_train[['Fare','Family_Size','Age','Pclass','Parch','SibSp']]=XX_train[['Fare','Family_Size','Age','Pclass','Parch','SibSp']].apply(lambda x: scaler.fit_transform(x))\n",
    "#XX_train\n",
    "#data[['Age','Weight']] = data[['Age','Weight']].apply(lambda x: StandardScaler().fit_transform(x))\n",
    "#for col in ['Fare','Family_Size','Age','Pclass','Parch','SibSp']:\n",
    "#    XX_train[loc]=pd.Series(scaler.fit_transform(XX_train[col]))\n",
    "#XX_train\n",
    "scaler.fit(XX_train)\n",
    "XX_train=scaler.transform(XX_train)\n"
   ]
  },
  {
   "cell_type": "code",
   "execution_count": 18,
   "metadata": {},
   "outputs": [],
   "source": [
    "X_val=scaler.transform(X_val)\n"
   ]
  },
  {
   "cell_type": "code",
   "execution_count": 19,
   "metadata": {},
   "outputs": [],
   "source": [
    "X_test=scaler.transform(X_test)"
   ]
  },
  {
   "cell_type": "code",
   "execution_count": 130,
   "metadata": {},
   "outputs": [],
   "source": [
    "#pd.Series(XX_train[:,0])"
   ]
  },
  {
   "cell_type": "code",
   "execution_count": null,
   "metadata": {},
   "outputs": [],
   "source": []
  },
  {
   "cell_type": "markdown",
   "metadata": {
    "id": "lVcKIIAbUkGg"
   },
   "source": [
    "\n",
    "\n"
   ]
  },
  {
   "cell_type": "markdown",
   "metadata": {
    "id": "K9wSAfhhiYM9"
   },
   "source": [
    "# Neural Network¶\n",
    "Now, all that is left is to feed our data that has been cleaned, encoded and scaled to our neural network.\n",
    "\n",
    "But first, we need to separate data_df back into train and test sets."
   ]
  },
  {
   "cell_type": "code",
   "execution_count": 20,
   "metadata": {
    "colab": {
     "base_uri": "https://localhost:8080/"
    },
    "executionInfo": {
     "elapsed": 5511,
     "status": "ok",
     "timestamp": 1623272593270,
     "user": {
      "displayName": "Patricia Craja",
      "photoUrl": "",
      "userId": "02912126000997772383"
     },
     "user_tz": -120
    },
    "id": "wIgX7bETle5H",
    "outputId": "1e827373-90d5-43d6-d79a-0ae664cee035"
   },
   "outputs": [
    {
     "name": "stdout",
     "output_type": "stream",
     "text": [
      "Collecting keras-tuner\n",
      "\u001b[?25l  Downloading https://files.pythonhosted.org/packages/20/ec/1ef246787174b1e2bb591c95f29d3c1310070cad877824f907faba3dade9/keras-tuner-1.0.2.tar.gz (62kB)\n",
      "\u001b[K     |████████████████████████████████| 71kB 4.8MB/s eta 0:00:011\n",
      "\u001b[?25hRequirement already satisfied, skipping upgrade: packaging in /usr/local/lib/python3.7/dist-packages (from keras-tuner) (20.9)\n",
      "Requirement already satisfied, skipping upgrade: future in /usr/local/lib/python3.7/dist-packages (from keras-tuner) (0.16.0)\n",
      "Requirement already satisfied, skipping upgrade: numpy in /usr/local/lib/python3.7/dist-packages (from keras-tuner) (1.19.5)\n",
      "Requirement already satisfied, skipping upgrade: tabulate in /usr/local/lib/python3.7/dist-packages (from keras-tuner) (0.8.9)\n",
      "Collecting terminaltables\n",
      "  Downloading https://files.pythonhosted.org/packages/9b/c4/4a21174f32f8a7e1104798c445dacdc1d4df86f2f26722767034e4de4bff/terminaltables-3.1.0.tar.gz\n",
      "Collecting colorama\n",
      "  Downloading https://files.pythonhosted.org/packages/44/98/5b86278fbbf250d239ae0ecb724f8572af1c91f4a11edf4d36a206189440/colorama-0.4.4-py2.py3-none-any.whl\n",
      "Requirement already satisfied, skipping upgrade: tqdm in /usr/local/lib/python3.7/dist-packages (from keras-tuner) (4.41.1)\n",
      "Requirement already satisfied, skipping upgrade: requests in /usr/local/lib/python3.7/dist-packages (from keras-tuner) (2.23.0)\n",
      "Requirement already satisfied, skipping upgrade: scipy in /usr/local/lib/python3.7/dist-packages (from keras-tuner) (1.4.1)\n",
      "Requirement already satisfied, skipping upgrade: scikit-learn in /usr/local/lib/python3.7/dist-packages (from keras-tuner) (0.22.2.post1)\n",
      "Requirement already satisfied, skipping upgrade: pyparsing>=2.0.2 in /usr/local/lib/python3.7/dist-packages (from packaging->keras-tuner) (2.4.7)\n",
      "Requirement already satisfied, skipping upgrade: chardet<4,>=3.0.2 in /usr/local/lib/python3.7/dist-packages (from requests->keras-tuner) (3.0.4)\n",
      "Requirement already satisfied, skipping upgrade: idna<3,>=2.5 in /usr/local/lib/python3.7/dist-packages (from requests->keras-tuner) (2.10)\n",
      "Requirement already satisfied, skipping upgrade: certifi>=2017.4.17 in /usr/local/lib/python3.7/dist-packages (from requests->keras-tuner) (2020.12.5)\n",
      "Requirement already satisfied, skipping upgrade: urllib3!=1.25.0,!=1.25.1,<1.26,>=1.21.1 in /usr/local/lib/python3.7/dist-packages (from requests->keras-tuner) (1.24.3)\n",
      "Requirement already satisfied, skipping upgrade: joblib>=0.11 in /usr/local/lib/python3.7/dist-packages (from scikit-learn->keras-tuner) (1.0.1)\n",
      "Building wheels for collected packages: keras-tuner, terminaltables\n",
      "  Building wheel for keras-tuner (setup.py) ... \u001b[?25l\u001b[?25hdone\n",
      "  Created wheel for keras-tuner: filename=keras_tuner-1.0.2-cp37-none-any.whl size=78935 sha256=1d55b56a1d3e90402fa69ddf901a1694733e318aecf19634cad8aaa5d207f1f2\n",
      "  Stored in directory: /root/.cache/pip/wheels/bb/a1/8a/7c3de0efb3707a1701b36ebbfdbc4e67aedf6d4943a1f463d6\n",
      "  Building wheel for terminaltables (setup.py) ... \u001b[?25l\u001b[?25hdone\n",
      "  Created wheel for terminaltables: filename=terminaltables-3.1.0-cp37-none-any.whl size=15356 sha256=8c316c6d9b62f997907a670ebf63da17a9b58a6035b243564655a08ce5191b5e\n",
      "  Stored in directory: /root/.cache/pip/wheels/30/6b/50/6c75775b681fb36cdfac7f19799888ef9d8813aff9e379663e\n",
      "Successfully built keras-tuner terminaltables\n",
      "Installing collected packages: terminaltables, colorama, keras-tuner\n",
      "Successfully installed colorama-0.4.4 keras-tuner-1.0.2 terminaltables-3.1.0\n"
     ]
    }
   ],
   "source": []
  },
  {
   "cell_type": "code",
   "execution_count": 21,
   "metadata": {
    "executionInfo": {
     "elapsed": 243,
     "status": "ok",
     "timestamp": 1623272605334,
     "user": {
      "displayName": "Patricia Craja",
      "photoUrl": "",
      "userId": "02912126000997772383"
     },
     "user_tz": -120
    },
    "id": "eqENk3A7laTG"
   },
   "outputs": [],
   "source": [
    "from tensorflow import keras\n",
    "from tensorflow.keras import layers"
   ]
  },
  {
   "cell_type": "code",
   "execution_count": 25,
   "metadata": {
    "colab": {
     "base_uri": "https://localhost:8080/"
    },
    "executionInfo": {
     "elapsed": 238,
     "status": "ok",
     "timestamp": 1623271591277,
     "user": {
      "displayName": "Patricia Craja",
      "photoUrl": "",
      "userId": "02912126000997772383"
     },
     "user_tz": -120
    },
    "id": "aQ9_rI5GUo0r",
    "outputId": "0f5aa35d-efdd-48d2-d68b-b42b9b08d292"
   },
   "outputs": [
    {
     "name": "stdout",
     "output_type": "stream",
     "text": [
      "(801, 15)\n",
      "(90, 15)\n"
     ]
    }
   ],
   "source": [
    "print(XX_train.shape)\n",
    "print(X_val.shape)\n",
    "del hypermodel"
   ]
  },
  {
   "cell_type": "markdown",
   "metadata": {
    "id": "L7aRCsyZjHiZ"
   },
   "source": [
    "Define a function buil_model that builds the model and complies it and uses an Early Stopping Callback\n",
    "\n"
   ]
  },
  {
   "cell_type": "code",
   "execution_count": 26,
   "metadata": {
    "id": "O8zIIuds5oAp"
   },
   "outputs": [
    {
     "name": "stdout",
     "output_type": "stream",
     "text": [
      "INFO:tensorflow:Reloading Oracle from existing project ./untitled_project/oracle.json\n",
      "INFO:tensorflow:Reloading Tuner from ./untitled_project/tuner0.json\n",
      "INFO:tensorflow:Oracle triggered exit\n"
     ]
    }
   ],
   "source": [
    "from tensorflow import keras\n",
    "from tensorflow.keras import layers\n",
    "from keras.models import Sequential\n",
    "from keras.layers import Dense, Dropout\n",
    "from kerastuner import HyperModel\n",
    "from keras.optimizers import Adamax,SGD,Adam\n",
    "from kerastuner.tuners import RandomSearch\n",
    "\n",
    "class build_model(HyperModel):\n",
    "    def __init__(self, input_shape):\n",
    "        self.input_shape = input_shape\n",
    "    def build(self, hp):\n",
    "        model = Sequential()\n",
    "        model.add(\n",
    "            layers.Dense(\n",
    "                units=hp.Int('units', 64, 257, 32, default=128),\n",
    "                activation=hp.Choice(\n",
    "                    'dense_activation',\n",
    "                    values=['relu', 'tanh', 'sigmoid'],\n",
    "                    default='relu'),\n",
    "                input_shape=input_shape\n",
    "            )\n",
    "        )\n",
    "        \n",
    "        model.add(\n",
    "            layers.Dense(\n",
    "                units=hp.Int('units', 64, 257, 32, default=128),\n",
    "                activation=hp.Choice(\n",
    "                    'dense_activation',\n",
    "                    values=['relu', 'tanh', 'sigmoid'],\n",
    "                    default='relu')\n",
    "            )\n",
    "        )\n",
    "        \n",
    "        model.add(\n",
    "            layers.Dropout(\n",
    "                hp.Float(\n",
    "                    'dropout',\n",
    "                    min_value=0.1,\n",
    "                    max_value=0.5,\n",
    "                    default=0.005,\n",
    "                    step=0.05)\n",
    "            )\n",
    "        )\n",
    "        \n",
    "        model.add(layers.Dense(1, activation='sigmoid'))\n",
    "        \n",
    "        model.compile(\n",
    "            optimizer=Adam(),loss='binary_crossentropy',metrics=['accuracy']\n",
    "        )\n",
    "        \n",
    "        return model\n",
    "\n",
    "from keras.callbacks import EarlyStopping \n",
    "#allback = tf.keras.callbacks.EarlyStopping(monitor='loss', patience=3)\n",
    "# This callback will stop the training when there is no improvement in  \n",
    "# the loss for three consecutive epochs.  \n",
    "stop=EarlyStopping(monitor='loss', patience=3)\n",
    "'''\n",
    "history = model.fit(np.arange(100).reshape(5, 20), np.zeros(5),\n",
    "                    epochs=10, batch_size=1, callbacks=[callback],\n",
    "                    verbose=0)\n",
    "'''\n",
    "\n",
    "input_shape = (XX_train.shape[1],)\n",
    "hypermodel = build_model(input_shape)\n",
    "\n",
    "\n",
    "tuner_rs = RandomSearch(\n",
    "            hypermodel,\n",
    "            objective='val_accuracy',\n",
    "            seed=42,\n",
    "            max_trials=10,\n",
    "            executions_per_trial=2)\n",
    "#tuner_rs.search(X_train, y_train, epochs=10, validation_split=0.2, verbose=0)\n",
    "tuner_rs.search(XX_train,yy_train,epochs=5,validation_data=(X_val,y_val),callbacks=[stop])\n",
    "best_model = tuner_rs.get_best_models(num_models=1)[0]\n",
    "\n"
   ]
  },
  {
   "cell_type": "code",
   "execution_count": null,
   "metadata": {},
   "outputs": [],
   "source": []
  },
  {
   "cell_type": "markdown",
   "metadata": {
    "id": "AF3t1xa2jgPZ"
   },
   "source": [
    "Train model\n",
    "At this stage, we have our model. We have chosen a few hyperparameters such as the number of hidden layers, the number of neurons and the activation function.\n",
    "\n",
    "The next step is to train the model on our training set. This step also requires us to choose a few more hyperparameters such as the loss function, the optimization algorithm, the number of epochs and the batch size."
   ]
  },
  {
   "cell_type": "code",
   "execution_count": 27,
   "metadata": {
    "id": "9DkXv3jbjowU"
   },
   "outputs": [
    {
     "name": "stdout",
     "output_type": "stream",
     "text": [
      "3/3 [==============================] - 0s 717us/step - loss: 0.0683 - accuracy: 1.0000\n"
     ]
    }
   ],
   "source": [
    "loss, accuracy = best_model.evaluate(X_val, y_val)"
   ]
  },
  {
   "cell_type": "code",
   "execution_count": 28,
   "metadata": {},
   "outputs": [
    {
     "name": "stdout",
     "output_type": "stream",
     "text": [
      "Results summary\n",
      "Results in ./untitled_project\n",
      "Showing 10 best trials\n",
      "Objective(name='val_accuracy', direction='max')\n",
      "Trial summary\n",
      "Hyperparameters:\n",
      "units: 64\n",
      "dense_activation: relu\n",
      "dropout: 0.40000000000000013\n",
      "Score: 1.0\n",
      "Trial summary\n",
      "Hyperparameters:\n",
      "units: 256\n",
      "dense_activation: relu\n",
      "dropout: 0.5000000000000001\n",
      "Score: 1.0\n",
      "Trial summary\n",
      "Hyperparameters:\n",
      "units: 160\n",
      "dense_activation: relu\n",
      "dropout: 0.30000000000000004\n",
      "Score: 1.0\n",
      "Trial summary\n",
      "Hyperparameters:\n",
      "units: 96\n",
      "dense_activation: tanh\n",
      "dropout: 0.3500000000000001\n",
      "Score: 1.0\n",
      "Trial summary\n",
      "Hyperparameters:\n",
      "units: 128\n",
      "dense_activation: relu\n",
      "dropout: 0.25000000000000006\n",
      "Score: 1.0\n",
      "Trial summary\n",
      "Hyperparameters:\n",
      "units: 128\n",
      "dense_activation: tanh\n",
      "dropout: 0.45000000000000007\n",
      "Score: 1.0\n",
      "Trial summary\n",
      "Hyperparameters:\n",
      "units: 160\n",
      "dense_activation: tanh\n",
      "dropout: 0.25000000000000006\n",
      "Score: 1.0\n",
      "Trial summary\n",
      "Hyperparameters:\n",
      "units: 192\n",
      "dense_activation: relu\n",
      "dropout: 0.25000000000000006\n",
      "Score: 1.0\n",
      "Trial summary\n",
      "Hyperparameters:\n",
      "units: 64\n",
      "dense_activation: tanh\n",
      "dropout: 0.45000000000000007\n",
      "Score: 1.0\n",
      "Trial summary\n",
      "Hyperparameters:\n",
      "units: 64\n",
      "dense_activation: sigmoid\n",
      "dropout: 0.20000000000000004\n",
      "Score: 0.9333333075046539\n"
     ]
    }
   ],
   "source": [
    "tuner_rs.results_summary()\n"
   ]
  },
  {
   "cell_type": "code",
   "execution_count": 29,
   "metadata": {},
   "outputs": [
    {
     "name": "stdout",
     "output_type": "stream",
     "text": [
      "Results summary\n",
      "Results in ./untitled_project\n",
      "Showing 10 best trials\n",
      "Objective(name='val_accuracy', direction='max')\n",
      "Trial summary\n",
      "Hyperparameters:\n",
      "units: 64\n",
      "dense_activation: relu\n",
      "dropout: 0.40000000000000013\n",
      "Score: 1.0\n",
      "Trial summary\n",
      "Hyperparameters:\n",
      "units: 256\n",
      "dense_activation: relu\n",
      "dropout: 0.5000000000000001\n",
      "Score: 1.0\n",
      "Trial summary\n",
      "Hyperparameters:\n",
      "units: 160\n",
      "dense_activation: relu\n",
      "dropout: 0.30000000000000004\n",
      "Score: 1.0\n",
      "Trial summary\n",
      "Hyperparameters:\n",
      "units: 96\n",
      "dense_activation: tanh\n",
      "dropout: 0.3500000000000001\n",
      "Score: 1.0\n",
      "Trial summary\n",
      "Hyperparameters:\n",
      "units: 128\n",
      "dense_activation: relu\n",
      "dropout: 0.25000000000000006\n",
      "Score: 1.0\n",
      "Trial summary\n",
      "Hyperparameters:\n",
      "units: 128\n",
      "dense_activation: tanh\n",
      "dropout: 0.45000000000000007\n",
      "Score: 1.0\n",
      "Trial summary\n",
      "Hyperparameters:\n",
      "units: 160\n",
      "dense_activation: tanh\n",
      "dropout: 0.25000000000000006\n",
      "Score: 1.0\n",
      "Trial summary\n",
      "Hyperparameters:\n",
      "units: 192\n",
      "dense_activation: relu\n",
      "dropout: 0.25000000000000006\n",
      "Score: 1.0\n",
      "Trial summary\n",
      "Hyperparameters:\n",
      "units: 64\n",
      "dense_activation: tanh\n",
      "dropout: 0.45000000000000007\n",
      "Score: 1.0\n",
      "Trial summary\n",
      "Hyperparameters:\n",
      "units: 64\n",
      "dense_activation: sigmoid\n",
      "dropout: 0.20000000000000004\n",
      "Score: 0.9333333075046539\n"
     ]
    },
    {
     "data": {
      "image/png": "[encoded data removed]",
      "text/plain": [
       "<Figure size 720x720 with 2 Axes>"
      ]
     },
     "metadata": {},
     "output_type": "display_data"
    }
   ],
   "source": [
    "tuner_rs.results_summary()\n",
    "predictions=np.rint(best_model.predict(X_val))\n",
    "import matplotlib.pyplot as plt\n",
    "from sklearn.metrics import confusion_matrix\n",
    "#yhat=net.predict_classes(X_test)\n",
    "cm=confusion_matrix(y_val,predictions)\n",
    "class_names=list(range(2))\n",
    "import seaborn as sn\n",
    "import pandas as pd\n",
    "\n",
    "\n",
    "df_cm = pd.DataFrame(cm, class_names, class_names)\n",
    "plt.figure(figsize=(10,10))\n",
    "sn.set(font_scale=.8) # for label size\n",
    "sn.heatmap(df_cm, annot=True,cmap='Blues',fmt='g') # font size\n",
    "\n",
    "plt.show()"
   ]
  },
  {
   "cell_type": "markdown",
   "metadata": {
    "id": "UltN0mP2jri4"
   },
   "source": [
    "Access results and plot the train and validation loss and accuracy"
   ]
  },
  {
   "cell_type": "markdown",
   "metadata": {
    "id": "zZvWXCj1jzTg"
   },
   "source": [
    "# Tune the Hyperparameters using either GridSearch OR Keras Tuner\n",
    "(Hidden Units, Layers, Dropout Rate if Dropout is used, Optimizers etc.)"
   ]
  },
  {
   "cell_type": "code",
   "execution_count": 23,
   "metadata": {
    "colab": {
     "base_uri": "https://localhost:8080/"
    },
    "executionInfo": {
     "elapsed": 2563,
     "status": "ok",
     "timestamp": 1623272643921,
     "user": {
      "displayName": "Patricia Craja",
      "photoUrl": "",
      "userId": "02912126000997772383"
     },
     "user_tz": -120
    },
    "id": "sXvugxAblric",
    "outputId": "913f0007-f487-43b5-c8dd-e4eda705cf7b"
   },
   "outputs": [
    {
     "name": "stdout",
     "output_type": "stream",
     "text": [
      "Requirement already up-to-date: keras-tuner in /usr/local/lib/python3.7/dist-packages (1.0.2)\n",
      "Requirement already satisfied, skipping upgrade: tqdm in /usr/local/lib/python3.7/dist-packages (from keras-tuner) (4.41.1)\n",
      "Requirement already satisfied, skipping upgrade: scipy in /usr/local/lib/python3.7/dist-packages (from keras-tuner) (1.4.1)\n",
      "Requirement already satisfied, skipping upgrade: terminaltables in /usr/local/lib/python3.7/dist-packages (from keras-tuner) (3.1.0)\n",
      "Requirement already satisfied, skipping upgrade: packaging in /usr/local/lib/python3.7/dist-packages (from keras-tuner) (20.9)\n",
      "Requirement already satisfied, skipping upgrade: tabulate in /usr/local/lib/python3.7/dist-packages (from keras-tuner) (0.8.9)\n",
      "Requirement already satisfied, skipping upgrade: requests in /usr/local/lib/python3.7/dist-packages (from keras-tuner) (2.23.0)\n",
      "Requirement already satisfied, skipping upgrade: future in /usr/local/lib/python3.7/dist-packages (from keras-tuner) (0.16.0)\n",
      "Requirement already satisfied, skipping upgrade: numpy in /usr/local/lib/python3.7/dist-packages (from keras-tuner) (1.19.5)\n",
      "Requirement already satisfied, skipping upgrade: scikit-learn in /usr/local/lib/python3.7/dist-packages (from keras-tuner) (0.22.2.post1)\n",
      "Requirement already satisfied, skipping upgrade: colorama in /usr/local/lib/python3.7/dist-packages (from keras-tuner) (0.4.4)\n",
      "Requirement already satisfied, skipping upgrade: pyparsing>=2.0.2 in /usr/local/lib/python3.7/dist-packages (from packaging->keras-tuner) (2.4.7)\n",
      "Requirement already satisfied, skipping upgrade: idna<3,>=2.5 in /usr/local/lib/python3.7/dist-packages (from requests->keras-tuner) (2.10)\n",
      "Requirement already satisfied, skipping upgrade: certifi>=2017.4.17 in /usr/local/lib/python3.7/dist-packages (from requests->keras-tuner) (2020.12.5)\n",
      "Requirement already satisfied, skipping upgrade: chardet<4,>=3.0.2 in /usr/local/lib/python3.7/dist-packages (from requests->keras-tuner) (3.0.4)\n",
      "Requirement already satisfied, skipping upgrade: urllib3!=1.25.0,!=1.25.1,<1.26,>=1.21.1 in /usr/local/lib/python3.7/dist-packages (from requests->keras-tuner) (1.24.3)\n",
      "Requirement already satisfied, skipping upgrade: joblib>=0.11 in /usr/local/lib/python3.7/dist-packages (from scikit-learn->keras-tuner) (1.0.1)\n"
     ]
    }
   ],
   "source": [
    "pip install -U keras-tuner"
   ]
  },
  {
   "cell_type": "code",
   "execution_count": 24,
   "metadata": {
    "executionInfo": {
     "elapsed": 268,
     "status": "ok",
     "timestamp": 1623272645476,
     "user": {
      "displayName": "Patricia Craja",
      "photoUrl": "",
      "userId": "02912126000997772383"
     },
     "user_tz": -120
    },
    "id": "o_RKuAMHkFnP"
   },
   "outputs": [],
   "source": [
    "from kerastuner.tuners import RandomSearch"
   ]
  },
  {
   "cell_type": "code",
   "execution_count": null,
   "metadata": {
    "id": "PYT9KGm1lu5R"
   },
   "outputs": [],
   "source": []
  },
  {
   "cell_type": "markdown",
   "metadata": {
    "id": "oATZEtrEkl-f"
   },
   "source": [
    "plot the summary of best model"
   ]
  },
  {
   "cell_type": "markdown",
   "metadata": {
    "id": "vnVqKpnGkeKY"
   },
   "source": [
    "# Make Predictions on Test Set "
   ]
  },
  {
   "cell_type": "code",
   "execution_count": null,
   "metadata": {
    "id": "ZtsqDrFdkh2a"
   },
   "outputs": [],
   "source": []
  }
 ],
 "metadata": {
  "accelerator": "GPU",
  "colab": {
   "collapsed_sections": [],
   "name": "Dojo_NN2.ipynb",
   "provenance": [
    {
     "file_id": "1ActO72UubUCEawqc4JT6Z-qw2Ar7F7bH",
     "timestamp": 1623264170030
    }
   ]
  },
  "kernelspec": {
   "display_name": "Python 3",
   "language": "python",
   "name": "python3"
  },
  "language_info": {
   "codemirror_mode": {
    "name": "ipython",
    "version": 3
   },
   "file_extension": ".py",
   "mimetype": "text/x-python",
   "name": "python",
   "nbconvert_exporter": "python",
   "pygments_lexer": "ipython3",
   "version": "3.8.5"
  }
 },
 "nbformat": 4,
 "nbformat_minor": 4
}
