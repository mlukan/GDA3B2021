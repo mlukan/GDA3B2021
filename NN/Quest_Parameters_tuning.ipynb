{
 "cells": [
  {
   "cell_type": "markdown",
   "metadata": {
    "colab_type": "text",
    "id": "view-in-github"
   },
   "source": [
    "<a href=\"https://colab.research.google.com/github/mlukan/GDA3B2021/blob/main/NN/Quest_Parameters_tuning.ipynb\" target=\"_parent\"><img src=\"https://colab.research.google.com/assets/colab-badge.svg\" alt=\"Open In Colab\"/></a>"
   ]
  },
  {
   "cell_type": "markdown",
   "metadata": {
    "id": "tLTWTTh057Bz"
   },
   "source": [
    "### The XOR-Model ###\n",
    "\n",
    "We will build our tiny neural network predicting the XOR-data in keras\n",
    "\n",
    "First of all, we need to import the libraries"
   ]
  },
  {
   "cell_type": "code",
   "execution_count": 1,
   "metadata": {
    "id": "p9mkaLawe9zf"
   },
   "outputs": [],
   "source": [
    "import numpy as np \n",
    "from tensorflow import keras\n",
    "from tensorflow.keras import layers\n"
   ]
  },
  {
   "cell_type": "markdown",
   "metadata": {
    "id": "7eYcdsPse4f2"
   },
   "source": [
    "We need to define simple datas.\n"
   ]
  },
  {
   "cell_type": "code",
   "execution_count": 3,
   "metadata": {
    "id": "yo7zQOL-6sOL"
   },
   "outputs": [],
   "source": [
    "#Input datasets\n",
    "X_train = np.array([[0,0],[0,1],[1,0],[1,1]])\n",
    "y_train = np.array([[0],[1],[1],[0]])"
   ]
  },
  {
   "cell_type": "markdown",
   "metadata": {
    "id": "_QPZyiW56zoW"
   },
   "source": [
    "Now we set up our parameters - and define the model, exactly as in the lecture slides\n",
    "\n",
    "TODO: Show different way to set up the model, with and without Input layer"
   ]
  },
  {
   "cell_type": "code",
   "execution_count": 14,
   "metadata": {
    "id": "RwYszp9qoxzh"
   },
   "outputs": [],
   "source": [
    "# Set up your model here :\n",
    "X_test = np.concatenate([X_train for i in range(100)])\n",
    "y_test = np.concatenate([y_train for i in range(100)])"
   ]
  },
  {
   "cell_type": "code",
   "execution_count": 16,
   "metadata": {},
   "outputs": [
    {
     "data": {
      "text/plain": [
       "400"
      ]
     },
     "execution_count": 16,
     "metadata": {},
     "output_type": "execute_result"
    }
   ],
   "source": []
  },
  {
   "cell_type": "code",
   "execution_count": 27,
   "metadata": {
    "colab": {
     "base_uri": "https://localhost:8080/"
    },
    "executionInfo": {
     "elapsed": 12,
     "status": "ok",
     "timestamp": 1623153626373,
     "user": {
      "displayName": "Patricia Craja",
      "photoUrl": "",
      "userId": "02912126000997772383"
     },
     "user_tz": -120
    },
    "id": "g4p5ku6mdDC2",
    "outputId": "21b225bb-8de3-4e2d-df82-832e4701710b"
   },
   "outputs": [
    {
     "name": "stdout",
     "output_type": "stream",
     "text": [
      "Model: \"sequential_4\"\n",
      "_________________________________________________________________\n",
      "Layer (type)                 Output Shape              Param #   \n",
      "=================================================================\n",
      "dense_6 (Dense)              (None, 48)                144       \n",
      "_________________________________________________________________\n",
      "dense_7 (Dense)              (None, 1)                 49        \n",
      "=================================================================\n",
      "Total params: 193\n",
      "Trainable params: 193\n",
      "Non-trainable params: 0\n",
      "_________________________________________________________________\n",
      "3\n"
     ]
    },
    {
     "data": {
      "text/plain": [
       "1.0"
      ]
     },
     "execution_count": 27,
     "metadata": {},
     "output_type": "execute_result"
    }
   ],
   "source": [
    "import keras\n",
    "from keras.models import Sequential\n",
    "from keras.layers import Dense, Dropout\n",
    "from keras.optimizers import SGD\n",
    "seed=42\n",
    "\n",
    "\n",
    "model = Sequential()\n",
    "#model.add(Dense(4, activation='relu',bias_initializer='zeros',kernel_initializer=keras.initializers.he_normal(seed=seed), input_shape=(X_train.shape[1],)))\n",
    "#model.add(Dropout(0.1))\n",
    "model.add(Dense(48, activation='relu',bias_initializer='zeros',kernel_initializer=keras.initializers.he_normal(seed=seed), input_shape=(X_train.shape[1],)))\n",
    "\n",
    "model.add(Dense(1, activation='sigmoid'))\n",
    "\n",
    "model.summary()\n",
    "\n",
    "\n",
    "# example: start tarining the model up until 30 epochs and plot the training loss values and validation loss values against number of epochs.\n",
    "epochs = 5\n",
    "\n",
    "\n",
    "model.compile(loss='binary_crossentropy', optimizer=SGD(lr=0.5,momentum=.5), metrics=['accuracy'])\n",
    "# Fit the model\n",
    "story = model.fit(X_train, y_train, #name model differently\n",
    "                    epochs=epochs,\n",
    "                    verbose=0)\n",
    "try:\n",
    "    print(story.history['accuracy'].index(1.0))\n",
    "except:\n",
    "    pass\n",
    "story.history['accuracy'][-1]\n",
    "#del model\n"
   ]
  },
  {
   "cell_type": "code",
   "execution_count": null,
   "metadata": {},
   "outputs": [],
   "source": [
    "predictions=model.predict(X_test)\n",
    "predictions=np.rint(predictions)\n",
    "predictions"
   ]
  },
  {
   "cell_type": "code",
   "execution_count": 28,
   "metadata": {},
   "outputs": [
    {
     "data": {
      "image/png": "[encoded data removed]",
      "text/plain": [
       "<Figure size 720x720 with 2 Axes>"
      ]
     },
     "metadata": {},
     "output_type": "display_data"
    }
   ],
   "source": [
    "#preds5=results5.best_estimator_.predict(X_test)\n",
    "import matplotlib.pyplot as plt\n",
    "from sklearn.metrics import confusion_matrix\n",
    "#yhat=net.predict_classes(X_test)\n",
    "cm=confusion_matrix(y_test,predictions)\n",
    "class_names=list(range(2))\n",
    "import seaborn as sn\n",
    "import pandas as pd\n",
    "\n",
    "\n",
    "df_cm = pd.DataFrame(cm, class_names, class_names)\n",
    "plt.figure(figsize=(10,10))\n",
    "sn.set(font_scale=.8) # for label size\n",
    "sn.heatmap(df_cm, annot=True,cmap='Blues',fmt='g') # font size\n",
    "\n",
    "plt.show()"
   ]
  },
  {
   "cell_type": "markdown",
   "metadata": {
    "id": "fMBXTEQg7Ejx"
   },
   "source": [
    "We already have compiled our model - now we need to train it. We also need to get some predictions in order to see whether our model can indeed predict the XOR-data"
   ]
  },
  {
   "cell_type": "code",
   "execution_count": null,
   "metadata": {
    "id": "sbDOj8JW7JTV"
   },
   "outputs": [],
   "source": [
    "# Train your model here, and predict the XOR-data :\n"
   ]
  },
  {
   "cell_type": "markdown",
   "metadata": {
    "id": "Ojlc0RHB6vXA"
   },
   "source": [
    "What is wrong with these predictions?\n",
    "\n"
   ]
  },
  {
   "cell_type": "code",
   "execution_count": null,
   "metadata": {
    "id": "cOlTwqPMgOQk"
   },
   "outputs": [],
   "source": [
    "# Please display predicted values :\n",
    "model.predict(X_test)\n"
   ]
  },
  {
   "cell_type": "markdown",
   "metadata": {
    "id": "9EiaxgoI86z8"
   },
   "source": [
    "Let's compare the predictions to the true labels, do you notice a \"type\" difference ?"
   ]
  },
  {
   "cell_type": "code",
   "execution_count": null,
   "metadata": {
    "id": "yxtYUSA79AMC"
   },
   "outputs": [],
   "source": [
    "# Please dpredictions=np.rint(predictions)\n",
    "np.rint(model.predict(X_test))"
   ]
  },
  {
   "cell_type": "markdown",
   "metadata": {
    "id": "AfJh0hSsg3_d"
   },
   "source": [
    "This takes ridicuously long! Let's try to get the training faster. But first of all - and in order to \"measure\" how long the training takes, implement some code which stores the epoch at which the Neural Network has stably reached 100 percent accuracy. Stably means that the accuracy does not jump back to less then 100 percent. There are keras callbacks - and you could write a custom callback. But for now, you can also write a loop - in which the model is trained for one epoch at every iteration. You should store the accuracies at each epoch in a list in order to be able to visualize them.\n",
    "\n",
    "Do not alter the cost function!\n",
    "\n",
    "Hint: Good code style would be to put the model set up into a function and also the code to get the accuracy\n",
    "\n",
    "You should get someting like this format :\n",
    "* Epoch 0 / 200    accuracy: 0.5\n",
    "* Epoch 20 / 200    accuracy: 0.5\n",
    "* Epoch 40 / 200    accuracy: 0.5\n",
    "* Epoch 60 / 200    accuracy: 0.5\n",
    "\n"
   ]
  },
  {
   "cell_type": "code",
   "execution_count": null,
   "metadata": {},
   "outputs": [],
   "source": []
  },
  {
   "cell_type": "code",
   "execution_count": null,
   "metadata": {
    "id": "3gWSoxT8lPqj"
   },
   "outputs": [],
   "source": [
    "# function for model-set-up\n",
    "def build_model():\n",
    "  # Layers\n",
    "\n",
    "  # Learning rate\n",
    "\n",
    "  # Optimizer\n",
    "\n",
    "  # Compile\n",
    "\n",
    "  return model\n",
    "\n"
   ]
  },
  {
   "cell_type": "code",
   "execution_count": null,
   "metadata": {
    "id": "v_ETWw9SKqZ2"
   },
   "outputs": [],
   "source": [
    "def fit_model_and_get_accuracy(model, epochs=60, epoch_log_step=20):\n",
    "\n",
    "\n",
    "  return accuracies_list"
   ]
  },
  {
   "cell_type": "markdown",
   "metadata": {
    "id": "q0NVM5iWLB5A"
   },
   "source": [
    "## First Simple Reference Model (hidden_shape = 2, hidden_size = 1)"
   ]
  },
  {
   "cell_type": "code",
   "execution_count": null,
   "metadata": {
    "id": "ZCdauNB7LEPA"
   },
   "outputs": [],
   "source": [
    "# Use your functions to execute your script\n",
    "\n"
   ]
  },
  {
   "cell_type": "markdown",
   "metadata": {
    "id": "4DF_vJloNGHU"
   },
   "source": [
    "## More complex models"
   ]
  },
  {
   "cell_type": "markdown",
   "metadata": {
    "id": "A6DkKkEivvr7"
   },
   "source": [
    "Okay, now let's get startet. Make a note of your accuracy == 1.0 epoch. It is your baseline. And then try to alter the model so that it trains faster. These are the hyperparameters you need to optimize - but feel free to add others!\n",
    "\n",
    "1) Hidden size\n",
    "\n",
    "2) Number of hidden layers\n",
    "\n",
    "3) Learning rate - just try different numbers \n",
    "   What happens if the learning rate is too big?\n",
    "\n",
    "4) Learning rate - try to decrease it during the training process\n",
    "\n",
    "5) Different optimizers\n",
    "\n"
   ]
  },
  {
   "cell_type": "markdown",
   "metadata": {
    "id": "B5GksrFrgjOz"
   },
   "source": [
    "For the eager ones: The weights are initialized randomly (within limits) - so if you want better results and insights into the effect of different hyperparameters, you would have to run each experiment a couple of times (i.e. 5 to 10 minimum) and average over them. But you may ignore this in this quest - just bear it in mind!\n"
   ]
  },
  {
   "cell_type": "code",
   "execution_count": null,
   "metadata": {
    "id": "tJHDHgzBn8an"
   },
   "outputs": [],
   "source": [
    "# Hidden Size"
   ]
  },
  {
   "cell_type": "code",
   "execution_count": null,
   "metadata": {
    "id": "pecBN-FN0WyS"
   },
   "outputs": [],
   "source": [
    "# Number of hidden layers"
   ]
  },
  {
   "cell_type": "code",
   "execution_count": null,
   "metadata": {
    "id": "dDLRcqsh0Z09"
   },
   "outputs": [],
   "source": [
    "# Learning rate"
   ]
  },
  {
   "cell_type": "code",
   "execution_count": null,
   "metadata": {
    "id": "69fc0vwA0cvJ"
   },
   "outputs": [],
   "source": [
    "# Learning rate - continuous decrease"
   ]
  },
  {
   "cell_type": "code",
   "execution_count": null,
   "metadata": {
    "id": "nbq6fu-G0ii8"
   },
   "outputs": [],
   "source": [
    "# Optimizers"
   ]
  },
  {
   "cell_type": "markdown",
   "metadata": {
    "id": "pk5KMJH50oEj"
   },
   "source": [
    "Now visualize all your learning curves - i.e. nr. of epochs against accuracy. Which hyperparameter did have the biggest effect? \n",
    "\n",
    "Hint: In order to do that systematically, you could save the list of accuracies for each experiment and then display them all in one graph (at least for each tuned hyperparameter)"
   ]
  },
  {
   "cell_type": "code",
   "execution_count": null,
   "metadata": {
    "id": "ZmMcqtDI2Yd8"
   },
   "outputs": [],
   "source": [
    "# Here go the plots"
   ]
  },
  {
   "cell_type": "code",
   "execution_count": null,
   "metadata": {
    "id": "bApQTK9s2bt7"
   },
   "outputs": [],
   "source": [
    "# More plots"
   ]
  },
  {
   "cell_type": "code",
   "execution_count": null,
   "metadata": {
    "id": "i79yRkf92dhB"
   },
   "outputs": [],
   "source": [
    "# Add as many plots as you want"
   ]
  },
  {
   "cell_type": "markdown",
   "metadata": {
    "id": "26JvNPnp4GX-"
   },
   "source": [
    "We are still working with mean_squared_error as a cost-function. What would be a more suitable cost function?\n",
    "\n",
    "Alter the cost function and see how fast you get to a stable accuracy of 1.0.\n"
   ]
  },
  {
   "cell_type": "code",
   "execution_count": null,
   "metadata": {
    "id": "cvF_h8ov4KKl"
   },
   "outputs": [],
   "source": []
  },
  {
   "cell_type": "markdown",
   "metadata": {
    "id": "yc1RlJX02gpW"
   },
   "source": [
    "What is your best score (epoch with accuracy == 1.0)?\n",
    "\n",
    "Can you get the score to under 100? \n",
    "\n",
    "What might be the problem with your best model?\n",
    "\n",
    "Answer all these questions in the text cell below"
   ]
  },
  {
   "cell_type": "markdown",
   "metadata": {
    "id": "GHCxtSad32fD"
   },
   "source": [
    "My conclusion about these experiments is: "
   ]
  }
 ],
 "metadata": {
  "accelerator": "TPU",
  "colab": {
   "collapsed_sections": [],
   "include_colab_link": true,
   "name": "Quest Parameters tuning",
   "provenance": []
  },
  "kernelspec": {
   "display_name": "Python 3",
   "language": "python",
   "name": "python3"
  },
  "language_info": {
   "codemirror_mode": {
    "name": "ipython",
    "version": 3
   },
   "file_extension": ".py",
   "mimetype": "text/x-python",
   "name": "python",
   "nbconvert_exporter": "python",
   "pygments_lexer": "ipython3",
   "version": "3.8.5"
  }
 },
 "nbformat": 4,
 "nbformat_minor": 4
}
