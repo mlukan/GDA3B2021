{
  "nbformat": 4,
  "nbformat_minor": 0,
  "metadata": {
    "kernelspec": {
      "display_name": "PyCharm (adams)",
      "language": "python",
      "name": "pycharm-feb95198"
    },
    "language_info": {
      "codemirror_mode": {
        "name": "ipython",
        "version": 3
      },
      "file_extension": ".py",
      "mimetype": "text/x-python",
      "name": "python",
      "nbconvert_exporter": "python",
      "pygments_lexer": "ipython3",
      "version": "3.7.6"
    },
    "pycharm": {
      "stem_cell": {
        "cell_type": "raw",
        "metadata": {
          "collapsed": false
        },
        "source": []
      }
    },
    "colab": {
      "name": "NN_Hyperparameters-Keras Quest.ipynb",
      "provenance": [],
      "collapsed_sections": [],
      "include_colab_link": true
    }
  },
  "cells": [
    {
      "cell_type": "markdown",
      "metadata": {
        "id": "view-in-github",
        "colab_type": "text"
      },
      "source": [
        "<a href=\"https://colab.research.google.com/github/mlukan/GDA3B2021/blob/main/NN/NN_Hyperparameters_Keras_Quest.ipynb\" target=\"_parent\"><img src=\"https://colab.research.google.com/assets/colab-badge.svg\" alt=\"Open In Colab\"/></a>"
      ]
    },
    {
      "cell_type": "markdown",
      "metadata": {
        "id": "hyZ9vJEZkUXi"
      },
      "source": [
        "[![Open In Colab](https://colab.research.google.com/assets/colab-badge.svg)](https://colab.research.google.com/github/Humboldt-WI/adams/blob/master/exercises/Ex05-NN-in-Keras.ipynb) "
      ]
    },
    {
      "cell_type": "markdown",
      "metadata": {
        "id": "L1AyzepOkUXz"
      },
      "source": [
        "\n",
        "\n",
        "# Neural Networks using Keras "
      ]
    },
    {
      "cell_type": "markdown",
      "metadata": {
        "id": "O-u2B8DpkUX0"
      },
      "source": [
        "\n",
        "\n",
        "### Outline\n",
        "Our goal is to tune the Apple Store NN for multi-class classification. We need to make several decisions when configuring our NN and focus on finding the optimal parameters for the\n",
        " - number of hidden layers\n",
        " - number of neurons in hidden layers\n",
        " - activation functions\n",
        " - type of weight initialization\n",
        " - learning rate and momentum\n",
        " - optimizer\n",
        " - size of batch\n",
        " - number of epochs\n",
        " - regularization (dropout)\n",
        "\n",
        "\n",
        "\n",
        "In a first Part of this Notebook we will use Grid Search for Hyperparameter Tuning.\n",
        "\n",
        "Then in a second Part we will use Keras-Tuner"
      ]
    },
    {
      "cell_type": "code",
      "metadata": {
        "pycharm": {
          "is_executing": false
        },
        "id": "2Y3IOLW0kUX1"
      },
      "source": [
        "# Setting up the environment: import standard libraries and load the data. \n",
        "import numpy as np\n",
        "import matplotlib.pyplot as plt\n",
        "import pandas as pd\n",
        "from sklearn.preprocessing import LabelEncoder\n",
        "from sklearn.model_selection import train_test_split\n",
        "#This package provides utilities for Keras, such as modified callbacks, data genereators, encoder, etc.\n",
        "from keras.utils import np_utils\n",
        "\n",
        "\n",
        "\n",
        "\n"
      ],
      "execution_count": null,
      "outputs": []
    },
    {
      "cell_type": "markdown",
      "metadata": {
        "id": "6zaqSm-UvCjK"
      },
      "source": [
        "##Use case: app rating analysis\n",
        "NNs often **solve classification problems with many classes**. To illustrate their functioning in a context that is more related to NLP examples,we introduce the data set concerned with app ratings. The **original data is available on Kaggle**. There, you also find a data dictionary with some information on the variables. However, the variable names are rather self-explanatory. A cleaned version of the data is available in this folder. The easiest way for you is to use the cleaned version but feel very free to play around with the version on Kaggle. You can find a Python script that starts from the original data and goes through a couple of pre-processing operations to produce the version we use below (**app_store_dpp.py**)."
      ]
    },
    {
      "cell_type": "code",
      "metadata": {
        "colab": {
          "base_uri": "https://localhost:8080/"
        },
        "id": "_T9DhdD9vHo0",
        "outputId": "a26a8b4d-e477-4c7c-a54a-2c8ff1bf8344"
      },
      "source": [
        "# Load dataset and set app name as index\n",
        "\n",
        "app = pd.read_csv(\"https://raw.githubusercontent.com/murpi/wilddata/master/quests/AppleStore_prep.csv\", \n",
        "                  index_col=False, sep='\\t', encoding='utf-8')\n",
        "app = app.set_index('track_name')\n",
        "app.info()"
      ],
      "execution_count": null,
      "outputs": [
        {
          "output_type": "stream",
          "text": [
            "<class 'pandas.core.frame.DataFrame'>\n",
            "Index: 7197 entries, PAC-MAN Premium to Escape the Sweet Shop Series\n",
            "Data columns (total 36 columns):\n",
            " #   Column                         Non-Null Count  Dtype  \n",
            "---  ------                         --------------  -----  \n",
            " 0   size_bytes                     7197 non-null   float64\n",
            " 1   price                          7197 non-null   float64\n",
            " 2   rating_count_tot               7197 non-null   float64\n",
            " 3   sup_devices.num                7197 non-null   float64\n",
            " 4   ipadSc_urls.num                7197 non-null   float64\n",
            " 5   lang.num                       7197 non-null   float64\n",
            " 6   vpp_lic                        7197 non-null   float64\n",
            " 7   currency_USD                   7197 non-null   int64  \n",
            " 8   cont_rating_12+                7197 non-null   int64  \n",
            " 9   cont_rating_17+                7197 non-null   int64  \n",
            " 10  cont_rating_4+                 7197 non-null   int64  \n",
            " 11  cont_rating_9+                 7197 non-null   int64  \n",
            " 12  prime_genre_Book               7197 non-null   int64  \n",
            " 13  prime_genre_Business           7197 non-null   int64  \n",
            " 14  prime_genre_Catalogs           7197 non-null   int64  \n",
            " 15  prime_genre_Education          7197 non-null   int64  \n",
            " 16  prime_genre_Entertainment      7197 non-null   int64  \n",
            " 17  prime_genre_Finance            7197 non-null   int64  \n",
            " 18  prime_genre_Food & Drink       7197 non-null   int64  \n",
            " 19  prime_genre_Games              7197 non-null   int64  \n",
            " 20  prime_genre_Health & Fitness   7197 non-null   int64  \n",
            " 21  prime_genre_Lifestyle          7197 non-null   int64  \n",
            " 22  prime_genre_Medical            7197 non-null   int64  \n",
            " 23  prime_genre_Music              7197 non-null   int64  \n",
            " 24  prime_genre_Navigation         7197 non-null   int64  \n",
            " 25  prime_genre_News               7197 non-null   int64  \n",
            " 26  prime_genre_Photo & Video      7197 non-null   int64  \n",
            " 27  prime_genre_Productivity       7197 non-null   int64  \n",
            " 28  prime_genre_Reference          7197 non-null   int64  \n",
            " 29  prime_genre_Shopping           7197 non-null   int64  \n",
            " 30  prime_genre_Social Networking  7197 non-null   int64  \n",
            " 31  prime_genre_Sports             7197 non-null   int64  \n",
            " 32  prime_genre_Travel             7197 non-null   int64  \n",
            " 33  prime_genre_Utilities          7197 non-null   int64  \n",
            " 34  prime_genre_Weather            7197 non-null   int64  \n",
            " 35  user_rating                    7197 non-null   float64\n",
            "dtypes: float64(8), int64(28)\n",
            "memory usage: 2.0+ MB\n"
          ],
          "name": "stdout"
        }
      ]
    },
    {
      "cell_type": "markdown",
      "metadata": {
        "id": "ql36CaO7pRgQ"
      },
      "source": [
        "So **36 columns**, **one of which is the target variable**. We consider the **user rating as our target** and will try to set up a NN that predict the rating from the app characteristics including information on its price, genre, etc.\n",
        "\n",
        "Let's have a quick look at the target variable. Note that we that we have reduced the number of rating classes compared to the original version of the data on Kaggle (see app_store_dpp.py for details).  \n"
      ]
    },
    {
      "cell_type": "code",
      "metadata": {
        "colab": {
          "base_uri": "https://localhost:8080/",
          "height": 338
        },
        "id": "M1xsGs-Iul2f",
        "outputId": "af34c029-d7a1-4885-deb6-db3a3edba9f8"
      },
      "source": [
        "# Inspect the target\n",
        "import seaborn as sns\n",
        "sns.countplot(app.user_rating);"
      ],
      "execution_count": null,
      "outputs": [
        {
          "output_type": "stream",
          "text": [
            "/usr/local/lib/python3.7/dist-packages/seaborn/_decorators.py:43: FutureWarning: Pass the following variable as a keyword arg: x. From version 0.12, the only valid positional argument will be `data`, and passing other arguments without an explicit keyword will result in an error or misinterpretation.\n",
            "  FutureWarning\n"
          ],
          "name": "stderr"
        },
        {
          "output_type": "display_data",
          "data": {
            "image/png": "[encoded data removed]",
            "text/plain": [
              "<Figure size 432x288 with 1 Axes>"
            ]
          },
          "metadata": {
            "tags": [],
            "needs_background": "light"
          }
        }
      ]
    },
    {
      "cell_type": "code",
      "metadata": {
        "colab": {
          "base_uri": "https://localhost:8080/"
        },
        "id": "-mjSj4z4y4yt",
        "outputId": "d218c485-e502-4711-e038-eadb1736c209"
      },
      "source": [
        "app[\"user_rating\"]"
      ],
      "execution_count": null,
      "outputs": [
        {
          "output_type": "execute_result",
          "data": {
            "text/plain": [
              "track_name\n",
              "PAC-MAN Premium                                       4.0\n",
              "Evernote - stay organized                             4.0\n",
              "WeatherBug - Local Weather, Radar, Maps, Alerts       4.0\n",
              "eBay: Best App to Buy, Sell, Save! Online Shopping    4.0\n",
              "Bible                                                 4.0\n",
              "                                                     ... \n",
              "Kubik                                                 4.0\n",
              "VR Roller-Coaster                                     4.0\n",
              "Bret Michaels Emojis + Lyric Keyboard                 4.0\n",
              "VR Roller Coaster World - Virtual Reality             4.0\n",
              "Escape the Sweet Shop Series                          5.0\n",
              "Name: user_rating, Length: 7197, dtype: float64"
            ]
          },
          "metadata": {
            "tags": []
          },
          "execution_count": 6
        }
      ]
    },
    {
      "cell_type": "code",
      "metadata": {
        "colab": {
          "base_uri": "https://localhost:8080/"
        },
        "id": "udtwVOb_uJGz",
        "outputId": "ff1472a5-afbe-4f13-ec93-2effa54ed56b"
      },
      "source": [
        "# Prepare the target variable\n",
        "# LabelEncoder() transforms a string vector to a num vector\n",
        "encoder = LabelEncoder()\n",
        "#fit label encoder\n",
        "encoder.fit(app[\"user_rating\"])\n",
        "#transform and return encoded labels\n",
        "encoder.transform(app[\"user_rating\"])\n",
        "\n",
        "\n"
      ],
      "execution_count": null,
      "outputs": [
        {
          "output_type": "execute_result",
          "data": {
            "text/plain": [
              "array([4, 4, 4, ..., 4, 4, 5])"
            ]
          },
          "metadata": {
            "tags": []
          },
          "execution_count": 7
        }
      ]
    },
    {
      "cell_type": "code",
      "metadata": {
        "colab": {
          "base_uri": "https://localhost:8080/"
        },
        "id": "0gqhPUjryQBa",
        "outputId": "365b2026-c767-48b9-fa74-a6b967d35248"
      },
      "source": [
        "dummy_y = np_utils.to_categorical( encoder.transform(app[\"user_rating\"])).astype(int)\n",
        "dummy_y"
      ],
      "execution_count": null,
      "outputs": [
        {
          "output_type": "execute_result",
          "data": {
            "text/plain": [
              "array([[0, 0, 0, 0, 1, 0],\n",
              "       [0, 0, 0, 0, 1, 0],\n",
              "       [0, 0, 0, 0, 1, 0],\n",
              "       ...,\n",
              "       [0, 0, 0, 0, 1, 0],\n",
              "       [0, 0, 0, 0, 1, 0],\n",
              "       [0, 0, 0, 0, 0, 1]])"
            ]
          },
          "metadata": {
            "tags": []
          },
          "execution_count": 8
        }
      ]
    },
    {
      "cell_type": "code",
      "metadata": {
        "colab": {
          "base_uri": "https://localhost:8080/",
          "height": 335
        },
        "id": "nHgSuOd0uL-6",
        "outputId": "acdc6f04-6fd9-4f30-fae0-f6916715fa3e"
      },
      "source": [
        "plt.hist(dummy_y.argmax(axis=1))\n",
        "plt.xlabel('user_rating')\n",
        "plt.title('Rating distribution')\n",
        "plt.show();\n",
        "\n",
        "# Let's split our data set\n",
        "\n",
        "#Seed function is used to save the state of a random function, so that it can generate same random numbers on multiple executions of the code on the same machine or on different machines (for a specific seed value)\n",
        "seed=42\n",
        "\n",
        "X = app.iloc[:,:-1].values\n",
        "y = dummy_y\n",
        "\n",
        "# Keep in mind that this data set is already standardized, which leads to a leakage of information from train set to test set\n",
        "# When you are working with a dataset, make sure you standardize the variables in test set according to the parameters of the train set\n",
        "X_train, X_test, y_train, y_test = train_test_split(X, y, test_size=0.30, random_state=seed)\n",
        "    \n",
        "print (X_train.shape)\n",
        "print(y_train.shape) \n",
        "#X.head(5)"
      ],
      "execution_count": null,
      "outputs": [
        {
          "output_type": "display_data",
          "data": {
            "image/png": "[encoded data removed]",
            "text/plain": [
              "<Figure size 432x288 with 1 Axes>"
            ]
          },
          "metadata": {
            "tags": [],
            "needs_background": "light"
          }
        },
        {
          "output_type": "stream",
          "text": [
            "(5037, 35)\n",
            "(5037, 6)\n"
          ],
          "name": "stdout"
        }
      ]
    },
    {
      "cell_type": "markdown",
      "metadata": {
        "id": "RPbvIyftkUX4"
      },
      "source": [
        "### Preparing the Keras framework ###\n",
        "\n",
        "Today we will revise the architecture of our basic neural network and look more into the tuning of hyperparameters.\n",
        "\n"
      ]
    },
    {
      "cell_type": "code",
      "metadata": {
        "id": "5apgYIjmpbWd"
      },
      "source": [
        "nb_units = 128\n",
        "# And finally the outout layer\n",
        "nb_classes = y.shape[1]"
      ],
      "execution_count": null,
      "outputs": []
    },
    {
      "cell_type": "code",
      "metadata": {
        "id": "yNasuGt_kUYJ",
        "colab": {
          "base_uri": "https://localhost:8080/"
        },
        "outputId": "08ba1320-7c33-434e-fc35-b722240afd39"
      },
      "source": [
        "# Import Keras\n",
        "import keras\n",
        "from keras.models import Sequential\n",
        "from keras.layers import Dense, Dropout\n",
        "from keras.optimizers import SGD\n",
        "\n",
        "\n",
        "model = Sequential()\n",
        "model.add(Dense(nb_units, activation='relu',bias_initializer='zeros',kernel_initializer=keras.initializers.he_normal(seed=seed), input_shape=(X.shape[1],)))\n",
        "#model.add(Dropout(0.1))\n",
        "model.add(Dense(nb_units, activation='relu',bias_initializer='zeros',kernel_initializer=keras.initializers.he_normal(seed=seed)))\n",
        "#model.add(Dropout(0.1))\n",
        "model.add(Dense(nb_classes, activation='softmax'))\n",
        "\n",
        "model.summary()\n",
        "\n",
        "batch_size = 56 #1 for online SGD\n",
        "\n",
        "# example: start tarining the model up until 30 epochs and plot the training loss values and validation loss values against number of epochs.\n",
        "epochs = 30\n",
        "\n",
        "\n",
        "model.compile(loss='categorical_crossentropy', optimizer=optimizers.SGD(lr=0.01), metrics=['accuracy'])\n",
        "# Fit the model\n",
        "story = model.fit(X_train, y_train, #name model differently\n",
        "                    batch_size=batch_size,\n",
        "                    epochs=epochs,\n",
        "                    verbose=0,\n",
        "                 validation_data=(X_test, y_test))\n",
        "                    #validation_split=0.33)#validation_data=(X_test, y_test)\n"
      ],
      "execution_count": null,
      "outputs": [
        {
          "output_type": "stream",
          "text": [
            "Model: \"sequential_11\"\n",
            "_________________________________________________________________\n",
            "Layer (type)                 Output Shape              Param #   \n",
            "=================================================================\n",
            "dense_32 (Dense)             (None, 128)               4608      \n",
            "_________________________________________________________________\n",
            "dense_33 (Dense)             (None, 128)               16512     \n",
            "_________________________________________________________________\n",
            "dense_34 (Dense)             (None, 6)                 774       \n",
            "=================================================================\n",
            "Total params: 21,894\n",
            "Trainable params: 21,894\n",
            "Non-trainable params: 0\n",
            "_________________________________________________________________\n"
          ],
          "name": "stdout"
        },
        {
          "output_type": "stream",
          "text": [
            "/usr/local/lib/python3.7/dist-packages/tensorflow/python/keras/optimizer_v2/optimizer_v2.py:375: UserWarning: The `lr` argument is deprecated, use `learning_rate` instead.\n",
            "  \"The `lr` argument is deprecated, use `learning_rate` instead.\")\n"
          ],
          "name": "stderr"
        }
      ]
    },
    {
      "cell_type": "code",
      "metadata": {
        "id": "mXIb7e7trdMZ"
      },
      "source": [
        "def show_history(story):\n",
        "    fig, (ax1, ax2) = plt.subplots(1, 2)\n",
        "    fig.set_size_inches(18.5, 10.5)\n",
        "    ax1.plot(story.history['accuracy'])\n",
        "    ax1.plot(story.history['val_accuracy'])\n",
        "    ax1.set(xlabel='epoch', ylabel='accuracy')\n",
        "    ax1.legend(['train_accuracy', 'test_accuracy'], loc='best')\n",
        "    ax1.set_title('Accuracy evolution during NN training')\n",
        "    \n",
        "    ax2.plot(story.history['loss'])\n",
        "    ax2.plot(story.history['val_loss'])\n",
        "    ax2.set(xlabel='epoch', ylabel='loss')\n",
        "    ax2.legend(['train_loss', 'test_loss'], loc='best')\n",
        "    ax2.set_title('Loss evolution during NN training')\n",
        "    plt.show()\n"
      ],
      "execution_count": null,
      "outputs": []
    },
    {
      "cell_type": "code",
      "metadata": {
        "id": "BSgAMh3irg0j"
      },
      "source": [
        "score = model.evaluate(X_test, y_test, verbose=0)"
      ],
      "execution_count": null,
      "outputs": []
    },
    {
      "cell_type": "code",
      "metadata": {
        "colab": {
          "base_uri": "https://localhost:8080/",
          "height": 687
        },
        "id": "eEi8cZ9okUYJ",
        "outputId": "f3f4d79e-bd6c-462c-acdb-f2b00bdb5326"
      },
      "source": [
        "print('Test loss:', score[0])\n",
        "print('Test accuracy:', score[1])\n",
        "show_history(story)"
      ],
      "execution_count": null,
      "outputs": [
        {
          "output_type": "stream",
          "text": [
            "Test loss: 0.9628739953041077\n",
            "Test accuracy: 0.7060185074806213\n"
          ],
          "name": "stdout"
        },
        {
          "output_type": "display_data",
          "data": {
            "image/png": "[encoded data removed]",
            "text/plain": [
              "<Figure size 1332x756 with 2 Axes>"
            ]
          },
          "metadata": {
            "tags": [],
            "needs_background": "light"
          }
        }
      ]
    },
    {
      "cell_type": "markdown",
      "metadata": {
        "id": "dF8LJRKGHI9X"
      },
      "source": [
        "# Part 1: Hyperparameter optimization with Keras\n",
        "\n",
        "\n",
        "\n"
      ]
    },
    {
      "cell_type": "markdown",
      "metadata": {
        "id": "b_9zHdu2s7SY"
      },
      "source": [
        "We will start with the old-fashioned way with Scikit Learn and will first show you an example of how to use GridSearch with two groups of hyperparameters: batches/epochs and optimizer algorithms. "
      ]
    },
    {
      "cell_type": "code",
      "metadata": {
        "id": "WP2VLXgBHBIv"
      },
      "source": [
        "import keras\n",
        "import pandas as pd\n",
        "import numpy as np\n",
        "from sklearn.model_selection import GridSearchCV\n",
        "\n",
        "from keras.models import Sequential\n",
        "from keras.layers import Dense, Dropout\n",
        "from keras.wrappers.scikit_learn import KerasClassifier\n",
        "from keras import optimizers"
      ],
      "execution_count": null,
      "outputs": []
    },
    {
      "cell_type": "markdown",
      "metadata": {
        "id": "H2G3hGbsJlJL"
      },
      "source": [
        ""
      ]
    },
    {
      "cell_type": "code",
      "metadata": {
        "id": "tAobOLKBIQAo"
      },
      "source": [
        "#We will use the architecture we had before and wrap it into the function called 'netowork ' (or whatever you want to call it)\n",
        "\n",
        "def network():\n",
        "    \n",
        "    model = Sequential()\n",
        "    model.add(Dense(128, activation='relu',bias_initializer='zeros',kernel_initializer=keras.initializers.he_normal(seed=seed),  input_shape=(X.shape[1],)))\n",
        "    model.add(Dense(128, activation='relu',bias_initializer='zeros',kernel_initializer=keras.initializers.he_normal(seed=seed)))\n",
        "    model.add(Dense(6, activation='softmax',kernel_initializer=keras.initializers.he_normal(seed=seed)))\n",
        "    \n",
        "    model.compile(optimizer=optimizers.SGD(lr=0.01), loss='categorical_crossentropy', metrics=['accuracy']) #nothing changes here\n",
        "\n",
        "    return model\n",
        "\n",
        "# Now we will plug it into Keras Classifier Wrapper \n",
        "model = KerasClassifier(build_fn=network, verbose=0)"
      ],
      "execution_count": null,
      "outputs": []
    },
    {
      "cell_type": "code",
      "metadata": {
        "id": "TS2OR5Y7JSQ_"
      },
      "source": [
        "# Let's define the grid search parameters\n",
        "batchsize = [32, 64, 128, 256, 512]\n",
        "epochs = [10,30,60,70]"
      ],
      "execution_count": null,
      "outputs": []
    },
    {
      "cell_type": "code",
      "metadata": {
        "colab": {
          "base_uri": "https://localhost:8080/"
        },
        "id": "PMUT_gWNJ0I4",
        "outputId": "4fc01297-4e11-4184-f118-9b364227124f"
      },
      "source": [
        "#Set the grid\n",
        "param_grid = dict(batch_size=batchsize, epochs=epochs)# setting a dictionary to store the results\n",
        "param_grid "
      ],
      "execution_count": null,
      "outputs": [
        {
          "output_type": "execute_result",
          "data": {
            "text/plain": [
              "{'batch_size': [32, 64, 128, 256, 512], 'epochs': [10, 30, 60, 70]}"
            ]
          },
          "metadata": {
            "tags": []
          },
          "execution_count": 50
        }
      ]
    },
    {
      "cell_type": "code",
      "metadata": {
        "colab": {
          "base_uri": "https://localhost:8080/"
        },
        "id": "FXythoaQJ6De",
        "outputId": "51c2a73b-52fc-40aa-8add-4378e6abd609"
      },
      "source": [
        "grid = GridSearchCV(estimator=model, param_grid=param_grid, n_jobs=-1,cv=3) #parallelization, here using all processors\n",
        "results = grid.fit(X_train, y_train) #remember that we don't want to use the test set in CV\n",
        "print(\"Best: %f using %s\" % (results.best_score_, results.best_params_))"
      ],
      "execution_count": null,
      "outputs": [
        {
          "output_type": "stream",
          "text": [
            "/usr/local/lib/python3.7/dist-packages/tensorflow/python/keras/optimizer_v2/optimizer_v2.py:375: UserWarning: The `lr` argument is deprecated, use `learning_rate` instead.\n",
            "  \"The `lr` argument is deprecated, use `learning_rate` instead.\")\n"
          ],
          "name": "stderr"
        },
        {
          "output_type": "stream",
          "text": [
            "Best: 0.709946 using {'batch_size': 32, 'epochs': 70}\n"
          ],
          "name": "stdout"
        }
      ]
    },
    {
      "cell_type": "code",
      "metadata": {
        "colab": {
          "base_uri": "https://localhost:8080/"
        },
        "id": "GO9mlGfkJ534",
        "outputId": "c6c35669-9d43-4a80-cd97-d63311dab7f4"
      },
      "source": [
        "#Let's now take this knowledge and apply it to our optimizers tuning\n",
        "\n",
        "def optim (optimizer='SGD'):\n",
        "    model = Sequential()\n",
        "    model.add(Dense(128, activation='relu',bias_initializer='zeros',kernel_initializer=keras.initializers.he_normal(seed=seed),  input_shape=(X.shape[1],)))\n",
        "  \n",
        "    model.add(Dense(128, activation='relu',bias_initializer='zeros',kernel_initializer=keras.initializers.he_normal(seed=seed)))\n",
        " \n",
        "    model.add(Dense(6, activation='softmax',kernel_initializer=keras.initializers.he_normal(seed=seed)))\n",
        "    \n",
        "    model.compile(optimizer=optimizer, loss='categorical_crossentropy', metrics=['accuracy']) \n",
        "    \n",
        "    return model\n",
        "\n",
        "model = KerasClassifier(build_fn=optim, epochs=30, batch_size=64, verbose=0)\n",
        "# define the grid search parameters\n",
        "optimizers = ['SGD', 'RMSprop', 'Adagrad', 'Adadelta', 'Adam', 'Adamax', 'Nadam']\n",
        "param_grid = dict(optimizer=optimizers) # setting a dictionary to store the results\n",
        "grid = GridSearchCV(estimator=model, param_grid=param_grid, n_jobs=-1, cv=3)\n",
        "results = grid.fit(X_train, y_train)\n",
        "\n",
        "# Our results (reember these are the resultson the hold-out data)\n",
        "print(\"Best: %f using %s\" % (results.best_score_, results.best_params_))"
      ],
      "execution_count": null,
      "outputs": [
        {
          "output_type": "stream",
          "text": [
            "Best: 0.709748 using {'optimizer': 'Adamax'}\n"
          ],
          "name": "stdout"
        }
      ]
    },
    {
      "cell_type": "markdown",
      "metadata": {
        "id": "8r1N0u9csthl"
      },
      "source": [
        "Now continue using Grid Search to tune the Learning Rate and Momentum:"
      ]
    },
    {
      "cell_type": "code",
      "metadata": {
        "id": "4s3A7r_8tSY2"
      },
      "source": [
        ""
      ],
      "execution_count": null,
      "outputs": []
    },
    {
      "cell_type": "markdown",
      "metadata": {
        "id": "M6c5zdwjtTUZ"
      },
      "source": [
        "Use Grid Search to tune the Network Weight Initialization:"
      ]
    },
    {
      "cell_type": "code",
      "metadata": {
        "id": "OQUvS5fPtYHb"
      },
      "source": [
        ""
      ],
      "execution_count": null,
      "outputs": []
    },
    {
      "cell_type": "markdown",
      "metadata": {
        "id": "3uN20jRXtY22"
      },
      "source": [
        "Use Grid Search to tune the Neuron Activation Function\n"
      ]
    },
    {
      "cell_type": "code",
      "metadata": {
        "id": "Ivuj4K3stedu"
      },
      "source": [
        ""
      ],
      "execution_count": null,
      "outputs": []
    },
    {
      "cell_type": "markdown",
      "metadata": {
        "id": "llyr5gextgZa"
      },
      "source": [
        "Use Grid Search to tune Dropout Regularization"
      ]
    },
    {
      "cell_type": "code",
      "metadata": {
        "id": "ojFGBhT5tf7Q"
      },
      "source": [
        ""
      ],
      "execution_count": null,
      "outputs": []
    },
    {
      "cell_type": "markdown",
      "metadata": {
        "id": "bNmvCdsAtkld"
      },
      "source": [
        "Use Grid Search to tune the Number of Neurons in the Hidden Layer"
      ]
    },
    {
      "cell_type": "code",
      "metadata": {
        "id": "JX2FpNJ6tqAc"
      },
      "source": [
        ""
      ],
      "execution_count": null,
      "outputs": []
    },
    {
      "cell_type": "markdown",
      "metadata": {
        "id": "wtR-pZ8Wtsq-"
      },
      "source": [
        "# Part 2:  Keras Tuner"
      ]
    },
    {
      "cell_type": "code",
      "metadata": {
        "id": "ZCGhRmt6uMzc"
      },
      "source": [
        "pip install -U keras-tuner\n"
      ],
      "execution_count": null,
      "outputs": []
    },
    {
      "cell_type": "code",
      "metadata": {
        "id": "iSffBvDtt0m7"
      },
      "source": [
        "from tensorflow import keras\n",
        "from tensorflow.keras import layers\n",
        "from kerastuner.tuners import RandomSearch"
      ],
      "execution_count": null,
      "outputs": []
    },
    {
      "cell_type": "markdown",
      "metadata": {
        "id": "Zp0n38lIue0U"
      },
      "source": [
        "Read through the Keras Tuner Documentation and build a RandomSearch. This hyperparameter tuning method randomly tries a combination of hyperparameters from a given search space. To use this method in keras tuner, first define a tuner using one of the available [Tuners](https://keras-team.github.io/keras-tuner/documentation/tuners/).\n"
      ]
    },
    {
      "cell_type": "code",
      "metadata": {
        "id": "sgV8Ve3WvBQ-"
      },
      "source": [
        ""
      ],
      "execution_count": null,
      "outputs": []
    }
  ]
}