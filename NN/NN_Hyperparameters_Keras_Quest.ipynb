{
 "cells": [
  {
   "cell_type": "markdown",
   "metadata": {
    "colab_type": "text",
    "id": "view-in-github"
   },
   "source": [
    "<a href=\"https://colab.research.google.com/github/mlukan/GDA3B2021/blob/main/NN/NN_Hyperparameters_Keras_Quest.ipynb\" target=\"_parent\"><img src=\"https://colab.research.google.com/assets/colab-badge.svg\" alt=\"Open In Colab\"/></a>"
   ]
  },
  {
   "cell_type": "markdown",
   "metadata": {
    "id": "L1AyzepOkUXz"
   },
   "source": [
    "\n",
    "\n",
    "# Neural Networks using Keras "
   ]
  },
  {
   "cell_type": "markdown",
   "metadata": {
    "id": "O-u2B8DpkUX0"
   },
   "source": [
    "\n",
    "\n",
    "### Outline\n",
    "Our goal is to tune the Apple Store NN for multi-class classification. We need to make several decisions when configuring our NN and focus on finding the optimal parameters for the\n",
    " - number of hidden layers\n",
    " - number of neurons in hidden layers\n",
    " - activation functions\n",
    " - type of weight initialization\n",
    " - learning rate and momentum\n",
    " - optimizer\n",
    " - size of batch\n",
    " - number of epochs\n",
    " - regularization (dropout)\n",
    "\n",
    "\n",
    "\n",
    "In a first Part of this Notebook we will use Grid Search for Hyperparameter Tuning.\n",
    "\n",
    "Then in a second Part we will use Keras-Tuner"
   ]
  },
  {
   "cell_type": "code",
   "execution_count": 1,
   "metadata": {
    "id": "2Y3IOLW0kUX1",
    "pycharm": {
     "is_executing": false
    }
   },
   "outputs": [],
   "source": [
    "# Setting up the environment: import standard libraries and load the data. \n",
    "import numpy as np\n",
    "import matplotlib.pyplot as plt\n",
    "import pandas as pd\n",
    "from sklearn.preprocessing import LabelEncoder\n",
    "from sklearn.model_selection import train_test_split\n",
    "#This package provides utilities for Keras, such as modified callbacks, data genereators, encoder, etc.\n",
    "from keras.utils import np_utils\n",
    "\n",
    "\n",
    "\n",
    "\n"
   ]
  },
  {
   "cell_type": "markdown",
   "metadata": {
    "id": "6zaqSm-UvCjK"
   },
   "source": [
    "## Use case: app rating analysis\n",
    "NNs often **solve classification problems with many classes**. To illustrate their functioning in a context that is more related to NLP examples,we introduce the data set concerned with app ratings. The **original data is available on Kaggle**. There, you also find a data dictionary with some information on the variables. However, the variable names are rather self-explanatory. A cleaned version of the data is available in this folder. The easiest way for you is to use the cleaned version but feel very free to play around with the version on Kaggle. You can find a Python script that starts from the original data and goes through a couple of pre-processing operations to produce the version we use below (**app_store_dpp.py**)."
   ]
  },
  {
   "cell_type": "code",
   "execution_count": 2,
   "metadata": {
    "colab": {
     "base_uri": "https://localhost:8080/"
    },
    "id": "_T9DhdD9vHo0",
    "outputId": "a26a8b4d-e477-4c7c-a54a-2c8ff1bf8344"
   },
   "outputs": [
    {
     "data": {
      "text/html": [
       "<div>\n",
       "<style scoped>\n",
       "    .dataframe tbody tr th:only-of-type {\n",
       "        vertical-align: middle;\n",
       "    }\n",
       "\n",
       "    .dataframe tbody tr th {\n",
       "        vertical-align: top;\n",
       "    }\n",
       "\n",
       "    .dataframe thead th {\n",
       "        text-align: right;\n",
       "    }\n",
       "</style>\n",
       "<table border=\"1\" class=\"dataframe\">\n",
       "  <thead>\n",
       "    <tr style=\"text-align: right;\">\n",
       "      <th></th>\n",
       "      <th>size_bytes</th>\n",
       "      <th>price</th>\n",
       "      <th>rating_count_tot</th>\n",
       "      <th>sup_devices.num</th>\n",
       "      <th>ipadSc_urls.num</th>\n",
       "      <th>lang.num</th>\n",
       "      <th>vpp_lic</th>\n",
       "      <th>currency_USD</th>\n",
       "      <th>cont_rating_12+</th>\n",
       "      <th>cont_rating_17+</th>\n",
       "      <th>...</th>\n",
       "      <th>prime_genre_Photo &amp; Video</th>\n",
       "      <th>prime_genre_Productivity</th>\n",
       "      <th>prime_genre_Reference</th>\n",
       "      <th>prime_genre_Shopping</th>\n",
       "      <th>prime_genre_Social Networking</th>\n",
       "      <th>prime_genre_Sports</th>\n",
       "      <th>prime_genre_Travel</th>\n",
       "      <th>prime_genre_Utilities</th>\n",
       "      <th>prime_genre_Weather</th>\n",
       "      <th>user_rating</th>\n",
       "    </tr>\n",
       "  </thead>\n",
       "  <tbody>\n",
       "    <tr>\n",
       "      <th>count</th>\n",
       "      <td>7.197000e+03</td>\n",
       "      <td>7.197000e+03</td>\n",
       "      <td>7197.000000</td>\n",
       "      <td>7.197000e+03</td>\n",
       "      <td>7.197000e+03</td>\n",
       "      <td>7.197000e+03</td>\n",
       "      <td>7.197000e+03</td>\n",
       "      <td>7197.0</td>\n",
       "      <td>7197.000000</td>\n",
       "      <td>7197.000000</td>\n",
       "      <td>...</td>\n",
       "      <td>7197.000000</td>\n",
       "      <td>7197.000000</td>\n",
       "      <td>7197.000000</td>\n",
       "      <td>7197.000000</td>\n",
       "      <td>7197.000000</td>\n",
       "      <td>7197.000000</td>\n",
       "      <td>7197.000000</td>\n",
       "      <td>7197.000000</td>\n",
       "      <td>7197.000000</td>\n",
       "      <td>7197.000000</td>\n",
       "    </tr>\n",
       "    <tr>\n",
       "      <th>mean</th>\n",
       "      <td>-7.898210e-18</td>\n",
       "      <td>-2.764374e-17</td>\n",
       "      <td>0.000000</td>\n",
       "      <td>-4.985745e-16</td>\n",
       "      <td>-9.181669e-17</td>\n",
       "      <td>-4.738926e-17</td>\n",
       "      <td>5.805185e-16</td>\n",
       "      <td>1.0</td>\n",
       "      <td>0.160484</td>\n",
       "      <td>0.086425</td>\n",
       "      <td>...</td>\n",
       "      <td>0.048492</td>\n",
       "      <td>0.024733</td>\n",
       "      <td>0.008893</td>\n",
       "      <td>0.016952</td>\n",
       "      <td>0.023204</td>\n",
       "      <td>0.015840</td>\n",
       "      <td>0.011255</td>\n",
       "      <td>0.034459</td>\n",
       "      <td>0.010004</td>\n",
       "      <td>3.380992</td>\n",
       "    </tr>\n",
       "    <tr>\n",
       "      <th>std</th>\n",
       "      <td>1.000069e+00</td>\n",
       "      <td>1.000069e+00</td>\n",
       "      <td>1.000069</td>\n",
       "      <td>1.000069e+00</td>\n",
       "      <td>1.000069e+00</td>\n",
       "      <td>1.000069e+00</td>\n",
       "      <td>1.000069e+00</td>\n",
       "      <td>0.0</td>\n",
       "      <td>0.367079</td>\n",
       "      <td>0.281010</td>\n",
       "      <td>...</td>\n",
       "      <td>0.214819</td>\n",
       "      <td>0.155320</td>\n",
       "      <td>0.093887</td>\n",
       "      <td>0.129099</td>\n",
       "      <td>0.150562</td>\n",
       "      <td>0.124865</td>\n",
       "      <td>0.105497</td>\n",
       "      <td>0.182417</td>\n",
       "      <td>0.099526</td>\n",
       "      <td>1.434571</td>\n",
       "    </tr>\n",
       "    <tr>\n",
       "      <th>min</th>\n",
       "      <td>-5.527689e-01</td>\n",
       "      <td>-2.959602e-01</td>\n",
       "      <td>-0.170239</td>\n",
       "      <td>-7.588536e+00</td>\n",
       "      <td>-1.866742e+00</td>\n",
       "      <td>-6.863082e-01</td>\n",
       "      <td>-1.195575e+01</td>\n",
       "      <td>1.0</td>\n",
       "      <td>0.000000</td>\n",
       "      <td>0.000000</td>\n",
       "      <td>...</td>\n",
       "      <td>0.000000</td>\n",
       "      <td>0.000000</td>\n",
       "      <td>0.000000</td>\n",
       "      <td>0.000000</td>\n",
       "      <td>0.000000</td>\n",
       "      <td>0.000000</td>\n",
       "      <td>0.000000</td>\n",
       "      <td>0.000000</td>\n",
       "      <td>0.000000</td>\n",
       "      <td>0.000000</td>\n",
       "    </tr>\n",
       "    <tr>\n",
       "      <th>25%</th>\n",
       "      <td>-4.237732e-01</td>\n",
       "      <td>-2.959602e-01</td>\n",
       "      <td>-0.169869</td>\n",
       "      <td>-9.680849e-02</td>\n",
       "      <td>-3.560663e-01</td>\n",
       "      <td>-5.600303e-01</td>\n",
       "      <td>8.364175e-02</td>\n",
       "      <td>1.0</td>\n",
       "      <td>0.000000</td>\n",
       "      <td>0.000000</td>\n",
       "      <td>...</td>\n",
       "      <td>0.000000</td>\n",
       "      <td>0.000000</td>\n",
       "      <td>0.000000</td>\n",
       "      <td>0.000000</td>\n",
       "      <td>0.000000</td>\n",
       "      <td>0.000000</td>\n",
       "      <td>0.000000</td>\n",
       "      <td>0.000000</td>\n",
       "      <td>0.000000</td>\n",
       "      <td>4.000000</td>\n",
       "    </tr>\n",
       "    <tr>\n",
       "      <th>50%</th>\n",
       "      <td>-2.839269e-01</td>\n",
       "      <td>-2.959602e-01</td>\n",
       "      <td>-0.166278</td>\n",
       "      <td>-9.680849e-02</td>\n",
       "      <td>6.510507e-01</td>\n",
       "      <td>-5.600303e-01</td>\n",
       "      <td>8.364175e-02</td>\n",
       "      <td>1.0</td>\n",
       "      <td>0.000000</td>\n",
       "      <td>0.000000</td>\n",
       "      <td>...</td>\n",
       "      <td>0.000000</td>\n",
       "      <td>0.000000</td>\n",
       "      <td>0.000000</td>\n",
       "      <td>0.000000</td>\n",
       "      <td>0.000000</td>\n",
       "      <td>0.000000</td>\n",
       "      <td>0.000000</td>\n",
       "      <td>0.000000</td>\n",
       "      <td>0.000000</td>\n",
       "      <td>4.000000</td>\n",
       "    </tr>\n",
       "    <tr>\n",
       "      <th>75%</th>\n",
       "      <td>-4.791329e-02</td>\n",
       "      <td>4.522548e-02</td>\n",
       "      <td>-0.133360</td>\n",
       "      <td>1.707532e-01</td>\n",
       "      <td>6.510507e-01</td>\n",
       "      <td>3.239150e-01</td>\n",
       "      <td>8.364175e-02</td>\n",
       "      <td>1.0</td>\n",
       "      <td>0.000000</td>\n",
       "      <td>0.000000</td>\n",
       "      <td>...</td>\n",
       "      <td>0.000000</td>\n",
       "      <td>0.000000</td>\n",
       "      <td>0.000000</td>\n",
       "      <td>0.000000</td>\n",
       "      <td>0.000000</td>\n",
       "      <td>0.000000</td>\n",
       "      <td>0.000000</td>\n",
       "      <td>0.000000</td>\n",
       "      <td>0.000000</td>\n",
       "      <td>4.000000</td>\n",
       "    </tr>\n",
       "    <tr>\n",
       "      <th>max</th>\n",
       "      <td>1.065431e+01</td>\n",
       "      <td>5.113736e+01</td>\n",
       "      <td>39.107631</td>\n",
       "      <td>2.578809e+00</td>\n",
       "      <td>6.510507e-01</td>\n",
       "      <td>8.784534e+00</td>\n",
       "      <td>8.364175e-02</td>\n",
       "      <td>1.0</td>\n",
       "      <td>1.000000</td>\n",
       "      <td>1.000000</td>\n",
       "      <td>...</td>\n",
       "      <td>1.000000</td>\n",
       "      <td>1.000000</td>\n",
       "      <td>1.000000</td>\n",
       "      <td>1.000000</td>\n",
       "      <td>1.000000</td>\n",
       "      <td>1.000000</td>\n",
       "      <td>1.000000</td>\n",
       "      <td>1.000000</td>\n",
       "      <td>1.000000</td>\n",
       "      <td>5.000000</td>\n",
       "    </tr>\n",
       "  </tbody>\n",
       "</table>\n",
       "<p>8 rows × 36 columns</p>\n",
       "</div>"
      ],
      "text/plain": [
       "         size_bytes         price  rating_count_tot  sup_devices.num  \\\n",
       "count  7.197000e+03  7.197000e+03       7197.000000     7.197000e+03   \n",
       "mean  -7.898210e-18 -2.764374e-17          0.000000    -4.985745e-16   \n",
       "std    1.000069e+00  1.000069e+00          1.000069     1.000069e+00   \n",
       "min   -5.527689e-01 -2.959602e-01         -0.170239    -7.588536e+00   \n",
       "25%   -4.237732e-01 -2.959602e-01         -0.169869    -9.680849e-02   \n",
       "50%   -2.839269e-01 -2.959602e-01         -0.166278    -9.680849e-02   \n",
       "75%   -4.791329e-02  4.522548e-02         -0.133360     1.707532e-01   \n",
       "max    1.065431e+01  5.113736e+01         39.107631     2.578809e+00   \n",
       "\n",
       "       ipadSc_urls.num      lang.num       vpp_lic  currency_USD  \\\n",
       "count     7.197000e+03  7.197000e+03  7.197000e+03        7197.0   \n",
       "mean     -9.181669e-17 -4.738926e-17  5.805185e-16           1.0   \n",
       "std       1.000069e+00  1.000069e+00  1.000069e+00           0.0   \n",
       "min      -1.866742e+00 -6.863082e-01 -1.195575e+01           1.0   \n",
       "25%      -3.560663e-01 -5.600303e-01  8.364175e-02           1.0   \n",
       "50%       6.510507e-01 -5.600303e-01  8.364175e-02           1.0   \n",
       "75%       6.510507e-01  3.239150e-01  8.364175e-02           1.0   \n",
       "max       6.510507e-01  8.784534e+00  8.364175e-02           1.0   \n",
       "\n",
       "       cont_rating_12+  cont_rating_17+  ...  prime_genre_Photo & Video  \\\n",
       "count      7197.000000      7197.000000  ...                7197.000000   \n",
       "mean          0.160484         0.086425  ...                   0.048492   \n",
       "std           0.367079         0.281010  ...                   0.214819   \n",
       "min           0.000000         0.000000  ...                   0.000000   \n",
       "25%           0.000000         0.000000  ...                   0.000000   \n",
       "50%           0.000000         0.000000  ...                   0.000000   \n",
       "75%           0.000000         0.000000  ...                   0.000000   \n",
       "max           1.000000         1.000000  ...                   1.000000   \n",
       "\n",
       "       prime_genre_Productivity  prime_genre_Reference  prime_genre_Shopping  \\\n",
       "count               7197.000000            7197.000000           7197.000000   \n",
       "mean                   0.024733               0.008893              0.016952   \n",
       "std                    0.155320               0.093887              0.129099   \n",
       "min                    0.000000               0.000000              0.000000   \n",
       "25%                    0.000000               0.000000              0.000000   \n",
       "50%                    0.000000               0.000000              0.000000   \n",
       "75%                    0.000000               0.000000              0.000000   \n",
       "max                    1.000000               1.000000              1.000000   \n",
       "\n",
       "       prime_genre_Social Networking  prime_genre_Sports  prime_genre_Travel  \\\n",
       "count                    7197.000000         7197.000000         7197.000000   \n",
       "mean                        0.023204            0.015840            0.011255   \n",
       "std                         0.150562            0.124865            0.105497   \n",
       "min                         0.000000            0.000000            0.000000   \n",
       "25%                         0.000000            0.000000            0.000000   \n",
       "50%                         0.000000            0.000000            0.000000   \n",
       "75%                         0.000000            0.000000            0.000000   \n",
       "max                         1.000000            1.000000            1.000000   \n",
       "\n",
       "       prime_genre_Utilities  prime_genre_Weather  user_rating  \n",
       "count            7197.000000          7197.000000  7197.000000  \n",
       "mean                0.034459             0.010004     3.380992  \n",
       "std                 0.182417             0.099526     1.434571  \n",
       "min                 0.000000             0.000000     0.000000  \n",
       "25%                 0.000000             0.000000     4.000000  \n",
       "50%                 0.000000             0.000000     4.000000  \n",
       "75%                 0.000000             0.000000     4.000000  \n",
       "max                 1.000000             1.000000     5.000000  \n",
       "\n",
       "[8 rows x 36 columns]"
      ]
     },
     "execution_count": 2,
     "metadata": {},
     "output_type": "execute_result"
    }
   ],
   "source": [
    "# Load dataset and set app name as index\n",
    "\n",
    "app = pd.read_csv(\"https://raw.githubusercontent.com/murpi/wilddata/master/quests/AppleStore_prep.csv\", \n",
    "                  index_col=False, sep='\\t', encoding='utf-8')\n",
    "app = app.set_index('track_name')\n",
    "#app.info()\n",
    "app.describe()"
   ]
  },
  {
   "cell_type": "markdown",
   "metadata": {
    "id": "ql36CaO7pRgQ"
   },
   "source": [
    "So **36 columns**, **one of which is the target variable**. We consider the **user rating as our target** and will try to set up a NN that predict the rating from the app characteristics including information on its price, genre, etc.\n",
    "\n",
    "Let's have a quick look at the target variable. Note that we that we have reduced the number of rating classes compared to the original version of the data on Kaggle (see app_store_dpp.py for details).  \n"
   ]
  },
  {
   "cell_type": "code",
   "execution_count": 3,
   "metadata": {
    "colab": {
     "base_uri": "https://localhost:8080/",
     "height": 338
    },
    "id": "M1xsGs-Iul2f",
    "outputId": "af34c029-d7a1-4885-deb6-db3a3edba9f8"
   },
   "outputs": [
    {
     "name": "stderr",
     "output_type": "stream",
     "text": [
      "/home/A19893678/local/miniconda3/lib/python3.8/site-packages/seaborn/_decorators.py:36: FutureWarning: Pass the following variable as a keyword arg: x. From version 0.12, the only valid positional argument will be `data`, and passing other arguments without an explicit keyword will result in an error or misinterpretation.\n",
      "  warnings.warn(\n"
     ]
    },
    {
     "data": {
      "image/png": "[encoded data removed]",
      "text/plain": [
       "<Figure size 432x288 with 1 Axes>"
      ]
     },
     "metadata": {
      "needs_background": "light"
     },
     "output_type": "display_data"
    }
   ],
   "source": [
    "# Inspect the target\n",
    "import seaborn as sns\n",
    "sns.countplot(app.user_rating);"
   ]
  },
  {
   "cell_type": "code",
   "execution_count": 4,
   "metadata": {
    "colab": {
     "base_uri": "https://localhost:8080/"
    },
    "id": "-mjSj4z4y4yt",
    "outputId": "d218c485-e502-4711-e038-eadb1736c209"
   },
   "outputs": [
    {
     "data": {
      "text/plain": [
       "track_name\n",
       "PAC-MAN Premium                                       4.0\n",
       "Evernote - stay organized                             4.0\n",
       "WeatherBug - Local Weather, Radar, Maps, Alerts       4.0\n",
       "eBay: Best App to Buy, Sell, Save! Online Shopping    4.0\n",
       "Bible                                                 4.0\n",
       "                                                     ... \n",
       "Kubik                                                 4.0\n",
       "VR Roller-Coaster                                     4.0\n",
       "Bret Michaels Emojis + Lyric Keyboard                 4.0\n",
       "VR Roller Coaster World - Virtual Reality             4.0\n",
       "Escape the Sweet Shop Series                          5.0\n",
       "Name: user_rating, Length: 7197, dtype: float64"
      ]
     },
     "execution_count": 4,
     "metadata": {},
     "output_type": "execute_result"
    }
   ],
   "source": [
    "app[\"user_rating\"]"
   ]
  },
  {
   "cell_type": "code",
   "execution_count": 5,
   "metadata": {
    "colab": {
     "base_uri": "https://localhost:8080/"
    },
    "id": "udtwVOb_uJGz",
    "outputId": "ff1472a5-afbe-4f13-ec93-2effa54ed56b"
   },
   "outputs": [],
   "source": [
    "# Prepare the target variable\n",
    "# LabelEncoder() transforms a string vector to a num vector\n",
    "encoder = LabelEncoder()\n",
    "#fit label encoder\n",
    "encoder.fit(app[\"user_rating\"])\n",
    "#transform and return encoded labels\n",
    "encoder.transform(app[\"user_rating\"])\n",
    "ord_y=encoder.transform(app[\"user_rating\"])\n",
    "\n"
   ]
  },
  {
   "cell_type": "code",
   "execution_count": 6,
   "metadata": {
    "colab": {
     "base_uri": "https://localhost:8080/"
    },
    "id": "0gqhPUjryQBa",
    "outputId": "365b2026-c767-48b9-fa74-a6b967d35248"
   },
   "outputs": [
    {
     "data": {
      "text/plain": [
       "6"
      ]
     },
     "execution_count": 6,
     "metadata": {},
     "output_type": "execute_result"
    }
   ],
   "source": [
    "dummy_y = np_utils.to_categorical( encoder.transform(app[\"user_rating\"])).astype(int)\n",
    "dummy_y.shape[1]"
   ]
  },
  {
   "cell_type": "code",
   "execution_count": 7,
   "metadata": {},
   "outputs": [
    {
     "data": {
      "text/plain": [
       "array([[1, 1, 1, 1, 1, 0],\n",
       "       [1, 1, 1, 1, 1, 0],\n",
       "       [1, 1, 1, 1, 1, 0],\n",
       "       ...,\n",
       "       [1, 1, 1, 1, 1, 0],\n",
       "       [1, 1, 1, 1, 1, 0],\n",
       "       [1, 1, 1, 1, 1, 1]])"
      ]
     },
     "execution_count": 7,
     "metadata": {},
     "output_type": "execute_result"
    }
   ],
   "source": [
    "import numpy as np\n",
    "\n",
    "def ord_enc(nparr):\n",
    "    for x in nparr:\n",
    "        for i in range(nparr.shape[1]):\n",
    "            if x[-i]==1:\n",
    "                x[-i-1]=1\n",
    "    return(nparr)\n",
    "\n",
    "ord_y=ord_enc(dummy_y.copy())\n",
    "#dummy_y\n",
    "ord_y"
   ]
  },
  {
   "cell_type": "code",
   "execution_count": 10,
   "metadata": {
    "colab": {
     "base_uri": "https://localhost:8080/",
     "height": 335
    },
    "id": "nHgSuOd0uL-6",
    "outputId": "acdc6f04-6fd9-4f30-fae0-f6916715fa3e"
   },
   "outputs": [
    {
     "data": {
      "image/png": "[encoded data removed]",
      "text/plain": [
       "<Figure size 432x288 with 1 Axes>"
      ]
     },
     "metadata": {
      "needs_background": "light"
     },
     "output_type": "display_data"
    },
    {
     "name": "stdout",
     "output_type": "stream",
     "text": [
      "(5037, 35)\n",
      "(5037, 6)\n"
     ]
    },
    {
     "data": {
      "text/plain": [
       "array([[1, 1, 1, 1, 1, 0],\n",
       "       [1, 1, 1, 1, 1, 1],\n",
       "       [1, 1, 1, 1, 1, 0],\n",
       "       ...,\n",
       "       [1, 1, 1, 1, 1, 0],\n",
       "       [1, 1, 1, 1, 1, 0],\n",
       "       [1, 1, 1, 1, 1, 0]])"
      ]
     },
     "execution_count": 10,
     "metadata": {},
     "output_type": "execute_result"
    }
   ],
   "source": [
    "plt.hist(dummy_y.argmax(axis=1))\n",
    "plt.xlabel('user_rating')\n",
    "plt.title('Rating distribution')\n",
    "plt.show();\n",
    "\n",
    "# Let's split our data set\n",
    "\n",
    "#Seed function is used to save the state of a random function, so that it can generate same random numbers on multiple executions of the code on the same machine or on different machines (for a specific seed value)\n",
    "seed=42\n",
    "\n",
    "X = app.iloc[:,:-1].values\n",
    "y = dummy_y.copy()\n",
    "y1 = ord_enc(dummy_y.copy())\n",
    "# Keep in mind that this data set is already standardized, which leads to a leakage of information from train set to test set\n",
    "# When you are working with a dataset, make sure you standardize the variables in test set according to the parameters of the train set\n",
    "X_train, X_test, y_train, y_test = train_test_split(X, y, test_size=0.30, random_state=seed)\n",
    "X1_train, X1_test, y1_train, y1_test = train_test_split(X, ord_y, test_size=0.30, random_state=seed)\n",
    "    \n",
    "print (X_train.shape)\n",
    "print(y_train.shape) \n",
    "y1_train\n"
   ]
  },
  {
   "cell_type": "code",
   "execution_count": null,
   "metadata": {},
   "outputs": [],
   "source": [
    "\n"
   ]
  },
  {
   "cell_type": "markdown",
   "metadata": {
    "id": "RPbvIyftkUX4"
   },
   "source": [
    "### Preparing the Keras framework ###\n",
    "\n",
    "Today we will revise the architecture of our basic neural network and look more into the tuning of hyperparameters.\n",
    "\n"
   ]
  },
  {
   "cell_type": "code",
   "execution_count": 11,
   "metadata": {
    "id": "5apgYIjmpbWd"
   },
   "outputs": [],
   "source": [
    "nb_units = 128\n",
    "# And finally the outout layer\n",
    "nb_classes = y.shape[1]"
   ]
  },
  {
   "cell_type": "code",
   "execution_count": 12,
   "metadata": {
    "colab": {
     "base_uri": "https://localhost:8080/"
    },
    "id": "yNasuGt_kUYJ",
    "outputId": "08ba1320-7c33-434e-fc35-b722240afd39"
   },
   "outputs": [
    {
     "name": "stdout",
     "output_type": "stream",
     "text": [
      "Model: \"sequential_1\"\n",
      "_________________________________________________________________\n",
      "Layer (type)                 Output Shape              Param #   \n",
      "=================================================================\n",
      "dense (Dense)                (None, 128)               4608      \n",
      "_________________________________________________________________\n",
      "dense_1 (Dense)              (None, 128)               16512     \n",
      "_________________________________________________________________\n",
      "dense_2 (Dense)              (None, 6)                 774       \n",
      "=================================================================\n",
      "Total params: 21,894\n",
      "Trainable params: 21,894\n",
      "Non-trainable params: 0\n",
      "_________________________________________________________________\n"
     ]
    }
   ],
   "source": [
    "# Import Keras\n",
    "import keras\n",
    "from keras.models import Sequential\n",
    "from keras.layers import Dense, Dropout\n",
    "from keras.optimizers import SGD\n",
    "\n",
    "\n",
    "model = Sequential()\n",
    "model.add(Dense(nb_units, activation='relu',bias_initializer='zeros',kernel_initializer=keras.initializers.he_normal(seed=seed), input_shape=(X.shape[1],)))\n",
    "#model.add(Dropout(0.1))\n",
    "model.add(Dense(nb_units, activation='relu',bias_initializer='zeros',kernel_initializer=keras.initializers.he_normal(seed=seed)))\n",
    "#model.add(Dropout(0.1))\n",
    "#model.add(Dense(nb_classes, activation='softmax'))\n",
    "model.add(Dense(nb_classes, activation='softmax'))\n",
    "model.summary()\n",
    "\n",
    "batch_size = 56 #1 for online SGD\n",
    "\n",
    "# example: start tarining the model up until 30 epochs and plot the training loss values and validation loss values against number of epochs.\n",
    "epochs = 30\n",
    "\n",
    "\n",
    "model.compile(loss='categorical_crossentropy', optimizer=SGD(lr=0.01), metrics=['accuracy'])\n",
    "# Fit the model\n",
    "story = model.fit(X_train, y_train, #name model differently\n",
    "                    batch_size=batch_size,\n",
    "                    epochs=epochs,\n",
    "                    verbose=0,\n",
    "                 validation_data=(X_test, y_test))\n",
    "                    #validation_split=0.33)#validation_data=(X_test, y_test)\n"
   ]
  },
  {
   "cell_type": "code",
   "execution_count": 13,
   "metadata": {
    "id": "mXIb7e7trdMZ"
   },
   "outputs": [],
   "source": [
    "def show_history(story):\n",
    "    fig, (ax1, ax2) = plt.subplots(1, 2)\n",
    "    fig.set_size_inches(18.5, 10.5)\n",
    "    ax1.plot(story.history['accuracy'])\n",
    "    ax1.plot(story.history['val_accuracy'])\n",
    "    ax1.set(xlabel='epoch', ylabel='accuracy')\n",
    "    ax1.legend(['train_accuracy', 'test_accuracy'], loc='best')\n",
    "    ax1.set_title('Accuracy evolution during NN training')\n",
    "    \n",
    "    ax2.plot(story.history['loss'])\n",
    "    ax2.plot(story.history['val_loss'])\n",
    "    ax2.set(xlabel='epoch', ylabel='loss')\n",
    "    ax2.legend(['train_loss', 'test_loss'], loc='best')\n",
    "    ax2.set_title('Loss evolution during NN training')\n",
    "    plt.show()\n"
   ]
  },
  {
   "cell_type": "code",
   "execution_count": 12,
   "metadata": {
    "id": "BSgAMh3irg0j"
   },
   "outputs": [],
   "source": [
    "score = model.evaluate(X_test, y_test, verbose=0)"
   ]
  },
  {
   "cell_type": "code",
   "execution_count": 13,
   "metadata": {
    "colab": {
     "base_uri": "https://localhost:8080/",
     "height": 687
    },
    "id": "eEi8cZ9okUYJ",
    "outputId": "f3f4d79e-bd6c-462c-acdb-f2b00bdb5326"
   },
   "outputs": [
    {
     "name": "stdout",
     "output_type": "stream",
     "text": [
      "Test loss: 0.9554803967475891\n",
      "Test accuracy: 0.7037037014961243\n"
     ]
    },
    {
     "data": {
      "image/png": "[encoded data removed]",
      "text/plain": [
       "<Figure size 1332x756 with 2 Axes>"
      ]
     },
     "metadata": {
      "needs_background": "light"
     },
     "output_type": "display_data"
    }
   ],
   "source": [
    "print('Test loss:', score[0])\n",
    "print('Test accuracy:', score[1])\n",
    "show_history(story)\n",
    "del score,story"
   ]
  },
  {
   "cell_type": "markdown",
   "metadata": {
    "id": "dF8LJRKGHI9X"
   },
   "source": [
    "# Part 1: Hyperparameter optimization with Keras\n",
    "\n",
    "\n",
    "\n"
   ]
  },
  {
   "cell_type": "markdown",
   "metadata": {
    "id": "b_9zHdu2s7SY"
   },
   "source": [
    "We will start with the old-fashioned way with Scikit Learn and will first show you an example of how to use GridSearch with two groups of hyperparameters: batches/epochs and optimizer algorithms. "
   ]
  },
  {
   "cell_type": "code",
   "execution_count": 107,
   "metadata": {
    "id": "WP2VLXgBHBIv"
   },
   "outputs": [],
   "source": [
    "import keras\n",
    "import pandas as pd\n",
    "import numpy as np\n",
    "from sklearn.model_selection import GridSearchCV\n",
    "\n",
    "from keras.models import Sequential\n",
    "from keras.layers import Dense, Dropout\n",
    "from keras.wrappers.scikit_learn import KerasClassifier\n",
    "from keras import optimizers"
   ]
  },
  {
   "cell_type": "code",
   "execution_count": 15,
   "metadata": {
    "id": "tAobOLKBIQAo"
   },
   "outputs": [],
   "source": [
    "#We will use the architecture we had before and wrap it into the function called 'netowork ' (or whatever you want to call it)\n",
    "\n",
    "def network():\n",
    "    \n",
    "    model = Sequential()\n",
    "    model.add(Dense(128, activation='relu',bias_initializer='zeros',kernel_initializer=keras.initializers.he_normal(seed=seed),  input_shape=(X.shape[1],)))\n",
    "    model.add(Dense(128, activation='relu',bias_initializer='zeros',kernel_initializer=keras.initializers.he_normal(seed=seed)))\n",
    "    model.add(Dense(6, activation='softmax',kernel_initializer=keras.initializers.he_normal(seed=seed)))\n",
    "    \n",
    "    model.compile(optimizer=optimizers.SGD(lr=0.01), loss='categorical_crossentropy', metrics=['accuracy']) #nothing changes here\n",
    "\n",
    "    return model\n",
    "\n",
    "# Now we will plug it into Keras Classifier Wrapper \n",
    "model = KerasClassifier(build_fn=network, verbose=0)"
   ]
  },
  {
   "cell_type": "code",
   "execution_count": 16,
   "metadata": {
    "id": "TS2OR5Y7JSQ_"
   },
   "outputs": [],
   "source": [
    "# Let's define the grid search parameters\n",
    "batchsize = [32, 64, 128, 256, 512]\n",
    "epochs = [10,30,60,70]"
   ]
  },
  {
   "cell_type": "code",
   "execution_count": 17,
   "metadata": {
    "colab": {
     "base_uri": "https://localhost:8080/"
    },
    "id": "PMUT_gWNJ0I4",
    "outputId": "4fc01297-4e11-4184-f118-9b364227124f"
   },
   "outputs": [
    {
     "data": {
      "text/plain": [
       "{'batch_size': [32, 64, 128, 256, 512], 'epochs': [10, 30, 60, 70]}"
      ]
     },
     "execution_count": 17,
     "metadata": {},
     "output_type": "execute_result"
    }
   ],
   "source": [
    "#Set the grid\n",
    "param_grid = dict(batch_size=batchsize, epochs=epochs)# setting a dictionary to store the results\n",
    "param_grid "
   ]
  },
  {
   "cell_type": "code",
   "execution_count": 18,
   "metadata": {
    "colab": {
     "base_uri": "https://localhost:8080/"
    },
    "id": "FXythoaQJ6De",
    "outputId": "51c2a73b-52fc-40aa-8add-4378e6abd609"
   },
   "outputs": [
    {
     "name": "stdout",
     "output_type": "stream",
     "text": [
      "Best: 0.710145 using {'batch_size': 32, 'epochs': 70}\n",
      "CPU times: user 8.58 s, sys: 412 ms, total: 8.99 s\n",
      "Wall time: 1min 22s\n"
     ]
    }
   ],
   "source": [
    "%%time\n",
    "grid = GridSearchCV(estimator=model, param_grid=param_grid, n_jobs=-1,cv=3) #parallelization, here using all processors\n",
    "results = grid.fit(X_train, y_train) #remember that we don't want to use the test set in CV\n",
    "print(\"Best: %f using %s\" % (results.best_score_, results.best_params_))"
   ]
  },
  {
   "cell_type": "code",
   "execution_count": 19,
   "metadata": {
    "colab": {
     "base_uri": "https://localhost:8080/"
    },
    "id": "GO9mlGfkJ534",
    "outputId": "c6c35669-9d43-4a80-cd97-d63311dab7f4"
   },
   "outputs": [
    {
     "name": "stdout",
     "output_type": "stream",
     "text": [
      "Best: 0.709946 using {'optimizer': 'Adamax'}\n",
      "CPU times: user 2.62 s, sys: 122 ms, total: 2.75 s\n",
      "Wall time: 25.6 s\n"
     ]
    }
   ],
   "source": [
    "%%time\n",
    "#Let's now take this knowledge and apply it to our optimizers tuning\n",
    "\n",
    "def optim (optimizer='SGD'):\n",
    "    model = Sequential()\n",
    "    model.add(Dense(128, activation='relu',bias_initializer='zeros',kernel_initializer=keras.initializers.he_normal(seed=seed),  input_shape=(X.shape[1],)))\n",
    "  \n",
    "    model.add(Dense(128, activation='relu',bias_initializer='zeros',kernel_initializer=keras.initializers.he_normal(seed=seed)))\n",
    " \n",
    "    model.add(Dense(6, activation='softmax',kernel_initializer=keras.initializers.he_normal(seed=seed)))\n",
    "    \n",
    "    model.compile(optimizer=optimizer, loss='categorical_crossentropy', metrics=['accuracy']) \n",
    "    \n",
    "    return model\n",
    "\n",
    "model = KerasClassifier(build_fn=optim, epochs=30, batch_size=64, verbose=0)\n",
    "# define the grid search parameters\n",
    "optimizers = ['SGD', 'RMSprop', 'Adagrad', 'Adadelta', 'Adam', 'Adamax', 'Nadam']\n",
    "param_grid = dict(optimizer=optimizers) # setting a dictionary to store the results\n",
    "grid = GridSearchCV(estimator=model, param_grid=param_grid, n_jobs=-1, cv=3)\n",
    "results = grid.fit(X_train, y_train)\n",
    "\n",
    "# Our results (reember these are the resultson the hold-out data)\n",
    "print(\"Best: %f using %s\" % (results.best_score_, results.best_params_))"
   ]
  },
  {
   "cell_type": "code",
   "execution_count": 20,
   "metadata": {},
   "outputs": [
    {
     "name": "stdout",
     "output_type": "stream",
     "text": [
      "Best: 0.708755 using {'optimizer': 'Nadam'}\n",
      "CPU times: user 3.41 s, sys: 85.6 ms, total: 3.5 s\n",
      "Wall time: 27.2 s\n"
     ]
    }
   ],
   "source": [
    "%%time\n",
    "#Let's now take this knowledge and apply it to our optimizers tuning\n",
    "\n",
    "def optim (optimizer='SGD'):\n",
    "    model = Sequential()\n",
    "    model.add(Dense(128, activation='relu',bias_initializer='zeros',kernel_initializer=keras.initializers.he_normal(seed=seed),  input_shape=(X.shape[1],)))\n",
    "  \n",
    "    model.add(Dense(128, activation='relu',bias_initializer='zeros',kernel_initializer=keras.initializers.he_normal(seed=seed)))\n",
    " \n",
    "    model.add(Dense(6, activation='sigmoid',kernel_initializer=keras.initializers.he_normal(seed=seed)))\n",
    "    \n",
    "    model.compile(optimizer=optimizer, loss='categorical_crossentropy', metrics=['accuracy']) \n",
    "    \n",
    "    return model\n",
    "\n",
    "model = KerasClassifier(build_fn=optim, epochs=30, batch_size=64, verbose=0)\n",
    "# define the grid search parameters\n",
    "optimizers = ['SGD', 'RMSprop', 'Adagrad', 'Adadelta', 'Adam', 'Adamax', 'Nadam']\n",
    "param_grid = dict(optimizer=optimizers) # setting a dictionary to store the results\n",
    "grid = GridSearchCV(estimator=model, param_grid=param_grid, n_jobs=-1, cv=3)\n",
    "results = grid.fit(X_train, y_train)\n",
    "\n",
    "# Our results (reember these are the resultson the hold-out data)\n",
    "print(\"Best: %f using %s\" % (results.best_score_, results.best_params_))"
   ]
  },
  {
   "cell_type": "markdown",
   "metadata": {
    "id": "8r1N0u9csthl"
   },
   "source": [
    "Now continue using Grid Search to tune the Learning Rate and Momentum:"
   ]
  },
  {
   "cell_type": "code",
   "execution_count": 21,
   "metadata": {
    "id": "4s3A7r_8tSY2"
   },
   "outputs": [
    {
     "name": "stdout",
     "output_type": "stream",
     "text": [
      "Best: 0.709152 using {'lr': 0.1, 'momentum': 0.01}\n",
      "CPU times: user 2.38 s, sys: 95 ms, total: 2.48 s\n",
      "Wall time: 51.4 s\n"
     ]
    }
   ],
   "source": [
    "%%time\n",
    "from keras.optimizers import Adamax\n",
    "lrates=[0.0001,0.001,0.01,0.1]\n",
    "moms=[0.0001,0.001,0.01,0.1]\n",
    "def optimize_lr_mom(lr=0.01, momentum=0):\n",
    "    model = Sequential()\n",
    "    model.add(Dense(128, activation='relu',bias_initializer='zeros',kernel_initializer=keras.initializers.he_normal(seed=seed),  input_shape=(X.shape[1],)))\n",
    "    model.add(Dense(128, activation='relu',bias_initializer='zeros',kernel_initializer=keras.initializers.he_normal(seed=seed)))\n",
    "    model.add(Dense(6, activation='softmax',kernel_initializer=keras.initializers.he_normal(seed=seed)))\n",
    "    optimizer=SGD(lr=lr,momentum=momentum)\n",
    "    model.compile(optimizer=optimizer, loss='categorical_crossentropy', metrics=['accuracy'])\n",
    "    return model\n",
    "param_grid1 = dict(lr=lrates, momentum=moms)\n",
    "model1 = KerasClassifier(build_fn=optimize_lr_mom, epochs=30, batch_size=64, verbose=0)\n",
    "grid1 = GridSearchCV(estimator=model1, param_grid=param_grid1, n_jobs=-1, cv=3)\n",
    "results1 = grid1.fit(X_train, y_train)\n",
    "print(\"Best: %f using %s\" % (results1.best_score_, results1.best_params_))\n"
   ]
  },
  {
   "cell_type": "markdown",
   "metadata": {
    "id": "M6c5zdwjtTUZ"
   },
   "source": [
    "Use Grid Search to tune the Network Weight Initialization:"
   ]
  },
  {
   "cell_type": "code",
   "execution_count": 39,
   "metadata": {
    "id": "OQUvS5fPtYHb"
   },
   "outputs": [
    {
     "name": "stdout",
     "output_type": "stream",
     "text": [
      "Best: 0.714116 using {'inits': 'glorot_uniform'}\n",
      "CPU times: user 2.46 s, sys: 110 ms, total: 2.57 s\n",
      "Wall time: 27.4 s\n"
     ]
    }
   ],
   "source": [
    "%%time\n",
    "from keras import initializers\n",
    "from keras.optimizers import Adamax,Adam\n",
    "inits = ['uniform', 'lecun_uniform', 'normal', 'zero', 'glorot_normal', 'glorot_uniform', 'he_normal', 'he_uniform']\n",
    "def optimize_inits(inits='he_normal'):\n",
    "    model = Sequential()\n",
    "    model.add(Dense(128, activation='relu',bias_initializer='zeros',kernel_initializer=inits,  input_shape=(X.shape[1],)))\n",
    "    model.add(Dense(128, activation='relu',bias_initializer='zeros',kernel_initializer=inits))\n",
    "    model.add(Dense(6, activation='softmax'))\n",
    "    model.compile(optimizer=Adamax(), loss='categorical_crossentropy', metrics=['accuracy'])\n",
    "    return model\n",
    "param_grid2 = dict(inits=inits)\n",
    "model2 = KerasClassifier(build_fn=optimize_inits, epochs=30, batch_size=64, verbose=0)\n",
    "grid2 = GridSearchCV(estimator=model2, param_grid=param_grid2, n_jobs=-1, cv=3)\n",
    "results2 = grid2.fit(X_train, y_train)\n",
    "print(\"Best: %f using %s\" % (results2.best_score_, results2.best_params_))\n"
   ]
  },
  {
   "cell_type": "markdown",
   "metadata": {
    "id": "3uN20jRXtY22"
   },
   "source": [
    "Use Grid Search to tune the Neuron Activation Function\n"
   ]
  },
  {
   "cell_type": "code",
   "execution_count": 38,
   "metadata": {
    "id": "Ivuj4K3stedu"
   },
   "outputs": [
    {
     "name": "stdout",
     "output_type": "stream",
     "text": [
      "Best: 0.712130 using {'acts': 'relu'}\n",
      "CPU times: user 2.62 s, sys: 122 ms, total: 2.75 s\n",
      "Wall time: 12.2 s\n"
     ]
    }
   ],
   "source": [
    "%%time\n",
    "from keras import initializers\n",
    "acts=['tanh','relu','sigmoid']\n",
    "def optimize_acts(acts='relu'):\n",
    "    model = Sequential()\n",
    "    model.add(Dense(128, activation=acts,bias_initializer='zeros',kernel_initializer='uniform',  input_shape=(X.shape[1],)))\n",
    "    model.add(Dense(128, activation=acts,bias_initializer='zeros',kernel_initializer='uniform'))\n",
    "    model.add(Dense(6, activation='softmax'))\n",
    "    model.compile(optimizer=Adamax(), loss='categorical_crossentropy', metrics=['accuracy'])\n",
    "    return model\n",
    "param_grid3 = dict(acts=acts)\n",
    "model3 = KerasClassifier(build_fn=optimize_acts, epochs=30, batch_size=64, verbose=0)\n",
    "grid3 = GridSearchCV(estimator=model3, param_grid=param_grid3, n_jobs=-1, cv=3)\n",
    "results3 = grid3.fit(X_train, y_train)\n",
    "print(\"Best: %f using %s\" % (results3.best_score_, results3.best_params_))"
   ]
  },
  {
   "cell_type": "markdown",
   "metadata": {
    "id": "llyr5gextgZa"
   },
   "source": [
    "Use Grid Search to tune Dropout Regularization"
   ]
  },
  {
   "cell_type": "code",
   "execution_count": 48,
   "metadata": {
    "id": "ojFGBhT5tf7Q"
   },
   "outputs": [
    {
     "name": "stdout",
     "output_type": "stream",
     "text": [
      "Best: 0.711932 using {'drops': 0.1}\n",
      "CPU times: user 3.04 s, sys: 104 ms, total: 3.14 s\n",
      "Wall time: 15.8 s\n"
     ]
    }
   ],
   "source": [
    "%%time\n",
    "from keras import initializers\n",
    "drops=[0,.1,.5]\n",
    "def optimize_dropo(drops=0):\n",
    "    model = Sequential()\n",
    "    model.add(Dense(128, activation='relu',bias_initializer='zeros',kernel_initializer='uniform',  input_shape=(X.shape[1],)))\n",
    "    model.add(Dropout(drops))\n",
    "    model.add(Dense(128, activation='relu',bias_initializer='zeros',kernel_initializer='uniform'))\n",
    "    model.add(Dropout(drops))\n",
    "    model.add(Dense(6, activation='softmax'))\n",
    "    model.compile(optimizer=Adamax(), loss='categorical_crossentropy', metrics=['accuracy'])\n",
    "    return model\n",
    "param_grid4 = dict(drops=drops)\n",
    "model4 = KerasClassifier(build_fn=optimize_dropo, epochs=30, batch_size=64, verbose=0)\n",
    "grid4 = GridSearchCV(estimator=model4, param_grid=param_grid4, n_jobs=-1, cv=3)\n",
    "results4 = grid4.fit(X_train, y_train)\n",
    "print(\"Best: %f using %s\" % (results4.best_score_, results4.best_params_))"
   ]
  },
  {
   "cell_type": "markdown",
   "metadata": {
    "id": "bNmvCdsAtkld"
   },
   "source": [
    "Use Grid Search to tune the Number of Neurons in the Hidden Layer"
   ]
  },
  {
   "cell_type": "code",
   "execution_count": 108,
   "metadata": {
    "id": "JX2FpNJ6tqAc"
   },
   "outputs": [
    {
     "name": "stdout",
     "output_type": "stream",
     "text": [
      "Best: 0.717093 using {'neurons': 96}\n",
      "CPU times: user 7.92 s, sys: 436 ms, total: 8.36 s\n",
      "Wall time: 1min 52s\n"
     ]
    }
   ],
   "source": [
    "%%time\n",
    "neurons=list(range(32,257,32))\n",
    "def optimize_neurons(neurons=32):\n",
    "    model = Sequential()\n",
    "    model.add(Dense(neurons, activation='relu',bias_initializer='zeros',kernel_initializer='uniform',  input_shape=(X.shape[1],)))\n",
    "    model.add(Dropout(.5))\n",
    "    model.add(Dense(neurons, activation='relu',bias_initializer='zeros',kernel_initializer='uniform'))\n",
    "    model.add(Dropout(.5))\n",
    "    model.add(Dense(6, activation='softmax'))\n",
    "    model.compile(optimizer=Adamax(), loss='categorical_crossentropy', metrics=['accuracy'])\n",
    "    return model\n",
    "param_grid5 = dict(neurons=neurons)\n",
    "model5 = KerasClassifier(build_fn=optimize_neurons, epochs=100, batch_size=64, verbose=0)\n",
    "grid5 = GridSearchCV(estimator=model5, param_grid=param_grid5, n_jobs=-1, cv=3)\n",
    "results5 = grid5.fit(X_train, y_train)\n",
    "print(\"Best: %f using %s\" % (results5.best_score_, results5.best_params_))"
   ]
  },
  {
   "cell_type": "code",
   "execution_count": 131,
   "metadata": {},
   "outputs": [
    {
     "data": {
      "text/plain": [
       "2160"
      ]
     },
     "execution_count": 131,
     "metadata": {},
     "output_type": "execute_result"
    }
   ],
   "source": [
    "preds5=results5.predict(X_test)\n",
    "\n",
    "len(preds5)"
   ]
  },
  {
   "cell_type": "code",
   "execution_count": null,
   "metadata": {},
   "outputs": [],
   "source": [
    "print(y_test.shape,preds5.shape)\n",
    "\n",
    "obs=[]\n",
    "for r in y_test:\n",
    "    for i,x in enumerate(r):\n",
    "        if x==1:\n",
    "            obs.append(i)\n",
    "obs"
   ]
  },
  {
   "cell_type": "code",
   "execution_count": 142,
   "metadata": {},
   "outputs": [
    {
     "data": {
      "image/png": "[encoded data removed]",
      "text/plain": [
       "<Figure size 720x720 with 2 Axes>"
      ]
     },
     "metadata": {
      "needs_background": "light"
     },
     "output_type": "display_data"
    }
   ],
   "source": [
    "#preds5=results5.best_estimator_.predict(X_test)\n",
    "\n",
    "from sklearn.metrics import confusion_matrix\n",
    "#yhat=net.predict_classes(X_test)\n",
    "cm=confusion_matrix(obs,preds5)\n",
    "class_names=list(range(6))\n",
    "import seaborn as sn\n",
    "import pandas as pd\n",
    "\n",
    "\n",
    "df_cm = pd.DataFrame(cm, class_names, class_names)\n",
    "plt.figure(figsize=(10,10))\n",
    "sn.set(font_scale=.8) # for label size\n",
    "sn.heatmap(df_cm, annot=True,cmap='Blues',fmt='g') # font size\n",
    "\n",
    "plt.show()"
   ]
  },
  {
   "cell_type": "markdown",
   "metadata": {
    "id": "wtR-pZ8Wtsq-"
   },
   "source": [
    "# Part 2:  Keras Tuner"
   ]
  },
  {
   "cell_type": "code",
   "execution_count": 23,
   "metadata": {
    "id": "ZCGhRmt6uMzc"
   },
   "outputs": [],
   "source": [
    "from kerastuner import HyperModel\n"
   ]
  },
  {
   "cell_type": "code",
   "execution_count": 22,
   "metadata": {
    "id": "iSffBvDtt0m7"
   },
   "outputs": [],
   "source": [
    "from tensorflow import keras\n",
    "from tensorflow.keras import layers\n",
    "from kerastuner.tuners import RandomSearch"
   ]
  },
  {
   "cell_type": "markdown",
   "metadata": {
    "id": "Zp0n38lIue0U"
   },
   "source": [
    "Read through the Keras Tuner Documentation and build a RandomSearch. This hyperparameter tuning method randomly tries a combination of hyperparameters from a given search space. To use this method in keras tuner, first define a tuner using one of the available [Tuners](https://keras-team.github.io/keras-tuner/documentation/tuners/).\n"
   ]
  },
  {
   "cell_type": "code",
   "execution_count": 29,
   "metadata": {
    "id": "sgV8Ve3WvBQ-"
   },
   "outputs": [],
   "source": [
    "from kerastuner import HyperModel\n",
    "from keras.optimizers import Adamax,SGD,Adam\n",
    "class ClassificationHyperModel(HyperModel):\n",
    "    def __init__(self, input_shape):\n",
    "        self.input_shape = input_shape\n",
    "    def build(self, hp):\n",
    "        model = Sequential()\n",
    "        model.add(\n",
    "            layers.Dense(\n",
    "                units=hp.Int('units', 64, 257, 32, default=128),\n",
    "                activation=hp.Choice(\n",
    "                    'dense_activation',\n",
    "                    values=['relu', 'tanh', 'sigmoid'],\n",
    "                    default='relu'),\n",
    "                input_shape=input_shape\n",
    "            )\n",
    "        )\n",
    "        \n",
    "        model.add(\n",
    "            layers.Dense(\n",
    "                units=hp.Int('units', 64, 257, 32, default=128),\n",
    "                activation=hp.Choice(\n",
    "                    'dense_activation',\n",
    "                    values=['relu', 'tanh', 'sigmoid'],\n",
    "                    default='relu')\n",
    "            )\n",
    "        )\n",
    "        \n",
    "        model.add(\n",
    "            layers.Dropout(\n",
    "                hp.Float(\n",
    "                    'dropout',\n",
    "                    min_value=0.1,\n",
    "                    max_value=0.5,\n",
    "                    default=0.005,\n",
    "                    step=0.05)\n",
    "            )\n",
    "        )\n",
    "        \n",
    "        model.add(layers.Dense(6, activation='softmax'))\n",
    "        \n",
    "        model.compile(\n",
    "            optimizer=Adamax(),loss='categorical_crossentropy',metrics=['accuracy']\n",
    "        )\n",
    "        \n",
    "        return model"
   ]
  },
  {
   "cell_type": "code",
   "execution_count": 30,
   "metadata": {},
   "outputs": [],
   "source": [
    "input_shape = (X_train.shape[1],)\n",
    "hypermodel = ClassificationHyperModel(input_shape)"
   ]
  },
  {
   "cell_type": "code",
   "execution_count": 31,
   "metadata": {},
   "outputs": [
    {
     "data": {
      "text/plain": [
       "'\\ny1_train=y1_train.reshape(5037,1)\\ny1_test=y1_test.reshape(y1_test.shape[0],1)\\ny1_train.shape\\n'"
      ]
     },
     "execution_count": 31,
     "metadata": {},
     "output_type": "execute_result"
    }
   ],
   "source": [
    "'''\n",
    "y1_train=y1_train.reshape(5037,1)\n",
    "y1_test=y1_test.reshape(y1_test.shape[0],1)\n",
    "y1_train.shape\n",
    "'''"
   ]
  },
  {
   "cell_type": "code",
   "execution_count": 32,
   "metadata": {},
   "outputs": [
    {
     "name": "stdout",
     "output_type": "stream",
     "text": [
      "INFO:tensorflow:Reloading Oracle from existing project ./untitled_project/oracle.json\n",
      "WARNING:tensorflow:Unresolved object in checkpoint: (root).optimizer.iter\n",
      "WARNING:tensorflow:Unresolved object in checkpoint: (root).optimizer.beta_1\n",
      "WARNING:tensorflow:Unresolved object in checkpoint: (root).optimizer.beta_2\n",
      "WARNING:tensorflow:Unresolved object in checkpoint: (root).optimizer.decay\n",
      "WARNING:tensorflow:Unresolved object in checkpoint: (root).optimizer.learning_rate\n",
      "WARNING:tensorflow:A checkpoint was restored (e.g. tf.train.Checkpoint.restore or tf.keras.Model.load_weights) but not all checkpointed values were used. See above for specific issues. Use expect_partial() on the load status object, e.g. tf.train.Checkpoint.restore(...).expect_partial(), to silence these warnings, or use assert_consumed() to make the check explicit. See https://www.tensorflow.org/guide/checkpoint#loading_mechanics for details.\n",
      "INFO:tensorflow:Reloading Tuner from ./untitled_project/tuner0.json\n",
      "INFO:tensorflow:Oracle triggered exit\n",
      "68/68 [==============================] - 0s 542us/step - loss: 0.9882 - accuracy: 0.6968\n",
      "Model: \"sequential\"\n",
      "_________________________________________________________________\n",
      "Layer (type)                 Output Shape              Param #   \n",
      "=================================================================\n",
      "dense (Dense)                (None, 80)                2880      \n",
      "_________________________________________________________________\n",
      "dense_1 (Dense)              (None, 80)                6480      \n",
      "_________________________________________________________________\n",
      "dropout (Dropout)            (None, 80)                0         \n",
      "_________________________________________________________________\n",
      "dense_2 (Dense)              (None, 6)                 486       \n",
      "=================================================================\n",
      "Total params: 9,846\n",
      "Trainable params: 9,846\n",
      "Non-trainable params: 0\n",
      "_________________________________________________________________\n",
      "CPU times: user 465 ms, sys: 8.56 ms, total: 474 ms\n",
      "Wall time: 465 ms\n"
     ]
    }
   ],
   "source": [
    "%%time\n",
    "try:\n",
    "    del tuner_rs\n",
    "except:\n",
    "    pass\n",
    "tuner_rs = RandomSearch(\n",
    "            hypermodel,\n",
    "            objective='val_accuracy',\n",
    "            seed=42,\n",
    "            max_trials=10,\n",
    "            executions_per_trial=2)\n",
    "#tuner_rs.search(X_train, y_train, epochs=10, validation_split=0.2, verbose=0)\n",
    "tuner_rs.search(X_train,y_train,epochs=5,validation_data=(X_test,y_test))\n",
    "best_model = tuner_rs.get_best_models(num_models=1)[0]\n",
    "best_model.evaluate(X_test, y_test)\n",
    "best_model.summary()\n",
    "#best_model.best_params()"
   ]
  },
  {
   "cell_type": "code",
   "execution_count": 33,
   "metadata": {},
   "outputs": [
    {
     "name": "stdout",
     "output_type": "stream",
     "text": [
      "68/68 [==============================] - 0s 556us/step - loss: 0.9882 - accuracy: 0.6968\n"
     ]
    },
    {
     "data": {
      "text/plain": [
       "[0.9881830215454102, 0.6967592835426331]"
      ]
     },
     "execution_count": 33,
     "metadata": {},
     "output_type": "execute_result"
    }
   ],
   "source": [
    "best_model.evaluate(X_test,y_test)"
   ]
  },
  {
   "cell_type": "code",
   "execution_count": 67,
   "metadata": {},
   "outputs": [],
   "source": [
    "class RegressionHyperModel(HyperModel):\n",
    "    def __init__(self, input_shape):\n",
    "        self.input_shape = input_shape\n",
    "    def build(self, hp):\n",
    "        model = Sequential()\n",
    "        model.add(\n",
    "            layers.Dense(\n",
    "                units=hp.Int('units', 16, 156, 32, default=16),\n",
    "                activation=hp.Choice(\n",
    "                    'dense_activation',\n",
    "                    values=['relu', 'tanh', 'sigmoid'],\n",
    "                    default='relu'),\n",
    "                input_shape=self.input_shape\n",
    "            )\n",
    "        )\n",
    "        \n",
    "        model.add(\n",
    "            layers.Dense(\n",
    "                units=hp.Int('units',16, 156, 32, default=16),\n",
    "                activation=hp.Choice(\n",
    "                    'dense_activation',\n",
    "                    values=['relu', 'tanh', 'sigmoid'],\n",
    "                    default='relu')\n",
    "            )\n",
    "        )\n",
    "        \n",
    "        model.add(\n",
    "            layers.Dropout(\n",
    "                hp.Float(\n",
    "                    'dropout',\n",
    "                    min_value=0.1,\n",
    "                    max_value=0.5,\n",
    "                    default=0.005,\n",
    "                    step=0.05)\n",
    "            )\n",
    "        )\n",
    "        \n",
    "        model.add(layers.Dense(1,activation='sigmoid'))\n",
    "        \n",
    "        model.compile(\n",
    "            optimizer='rmsprop',loss='mse',metrics=['mse']\n",
    "        )\n",
    "        \n",
    "        return model"
   ]
  },
  {
   "cell_type": "code",
   "execution_count": 68,
   "metadata": {},
   "outputs": [],
   "source": [
    "try: \n",
    "    del hypermodel1\n",
    "    del tuner_rs2\n",
    "except:pass\n",
    "input_shape = (X1_train.shape[1],)\n",
    "\n",
    "hypermodel1 = RegressionHyperModel(input_shape)"
   ]
  },
  {
   "cell_type": "code",
   "execution_count": 69,
   "metadata": {},
   "outputs": [
    {
     "data": {
      "text/plain": [
       "(5037, 1)"
      ]
     },
     "execution_count": 69,
     "metadata": {},
     "output_type": "execute_result"
    }
   ],
   "source": [
    "y1_train.shape\n",
    "\n",
    "#y1_test.shape"
   ]
  },
  {
   "cell_type": "code",
   "execution_count": 70,
   "metadata": {},
   "outputs": [
    {
     "name": "stdout",
     "output_type": "stream",
     "text": [
      "INFO:tensorflow:Reloading Oracle from existing project ./untitled_project/oracle.json\n",
      "INFO:tensorflow:Reloading Tuner from ./untitled_project/tuner0.json\n",
      "INFO:tensorflow:Oracle triggered exit\n",
      "WARNING:tensorflow:Unresolved object in checkpoint: (root).optimizer.iter\n",
      "WARNING:tensorflow:Unresolved object in checkpoint: (root).optimizer.beta_1\n",
      "WARNING:tensorflow:Unresolved object in checkpoint: (root).optimizer.beta_2\n",
      "WARNING:tensorflow:Unresolved object in checkpoint: (root).optimizer.decay\n",
      "WARNING:tensorflow:Unresolved object in checkpoint: (root).optimizer.learning_rate\n",
      "WARNING:tensorflow:A checkpoint was restored (e.g. tf.train.Checkpoint.restore or tf.keras.Model.load_weights) but not all checkpointed values were used. See above for specific issues. Use expect_partial() on the load status object, e.g. tf.train.Checkpoint.restore(...).expect_partial(), to silence these warnings, or use assert_consumed() to make the check explicit. See https://www.tensorflow.org/guide/checkpoint#loading_mechanics for details.\n"
     ]
    },
    {
     "ename": "ValueError",
     "evalue": "Shapes (1,) and (6,) are incompatible",
     "output_type": "error",
     "traceback": [
      "\u001b[0;31m---------------------------------------------------------------------------\u001b[0m",
      "\u001b[0;31mValueError\u001b[0m                                Traceback (most recent call last)",
      "\u001b[0;32m<timed exec>\u001b[0m in \u001b[0;36m<module>\u001b[0;34m\u001b[0m\n",
      "\u001b[0;32m~/local/miniconda3/lib/python3.8/site-packages/kerastuner/engine/tuner.py\u001b[0m in \u001b[0;36mget_best_models\u001b[0;34m(self, num_models)\u001b[0m\n\u001b[1;32m    271\u001b[0m         \"\"\"\n\u001b[1;32m    272\u001b[0m         \u001b[0;31m# Method only exists in this class for the docstring override.\u001b[0m\u001b[0;34m\u001b[0m\u001b[0;34m\u001b[0m\u001b[0;34m\u001b[0m\u001b[0m\n\u001b[0;32m--> 273\u001b[0;31m         \u001b[0;32mreturn\u001b[0m \u001b[0msuper\u001b[0m\u001b[0;34m(\u001b[0m\u001b[0mTuner\u001b[0m\u001b[0;34m,\u001b[0m \u001b[0mself\u001b[0m\u001b[0;34m)\u001b[0m\u001b[0;34m.\u001b[0m\u001b[0mget_best_models\u001b[0m\u001b[0;34m(\u001b[0m\u001b[0mnum_models\u001b[0m\u001b[0;34m)\u001b[0m\u001b[0;34m\u001b[0m\u001b[0;34m\u001b[0m\u001b[0m\n\u001b[0m\u001b[1;32m    274\u001b[0m \u001b[0;34m\u001b[0m\u001b[0m\n\u001b[1;32m    275\u001b[0m     \u001b[0;32mdef\u001b[0m \u001b[0m_deepcopy_callbacks\u001b[0m\u001b[0;34m(\u001b[0m\u001b[0mself\u001b[0m\u001b[0;34m,\u001b[0m \u001b[0mcallbacks\u001b[0m\u001b[0;34m)\u001b[0m\u001b[0;34m:\u001b[0m\u001b[0;34m\u001b[0m\u001b[0;34m\u001b[0m\u001b[0m\n",
      "\u001b[0;32m~/local/miniconda3/lib/python3.8/site-packages/kerastuner/engine/base_tuner.py\u001b[0m in \u001b[0;36mget_best_models\u001b[0;34m(self, num_models)\u001b[0m\n\u001b[1;32m    238\u001b[0m         \"\"\"\n\u001b[1;32m    239\u001b[0m         \u001b[0mbest_trials\u001b[0m \u001b[0;34m=\u001b[0m \u001b[0mself\u001b[0m\u001b[0;34m.\u001b[0m\u001b[0moracle\u001b[0m\u001b[0;34m.\u001b[0m\u001b[0mget_best_trials\u001b[0m\u001b[0;34m(\u001b[0m\u001b[0mnum_models\u001b[0m\u001b[0;34m)\u001b[0m\u001b[0;34m\u001b[0m\u001b[0;34m\u001b[0m\u001b[0m\n\u001b[0;32m--> 240\u001b[0;31m         \u001b[0mmodels\u001b[0m \u001b[0;34m=\u001b[0m \u001b[0;34m[\u001b[0m\u001b[0mself\u001b[0m\u001b[0;34m.\u001b[0m\u001b[0mload_model\u001b[0m\u001b[0;34m(\u001b[0m\u001b[0mtrial\u001b[0m\u001b[0;34m)\u001b[0m \u001b[0;32mfor\u001b[0m \u001b[0mtrial\u001b[0m \u001b[0;32min\u001b[0m \u001b[0mbest_trials\u001b[0m\u001b[0;34m]\u001b[0m\u001b[0;34m\u001b[0m\u001b[0;34m\u001b[0m\u001b[0m\n\u001b[0m\u001b[1;32m    241\u001b[0m         \u001b[0;32mreturn\u001b[0m \u001b[0mmodels\u001b[0m\u001b[0;34m\u001b[0m\u001b[0;34m\u001b[0m\u001b[0m\n\u001b[1;32m    242\u001b[0m \u001b[0;34m\u001b[0m\u001b[0m\n",
      "\u001b[0;32m~/local/miniconda3/lib/python3.8/site-packages/kerastuner/engine/base_tuner.py\u001b[0m in \u001b[0;36m<listcomp>\u001b[0;34m(.0)\u001b[0m\n\u001b[1;32m    238\u001b[0m         \"\"\"\n\u001b[1;32m    239\u001b[0m         \u001b[0mbest_trials\u001b[0m \u001b[0;34m=\u001b[0m \u001b[0mself\u001b[0m\u001b[0;34m.\u001b[0m\u001b[0moracle\u001b[0m\u001b[0;34m.\u001b[0m\u001b[0mget_best_trials\u001b[0m\u001b[0;34m(\u001b[0m\u001b[0mnum_models\u001b[0m\u001b[0;34m)\u001b[0m\u001b[0;34m\u001b[0m\u001b[0;34m\u001b[0m\u001b[0m\n\u001b[0;32m--> 240\u001b[0;31m         \u001b[0mmodels\u001b[0m \u001b[0;34m=\u001b[0m \u001b[0;34m[\u001b[0m\u001b[0mself\u001b[0m\u001b[0;34m.\u001b[0m\u001b[0mload_model\u001b[0m\u001b[0;34m(\u001b[0m\u001b[0mtrial\u001b[0m\u001b[0;34m)\u001b[0m \u001b[0;32mfor\u001b[0m \u001b[0mtrial\u001b[0m \u001b[0;32min\u001b[0m \u001b[0mbest_trials\u001b[0m\u001b[0;34m]\u001b[0m\u001b[0;34m\u001b[0m\u001b[0;34m\u001b[0m\u001b[0m\n\u001b[0m\u001b[1;32m    241\u001b[0m         \u001b[0;32mreturn\u001b[0m \u001b[0mmodels\u001b[0m\u001b[0;34m\u001b[0m\u001b[0;34m\u001b[0m\u001b[0m\n\u001b[1;32m    242\u001b[0m \u001b[0;34m\u001b[0m\u001b[0m\n",
      "\u001b[0;32m~/local/miniconda3/lib/python3.8/site-packages/kerastuner/engine/tuner.py\u001b[0m in \u001b[0;36mload_model\u001b[0;34m(self, trial)\u001b[0m\n\u001b[1;32m    196\u001b[0m         \u001b[0mbest_epoch\u001b[0m \u001b[0;34m=\u001b[0m \u001b[0mtrial\u001b[0m\u001b[0;34m.\u001b[0m\u001b[0mbest_step\u001b[0m\u001b[0;34m\u001b[0m\u001b[0;34m\u001b[0m\u001b[0m\n\u001b[1;32m    197\u001b[0m         \u001b[0;32mwith\u001b[0m \u001b[0mhm_module\u001b[0m\u001b[0;34m.\u001b[0m\u001b[0mmaybe_distribute\u001b[0m\u001b[0;34m(\u001b[0m\u001b[0mself\u001b[0m\u001b[0;34m.\u001b[0m\u001b[0mdistribution_strategy\u001b[0m\u001b[0;34m)\u001b[0m\u001b[0;34m:\u001b[0m\u001b[0;34m\u001b[0m\u001b[0;34m\u001b[0m\u001b[0m\n\u001b[0;32m--> 198\u001b[0;31m             model.load_weights(self._get_checkpoint_fname(\n\u001b[0m\u001b[1;32m    199\u001b[0m                 trial.trial_id, best_epoch))\n\u001b[1;32m    200\u001b[0m         \u001b[0;32mreturn\u001b[0m \u001b[0mmodel\u001b[0m\u001b[0;34m\u001b[0m\u001b[0;34m\u001b[0m\u001b[0m\n",
      "\u001b[0;32m~/local/miniconda3/lib/python3.8/site-packages/tensorflow/python/keras/engine/training.py\u001b[0m in \u001b[0;36mload_weights\u001b[0;34m(self, filepath, by_name, skip_mismatch, options)\u001b[0m\n\u001b[1;32m   2180\u001b[0m         \u001b[0msave_format\u001b[0m \u001b[0;34m=\u001b[0m \u001b[0;34m'h5'\u001b[0m\u001b[0;34m\u001b[0m\u001b[0;34m\u001b[0m\u001b[0m\n\u001b[1;32m   2181\u001b[0m     \u001b[0;32mif\u001b[0m \u001b[0msave_format\u001b[0m \u001b[0;34m==\u001b[0m \u001b[0;34m'tf'\u001b[0m\u001b[0;34m:\u001b[0m\u001b[0;34m\u001b[0m\u001b[0;34m\u001b[0m\u001b[0m\n\u001b[0;32m-> 2182\u001b[0;31m       \u001b[0mstatus\u001b[0m \u001b[0;34m=\u001b[0m \u001b[0mself\u001b[0m\u001b[0;34m.\u001b[0m\u001b[0m_trackable_saver\u001b[0m\u001b[0;34m.\u001b[0m\u001b[0mrestore\u001b[0m\u001b[0;34m(\u001b[0m\u001b[0mfilepath\u001b[0m\u001b[0;34m,\u001b[0m \u001b[0moptions\u001b[0m\u001b[0;34m)\u001b[0m\u001b[0;34m\u001b[0m\u001b[0;34m\u001b[0m\u001b[0m\n\u001b[0m\u001b[1;32m   2183\u001b[0m       \u001b[0;32mif\u001b[0m \u001b[0mby_name\u001b[0m\u001b[0;34m:\u001b[0m\u001b[0;34m\u001b[0m\u001b[0;34m\u001b[0m\u001b[0m\n\u001b[1;32m   2184\u001b[0m         raise NotImplementedError(\n",
      "\u001b[0;32m~/local/miniconda3/lib/python3.8/site-packages/tensorflow/python/training/tracking/util.py\u001b[0m in \u001b[0;36mrestore\u001b[0;34m(self, save_path, options)\u001b[0m\n\u001b[1;32m   1317\u001b[0m         \u001b[0mgraph_view\u001b[0m\u001b[0;34m=\u001b[0m\u001b[0mself\u001b[0m\u001b[0;34m.\u001b[0m\u001b[0m_graph_view\u001b[0m\u001b[0;34m,\u001b[0m\u001b[0;34m\u001b[0m\u001b[0;34m\u001b[0m\u001b[0m\n\u001b[1;32m   1318\u001b[0m         options=options)\n\u001b[0;32m-> 1319\u001b[0;31m     base.CheckpointPosition(\n\u001b[0m\u001b[1;32m   1320\u001b[0m         checkpoint=checkpoint, proto_id=0).restore(self._graph_view.root)\n\u001b[1;32m   1321\u001b[0m     load_status = CheckpointLoadStatus(\n",
      "\u001b[0;32m~/local/miniconda3/lib/python3.8/site-packages/tensorflow/python/training/tracking/base.py\u001b[0m in \u001b[0;36mrestore\u001b[0;34m(self, trackable)\u001b[0m\n\u001b[1;32m    207\u001b[0m         \u001b[0;31m# This object's correspondence with a checkpointed object is new, so\u001b[0m\u001b[0;34m\u001b[0m\u001b[0;34m\u001b[0m\u001b[0;34m\u001b[0m\u001b[0m\n\u001b[1;32m    208\u001b[0m         \u001b[0;31m# process deferred restorations for it and its dependencies.\u001b[0m\u001b[0;34m\u001b[0m\u001b[0;34m\u001b[0m\u001b[0;34m\u001b[0m\u001b[0m\n\u001b[0;32m--> 209\u001b[0;31m         \u001b[0mrestore_ops\u001b[0m \u001b[0;34m=\u001b[0m \u001b[0mtrackable\u001b[0m\u001b[0;34m.\u001b[0m\u001b[0m_restore_from_checkpoint_position\u001b[0m\u001b[0;34m(\u001b[0m\u001b[0mself\u001b[0m\u001b[0;34m)\u001b[0m  \u001b[0;31m# pylint: disable=protected-access\u001b[0m\u001b[0;34m\u001b[0m\u001b[0;34m\u001b[0m\u001b[0m\n\u001b[0m\u001b[1;32m    210\u001b[0m         \u001b[0;32mif\u001b[0m \u001b[0mrestore_ops\u001b[0m\u001b[0;34m:\u001b[0m\u001b[0;34m\u001b[0m\u001b[0;34m\u001b[0m\u001b[0m\n\u001b[1;32m    211\u001b[0m           \u001b[0mself\u001b[0m\u001b[0;34m.\u001b[0m\u001b[0m_checkpoint\u001b[0m\u001b[0;34m.\u001b[0m\u001b[0mnew_restore_ops\u001b[0m\u001b[0;34m(\u001b[0m\u001b[0mrestore_ops\u001b[0m\u001b[0;34m)\u001b[0m\u001b[0;34m\u001b[0m\u001b[0;34m\u001b[0m\u001b[0m\n",
      "\u001b[0;32m~/local/miniconda3/lib/python3.8/site-packages/tensorflow/python/training/tracking/base.py\u001b[0m in \u001b[0;36m_restore_from_checkpoint_position\u001b[0;34m(self, checkpoint_position)\u001b[0m\n\u001b[1;32m    911\u001b[0m       \u001b[0mpython_saveables\u001b[0m\u001b[0;34m.\u001b[0m\u001b[0mextend\u001b[0m\u001b[0;34m(\u001b[0m\u001b[0mnew_python_saveables\u001b[0m\u001b[0;34m)\u001b[0m\u001b[0;34m\u001b[0m\u001b[0;34m\u001b[0m\u001b[0m\n\u001b[1;32m    912\u001b[0m     restore_ops.extend(\n\u001b[0;32m--> 913\u001b[0;31m         current_position.checkpoint.restore_saveables(\n\u001b[0m\u001b[1;32m    914\u001b[0m             tensor_saveables, python_saveables))\n\u001b[1;32m    915\u001b[0m     \u001b[0;32mreturn\u001b[0m \u001b[0mrestore_ops\u001b[0m\u001b[0;34m\u001b[0m\u001b[0;34m\u001b[0m\u001b[0m\n",
      "\u001b[0;32m~/local/miniconda3/lib/python3.8/site-packages/tensorflow/python/training/tracking/util.py\u001b[0m in \u001b[0;36mrestore_saveables\u001b[0;34m(self, tensor_saveables, python_saveables)\u001b[0m\n\u001b[1;32m    294\u001b[0m             (\"Saveable keys changed when validating. Got back %s, was \"\n\u001b[1;32m    295\u001b[0m              \"expecting %s\") % (tensor_saveables.keys(), validated_names))\n\u001b[0;32m--> 296\u001b[0;31m       new_restore_ops = functional_saver.MultiDeviceSaver(\n\u001b[0m\u001b[1;32m    297\u001b[0m           validated_saveables).restore(self.save_path_tensor, self.options)\n\u001b[1;32m    298\u001b[0m       \u001b[0;32mif\u001b[0m \u001b[0;32mnot\u001b[0m \u001b[0mcontext\u001b[0m\u001b[0;34m.\u001b[0m\u001b[0mexecuting_eagerly\u001b[0m\u001b[0;34m(\u001b[0m\u001b[0;34m)\u001b[0m\u001b[0;34m:\u001b[0m\u001b[0;34m\u001b[0m\u001b[0;34m\u001b[0m\u001b[0m\n",
      "\u001b[0;32m~/local/miniconda3/lib/python3.8/site-packages/tensorflow/python/training/saving/functional_saver.py\u001b[0m in \u001b[0;36mrestore\u001b[0;34m(self, file_prefix, options)\u001b[0m\n\u001b[1;32m    338\u001b[0m       \u001b[0mrestore_ops\u001b[0m \u001b[0;34m=\u001b[0m \u001b[0mtf_function_restore\u001b[0m\u001b[0;34m(\u001b[0m\u001b[0;34m)\u001b[0m\u001b[0;34m\u001b[0m\u001b[0;34m\u001b[0m\u001b[0m\n\u001b[1;32m    339\u001b[0m     \u001b[0;32melse\u001b[0m\u001b[0;34m:\u001b[0m\u001b[0;34m\u001b[0m\u001b[0;34m\u001b[0m\u001b[0m\n\u001b[0;32m--> 340\u001b[0;31m       \u001b[0mrestore_ops\u001b[0m \u001b[0;34m=\u001b[0m \u001b[0mrestore_fn\u001b[0m\u001b[0;34m(\u001b[0m\u001b[0;34m)\u001b[0m\u001b[0;34m\u001b[0m\u001b[0;34m\u001b[0m\u001b[0m\n\u001b[0m\u001b[1;32m    341\u001b[0m \u001b[0;34m\u001b[0m\u001b[0m\n\u001b[1;32m    342\u001b[0m     \u001b[0;32mfor\u001b[0m \u001b[0mcallback\u001b[0m \u001b[0;32min\u001b[0m \u001b[0mself\u001b[0m\u001b[0;34m.\u001b[0m\u001b[0m_after_restore_callbacks\u001b[0m\u001b[0;34m:\u001b[0m\u001b[0;34m\u001b[0m\u001b[0;34m\u001b[0m\u001b[0m\n",
      "\u001b[0;32m~/local/miniconda3/lib/python3.8/site-packages/tensorflow/python/training/saving/functional_saver.py\u001b[0m in \u001b[0;36mrestore_fn\u001b[0;34m()\u001b[0m\n\u001b[1;32m    314\u001b[0m       \u001b[0;32mfor\u001b[0m \u001b[0mdevice\u001b[0m\u001b[0;34m,\u001b[0m \u001b[0msaver\u001b[0m \u001b[0;32min\u001b[0m \u001b[0msorted\u001b[0m\u001b[0;34m(\u001b[0m\u001b[0mself\u001b[0m\u001b[0;34m.\u001b[0m\u001b[0m_single_device_savers\u001b[0m\u001b[0;34m.\u001b[0m\u001b[0mitems\u001b[0m\u001b[0;34m(\u001b[0m\u001b[0;34m)\u001b[0m\u001b[0;34m)\u001b[0m\u001b[0;34m:\u001b[0m\u001b[0;34m\u001b[0m\u001b[0;34m\u001b[0m\u001b[0m\n\u001b[1;32m    315\u001b[0m         \u001b[0;32mwith\u001b[0m \u001b[0mops\u001b[0m\u001b[0;34m.\u001b[0m\u001b[0mdevice\u001b[0m\u001b[0;34m(\u001b[0m\u001b[0mdevice\u001b[0m\u001b[0;34m)\u001b[0m\u001b[0;34m:\u001b[0m\u001b[0;34m\u001b[0m\u001b[0;34m\u001b[0m\u001b[0m\n\u001b[0;32m--> 316\u001b[0;31m           \u001b[0mrestore_ops\u001b[0m\u001b[0;34m.\u001b[0m\u001b[0mupdate\u001b[0m\u001b[0;34m(\u001b[0m\u001b[0msaver\u001b[0m\u001b[0;34m.\u001b[0m\u001b[0mrestore\u001b[0m\u001b[0;34m(\u001b[0m\u001b[0mfile_prefix\u001b[0m\u001b[0;34m,\u001b[0m \u001b[0moptions\u001b[0m\u001b[0;34m)\u001b[0m\u001b[0;34m)\u001b[0m\u001b[0;34m\u001b[0m\u001b[0;34m\u001b[0m\u001b[0m\n\u001b[0m\u001b[1;32m    317\u001b[0m \u001b[0;34m\u001b[0m\u001b[0m\n\u001b[1;32m    318\u001b[0m       \u001b[0;32mreturn\u001b[0m \u001b[0mrestore_ops\u001b[0m\u001b[0;34m\u001b[0m\u001b[0;34m\u001b[0m\u001b[0m\n",
      "\u001b[0;32m~/local/miniconda3/lib/python3.8/site-packages/tensorflow/python/training/saving/functional_saver.py\u001b[0m in \u001b[0;36mrestore\u001b[0;34m(self, file_prefix, options)\u001b[0m\n\u001b[1;32m    108\u001b[0m     for saveable, restored_tensors in zip(self._saveable_objects,\n\u001b[1;32m    109\u001b[0m                                           structured_restored_tensors):\n\u001b[0;32m--> 110\u001b[0;31m       restore_ops[saveable.name] = saveable.restore(\n\u001b[0m\u001b[1;32m    111\u001b[0m           restored_tensors, restored_shapes=None)\n\u001b[1;32m    112\u001b[0m     \u001b[0;32mreturn\u001b[0m \u001b[0mrestore_ops\u001b[0m\u001b[0;34m\u001b[0m\u001b[0;34m\u001b[0m\u001b[0m\n",
      "\u001b[0;32m~/local/miniconda3/lib/python3.8/site-packages/tensorflow/python/training/saving/saveable_object_util.py\u001b[0m in \u001b[0;36mrestore\u001b[0;34m(self, restored_tensors, restored_shapes)\u001b[0m\n\u001b[1;32m    124\u001b[0m     \u001b[0;32mwith\u001b[0m \u001b[0mops\u001b[0m\u001b[0;34m.\u001b[0m\u001b[0mdevice\u001b[0m\u001b[0;34m(\u001b[0m\u001b[0mself\u001b[0m\u001b[0;34m.\u001b[0m\u001b[0m_var_device\u001b[0m\u001b[0;34m)\u001b[0m\u001b[0;34m:\u001b[0m\u001b[0;34m\u001b[0m\u001b[0;34m\u001b[0m\u001b[0m\n\u001b[1;32m    125\u001b[0m       \u001b[0mrestored_tensor\u001b[0m \u001b[0;34m=\u001b[0m \u001b[0marray_ops\u001b[0m\u001b[0;34m.\u001b[0m\u001b[0midentity\u001b[0m\u001b[0;34m(\u001b[0m\u001b[0mrestored_tensor\u001b[0m\u001b[0;34m)\u001b[0m\u001b[0;34m\u001b[0m\u001b[0;34m\u001b[0m\u001b[0m\n\u001b[0;32m--> 126\u001b[0;31m       return resource_variable_ops.shape_safe_assign_variable_handle(\n\u001b[0m\u001b[1;32m    127\u001b[0m           self.handle_op, self._var_shape, restored_tensor)\n\u001b[1;32m    128\u001b[0m \u001b[0;34m\u001b[0m\u001b[0m\n",
      "\u001b[0;32m~/local/miniconda3/lib/python3.8/site-packages/tensorflow/python/ops/resource_variable_ops.py\u001b[0m in \u001b[0;36mshape_safe_assign_variable_handle\u001b[0;34m(handle, shape, value, name)\u001b[0m\n\u001b[1;32m    309\u001b[0m   \u001b[0;32mwith\u001b[0m \u001b[0m_handle_graph\u001b[0m\u001b[0;34m(\u001b[0m\u001b[0mhandle\u001b[0m\u001b[0;34m)\u001b[0m\u001b[0;34m:\u001b[0m\u001b[0;34m\u001b[0m\u001b[0;34m\u001b[0m\u001b[0m\n\u001b[1;32m    310\u001b[0m     \u001b[0mvalue_tensor\u001b[0m \u001b[0;34m=\u001b[0m \u001b[0mops\u001b[0m\u001b[0;34m.\u001b[0m\u001b[0mconvert_to_tensor\u001b[0m\u001b[0;34m(\u001b[0m\u001b[0mvalue\u001b[0m\u001b[0;34m)\u001b[0m\u001b[0;34m\u001b[0m\u001b[0;34m\u001b[0m\u001b[0m\n\u001b[0;32m--> 311\u001b[0;31m   \u001b[0mshape\u001b[0m\u001b[0;34m.\u001b[0m\u001b[0massert_is_compatible_with\u001b[0m\u001b[0;34m(\u001b[0m\u001b[0mvalue_tensor\u001b[0m\u001b[0;34m.\u001b[0m\u001b[0mshape\u001b[0m\u001b[0;34m)\u001b[0m\u001b[0;34m\u001b[0m\u001b[0;34m\u001b[0m\u001b[0m\n\u001b[0m\u001b[1;32m    312\u001b[0m   return gen_resource_variable_ops.assign_variable_op(handle,\n\u001b[1;32m    313\u001b[0m                                                       \u001b[0mvalue_tensor\u001b[0m\u001b[0;34m,\u001b[0m\u001b[0;34m\u001b[0m\u001b[0;34m\u001b[0m\u001b[0m\n",
      "\u001b[0;32m~/local/miniconda3/lib/python3.8/site-packages/tensorflow/python/framework/tensor_shape.py\u001b[0m in \u001b[0;36massert_is_compatible_with\u001b[0;34m(self, other)\u001b[0m\n\u001b[1;32m   1132\u001b[0m     \"\"\"\n\u001b[1;32m   1133\u001b[0m     \u001b[0;32mif\u001b[0m \u001b[0;32mnot\u001b[0m \u001b[0mself\u001b[0m\u001b[0;34m.\u001b[0m\u001b[0mis_compatible_with\u001b[0m\u001b[0;34m(\u001b[0m\u001b[0mother\u001b[0m\u001b[0;34m)\u001b[0m\u001b[0;34m:\u001b[0m\u001b[0;34m\u001b[0m\u001b[0;34m\u001b[0m\u001b[0m\n\u001b[0;32m-> 1134\u001b[0;31m       \u001b[0;32mraise\u001b[0m \u001b[0mValueError\u001b[0m\u001b[0;34m(\u001b[0m\u001b[0;34m\"Shapes %s and %s are incompatible\"\u001b[0m \u001b[0;34m%\u001b[0m \u001b[0;34m(\u001b[0m\u001b[0mself\u001b[0m\u001b[0;34m,\u001b[0m \u001b[0mother\u001b[0m\u001b[0;34m)\u001b[0m\u001b[0;34m)\u001b[0m\u001b[0;34m\u001b[0m\u001b[0;34m\u001b[0m\u001b[0m\n\u001b[0m\u001b[1;32m   1135\u001b[0m \u001b[0;34m\u001b[0m\u001b[0m\n\u001b[1;32m   1136\u001b[0m   \u001b[0;32mdef\u001b[0m \u001b[0mmost_specific_compatible_shape\u001b[0m\u001b[0;34m(\u001b[0m\u001b[0mself\u001b[0m\u001b[0;34m,\u001b[0m \u001b[0mother\u001b[0m\u001b[0;34m)\u001b[0m\u001b[0;34m:\u001b[0m\u001b[0;34m\u001b[0m\u001b[0;34m\u001b[0m\u001b[0m\n",
      "\u001b[0;31mValueError\u001b[0m: Shapes (1,) and (6,) are incompatible"
     ]
    }
   ],
   "source": [
    "%%time\n",
    "tuner_rs2 = RandomSearch(\n",
    "            hypermodel1,\n",
    "            objective='mse',\n",
    "            seed=42,\n",
    "            max_trials=10,\n",
    "            executions_per_trial=2)\n",
    "#tuner_rs.search(X_train, y_train, epochs=10, validation_split=0.2, verbose=0)\n",
    "tuner_rs2.search(X1_train,y1_train,epochs=5,validation_data=(X1_test,y1_test))\n",
    "\n",
    "#best_model = tuner_rs2.get_best_models(num_models=1)[0]\n",
    "tuner_rs2.get_best_models()\n",
    "'''best_model.evaluate(X1_test, y1_test)\n",
    "best_model.summary()'''\n",
    "#best_model.best_params()"
   ]
  },
  {
   "cell_type": "code",
   "execution_count": null,
   "metadata": {},
   "outputs": [],
   "source": []
  }
 ],
 "metadata": {
  "colab": {
   "collapsed_sections": [],
   "include_colab_link": true,
   "name": "NN_Hyperparameters-Keras Quest.ipynb",
   "provenance": []
  },
  "kernelspec": {
   "display_name": "Python 3",
   "language": "python",
   "name": "python3"
  },
  "language_info": {
   "codemirror_mode": {
    "name": "ipython",
    "version": 3
   },
   "file_extension": ".py",
   "mimetype": "text/x-python",
   "name": "python",
   "nbconvert_exporter": "python",
   "pygments_lexer": "ipython3",
   "version": "3.8.5"
  },
  "pycharm": {
   "stem_cell": {
    "cell_type": "raw",
    "metadata": {
     "collapsed": false
    },
    "source": []
   }
  }
 },
 "nbformat": 4,
 "nbformat_minor": 4
}
