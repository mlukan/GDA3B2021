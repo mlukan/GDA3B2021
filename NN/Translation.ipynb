{
  "nbformat": 4,
  "nbformat_minor": 0,
  "metadata": {
    "accelerator": "GPU",
    "colab": {
      "name": "Translation.ipynb",
      "provenance": [],
      "collapsed_sections": [],
      "toc_visible": true,
      "include_colab_link": true
    },
    "kernelspec": {
      "display_name": "Python 3",
      "language": "python",
      "name": "python3"
    },
    "language_info": {
      "codemirror_mode": {
        "name": "ipython",
        "version": 3
      },
      "file_extension": ".py",
      "mimetype": "text/x-python",
      "name": "python",
      "nbconvert_exporter": "python",
      "pygments_lexer": "ipython3",
      "version": "3.8.5"
    }
  },
  "cells": [
    {
      "cell_type": "markdown",
      "metadata": {
        "id": "view-in-github",
        "colab_type": "text"
      },
      "source": [
        "<a href=\"https://colab.research.google.com/github/mlukan/GDA3B2021/blob/main/NN/Translation.ipynb\" target=\"_parent\"><img src=\"https://colab.research.google.com/assets/colab-badge.svg\" alt=\"Open In Colab\"/></a>"
      ]
    },
    {
      "cell_type": "markdown",
      "metadata": {
        "id": "aAgbCF4OFgv9"
      },
      "source": [
        "### Introduction\n",
        "In this exercise you will build three (optionally four) different networks to experiment with one of the applications of recurrent neural networks called Machine Translation. The preprocessing pipeline that prepares the input data for feeding into the neural network models is provided to you. Therefore, in this excercise you focus on building and experimenting with different network architectures. \n",
        "\n",
        "Optional: To learn more about recurrent neural networks (such as RNN, GRU, and LSTM) their architectures, the differences between them and their applications you can watch this free tutorial: [Sequences and Recurrent networks Tutorial](https://www.youtube.com/watch?v=87kLfzmYBy8&ab_channel=DeepMind)"
      ]
    },
    {
      "cell_type": "code",
      "metadata": {
        "id": "MGrOSRpUxG9L",
        "colab": {
          "base_uri": "https://localhost:8080/",
          "height": 35
        },
        "outputId": "740d2715-ee0a-4f67-f522-9f1fa2f2050c"
      },
      "source": [
        "# You may want to upgrade the tensorflow package to the latest verion (currently version 2.3) if you have the proper infrastructure\n",
        "# !pip install --upgrade tensorflow\n",
        "import tensorflow\n",
        "tensorflow.__version__\n"
      ],
      "execution_count": null,
      "outputs": [
        {
          "output_type": "execute_result",
          "data": {
            "application/vnd.google.colaboratory.intrinsic+json": {
              "type": "string"
            },
            "text/plain": [
              "'2.5.0'"
            ]
          },
          "metadata": {
            "tags": []
          },
          "execution_count": 1
        }
      ]
    },
    {
      "cell_type": "markdown",
      "metadata": {
        "id": "pMzRkuZbgt3k"
      },
      "source": [
        "### Setup\n"
      ]
    },
    {
      "cell_type": "code",
      "metadata": {
        "colab": {
          "base_uri": "https://localhost:8080/",
          "height": 35
        },
        "id": "fobJjbQhBuju",
        "outputId": "5cdaf441-9f81-4e47-a534-2fdc50f4267c"
      },
      "source": [
        "# To get access to a GPU instance you can use the `change runtime type` and set the option to `GPU` from the `Runtime` tab  in the notebook\n",
        "# Checking the GPU availability for the notebook\n",
        "import tensorflow\n",
        "tensorflow.test.gpu_device_name()"
      ],
      "execution_count": null,
      "outputs": [
        {
          "output_type": "execute_result",
          "data": {
            "application/vnd.google.colaboratory.intrinsic+json": {
              "type": "string"
            },
            "text/plain": [
              "'/device:GPU:0'"
            ]
          },
          "metadata": {
            "tags": []
          },
          "execution_count": 2
        }
      ]
    },
    {
      "cell_type": "code",
      "metadata": {
        "id": "cD0z5tl4dVOM"
      },
      "source": [
        "# import collection\n",
        "import io\n",
        "import pandas as pd\n",
        "import numpy as np\n",
        "from typing import List \n",
        "from tensorflow.keras.preprocessing.text import Tokenizer\n",
        "from tensorflow.keras.preprocessing.sequence import pad_sequences\n",
        "from tensorflow.keras.models import Model\n",
        "from tensorflow.keras.layers import GRU, Input, Dense, TimeDistributed, Activation, RepeatVector, Bidirectional\n",
        "from tensorflow.keras.layers import Embedding\n",
        "from tensorflow.keras.optimizers import Adam\n",
        "from tensorflow.keras.losses import sparse_categorical_crossentropy"
      ],
      "execution_count": 1,
      "outputs": []
    },
    {
      "cell_type": "markdown",
      "metadata": {
        "id": "wu1mXD8unuu9"
      },
      "source": [
        "### Loading and Preprocessing the Data"
      ]
    },
    {
      "cell_type": "markdown",
      "metadata": {
        "id": "zPqbg_C09G6s"
      },
      "source": [
        "#### Reading CSV data files as a list of strings, where each string represents a single line from the text\n"
      ]
    },
    {
      "cell_type": "code",
      "metadata": {
        "id": "CHuc68kPoSqo"
      },
      "source": [
        "import csv\n",
        "from io import TextIOWrapper, BytesIO\n",
        "\n",
        "from zipfile import ZipFile\n",
        "import requests"
      ],
      "execution_count": 2,
      "outputs": []
    },
    {
      "cell_type": "code",
      "metadata": {
        "colab": {
          "base_uri": "https://localhost:8080/"
        },
        "id": "oGBtz_Lt39XM",
        "outputId": "acd510ba-60b4-4763-d1a7-c05c9312294e"
      },
      "source": [
        "path=\"https://github.com/mlukan/GDA3B2021/raw/main/files/\"\n",
        "r = requests.get(path+'small-vocab-en.csv.zip')\n",
        "    \n",
        "with ZipFile(io.BytesIO(r.content))  as zf:\n",
        "    with zf.open('small_vocab_en.csv', 'r') as infile:\n",
        "            reader = csv.reader(TextIOWrapper(infile, 'utf-8'), delimiter='\\n' )\n",
        "            english_text = [item for sublist in reader for item in sublist]\n",
        "            print(f\"English text samples: {english_text[0:2]}\")\n"
      ],
      "execution_count": 3,
      "outputs": [
        {
          "output_type": "stream",
          "text": [
            "English text samples: ['new jersey is sometimes quiet during autumn , and it is snowy in april .', 'the united states is usually chilly during july , and it is usually freezing in november .']\n"
          ],
          "name": "stdout"
        }
      ]
    },
    {
      "cell_type": "code",
      "metadata": {
        "colab": {
          "base_uri": "https://localhost:8080/"
        },
        "id": "1vVS_nH-4y6J",
        "outputId": "754c6af4-bc77-49be-c69b-93a30437b4b9"
      },
      "source": [
        "path=\"https://github.com/mlukan/GDA3B2021/raw/main/files/\"\n",
        "r = requests.get(path+'small-vocab-fr.csv.zip')\n",
        "with ZipFile(io.BytesIO(r.content)) as zf:\n",
        "    with zf.open('small_vocab_fr.csv', 'r') as infile:\n",
        "        reader = csv.reader(TextIOWrapper(infile, 'utf-8'), delimiter='\\n' )\n",
        "        french_text = [item for sublist in reader for item in sublist]\n",
        "        print(f\"French translation text samples: {french_text[0:2]}\")\n"
      ],
      "execution_count": 4,
      "outputs": [
        {
          "output_type": "stream",
          "text": [
            "French translation text samples: [\"new jersey est parfois calme pendant l' automne , et il est neigeux en avril .\", 'les états-unis est généralement froid en juillet , et il gèle habituellement en novembre .']\n"
          ],
          "name": "stdout"
        }
      ]
    },
    {
      "cell_type": "code",
      "metadata": {
        "id": "j5y0rPhaH66T",
        "colab": {
          "base_uri": "https://localhost:8080/"
        },
        "outputId": "8abcfde2-8985-4977-e41b-bfad812055f3"
      },
      "source": [
        "# TODO: Data exploration -> calculate and print some statistics on data\n",
        "print(len(english_text),len(french_text))\n",
        "eng_wordlist= ' '.join(english_text).split(' ')\n",
        "fr_wordlist = ' '.join(french_text).split(' ')\n",
        "print(len(''.join(english_text)),len(''.join(french_text)))\n"
      ],
      "execution_count": 5,
      "outputs": [
        {
          "output_type": "stream",
          "text": [
            "137860 137860\n",
            "8947407 9709204\n"
          ],
          "name": "stdout"
        }
      ]
    },
    {
      "cell_type": "code",
      "metadata": {
        "colab": {
          "base_uri": "https://localhost:8080/",
          "height": 310
        },
        "id": "70FFK4_SKPpx",
        "outputId": "3ab2d2d8-14ac-43e0-b73c-12ad940484c1"
      },
      "source": [
        "# Create a dictionary with words as keys and zero values from a set of all the words in the english text\n",
        "eng_dict={k:0 for k in set(eng_wordlist)}\n",
        "# Fill the english wordcount dictionary \n",
        "for w in eng_wordlist:\n",
        "    eng_dict[w]+=1\n",
        "# Create a dataframe, sort by count and plot a frequency histogram of the 20 most frequent words\n",
        "eng_df=pd.DataFrame.from_dict(eng_dict, orient='index',columns=['word'])\n",
        "eng_df.sort_values(by='word',ascending=False).iloc[:20,].plot.bar();\n"
      ],
      "execution_count": 6,
      "outputs": [
        {
          "output_type": "display_data",
          "data": {
            "image/png": "[encoded data removed]",
            "text/plain": [
              "<Figure size 432x288 with 1 Axes>"
            ]
          },
          "metadata": {
            "tags": [],
            "needs_background": "light"
          }
        }
      ]
    },
    {
      "cell_type": "code",
      "metadata": {
        "colab": {
          "base_uri": "https://localhost:8080/",
          "height": 326
        },
        "id": "lnAvUsJDKPpy",
        "outputId": "1c01df3f-3f20-46d8-d40f-bb46d93286e9"
      },
      "source": [
        "fr_dict = {k:0 for k in set(fr_wordlist)}\n",
        "for w in fr_wordlist:\n",
        "    fr_dict[w]+=1\n",
        "fr_df=pd.DataFrame.from_dict(fr_dict, orient='index',columns=['word'])\n",
        "fr_df.sort_values(by='word',ascending=False).iloc[:20,].plot.bar();\n"
      ],
      "execution_count": 7,
      "outputs": [
        {
          "output_type": "display_data",
          "data": {
            "image/png": "[encoded data removed]",
            "text/plain": [
              "<Figure size 432x288 with 1 Axes>"
            ]
          },
          "metadata": {
            "tags": [],
            "needs_background": "light"
          }
        }
      ]
    },
    {
      "cell_type": "markdown",
      "metadata": {
        "id": "wQ8zEtacK08P"
      },
      "source": [
        "#### Tokenizing the data\n",
        "\n",
        "Since the input data to neural networks needs to be in numerical format, we first turn each sentence into a sequence of word ids using `Tokenizer` function from Keras. Word ids are numerical presentations for words. "
      ]
    },
    {
      "cell_type": "code",
      "metadata": {
        "colab": {
          "base_uri": "https://localhost:8080/"
        },
        "id": "K6s5iwnMKzT4",
        "outputId": "dc8896aa-66a5-4576-d74f-81949eb0c22d"
      },
      "source": [
        "def tokenize(x: List[str]):\n",
        "  \"\"\"Tokenizes sentences into word ids.\n",
        "    Tokenize x\n",
        "    :param x: List of sentences/strings to be tokenized\n",
        "    :return: Tuple of (tokenized x data, tokenizer used to tokenize x)\n",
        "\n",
        "  \"\"\"\n",
        "  tokenizer=Tokenizer()\n",
        "  tokenizer.fit_on_texts(x)\n",
        "  t=tokenizer.texts_to_sequences(x)\n",
        "  return t, tokenizer\n",
        "\n",
        "# Tokenize Example output\n",
        "text_sentences = [\n",
        "    'The quick brown fox jumps over the lazy dog .',\n",
        "    'By Jove , my quick study of lexicography won a prize .',\n",
        "    'This is a short sentence .']\n",
        "text_tokenized, text_tokenizer = tokenize(text_sentences)\n",
        "print(text_tokenizer.word_index)\n",
        "for sample_i, (sent, token_sent) in enumerate(zip(text_sentences, text_tokenized)):\n",
        "    print('Sequence {} in x'.format(sample_i + 1))\n",
        "    print('  Input:  {}'.format(sent))\n",
        "    print('  Output: {}'.format(token_sent)) "
      ],
      "execution_count": 8,
      "outputs": [
        {
          "output_type": "stream",
          "text": [
            "{'the': 1, 'quick': 2, 'a': 3, 'brown': 4, 'fox': 5, 'jumps': 6, 'over': 7, 'lazy': 8, 'dog': 9, 'by': 10, 'jove': 11, 'my': 12, 'study': 13, 'of': 14, 'lexicography': 15, 'won': 16, 'prize': 17, 'this': 18, 'is': 19, 'short': 20, 'sentence': 21}\n",
            "Sequence 1 in x\n",
            "  Input:  The quick brown fox jumps over the lazy dog .\n",
            "  Output: [1, 2, 4, 5, 6, 7, 1, 8, 9]\n",
            "Sequence 2 in x\n",
            "  Input:  By Jove , my quick study of lexicography won a prize .\n",
            "  Output: [10, 11, 12, 2, 13, 14, 15, 16, 3, 17]\n",
            "Sequence 3 in x\n",
            "  Input:  This is a short sentence .\n",
            "  Output: [18, 19, 3, 20, 21]\n"
          ],
          "name": "stdout"
        }
      ]
    },
    {
      "cell_type": "markdown",
      "metadata": {
        "id": "RfffhgywsXMN"
      },
      "source": [
        "#### Padding Sequences\n",
        "\n",
        "To be able to batch the sequences of word ids together, all sequences need to be of the same length. Therefore, as a second preprocessing step we make sure that all the English sentences have the same length as their respective French translations using `pad_sequence` function form Keras."
      ]
    },
    {
      "cell_type": "code",
      "metadata": {
        "colab": {
          "base_uri": "https://localhost:8080/"
        },
        "id": "WsB7MNttVYVS",
        "outputId": "8bac7896-b69a-47c4-a046-8b6a1ec7d23f"
      },
      "source": [
        "def pad(x, length=None):\n",
        "    \"\"\"\n",
        "    Pad x\n",
        "    :param x: List of sequences.\n",
        "    :param length: Length to pad the sequence to.  If None, use length of longest sequence in x.\n",
        "    :return: Padded numpy array of sequences\n",
        "    \"\"\"\n",
        "    padding=pad_sequences(x,padding='post',maxlen=length)\n",
        "    return padding\n",
        "\n",
        "# Pad Tokenized output\n",
        "test_pad = pad(text_tokenized)\n",
        "for sample_i, (token_sent, pad_sent) in enumerate(zip(text_tokenized, test_pad)):\n",
        "    print('Sequence {} in x'.format(sample_i + 1))\n",
        "    print('  Input:  {}'.format(np.array(token_sent)))\n",
        "    print('  Output: {}'.format(pad_sent))"
      ],
      "execution_count": 9,
      "outputs": [
        {
          "output_type": "stream",
          "text": [
            "Sequence 1 in x\n",
            "  Input:  [1 2 4 5 6 7 1 8 9]\n",
            "  Output: [1 2 4 5 6 7 1 8 9 0]\n",
            "Sequence 2 in x\n",
            "  Input:  [10 11 12  2 13 14 15 16  3 17]\n",
            "  Output: [10 11 12  2 13 14 15 16  3 17]\n",
            "Sequence 3 in x\n",
            "  Input:  [18 19  3 20 21]\n",
            "  Output: [18 19  3 20 21  0  0  0  0  0]\n"
          ],
          "name": "stdout"
        }
      ]
    },
    {
      "cell_type": "markdown",
      "metadata": {
        "id": "NzZF_s8TuGqw"
      },
      "source": [
        "#### Preprocessing Pipeline\n",
        "\n",
        "As mentioned in the introduction section in this excercise your focus is on building different recurrent neural network architectures. Threfore, in the following cell we provide you with a preprocessing pipeline. You can apply this function to the input data to prepare the data for using in neural networks."
      ]
    },
    {
      "cell_type": "code",
      "metadata": {
        "colab": {
          "base_uri": "https://localhost:8080/"
        },
        "id": "B158-HbGqMwd",
        "outputId": "1efbd2bb-28b7-4f9b-f320-57dec53e2403"
      },
      "source": [
        "def preprocess(x, y):\n",
        "    \"\"\"\n",
        "     Preprocess input (x) and target (y)\n",
        "    :param x: Feature List of sentences\n",
        "    :param y: Label List of sentences\n",
        "    :return: Tuple of (Preprocessed x, Preprocessed y, x tokenizer, y tokenizer)\n",
        "    \"\"\"\n",
        "    preprocess_x, x_tk = tokenize(x)\n",
        "    preprocess_y, y_tk = tokenize(y)\n",
        "\n",
        "    preprocess_x = pad(preprocess_x)\n",
        "    preprocess_y = pad(preprocess_y)\n",
        "\n",
        "    # Keras's sparse_categorical_crossentropy function requires the labels to be in 3 dimensions\n",
        "    preprocess_y = preprocess_y.reshape(*preprocess_y.shape, 1)\n",
        "\n",
        "    return preprocess_x, preprocess_y, x_tk, y_tk\n",
        "\n",
        "preproc_english_sentences, preproc_french_sentences, english_tokenizer, french_tokenizer =\\\n",
        "    preprocess(english_text, french_text)\n",
        "    \n",
        "max_english_sequence_length = preproc_english_sentences.shape[1]\n",
        "max_french_sequence_length = preproc_french_sentences.shape[1]\n",
        "english_vocab_size = len(english_tokenizer.word_index)\n",
        "french_vocab_size = len(french_tokenizer.word_index)\n",
        "\n",
        "print('Preprocessed Data Info')\n",
        "print(\"Max English sentence length:\", max_english_sequence_length)\n",
        "print(\"Max French sentence length:\", max_french_sequence_length)\n",
        "print(\"English vocabulary size:\", english_vocab_size)\n",
        "print(\"French vocabulary size:\", french_vocab_size)"
      ],
      "execution_count": 10,
      "outputs": [
        {
          "output_type": "stream",
          "text": [
            "Preprocessed Data Info\n",
            "Max English sentence length: 15\n",
            "Max French sentence length: 21\n",
            "English vocabulary size: 199\n",
            "French vocabulary size: 344\n"
          ],
          "name": "stdout"
        }
      ]
    },
    {
      "cell_type": "code",
      "metadata": {
        "colab": {
          "base_uri": "https://localhost:8080/"
        },
        "id": "tJpyE3hZKPp2",
        "outputId": "8e7873a5-298d-4f15-cf3a-d2b9e11b8e89"
      },
      "source": [
        "preproc_english_sentences.shape\n",
        "preproc_french_sentences.shape"
      ],
      "execution_count": 11,
      "outputs": [
        {
          "output_type": "execute_result",
          "data": {
            "text/plain": [
              "(137860, 21, 1)"
            ]
          },
          "metadata": {
            "tags": []
          },
          "execution_count": 11
        }
      ]
    },
    {
      "cell_type": "markdown",
      "metadata": {
        "id": "J_fCUxliHXwO"
      },
      "source": [
        "### Models\n",
        "\n",
        "In this section we ask you to build and train Three (optionally four) different neural networks and use them to predict the French Translation of the English sentences.\n",
        "\n",
        "Make use of the `logits_to_text()` function to transform the logits from output of your networks to a French translation. This helps you to better understand the output of the neural network."
      ]
    },
    {
      "cell_type": "code",
      "metadata": {
        "id": "2CrRvXm91nhd",
        "colab": {
          "base_uri": "https://localhost:8080/"
        },
        "outputId": "4a809be7-1a3d-4d6d-a5b9-01507fba37d7"
      },
      "source": [
        "def logits_to_text(logits, tokenizer):\n",
        "    \"\"\"\n",
        "    Turn logits from a neural network into text using the tokenizer\n",
        "    :param logits: Logits from a neural network\n",
        "    :param tokenizer: Keras Tokenizer fit on the labels\n",
        "    :return: String that represents the text of the logits\n",
        "    \"\"\"\n",
        "    index_to_words = {id: word for word, id in tokenizer.word_index.items()}\n",
        "    index_to_words[0] = '<PAD>'\n",
        "\n",
        "    return ' '.join([index_to_words[prediction] for prediction in np.argmax(logits, 1)]).replace('<PAD>','')\n",
        "\n",
        "print('`logits_to_text` function loaded.')"
      ],
      "execution_count": 44,
      "outputs": [
        {
          "output_type": "stream",
          "text": [
            "`logits_to_text` function loaded.\n"
          ],
          "name": "stdout"
        }
      ]
    },
    {
      "cell_type": "markdown",
      "metadata": {
        "id": "BhYC7lJmxpdd"
      },
      "source": [
        "#### Model 1: Implement a simple RNN network and train the network. \n"
      ]
    },
    {
      "cell_type": "code",
      "metadata": {
        "id": "_VcO7xkUlJyU"
      },
      "source": [
        "from tensorflow.keras.layers import Input\n",
        "from tensorflow.keras.models import Sequential\n",
        "\n",
        "\n",
        "\n"
      ],
      "execution_count": 18,
      "outputs": []
    },
    {
      "cell_type": "code",
      "metadata": {
        "colab": {
          "base_uri": "https://localhost:8080/"
        },
        "id": "IyqM7DcWKPp4",
        "outputId": "94093f55-1992-4874-fee9-7e67b4dc0b60"
      },
      "source": [
        "preproc_english_sentences=preproc_english_sentences.reshape(preproc_english_sentences.shape[0],preproc_english_sentences.shape[1],1)\n",
        "preproc_english_sentences.shape\n",
        "preproc_french_sentences=preproc_french_sentences.reshape(preproc_french_sentences.shape[0],preproc_french_sentences.shape[1],1)\n",
        "preproc_english_sentences.shape\n"
      ],
      "execution_count": null,
      "outputs": [
        {
          "output_type": "execute_result",
          "data": {
            "text/plain": [
              "(137860, 15, 1)"
            ]
          },
          "metadata": {
            "tags": []
          },
          "execution_count": 16
        }
      ]
    },
    {
      "cell_type": "code",
      "metadata": {
        "id": "BFJUIjouKPp5"
      },
      "source": [
        "tmp_x=pad(preproc_english_sentences,max_french_sequence_length)\n",
        "tmp_x = tmp_x.reshape((-1),preproc_french_sentences.shape[-2],1)"
      ],
      "execution_count": 14,
      "outputs": []
    },
    {
      "cell_type": "code",
      "metadata": {
        "colab": {
          "base_uri": "https://localhost:8080/"
        },
        "id": "-jZNqviOKPp5",
        "outputId": "400b8922-65df-456a-9ac0-ee70a5f039cf"
      },
      "source": [
        "tmp_x.shape"
      ],
      "execution_count": 15,
      "outputs": [
        {
          "output_type": "execute_result",
          "data": {
            "text/plain": [
              "(137860, 21, 1)"
            ]
          },
          "metadata": {
            "tags": []
          },
          "execution_count": 15
        }
      ]
    },
    {
      "cell_type": "code",
      "metadata": {
        "id": "JQB93125ldUo",
        "colab": {
          "base_uri": "https://localhost:8080/"
        },
        "outputId": "78e53cc9-7d8a-424f-ea54-10418ea10f8c"
      },
      "source": [
        "# Model 1: simple RNN model\n",
        "from keras.callbacks import EarlyStopping\n",
        "es = EarlyStopping(monitor=\"val_loss\",verbose=1,mode='min',patience=3)\n",
        "\n",
        "def rnn_model(input_shape, output_sequence_length, english_vocab_size,french_vocab_size): #, english_vocab_size, french_vocab_size):\n",
        "    \"\"\"\n",
        "    Build and train a basic RNN on x and y\n",
        "    :param input_shape: Tuple of input shape\n",
        "    :param output_sequence_length: Length of output sequence\n",
        "    :param english_vocab_size: Number of unique English words in the dataset\n",
        "    :param french_vocab_size: Number of unique French words in the dataset\n",
        "    :return: Keras model built, but not trained\n",
        "    \"\"\"\n",
        "    # TODO: Build the layers and compile the model. (Hint: Use a GRU network followed by a TimeDistributed dense layer from tensorflow.keras.layers module)\n",
        "        \n",
        "    from tensorflow.keras.layers import GRU, Input,InputLayer, Dense, TimeDistributed, Activation, RepeatVector, Bidirectional\n",
        "    '''\n",
        "    from tensorflow.keras.layers import Embedding\n",
        "    from tensorflow.keras.optimizers import Adam\n",
        "    from tensorflow.keras.losses import sparse_categorical_crossentropy\n",
        "    '''\n",
        "    model = Sequential()\n",
        "    model.add(InputLayer(input_shape=input_shape[1:]))\n",
        "    model.add(GRU(english_vocab_size,return_sequences=True))\n",
        "    model.add(TimeDistributed(Dense(french_vocab_size,activation='Softmax')))\n",
        "        \n",
        "\n",
        "    model.summary()\n",
        "        # What is the input shape of your model? Which activation function do you choose for the dense layer?   \n",
        "    return model\n",
        "\n",
        "        # Hyperparameters\n",
        "    \n",
        "    # TODO: Build the layers\n",
        " \n",
        "    # Compile model\n",
        " \n",
        "\n",
        "model = rnn_model(tmp_x.shape,max_french_sequence_length,english_vocab_size+1,french_vocab_size+1) \n",
        "# TODO: Preprocess and reshape the input to work with a basic RNN. (Hint: Use preproc_english_sentences, preproc_french_sentences and reshape function from keras)\n",
        "learning_rate = 0.003\n",
        "\n",
        "model.compile(loss=sparse_categorical_crossentropy,\n",
        "                  optimizer=Adam(learning_rate),\n",
        "                  metrics=['accuracy'])\n",
        "hist=model.fit(tmp_x,preproc_french_sentences,validation_split=0.2, epochs=100, verbose=1,callbacks=[es])\n",
        "# TODO: Train the network you built in rnn_model. What size do you choose for the epochs, batch_size and validation_split?\n",
        "\n",
        "# TODO: Print prediction(s) for one or more of the English sentences. Hint: Make use of the `logits_to_text` function for transforming output logits to text. "
      ],
      "execution_count": 22,
      "outputs": [
        {
          "output_type": "stream",
          "text": [
            "Model: \"sequential_1\"\n",
            "_________________________________________________________________\n",
            "Layer (type)                 Output Shape              Param #   \n",
            "=================================================================\n",
            "gru_1 (GRU)                  (None, 21, 200)           121800    \n",
            "_________________________________________________________________\n",
            "time_distributed_1 (TimeDist (None, 21, 345)           69345     \n",
            "=================================================================\n",
            "Total params: 191,145\n",
            "Trainable params: 191,145\n",
            "Non-trainable params: 0\n",
            "_________________________________________________________________\n",
            "Epoch 1/100\n",
            "3447/3447 [==============================] - 16s 4ms/step - loss: 1.1301 - accuracy: 0.6578 - val_loss: 0.9396 - val_accuracy: 0.6880\n",
            "Epoch 2/100\n",
            "3447/3447 [==============================] - 14s 4ms/step - loss: 0.8659 - accuracy: 0.7182 - val_loss: 0.7973 - val_accuracy: 0.7409\n",
            "Epoch 3/100\n",
            "3447/3447 [==============================] - 14s 4ms/step - loss: 0.7697 - accuracy: 0.7461 - val_loss: 0.7789 - val_accuracy: 0.7320\n",
            "Epoch 4/100\n",
            "3447/3447 [==============================] - 14s 4ms/step - loss: 0.7205 - accuracy: 0.7593 - val_loss: 0.7182 - val_accuracy: 0.7643\n",
            "Epoch 5/100\n",
            "3447/3447 [==============================] - 14s 4ms/step - loss: 0.7079 - accuracy: 0.7640 - val_loss: 0.7958 - val_accuracy: 0.7370\n",
            "Epoch 6/100\n",
            "3447/3447 [==============================] - 14s 4ms/step - loss: 0.6654 - accuracy: 0.7760 - val_loss: 0.7323 - val_accuracy: 0.7502\n",
            "Epoch 7/100\n",
            "3447/3447 [==============================] - 14s 4ms/step - loss: 0.6554 - accuracy: 0.7801 - val_loss: 0.6260 - val_accuracy: 0.7940\n",
            "Epoch 8/100\n",
            "3447/3447 [==============================] - 14s 4ms/step - loss: 0.6386 - accuracy: 0.7857 - val_loss: 0.6006 - val_accuracy: 0.8014\n",
            "Epoch 9/100\n",
            "3447/3447 [==============================] - 14s 4ms/step - loss: 0.6322 - accuracy: 0.7888 - val_loss: 0.6187 - val_accuracy: 0.7949\n",
            "Epoch 10/100\n",
            "3447/3447 [==============================] - 14s 4ms/step - loss: 0.6216 - accuracy: 0.7908 - val_loss: 0.6444 - val_accuracy: 0.7797\n",
            "Epoch 11/100\n",
            "3447/3447 [==============================] - 14s 4ms/step - loss: 0.6141 - accuracy: 0.7937 - val_loss: 0.6067 - val_accuracy: 0.7914\n",
            "Epoch 00011: early stopping\n"
          ],
          "name": "stdout"
        }
      ]
    },
    {
      "cell_type": "code",
      "metadata": {
        "colab": {
          "base_uri": "https://localhost:8080/"
        },
        "id": "gaI5SyJsYeVA",
        "outputId": "201b76b8-2bbe-42cd-c96f-afaacdb033b0"
      },
      "source": [
        "#Test translation\n",
        "def en_to_fr(model, index):\n",
        "  testwords = tmp_x[index]                             \n",
        "  trans_logits=model.predict(testwords)\n",
        "  trans_logits\n",
        "  english_sent=' '.join(english_tokenizer.sequences_to_texts(testwords[0])).rstrip()\n",
        "  print(english_sent,'\\n')\n",
        "  print(logits_to_text(trans_logits[0], french_tokenizer))\n",
        "index = np.random.randint(0, (tmp_x.shape[0]), 1)      \n",
        "for mod in (model,modelemb):\n",
        "  en_to_fr(mod,index)\n"
      ],
      "execution_count": 64,
      "outputs": [
        {
          "output_type": "stream",
          "text": [
            "china is usually busy during may but it is never quiet in january \n",
            "\n",
            "la est est occupé en au mois de mai mais il est jamais tranquille en      \n",
            "china is usually busy during may but it is never quiet in january \n",
            "\n",
            "chine est généralement généralement en au mois de mai mais il est jamais tranquille en janvier     \n"
          ],
          "name": "stdout"
        }
      ]
    },
    {
      "cell_type": "markdown",
      "metadata": {
        "id": "MQacJtFZ3Zic"
      },
      "source": [
        "#### Model 2: Implement an RNN model using word embeddings\n",
        "\n",
        "Embeddings are better representation of words. An embedding is a vector representation of a word in n-dimensional space, where n represents the size of the embedding vector.\n"
      ]
    },
    {
      "cell_type": "code",
      "metadata": {
        "id": "Ropzm7KD8juF",
        "colab": {
          "base_uri": "https://localhost:8080/"
        },
        "outputId": "acb222fb-c0fc-4aec-f85b-49158efb86d2"
      },
      "source": [
        "# Model 2: Embedding\n",
        "from keras.callbacks  import  EarlyStopping\n",
        "from tensorflow.keras.layers import GRU, Input,InputLayer, Dense, TimeDistributed, Activation, RepeatVector, Bidirectional\n",
        "\n",
        "es = EarlyStopping(monitor=\"val_loss\",verbose=1,mode='min',patience=3)\n",
        "def embed_model(input_shape, output_sequence_length, english_vocab_size, french_vocab_size):\n",
        "    \"\"\"\n",
        "    Build and train a RNN model using word embedding on x and y\n",
        "    :param input_shape: Tuple of input shape\n",
        "    :param output_sequence_length: Length of output sequence\n",
        "    :param english_vocab_size: Number of unique English words in the dataset\n",
        "    :param french_vocab_size: Number of unique French words in the dataset\n",
        "    :return: Keras model built, but not trained\n",
        "    \"\"\"\n",
        "    # TODO: Build the layers and compile the model. (Hint: Similar to the first model use a GRU network followed by a TimeDistributed dense layer from tensorflow.keras.layers module. \n",
        "    # And this time make use of Embedding as well!)\n",
        "    embedding_size = 128  # a common choice but fully arbitrary chosen here \n",
        "    model = Sequential()\n",
        "                                                                               \n",
        "    model.add( Embedding( input_dim=english_vocab_size, output_dim=embedding_size,input_length=input_shape[0])) \n",
        "\n",
        "    model.add(GRU(units=english_vocab_size, return_sequences = True, input_shape=(input_shape[0],input_shape[1] )))\n",
        "    model.add(TimeDistributed (Dense(units=french_vocab_size, activation='Softmax')))\n",
        "    model.compile (loss='sparse_categorical_crossentropy', \n",
        "                   optimizer='adam', \n",
        "                   metrics=['accuracy'])\n",
        "   \n",
        "    return model\n",
        "\n",
        "modelemb = embed_model(tmp_x.shape,max_french_sequence_length,english_vocab_size+1,french_vocab_size+1) \n",
        "\n",
        "histemb=modelemb.fit(tmp_x,preproc_french_sentences,validation_split=0.2, epochs=100, verbose=1,callbacks=[es])\n",
        "\n",
        "# TODO: Print prediction(s) for one or more of the English sentences. Hint: Make use of the `logits_to_text` function for transforming output logits to text. \n",
        "# (Hint: If you predict on the same sentence you can compare the result of different model on that specific sentence with each other.)\n"
      ],
      "execution_count": 52,
      "outputs": [
        {
          "output_type": "stream",
          "text": [
            "Epoch 1/100\n",
            "WARNING:tensorflow:Model was constructed with shape (None, 137860) for input KerasTensor(type_spec=TensorSpec(shape=(None, 137860), dtype=tf.float32, name='embedding_input'), name='embedding_input', description=\"created by layer 'embedding_input'\"), but it was called on an input with incompatible shape (None, 21).\n",
            "WARNING:tensorflow:Model was constructed with shape (None, 137860) for input KerasTensor(type_spec=TensorSpec(shape=(None, 137860), dtype=tf.float32, name='embedding_input'), name='embedding_input', description=\"created by layer 'embedding_input'\"), but it was called on an input with incompatible shape (None, 21).\n",
            "3441/3447 [============================>.] - ETA: 0s - loss: 0.6593 - accuracy: 0.8272WARNING:tensorflow:Model was constructed with shape (None, 137860) for input KerasTensor(type_spec=TensorSpec(shape=(None, 137860), dtype=tf.float32, name='embedding_input'), name='embedding_input', description=\"created by layer 'embedding_input'\"), but it was called on an input with incompatible shape (None, 21).\n",
            "3447/3447 [==============================] - 21s 6ms/step - loss: 0.6588 - accuracy: 0.8273 - val_loss: 0.3066 - val_accuracy: 0.9004\n",
            "Epoch 2/100\n",
            "3447/3447 [==============================] - 19s 6ms/step - loss: 0.2600 - accuracy: 0.9133 - val_loss: 0.2338 - val_accuracy: 0.9200\n",
            "Epoch 3/100\n",
            "3447/3447 [==============================] - 19s 6ms/step - loss: 0.2201 - accuracy: 0.9243 - val_loss: 0.2162 - val_accuracy: 0.9255\n",
            "Epoch 4/100\n",
            "3447/3447 [==============================] - 19s 6ms/step - loss: 0.2030 - accuracy: 0.9292 - val_loss: 0.2076 - val_accuracy: 0.9292\n",
            "Epoch 5/100\n",
            "3447/3447 [==============================] - 19s 6ms/step - loss: 0.1923 - accuracy: 0.9320 - val_loss: 0.1971 - val_accuracy: 0.9312\n",
            "Epoch 6/100\n",
            "3447/3447 [==============================] - 19s 6ms/step - loss: 0.1855 - accuracy: 0.9338 - val_loss: 0.1931 - val_accuracy: 0.9327\n",
            "Epoch 7/100\n",
            "3447/3447 [==============================] - 19s 6ms/step - loss: 0.1814 - accuracy: 0.9348 - val_loss: 0.1919 - val_accuracy: 0.9324\n",
            "Epoch 8/100\n",
            "3447/3447 [==============================] - 19s 6ms/step - loss: 0.1791 - accuracy: 0.9356 - val_loss: 0.1970 - val_accuracy: 0.9315\n",
            "Epoch 9/100\n",
            "3447/3447 [==============================] - 19s 6ms/step - loss: 0.1747 - accuracy: 0.9367 - val_loss: 0.1865 - val_accuracy: 0.9341\n",
            "Epoch 10/100\n",
            "3447/3447 [==============================] - 19s 6ms/step - loss: 0.1737 - accuracy: 0.9369 - val_loss: 0.1848 - val_accuracy: 0.9346\n",
            "Epoch 11/100\n",
            "3447/3447 [==============================] - 19s 6ms/step - loss: 0.1712 - accuracy: 0.9376 - val_loss: 0.1863 - val_accuracy: 0.9328\n",
            "Epoch 12/100\n",
            "3447/3447 [==============================] - 19s 6ms/step - loss: 0.1695 - accuracy: 0.9381 - val_loss: 0.1870 - val_accuracy: 0.9347\n",
            "Epoch 13/100\n",
            "3447/3447 [==============================] - 19s 6ms/step - loss: 0.1693 - accuracy: 0.9380 - val_loss: 0.1866 - val_accuracy: 0.9347\n",
            "Epoch 00013: early stopping\n"
          ],
          "name": "stdout"
        }
      ]
    },
    {
      "cell_type": "markdown",
      "metadata": {
        "id": "LqMHh7Hw3X_z"
      },
      "source": [
        "#### Model 3: Implement a Bidirectional RNN network.\n",
        "\n",
        "One of the restrictions of RNN networks is that they only see the data from past. However, Bidirectional RNNs can see the data in both directions past and future. Make use of Bidirectionality and experiment if this feature enhances your network's performance or not."
      ]
    },
    {
      "cell_type": "code",
      "metadata": {
        "id": "Z_ZqZ7PqEWSM",
        "colab": {
          "base_uri": "https://localhost:8080/"
        },
        "outputId": "9c143dbf-78d3-43a3-eeef-1616f09334a8"
      },
      "source": [
        "# Model 3: Bidirectional RNNs\n",
        "def bd_model(input_shape, output_sequence_length, english_vocab_size, french_vocab_size):\n",
        "    \"\"\"\n",
        "    Build and train a bidirectional RNN model on x and y\n",
        "    :param input_shape: Tuple of input shape\n",
        "    :param output_sequence_length: Length of output sequence\n",
        "    :param english_vocab_size: Number of unique English words in the dataset\n",
        "    :param french_vocab_size: Number of unique French words in the dataset\n",
        "    :return: Keras model built, but not trained\n",
        "    \"\"\"\n",
        "    # TODO:  Build the layers and compile the model. (Hint: Similar to the first model use a GRU network followed by a TimeDistributed dense layer from tensorflow.keras.layers module. \n",
        "\n",
        "    # Don't forget to make your network bidirectional!)\n",
        "    model = Sequential()\n",
        "    model.add(InputLayer(input_shape=input_shape[1:]))\n",
        "    model.add(Bidirectional(GRU(english_vocab_size,return_sequences=True)))\n",
        "    model.add(Dense(french_vocab_size,activation='Softmax'))\n",
        "    model.compile(loss=sparse_categorical_crossentropy,\n",
        "                  optimizer=Adam(learning_rate),\n",
        "                  metrics=['accuracy'])\n",
        "    model.summary()\n",
        "    return model\n",
        "modelbd = bd_model(tmp_x.shape,max_french_sequence_length,english_vocab_size+1,french_vocab_size+1) \n",
        "\n",
        "histbd=modelbd.fit(tmp_x,preproc_french_sentences,validation_split=0.2, epochs=100, verbose=1,callbacks=[es])\n",
        "\n",
        "# TODO: Print prediction(s) for one or more of the English sentences. Hint: Make use of the `logits_to_text` function for transforming output logits to text.\n",
        "# (Hint: If you predict on the same sentence you can compare the result of different model on that specific sentence with each other.)\n"
      ],
      "execution_count": null,
      "outputs": [
        {
          "output_type": "stream",
          "text": [
            "Model: \"sequential_13\"\n",
            "_________________________________________________________________\n",
            "Layer (type)                 Output Shape              Param #   \n",
            "=================================================================\n",
            "bidirectional_1 (Bidirection (None, 21, 400)           243600    \n",
            "_________________________________________________________________\n",
            "dense_7 (Dense)              (None, 21, 345)           138345    \n",
            "=================================================================\n",
            "Total params: 381,945\n",
            "Trainable params: 381,945\n",
            "Non-trainable params: 0\n",
            "_________________________________________________________________\n",
            "Epoch 1/100\n",
            "3447/3447 [==============================] - 29s 8ms/step - loss: 1.0307 - accuracy: 0.6794 - val_loss: 0.8660 - val_accuracy: 0.7008\n",
            "Epoch 2/100\n",
            "3447/3447 [==============================] - 26s 8ms/step - loss: 0.7925 - accuracy: 0.7278 - val_loss: 0.8012 - val_accuracy: 0.7162\n",
            "Epoch 3/100\n",
            "3447/3447 [==============================] - 26s 8ms/step - loss: 0.7212 - accuracy: 0.7446 - val_loss: 0.7375 - val_accuracy: 0.7307\n",
            "Epoch 4/100\n",
            "3447/3447 [==============================] - 26s 8ms/step - loss: 0.6984 - accuracy: 0.7474 - val_loss: 0.6808 - val_accuracy: 0.7477\n",
            "Epoch 5/100\n",
            "3447/3447 [==============================] - 26s 8ms/step - loss: 0.6610 - accuracy: 0.7620 - val_loss: 0.6338 - val_accuracy: 0.7801\n",
            "Epoch 6/100\n",
            "3447/3447 [==============================] - 26s 8ms/step - loss: 0.6089 - accuracy: 0.7855 - val_loss: 0.5765 - val_accuracy: 0.7997\n",
            "Epoch 7/100\n",
            "3447/3447 [==============================] - 27s 8ms/step - loss: 0.5749 - accuracy: 0.8010 - val_loss: 0.5443 - val_accuracy: 0.8145\n",
            "Epoch 8/100\n",
            "3447/3447 [==============================] - 26s 8ms/step - loss: 0.5589 - accuracy: 0.8061 - val_loss: 0.5221 - val_accuracy: 0.8141\n",
            "Epoch 9/100\n",
            "3447/3447 [==============================] - 26s 8ms/step - loss: 0.5710 - accuracy: 0.7997 - val_loss: 0.5746 - val_accuracy: 0.8066\n",
            "Epoch 10/100\n",
            "3447/3447 [==============================] - 26s 8ms/step - loss: 0.5242 - accuracy: 0.8204 - val_loss: 0.4617 - val_accuracy: 0.8447\n",
            "Epoch 11/100\n",
            "3447/3447 [==============================] - 26s 8ms/step - loss: 0.5048 - accuracy: 0.8268 - val_loss: 0.5336 - val_accuracy: 0.8167\n",
            "Epoch 12/100\n",
            "3447/3447 [==============================] - 26s 8ms/step - loss: 0.4945 - accuracy: 0.8322 - val_loss: 0.5492 - val_accuracy: 0.8153\n",
            "Epoch 13/100\n",
            "3447/3447 [==============================] - 26s 8ms/step - loss: 0.5040 - accuracy: 0.8259 - val_loss: 0.4746 - val_accuracy: 0.8429\n",
            "Epoch 00013: early stopping\n"
          ],
          "name": "stdout"
        }
      ]
    },
    {
      "cell_type": "markdown",
      "metadata": {
        "id": "WVgbz1IGLbTn"
      },
      "source": [
        "#### Model 4: Implement an Encoder-Decoder model (Optional)"
      ]
    },
    {
      "cell_type": "code",
      "metadata": {
        "id": "Qgj43NvjKZDO"
      },
      "source": [
        "\n",
        "def encdec_model(input_shape, output_sequence_length, english_vocab_size, french_vocab_size):\n",
        "    \"\"\"\n",
        "    Build and train an encoder-decoder model on x and y\n",
        "    :param input_shape: Tuple of input shape\n",
        "    :param output_sequence_length: Length of output sequence\n",
        "    :param english_vocab_size: Number of unique English words in the dataset\n",
        "    :param french_vocab_size: Number of unique French words in the dataset\n",
        "    :return: Keras model built, but not trained\n",
        "    \"\"\"\n",
        "    embedding_size=128\n",
        "    rnn_cells=200\n",
        "    dropout=0.1\n",
        "    learning_rate=0.003\n",
        "    # OPTIONAL: Implement\n",
        "    #Input\n",
        "    encoder_input_seq = Input(shape=input_shape[1:],name=\"enc_input\")\n",
        "    #Encoder\n",
        "    encoder_output,state_t = GRU(units=rnn_cells,\n",
        "                                 dropout=dropout,\n",
        "                                 return_sequences=False,\n",
        "                                 return_state=True,\n",
        "                                 name=\"enc_rnn\")(encoder_input_seq)\n",
        "    #Decoder RNN\n",
        "    decoder_input_seq = RepeatVector(output_sequence_length)(encoder_output)\n",
        "    #Decoder output\n",
        "    decoder_out= GRU(units=rnn_cells,\n",
        "                     dropout=dropout,\n",
        "                     return_sequences=True,\n",
        "                     return_state=False)(decoder_input_seq,initial_state=state_t)\n",
        "\n",
        "    logits=TimeDistributed(Dense(units=french_vocab_size))(decoder_out)\n",
        "    model= Model(encoder_input_seq,Activation('softmax')(logits))\n",
        "    model.compile(loss=sparse_categorical_crossentropy,\n",
        "                  optimizer=Adam(learning_rate),\n",
        "                  metrics=['accuracy'])\n",
        "    model.summary()\n",
        "\n",
        "\n",
        "    return model\n",
        "\n",
        "\n",
        "# OPTIONAL: Train and Print prediction(s)\n"
      ],
      "execution_count": null,
      "outputs": []
    },
    {
      "cell_type": "markdown",
      "metadata": {
        "id": "63Z7VO2cNHSD"
      },
      "source": [
        "#### Finally, you can use all the models you built in this exercise to create a model that incorporates embedding and bidirectionality into one model. (Optional)"
      ]
    },
    {
      "cell_type": "code",
      "metadata": {
        "id": "54Mj9eDjMDwX"
      },
      "source": [
        "\n",
        "def model_final(input_shape, output_sequence_length, english_vocab_size, french_vocab_size):\n",
        "    \"\"\"\n",
        "    Build and train a model that incorporates embedding, encoder-decoder, and bidirectional RNN on x and y\n",
        "    :param input_shape: Tuple of input shape\n",
        "    :param output_sequence_length: Length of output sequence\n",
        "    :param english_vocab_size: Number of unique English words in the dataset\n",
        "    :param french_vocab_size: Number of unique French words in the dataset\n",
        "    :return: Keras model built, but not trained\n",
        "    \"\"\"\n",
        "    # TODO: Implement\n",
        "\n",
        "    return model\n",
        "# OPTIONAL: Train and Print prediction(s)"
      ],
      "execution_count": null,
      "outputs": []
    },
    {
      "cell_type": "markdown",
      "metadata": {
        "id": "kiXZThFkN07F"
      },
      "source": [
        "### Final Notes and TODOs\n",
        "\n",
        "\n",
        "\n",
        "\n",
        "*   In this exercise we focus on  learning different recurrent network architectures for machine translation, However we don't evaluate the models on a separate test set. To follow best machine learning practices, you can make use of the `sklearn.model_selecttion.train_test_split()` function to create separate training and test datasets. You can then retrain each of the models on the training set and evaluate the prediction accuracy using the hold out set. Observe how the best model performance might change.\n",
        "* If you don't have any idea about French (like me :D) you can use a translater like [google translat](https://translate.google.com/) to compare the prediction(s) from your models with the respective original English sentence(s).\n",
        "*   TODO: Finally, you can also try to train and predict your models on other language pairs. As a convenient example, you can use your models to translate from French to English since you already have the data available.\n",
        "\n",
        "\n",
        "\n"
      ]
    }
  ]
}