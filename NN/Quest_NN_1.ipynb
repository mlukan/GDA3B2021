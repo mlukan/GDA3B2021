{
 "cells": [
  {
   "cell_type": "markdown",
   "metadata": {
    "colab_type": "text",
    "id": "view-in-github"
   },
   "source": [
    "<a href=\"https://colab.research.google.com/github/mlukan/GDA3B2021/blob/main/NN/Quest_NN_1.ipynb\" target=\"_parent\"><img src=\"https://colab.research.google.com/assets/colab-badge.svg\" alt=\"Open In Colab\"/></a>"
   ]
  },
  {
   "cell_type": "markdown",
   "metadata": {
    "id": "aiN9ZzA2zeLy"
   },
   "source": [
    "# Preparation\n",
    "Import TensorFlow library and the [Boston housing dataset](https://keras.io/api/datasets/boston_housing/) by running the cells below. In this quest, we will be predicting house prices based on various features. For this purose, we will build a very basic neural network. In the later quests, you will build upon this framework and extend it with new methods, better suited for achieving better results with the current task as well as running more complex ones."
   ]
  },
  {
   "cell_type": "code",
   "execution_count": 1,
   "metadata": {
    "id": "Tv_OSHc-WmHk"
   },
   "outputs": [],
   "source": [
    "import tensorflow as tf\n",
    "boston_housing = tf.keras.datasets.boston_housing"
   ]
  },
  {
   "cell_type": "markdown",
   "metadata": {
    "id": "2khdoOH77J5C"
   },
   "source": [
    "# Tasks"
   ]
  },
  {
   "cell_type": "markdown",
   "metadata": {
    "id": "ocCVpn0v3Xl1"
   },
   "source": [
    "From the dataset, extract training and testing features and labels."
   ]
  },
  {
   "cell_type": "code",
   "execution_count": 2,
   "metadata": {
    "id": "XOThjRZ1wFoC"
   },
   "outputs": [],
   "source": [
    "# your code\n",
    "data = boston_housing.load_data(test_split=0.2)"
   ]
  },
  {
   "cell_type": "code",
   "execution_count": 19,
   "metadata": {
    "colab": {
     "base_uri": "https://localhost:8080/"
    },
    "id": "k1s54UWLiJk_",
    "outputId": "9fbe838e-23c4-41d6-f981-11ac59e151c3"
   },
   "outputs": [
    {
     "name": "stdout",
     "output_type": "stream",
     "text": [
      "Shape of training data:     (404, 13)\n",
      "Shape of training labels:   (404, 1)\n",
      "Shape of test data:         (102, 13)\n",
      "Shape of test labels:       (102, 1)\n"
     ]
    }
   ],
   "source": [
    "import numpy as np\n",
    "\n",
    "X_train = data[0][0]\n",
    "y_train = data[0][1]\n",
    "X_test = data[1][0]\n",
    "y_test = data[1][1]\n",
    "\n",
    "y_train = np.reshape(y_train, (y_train.shape[0],1))\n",
    "y_test = np.reshape(y_test, (y_test.shape[0],1))\n",
    "\n",
    "print('Shape of training data:    ', X_train.shape)\n",
    "print('Shape of training labels:  ', y_train.shape)\n",
    "print('Shape of test data:        ', X_test.shape)\n",
    "print('Shape of test labels:      ', y_test.shape)"
   ]
  },
  {
   "cell_type": "markdown",
   "metadata": {
    "id": "6hDMNzdr3mUv"
   },
   "source": [
    "Build a very simple sequential model with three [dense](https://medium.com/datathings/dense-layers-explained-in-a-simple-way-62fe1db0ed75) layers - one input layer for the features, one hidden layer and one output layer for the price prediction. Equip the hidden layers with 64 neurons. How many nodes does the output layer need? An what activation function? Make the input and the hidden layer use [ReLu](https://machinelearningmastery.com/rectified-linear-activation-function-for-deep-learning-neural-networks/) as your activation function."
   ]
  },
  {
   "cell_type": "code",
   "execution_count": 66,
   "metadata": {
    "id": "W625Z5XXwvoZ"
   },
   "outputs": [],
   "source": [
    "# your code\n",
    "import numpy as np\n",
    "from tensorflow.keras.models import Sequential\n",
    "from tensorflow.keras.layers import Dense, Dropout\n",
    "\n",
    "nn=Sequential()\n",
    "nn.add(Dense(64,input_dim=13, activation='relu'))\n",
    "nn.add(Dense(64,activation='relu'))\n",
    "nn.add(Dense(1))\n",
    "\n",
    "\n",
    "\n"
   ]
  },
  {
   "cell_type": "markdown",
   "metadata": {
    "id": "RnjQtIv4Rst3"
   },
   "source": [
    "Print the model summary to get an overview of it in the cell below."
   ]
  },
  {
   "cell_type": "code",
   "execution_count": 67,
   "metadata": {
    "id": "lZP4Gs0GRsQL"
   },
   "outputs": [
    {
     "name": "stdout",
     "output_type": "stream",
     "text": [
      "Model: \"sequential_15\"\n",
      "_________________________________________________________________\n",
      "Layer (type)                 Output Shape              Param #   \n",
      "=================================================================\n",
      "dense_24 (Dense)             (None, 64)                896       \n",
      "_________________________________________________________________\n",
      "dense_25 (Dense)             (None, 64)                4160      \n",
      "_________________________________________________________________\n",
      "dense_26 (Dense)             (None, 1)                 65        \n",
      "=================================================================\n",
      "Total params: 5,121\n",
      "Trainable params: 5,121\n",
      "Non-trainable params: 0\n",
      "_________________________________________________________________\n"
     ]
    }
   ],
   "source": [
    "# your code\n",
    "nn.summary()"
   ]
  },
  {
   "cell_type": "markdown",
   "metadata": {
    "id": "a1BDcsNp5wQp"
   },
   "source": [
    "Now, compile your model. For the sake of simplicity, use Mean Squared Error both as loss function and as metrics. For optimization, use [Adam](https://machinelearningmastery.com/adam-optimization-algorithm-for-deep-learning/#:~:text=Adam%20is%20an%20optimization%20algorithm,iterative%20based%20in%20training%20data.&text=The%20algorithm%20is%20called%20Adam.)."
   ]
  },
  {
   "cell_type": "code",
   "execution_count": 68,
   "metadata": {
    "id": "uMEplqvJxIcq"
   },
   "outputs": [],
   "source": [
    "from tensorflow.keras.optimizers import Adam\n",
    "# your code\n",
    "opt = Adam(0.001)\n",
    "\n",
    "nn.compile(optimizer=opt, loss='mean_squared_error')\n"
   ]
  },
  {
   "cell_type": "markdown",
   "metadata": {
    "id": "fIIt4tV56ba4"
   },
   "source": [
    "Fit the model on the train data. 1000 epochs should be more than enough. "
   ]
  },
  {
   "cell_type": "code",
   "execution_count": 69,
   "metadata": {
    "id": "aumsKUbYxpa3"
   },
   "outputs": [
    {
     "name": "stdout",
     "output_type": "stream",
     "text": [
      "CPU times: user 25.9 s, sys: 1.7 s, total: 27.6 s\n",
      "Wall time: 24.5 s\n"
     ]
    }
   ],
   "source": [
    "%%time\n",
    "nnstory=nn.fit(X_train,\n",
    "        y_train,\n",
    "      epochs=1000,\n",
    "        batch_size=20,\n",
    "       validation_data=(X_test,y_test),\n",
    "       verbose=0\n",
    "      )"
   ]
  },
  {
   "cell_type": "markdown",
   "metadata": {
    "id": "rPzrS8ai6_m6"
   },
   "source": [
    "Finally, evaluate your model on the test data and get the score."
   ]
  },
  {
   "cell_type": "code",
   "execution_count": 17,
   "metadata": {
    "id": "IS0XwgW1y1aG"
   },
   "outputs": [],
   "source": [
    "# your code:\n",
    "import matplotlib.pyplot as plt\n",
    "def show_history(story):\n",
    "    fig, (ax2) = plt.subplots(1)\n",
    "    fig.set_size_inches(10, 5)\n",
    "    ax2.plot(story.history['loss'])\n",
    "    ax2.plot(story.history['val_loss'])\n",
    "    ax2.set(xlabel='epoch', ylabel='loss')\n",
    "    ax2.legend(['train_loss', 'test_loss'], loc='best')\n",
    "    ax2.set_title('Loss evolution during NN training')\n",
    "    ax2.set_ylim(0,200)\n",
    "    plt.show()\n",
    "    \n"
   ]
  },
  {
   "cell_type": "code",
   "execution_count": null,
   "metadata": {},
   "outputs": [],
   "source": [
    "loss=nn.evaluate(X_test, y_test,verbose=0)\n",
    "# print test loss and accuracy \n",
    "print(f\"Loss:{loss[0]}\")\n"
   ]
  },
  {
   "cell_type": "markdown",
   "metadata": {
    "id": "Q4SNvjdlxTwr"
   },
   "source": [
    "Further suggestions: \n",
    "\n",
    "Plot the loss on the training AND validation set for each epoch\n",
    "\n",
    "What does this tell you about your model? \n",
    "\n"
   ]
  },
  {
   "cell_type": "code",
   "execution_count": 77,
   "metadata": {
    "id": "X_En9C6Vu5we"
   },
   "outputs": [
    {
     "data": {
      "image/png": "[encoded data removed]",
      "text/plain": [
       "<Figure size 720x360 with 1 Axes>"
      ]
     },
     "metadata": {
      "needs_background": "light"
     },
     "output_type": "display_data"
    }
   ],
   "source": [
    "#plot the history using the above defined function show_history( )\n",
    "show_history(nnstory)"
   ]
  },
  {
   "cell_type": "code",
   "execution_count": 64,
   "metadata": {
    "id": "dbdTiW2KlPPN"
   },
   "outputs": [],
   "source": [
    "del nn,nnstory"
   ]
  },
  {
   "cell_type": "markdown",
   "metadata": {},
   "source": [
    "## Experiments\n",
    "Try out different hyperparameters, i.e. reduce the number of neurons in your hidden layers - or increase them, add more hidden layers, add some regularization, i.e. L2-regularization or dropout"
   ]
  },
  {
   "cell_type": "markdown",
   "metadata": {},
   "source": [
    "### Scaling X"
   ]
  },
  {
   "cell_type": "code",
   "execution_count": 20,
   "metadata": {},
   "outputs": [],
   "source": [
    "from sklearn.preprocessing import StandardScaler\n",
    "scaler = StandardScaler()\n",
    "scaler=scaler.fit(X_train)\n",
    "X_train_sc= scaler.transform(X_train)\n",
    "X_test_sc=scaler.transform(X_test)\n"
   ]
  },
  {
   "cell_type": "code",
   "execution_count": 76,
   "metadata": {},
   "outputs": [],
   "source": [
    "from keras.layers import Dense, Dropout, Activation, Flatten,Dropout\n",
    "import numpy as np\n",
    "from tensorflow.keras.models import Sequential\n",
    "from tensorflow.keras.layers import Dense, Dropout\n",
    "from tensorflow.keras.optimizers import Adam\n",
    "\n",
    "nn2=Sequential()\n",
    "nn2.add(Dense(128,input_dim=13, activation='relu',kernel_regularizer='l2'))\n",
    "nn2.add(Dense(128,activation='relu',kernel_regularizer='l2'))\n",
    "nn2.add(Dense(1))\n",
    "opt = Adam(0.001)\n",
    "\n",
    "nn2.compile(optimizer=opt, loss='mean_squared_error')"
   ]
  },
  {
   "cell_type": "code",
   "execution_count": 77,
   "metadata": {},
   "outputs": [
    {
     "name": "stdout",
     "output_type": "stream",
     "text": [
      "CPU times: user 30.4 s, sys: 1.73 s, total: 32.1 s\n",
      "Wall time: 26.6 s\n"
     ]
    }
   ],
   "source": [
    "%%time\n",
    "nn2story=nn2.fit(X_train_sc,\n",
    "        y_train,\n",
    "      epochs=1000,\n",
    "        batch_size=20,\n",
    "       validation_data=(X_test_sc,y_test),\n",
    "       verbose=0\n",
    "      )"
   ]
  },
  {
   "cell_type": "code",
   "execution_count": 78,
   "metadata": {},
   "outputs": [
    {
     "name": "stdout",
     "output_type": "stream",
     "text": [
      "Train loss:1.3226443529129028, Test loss: 11.20610523223877\n"
     ]
    }
   ],
   "source": [
    "#loss=nn2.evaluate(X_test_sc, y_test,verbose=0)\n",
    "trainloss,testloss=nn2story.history['loss'][-1],nn2story.history['val_loss'][-1]\n",
    "# print test loss and accuracy \n",
    "print(f\"Train loss:{trainloss}, Test loss: {testloss}\")"
   ]
  },
  {
   "cell_type": "code",
   "execution_count": 79,
   "metadata": {},
   "outputs": [
    {
     "data": {
      "image/png": "[encoded data removed]",
      "text/plain": [
       "<Figure size 720x360 with 1 Axes>"
      ]
     },
     "metadata": {
      "needs_background": "light"
     },
     "output_type": "display_data"
    }
   ],
   "source": [
    "show_history(nn2story)"
   ]
  },
  {
   "cell_type": "code",
   "execution_count": 75,
   "metadata": {},
   "outputs": [],
   "source": [
    "del nn2,nn2story"
   ]
  },
  {
   "cell_type": "code",
   "execution_count": null,
   "metadata": {},
   "outputs": [],
   "source": []
  }
 ],
 "metadata": {
  "accelerator": "GPU",
  "colab": {
   "collapsed_sections": [],
   "include_colab_link": true,
   "name": "Quest_NN_1.ipynb",
   "provenance": []
  },
  "kernelspec": {
   "display_name": "Python 3",
   "language": "python",
   "name": "python3"
  },
  "language_info": {
   "codemirror_mode": {
    "name": "ipython",
    "version": 3
   },
   "file_extension": ".py",
   "mimetype": "text/x-python",
   "name": "python",
   "nbconvert_exporter": "python",
   "pygments_lexer": "ipython3",
   "version": "3.8.5"
  }
 },
 "nbformat": 4,
 "nbformat_minor": 4
}
