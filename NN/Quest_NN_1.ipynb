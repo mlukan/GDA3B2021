{
  "nbformat": 4,
  "nbformat_minor": 0,
  "metadata": {
    "colab": {
      "name": "Quest_NN_1.ipynb",
      "provenance": [],
      "collapsed_sections": [],
      "include_colab_link": true
    },
    "kernelspec": {
      "name": "python3",
      "display_name": "Python 3"
    },
    "accelerator": "GPU"
  },
  "cells": [
    {
      "cell_type": "markdown",
      "metadata": {
        "id": "view-in-github",
        "colab_type": "text"
      },
      "source": [
        "<a href=\"https://colab.research.google.com/github/mlukan/GDA3B2021/blob/main/NN/Quest_NN_1.ipynb\" target=\"_parent\"><img src=\"https://colab.research.google.com/assets/colab-badge.svg\" alt=\"Open In Colab\"/></a>"
      ]
    },
    {
      "cell_type": "markdown",
      "metadata": {
        "id": "aiN9ZzA2zeLy"
      },
      "source": [
        "# Preparation\n",
        "Import TensorFlow library and the [Boston housing dataset](https://keras.io/api/datasets/boston_housing/) by running the cells below. In this quest, we will be predicting house prices based on various features. For this purose, we will build a very basic neural network. In the later quests, you will build upon this framework and extend it with new methods, better suited for achieving better results with the current task as well as running more complex ones."
      ]
    },
    {
      "cell_type": "code",
      "metadata": {
        "id": "Tv_OSHc-WmHk"
      },
      "source": [
        "import tensorflow as tf\n",
        "boston_housing = tf.keras.datasets.boston_housing"
      ],
      "execution_count": null,
      "outputs": []
    },
    {
      "cell_type": "markdown",
      "metadata": {
        "id": "2khdoOH77J5C"
      },
      "source": [
        "# Tasks"
      ]
    },
    {
      "cell_type": "markdown",
      "metadata": {
        "id": "ocCVpn0v3Xl1"
      },
      "source": [
        "From the dataset, extract training and testing features and labels."
      ]
    },
    {
      "cell_type": "code",
      "metadata": {
        "id": "XOThjRZ1wFoC"
      },
      "source": [
        "# your code\n",
        "data = boston_housing.load_data(test_split=0.2)"
      ],
      "execution_count": null,
      "outputs": []
    },
    {
      "cell_type": "code",
      "metadata": {
        "colab": {
          "base_uri": "https://localhost:8080/"
        },
        "id": "k1s54UWLiJk_",
        "outputId": "9fbe838e-23c4-41d6-f981-11ac59e151c3"
      },
      "source": [
        "import numpy as np\n",
        "\n",
        "X_train = data[0][0]\n",
        "y_train = data[0][1]\n",
        "X_test = data[1][0]\n",
        "y_test = data[1][1]\n",
        "\n",
        "y_train = np.reshape(y_train, (y_train.shape[0],1))\n",
        "y_test = np.reshape(y_test, (y_test.shape[0],1))\n",
        "\n",
        "print('Shape of training data:    ', X_train.shape)\n",
        "print('Shape of training labels:  ', y_train.shape)\n",
        "print('Shape of test data:        ', X_test.shape)\n",
        "print('Shape of test labels:      ', y_test.shape)"
      ],
      "execution_count": null,
      "outputs": [
        {
          "output_type": "stream",
          "text": [
            "Shape of training data:     (404, 13)\n",
            "Shape of training labels:   (404, 1)\n",
            "Shape of test data:         (102, 13)\n",
            "Shape of test labels:       (102, 1)\n"
          ],
          "name": "stdout"
        }
      ]
    },
    {
      "cell_type": "markdown",
      "metadata": {
        "id": "6hDMNzdr3mUv"
      },
      "source": [
        "Build a very simple sequential model with three [dense](https://medium.com/datathings/dense-layers-explained-in-a-simple-way-62fe1db0ed75) layers - one input layer for the features, one hidden layer and one output layer for the price prediction. Equip the hidden layers with 64 neurons. How many nodes does the output layer need? An what activation function? Make the input and the hidden layer use [ReLu](https://machinelearningmastery.com/rectified-linear-activation-function-for-deep-learning-neural-networks/) as your activation function."
      ]
    },
    {
      "cell_type": "code",
      "metadata": {
        "id": "W625Z5XXwvoZ"
      },
      "source": [
        "# your code\n",
        "from tensorflow.keras.models import Sequential\n",
        "from tensorflow.keras.layers import Dense, Dropout\n",
        "\n",
        "\n",
        "\n"
      ],
      "execution_count": null,
      "outputs": []
    },
    {
      "cell_type": "markdown",
      "metadata": {
        "id": "RnjQtIv4Rst3"
      },
      "source": [
        "Print the model summary to get an overview of it in the cell below."
      ]
    },
    {
      "cell_type": "code",
      "metadata": {
        "id": "lZP4Gs0GRsQL"
      },
      "source": [
        "# your code\n"
      ],
      "execution_count": null,
      "outputs": []
    },
    {
      "cell_type": "markdown",
      "metadata": {
        "id": "a1BDcsNp5wQp"
      },
      "source": [
        "Now, compile your model. For the sake of simplicity, use Mean Squared Error both as loss function and as metrics. For optimization, use [Adam](https://machinelearningmastery.com/adam-optimization-algorithm-for-deep-learning/#:~:text=Adam%20is%20an%20optimization%20algorithm,iterative%20based%20in%20training%20data.&text=The%20algorithm%20is%20called%20Adam.)."
      ]
    },
    {
      "cell_type": "code",
      "metadata": {
        "id": "uMEplqvJxIcq"
      },
      "source": [
        "from tensorflow.keras.optimizers import Adam\n",
        "# your code\n"
      ],
      "execution_count": null,
      "outputs": []
    },
    {
      "cell_type": "markdown",
      "metadata": {
        "id": "fIIt4tV56ba4"
      },
      "source": [
        "Fit the model on the train data. 1000 epochs should be more than enough. "
      ]
    },
    {
      "cell_type": "code",
      "metadata": {
        "id": "aumsKUbYxpa3"
      },
      "source": [
        "# your code\n"
      ],
      "execution_count": null,
      "outputs": []
    },
    {
      "cell_type": "markdown",
      "metadata": {
        "id": "rPzrS8ai6_m6"
      },
      "source": [
        "Finally, evaluate your model on the test data and get the score."
      ]
    },
    {
      "cell_type": "code",
      "metadata": {
        "id": "IS0XwgW1y1aG"
      },
      "source": [
        "# your code:\n"
      ],
      "execution_count": null,
      "outputs": []
    },
    {
      "cell_type": "markdown",
      "metadata": {
        "id": "Q4SNvjdlxTwr"
      },
      "source": [
        "Further suggestions: \n",
        "\n",
        "Plot the loss on the training AND validation set for each epoch\n",
        "\n",
        "What does this tell you about your model? \n",
        "\n",
        "Try out different hyperparameters, i.e. reduce the number of neurons in your hidden layers - or increase them, add more hidden layers, add some regularization, i.e. L2-regularization or dropout"
      ]
    },
    {
      "cell_type": "code",
      "metadata": {
        "id": "X_En9C6Vu5we"
      },
      "source": [
        ""
      ],
      "execution_count": null,
      "outputs": []
    },
    {
      "cell_type": "code",
      "metadata": {
        "id": "dbdTiW2KlPPN"
      },
      "source": [
        ""
      ],
      "execution_count": null,
      "outputs": []
    }
  ]
}