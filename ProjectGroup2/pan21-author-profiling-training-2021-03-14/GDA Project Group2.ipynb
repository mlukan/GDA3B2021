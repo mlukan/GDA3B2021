{
 "cells": [
  {
   "cell_type": "markdown",
   "metadata": {
    "id": "2YakbYy0TbgF"
   },
   "source": [
    "#GDA Project Group 2\n",
    "\n",
    "##Profiling hate speach spreders on Twitter\n",
    "\n",
    "\n",
    "1. Understand the content that is available in the dataset .\n",
    "2. Pre-process the data to improve the final results.\n",
    "3. SVM model\n",
    "a. Follow a Support Vector Machine (SVM) based approach to classify users.\n",
    "b. Use tfidf as input for SVMs\n",
    "c. Analyze the outcomes.\n",
    "\n",
    "OPTIONAL:\n",
    "d. Test different lengths of N-Grams and report the best N in which the classifier\n",
    "achieved the best performance \n",
    "e. Report the top 10 representative (most repeated) 1, 2 and 3-grams for each of\n",
    "the classes.\n",
    "\n",
    "4. LSTM model\n",
    "a. Build a LSTM (Long Short-term Memory) text classifier with the same goal as\n",
    "above.\n",
    "b. Analyze the outcomes.\n",
    "6. Compare the results of both models using the F1 measure.\n",
    "7. Obtain statistics that can corroborate the results achieved and explain the reason for\n",
    "these choices.\n",
    "\n",
    "\n",
    "\n",
    "**Additional Hints**\n",
    "\n",
    "You can use whatever data you can find additionally to the data we provided, but\n",
    "don’t spend too much time on searching.\n",
    "This project is about applying the skills you learned during GDA. It is not about\n",
    "developing the perfect solution for a given problem.\n",
    "The project might be a little bit harder than what you are used to. Take it as a “bridge”\n",
    "to the practice phase.\n",
    "Your trainers are available in case you need a nudge in the right direction.\n"
   ]
  },
  {
   "cell_type": "code",
   "execution_count": 1,
   "metadata": {
    "colab": {
     "base_uri": "https://localhost:8080/"
    },
    "executionInfo": {
     "elapsed": 364,
     "status": "ok",
     "timestamp": 1624278794233,
     "user": {
      "displayName": "Martin Záhorský",
      "photoUrl": "https://lh3.googleusercontent.com/a-/AOh14GhKSDJkAZhl6hdxiiLf5QOzLeKa4dGFSCnW5gjs0A=s64",
      "userId": "18426286231639958540"
     },
     "user_tz": -120
    },
    "id": "Scyzho8STR47",
    "outputId": "13222f82-275c-43a6-8081-059af3f68a44"
   },
   "outputs": [
    {
     "ename": "ModuleNotFoundError",
     "evalue": "No module named 'google.colab'",
     "output_type": "error",
     "traceback": [
      "\u001b[0;31m---------------------------------------------------------------------------\u001b[0m",
      "\u001b[0;31mModuleNotFoundError\u001b[0m                       Traceback (most recent call last)",
      "\u001b[0;32m<ipython-input-1-7b751c7ac97f>\u001b[0m in \u001b[0;36m<module>\u001b[0;34m\u001b[0m\n\u001b[1;32m      1\u001b[0m \u001b[0;31m# Mount Google drive\u001b[0m\u001b[0;34m\u001b[0m\u001b[0;34m\u001b[0m\u001b[0;34m\u001b[0m\u001b[0m\n\u001b[0;32m----> 2\u001b[0;31m \u001b[0;32mfrom\u001b[0m \u001b[0mgoogle\u001b[0m\u001b[0;34m.\u001b[0m\u001b[0mcolab\u001b[0m \u001b[0;32mimport\u001b[0m \u001b[0mdrive\u001b[0m\u001b[0;34m\u001b[0m\u001b[0;34m\u001b[0m\u001b[0m\n\u001b[0m\u001b[1;32m      3\u001b[0m \u001b[0mdrive\u001b[0m\u001b[0;34m.\u001b[0m\u001b[0mmount\u001b[0m\u001b[0;34m(\u001b[0m\u001b[0;34m'/content/drive'\u001b[0m\u001b[0;34m)\u001b[0m\u001b[0;34m\u001b[0m\u001b[0;34m\u001b[0m\u001b[0m\n",
      "\u001b[0;31mModuleNotFoundError\u001b[0m: No module named 'google.colab'"
     ]
    }
   ],
   "source": [
    "# Mount Google drive\n",
    "from google.colab import drive\n",
    "drive.mount('/content/drive')"
   ]
  },
  {
   "cell_type": "code",
   "execution_count": null,
   "metadata": {},
   "outputs": [],
   "source": []
  },
  {
   "cell_type": "code",
   "execution_count": 2,
   "metadata": {
    "executionInfo": {
     "elapsed": 23,
     "status": "ok",
     "timestamp": 1624278795012,
     "user": {
      "displayName": "Martin Záhorský",
      "photoUrl": "https://lh3.googleusercontent.com/a-/AOh14GhKSDJkAZhl6hdxiiLf5QOzLeKa4dGFSCnW5gjs0A=s64",
      "userId": "18426286231639958540"
     },
     "user_tz": -120
    },
    "id": "_o-m8yFqaA9a"
   },
   "outputs": [
    {
     "ename": "NameError",
     "evalue": "name 'os' is not defined",
     "output_type": "error",
     "traceback": [
      "\u001b[0;31m---------------------------------------------------------------------------\u001b[0m",
      "\u001b[0;31mNameError\u001b[0m                                 Traceback (most recent call last)",
      "\u001b[0;32m<ipython-input-2-e41beff8958f>\u001b[0m in \u001b[0;36m<module>\u001b[0;34m\u001b[0m\n\u001b[1;32m      2\u001b[0m \u001b[0menlist\u001b[0m\u001b[0;34m=\u001b[0m\u001b[0;34m[\u001b[0m\u001b[0;34m]\u001b[0m\u001b[0;34m\u001b[0m\u001b[0;34m\u001b[0m\u001b[0m\n\u001b[1;32m      3\u001b[0m \u001b[0;31m#Loop over all files in current directory (change directory if necessary)\u001b[0m\u001b[0;34m\u001b[0m\u001b[0;34m\u001b[0m\u001b[0;34m\u001b[0m\u001b[0m\n\u001b[0;32m----> 4\u001b[0;31m \u001b[0;32mfor\u001b[0m \u001b[0mfile\u001b[0m \u001b[0;32min\u001b[0m \u001b[0mos\u001b[0m\u001b[0;34m.\u001b[0m\u001b[0mlistdir\u001b[0m\u001b[0;34m(\u001b[0m\u001b[0mos\u001b[0m\u001b[0;34m.\u001b[0m\u001b[0mgetcwd\u001b[0m\u001b[0;34m(\u001b[0m\u001b[0;34m)\u001b[0m\u001b[0;34m)\u001b[0m\u001b[0;34m:\u001b[0m\u001b[0;34m\u001b[0m\u001b[0;34m\u001b[0m\u001b[0m\n\u001b[0m\u001b[1;32m      5\u001b[0m     \u001b[0;31m#get current file\u001b[0m\u001b[0;34m\u001b[0m\u001b[0;34m\u001b[0m\u001b[0;34m\u001b[0m\u001b[0m\n\u001b[1;32m      6\u001b[0m     \u001b[0mcurrent_file\u001b[0m \u001b[0;34m=\u001b[0m \u001b[0mos\u001b[0m\u001b[0;34m.\u001b[0m\u001b[0mpath\u001b[0m\u001b[0;34m.\u001b[0m\u001b[0mjoin\u001b[0m\u001b[0;34m(\u001b[0m\u001b[0mos\u001b[0m\u001b[0;34m.\u001b[0m\u001b[0mgetcwd\u001b[0m\u001b[0;34m(\u001b[0m\u001b[0;34m)\u001b[0m\u001b[0;34m,\u001b[0m \u001b[0mfile\u001b[0m\u001b[0;34m)\u001b[0m\u001b[0;34m\u001b[0m\u001b[0;34m\u001b[0m\u001b[0m\n",
      "\u001b[0;31mNameError\u001b[0m: name 'os' is not defined"
     ]
    }
   ],
   "source": [
    "import xml.etree.ElementTree as ET\n",
    "enlist=[]\n",
    "#Loop over all files in current directory (change directory if necessary)\n",
    "for file in os.listdir(os.getcwd()):\n",
    "    #get current file\n",
    "    current_file = os.path.join(os.getcwd(), file)\n",
    "    #process all files having 'xml' in name\n",
    "    if 'xml' in current_file:\n",
    "        data = open(current_file, \"r\")\n",
    "        #Parse XML tree\n",
    "        tree = ET.parse(data)\n",
    "        root = tree.getroot()\n",
    "        #Get class attribute\n",
    "        cls=root.attrib['class']\n",
    "        #Find all documents in file\n",
    "        docs=root.find('documents')\n",
    "        #Append documents to the list 'texts'\n",
    "        texts = [doc.text for doc in docs]\n",
    "        #Create a dictionary containing file names, classes and texts\n",
    "        enlist.append({'file':file,'class':cls,'texts':texts})\n",
    "import pandas as pd\n",
    "endf=pd.DataFrame(enlist)\n",
    "len(endf)\n",
    "            "
   ]
  },
  {
   "cell_type": "code",
   "execution_count": 49,
   "metadata": {
    "colab": {
     "base_uri": "https://localhost:8080/"
    },
    "executionInfo": {
     "elapsed": 2986,
     "status": "ok",
     "timestamp": 1624278797979,
     "user": {
      "displayName": "Martin Záhorský",
      "photoUrl": "https://lh3.googleusercontent.com/a-/AOh14GhKSDJkAZhl6hdxiiLf5QOzLeKa4dGFSCnW5gjs0A=s64",
      "userId": "18426286231639958540"
     },
     "user_tz": -120
    },
    "id": "JezpOrAFVqql",
    "outputId": "270885fd-9dc4-4ec4-e909-ba2470175564"
   },
   "outputs": [
    {
     "name": "stdout",
     "output_type": "stream",
     "text": [
      "Requirement already satisfied: pandas_read_xml in /usr/local/lib/python3.7/dist-packages (0.3.1)\n",
      "Requirement already satisfied: xmltodict in /usr/local/lib/python3.7/dist-packages (from pandas_read_xml) (0.12.0)\n",
      "Requirement already satisfied: pyarrow in /usr/local/lib/python3.7/dist-packages (from pandas_read_xml) (3.0.0)\n",
      "Requirement already satisfied: zipfile36 in /usr/local/lib/python3.7/dist-packages (from pandas_read_xml) (0.1.3)\n",
      "Requirement already satisfied: urllib3>=1.26.3 in /usr/local/lib/python3.7/dist-packages (from pandas_read_xml) (1.26.5)\n",
      "Requirement already satisfied: requests in /usr/local/lib/python3.7/dist-packages (from pandas_read_xml) (2.23.0)\n",
      "Requirement already satisfied: distlib in /usr/local/lib/python3.7/dist-packages (from pandas_read_xml) (0.3.2)\n",
      "Requirement already satisfied: pandas in /usr/local/lib/python3.7/dist-packages (from pandas_read_xml) (1.1.5)\n",
      "Requirement already satisfied: numpy>=1.16.6 in /usr/local/lib/python3.7/dist-packages (from pyarrow->pandas_read_xml) (1.19.5)\n",
      "Requirement already satisfied: idna<3,>=2.5 in /usr/local/lib/python3.7/dist-packages (from requests->pandas_read_xml) (2.10)\n",
      "Requirement already satisfied: certifi>=2017.4.17 in /usr/local/lib/python3.7/dist-packages (from requests->pandas_read_xml) (2021.5.30)\n",
      "Requirement already satisfied: chardet<4,>=3.0.2 in /usr/local/lib/python3.7/dist-packages (from requests->pandas_read_xml) (3.0.4)\n",
      "Requirement already satisfied: pytz>=2017.2 in /usr/local/lib/python3.7/dist-packages (from pandas->pandas_read_xml) (2018.9)\n",
      "Requirement already satisfied: python-dateutil>=2.7.3 in /usr/local/lib/python3.7/dist-packages (from pandas->pandas_read_xml) (2.8.1)\n",
      "Requirement already satisfied: six>=1.5 in /usr/local/lib/python3.7/dist-packages (from python-dateutil>=2.7.3->pandas->pandas_read_xml) (1.15.0)\n"
     ]
    }
   ],
   "source": [
    "pip install pandas_read_xml"
   ]
  },
  {
   "cell_type": "code",
   "execution_count": 50,
   "metadata": {
    "colab": {
     "base_uri": "https://localhost:8080/",
     "height": 80
    },
    "executionInfo": {
     "elapsed": 64,
     "status": "ok",
     "timestamp": 1624278797984,
     "user": {
      "displayName": "Martin Záhorský",
      "photoUrl": "https://lh3.googleusercontent.com/a-/AOh14GhKSDJkAZhl6hdxiiLf5QOzLeKa4dGFSCnW5gjs0A=s64",
      "userId": "18426286231639958540"
     },
     "user_tz": -120
    },
    "id": "Xk3tJsB4VK7h",
    "outputId": "f5d68ee9-2b2b-4bd9-c907-cf5bfa604699"
   },
   "outputs": [
    {
     "data": {
      "text/html": [
       "<div>\n",
       "<style scoped>\n",
       "    .dataframe tbody tr th:only-of-type {\n",
       "        vertical-align: middle;\n",
       "    }\n",
       "\n",
       "    .dataframe tbody tr th {\n",
       "        vertical-align: top;\n",
       "    }\n",
       "\n",
       "    .dataframe thead th {\n",
       "        text-align: right;\n",
       "    }\n",
       "</style>\n",
       "<table border=\"1\" class=\"dataframe\">\n",
       "  <thead>\n",
       "    <tr style=\"text-align: right;\">\n",
       "      <th></th>\n",
       "      <th>author</th>\n",
       "    </tr>\n",
       "  </thead>\n",
       "  <tbody>\n",
       "    <tr>\n",
       "      <th>0</th>\n",
       "      <td>{'@lang': 'en', '@class': '1', 'documents': {'...</td>\n",
       "    </tr>\n",
       "  </tbody>\n",
       "</table>\n",
       "</div>"
      ],
      "text/plain": [
       "                                              author\n",
       "0  {'@lang': 'en', '@class': '1', 'documents': {'..."
      ]
     },
     "execution_count": 50,
     "metadata": {
      "tags": []
     },
     "output_type": "execute_result"
    }
   ],
   "source": [
    "# More at:\n",
    "# https://pandas.pydata.org/pandas-docs/dev/reference/api/pandas.read_xml.html\n",
    "# https://stackoverflow.com/questions/40554657/module-pandas-has-no-attribute-read-csv/40554730\n",
    "\n",
    "# This is just for understand how this read xml works.\n",
    "import pandas as pd\n",
    "import pandas_read_xml as pdx\n",
    "from pandas_read_xml import flatten\n",
    "\n",
    "# As you can see, loaded Data Frame has only one ROW. It needs further processing.\n",
    "df = pdx.read_xml(\"/content/drive/My Drive/Colab Notebooks/GDA Project Group 2 /pan21-author-profiling-training-2021-03-14/en/0a3ce42bea89e2a92a28f685735e605e.xml\")\n",
    "df.head()"
   ]
  },
  {
   "cell_type": "code",
   "execution_count": 51,
   "metadata": {
    "colab": {
     "base_uri": "https://localhost:8080/",
     "height": 204
    },
    "executionInfo": {
     "elapsed": 60,
     "status": "ok",
     "timestamp": 1624278797986,
     "user": {
      "displayName": "Martin Záhorský",
      "photoUrl": "https://lh3.googleusercontent.com/a-/AOh14GhKSDJkAZhl6hdxiiLf5QOzLeKa4dGFSCnW5gjs0A=s64",
      "userId": "18426286231639958540"
     },
     "user_tz": -120
    },
    "id": "l5jmvmd1VOGI",
    "outputId": "11fb59e5-4bfa-487b-b9b9-978e2b788d5e"
   },
   "outputs": [
    {
     "data": {
      "text/html": [
       "<div>\n",
       "<style scoped>\n",
       "    .dataframe tbody tr th:only-of-type {\n",
       "        vertical-align: middle;\n",
       "    }\n",
       "\n",
       "    .dataframe tbody tr th {\n",
       "        vertical-align: top;\n",
       "    }\n",
       "\n",
       "    .dataframe thead th {\n",
       "        text-align: right;\n",
       "    }\n",
       "</style>\n",
       "<table border=\"1\" class=\"dataframe\">\n",
       "  <thead>\n",
       "    <tr style=\"text-align: right;\">\n",
       "      <th></th>\n",
       "      <th>author|@lang</th>\n",
       "      <th>author|@class</th>\n",
       "      <th>author|documents|document</th>\n",
       "    </tr>\n",
       "  </thead>\n",
       "  <tbody>\n",
       "    <tr>\n",
       "      <th>0</th>\n",
       "      <td>en</td>\n",
       "      <td>1</td>\n",
       "      <td>\"Hey Jamal (snickering uncontrollable) You wan...</td>\n",
       "    </tr>\n",
       "    <tr>\n",
       "      <th>1</th>\n",
       "      <td>en</td>\n",
       "      <td>1</td>\n",
       "      <td>RT #USER#: Cotton coming out with a banger #URL#</td>\n",
       "    </tr>\n",
       "    <tr>\n",
       "      <th>2</th>\n",
       "      <td>en</td>\n",
       "      <td>1</td>\n",
       "      <td>This is meant to be sarcasm but it's a good po...</td>\n",
       "    </tr>\n",
       "    <tr>\n",
       "      <th>3</th>\n",
       "      <td>en</td>\n",
       "      <td>1</td>\n",
       "      <td>Nick really just compared homosexuality to peo...</td>\n",
       "    </tr>\n",
       "    <tr>\n",
       "      <th>4</th>\n",
       "      <td>en</td>\n",
       "      <td>1</td>\n",
       "      <td>PROTECT AMERICA FIRST! LET'S GO!!!!!!!! #URL#</td>\n",
       "    </tr>\n",
       "  </tbody>\n",
       "</table>\n",
       "</div>"
      ],
      "text/plain": [
       "  author|@lang author|@class                          author|documents|document\n",
       "0           en             1  \"Hey Jamal (snickering uncontrollable) You wan...\n",
       "1           en             1   RT #USER#: Cotton coming out with a banger #URL#\n",
       "2           en             1  This is meant to be sarcasm but it's a good po...\n",
       "3           en             1  Nick really just compared homosexuality to peo...\n",
       "4           en             1      PROTECT AMERICA FIRST! LET'S GO!!!!!!!! #URL#"
      ]
     },
     "execution_count": 51,
     "metadata": {
      "tags": []
     },
     "output_type": "execute_result"
    }
   ],
   "source": [
    "# Data Frame needs to be 3 times flatten to reach expected shape.\n",
    "df = df.pipe(flatten).pipe(flatten).pipe(flatten)\n",
    "df.head()"
   ]
  },
  {
   "cell_type": "code",
   "execution_count": 52,
   "metadata": {
    "colab": {
     "base_uri": "https://localhost:8080/",
     "height": 35
    },
    "executionInfo": {
     "elapsed": 54,
     "status": "ok",
     "timestamp": 1624278797987,
     "user": {
      "displayName": "Martin Záhorský",
      "photoUrl": "https://lh3.googleusercontent.com/a-/AOh14GhKSDJkAZhl6hdxiiLf5QOzLeKa4dGFSCnW5gjs0A=s64",
      "userId": "18426286231639958540"
     },
     "user_tz": -120
    },
    "id": "9U4pVT5dXV76",
    "outputId": "26fe2300-aa65-4b4b-aa4a-4c0a292869e1"
   },
   "outputs": [
    {
     "data": {
      "application/vnd.google.colaboratory.intrinsic+json": {
       "type": "string"
      },
      "text/plain": [
       "'\"Hey Jamal (snickering uncontrollable) You want some (PFFF) LEMONADE!\" What an IDIOT! #URL#'"
      ]
     },
     "execution_count": 52,
     "metadata": {
      "tags": []
     },
     "output_type": "execute_result"
    }
   ],
   "source": [
    "df['author|documents|document'].iloc[0]"
   ]
  },
  {
   "cell_type": "code",
   "execution_count": 53,
   "metadata": {
    "colab": {
     "base_uri": "https://localhost:8080/"
    },
    "executionInfo": {
     "elapsed": 50,
     "status": "ok",
     "timestamp": 1624278797989,
     "user": {
      "displayName": "Martin Záhorský",
      "photoUrl": "https://lh3.googleusercontent.com/a-/AOh14GhKSDJkAZhl6hdxiiLf5QOzLeKa4dGFSCnW5gjs0A=s64",
      "userId": "18426286231639958540"
     },
     "user_tz": -120
    },
    "id": "f4if8XKNXWpp",
    "outputId": "a9509053-5543-40f5-8433-a14ff1bf33b8"
   },
   "outputs": [
    {
     "name": "stdout",
     "output_type": "stream",
     "text": [
      "['639b8e5e6a527d494c85d8f5704b1a01', '', '', '0']\n",
      "['f2b1fc84c500c38a93522efbd422b559', '', '', '0']\n",
      "['10b2d013382e1fb3c9414ea28329f258', '', '', '0']\n",
      "['26644d1348fc1122e8c5ef45d6bc84fa', '', '', '0']\n",
      "['4d4c5dcbfe38d0d33a0d1b1419952ca8', '', '', '0']\n",
      "['86a7f84c2dd126dac46270b6c912952c', '', '', '0']\n",
      "['88d8ac4ae2d91e681ee8a8d3b60fd911', '', '', '0']\n",
      "['2a9776a2909ba5e27043faf2d57ba410', '', '', '0']\n",
      "['fdb47a3f65091b9a5b989e1722c9fac4', '', '', '0']\n",
      "['5625ca3bc44c89d763221b663f7c0987', '', '', '0']\n",
      "['9d08913250938aadcf6c18d0c89a0d14', '', '', '0']\n",
      "['5027d4e88fc5179e027a12872dfe6835', '', '', '0']\n",
      "['e30577895cbb4d8f073e4dbb2f3be6d1', '', '', '0']\n",
      "['06893abba0bb8f94fed7562350233ed7', '', '', '0']\n",
      "['6fd5e2e31d6c2b2eb4b5dc07280636a7', '', '', '0']\n",
      "['8b525999b04b19255b32365e49b281ac', '', '', '0']\n",
      "['58584745632b5367da1c7a9af746222b', '', '', '0']\n",
      "['9d58d6313bfb2fba9e1e45bb9d65cf0b', '', '', '0']\n",
      "['e6e216a24993a72629629da7c182c3af', '', '', '0']\n",
      "['94b5cb02328011bbecaf78d79d2c1ff5', '', '', '0']\n",
      "['6d3988b400f07e05521f71b0ee8111e6', '', '', '0']\n",
      "['78b27238932fc8e666c5bf84681b460e', '', '', '0']\n",
      "['54f81e27af90ed7c1c9409c332f0ca37', '', '', '0']\n",
      "['1785358a4976f921226d1a7604c57737', '', '', '0']\n",
      "['a8e2397021acef98cc32729cbda96910', '', '', '0']\n",
      "['efd470e6959c076c9c0456b33509e8bd', '', '', '0']\n",
      "['27e3e134eb8a0069e220bc201cda8eb9', '', '', '0']\n",
      "['7c18d72ba1eb9c787f166df788e1b521', '', '', '0']\n",
      "['e46a97a03fd592113aa233d1637ed0fd', '', '', '0']\n",
      "['d2e0f4f0244b9b8b3bbd8b1654be5b74', '', '', '0']\n",
      "['7f269488a6576c9dc21085c1e2854142', '', '', '0']\n",
      "['4ae4ddc8cb2774c92398e3102c3da5b2', '', '', '0']\n",
      "['76e152a7732922e7a6da39880486107f', '', '', '0']\n",
      "['5b50fcecc61c850e961ff307bdce67a0', '', '', '0']\n",
      "['34e9918b10fe1fdd757855b62abc0efc', '', '', '0']\n",
      "['4253c341c1069eded30b6efd2df89ddc', '', '', '0']\n",
      "['95ccf1511784da6b392971bc1efbca19', '', '', '0']\n",
      "['9cff4936f8479d53fcbb63f2524c5ad8', '', '', '0']\n",
      "['da28bc4cb0849abd43cc116509b3485c', '', '', '0']\n",
      "['b5fc924814e26ca9e4f64c42c3f6dd90', '', '', '0']\n",
      "['aa917a8c5a4420b024274672667c7dc1', '', '', '0']\n",
      "['365eb1e3abc5cd5394fec8fc162bfbc5', '', '', '0']\n",
      "['8e5a604d6328d4b15d119b9601f5d3c2', '', '', '0']\n",
      "['98b4a082eba0660ee1360aac24f162ef', '', '', '0']\n",
      "['47af667ddc145dd68323c9bef1408e0d', '', '', '0']\n",
      "['99cb2cd23f7cf613d394502d17dedad0', '', '', '0']\n",
      "['98c59ff3e2cfc56b96ee3c49b3d46296', '', '', '0']\n",
      "['4a1baf66990e0e540effd01f4b105f44', '', '', '0']\n",
      "['3b2d9429387f770b388edbefd881fc38', '', '', '0']\n",
      "['3770a07b212c1096c26e5a1f1556fbd1', '', '', '0']\n",
      "['3de62c6202ee8e06c74c3a6d4833e068', '', '', '0']\n",
      "['1005765475f523b3436d795b2e229174', '', '', '0']\n",
      "['a887ec85088a87e550015e2770a6e309', '', '', '0']\n",
      "['d9a3d6cfc4e58f3ea9e9e5959d0d0324', '', '', '0']\n",
      "['4f496db1408c402eb21d29e536667205', '', '', '0']\n",
      "['b4030e7f9f049a602defab723599fdeb', '', '', '0']\n",
      "['d76b28431fa2c177afab54c4eeeb3eca', '', '', '0']\n",
      "['0e86e9b6ba971cbc5a117c4af6fad9a2', '', '', '0']\n",
      "['3df768933d03108ea4c6583d49c85c46', '', '', '0']\n",
      "['192146b688c17b6b475dbe4235aa0a59', '', '', '0']\n",
      "['d81a16601a13f675b49c986c3e6cb974', '', '', '0']\n",
      "['135cc1b889864768b5c755eb6210d358', '', '', '0']\n",
      "['30be488aa93e8000aadb952a9cd5143c', '', '', '0']\n",
      "['f207e0510b20e6cb0e4485a9f9be7eb9', '', '', '0']\n",
      "['258ba7b57bc38e4987f9f3cf23700ece', '', '', '0']\n",
      "['ed940505af044f823b90d44d5ebad88e', '', '', '0']\n",
      "['1df25475b1cb684b7937bd49afb79fc0', '', '', '0']\n",
      "['f11ca441819610286438d812af4e5e52', '', '', '0']\n",
      "['e8b833650d2e91d234d621f4dd0c1031', '', '', '0']\n",
      "['fdef657f264ca50bc7b21574b24f82ab', '', '', '0']\n",
      "['e4c296ef32aaf5ca9f293fa3a62a3694', '', '', '0']\n",
      "['748c4b31797d62bcce99de35a681b484', '', '', '0']\n",
      "['b8924a54bb6043c56969e20a328b76b3', '', '', '0']\n",
      "['6fe4ed1ee7f13da10a62d3cd1a6cba07', '', '', '0']\n",
      "['feab35da86bf5f84085fb670cb2866e4', '', '', '0']\n",
      "['d0c3083a5ff95c520df956229dbd4423', '', '', '0']\n",
      "['aa14b4634d37596c9ed9827f077194b9', '', '', '0']\n",
      "['9618c0b40aab7e9be3297e333a6270b5', '', '', '0']\n",
      "['f30abea44b6c4144c0690f98459428a6', '', '', '0']\n",
      "['1e1e4967d09dd4928b2be2a3845cf604', '', '', '0']\n",
      "['67292c0455e9f73c6c9531e53db14e70', '', '', '0']\n",
      "['1a91d52030d1a433d35055fbeb6bdf3b', '', '', '0']\n",
      "['45bb70e3f298f2c62d683e3971481552', '', '', '0']\n",
      "['4ab73bdea1111e16bf6ef8b34e3f121b', '', '', '0']\n",
      "['43641af5b9182e88190638f972eb97eb', '', '', '0']\n",
      "['6711ef348ffcb3e45d2957396a4c8026', '', '', '0']\n",
      "['562b522eacbcf4484566f658aed140aa', '', '', '0']\n",
      "['f5f036b8acf96cd1273e7c08a1350adc', '', '', '0']\n",
      "['b5c35f78bd8c275b97532cd63ccd6ad8', '', '', '0']\n",
      "['41eff6afb1ced61ab38e4d86d56825e0', '', '', '0']\n",
      "['e5f932198bf18fe7a51d131fceb81707', '', '', '0']\n",
      "['d15ec49115f2e8febee7fda9d1893fa4', '', '', '0']\n",
      "['4cbee4f8451fb69d309b7a6ccf7709f9', '', '', '0']\n",
      "['f3eecd0eedab3b77558d93b1b92579a4', '', '', '0']\n",
      "['4643c543b666aedb6157ae37e92ccc75', '', '', '0']\n",
      "['b496caf332cb0ba97d2acefc44f153ac', '', '', '0']\n",
      "['cdd7c2ee215205a4859a83c676750d05', '', '', '0']\n",
      "['450d7d3b3873914d5ebf3fe4782d20bd', '', '', '0']\n",
      "['bd0d6b9c924fdc0eb8274bbe7b7a6e2c', '', '', '0']\n",
      "['91aef160991f1aec1b61550d6cd71abb', '', '', '0']\n",
      "['f3124b62d50000cafbee9ce81f7c9e6d', '', '', '1']\n",
      "['cc42228c1ba6c289b56acb78eccb0e7e', '', '', '1']\n",
      "['043e2766cc6d22ae4e447ca5f2885a2a', '', '', '1']\n",
      "['77822fc7312f39c95643c383702d9546', '', '', '1']\n",
      "['b9a46d0b178f190985de7145d5854810', '', '', '1']\n",
      "['241be75a5da1d1c6533cfde9657e829c', '', '', '1']\n",
      "['bb824be390d6e87696fb803bbee77833', '', '', '1']\n",
      "['6f14063ff747e2b6ed0d6b2faf3122e3', '', '', '1']\n",
      "['a37a032f4a0c42bc3ba3663db6907bfb', '', '', '1']\n",
      "['aba7a9ab2d9d07953cabcaf6793be635', '', '', '1']\n",
      "['1b10072ed58f20f27d8fe35580ad26d4', '', '', '1']\n",
      "['f91fa8ecdd2440eb163516769573f24a', '', '', '1']\n",
      "['97649196de83fa52ecb9312beb7e50e9', '', '', '1']\n",
      "['e07fa74c2ce94aaf2bc43b0b313d02da', '', '', '1']\n",
      "['63a133c55e234d7ccb1f4ce9ded79f91', '', '', '1']\n",
      "['56498bda31b85f3ed955dfb8ab47a909', '', '', '1']\n",
      "['6ea97aacfeaa4684acc0fcbc30e998d6', '', '', '1']\n",
      "['c50505ec1514ce8b7ed8e9bc92eb43b1', '', '', '1']\n",
      "['5b5c08b665052e695064f2f2b04bdea7', '', '', '1']\n",
      "['79e31985e8676475dddead19f3deaee6', '', '', '1']\n",
      "['f6ccc99dd7a54cb2d692f4aa3049efc1', '', '', '1']\n",
      "['2c38fc584f7566f7010d220c102d6b56', '', '', '1']\n",
      "['0a6700c6023c6249bcc5820e2f5ee0de', '', '', '1']\n",
      "['2e1bdf04f415dd3bf3ffcd950ad1c541', '', '', '1']\n",
      "['b7f4ead8c975203082dcea622621d2c3', '', '', '1']\n",
      "['c343cb70d741dc3ee88d26d0fc04be60', '', '', '1']\n",
      "['a63fc743cd9e06a05bb6cc6fb2a577fa', '', '', '1']\n",
      "['e8a408c9e9859d68a499324449b80c65', '', '', '1']\n",
      "['6b6eb2370271fbf26dcc73195218edcb', '', '', '1']\n",
      "['b34dcc081342bfadb3a82039d4e4eede', '', '', '1']\n",
      "['f6f5aedf8282f8f7c00a7d7dc8df2232', '', '', '1']\n",
      "['2f3e55e23c53a4572fe496d34109070a', '', '', '1']\n",
      "['89866dca3febf2d6b97c796250528a8d', '', '', '1']\n",
      "['b0010dd785bc4109ce40b94126a2811b', '', '', '1']\n",
      "['5c8c5dde745f6b4d478f6fb619b24b95', '', '', '1']\n",
      "['5d4a0908d433733c14c38261fc4f4250', '', '', '1']\n",
      "['342a27905d2291b55486c257d77265b4', '', '', '1']\n",
      "['5002d161db83e49e179af61703bccfc8', '', '', '1']\n",
      "['b9174ee0c8db418fdcfae6e5aa55f71f', '', '', '1']\n",
      "['69dd2e9ef1897355337376a7d574e882', '', '', '1']\n",
      "['e30b87c8fa34a1ac077d7b286000bc06', '', '', '1']\n",
      "['46df8a13b82d12b2d5f453cc63612298', '', '', '1']\n",
      "['83509a9da9ef01b1255d826abd587a93', '', '', '1']\n",
      "['5a9bd66e0c4b8f2ab3f495f1e0416218', '', '', '1']\n",
      "['d2a222ef792ca0667f2af63dcd1baf34', '', '', '1']\n",
      "['62a6b5a0c5f53790c114639c7ec0a3ab', '', '', '1']\n",
      "['f6b4231dfadff637ebee124079bdce3e', '', '', '1']\n",
      "['cc40716d2f9ca1b14b8ac542a5ac8eef', '', '', '1']\n",
      "['e9f06b27f1108050bd27937cbacb1d5e', '', '', '1']\n",
      "['0d02a3f644c9313315ecc6655ccfa3b9', '', '', '1']\n",
      "['a41db55c14ec3878c055eb1ece4e5866', '', '', '1']\n",
      "['4bde12da41b2ded3de456ce8f334039c', '', '', '1']\n",
      "['ca1c941118dcde7855423d0101a637c6', '', '', '1']\n",
      "['d28b60028cf7bcf8a9f145193e261ecf', '', '', '1']\n",
      "['cb7b2b7612c3d7ca299387a47393f7e9', '', '', '1']\n",
      "['3ee86d6c74ee383b280993044a70f3e5', '', '', '1']\n",
      "['74234d3105c22f51e4ad3d133f5eb8ba', '', '', '1']\n",
      "['c8006e782052410e43cdcdda668d11c4', '', '', '1']\n",
      "['e1f66f003824f12344cf1ace242adf0e', '', '', '1']\n",
      "['afe04507770754d25fcdaa901841d440', '', '', '1']\n",
      "['f8c996ef2325dddab520230237fdfa80', '', '', '1']\n",
      "['46dc7954a1dae6630bef96513f4684ec', '', '', '1']\n",
      "['d47a4b83cd692b1c0c5e8444bf1bc2a5', '', '', '1']\n",
      "['8b7608a503048538181399629fe67913', '', '', '1']\n",
      "['b67d6746fefbe67981ca8454faa82988', '', '', '1']\n",
      "['e886cf9468db977abd24c7a068234609', '', '', '1']\n",
      "['78537787441ed0d11da43122f9b0520a', '', '', '1']\n",
      "['fdb9f16899e3097e6db1f6a13d3572f8', '', '', '1']\n",
      "['e7eac8cda5ce98bd3443c68006d8b9a7', '', '', '1']\n",
      "['9e3b14eef764e6c0a2cd488a5ab2e2be', '', '', '1']\n",
      "['16252bfc43f2facd313ce084d412b592', '', '', '1']\n",
      "['1cb7af9f85f4cb41b33d105334173862', '', '', '1']\n",
      "['f00627537c48b43bf2045b98b3508d94', '', '', '1']\n",
      "['f902c0eaa0ff3818f6c22ebfae52ab43', '', '', '1']\n",
      "['501a0adf8d2f2a8454d6273179d035c1', '', '', '1']\n",
      "['ad7eaa2c1d5daa1aa71719be4357c428', '', '', '1']\n",
      "['6f964e5458b4879513ebd14784180798', '', '', '1']\n",
      "['bbd46b0659de5a173339aaebac2523fa', '', '', '1']\n",
      "['84e5913dcdef5eba6bf97669fe47fa4e', '', '', '1']\n",
      "['1e1b776e17efbdd65e93ce1d350e9d21', '', '', '1']\n",
      "['44e25d1ec3f786a696e0eb5b33b8325b', '', '', '1']\n",
      "['f8bce0042a6c8fcfdb585a052e998afb', '', '', '1']\n",
      "['5e47f30caa62ab081b1a2dcb8d3caf30', '', '', '1']\n",
      "['f63c22363b3db5f3d76db1f2417adb39', '', '', '1']\n",
      "['c129b2cf075e1872a86ce8f7473819af', '', '', '1']\n",
      "['0f1974d237ad2265fa0eb09193fa42f4', '', '', '1']\n",
      "['6775fc8b35f0b4362f246bbc8348ee6e', '', '', '1']\n",
      "['6f7077fae955df369bbc5f7673632dcd', '', '', '1']\n",
      "['0a3ce42bea89e2a92a28f685735e605e', '', '', '1']\n",
      "['98e4c6520892b0218ab13ca7369785be', '', '', '1']\n",
      "['db83cb088416759db148c17b256a9652', '', '', '1']\n",
      "['e5cc453c1de4371b8d668c3ab50126f1', '', '', '1']\n",
      "['cecc9d84dbc069af5579b55577d0e83e', '', '', '1']\n",
      "['65042b6a94addf20c6fafd782c5d4347', '', '', '1']\n",
      "['b264ae3f49a660c4dbd63d654175471b', '', '', '1']\n",
      "['833ffc26e9f1a81265e3e97513cefb86', '', '', '1']\n",
      "['dead14502e55f545546f666ab6d91558', '', '', '1']\n",
      "['e608b622e6a3085290fc279b55fa821c', '', '', '1']\n",
      "['a7d4e6f2aa8543a448b5a07feab9fc49', '', '', '1']\n",
      "['41501686277ace6b5fd7dcfe9284fe1d', '', '', '1']\n"
     ]
    }
   ],
   "source": [
    "my_file1 = open(\"/content/drive/My Drive/Colab Notebooks/GDA Project Group 2 /pan21-author-profiling-training-2021-03-14/en/truth.txt\", \"r\")\n",
    "content = my_file1.read()\n",
    "content_list_en = content.split(\"\\n\")\n",
    "for i in content_list_en:\n",
    "  print(i.split(':'))"
   ]
  },
  {
   "cell_type": "code",
   "execution_count": 54,
   "metadata": {
    "colab": {
     "base_uri": "https://localhost:8080/",
     "height": 436
    },
    "executionInfo": {
     "elapsed": 4960,
     "status": "ok",
     "timestamp": 1624278802905,
     "user": {
      "displayName": "Martin Záhorský",
      "photoUrl": "https://lh3.googleusercontent.com/a-/AOh14GhKSDJkAZhl6hdxiiLf5QOzLeKa4dGFSCnW5gjs0A=s64",
      "userId": "18426286231639958540"
     },
     "user_tz": -120
    },
    "id": "iShfV9AkY5gS",
    "outputId": "3df20b1e-ccf2-4320-b654-8eb2042e9ba4"
   },
   "outputs": [
    {
     "name": "stderr",
     "output_type": "stream",
     "text": [
      "100%|██████████| 200/200 [00:05<00:00, 39.37it/s]\n"
     ]
    },
    {
     "data": {
      "text/html": [
       "<div>\n",
       "<style scoped>\n",
       "    .dataframe tbody tr th:only-of-type {\n",
       "        vertical-align: middle;\n",
       "    }\n",
       "\n",
       "    .dataframe tbody tr th {\n",
       "        vertical-align: top;\n",
       "    }\n",
       "\n",
       "    .dataframe thead th {\n",
       "        text-align: right;\n",
       "    }\n",
       "</style>\n",
       "<table border=\"1\" class=\"dataframe\">\n",
       "  <thead>\n",
       "    <tr style=\"text-align: right;\">\n",
       "      <th></th>\n",
       "      <th>author|@lang</th>\n",
       "      <th>author|@class</th>\n",
       "      <th>author|documents|document</th>\n",
       "      <th>ID</th>\n",
       "      <th>Mark</th>\n",
       "    </tr>\n",
       "  </thead>\n",
       "  <tbody>\n",
       "    <tr>\n",
       "      <th>0</th>\n",
       "      <td>en</td>\n",
       "      <td>0</td>\n",
       "      <td>RT #USER#: Funny how “15 days to slow the spre...</td>\n",
       "      <td>639b8e5e6a527d494c85d8f5704b1a01</td>\n",
       "      <td>0</td>\n",
       "    </tr>\n",
       "    <tr>\n",
       "      <th>1</th>\n",
       "      <td>en</td>\n",
       "      <td>0</td>\n",
       "      <td>RT #USER#: Why did Minneapolis just give Georg...</td>\n",
       "      <td>639b8e5e6a527d494c85d8f5704b1a01</td>\n",
       "      <td>0</td>\n",
       "    </tr>\n",
       "    <tr>\n",
       "      <th>2</th>\n",
       "      <td>en</td>\n",
       "      <td>0</td>\n",
       "      <td>RT #USER#: To be fair, he has done a lot of un...</td>\n",
       "      <td>639b8e5e6a527d494c85d8f5704b1a01</td>\n",
       "      <td>0</td>\n",
       "    </tr>\n",
       "    <tr>\n",
       "      <th>3</th>\n",
       "      <td>en</td>\n",
       "      <td>0</td>\n",
       "      <td>RT #USER#: President Trump got us the #HASHTAG...</td>\n",
       "      <td>639b8e5e6a527d494c85d8f5704b1a01</td>\n",
       "      <td>0</td>\n",
       "    </tr>\n",
       "    <tr>\n",
       "      <th>4</th>\n",
       "      <td>en</td>\n",
       "      <td>0</td>\n",
       "      <td>RT #USER#: Is the case against former officer ...</td>\n",
       "      <td>639b8e5e6a527d494c85d8f5704b1a01</td>\n",
       "      <td>0</td>\n",
       "    </tr>\n",
       "    <tr>\n",
       "      <th>...</th>\n",
       "      <td>...</td>\n",
       "      <td>...</td>\n",
       "      <td>...</td>\n",
       "      <td>...</td>\n",
       "      <td>...</td>\n",
       "    </tr>\n",
       "    <tr>\n",
       "      <th>39995</th>\n",
       "      <td>en</td>\n",
       "      <td>1</td>\n",
       "      <td>You got to fuck her like you miss her everytim...</td>\n",
       "      <td>41501686277ace6b5fd7dcfe9284fe1d</td>\n",
       "      <td>1</td>\n",
       "    </tr>\n",
       "    <tr>\n",
       "      <th>39996</th>\n",
       "      <td>en</td>\n",
       "      <td>1</td>\n",
       "      <td>i'm solid. been solid. will forever be solid. ...</td>\n",
       "      <td>41501686277ace6b5fd7dcfe9284fe1d</td>\n",
       "      <td>1</td>\n",
       "    </tr>\n",
       "    <tr>\n",
       "      <th>39997</th>\n",
       "      <td>en</td>\n",
       "      <td>1</td>\n",
       "      <td>You nap town bitches really stepped on .... ta...</td>\n",
       "      <td>41501686277ace6b5fd7dcfe9284fe1d</td>\n",
       "      <td>1</td>\n",
       "    </tr>\n",
       "    <tr>\n",
       "      <th>39998</th>\n",
       "      <td>en</td>\n",
       "      <td>1</td>\n",
       "      <td>REPEAT AFTER ME : I don't owe nobody shit !</td>\n",
       "      <td>41501686277ace6b5fd7dcfe9284fe1d</td>\n",
       "      <td>1</td>\n",
       "    </tr>\n",
       "    <tr>\n",
       "      <th>39999</th>\n",
       "      <td>en</td>\n",
       "      <td>1</td>\n",
       "      <td>RT #USER#: I be up thinking about hella shit..</td>\n",
       "      <td>41501686277ace6b5fd7dcfe9284fe1d</td>\n",
       "      <td>1</td>\n",
       "    </tr>\n",
       "  </tbody>\n",
       "</table>\n",
       "<p>40000 rows × 5 columns</p>\n",
       "</div>"
      ],
      "text/plain": [
       "      author|@lang author|@class  ...                                ID Mark\n",
       "0               en             0  ...  639b8e5e6a527d494c85d8f5704b1a01    0\n",
       "1               en             0  ...  639b8e5e6a527d494c85d8f5704b1a01    0\n",
       "2               en             0  ...  639b8e5e6a527d494c85d8f5704b1a01    0\n",
       "3               en             0  ...  639b8e5e6a527d494c85d8f5704b1a01    0\n",
       "4               en             0  ...  639b8e5e6a527d494c85d8f5704b1a01    0\n",
       "...            ...           ...  ...                               ...  ...\n",
       "39995           en             1  ...  41501686277ace6b5fd7dcfe9284fe1d    1\n",
       "39996           en             1  ...  41501686277ace6b5fd7dcfe9284fe1d    1\n",
       "39997           en             1  ...  41501686277ace6b5fd7dcfe9284fe1d    1\n",
       "39998           en             1  ...  41501686277ace6b5fd7dcfe9284fe1d    1\n",
       "39999           en             1  ...  41501686277ace6b5fd7dcfe9284fe1d    1\n",
       "\n",
       "[40000 rows x 5 columns]"
      ]
     },
     "execution_count": 54,
     "metadata": {
      "tags": []
     },
     "output_type": "execute_result"
    }
   ],
   "source": [
    "# Try to load EN files\n",
    "from tqdm import tqdm # Wery nice feature indeed :)\n",
    "df_en  = pd.DataFrame(columns=['author|@lang',\t'author|@class',\t'author|documents|document'])\n",
    "for i in tqdm(content_list_en):\n",
    "  ID = i.split(':')[0] # Take ID from current line\n",
    "  Mark = i.split(':')[-1] # Tke Mark from current line\n",
    "  # Load and process current XML file\n",
    "  df1 = pdx.read_xml(f\"/content/drive/My Drive/Colab Notebooks/GDA Project Group 2 /pan21-author-profiling-training-2021-03-14/en/{ID}.xml\")\n",
    "  df1 = df.pipe(flatten).pipe(flatten).pipe(flatten)\n",
    "  # Add identification collumns to dataframe\n",
    "  df1['ID'] = ID\n",
    "  df1['Mark'] = Mark\n",
    "  # add temporarry DF to Final\n",
    "  df_en = pd.concat([df_en , df1], ignore_index=True)\n",
    "df_en"
   ]
  },
  {
   "cell_type": "code",
   "execution_count": 64,
   "metadata": {
    "colab": {
     "base_uri": "https://localhost:8080/"
    },
    "executionInfo": {
     "elapsed": 364,
     "status": "ok",
     "timestamp": 1624279140005,
     "user": {
      "displayName": "Martin Záhorský",
      "photoUrl": "https://lh3.googleusercontent.com/a-/AOh14GhKSDJkAZhl6hdxiiLf5QOzLeKa4dGFSCnW5gjs0A=s64",
      "userId": "18426286231639958540"
     },
     "user_tz": -120
    },
    "id": "dQdua6QehSkd",
    "outputId": "87c37fb3-d69c-40ae-9fb1-3c1c56cc2554"
   },
   "outputs": [
    {
     "name": "stderr",
     "output_type": "stream",
     "text": [
      "  0%|          | 0/200 [00:00<?, ?it/s]"
     ]
    },
    {
     "name": "stdout",
     "output_type": "stream",
     "text": [
      "1a698d93874644625d83a76b206c7aa3 0\n"
     ]
    },
    {
     "name": "stderr",
     "output_type": "stream",
     "text": [
      "\n"
     ]
    }
   ],
   "source": [
    "# Try to load ES files\n",
    "\n",
    "my_file2 = open(\"/content/drive/My Drive/Colab Notebooks/GDA Project Group 2 /pan21-author-profiling-training-2021-03-14/es/truth.txt\", \"r\")\n",
    "content = my_file2.read()\n",
    "content_list_es = content.split(\"\\n\")\n",
    "\n",
    "from tqdm import tqdm # Wery nice feature indeed :)\n",
    "df_es  = pd.DataFrame(columns=['author|@lang',\t'author|@class',\t'author|documents|document'])\n",
    "for i in tqdm(content_list_es):\n",
    "  ID = i.split(':')[0] # Take ID from current line\n",
    "  Mark = i.split(':')[-1] # Tke Mark from current line\n",
    "  # Load and process current XML file\n",
    "  df2 = pdx.read_xml(f\"/content/drive/My Drive/Colab Notebooks/GDA Project Group 2 /pan21-author-profiling-training-2021-03-14/es/{ID}.xml\")\n",
    "  df2 = df.pipe(flatten).pipe(flatten).pipe(flatten)\n",
    "  # Add identification collumns to dataframe\n",
    "  df2['ID'] = ID\n",
    "  df2['Mark'] = Mark\n",
    "  # add temporarry DF to Final\n",
    "  df_es = pd.concat([df_en , df2], ignore_index=True)\n",
    "  print(ID,Mark)\n",
    "  break\n",
    "# df_es"
   ]
  },
  {
   "cell_type": "code",
   "execution_count": null,
   "metadata": {
    "id": "9Oyxrvibk718"
   },
   "outputs": [],
   "source": [
    "df_es"
   ]
  }
 ],
 "metadata": {
  "colab": {
   "authorship_tag": "ABX9TyPmxDNUdnH6RTKoIWMWSKzO",
   "collapsed_sections": [],
   "name": "GDA Project Group2.ipynb",
   "provenance": []
  },
  "kernelspec": {
   "display_name": "Python 3",
   "language": "python",
   "name": "python3"
  },
  "language_info": {
   "codemirror_mode": {
    "name": "ipython",
    "version": 3
   },
   "file_extension": ".py",
   "mimetype": "text/x-python",
   "name": "python",
   "nbconvert_exporter": "python",
   "pygments_lexer": "ipython3",
   "version": "3.8.5"
  }
 },
 "nbformat": 4,
 "nbformat_minor": 4
}
