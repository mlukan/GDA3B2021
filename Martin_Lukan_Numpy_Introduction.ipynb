{
  "nbformat": 4,
  "nbformat_minor": 0,
  "metadata": {
    "colab": {
      "name": "Martin Lukan Numpy : Introduction.ipynb",
      "provenance": [],
      "collapsed_sections": [],
      "include_colab_link": true
    },
    "kernelspec": {
      "name": "python3",
      "display_name": "Python 3"
    }
  },
  "cells": [
    {
      "cell_type": "markdown",
      "metadata": {
        "id": "view-in-github",
        "colab_type": "text"
      },
      "source": [
        "<a href=\"https://colab.research.google.com/github/mlukan/GDA3B2021/blob/main/Martin_Lukan_Numpy_Introduction.ipynb\" target=\"_parent\"><img src=\"https://colab.research.google.com/assets/colab-badge.svg\" alt=\"Open In Colab\"/></a>"
      ]
    },
    {
      "cell_type": "markdown",
      "metadata": {
        "id": "s6odsFbLpgIh"
      },
      "source": [
        "# Numpy : Introduction\n",
        "\n",
        "**Numpy allows you to manipulate data in the form of an array.**\n",
        "\n",
        "**Complete the missions below using Numpy.**"
      ]
    },
    {
      "cell_type": "code",
      "metadata": {
        "id": "sXzBVR4imVvO",
        "colab": {
          "base_uri": "https://localhost:8080/",
          "height": 35
        },
        "outputId": "129c1d87-9058-4ea0-fc94-0fdab21cd6a2"
      },
      "source": [
        "\n",
        "import numpy as np # Here we rename numpy as np, it's shorter, and everybody does that\n",
        "\n",
        "# Mission 1 : Display the version of Numpy you are running\n",
        "np.__version__"
      ],
      "execution_count": 2,
      "outputs": [
        {
          "output_type": "execute_result",
          "data": {
            "application/vnd.google.colaboratory.intrinsic+json": {
              "type": "string"
            },
            "text/plain": [
              "'1.19.5'"
            ]
          },
          "metadata": {
            "tags": []
          },
          "execution_count": 2
        }
      ]
    },
    {
      "cell_type": "code",
      "metadata": {
        "id": "vQGzQgU-phGc",
        "colab": {
          "base_uri": "https://localhost:8080/"
        },
        "outputId": "2cc839d0-bce5-4b95-897e-bda132eafc16"
      },
      "source": [
        "# Mission 2 : Create a Numpy array with a length of 3, that contains floats of the following format: 0.x, where x represents any value\n",
        "myarray=np.array([0.1,0.25,1.45])\n",
        "print(len(myarray),myarray)"
      ],
      "execution_count": null,
      "outputs": [
        {
          "output_type": "stream",
          "text": [
            "3 [0.1  0.25 1.45]\n"
          ],
          "name": "stdout"
        }
      ]
    },
    {
      "cell_type": "code",
      "metadata": {
        "id": "66-o1bXYqPC_",
        "colab": {
          "base_uri": "https://localhost:8080/"
        },
        "outputId": "3ececda1-500a-49a1-c090-0ee3041cfb85"
      },
      "source": [
        "# Mission 3 : Create a function that uses the random.random() method to display 10 random elements, all of which must be greater than 0.25\n",
        "def random10():\n",
        "  import random\n",
        "  i=0\n",
        "  rlist = []\n",
        "  while i < 10:\n",
        "    rnum = random.random()\n",
        "    if rnum > 0.25:\n",
        "      rlist.append(rnum)\n",
        "      i+=1\n",
        "  return  f'list length: {len(rlist)}', rlist\n",
        "random10()"
      ],
      "execution_count": null,
      "outputs": [
        {
          "output_type": "execute_result",
          "data": {
            "text/plain": [
              "('list length: 10',\n",
              " [0.2617189785240539,\n",
              "  0.4949789624069256,\n",
              "  0.4794915476825885,\n",
              "  0.9009667694873569,\n",
              "  0.31733813040891445,\n",
              "  0.825038801775523,\n",
              "  0.4658895311127911,\n",
              "  0.6701987289046651,\n",
              "  0.9186525112314503,\n",
              "  0.5460811433459749])"
            ]
          },
          "metadata": {
            "tags": []
          },
          "execution_count": 18
        }
      ]
    },
    {
      "cell_type": "code",
      "metadata": {
        "id": "hx8Ck-neqRZe",
        "colab": {
          "base_uri": "https://localhost:8080/"
        },
        "outputId": "6d67e67c-8620-4cbd-ac94-68a7d1c65985"
      },
      "source": [
        "# Mission 4 : What does the np.empty() method do? Don't just copy the documentation, explain in your own words here\n",
        "np.empty([10,10])\n",
        "# Creates an array with set dimensions, without the need to specify values. Useful as a placeholder."
      ],
      "execution_count": null,
      "outputs": [
        {
          "output_type": "execute_result",
          "data": {
            "text/plain": [
              "array([[4.65878347e-310, 6.95007529e-310, 6.95007529e-310,\n",
              "        6.95010627e-310, 6.95007539e-310, 6.95007529e-310,\n",
              "        6.95010627e-310, 6.95007532e-310, 6.95007529e-310,\n",
              "        6.95007529e-310],\n",
              "       [6.95010627e-310, 6.95007529e-310, 6.95007529e-310,\n",
              "        6.95010627e-310, 6.95007529e-310, 6.95007529e-310,\n",
              "        6.95007529e-310, 6.95010627e-310, 6.95007529e-310,\n",
              "        6.95010627e-310],\n",
              "       [6.95007529e-310, 6.95007529e-310, 6.95007529e-310,\n",
              "        6.95007529e-310, 6.95007529e-310, 6.95010627e-310,\n",
              "        6.95007539e-310, 6.95007529e-310, 6.95007529e-310,\n",
              "        6.95010627e-310],\n",
              "       [6.95007539e-310, 6.95007529e-310, 6.95007532e-310,\n",
              "        6.95007529e-310, 6.95007529e-310, 6.95007529e-310,\n",
              "        6.95007529e-310, 6.95010627e-310, 6.95007529e-310,\n",
              "        6.95010627e-310],\n",
              "       [6.95007529e-310, 6.95010627e-310, 6.95007529e-310,\n",
              "        6.95007529e-310, 6.95007530e-310, 6.95010627e-310,\n",
              "        6.95007527e-310, 6.95007527e-310, 6.95007527e-310,\n",
              "        6.95007529e-310],\n",
              "       [6.95010627e-310, 6.95007527e-310, 6.95007530e-310,\n",
              "        6.95007530e-310, 6.95007527e-310, 6.95007529e-310,\n",
              "        6.95010627e-310, 6.95007530e-310, 6.95007527e-310,\n",
              "        6.95007527e-310],\n",
              "       [6.95010627e-310, 6.95007530e-310, 6.95007527e-310,\n",
              "        6.95007527e-310, 6.95007529e-310, 6.95010627e-310,\n",
              "        6.95007527e-310, 6.95007527e-310, 6.95007527e-310,\n",
              "        6.95007527e-310],\n",
              "       [6.95010627e-310, 6.95007530e-310, 6.95007527e-310,\n",
              "        6.95007529e-310, 6.95010627e-310, 6.95007527e-310,\n",
              "        6.95007539e-310, 6.95010627e-310, 6.95007529e-310,\n",
              "        6.95010627e-310],\n",
              "       [6.95007539e-310, 6.95007842e-310, 6.95007529e-310,\n",
              "        6.95007529e-310, 6.95007527e-310, 6.95007529e-310,\n",
              "        6.95010627e-310, 6.95007529e-310, 6.95007529e-310,\n",
              "        6.95007529e-310],\n",
              "       [6.95010627e-310, 6.95007529e-310, 6.95007529e-310,\n",
              "        6.95007529e-310, 6.95007529e-310, 6.95007539e-310,\n",
              "        6.95007529e-310, 8.48798324e-314, 4.96009446e+180,\n",
              "        6.95007190e-310]])"
            ]
          },
          "metadata": {
            "tags": []
          },
          "execution_count": 20
        }
      ]
    },
    {
      "cell_type": "code",
      "metadata": {
        "id": "q_BJsGjwqTQp",
        "colab": {
          "base_uri": "https://localhost:8080/"
        },
        "outputId": "7053d50e-a5d0-452c-bbcb-0eef20c8c517"
      },
      "source": [
        "# Mission 5 : Create an array filled with only zeros.\n",
        "np.zeros([2,2])\n"
      ],
      "execution_count": null,
      "outputs": [
        {
          "output_type": "execute_result",
          "data": {
            "text/plain": [
              "array([[0., 0.],\n",
              "       [0., 0.]])"
            ]
          },
          "metadata": {
            "tags": []
          },
          "execution_count": 21
        }
      ]
    },
    {
      "cell_type": "code",
      "metadata": {
        "id": "KhQZPyHhqUql",
        "colab": {
          "base_uri": "https://localhost:8080/"
        },
        "outputId": "0c31754d-e66e-42ed-a2ad-bf1bf03770d5"
      },
      "source": [
        "# Mission 6 : Create an array filled with 10 random ints\n",
        "np.random.randint(1,5,(1,10))"
      ],
      "execution_count": null,
      "outputs": [
        {
          "output_type": "execute_result",
          "data": {
            "text/plain": [
              "array([[4, 2, 3, 4, 2, 3, 2, 4, 3, 3]])"
            ]
          },
          "metadata": {
            "tags": []
          },
          "execution_count": 30
        }
      ]
    },
    {
      "cell_type": "code",
      "metadata": {
        "id": "v3vqX26BqWTo",
        "colab": {
          "base_uri": "https://localhost:8080/"
        },
        "outputId": "aa720f6b-379a-4c13-9950-2f48318366a1"
      },
      "source": [
        "# Mission 7 : Create an array that contains 70 values randomly selected only from these numbers: 0, 1, 2, 3, 4, 5, 6, 7.\n",
        "array70=np.random.randint(0,8,(70))\n",
        "array70"
      ],
      "execution_count": null,
      "outputs": [
        {
          "output_type": "execute_result",
          "data": {
            "text/plain": [
              "array([3, 1, 2, 6, 1, 7, 1, 0, 0, 2, 4, 2, 4, 2, 6, 3, 2, 1, 0, 1, 3, 1,\n",
              "       2, 6, 2, 4, 3, 0, 0, 3, 1, 3, 1, 2, 7, 2, 3, 3, 4, 1, 4, 0, 2, 5,\n",
              "       5, 3, 0, 1, 6, 6, 2, 4, 1, 7, 5, 1, 0, 1, 3, 3, 7, 1, 4, 6, 6, 3,\n",
              "       4, 3, 5, 1])"
            ]
          },
          "metadata": {
            "tags": []
          },
          "execution_count": 42
        }
      ]
    },
    {
      "cell_type": "code",
      "metadata": {
        "id": "Hii5gz9BqZf9",
        "colab": {
          "base_uri": "https://localhost:8080/"
        },
        "outputId": "2fe83cd9-2c53-4426-b515-b72317b24258"
      },
      "source": [
        "# Mission 8 : Use the slicing operator to return the items between position 3 and 6 inclusive, from the array in mission 6\n",
        "print(array70[2:6])"
      ],
      "execution_count": null,
      "outputs": [
        {
          "output_type": "stream",
          "text": [
            "[2 6 1 7]\n"
          ],
          "name": "stdout"
        }
      ]
    },
    {
      "cell_type": "code",
      "metadata": {
        "id": "lv-cIYMMqc0s",
        "colab": {
          "base_uri": "https://localhost:8080/"
        },
        "outputId": "e7caeb8e-f267-4316-c4e1-e60e78131988"
      },
      "source": [
        "# Mission 9 : Use a method to return the index of the smallest element in the array from mission 7\n",
        "ind = np.argmin(array70)\n",
        "print(f'Index:{ind},value {array70[ind]}')\n"
      ],
      "execution_count": null,
      "outputs": [
        {
          "output_type": "stream",
          "text": [
            "Index:7,value 0\n"
          ],
          "name": "stdout"
        }
      ]
    },
    {
      "cell_type": "code",
      "metadata": {
        "id": "OnXTuji0t46s",
        "colab": {
          "base_uri": "https://localhost:8080/"
        },
        "outputId": "fb54aa8d-8c89-4198-d600-56e073410110"
      },
      "source": [
        "# Mission 10 : Using a numpy method, return the index of all the values in the array from mission 6 that are greater than their median value.\n",
        "array70[array70 > np.median(array70)]\n"
      ],
      "execution_count": null,
      "outputs": [
        {
          "output_type": "execute_result",
          "data": {
            "text/plain": [
              "array([3, 6, 7, 4, 4, 6, 3, 3, 6, 4, 3, 3, 3, 7, 3, 3, 4, 4, 5, 5, 3, 6,\n",
              "       6, 4, 7, 5, 3, 3, 7, 4, 6, 6, 3, 4, 3, 5])"
            ]
          },
          "metadata": {
            "tags": []
          },
          "execution_count": 53
        }
      ]
    },
    {
      "cell_type": "code",
      "metadata": {
        "id": "Ljy8t0yvqha5"
      },
      "source": [
        "# Mission 11: Create 3 arrays filled with random ints, and place them in another array.\n",
        "# Create a function that will go through the elements of the 3 arrays in turn.\n",
        "# It should return: Element 1 of arrays 1, 2 and 3. Then element 2 of arrays 1, 2 and 3... etc.\n",
        "def fillarr():\n",
        "  return np.random.randint(0,100,(100))\n",
        "\n",
        "myarr=np.array([fillarr(),fillarr(),fillarr()])\n",
        "\n",
        "def cycle(array):\n",
        "  rng=np.max([len(i) for i in array])\n",
        "  for e in range(rng):\n",
        "    for i in range(len(array)):\n",
        "      print(f\"Element {e+1} of array {i+1}: {array[i][e]}\")    \n",
        "cycle(myarr)\n"
      ],
      "execution_count": null,
      "outputs": []
    },
    {
      "cell_type": "code",
      "metadata": {
        "id": "I-Ecqv-Gqigx",
        "colab": {
          "base_uri": "https://localhost:8080/"
        },
        "outputId": "89e5932a-68cc-40d9-f4cb-ba7a66468a9e"
      },
      "source": [
        "# Mission 12: Create an array and fill it with 20 random float values.\n",
        "# Create a function that will go through the array and return the smallest and largest value it contains.\n",
        "array20=np.random.random(20)\n",
        "array20\n",
        "def minmax(array):\n",
        "  return np.min(array),np.max(array)\n",
        "minmax(array20)"
      ],
      "execution_count": null,
      "outputs": [
        {
          "output_type": "execute_result",
          "data": {
            "text/plain": [
              "(0.03915859170329006, 0.9831508262592933)"
            ]
          },
          "metadata": {
            "tags": []
          },
          "execution_count": 83
        }
      ]
    },
    {
      "cell_type": "code",
      "metadata": {
        "id": "6Q31D-P0qk14",
        "colab": {
          "base_uri": "https://localhost:8080/",
          "height": 35
        },
        "outputId": "6a5ebc2c-b836-485e-a1dc-59b1b809c585"
      },
      "source": [
        "# Mission 13: Create 2 arrays, randomly fill them with 20 int values between 0 and 10.\n",
        "arr1,arr2=np.random.randint(0,10,(20)),np.random.randint(0,10,(20))\n",
        "# Create a function that will go through each array using a while loop.\n",
        "# At each iteration of the loop the function should compare the values of the 2 arrays located at the same index position.\n",
        "# Return any index at which the values of the 2 arrays happen to be equal.\n",
        "# If no values are equal at the same indices across the 2 arrays, return the message: \"No values in common\".\n",
        "\n",
        "def looparray(arr1,arr2):\n",
        "  equals=[]\n",
        "  i=0\n",
        "  while i < 20:\n",
        "    if arr1[i]==arr2[i]:\n",
        "      equals.append(i)\n",
        "    i+=1\n",
        "  if len(equals)>0:\n",
        "    return f\"Values at the following indices are equal in both arrays: {equals}\"\n",
        "  else:\n",
        "    return \"No values in common\"\n",
        "looparray(arr1,arr2)  \n",
        "\n",
        "#print(arr1,arr2)\n"
      ],
      "execution_count": 33,
      "outputs": [
        {
          "output_type": "execute_result",
          "data": {
            "application/vnd.google.colaboratory.intrinsic+json": {
              "type": "string"
            },
            "text/plain": [
              "'Values at the following indices are equal in both arrays: [8, 16, 19]'"
            ]
          },
          "metadata": {
            "tags": []
          },
          "execution_count": 33
        }
      ]
    },
    {
      "cell_type": "code",
      "metadata": {
        "id": "ZXuj-bFN_lcZ",
        "colab": {
          "base_uri": "https://localhost:8080/"
        },
        "outputId": "0e800836-cf28-491b-9d29-9fab3b482eda"
      },
      "source": [
        "# Mission 14: now, just compare both arrays of mission 13 with this command (change the name of arrays): array1 == array2\n",
        "arr1==arr2"
      ],
      "execution_count": 31,
      "outputs": [
        {
          "output_type": "execute_result",
          "data": {
            "text/plain": [
              "array([False, False, False, False, False, False, False, False, False,\n",
              "       False, False, False,  True, False, False, False, False, False,\n",
              "       False, False])"
            ]
          },
          "metadata": {
            "tags": []
          },
          "execution_count": 31
        }
      ]
    },
    {
      "cell_type": "code",
      "metadata": {
        "id": "TKESlqrcFVXW"
      },
      "source": [
        "# It should return: Element 1 of arrays 1, 2 and 3. Then element 2 of arrays 1, 2 and 3... etc.\n"
      ],
      "execution_count": null,
      "outputs": []
    }
  ]
}