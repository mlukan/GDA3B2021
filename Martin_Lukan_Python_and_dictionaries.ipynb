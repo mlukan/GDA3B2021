{
  "nbformat": 4,
  "nbformat_minor": 0,
  "metadata": {
    "colab": {
      "name": "Martin Lukan Python and dictionaries.ipynb",
      "provenance": [],
      "collapsed_sections": [],
      "include_colab_link": true
    },
    "kernelspec": {
      "name": "python3",
      "display_name": "Python 3"
    }
  },
  "cells": [
    {
      "cell_type": "markdown",
      "metadata": {
        "id": "view-in-github",
        "colab_type": "text"
      },
      "source": [
        "<a href=\"https://colab.research.google.com/github/mlukan/GDA3B2021/blob/main/Martin_Lukan_Python_and_dictionaries.ipynb\" target=\"_parent\"><img src=\"https://colab.research.google.com/assets/colab-badge.svg\" alt=\"Open In Colab\"/></a>"
      ]
    },
    {
      "cell_type": "markdown",
      "metadata": {
        "id": "LoJw-LlCTnWF"
      },
      "source": [
        "# Mission 1\n",
        "\n",
        "Below is a dictionary containing the number of French campuses that offer each kind of Wild Code School course.\n",
        "\n",
        "wildcodeschool = {\n",
        "   \"data_analyst\": 4,\n",
        "   \"data_scientist\": 2,\n",
        "   \"dev_web\": \"13\" \n",
        "}\n",
        "\n",
        "Find a way to only display the keys that have int values."
      ]
    },
    {
      "cell_type": "code",
      "metadata": {
        "id": "C2Lk113KSPUO"
      },
      "source": [
        "wildcodeschool =\t{\n",
        "  \"data_analyst\": 8,\n",
        "  \"data_scientist\": 2,\n",
        "  \"business intelligence analyst\": 5,\n",
        "  \"dev_web\": \"13\"\n",
        "}\n"
      ],
      "execution_count": 22,
      "outputs": []
    },
    {
      "cell_type": "code",
      "metadata": {
        "id": "i1T9MV2V3j5I",
        "colab": {
          "base_uri": "https://localhost:8080/"
        },
        "outputId": "24e9093a-b8db-4cbe-d578-89eb2033da19"
      },
      "source": [
        "for k,v in wildcodeschool.items():\n",
        "  if type(v)==int: print(k)\n",
        "  "
      ],
      "execution_count": 23,
      "outputs": [
        {
          "output_type": "stream",
          "text": [
            "data_analyst\n",
            "data_scientist\n",
            "business intelligence analyst\n"
          ],
          "name": "stdout"
        }
      ]
    },
    {
      "cell_type": "markdown",
      "metadata": {
        "id": "J3bsGIvAT049"
      },
      "source": [
        "# Mission 2\n",
        "\n",
        "For the same dictionary, find a way to display all the values that have a key that contains the letter \"e\"."
      ]
    },
    {
      "cell_type": "code",
      "metadata": {
        "id": "Fy1OmPSUXNaP",
        "colab": {
          "base_uri": "https://localhost:8080/"
        },
        "outputId": "f7f5036a-ac81-4981-badd-9c5554fefe2c"
      },
      "source": [
        "for k in wildcodeschool:\n",
        "  if 'e' in k:\n",
        "    print(wildcodeschool[k])"
      ],
      "execution_count": 24,
      "outputs": [
        {
          "output_type": "stream",
          "text": [
            "2\n",
            "5\n",
            "13\n"
          ],
          "name": "stdout"
        }
      ]
    },
    {
      "cell_type": "markdown",
      "metadata": {
        "id": "dVl36lvlWLdV"
      },
      "source": [
        "# Mission 3\n",
        "\n",
        "Within the same dictionary, change the type of the value of the \"dev_web\" key to be an int. Then add a new key-value pair which will be \"total_campus\" > 19, using a **dictionary method**."
      ]
    },
    {
      "cell_type": "code",
      "metadata": {
        "id": "pN3_mD4YSPfb",
        "colab": {
          "base_uri": "https://localhost:8080/"
        },
        "outputId": "664578ee-3eb3-4d54-9086-f19b624a036f"
      },
      "source": [
        "wildcodeschool['dev_web'] = int(wildcodeschool['dev_web'])\n",
        "wildcodeschool['total_campus']=19\n",
        "print(wildcodeschool)"
      ],
      "execution_count": 25,
      "outputs": [
        {
          "output_type": "stream",
          "text": [
            "{'data_analyst': 8, 'data_scientist': 2, 'business intelligence analyst': 5, 'dev_web': 13, 'total_campus': 19}\n"
          ],
          "name": "stdout"
        }
      ]
    },
    {
      "cell_type": "markdown",
      "metadata": {
        "id": "GCvpkWzXXPTf"
      },
      "source": [
        "# Mission 4\n",
        "\n",
        "Take the dictionary generated from mission 3. Delete any key value pair randomly, except for total_campus."
      ]
    },
    {
      "cell_type": "code",
      "metadata": {
        "id": "QjLMjogySPk_",
        "colab": {
          "base_uri": "https://localhost:8080/"
        },
        "outputId": "5098d825-c7ed-4718-8825-98890e9e7c97"
      },
      "source": [
        "import random\n",
        "myrand = random.randint(0,len(wildcodeschool)-1)\n",
        "mydict = wildcodeschool.copy()\n",
        "for i,k in enumerate(mydict):\n",
        "  if myrand==i:\n",
        "    key=k\n",
        "    break\n",
        "del mydict[key]\n",
        "mydict"
      ],
      "execution_count": 32,
      "outputs": [
        {
          "output_type": "execute_result",
          "data": {
            "text/plain": [
              "{'business intelligence analyst': 5,\n",
              " 'data_scientist': 2,\n",
              " 'dev_web': 13,\n",
              " 'total_campus': 19}"
            ]
          },
          "metadata": {
            "tags": []
          },
          "execution_count": 32
        }
      ]
    },
    {
      "cell_type": "markdown",
      "metadata": {
        "id": "V8ZS3aECXvuZ"
      },
      "source": [
        "# Mission 5\n",
        "\n",
        "Still within the dictionary generated from Mission 3, find a way to display the dictionary keys in alphabetical order."
      ]
    },
    {
      "cell_type": "code",
      "metadata": {
        "id": "ph_j97PoSPmU",
        "colab": {
          "base_uri": "https://localhost:8080/"
        },
        "outputId": "cc7e9d8b-e470-4a7d-d8f6-8dea98fc9c2b"
      },
      "source": [
        "sorted(wildcodeschool.keys(), key=lambda x:x)"
      ],
      "execution_count": 33,
      "outputs": [
        {
          "output_type": "execute_result",
          "data": {
            "text/plain": [
              "['business intelligence analyst',\n",
              " 'data_analyst',\n",
              " 'data_scientist',\n",
              " 'dev_web',\n",
              " 'total_campus']"
            ]
          },
          "metadata": {
            "tags": []
          },
          "execution_count": 33
        }
      ]
    },
    {
      "cell_type": "markdown",
      "metadata": {
        "id": "geMLdrvAYHKx"
      },
      "source": [
        "# Mission 6\n",
        "\n",
        "Create a script that returns the same output as the **values()** method."
      ]
    },
    {
      "cell_type": "code",
      "metadata": {
        "id": "1-cenx3RSPpq",
        "colab": {
          "base_uri": "https://localhost:8080/"
        },
        "outputId": "cef99989-4253-4d98-b999-4d809f9287f2"
      },
      "source": [
        "print(wildcodeschool.values())"
      ],
      "execution_count": 34,
      "outputs": [
        {
          "output_type": "stream",
          "text": [
            "dict_values([8, 2, 5, 13, 19])\n"
          ],
          "name": "stdout"
        }
      ]
    },
    {
      "cell_type": "code",
      "metadata": {
        "colab": {
          "base_uri": "https://localhost:8080/"
        },
        "id": "iA-iiztfKYWw",
        "outputId": "f5eb35a5-17cd-4447-f950-7608ffb96552"
      },
      "source": [
        "print([v for (k,v)  in wildcodeschool.items()])"
      ],
      "execution_count": 44,
      "outputs": [
        {
          "output_type": "stream",
          "text": [
            "[8, 2, 5, 13, 19]\n"
          ],
          "name": "stdout"
        }
      ]
    },
    {
      "cell_type": "code",
      "metadata": {
        "id": "MoGWe5ICKgV_"
      },
      "source": [
        ""
      ],
      "execution_count": null,
      "outputs": []
    }
  ]
}