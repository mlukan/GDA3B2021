{
 "cells": [
  {
   "cell_type": "markdown",
   "metadata": {
    "colab_type": "text",
    "id": "view-in-github"
   },
   "source": [
    "<a href=\"https://colab.research.google.com/github/mlukan/GDA3B2021/blob/main/Martin%20Lukan%20DecisionTrees.ipynb\" target=\"_parent\"><img src=\"https://colab.research.google.com/assets/colab-badge.svg\" alt=\"Open In Colab\"/></a>"
   ]
  },
  {
   "cell_type": "markdown",
   "metadata": {
    "id": "JnwN3axz4pE4"
   },
   "source": [
    "# Decision Trees\n",
    "Within this challenge, we're going to use decision trees in both a classification sense and a regression sense and visualize each of these representations. In this challenge, we will be using the `mpg` dataset."
   ]
  },
  {
   "cell_type": "markdown",
   "metadata": {
    "id": "K7nAqbRN-FFe"
   },
   "source": [
    "## Regression Trees"
   ]
  },
  {
   "cell_type": "code",
   "execution_count": 13,
   "metadata": {
    "colab": {
     "base_uri": "https://localhost:8080/",
     "height": 406
    },
    "id": "fv9xluj24jzc",
    "outputId": "dfdd0e32-0437-489c-c9f5-80f9eb52dd7d"
   },
   "outputs": [
    {
     "data": {
      "text/html": [
       "<div>\n",
       "<style scoped>\n",
       "    .dataframe tbody tr th:only-of-type {\n",
       "        vertical-align: middle;\n",
       "    }\n",
       "\n",
       "    .dataframe tbody tr th {\n",
       "        vertical-align: top;\n",
       "    }\n",
       "\n",
       "    .dataframe thead th {\n",
       "        text-align: right;\n",
       "    }\n",
       "</style>\n",
       "<table border=\"1\" class=\"dataframe\">\n",
       "  <thead>\n",
       "    <tr style=\"text-align: right;\">\n",
       "      <th></th>\n",
       "      <th>mpg</th>\n",
       "      <th>cylinders</th>\n",
       "      <th>displacement</th>\n",
       "      <th>horsepower</th>\n",
       "      <th>weight</th>\n",
       "      <th>acceleration</th>\n",
       "      <th>model_year</th>\n",
       "      <th>origin</th>\n",
       "    </tr>\n",
       "  </thead>\n",
       "  <tbody>\n",
       "    <tr>\n",
       "      <th>0</th>\n",
       "      <td>18.0</td>\n",
       "      <td>8</td>\n",
       "      <td>307.0</td>\n",
       "      <td>130.0</td>\n",
       "      <td>3504</td>\n",
       "      <td>12.0</td>\n",
       "      <td>70</td>\n",
       "      <td>0</td>\n",
       "    </tr>\n",
       "    <tr>\n",
       "      <th>1</th>\n",
       "      <td>15.0</td>\n",
       "      <td>8</td>\n",
       "      <td>350.0</td>\n",
       "      <td>165.0</td>\n",
       "      <td>3693</td>\n",
       "      <td>11.5</td>\n",
       "      <td>70</td>\n",
       "      <td>0</td>\n",
       "    </tr>\n",
       "    <tr>\n",
       "      <th>2</th>\n",
       "      <td>18.0</td>\n",
       "      <td>8</td>\n",
       "      <td>318.0</td>\n",
       "      <td>150.0</td>\n",
       "      <td>3436</td>\n",
       "      <td>11.0</td>\n",
       "      <td>70</td>\n",
       "      <td>0</td>\n",
       "    </tr>\n",
       "    <tr>\n",
       "      <th>3</th>\n",
       "      <td>16.0</td>\n",
       "      <td>8</td>\n",
       "      <td>304.0</td>\n",
       "      <td>150.0</td>\n",
       "      <td>3433</td>\n",
       "      <td>12.0</td>\n",
       "      <td>70</td>\n",
       "      <td>0</td>\n",
       "    </tr>\n",
       "    <tr>\n",
       "      <th>4</th>\n",
       "      <td>17.0</td>\n",
       "      <td>8</td>\n",
       "      <td>302.0</td>\n",
       "      <td>140.0</td>\n",
       "      <td>3449</td>\n",
       "      <td>10.5</td>\n",
       "      <td>70</td>\n",
       "      <td>0</td>\n",
       "    </tr>\n",
       "    <tr>\n",
       "      <th>...</th>\n",
       "      <td>...</td>\n",
       "      <td>...</td>\n",
       "      <td>...</td>\n",
       "      <td>...</td>\n",
       "      <td>...</td>\n",
       "      <td>...</td>\n",
       "      <td>...</td>\n",
       "      <td>...</td>\n",
       "    </tr>\n",
       "    <tr>\n",
       "      <th>393</th>\n",
       "      <td>27.0</td>\n",
       "      <td>4</td>\n",
       "      <td>140.0</td>\n",
       "      <td>86.0</td>\n",
       "      <td>2790</td>\n",
       "      <td>15.6</td>\n",
       "      <td>82</td>\n",
       "      <td>0</td>\n",
       "    </tr>\n",
       "    <tr>\n",
       "      <th>394</th>\n",
       "      <td>44.0</td>\n",
       "      <td>4</td>\n",
       "      <td>97.0</td>\n",
       "      <td>52.0</td>\n",
       "      <td>2130</td>\n",
       "      <td>24.6</td>\n",
       "      <td>82</td>\n",
       "      <td>2</td>\n",
       "    </tr>\n",
       "    <tr>\n",
       "      <th>395</th>\n",
       "      <td>32.0</td>\n",
       "      <td>4</td>\n",
       "      <td>135.0</td>\n",
       "      <td>84.0</td>\n",
       "      <td>2295</td>\n",
       "      <td>11.6</td>\n",
       "      <td>82</td>\n",
       "      <td>0</td>\n",
       "    </tr>\n",
       "    <tr>\n",
       "      <th>396</th>\n",
       "      <td>28.0</td>\n",
       "      <td>4</td>\n",
       "      <td>120.0</td>\n",
       "      <td>79.0</td>\n",
       "      <td>2625</td>\n",
       "      <td>18.6</td>\n",
       "      <td>82</td>\n",
       "      <td>0</td>\n",
       "    </tr>\n",
       "    <tr>\n",
       "      <th>397</th>\n",
       "      <td>31.0</td>\n",
       "      <td>4</td>\n",
       "      <td>119.0</td>\n",
       "      <td>82.0</td>\n",
       "      <td>2720</td>\n",
       "      <td>19.4</td>\n",
       "      <td>82</td>\n",
       "      <td>0</td>\n",
       "    </tr>\n",
       "  </tbody>\n",
       "</table>\n",
       "<p>392 rows × 8 columns</p>\n",
       "</div>"
      ],
      "text/plain": [
       "      mpg  cylinders  displacement  ...  acceleration  model_year  origin\n",
       "0    18.0          8         307.0  ...          12.0          70       0\n",
       "1    15.0          8         350.0  ...          11.5          70       0\n",
       "2    18.0          8         318.0  ...          11.0          70       0\n",
       "3    16.0          8         304.0  ...          12.0          70       0\n",
       "4    17.0          8         302.0  ...          10.5          70       0\n",
       "..    ...        ...           ...  ...           ...         ...     ...\n",
       "393  27.0          4         140.0  ...          15.6          82       0\n",
       "394  44.0          4          97.0  ...          24.6          82       2\n",
       "395  32.0          4         135.0  ...          11.6          82       0\n",
       "396  28.0          4         120.0  ...          18.6          82       0\n",
       "397  31.0          4         119.0  ...          19.4          82       0\n",
       "\n",
       "[392 rows x 8 columns]"
      ]
     },
     "execution_count": 13,
     "metadata": {
      "tags": []
     },
     "output_type": "execute_result"
    }
   ],
   "source": [
    "# Load in the necessary libraries and the dataset\n",
    "import pandas as pd\n",
    "import numpy as np\n",
    "import seaborn as sns\n",
    "from sklearn.model_selection import train_test_split\n",
    "from sklearn import tree\n",
    "from sklearn.metrics import accuracy_score, r2_score\n",
    "import matplotlib.pyplot as plt\n",
    "\n",
    "data = sns.load_dataset(\"mpg\")\n",
    "\n",
    "# Drop the rows with missing values\n",
    "# Drop the \"name\" column\n",
    "# Transform the \"origin\" column to represent the following:\n",
    "#   USA = 0, Japan = 1, Europe = 2\n",
    "data = data.drop(columns=['name'])\n",
    "data.dropna(axis='index',inplace=True)\n",
    "trans={\"origin\":{\"usa\":0,\"japan\":1,\"europe\":2}}\n",
    "data = data.replace(trans)\n",
    "data.head\n",
    "data[\"origin\"].value_counts()\n",
    "data"
   ]
  },
  {
   "cell_type": "code",
   "execution_count": 14,
   "metadata": {
    "colab": {
     "base_uri": "https://localhost:8080/"
    },
    "id": "rZ43TkkL4mqv",
    "outputId": "0fcf14cb-c3ff-4de7-9c61-15451d6662dc"
   },
   "outputs": [
    {
     "name": "stdout",
     "output_type": "stream",
     "text": [
      "<bound method NDFrame.head of      cylinders  displacement  horsepower  ...  acceleration  model_year  origin\n",
      "0            8         307.0       130.0  ...          12.0          70       0\n",
      "1            8         350.0       165.0  ...          11.5          70       0\n",
      "2            8         318.0       150.0  ...          11.0          70       0\n",
      "3            8         304.0       150.0  ...          12.0          70       0\n",
      "4            8         302.0       140.0  ...          10.5          70       0\n",
      "..         ...           ...         ...  ...           ...         ...     ...\n",
      "393          4         140.0        86.0  ...          15.6          82       0\n",
      "394          4          97.0        52.0  ...          24.6          82       2\n",
      "395          4         135.0        84.0  ...          11.6          82       0\n",
      "396          4         120.0        79.0  ...          18.6          82       0\n",
      "397          4         119.0        82.0  ...          19.4          82       0\n",
      "\n",
      "[392 rows x 7 columns]>\n",
      "<bound method NDFrame.head of 0      18.0\n",
      "1      15.0\n",
      "2      18.0\n",
      "3      16.0\n",
      "4      17.0\n",
      "       ... \n",
      "393    27.0\n",
      "394    44.0\n",
      "395    32.0\n",
      "396    28.0\n",
      "397    31.0\n",
      "Name: mpg, Length: 392, dtype: float64>\n"
     ]
    }
   ],
   "source": [
    "# Split into train and test splits using the \"mpg\" column as target, random state of 42 and a test size of 20%\n",
    "X=data.copy()\n",
    "X=X.drop(columns='mpg')\n",
    "y=data.copy()\n",
    "y=y['mpg']\n",
    "print('X:',X.head)\n",
    "print('y',y.head)\n",
    "\n",
    "X_train, X_test, y_train, y_test = train_test_split(X, y)"
   ]
  },
  {
   "cell_type": "code",
   "execution_count": 21,
   "metadata": {
    "colab": {
     "base_uri": "https://localhost:8080/"
    },
    "id": "OuXrepbF5uca",
    "outputId": "60b66707-4d93-4556-d4bd-8e7e669f4840"
   },
   "outputs": [
    {
     "data": {
      "text/plain": [
       "DecisionTreeRegressor(ccp_alpha=0.0, criterion='mse', max_depth=None,\n",
       "                      max_features=None, max_leaf_nodes=None,\n",
       "                      min_impurity_decrease=0.0, min_impurity_split=None,\n",
       "                      min_samples_leaf=1, min_samples_split=2,\n",
       "                      min_weight_fraction_leaf=0.0, presort='deprecated',\n",
       "                      random_state=None, splitter='best')"
      ]
     },
     "execution_count": 21,
     "metadata": {
      "tags": []
     },
     "output_type": "execute_result"
    }
   ],
   "source": [
    "# Fit a decision tree\n",
    "from sklearn.tree import DecisionTreeRegressor\n",
    "modelDTR = DecisionTreeRegressor()\n",
    "modelDTR.fit(X_train, y_train)"
   ]
  },
  {
   "cell_type": "code",
   "execution_count": 23,
   "metadata": {
    "id": "9iDodpFq6TLD"
   },
   "outputs": [],
   "source": [
    "# Predict on the xtest set\n",
    "prediction=modelDTR.predict(X_test)"
   ]
  },
  {
   "cell_type": "code",
   "execution_count": 24,
   "metadata": {
    "colab": {
     "base_uri": "https://localhost:8080/"
    },
    "id": "b_tMkB6d6kxo",
    "outputId": "d14eec83-9eb9-43a8-f4ed-98c43f2d9493"
   },
   "outputs": [
    {
     "data": {
      "text/plain": [
       "0.7482471655169012"
      ]
     },
     "execution_count": 24,
     "metadata": {
      "tags": []
     },
     "output_type": "execute_result"
    }
   ],
   "source": [
    "# Print out the R2 score.\n",
    "modelDTR.score(X_test, y_test, sample_weight=None)"
   ]
  },
  {
   "cell_type": "code",
   "execution_count": 33,
   "metadata": {
    "colab": {
     "base_uri": "https://localhost:8080/"
    },
    "id": "4BEgnReTNC0a",
    "outputId": "2b811321-cf68-445d-c2e8-67d5536321dd"
   },
   "outputs": [
    {
     "name": "stdout",
     "output_type": "stream",
     "text": [
      "('cylinders', 0.6163029287814644)\n",
      "('displacement', 0.07113770099370015)\n",
      "('horsepower', 0.11707021683754534)\n",
      "('weight', 0.05911434948443448)\n",
      "('acceleration', 0.034634969105999995)\n",
      "('model_year', 0.09642814472286775)\n",
      "('origin', 0.005311690073987933)\n"
     ]
    },
    {
     "data": {
      "text/plain": [
       "[None, None, None, None, None, None, None]"
      ]
     },
     "execution_count": 33,
     "metadata": {
      "tags": []
     },
     "output_type": "execute_result"
    }
   ],
   "source": [
    "# Print each feature with importance %\n",
    "zipped=zip(list(X.columns),list(modelDTR.feature_importances_))\n",
    "[print(i) for i in zipped]\n",
    "\n"
   ]
  },
  {
   "cell_type": "code",
   "execution_count": 51,
   "metadata": {
    "colab": {
     "base_uri": "https://localhost:8080/",
     "height": 610
    },
    "id": "HDnykI_M65hZ",
    "outputId": "f6f012ee-4ee6-4b4b-da57-2664d86783a4"
   },
   "outputs": [
    {
     "name": "stderr",
     "output_type": "stream",
     "text": [
      "/usr/local/lib/python3.7/dist-packages/sklearn/tree/_classes.py:1233: FutureWarning: the classes_ attribute is to be deprecated from version 0.22 and will be removed in 0.24.\n",
      "  warnings.warn(msg, FutureWarning)\n"
     ]
    },
    {
     "data": {
      "image/png": "[encoded data removed]",
      "text/plain": [
       "<Figure size 1080x720 with 1 Axes>"
      ]
     },
     "metadata": {
      "needs_background": "light",
      "tags": []
     },
     "output_type": "display_data"
    }
   ],
   "source": [
    "# Plot the results\n",
    "# Use column names as feature names and a max_depth of only 2\n",
    "from sklearn.tree import plot_tree\n",
    "import matplotlib.pyplot as plt\n",
    "\n",
    "plt.figure(figsize = (15,10))\n",
    "plot_tree(modelDTR, filled = True,  \n",
    "          class_names = modelDTR.classes_, \n",
    "          feature_names=X_train.columns,max_depth=2 )\n",
    "plt.show()"
   ]
  },
  {
   "cell_type": "markdown",
   "metadata": {
    "id": "RGU1DS3h-OKm"
   },
   "source": [
    "## Classification Trees"
   ]
  },
  {
   "cell_type": "code",
   "execution_count": 39,
   "metadata": {
    "colab": {
     "base_uri": "https://localhost:8080/"
    },
    "id": "Z0aZESh28zlI",
    "outputId": "73d3a168-1c0b-46fa-91d2-aba0d4f4c48e"
   },
   "outputs": [
    {
     "name": "stdout",
     "output_type": "stream",
     "text": [
      "<bound method NDFrame.head of      species  island  bill_length_mm  ...  flipper_length_mm  body_mass_g     sex\n",
      "0          0       0            39.1  ...              181.0       3750.0    Male\n",
      "1          0       0            39.5  ...              186.0       3800.0  Female\n",
      "2          0       0            40.3  ...              195.0       3250.0  Female\n",
      "4          0       0            36.7  ...              193.0       3450.0  Female\n",
      "5          0       0            39.3  ...              190.0       3650.0    Male\n",
      "..       ...     ...             ...  ...                ...          ...     ...\n",
      "338        2       1            47.2  ...              214.0       4925.0  Female\n",
      "340        2       1            46.8  ...              215.0       4850.0  Female\n",
      "341        2       1            50.4  ...              222.0       5750.0    Male\n",
      "342        2       1            45.2  ...              212.0       5200.0  Female\n",
      "343        2       1            49.9  ...              213.0       5400.0    Male\n",
      "\n",
      "[333 rows x 7 columns]>\n",
      "0    146\n",
      "2    119\n",
      "1     68\n",
      "Name: species, dtype: int64\n",
      "1    163\n",
      "2    123\n",
      "0     47\n",
      "Name: island, dtype: int64\n"
     ]
    }
   ],
   "source": [
    "# Load in the Penguins dataset\n",
    "data = sns.load_dataset('penguins')\n",
    "\n",
    "# Drop rows with missing values\n",
    "# Turn the species column into numeric\n",
    "# Specifically, Adelie = 0, Chinstrap = 1, and Gentoo = 2\n",
    "\n",
    "# Turn the island column into numeric\n",
    "# Specifically, Torgersen = 0, Biscoe = 1, Dream = 2\n",
    "\n",
    "pengdata=data.copy()\n",
    "pengdata.dropna(axis='index',inplace=True)\n",
    "trans={'species':{\"Adelie\":0,\"Chinstrap\":1,\"Gentoo\":2},\"island\":{\"Torgersen\":0,\"Biscoe\":1,\"Dream\":2}}\n",
    "pengdata=pengdata.replace(trans)\n",
    "print(pengdata.head)\n",
    "print(pengdata[\"species\"].value_counts())\n",
    "print(pengdata[\"island\"].value_counts())"
   ]
  },
  {
   "cell_type": "code",
   "execution_count": 40,
   "metadata": {
    "id": "aWLsB2cu-i-F"
   },
   "outputs": [],
   "source": [
    "# Using a random state of 42 and a test size of 0.20, as well as \"sex\" as the output, split in training and testing sets\n",
    "Xp=pengdata.copy()\n",
    "Xp=Xp.drop(columns='sex')\n",
    "yp=pengdata.copy()\n",
    "yp=yp['sex']\n",
    "\n",
    "Xp_train,Xp_test,yp_train,yp_test=train_test_split(Xp,yp,random_state=42,test_size=0.20)"
   ]
  },
  {
   "cell_type": "code",
   "execution_count": 43,
   "metadata": {
    "colab": {
     "base_uri": "https://localhost:8080/"
    },
    "id": "YmGmYzoP-pQa",
    "outputId": "8bb0073f-be07-4a4f-b121-a798d30fe787"
   },
   "outputs": [
    {
     "data": {
      "text/plain": [
       "DecisionTreeClassifier(ccp_alpha=0.0, class_weight=None, criterion='gini',\n",
       "                       max_depth=None, max_features=None, max_leaf_nodes=None,\n",
       "                       min_impurity_decrease=0.0, min_impurity_split=None,\n",
       "                       min_samples_leaf=1, min_samples_split=2,\n",
       "                       min_weight_fraction_leaf=0.0, presort='deprecated',\n",
       "                       random_state=None, splitter='best')"
      ]
     },
     "execution_count": 43,
     "metadata": {
      "tags": []
     },
     "output_type": "execute_result"
    }
   ],
   "source": [
    "# Using a random state of 42, fit the classification tree.\n",
    "from sklearn.tree import DecisionTreeClassifier\n",
    "modelDTC = DecisionTreeClassifier()\n",
    "modelDTC.fit(Xp_train, yp_train)"
   ]
  },
  {
   "cell_type": "code",
   "execution_count": 44,
   "metadata": {
    "colab": {
     "base_uri": "https://localhost:8080/"
    },
    "id": "uXSdrpxN-3vL",
    "outputId": "ca4658de-0ec4-4f83-88e7-a3c9d209763a"
   },
   "outputs": [
    {
     "data": {
      "text/plain": [
       "array(['Female', 'Female', 'Male', 'Female', 'Male', 'Female', 'Male',\n",
       "       'Male', 'Male', 'Male', 'Male', 'Female', 'Female', 'Female',\n",
       "       'Female', 'Female', 'Female', 'Female', 'Male', 'Female', 'Male',\n",
       "       'Female', 'Male', 'Male', 'Female', 'Female', 'Female', 'Female',\n",
       "       'Female', 'Male', 'Female', 'Male', 'Male', 'Female', 'Male',\n",
       "       'Female', 'Male', 'Female', 'Female', 'Female', 'Female', 'Female',\n",
       "       'Female', 'Male', 'Female', 'Female', 'Male', 'Male', 'Male',\n",
       "       'Male', 'Female', 'Male', 'Female', 'Female', 'Male', 'Male',\n",
       "       'Female', 'Male', 'Male', 'Male', 'Male', 'Male', 'Female',\n",
       "       'Female', 'Female', 'Male', 'Female'], dtype=object)"
      ]
     },
     "execution_count": 44,
     "metadata": {
      "tags": []
     },
     "output_type": "execute_result"
    }
   ],
   "source": [
    "# Print the predictions on the test set\n",
    "modelDTC.predict(Xp_test)\n"
   ]
  },
  {
   "cell_type": "code",
   "execution_count": 46,
   "metadata": {
    "colab": {
     "base_uri": "https://localhost:8080/"
    },
    "id": "atjtKZc2--lb",
    "outputId": "9c7f8080-ba4e-444c-da31-0378b333042a"
   },
   "outputs": [
    {
     "data": {
      "text/plain": [
       "0.8507462686567164"
      ]
     },
     "execution_count": 46,
     "metadata": {
      "tags": []
     },
     "output_type": "execute_result"
    }
   ],
   "source": [
    "# Print the accuracy score for the predictions\n",
    "modelDTC.score(Xp_test,yp_test)"
   ]
  },
  {
   "cell_type": "code",
   "execution_count": 68,
   "metadata": {
    "colab": {
     "base_uri": "https://localhost:8080/"
    },
    "id": "WSZkduulNPmS",
    "outputId": "d41c8800-feb9-44c3-c96f-8aaa17bf1d73"
   },
   "outputs": [
    {
     "name": "stdout",
     "output_type": "stream",
     "text": [
      "('species', 0.0075294384057971)\n",
      "('island', 0.0)\n",
      "('bill_length_mm', 0.09185427008911619)\n",
      "('bill_depth_mm', 0.47532285966341575)\n",
      "('flipper_length_mm', 0.04184216485507246)\n",
      "('body_mass_g', 0.38345126698659854)\n"
     ]
    },
    {
     "data": {
      "text/plain": [
       "[None, None, None, None, None, None]"
      ]
     },
     "execution_count": 68,
     "metadata": {
      "tags": []
     },
     "output_type": "execute_result"
    }
   ],
   "source": [
    "# Print each feature with importance %\n",
    "zipped=zip(list(Xp.columns),list(modelDTC.feature_importances_))\n",
    "[print(i) for i in zipped]\n",
    "\n"
   ]
  },
  {
   "cell_type": "code",
   "execution_count": 49,
   "metadata": {
    "colab": {
     "base_uri": "https://localhost:8080/",
     "height": 574
    },
    "id": "joRDKtn-_ENF",
    "outputId": "4e2f0dc6-e79f-4055-baa9-362781ab9df3"
   },
   "outputs": [
    {
     "data": {
      "image/png": "[encoded data removed]",
      "text/plain": [
       "<Figure size 1080x720 with 1 Axes>"
      ]
     },
     "metadata": {
      "needs_background": "light",
      "tags": []
     },
     "output_type": "display_data"
    }
   ],
   "source": [
    "# Plot the results\n",
    "# Use column names as feature names and a max_depth of only 2\n",
    "\n",
    "plt.figure(figsize = (15,10))\n",
    "plot_tree(modelDTC, filled = True,  \n",
    "          class_names = modelDTC.classes_, \n",
    "          feature_names=Xp_train.columns, max_depth=2 )\n",
    "plt.show()\n"
   ]
  },
  {
   "cell_type": "markdown",
   "metadata": {
    "id": "-MwQJOzMBOZq"
   },
   "source": [
    "# Effects of Changing the Maximum Depth\n",
    "In this section, we're going to see how changing the max_depth, which is one of the most important hyperparameters when it comes to decision trees, plays a part in the prediction accuracy.\n",
    "\n",
    "*** This exercise is only done for you to see how big of an impact choosing the correct max_depth is!*** Choosing the correct max_depth (or any other hyperparameter for that matter) is typically done using cross validation or a more advanced technique (Grid Search, Random Search, Bayesian Optimization).\n"
   ]
  },
  {
   "cell_type": "markdown",
   "metadata": {
    "id": "LyOwrYUuCLnX"
   },
   "source": [
    "Using the above dataset, fit and predict the train and test sets using a max_depth from 1 to 10. For example, within the first iteration, you would fit the xtrain and ytrain datasets using max_depth=1, predict the xtest using this model, and then record the accuracy. On the next iteration, the max_depth would then be 2, etc."
   ]
  },
  {
   "cell_type": "code",
   "execution_count": 59,
   "metadata": {
    "id": "aTMJDwLJB9rS"
   },
   "outputs": [],
   "source": [
    "# Using a random state of 42, fit multiple decision trees with various max depths.\n",
    "# Record these accuracies in a list (i.e. list_of_accuracies.append(accuracy))\n",
    "list_of_accuracies = []\n",
    "for i in range(1, 11):\n",
    "  model= DecisionTreeClassifier(max_depth=i)\n",
    "  model.fit(Xp_train, yp_train)\n",
    "  list_of_accuracies.append([i,model.score(Xp_test,yp_test)])\n"
   ]
  },
  {
   "cell_type": "code",
   "execution_count": 69,
   "metadata": {
    "colab": {
     "base_uri": "https://localhost:8080/",
     "height": 347
    },
    "id": "pVMDMl9fC5ZO",
    "outputId": "c001a9bb-a15a-4b00-9f21-de82f9905aa1"
   },
   "outputs": [
    {
     "data": {
      "text/html": [
       "<div>\n",
       "<style scoped>\n",
       "    .dataframe tbody tr th:only-of-type {\n",
       "        vertical-align: middle;\n",
       "    }\n",
       "\n",
       "    .dataframe tbody tr th {\n",
       "        vertical-align: top;\n",
       "    }\n",
       "\n",
       "    .dataframe thead th {\n",
       "        text-align: right;\n",
       "    }\n",
       "</style>\n",
       "<table border=\"1\" class=\"dataframe\">\n",
       "  <thead>\n",
       "    <tr style=\"text-align: right;\">\n",
       "      <th></th>\n",
       "      <th>Max depth</th>\n",
       "      <th>Accuracy</th>\n",
       "    </tr>\n",
       "  </thead>\n",
       "  <tbody>\n",
       "    <tr>\n",
       "      <th>0</th>\n",
       "      <td>1</td>\n",
       "      <td>0.701493</td>\n",
       "    </tr>\n",
       "    <tr>\n",
       "      <th>1</th>\n",
       "      <td>2</td>\n",
       "      <td>0.820896</td>\n",
       "    </tr>\n",
       "    <tr>\n",
       "      <th>2</th>\n",
       "      <td>3</td>\n",
       "      <td>0.835821</td>\n",
       "    </tr>\n",
       "    <tr>\n",
       "      <th>3</th>\n",
       "      <td>4</td>\n",
       "      <td>0.865672</td>\n",
       "    </tr>\n",
       "    <tr>\n",
       "      <th>4</th>\n",
       "      <td>5</td>\n",
       "      <td>0.850746</td>\n",
       "    </tr>\n",
       "    <tr>\n",
       "      <th>5</th>\n",
       "      <td>6</td>\n",
       "      <td>0.850746</td>\n",
       "    </tr>\n",
       "    <tr>\n",
       "      <th>6</th>\n",
       "      <td>7</td>\n",
       "      <td>0.850746</td>\n",
       "    </tr>\n",
       "    <tr>\n",
       "      <th>7</th>\n",
       "      <td>8</td>\n",
       "      <td>0.865672</td>\n",
       "    </tr>\n",
       "    <tr>\n",
       "      <th>8</th>\n",
       "      <td>9</td>\n",
       "      <td>0.850746</td>\n",
       "    </tr>\n",
       "    <tr>\n",
       "      <th>9</th>\n",
       "      <td>10</td>\n",
       "      <td>0.850746</td>\n",
       "    </tr>\n",
       "  </tbody>\n",
       "</table>\n",
       "</div>"
      ],
      "text/plain": [
       "   Max depth  Accuracy\n",
       "0          1  0.701493\n",
       "1          2  0.820896\n",
       "2          3  0.835821\n",
       "3          4  0.865672\n",
       "4          5  0.850746\n",
       "5          6  0.850746\n",
       "6          7  0.850746\n",
       "7          8  0.865672\n",
       "8          9  0.850746\n",
       "9         10  0.850746"
      ]
     },
     "execution_count": 69,
     "metadata": {
      "tags": []
     },
     "output_type": "execute_result"
    }
   ],
   "source": [
    "# Plot these accuracies using matplotlib with the accuracies on the y-axis and the max_depth on the x-axis.\n",
    "accuracydf=pd.DataFrame(list_of_accuracies, columns = ['Max depth', 'Accuracy'])\n",
    "accuracydf"
   ]
  },
  {
   "cell_type": "code",
   "execution_count": 71,
   "metadata": {
    "colab": {
     "base_uri": "https://localhost:8080/",
     "height": 296
    },
    "id": "sFWzCkl8IaFN",
    "outputId": "3535f576-55b0-4a86-f8ff-5c01af12e111"
   },
   "outputs": [
    {
     "data": {
      "text/plain": [
       "<matplotlib.axes._subplots.AxesSubplot at 0x7f4c47fffbd0>"
      ]
     },
     "execution_count": 71,
     "metadata": {
      "tags": []
     },
     "output_type": "execute_result"
    },
    {
     "data": {
      "image/png": "[encoded data removed]",
      "text/plain": [
       "<Figure size 432x288 with 1 Axes>"
      ]
     },
     "metadata": {
      "needs_background": "light",
      "tags": []
     },
     "output_type": "display_data"
    }
   ],
   "source": [
    "accuracydf.plot.line(x='Max depth',y='Accuracy')"
   ]
  },
  {
   "cell_type": "code",
   "execution_count": null,
   "metadata": {
    "id": "zn212ifcPO13"
   },
   "outputs": [],
   "source": []
  }
 ],
 "metadata": {
  "colab": {
   "collapsed_sections": [],
   "include_colab_link": true,
   "name": "DecisionTrees.ipynb",
   "provenance": []
  },
  "kernelspec": {
   "display_name": "Python 3",
   "language": "python",
   "name": "python3"
  },
  "language_info": {
   "codemirror_mode": {
    "name": "ipython",
    "version": 3
   },
   "file_extension": ".py",
   "mimetype": "text/x-python",
   "name": "python",
   "nbconvert_exporter": "python",
   "pygments_lexer": "ipython3",
   "version": "3.8.5"
  }
 },
 "nbformat": 4,
 "nbformat_minor": 4
}
