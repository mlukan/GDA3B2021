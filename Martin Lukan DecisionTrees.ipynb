{
  "nbformat": 4,
  "nbformat_minor": 0,
  "metadata": {
    "colab": {
      "name": "DecisionTrees.ipynb",
      "provenance": [],
      "collapsed_sections": [],
      "include_colab_link": true
    },
    "kernelspec": {
      "name": "python3",
      "display_name": "Python 3"
    }
  },
  "cells": [
    {
      "cell_type": "markdown",
      "metadata": {
        "id": "view-in-github",
        "colab_type": "text"
      },
      "source": [
        "<a href=\"https://colab.research.google.com/github/mlukan/GDA3B2021/blob/main/Martin%20Lukan%20DecisionTrees.ipynb\" target=\"_parent\"><img src=\"https://colab.research.google.com/assets/colab-badge.svg\" alt=\"Open In Colab\"/></a>"
      ]
    },
    {
      "cell_type": "markdown",
      "metadata": {
        "id": "JnwN3axz4pE4"
      },
      "source": [
        "# Decision Trees\n",
        "Within this challenge, we're going to use decision trees in both a classification sense and a regression sense and visualize each of these representations. In this challenge, we will be using the `mpg` dataset."
      ]
    },
    {
      "cell_type": "markdown",
      "metadata": {
        "id": "K7nAqbRN-FFe"
      },
      "source": [
        "## Regression Trees"
      ]
    },
    {
      "cell_type": "code",
      "metadata": {
        "id": "fv9xluj24jzc",
        "colab": {
          "base_uri": "https://localhost:8080/",
          "height": 51
        },
        "outputId": "c79fae83-9e5a-4ef0-acb7-b7c226e4aeb1"
      },
      "source": [
        "# Load in the necessary libraries and the dataset\n",
        "import pandas as pd\n",
        "import numpy as np\n",
        "import seaborn as sns\n",
        "from sklearn.model_selection import train_test_split\n",
        "from sklearn import tree\n",
        "from sklearn.metrics import accuracy_score, r2_score\n",
        "import matplotlib.pyplot as plt\n",
        "\n",
        "data = sns.load_dataset(\"mpg\")\n",
        "\n",
        "# Drop the rows with missing values\n",
        "# Drop the \"name\" column\n",
        "# Transform the \"origin\" column to represent the following:\n",
        "#   USA = 0, Japan = 1, Europe = 2\n",
        "\n",
        "# INSERT CODE HERE"
      ],
      "execution_count": null,
      "outputs": [
        {
          "output_type": "stream",
          "text": [
            "/usr/local/lib/python3.6/dist-packages/statsmodels/tools/_testing.py:19: FutureWarning: pandas.util.testing is deprecated. Use the functions in the public API at pandas.testing instead.\n",
            "  import pandas.util.testing as tm\n"
          ],
          "name": "stderr"
        }
      ]
    },
    {
      "cell_type": "code",
      "metadata": {
        "id": "rZ43TkkL4mqv"
      },
      "source": [
        "# Split into train and test splits using the \"mpg\" column as target, random state of 42 and a test size of 20%\n",
        "# INSERT CODE HERE\n"
      ],
      "execution_count": null,
      "outputs": []
    },
    {
      "cell_type": "code",
      "metadata": {
        "id": "OuXrepbF5uca"
      },
      "source": [
        "# Fit a decision tree\n",
        "# INSERT CODE HERE\n"
      ],
      "execution_count": null,
      "outputs": []
    },
    {
      "cell_type": "code",
      "metadata": {
        "id": "9iDodpFq6TLD"
      },
      "source": [
        "# Predict on the xtest set\n",
        "# INSERT CODE HERE\n"
      ],
      "execution_count": null,
      "outputs": []
    },
    {
      "cell_type": "code",
      "metadata": {
        "id": "b_tMkB6d6kxo"
      },
      "source": [
        "# Print out the R2 score.\n",
        "# INSERT CODE HERE\n"
      ],
      "execution_count": null,
      "outputs": []
    },
    {
      "cell_type": "code",
      "metadata": {
        "id": "4BEgnReTNC0a"
      },
      "source": [
        "# Print each feature with importance %\n",
        "# INSERT CODE HERE\n"
      ],
      "execution_count": null,
      "outputs": []
    },
    {
      "cell_type": "code",
      "metadata": {
        "id": "HDnykI_M65hZ"
      },
      "source": [
        "# Plot the results\n",
        "# Use column names as feature names and a max_depth of only 2\n",
        "# INSERT CODE HERE\n"
      ],
      "execution_count": null,
      "outputs": []
    },
    {
      "cell_type": "markdown",
      "metadata": {
        "id": "RGU1DS3h-OKm"
      },
      "source": [
        "## Classification Trees"
      ]
    },
    {
      "cell_type": "code",
      "metadata": {
        "id": "Z0aZESh28zlI"
      },
      "source": [
        "# Load in the Penguins dataset\n",
        "data = sns.load_dataset('penguins')\n",
        "\n",
        "# Drop rows with missing values\n",
        "# Turn the species column into numeric\n",
        "# Specifically, Adelie = 0, Chinstrap = 1, and Gentoo = 2\n",
        "\n",
        "# Turn the island column into numeric\n",
        "# Specifically, Torgersen = 0, Biscoe = 1, Dream = 2\n",
        "\n",
        "# INSERT CODE HERE\n"
      ],
      "execution_count": null,
      "outputs": []
    },
    {
      "cell_type": "code",
      "metadata": {
        "id": "aWLsB2cu-i-F"
      },
      "source": [
        "# Using a random state of 42 and a test size of 0.20, as well as \"sex\" as the output, split in training and testing sets\n",
        "# INSERT CODE HERE\n"
      ],
      "execution_count": null,
      "outputs": []
    },
    {
      "cell_type": "code",
      "metadata": {
        "id": "YmGmYzoP-pQa"
      },
      "source": [
        "# Using a random state of 42, fit the classification tree.\n",
        "# INSERT CODE HERE\n"
      ],
      "execution_count": null,
      "outputs": []
    },
    {
      "cell_type": "code",
      "metadata": {
        "id": "uXSdrpxN-3vL"
      },
      "source": [
        "# Print the predictions on the test set\n",
        "# INSERT CODE HERE\n"
      ],
      "execution_count": null,
      "outputs": []
    },
    {
      "cell_type": "code",
      "metadata": {
        "id": "atjtKZc2--lb"
      },
      "source": [
        "# Print the accuracy score for the predictions\n",
        "# INSERT CODE HERE\n"
      ],
      "execution_count": null,
      "outputs": []
    },
    {
      "cell_type": "code",
      "metadata": {
        "id": "WSZkduulNPmS"
      },
      "source": [
        "# Print each feature with importance %\n",
        "# INSERT CODE HERE\n"
      ],
      "execution_count": null,
      "outputs": []
    },
    {
      "cell_type": "code",
      "metadata": {
        "id": "joRDKtn-_ENF"
      },
      "source": [
        "# Plot the results\n",
        "# Use column names as feature names and a max_depth of only 2\n",
        "# INSERT CODE HERE\n"
      ],
      "execution_count": null,
      "outputs": []
    },
    {
      "cell_type": "markdown",
      "metadata": {
        "id": "-MwQJOzMBOZq"
      },
      "source": [
        "# Effects of Changing the Maximum Depth\n",
        "In this section, we're going to see how changing the max_depth, which is one of the most important hyperparameters when it comes to decision trees, plays a part in the prediction accuracy.\n",
        "\n",
        "*** This exercise is only done for you to see how big of an impact choosing the correct max_depth is!*** Choosing the correct max_depth (or any other hyperparameter for that matter) is typically done using cross validation or a more advanced technique (Grid Search, Random Search, Bayesian Optimization).\n"
      ]
    },
    {
      "cell_type": "markdown",
      "metadata": {
        "id": "LyOwrYUuCLnX"
      },
      "source": [
        "Using the above dataset, fit and predict the train and test sets using a max_depth from 1 to 10. For example, within the first iteration, you would fit the xtrain and ytrain datasets using max_depth=1, predict the xtest using this model, and then record the accuracy. On the next iteration, the max_depth would then be 2, etc."
      ]
    },
    {
      "cell_type": "code",
      "metadata": {
        "id": "aTMJDwLJB9rS"
      },
      "source": [
        "# Using a random state of 42, fit multiple decision trees with various max depths.\n",
        "# Record these accuracies in a list (i.e. list_of_accuracies.append(accuracy))\n",
        "list_of_accuracies = []\n",
        "for i in range(1, 11):\n",
        "  # INSERT CODE HERE\n"
      ],
      "execution_count": null,
      "outputs": []
    },
    {
      "cell_type": "code",
      "metadata": {
        "id": "pVMDMl9fC5ZO"
      },
      "source": [
        "# Plot these accuracies using matplotlib with the accuracies on the y-axis and the max_depth on the x-axis.\n",
        "# INSERT CODE HERE\n"
      ],
      "execution_count": null,
      "outputs": []
    },
    {
      "cell_type": "code",
      "metadata": {
        "id": "sFWzCkl8IaFN"
      },
      "source": [
        ""
      ],
      "execution_count": null,
      "outputs": []
    }
  ]
}