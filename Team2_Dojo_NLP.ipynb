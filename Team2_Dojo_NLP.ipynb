{
  "nbformat": 4,
  "nbformat_minor": 0,
  "metadata": {
    "colab": {
      "name": "Team2 Dojo NLP.ipynb",
      "provenance": [],
      "collapsed_sections": [],
      "include_colab_link": true
    },
    "kernelspec": {
      "name": "python3",
      "display_name": "Python 3"
    }
  },
  "cells": [
    {
      "cell_type": "markdown",
      "metadata": {
        "id": "view-in-github",
        "colab_type": "text"
      },
      "source": [
        "<a href=\"https://colab.research.google.com/github/mlukan/GDA3B2021/blob/main/Team2_Dojo_NLP.ipynb\" target=\"_parent\"><img src=\"https://colab.research.google.com/assets/colab-badge.svg\" alt=\"Open In Colab\"/></a>"
      ]
    },
    {
      "cell_type": "markdown",
      "metadata": {
        "id": "bZ8LQNMZgydy"
      },
      "source": [
        "# Preparation"
      ]
    },
    {
      "cell_type": "code",
      "metadata": {
        "id": "XMFUOYFduYoS"
      },
      "source": [
        "import numpy as np\n",
        "import pandas as pd\n",
        "import matplotlib.pyplot as plt"
      ],
      "execution_count": 2,
      "outputs": []
    },
    {
      "cell_type": "code",
      "metadata": {
        "id": "PAOQyfdhbsl0",
        "colab": {
          "base_uri": "https://localhost:8080/",
          "height": 393
        },
        "outputId": "8d4db132-14c2-487b-ed0f-a381b0ae79d5"
      },
      "source": [
        "songdata = pd.read_csv(\"https://raw.githubusercontent.com/temunix2/Book2Playlist/master/songdata.csv\")\n",
        "display(songdata.head())\n",
        "songdata.info()"
      ],
      "execution_count": 3,
      "outputs": [
        {
          "output_type": "display_data",
          "data": {
            "text/html": [
              "<div>\n",
              "<style scoped>\n",
              "    .dataframe tbody tr th:only-of-type {\n",
              "        vertical-align: middle;\n",
              "    }\n",
              "\n",
              "    .dataframe tbody tr th {\n",
              "        vertical-align: top;\n",
              "    }\n",
              "\n",
              "    .dataframe thead th {\n",
              "        text-align: right;\n",
              "    }\n",
              "</style>\n",
              "<table border=\"1\" class=\"dataframe\">\n",
              "  <thead>\n",
              "    <tr style=\"text-align: right;\">\n",
              "      <th></th>\n",
              "      <th>artist</th>\n",
              "      <th>song</th>\n",
              "      <th>link</th>\n",
              "      <th>text</th>\n",
              "    </tr>\n",
              "  </thead>\n",
              "  <tbody>\n",
              "    <tr>\n",
              "      <th>0</th>\n",
              "      <td>ABBA</td>\n",
              "      <td>Ahe's My Kind Of Girl</td>\n",
              "      <td>/a/abba/ahes+my+kind+of+girl_20598417.html</td>\n",
              "      <td>Look at her face, it's a wonderful face  \\nAnd...</td>\n",
              "    </tr>\n",
              "    <tr>\n",
              "      <th>1</th>\n",
              "      <td>ABBA</td>\n",
              "      <td>Andante, Andante</td>\n",
              "      <td>/a/abba/andante+andante_20002708.html</td>\n",
              "      <td>Take it easy with me, please  \\nTouch me gentl...</td>\n",
              "    </tr>\n",
              "    <tr>\n",
              "      <th>2</th>\n",
              "      <td>ABBA</td>\n",
              "      <td>As Good As New</td>\n",
              "      <td>/a/abba/as+good+as+new_20003033.html</td>\n",
              "      <td>I'll never know why I had to go  \\nWhy I had t...</td>\n",
              "    </tr>\n",
              "    <tr>\n",
              "      <th>3</th>\n",
              "      <td>ABBA</td>\n",
              "      <td>Bang</td>\n",
              "      <td>/a/abba/bang_20598415.html</td>\n",
              "      <td>Making somebody happy is a question of give an...</td>\n",
              "    </tr>\n",
              "    <tr>\n",
              "      <th>4</th>\n",
              "      <td>ABBA</td>\n",
              "      <td>Bang-A-Boomerang</td>\n",
              "      <td>/a/abba/bang+a+boomerang_20002668.html</td>\n",
              "      <td>Making somebody happy is a question of give an...</td>\n",
              "    </tr>\n",
              "  </tbody>\n",
              "</table>\n",
              "</div>"
            ],
            "text/plain": [
              "  artist  ...                                               text\n",
              "0   ABBA  ...  Look at her face, it's a wonderful face  \\nAnd...\n",
              "1   ABBA  ...  Take it easy with me, please  \\nTouch me gentl...\n",
              "2   ABBA  ...  I'll never know why I had to go  \\nWhy I had t...\n",
              "3   ABBA  ...  Making somebody happy is a question of give an...\n",
              "4   ABBA  ...  Making somebody happy is a question of give an...\n",
              "\n",
              "[5 rows x 4 columns]"
            ]
          },
          "metadata": {
            "tags": []
          }
        },
        {
          "output_type": "stream",
          "text": [
            "<class 'pandas.core.frame.DataFrame'>\n",
            "RangeIndex: 57650 entries, 0 to 57649\n",
            "Data columns (total 4 columns):\n",
            " #   Column  Non-Null Count  Dtype \n",
            "---  ------  --------------  ----- \n",
            " 0   artist  57650 non-null  object\n",
            " 1   song    57650 non-null  object\n",
            " 2   link    57650 non-null  object\n",
            " 3   text    57650 non-null  object\n",
            "dtypes: object(4)\n",
            "memory usage: 1.8+ MB\n"
          ],
          "name": "stdout"
        }
      ]
    },
    {
      "cell_type": "markdown",
      "metadata": {
        "id": "VTfHkJuegwNJ"
      },
      "source": [
        "# Dojo Start"
      ]
    },
    {
      "cell_type": "markdown",
      "metadata": {
        "id": "rfrIrxJg0jCm"
      },
      "source": [
        "**Task:** Count the number of songs for every artist. Return the 5 artists with the most songs together with their number of songs.\n",
        "\n",
        "Hint: You can do this with pandas"
      ]
    },
    {
      "cell_type": "code",
      "metadata": {
        "id": "9pv0LuqUufwW"
      },
      "source": [
        "#grouped=songdata.groupby(by='artist').count()\n",
        "grouped.sort_values(by='song',ascending=False)"
      ],
      "execution_count": null,
      "outputs": []
    },
    {
      "cell_type": "markdown",
      "metadata": {
        "id": "OyFQ-kMn1LaC"
      },
      "source": [
        "**Task:** Create a histogram with the number of words in each song."
      ]
    },
    {
      "cell_type": "code",
      "metadata": {
        "id": "cjGzBsU-1K5o",
        "colab": {
          "base_uri": "https://localhost:8080/"
        },
        "outputId": "cbc99038-2360-480a-decf-41ed40e063ce"
      },
      "source": [
        "import nltk\n",
        "nltk.download('punkt')\n",
        "nltk.download('stopwords')\n",
        "#freqs=pd.DataFrame.from_dict(nltk.FreqDist(words),orient='index',columns=['freq'])\n",
        "#words=nltk.word_tokenize(text)\n",
        "songdata['wordcount']=songdata['text'].apply(lambda x: len(x.split(' ')))"
      ],
      "execution_count": 15,
      "outputs": [
        {
          "output_type": "stream",
          "text": [
            "[nltk_data] Downloading package punkt to /root/nltk_data...\n",
            "[nltk_data]   Package punkt is already up-to-date!\n",
            "[nltk_data] Downloading package stopwords to /root/nltk_data...\n",
            "[nltk_data]   Package stopwords is already up-to-date!\n"
          ],
          "name": "stdout"
        }
      ]
    },
    {
      "cell_type": "code",
      "metadata": {
        "colab": {
          "base_uri": "https://localhost:8080/",
          "height": 282
        },
        "id": "CIprNaiF6ujD",
        "outputId": "d93b96d7-cd94-4ee4-83ff-bf9f19b09a84"
      },
      "source": [
        "songdata['wordcount'].plot.hist()"
      ],
      "execution_count": 18,
      "outputs": [
        {
          "output_type": "execute_result",
          "data": {
            "text/plain": [
              "<matplotlib.axes._subplots.AxesSubplot at 0x7f23f3bec210>"
            ]
          },
          "metadata": {
            "tags": []
          },
          "execution_count": 18
        },
        {
          "output_type": "display_data",
          "data": {
            "image/png": "[encoded data removed]",
            "text/plain": [
              "<Figure size 432x288 with 1 Axes>"
            ]
          },
          "metadata": {
            "tags": [],
            "needs_background": "light"
          }
        }
      ]
    },
    {
      "cell_type": "markdown",
      "metadata": {
        "id": "IVY_ceJVgtKl"
      },
      "source": [
        "## Regular Expressions"
      ]
    },
    {
      "cell_type": "markdown",
      "metadata": {
        "id": "AO-jc37L2Dp0"
      },
      "source": [
        "**Task:** Count the number of songs that mention the year \"1990\" in their lyrics. Do this **without** using a regular expression.\n",
        "\n",
        "*Hint:* It should be 7 songs."
      ]
    },
    {
      "cell_type": "code",
      "metadata": {
        "id": "5aCMQsAmap4R",
        "colab": {
          "base_uri": "https://localhost:8080/"
        },
        "outputId": "e1b6c929-5c93-44f2-e1de-bb5830456a80"
      },
      "source": [
        "len(songdata[songdata['text'].str.contains('1990')])"
      ],
      "execution_count": 22,
      "outputs": [
        {
          "output_type": "execute_result",
          "data": {
            "text/plain": [
              "7"
            ]
          },
          "metadata": {
            "tags": []
          },
          "execution_count": 22
        }
      ]
    },
    {
      "cell_type": "markdown",
      "metadata": {
        "id": "XROtIW-P3scS"
      },
      "source": [
        "**Task:** Now, use a regular expression to count the number of songs mentioning any year in the nineties, e.g. 1991, 1995, etc. or even mentioning '90s' or 'nineties' directly. \n",
        "\n",
        "*Hint*: It should be 123 songs.\n",
        "You can do this either by for-looping over the dataset and using the `re` package, or by using pandas functionality."
      ]
    },
    {
      "cell_type": "code",
      "metadata": {
        "id": "wAlztmy0bLqg"
      },
      "source": [
        "len(songdata[songdata['text'].str.contains('199[0-9]|nineties|90s',regex=True,na=False)])\n",
        "\n",
        "\n",
        "selection=songdata[songdata['text'].str.contains('199[0-9]|nineties|90s',regex=True,na=False)]['text']\n",
        "songlist=selection.values.tolist()\n",
        "songs=' '.join(songlist)"
      ],
      "execution_count": 28,
      "outputs": []
    },
    {
      "cell_type": "code",
      "metadata": {
        "colab": {
          "base_uri": "https://localhost:8080/"
        },
        "id": "qJxQwsej-fbR",
        "outputId": "f4a8b8d1-f401-4142-b4d8-fe8349b4c53d"
      },
      "source": [
        "import re\n",
        "nineties=[]\n",
        "for i in ['199[0-9]{1}','nineties','90s']:\n",
        "  se=f'{i}'\n",
        "  nineties.extend(re.findall(se,songs))\n",
        "ninetykeys=list(set(nineties))\n",
        "countdict={}\n",
        "for k in ninetykeys:\n",
        "  count=0\n",
        "  for i in nineties:\n",
        "    if i==k:\n",
        "      count+=1\n",
        "  countdict[k]=count\n",
        "print(countdict)"
      ],
      "execution_count": 50,
      "outputs": [
        {
          "output_type": "stream",
          "text": [
            "{'1995': 14, '1998': 10, '1997': 8, '90s': 4, '1994': 16, '1992': 16, 'nineties': 9, '1999': 42, '1996': 16, '1993': 7, '1990': 7, '1991': 11}\n"
          ],
          "name": "stdout"
        }
      ]
    },
    {
      "cell_type": "code",
      "metadata": {
        "id": "5Jjgh4yuCvFa"
      },
      "source": [
        "songdata[songdata['text'].str.contains('1991')]"
      ],
      "execution_count": null,
      "outputs": []
    },
    {
      "cell_type": "markdown",
      "metadata": {
        "id": "3uF9kPgsnJ9P"
      },
      "source": [
        "**Bonus:** In the previous exercise you counted the number of songs containing any match to the regex pattern. Now, **count** the number of times **each distinct match** was found, i.e. the result of this task should be a dictionary of the following form:\n",
        "```\n",
        "{\"1990\": 7,\n",
        " \"1991\": 6,\n",
        " \"1992\": 2,\n",
        " ...\n",
        " \"90s\": ...,\n",
        " \"nineties\": ...\n",
        "}\n",
        "```"
      ]
    },
    {
      "cell_type": "markdown",
      "metadata": {
        "id": "5EyF4P1YgpKK"
      },
      "source": [
        "## Text Understanding"
      ]
    },
    {
      "cell_type": "markdown",
      "metadata": {
        "id": "YZG-CbNO9bnd"
      },
      "source": [
        "Now, we want to get a better understanding of what our lyrics are generally about. We do that by plotting wordclouds!\n",
        "\n",
        "**Task:** First, grab a random sample song with it's artist and title and put it in a variable. The print the artist as well as the title of the song."
      ]
    },
    {
      "cell_type": "code",
      "metadata": {
        "id": "8wUj1aBTxCJP",
        "colab": {
          "base_uri": "https://localhost:8080/"
        },
        "outputId": "5e5f4641-7b24-454d-c2aa-78b29339152c"
      },
      "source": [
        "samplesong=songdata.iloc[0,:]\n",
        "print(samplesong.values[0:2])"
      ],
      "execution_count": 58,
      "outputs": [
        {
          "output_type": "stream",
          "text": [
            "['ABBA' \"Ahe's My Kind Of Girl\"]\n"
          ],
          "name": "stdout"
        }
      ]
    },
    {
      "cell_type": "markdown",
      "metadata": {
        "id": "sA-Kwg9c-pZI"
      },
      "source": [
        "**Task:** Import WordCloud from the wordcloud python package and use the `generate` function of the WordCloud object on your sample song.\n",
        "\n",
        "Then, use `plt.imshow()` with the result that was returned by the generate function and set the title of this plot to the title and artist of the song.\n",
        "\n",
        "*If you want to make it prettier, adjust the plot size (and width, height of WordCloud) and turn the axes off.*"
      ]
    },
    {
      "cell_type": "code",
      "metadata": {
        "id": "m8QkV5XewTUg",
        "colab": {
          "base_uri": "https://localhost:8080/",
          "height": 248
        },
        "outputId": "029c9007-71df-4608-9d9f-830fa3487534"
      },
      "source": [
        "from wordcloud import WordCloud\n",
        "import matplotlib.pyplot as plt\n",
        "\n",
        "wordcloud = WordCloud(width=480, height=480, max_font_size=200, min_font_size=10)\n",
        "\n",
        "# Generation of the wordcloud from a text\n",
        "wordcloud.generate_from_text(samplesong['text'])\n",
        "\n",
        "# Display thanks to Matplotlib\n",
        "plt.figure()\n",
        "plt.imshow(wordcloud, interpolation=\"bilinear\")\n",
        "plt.axis(\"off\")\n",
        "plt.margins(x=0, y=0)\n",
        "plt.show()"
      ],
      "execution_count": 59,
      "outputs": [
        {
          "output_type": "display_data",
          "data": {
            "image/png": "[encoded data removed]",
            "text/plain": [
              "<Figure size 432x288 with 1 Axes>"
            ]
          },
          "metadata": {
            "tags": [],
            "needs_background": "light"
          }
        }
      ]
    },
    {
      "cell_type": "markdown",
      "metadata": {
        "id": "1ryfPnd_x5QZ"
      },
      "source": [
        "## Predicting Artists"
      ]
    },
    {
      "cell_type": "markdown",
      "metadata": {
        "id": "DbZSRp6bk4Vg"
      },
      "source": [
        "Many artists have too few songs to do anything with, so let's see if we can predict any of the artists that we have more songs of.\n",
        "\n",
        "**Task:** First extract the 10 artists that have the most songs in the dataset. Who are they? Then extract all the songs from these 10 artists and save it in a data frame."
      ]
    },
    {
      "cell_type": "code",
      "metadata": {
        "id": "-ghIMBMqFt9X",
        "colab": {
          "base_uri": "https://localhost:8080/"
        },
        "outputId": "47dbe018-0550-4ae3-f689-a59153576fa5"
      },
      "source": [
        "tenmost=grouped.sort_values(by='song',ascending=False)[0:9]\n",
        "#tenmost=tenmost\n",
        "tenmost.index\n",
        "artistlist=list(tenmost.index)\n",
        "artistlist"
      ],
      "execution_count": 72,
      "outputs": [
        {
          "output_type": "execute_result",
          "data": {
            "text/plain": [
              "['Donna Summer',\n",
              " 'Gordon Lightfoot',\n",
              " 'Bob Dylan',\n",
              " 'George Strait',\n",
              " 'Cher',\n",
              " 'Alabama',\n",
              " 'Reba Mcentire',\n",
              " 'Loretta Lynn',\n",
              " 'Dean Martin']"
            ]
          },
          "metadata": {
            "tags": []
          },
          "execution_count": 72
        }
      ]
    },
    {
      "cell_type": "markdown",
      "metadata": {
        "id": "MNocSmPXoY3u"
      },
      "source": [
        "**Task:** Make a bar plot of the numbers of songs by artist.\n"
      ]
    },
    {
      "cell_type": "code",
      "metadata": {
        "id": "ahGxYubNofXp",
        "colab": {
          "base_uri": "https://localhost:8080/",
          "height": 394
        },
        "outputId": "a4429917-7e01-43cc-8822-7d06cc75ae5b"
      },
      "source": [
        "songdatatop=songdata[songdata['artist'].isin(artistlist)]\n",
        "print(len(songdatatop))\n",
        "songdatatop.groupby('artist')['song'].agg('count').plot.bar()"
      ],
      "execution_count": 82,
      "outputs": [
        {
          "output_type": "stream",
          "text": [
            "1690\n"
          ],
          "name": "stdout"
        },
        {
          "output_type": "execute_result",
          "data": {
            "text/plain": [
              "<matplotlib.axes._subplots.AxesSubplot at 0x7f241e4d0f10>"
            ]
          },
          "metadata": {
            "tags": []
          },
          "execution_count": 82
        },
        {
          "output_type": "display_data",
          "data": {
            "image/png": "[encoded data removed]",
            "text/plain": [
              "<Figure size 432x288 with 1 Axes>"
            ]
          },
          "metadata": {
            "tags": [],
            "needs_background": "light"
          }
        }
      ]
    },
    {
      "cell_type": "markdown",
      "metadata": {
        "id": "SSpJbaQZp1hf"
      },
      "source": [
        "Great, nice and evenly distributed number of songs for each of the top artists. Time to get a baseline prediction.\n",
        "\n",
        "**Task:** Make a train-test split with lyrics as input column and artist as target column. Split for 20% test size and fix random_state=42."
      ]
    },
    {
      "cell_type": "code",
      "metadata": {
        "id": "bzQanY9PxyAI"
      },
      "source": [
        ""
      ],
      "execution_count": null,
      "outputs": []
    },
    {
      "cell_type": "markdown",
      "metadata": {
        "id": "I1tWSr7EpV1d"
      },
      "source": [
        "As always, we want to build a baseline first. \n",
        "\n",
        "**Task:** Compute the log loss and cross_val_score on the test set if for each song we predict the same probability for all the artists, i.e. each artists gets a probability of 10%. \n",
        "\n",
        "**Hint:** As we are dealing with a multi-class problem of 10 classes, we need to pass a len(X_test)x10 dimensional array as the prediction."
      ]
    },
    {
      "cell_type": "code",
      "metadata": {
        "id": "Sazu0DhtrbW9"
      },
      "source": [
        ""
      ],
      "execution_count": null,
      "outputs": []
    },
    {
      "cell_type": "markdown",
      "metadata": {
        "id": "aV6Xh-HIrz-J"
      },
      "source": [
        "**Task:** Perform basic data cleaning by performing the following tasks:\n",
        "  - convert text to lower case\n",
        "  - remove special characters\n",
        "  - remove double whitespace"
      ]
    },
    {
      "cell_type": "code",
      "metadata": {
        "id": "_ouRXFrWsMLs"
      },
      "source": [
        ""
      ],
      "execution_count": null,
      "outputs": []
    },
    {
      "cell_type": "markdown",
      "metadata": {
        "id": "xPrxvPUSvOLZ"
      },
      "source": [
        "**Task:** Build a pipeline consisting of a TFIDF vectorizer as well as a LogisticRegression. What's the log loss on the training and test set? Evaluate your predictions by looking at the mean of `cross_val_score` of that pipe.\n",
        "\n",
        "**Hint:** You can use the helper function below"
      ]
    },
    {
      "cell_type": "code",
      "metadata": {
        "id": "oDxcZxlbtz_C"
      },
      "source": [
        "from sklearn.metrics import log_loss\n",
        "\n",
        "def predict_logloss_test_set(model, X_train, X_test, y_train, y_test):\n",
        "  \n",
        "  pred_train = model.predict_proba(X_train)\n",
        "  pred_test = model.predict_proba(X_test)\n",
        "\n",
        "  print(f\"Logloss train set: {log_loss(y_train, pred_train): .4f}\")\n",
        "  print(f\"Logloss test set: {log_loss(y_test, pred_test): .4f}\")"
      ],
      "execution_count": null,
      "outputs": []
    },
    {
      "cell_type": "code",
      "metadata": {
        "id": "sJnJSnVKsjd2"
      },
      "source": [
        ""
      ],
      "execution_count": null,
      "outputs": []
    },
    {
      "cell_type": "markdown",
      "metadata": {
        "id": "4hWWRcgUwU7l"
      },
      "source": [
        "**Task:** Use the internal stop word removal from the TfidfVectorizer stop_words=\"english\".\n",
        "\n",
        "to get rid of the stopwords. What's the effect on the logloss and cross_val_score?"
      ]
    },
    {
      "cell_type": "code",
      "metadata": {
        "id": "0kETZQHcwgxq"
      },
      "source": [
        ""
      ],
      "execution_count": null,
      "outputs": []
    },
    {
      "cell_type": "markdown",
      "metadata": {
        "id": "gUb1PqGIfQcc"
      },
      "source": [
        "That's interesting! Results get worse after deleting the stop words, i.e. there seems to be some information in the stopwords. If we had more time, we should now probably go ahead and check which stopwords this might be..."
      ]
    },
    {
      "cell_type": "markdown",
      "metadata": {
        "id": "RXTYaFOg1PpR"
      },
      "source": [
        "**Task:** Import and initialize nltk's SnowballStemmer and create a function that takes a string, stems every word and chain the stemmed words back together in one string to return it.\n",
        "\n",
        "The SnowballStemmer works just like the PorterStemmer (`stem()` function) but because it works for multiple languages, it has to be initialized by giving a language string ([see documentation](https://www.nltk.org/api/nltk.stem.html#nltk.stem.snowball.SnowballStemmer))."
      ]
    },
    {
      "cell_type": "code",
      "metadata": {
        "id": "IZhR7aMLw3o0"
      },
      "source": [
        "# try function on this sentence:\n",
        "sentence = \"I need to leave because the leaves of these trees are spooky.\""
      ],
      "execution_count": null,
      "outputs": []
    },
    {
      "cell_type": "code",
      "metadata": {
        "id": "u_DMkjZ_w5BO"
      },
      "source": [
        ""
      ],
      "execution_count": null,
      "outputs": []
    },
    {
      "cell_type": "markdown",
      "metadata": {
        "id": "Z-PoxK8hqt4v"
      },
      "source": [
        "**Task:** Use your function with the pandas apply function, to stem the lyrics of each song. Put the result in a separate column of the dataframe.\n"
      ]
    },
    {
      "cell_type": "code",
      "metadata": {
        "id": "vt0xPC2Zqu83"
      },
      "source": [
        ""
      ],
      "execution_count": null,
      "outputs": []
    },
    {
      "cell_type": "markdown",
      "metadata": {
        "id": "A1eI5fQ_bFsU"
      },
      "source": [
        "**Task:** Run the Pipeline (w/o hyperparameter settings nor stop word removal) and print the logloss on the training and test set. As always, set random_state=42"
      ]
    },
    {
      "cell_type": "code",
      "metadata": {
        "id": "58-kJhF7xCfm"
      },
      "source": [
        ""
      ],
      "execution_count": null,
      "outputs": []
    },
    {
      "cell_type": "markdown",
      "metadata": {
        "id": "zNsp6CZcbkLa"
      },
      "source": [
        "**Task:** Run hyperparameter optimization for both the TfidfVectorizer and the Logistic Regression. Try the following parameters:\n",
        "- max_features: [1000, 3000, None]\n",
        "- max_df = [0.5, 0.7, 1]\n",
        "- C = [0.7, 1, 2]"
      ]
    },
    {
      "cell_type": "code",
      "metadata": {
        "id": "ar5F4WWpxZs9"
      },
      "source": [
        ""
      ],
      "execution_count": null,
      "outputs": []
    },
    {
      "cell_type": "code",
      "metadata": {
        "id": "9TFwWUNSqcjw"
      },
      "source": [
        ""
      ],
      "execution_count": null,
      "outputs": []
    },
    {
      "cell_type": "markdown",
      "metadata": {
        "id": "YFbo0cplcOei"
      },
      "source": [
        "**Task (Bonus):** Plot the confusion matrix (in %) on the test set. Make sure the values are normalized, i.e. the sum over the predicted values per true label should be equal to 1.\n",
        "\n",
        " Use `plot_confusion_matrix` of sklearn to have a closer look at our predictions.\n",
        "\n",
        "1. Fit your latest/best pipe to the training data, and \n",
        "1. Create the confusion matrix for the test data, and\n",
        "1. Customize it by normalizing along 'true' values.\n"
      ]
    },
    {
      "cell_type": "code",
      "metadata": {
        "id": "RodIQo_2IaAZ"
      },
      "source": [
        "from sklearn.metrics import plot_confusion_matrix\n"
      ],
      "execution_count": null,
      "outputs": []
    },
    {
      "cell_type": "markdown",
      "metadata": {
        "id": "17rGaCvi0YCL"
      },
      "source": [
        "Even if we can't safely make prediction with this kind of an accuracy, we found out that some artists are more distinguishable than others in terms of their lyrics."
      ]
    },
    {
      "cell_type": "markdown",
      "metadata": {
        "id": "UN1ObuDXrY06"
      },
      "source": [
        "## Bonus"
      ]
    },
    {
      "cell_type": "markdown",
      "metadata": {
        "id": "NhsBMCSyqhwQ"
      },
      "source": [
        "**Task**: \n",
        "We have seen that the default list of stopwords is no good. Let's make our own small list of stopwords.\n",
        "\n",
        "To do that, we first need to find out **which words appear often**, because they may have a potentially bigger impact on our model, when treated as a stopword.\n",
        "\n",
        "**Task:** Use sklearns CountVectorizer to make your corpus into a bag-of-words (i.e. fit_transform on your stemmed text data). Inspect the shape of your bag-of-words."
      ]
    },
    {
      "cell_type": "markdown",
      "metadata": {
        "id": "UNaMY1-7q1sw"
      },
      "source": [
        "The second value in the shape is the number of columns in this matrix, or the **number of unique words** in the corpus.\n",
        "\n",
        "**Task:** Take the sum of the entries in this matrix along **axis 0** (per column). Verify with the shape of the result that you have one value per word."
      ]
    },
    {
      "cell_type": "markdown",
      "metadata": {
        "id": "lDnB1v1uq6QJ"
      },
      "source": [
        "Doing this, you end up with  >8k  entries, one per word. The order of these entries corresponds to the order of the words in get_feature_names() from CountVectorizer.\n",
        "\n",
        "Task: Use the given wordcount_np_array to create a pandas series and set its index to get_feature_names() from the CountVectorizer.\n",
        "\n",
        "Display the 20 largest entries in this series.\n"
      ]
    },
    {
      "cell_type": "code",
      "metadata": {
        "id": "iNwY9j3zq9K7"
      },
      "source": [
        "wordcount_np_array = np.array(bow.sum(axis=0))[0]\n",
        "\n",
        "# Your code here:"
      ],
      "execution_count": null,
      "outputs": []
    },
    {
      "cell_type": "markdown",
      "metadata": {
        "id": "U3joPLXXrAEe"
      },
      "source": [
        "Let's keep personal pronouns like \"you\" or \"me\", as well as \"love\", because they may hold more meaning in songs than we might think.\n",
        "\n",
        "**Task:** Create your own stopword list and select 10 non-descriptive words from this list of top 20 words in your corpus."
      ]
    },
    {
      "cell_type": "code",
      "metadata": {
        "id": "YrEMi0nFrSgZ"
      },
      "source": [
        ""
      ],
      "execution_count": null,
      "outputs": []
    },
    {
      "cell_type": "markdown",
      "metadata": {
        "id": "VgsHZFvIrGQw"
      },
      "source": [
        "**Task:** Split your data again as before, but use the stemmed text as input now."
      ]
    },
    {
      "cell_type": "code",
      "metadata": {
        "id": "qd9RQxQ_rSAY"
      },
      "source": [
        ""
      ],
      "execution_count": null,
      "outputs": []
    },
    {
      "cell_type": "markdown",
      "metadata": {
        "id": "8YUHxgZbrJCJ"
      },
      "source": [
        "Task: Recreate your pipeline and give the TfidfVectorizer your custom list of stopwords.\n",
        "\n",
        "Re-evaluate this pipe with the mean of the cross_val_score."
      ]
    },
    {
      "cell_type": "code",
      "metadata": {
        "id": "nLZkputrrTEr"
      },
      "source": [
        ""
      ],
      "execution_count": null,
      "outputs": []
    },
    {
      "cell_type": "markdown",
      "metadata": {
        "id": "zEQZTyIGrMnk"
      },
      "source": [
        "**Bonus:** Use the `token_pattern` option of TfidfVectorizer and give it a regular expression that detects words such as \"don't\", \"it's\" and \"we're\". By default, any punctuation separates two words in this vectorizer.\n",
        "\n",
        "Also increase the regularization parameter to `C=2` in the logistic regression and evaluate the pipe again."
      ]
    },
    {
      "cell_type": "code",
      "metadata": {
        "id": "fIljXXDkq2bQ"
      },
      "source": [
        ""
      ],
      "execution_count": null,
      "outputs": []
    }
  ]
}