{
  "nbformat": 4,
  "nbformat_minor": 0,
  "metadata": {
    "colab": {
      "name": "Martin Lukan Python and lists.ipynb",
      "provenance": [],
      "collapsed_sections": [],
      "include_colab_link": true
    },
    "kernelspec": {
      "name": "python3",
      "display_name": "Python 3"
    }
  },
  "cells": [
    {
      "cell_type": "markdown",
      "metadata": {
        "id": "view-in-github",
        "colab_type": "text"
      },
      "source": [
        "<a href=\"https://colab.research.google.com/github/mlukan/GDA3B2021/blob/main/Martin_Lukan_Python_and_lists.ipynb\" target=\"_parent\"><img src=\"https://colab.research.google.com/assets/colab-badge.svg\" alt=\"Open In Colab\"/></a>"
      ]
    },
    {
      "cell_type": "markdown",
      "metadata": {
        "id": "LoJw-LlCTnWF"
      },
      "source": [
        "# Mission 1\n",
        "\n",
        "Create a script that takes a list and displays only the elements (and their position) that have positions that are even (0, 2, 4, 6...).\n",
        "\n",
        "Example list = [\"a\", \"b\", \"c\", \"d\", \"e\"], the script should return : \n",
        "- a position 0\n",
        "- c position 2\n",
        "- e position 4"
      ]
    },
    {
      "cell_type": "code",
      "metadata": {
        "id": "C2Lk113KSPUO",
        "colab": {
          "base_uri": "https://localhost:8080/"
        },
        "outputId": "00035e22-5d84-4e19-da30-6f86a9da4ca9"
      },
      "source": [
        "mylist =  [\"a\", \"b\", \"c\", \"d\", \"e\"]\n",
        "for i,val in enumerate(mylist):\n",
        "  if i%2==0:print(f\"{val} position {i}\") "
      ],
      "execution_count": 6,
      "outputs": [
        {
          "output_type": "stream",
          "text": [
            "a position 0\n",
            "c position 2\n",
            "e position 4\n"
          ],
          "name": "stdout"
        }
      ]
    },
    {
      "cell_type": "markdown",
      "metadata": {
        "id": "J3bsGIvAT049"
      },
      "source": [
        "# Mission 2\n",
        "\n",
        "We have a list. Create a script to replace the value of an element with another simply by indicating its position.\n",
        "\n",
        "For example, we want to change the value of the third element of the list below:"
      ]
    },
    {
      "cell_type": "code",
      "metadata": {
        "id": "Fy1OmPSUXNaP",
        "colab": {
          "base_uri": "https://localhost:8080/"
        },
        "outputId": "4977c6a2-f363-4eea-f1a0-a3e1dc583b71"
      },
      "source": [
        "example = ['hello', 'good morning', 'bye bye', 'have a good day']\n",
        "def listreplacer(mylist,index,value):\n",
        "  mylist[index] = value\n",
        "  return mylist\n",
        "listreplacer(example,1,\"good evening\")\n"
      ],
      "execution_count": 23,
      "outputs": [
        {
          "output_type": "execute_result",
          "data": {
            "text/plain": [
              "['hello', 'good evening', 'bye bye', 'have a good day']"
            ]
          },
          "metadata": {
            "tags": []
          },
          "execution_count": 23
        }
      ]
    },
    {
      "cell_type": "markdown",
      "metadata": {
        "id": "dVl36lvlWLdV"
      },
      "source": [
        "# Mission 3\n",
        "\n",
        "Create a list, then add an element to the end of a list and remove the first element so that the list stays the same size."
      ]
    },
    {
      "cell_type": "code",
      "metadata": {
        "id": "pN3_mD4YSPfb",
        "colab": {
          "base_uri": "https://localhost:8080/"
        },
        "outputId": "08e9096c-a32e-4490-fa3a-54aab3ba2e26"
      },
      "source": [
        "example = ['hello', 'good morning', 'bye bye', 'have a good day']\n",
        "def insert_remove(mylist,value):\n",
        "  mylist.append(value)\n",
        "  mylist.pop(0)\n",
        "  return(mylist)\n",
        "insert_remove(example,'have a good evening')"
      ],
      "execution_count": 12,
      "outputs": [
        {
          "output_type": "execute_result",
          "data": {
            "text/plain": [
              "['good morning', 'bye bye', 'have a good day', 'have a good evening']"
            ]
          },
          "metadata": {
            "tags": []
          },
          "execution_count": 12
        }
      ]
    },
    {
      "cell_type": "markdown",
      "metadata": {
        "id": "GCvpkWzXXPTf"
      },
      "source": [
        "# Mission 4\n",
        "\n",
        "Create a script that does the same thing as the insert method, but at a random position."
      ]
    },
    {
      "cell_type": "code",
      "metadata": {
        "id": "QjLMjogySPk_",
        "colab": {
          "base_uri": "https://localhost:8080/"
        },
        "outputId": "641456ae-8309-43f7-f1cc-63165ef38147"
      },
      "source": [
        "example = ['hello', 'good morning', 'bye bye', 'have a good day']\n",
        "import random\n",
        "def insert_random(mylist,value):\n",
        "\n",
        "  i=random.randint(0,len(mylist)-1)\n",
        "  mylist[i] = value\n",
        "  return(mylist)\n",
        "insert_random(example,'have a good evening')"
      ],
      "execution_count": 26,
      "outputs": [
        {
          "output_type": "execute_result",
          "data": {
            "text/plain": [
              "['hello', 'good morning', 'have a good evening', 'have a good day']"
            ]
          },
          "metadata": {
            "tags": []
          },
          "execution_count": 26
        }
      ]
    },
    {
      "cell_type": "markdown",
      "metadata": {
        "id": "V8ZS3aECXvuZ"
      },
      "source": [
        "# Mission 5\n",
        "\n",
        "Create a script that does the same thing as the pop method for a list containing only characters. The difference is that this function displays a message indicating the number of characters that are identical to the deleted character and still remain in the string. In other words, if there were 3 \"b\" in the list, and one has just been deleted by your function, the script will display \"there are still 2 letters b\"."
      ]
    },
    {
      "cell_type": "code",
      "metadata": {
        "id": "ph_j97PoSPmU",
        "colab": {
          "base_uri": "https://localhost:8080/"
        },
        "outputId": "9b394caa-8708-4cce-df13-01653df1b452"
      },
      "source": [
        "mylist=['a','b','c','d','a','d']\n",
        "def delchar(mylist):\n",
        "  print(f\"There are still {mylist.count(mylist[0])-1} letters {mylist[0]}\")\n",
        "  mylist.pop(0)\n",
        "  return mylist\n",
        "delchar(mylist)"
      ],
      "execution_count": 35,
      "outputs": [
        {
          "output_type": "stream",
          "text": [
            "There are still 1 letters a\n"
          ],
          "name": "stdout"
        },
        {
          "output_type": "execute_result",
          "data": {
            "text/plain": [
              "['b', 'c', 'd', 'a', 'd']"
            ]
          },
          "metadata": {
            "tags": []
          },
          "execution_count": 35
        }
      ]
    },
    {
      "cell_type": "markdown",
      "metadata": {
        "id": "geMLdrvAYHKx"
      },
      "source": [
        "# Mission 6\n",
        "\n",
        "Create a script with 3 lists, and indicates the two that are \"closest\". That is to say, the two that have the most elements in common."
      ]
    },
    {
      "cell_type": "code",
      "metadata": {
        "id": "1-cenx3RSPpq",
        "colab": {
          "base_uri": "https://localhost:8080/",
          "height": 35
        },
        "outputId": "1c79d0eb-bcc7-4f8f-f548-cb52cdb354fd"
      },
      "source": [
        "#should work for any number of lists\n",
        "def listcomparator(*lists):\n",
        "  out={}\n",
        "  used=[]\n",
        "  for i,loclist in enumerate(lists):\n",
        "    if i+1 < len(lists):  \n",
        "      for l  in range(len(lists)):\n",
        "        if l!=i and ''.join(sorted(f\"lists{i}{l}\")) not in used:\n",
        "          out[f'lists {i} and {l}']=len(list(set(loclist) & set(lists[l])))\n",
        "          used.append(''.join(sorted(f\"lists{i}{l}\")))\n",
        "  maxlist=max(out, key=out.get)\n",
        "  return f\"{maxlist} have {out[maxlist]} common elements\"\n",
        "\n",
        "listcomparator(['a','b','c','a'],['b','d','a'],['a','c','b','d'],['b','f'],['f','a'],['a','a'],)"
      ],
      "execution_count": 100,
      "outputs": [
        {
          "output_type": "execute_result",
          "data": {
            "application/vnd.google.colaboratory.intrinsic+json": {
              "type": "string"
            },
            "text/plain": [
              "'lists 0 and 2 have 3 common elements'"
            ]
          },
          "metadata": {
            "tags": []
          },
          "execution_count": 100
        }
      ]
    },
    {
      "cell_type": "code",
      "metadata": {
        "id": "89K8VPUiEC1v"
      },
      "source": [
        "lists=[['a','b','c','a'],['b','d','a'],['c','c','d']]"
      ],
      "execution_count": 37,
      "outputs": []
    },
    {
      "cell_type": "markdown",
      "metadata": {
        "id": "Ygonr8C4pEgg"
      },
      "source": [
        "# Mission 7\n",
        "\n",
        "Create a script that displays all the items in a list of int from smallest to the largest. In other words, a script that sorts the list from smallest to largest."
      ]
    },
    {
      "cell_type": "code",
      "metadata": {
        "id": "dlRdqxco5r8U",
        "colab": {
          "base_uri": "https://localhost:8080/"
        },
        "outputId": "da1b2f7a-cf58-4d91-8fa1-f6c70c265ee7"
      },
      "source": [
        "def listsorter(mylist):\n",
        "  return sorted(mylist)\n",
        "mylist=[3,2,5,1,7]\n",
        "listsorter(mylist)"
      ],
      "execution_count": 94,
      "outputs": [
        {
          "output_type": "execute_result",
          "data": {
            "text/plain": [
              "[1, 2, 3, 5, 7]"
            ]
          },
          "metadata": {
            "tags": []
          },
          "execution_count": 94
        }
      ]
    },
    {
      "cell_type": "code",
      "metadata": {
        "id": "yfgzTBBgnRRy"
      },
      "source": [
        ""
      ],
      "execution_count": null,
      "outputs": []
    }
  ]
}