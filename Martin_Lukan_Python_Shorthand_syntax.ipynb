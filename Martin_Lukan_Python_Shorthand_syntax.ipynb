{
  "nbformat": 4,
  "nbformat_minor": 0,
  "metadata": {
    "colab": {
      "name": "Martin Lukan Python-Shorthand syntax.ipynb",
      "provenance": [],
      "collapsed_sections": [],
      "authorship_tag": "ABX9TyNTWupn03blhDWVYclA/iTi",
      "include_colab_link": true
    },
    "kernelspec": {
      "name": "python3",
      "display_name": "Python 3"
    },
    "language_info": {
      "name": "python"
    }
  },
  "cells": [
    {
      "cell_type": "markdown",
      "metadata": {
        "id": "view-in-github",
        "colab_type": "text"
      },
      "source": [
        "<a href=\"https://colab.research.google.com/github/mlukan/GDA3B2021/blob/main/Martin_Lukan_Python_Shorthand_syntax.ipynb\" target=\"_parent\"><img src=\"https://colab.research.google.com/assets/colab-badge.svg\" alt=\"Open In Colab\"/></a>"
      ]
    },
    {
      "cell_type": "code",
      "metadata": {
        "colab": {
          "base_uri": "https://localhost:8080/"
        },
        "id": "xUY_4ZwDYWQe",
        "outputId": "e8523138-60bd-445a-bd09-c583e8c6583a"
      },
      "source": [
        "# A function that converts amounts in dollars to amounts in euros (take the euro/dollar rate of the day you do the quest).\n",
        "rate = 1.2021\n",
        "def dollar_to_eur_long(dollars):\n",
        "  for i,dollar in enumerate(dollars):\n",
        "    dollars[i] =  dollar/rate\n",
        "  return dollars\n",
        "dollar_to_eur_long([10,3,155])\n"
      ],
      "execution_count": 23,
      "outputs": [
        {
          "output_type": "execute_result",
          "data": {
            "text/plain": [
              "[8.318775476249897, 2.495632642874969, 128.9410198818734]"
            ]
          },
          "metadata": {
            "tags": []
          },
          "execution_count": 23
        }
      ]
    },
    {
      "cell_type": "code",
      "metadata": {
        "colab": {
          "base_uri": "https://localhost:8080/"
        },
        "id": "yx6d5iaGhqG7",
        "outputId": "92d8f847-fcdc-4f77-caf2-7952b5a624e3"
      },
      "source": [
        "#Shorthand \n",
        "def dollar_to_eur(dollars):\n",
        "  return [dollar/rate for dollar in dollars]\n",
        "dollar_to_eur([10,3,155])"
      ],
      "execution_count": 24,
      "outputs": [
        {
          "output_type": "execute_result",
          "data": {
            "text/plain": [
              "[8.318775476249897, 2.495632642874969, 128.9410198818734]"
            ]
          },
          "metadata": {
            "tags": []
          },
          "execution_count": 24
        }
      ]
    },
    {
      "cell_type": "code",
      "metadata": {
        "colab": {
          "base_uri": "https://localhost:8080/"
        },
        "id": "mAwRRp6Mh9gn",
        "outputId": "ef2ea1b1-880b-4ae4-8b07-09a796d3fff0"
      },
      "source": [
        "# A function that returns the sum of the even numbers in a list containing integers.\n",
        "def sum_evens_long(inputlist):\n",
        "  sums=0\n",
        "  for i in inputlist:\n",
        "    if i%2==0:\n",
        "      sums+=i\n",
        "  return sums\n",
        "  \n",
        "inputlist = [1,5,2,4]\n",
        "sum_evens_long(inputlist)"
      ],
      "execution_count": 26,
      "outputs": [
        {
          "output_type": "execute_result",
          "data": {
            "text/plain": [
              "6"
            ]
          },
          "metadata": {
            "tags": []
          },
          "execution_count": 26
        }
      ]
    },
    {
      "cell_type": "code",
      "metadata": {
        "colab": {
          "base_uri": "https://localhost:8080/"
        },
        "id": "vpJYvEB1a5VU",
        "outputId": "083aaa08-dcf0-4708-a768-83b34ed4fce1"
      },
      "source": [
        "# Shorthand\n",
        "def sum_evens(inputlist):\n",
        "  return sum([i for i in inputlist if i%2==0])\n",
        "  \n",
        "inputlist = [1,5,2,4]\n",
        "sum_evens(inputlist)"
      ],
      "execution_count": 16,
      "outputs": [
        {
          "output_type": "execute_result",
          "data": {
            "text/plain": [
              "6"
            ]
          },
          "metadata": {
            "tags": []
          },
          "execution_count": 16
        }
      ]
    },
    {
      "cell_type": "code",
      "metadata": {
        "colab": {
          "base_uri": "https://localhost:8080/"
        },
        "id": "k9TuhSIoijJV",
        "outputId": "856303de-99ad-4997-91e7-5c7431616481"
      },
      "source": [
        "# A script that converts a list of positive or negative integers into a new list containing absolute values.\n",
        "def absoluter_long(mylist):\n",
        "  for i,value in enumerate(mylist):\n",
        "    mylist[i] = abs(value) \n",
        "  return mylist\n",
        "  \n",
        "inputlist = [1,-5,-2,4]\n",
        "absoluter_long(inputlist)"
      ],
      "execution_count": 28,
      "outputs": [
        {
          "output_type": "execute_result",
          "data": {
            "text/plain": [
              "[1, 5, 2, 4]"
            ]
          },
          "metadata": {
            "tags": []
          },
          "execution_count": 28
        }
      ]
    },
    {
      "cell_type": "code",
      "metadata": {
        "colab": {
          "base_uri": "https://localhost:8080/"
        },
        "id": "N4vcg9fjbonq",
        "outputId": "ad1b25ee-99a2-460d-ef34-087610239e2b"
      },
      "source": [
        "# Shorthand\n",
        "def absoluter(inputlist):\n",
        "  return [abs(i) for i in inputlist]\n",
        "  \n",
        "inputlist = [1,-5,-2,4]\n",
        "absoluter(inputlist)"
      ],
      "execution_count": 29,
      "outputs": [
        {
          "output_type": "execute_result",
          "data": {
            "text/plain": [
              "[1, 5, 2, 4]"
            ]
          },
          "metadata": {
            "tags": []
          },
          "execution_count": 29
        }
      ]
    },
    {
      "cell_type": "code",
      "metadata": {
        "id": "ZLEf6qH1fq_x"
      },
      "source": [
        ""
      ],
      "execution_count": null,
      "outputs": []
    }
  ]
}