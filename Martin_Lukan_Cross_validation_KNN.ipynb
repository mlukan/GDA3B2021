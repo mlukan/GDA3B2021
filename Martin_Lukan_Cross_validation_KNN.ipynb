{
  "nbformat": 4,
  "nbformat_minor": 0,
  "metadata": {
    "colab": {
      "name": "Martin Lukan KNN classification.ipynb",
      "provenance": [],
      "collapsed_sections": [],
      "include_colab_link": true
    },
    "kernelspec": {
      "name": "python3",
      "display_name": "Python 3"
    }
  },
  "cells": [
    {
      "cell_type": "markdown",
      "metadata": {
        "id": "view-in-github",
        "colab_type": "text"
      },
      "source": [
        "<a href=\"https://colab.research.google.com/github/mlukan/GDA3B2021/blob/main/Martin_Lukan_Cross_validation_KNN.ipynb\" target=\"_parent\"><img src=\"https://colab.research.google.com/assets/colab-badge.svg\" alt=\"Open In Colab\"/></a>"
      ]
    },
    {
      "cell_type": "markdown",
      "metadata": {
        "id": "7RZbCjBZBNKL"
      },
      "source": [
        "# Execute the code below"
      ]
    },
    {
      "cell_type": "code",
      "metadata": {
        "id": "ih5VsCSsAGWK"
      },
      "source": [
        "import numpy as np\n",
        "import pandas as pd\n",
        "import seaborn as sns\n",
        "from sklearn.neighbors import KNeighborsClassifier\n",
        "titanic = sns.load_dataset('titanic')\n",
        "titanic['survived'] = titanic['survived'].apply(lambda x: 'did not survive' if x == 0 else 'survived')"
      ],
      "execution_count": null,
      "outputs": []
    },
    {
      "cell_type": "code",
      "metadata": {
        "id": "8ijHIVq4FMT7",
        "colab": {
          "base_uri": "https://localhost:8080/"
        },
        "outputId": "ae53abe1-6833-48e3-d642-a97d05ab4011"
      },
      "source": [
        "titanic.shape"
      ],
      "execution_count": null,
      "outputs": [
        {
          "output_type": "execute_result",
          "data": {
            "text/plain": [
              "(891, 15)"
            ]
          },
          "metadata": {
            "tags": []
          },
          "execution_count": 2
        }
      ]
    },
    {
      "cell_type": "code",
      "metadata": {
        "id": "zbuXSRFjFNz9",
        "colab": {
          "base_uri": "https://localhost:8080/",
          "height": 204
        },
        "outputId": "74d1aa90-4e5f-4d6a-ba57-f1a0e8149733"
      },
      "source": [
        "titanic.head()"
      ],
      "execution_count": null,
      "outputs": [
        {
          "output_type": "execute_result",
          "data": {
            "text/html": [
              "<div>\n",
              "<style scoped>\n",
              "    .dataframe tbody tr th:only-of-type {\n",
              "        vertical-align: middle;\n",
              "    }\n",
              "\n",
              "    .dataframe tbody tr th {\n",
              "        vertical-align: top;\n",
              "    }\n",
              "\n",
              "    .dataframe thead th {\n",
              "        text-align: right;\n",
              "    }\n",
              "</style>\n",
              "<table border=\"1\" class=\"dataframe\">\n",
              "  <thead>\n",
              "    <tr style=\"text-align: right;\">\n",
              "      <th></th>\n",
              "      <th>survived</th>\n",
              "      <th>pclass</th>\n",
              "      <th>sex</th>\n",
              "      <th>age</th>\n",
              "      <th>sibsp</th>\n",
              "      <th>parch</th>\n",
              "      <th>fare</th>\n",
              "      <th>embarked</th>\n",
              "      <th>class</th>\n",
              "      <th>who</th>\n",
              "      <th>adult_male</th>\n",
              "      <th>deck</th>\n",
              "      <th>embark_town</th>\n",
              "      <th>alive</th>\n",
              "      <th>alone</th>\n",
              "    </tr>\n",
              "  </thead>\n",
              "  <tbody>\n",
              "    <tr>\n",
              "      <th>0</th>\n",
              "      <td>did not survive</td>\n",
              "      <td>3</td>\n",
              "      <td>male</td>\n",
              "      <td>22.0</td>\n",
              "      <td>1</td>\n",
              "      <td>0</td>\n",
              "      <td>7.2500</td>\n",
              "      <td>S</td>\n",
              "      <td>Third</td>\n",
              "      <td>man</td>\n",
              "      <td>True</td>\n",
              "      <td>NaN</td>\n",
              "      <td>Southampton</td>\n",
              "      <td>no</td>\n",
              "      <td>False</td>\n",
              "    </tr>\n",
              "    <tr>\n",
              "      <th>1</th>\n",
              "      <td>survived</td>\n",
              "      <td>1</td>\n",
              "      <td>female</td>\n",
              "      <td>38.0</td>\n",
              "      <td>1</td>\n",
              "      <td>0</td>\n",
              "      <td>71.2833</td>\n",
              "      <td>C</td>\n",
              "      <td>First</td>\n",
              "      <td>woman</td>\n",
              "      <td>False</td>\n",
              "      <td>C</td>\n",
              "      <td>Cherbourg</td>\n",
              "      <td>yes</td>\n",
              "      <td>False</td>\n",
              "    </tr>\n",
              "    <tr>\n",
              "      <th>2</th>\n",
              "      <td>survived</td>\n",
              "      <td>3</td>\n",
              "      <td>female</td>\n",
              "      <td>26.0</td>\n",
              "      <td>0</td>\n",
              "      <td>0</td>\n",
              "      <td>7.9250</td>\n",
              "      <td>S</td>\n",
              "      <td>Third</td>\n",
              "      <td>woman</td>\n",
              "      <td>False</td>\n",
              "      <td>NaN</td>\n",
              "      <td>Southampton</td>\n",
              "      <td>yes</td>\n",
              "      <td>True</td>\n",
              "    </tr>\n",
              "    <tr>\n",
              "      <th>3</th>\n",
              "      <td>survived</td>\n",
              "      <td>1</td>\n",
              "      <td>female</td>\n",
              "      <td>35.0</td>\n",
              "      <td>1</td>\n",
              "      <td>0</td>\n",
              "      <td>53.1000</td>\n",
              "      <td>S</td>\n",
              "      <td>First</td>\n",
              "      <td>woman</td>\n",
              "      <td>False</td>\n",
              "      <td>C</td>\n",
              "      <td>Southampton</td>\n",
              "      <td>yes</td>\n",
              "      <td>False</td>\n",
              "    </tr>\n",
              "    <tr>\n",
              "      <th>4</th>\n",
              "      <td>did not survive</td>\n",
              "      <td>3</td>\n",
              "      <td>male</td>\n",
              "      <td>35.0</td>\n",
              "      <td>0</td>\n",
              "      <td>0</td>\n",
              "      <td>8.0500</td>\n",
              "      <td>S</td>\n",
              "      <td>Third</td>\n",
              "      <td>man</td>\n",
              "      <td>True</td>\n",
              "      <td>NaN</td>\n",
              "      <td>Southampton</td>\n",
              "      <td>no</td>\n",
              "      <td>True</td>\n",
              "    </tr>\n",
              "  </tbody>\n",
              "</table>\n",
              "</div>"
            ],
            "text/plain": [
              "          survived  pclass     sex   age  ...  deck  embark_town  alive  alone\n",
              "0  did not survive       3    male  22.0  ...   NaN  Southampton     no  False\n",
              "1         survived       1  female  38.0  ...     C    Cherbourg    yes  False\n",
              "2         survived       3  female  26.0  ...   NaN  Southampton    yes   True\n",
              "3         survived       1  female  35.0  ...     C  Southampton    yes  False\n",
              "4  did not survive       3    male  35.0  ...   NaN  Southampton     no   True\n",
              "\n",
              "[5 rows x 15 columns]"
            ]
          },
          "metadata": {
            "tags": []
          },
          "execution_count": 3
        }
      ]
    },
    {
      "cell_type": "markdown",
      "metadata": {
        "id": "l33VVLQvP7x5"
      },
      "source": [
        "**We are going to learn machine learning concepts with the titanic dataset, one of the most infamous shipwrecks in history.** \n",
        "\n",
        "Also as a fun fact, this dataset is one of the most famous datasets around in terms of machine learning next to the MNIST and Iris dataset!"
      ]
    },
    {
      "cell_type": "markdown",
      "metadata": {
        "id": "_ji2jKxnFhD5"
      },
      "source": [
        "# Data preprocessing\n"
      ]
    },
    {
      "cell_type": "markdown",
      "metadata": {
        "id": "5maRcCwvWdZf"
      },
      "source": [
        "Machine learning is nothing without fine data preprocessing and feature angineering.  \n",
        "Modify the titanic dataset by:\n",
        "\n",
        "* Selecting dedicated and useful features (i.e columns), only these ones : `survived`, `pclass`, `sex`, `age`, `embark_town`\n",
        "* Removing rows with NaN data\n",
        "* Use `factorize` to recode features `sex` (gender) and `embark_town` (the harbour city) into numerical data, because ML needs (and loves) numerical data.\n",
        "\n",
        "*NB : please really use `factorize`. We'll use `get_dummies`at the end of the quest, to compare it.*"
      ]
    },
    {
      "cell_type": "markdown",
      "metadata": {
        "id": "l0t1Rw9TSCuD"
      },
      "source": [
        "Your should get something like that:\n",
        "\n",
        "![Capture d’écran 2021-05-01 à 11.34.43.png](data:image/png;base64,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)"
      ]
    },
    {
      "cell_type": "code",
      "metadata": {
        "id": "KVuPQGxEGb0H",
        "colab": {
          "base_uri": "https://localhost:8080/",
          "height": 204
        },
        "outputId": "2227bd54-3777-42e9-abb8-0555b389b197"
      },
      "source": [
        "titanic = titanic[['survived', 'pclass', 'sex', 'age', 'embark_town']]\n",
        "titanic.head()"
      ],
      "execution_count": null,
      "outputs": [
        {
          "output_type": "execute_result",
          "data": {
            "text/html": [
              "<div>\n",
              "<style scoped>\n",
              "    .dataframe tbody tr th:only-of-type {\n",
              "        vertical-align: middle;\n",
              "    }\n",
              "\n",
              "    .dataframe tbody tr th {\n",
              "        vertical-align: top;\n",
              "    }\n",
              "\n",
              "    .dataframe thead th {\n",
              "        text-align: right;\n",
              "    }\n",
              "</style>\n",
              "<table border=\"1\" class=\"dataframe\">\n",
              "  <thead>\n",
              "    <tr style=\"text-align: right;\">\n",
              "      <th></th>\n",
              "      <th>survived</th>\n",
              "      <th>pclass</th>\n",
              "      <th>sex</th>\n",
              "      <th>age</th>\n",
              "      <th>embark_town</th>\n",
              "    </tr>\n",
              "  </thead>\n",
              "  <tbody>\n",
              "    <tr>\n",
              "      <th>0</th>\n",
              "      <td>did not survive</td>\n",
              "      <td>3</td>\n",
              "      <td>0</td>\n",
              "      <td>22.0</td>\n",
              "      <td>0</td>\n",
              "    </tr>\n",
              "    <tr>\n",
              "      <th>1</th>\n",
              "      <td>survived</td>\n",
              "      <td>1</td>\n",
              "      <td>1</td>\n",
              "      <td>38.0</td>\n",
              "      <td>1</td>\n",
              "    </tr>\n",
              "    <tr>\n",
              "      <th>2</th>\n",
              "      <td>survived</td>\n",
              "      <td>3</td>\n",
              "      <td>1</td>\n",
              "      <td>26.0</td>\n",
              "      <td>0</td>\n",
              "    </tr>\n",
              "    <tr>\n",
              "      <th>3</th>\n",
              "      <td>survived</td>\n",
              "      <td>1</td>\n",
              "      <td>1</td>\n",
              "      <td>35.0</td>\n",
              "      <td>0</td>\n",
              "    </tr>\n",
              "    <tr>\n",
              "      <th>4</th>\n",
              "      <td>did not survive</td>\n",
              "      <td>3</td>\n",
              "      <td>0</td>\n",
              "      <td>35.0</td>\n",
              "      <td>0</td>\n",
              "    </tr>\n",
              "  </tbody>\n",
              "</table>\n",
              "</div>"
            ],
            "text/plain": [
              "          survived  pclass  sex   age  embark_town\n",
              "0  did not survive       3    0  22.0            0\n",
              "1         survived       1    1  38.0            1\n",
              "2         survived       3    1  26.0            0\n",
              "3         survived       1    1  35.0            0\n",
              "4  did not survive       3    0  35.0            0"
            ]
          },
          "metadata": {
            "tags": []
          },
          "execution_count": 30
        }
      ]
    },
    {
      "cell_type": "code",
      "metadata": {
        "id": "TAnQaZujAE0U"
      },
      "source": [
        "# It's up to you:\n",
        "titanic['sex']=pd.factorize(titanic.sex)[0].tolist()\n",
        "titanic['embark_town']=pd.factorize(titanic.embark_town)[0].tolist()\n"
      ],
      "execution_count": null,
      "outputs": []
    },
    {
      "cell_type": "code",
      "metadata": {
        "colab": {
          "base_uri": "https://localhost:8080/",
          "height": 504
        },
        "id": "HtUBBteeWrtO",
        "outputId": "bdd0a117-5930-4860-c0c1-0fc3f31c67bd"
      },
      "source": [
        "titanic.dropna(axis=0, inplace=True)\n",
        "titanic\n"
      ],
      "execution_count": null,
      "outputs": [
        {
          "output_type": "stream",
          "text": [
            "/usr/local/lib/python3.7/dist-packages/ipykernel_launcher.py:1: SettingWithCopyWarning: \n",
            "A value is trying to be set on a copy of a slice from a DataFrame\n",
            "\n",
            "See the caveats in the documentation: https://pandas.pydata.org/pandas-docs/stable/user_guide/indexing.html#returning-a-view-versus-a-copy\n",
            "  \"\"\"Entry point for launching an IPython kernel.\n"
          ],
          "name": "stderr"
        },
        {
          "output_type": "execute_result",
          "data": {
            "text/html": [
              "<div>\n",
              "<style scoped>\n",
              "    .dataframe tbody tr th:only-of-type {\n",
              "        vertical-align: middle;\n",
              "    }\n",
              "\n",
              "    .dataframe tbody tr th {\n",
              "        vertical-align: top;\n",
              "    }\n",
              "\n",
              "    .dataframe thead th {\n",
              "        text-align: right;\n",
              "    }\n",
              "</style>\n",
              "<table border=\"1\" class=\"dataframe\">\n",
              "  <thead>\n",
              "    <tr style=\"text-align: right;\">\n",
              "      <th></th>\n",
              "      <th>survived</th>\n",
              "      <th>pclass</th>\n",
              "      <th>sex</th>\n",
              "      <th>age</th>\n",
              "      <th>embark_town</th>\n",
              "    </tr>\n",
              "  </thead>\n",
              "  <tbody>\n",
              "    <tr>\n",
              "      <th>0</th>\n",
              "      <td>did not survive</td>\n",
              "      <td>3</td>\n",
              "      <td>0</td>\n",
              "      <td>22.0</td>\n",
              "      <td>0</td>\n",
              "    </tr>\n",
              "    <tr>\n",
              "      <th>1</th>\n",
              "      <td>survived</td>\n",
              "      <td>1</td>\n",
              "      <td>1</td>\n",
              "      <td>38.0</td>\n",
              "      <td>1</td>\n",
              "    </tr>\n",
              "    <tr>\n",
              "      <th>2</th>\n",
              "      <td>survived</td>\n",
              "      <td>3</td>\n",
              "      <td>1</td>\n",
              "      <td>26.0</td>\n",
              "      <td>0</td>\n",
              "    </tr>\n",
              "    <tr>\n",
              "      <th>3</th>\n",
              "      <td>survived</td>\n",
              "      <td>1</td>\n",
              "      <td>1</td>\n",
              "      <td>35.0</td>\n",
              "      <td>0</td>\n",
              "    </tr>\n",
              "    <tr>\n",
              "      <th>4</th>\n",
              "      <td>did not survive</td>\n",
              "      <td>3</td>\n",
              "      <td>0</td>\n",
              "      <td>35.0</td>\n",
              "      <td>0</td>\n",
              "    </tr>\n",
              "    <tr>\n",
              "      <th>...</th>\n",
              "      <td>...</td>\n",
              "      <td>...</td>\n",
              "      <td>...</td>\n",
              "      <td>...</td>\n",
              "      <td>...</td>\n",
              "    </tr>\n",
              "    <tr>\n",
              "      <th>885</th>\n",
              "      <td>did not survive</td>\n",
              "      <td>3</td>\n",
              "      <td>1</td>\n",
              "      <td>39.0</td>\n",
              "      <td>2</td>\n",
              "    </tr>\n",
              "    <tr>\n",
              "      <th>886</th>\n",
              "      <td>did not survive</td>\n",
              "      <td>2</td>\n",
              "      <td>0</td>\n",
              "      <td>27.0</td>\n",
              "      <td>0</td>\n",
              "    </tr>\n",
              "    <tr>\n",
              "      <th>887</th>\n",
              "      <td>survived</td>\n",
              "      <td>1</td>\n",
              "      <td>1</td>\n",
              "      <td>19.0</td>\n",
              "      <td>0</td>\n",
              "    </tr>\n",
              "    <tr>\n",
              "      <th>889</th>\n",
              "      <td>survived</td>\n",
              "      <td>1</td>\n",
              "      <td>0</td>\n",
              "      <td>26.0</td>\n",
              "      <td>1</td>\n",
              "    </tr>\n",
              "    <tr>\n",
              "      <th>890</th>\n",
              "      <td>did not survive</td>\n",
              "      <td>3</td>\n",
              "      <td>0</td>\n",
              "      <td>32.0</td>\n",
              "      <td>2</td>\n",
              "    </tr>\n",
              "  </tbody>\n",
              "</table>\n",
              "<p>714 rows × 5 columns</p>\n",
              "</div>"
            ],
            "text/plain": [
              "            survived  pclass  sex   age  embark_town\n",
              "0    did not survive       3    0  22.0            0\n",
              "1           survived       1    1  38.0            1\n",
              "2           survived       3    1  26.0            0\n",
              "3           survived       1    1  35.0            0\n",
              "4    did not survive       3    0  35.0            0\n",
              "..               ...     ...  ...   ...          ...\n",
              "885  did not survive       3    1  39.0            2\n",
              "886  did not survive       2    0  27.0            0\n",
              "887         survived       1    1  19.0            0\n",
              "889         survived       1    0  26.0            1\n",
              "890  did not survive       3    0  32.0            2\n",
              "\n",
              "[714 rows x 5 columns]"
            ]
          },
          "metadata": {
            "tags": []
          },
          "execution_count": 37
        }
      ]
    },
    {
      "cell_type": "code",
      "metadata": {
        "id": "5Damuv7LWrQJ"
      },
      "source": [
        ""
      ],
      "execution_count": null,
      "outputs": []
    },
    {
      "cell_type": "markdown",
      "metadata": {
        "id": "HDfmi_gNBRd3"
      },
      "source": [
        "# KNN classification with Scikit-Learn"
      ]
    },
    {
      "cell_type": "markdown",
      "metadata": {
        "id": "JJ3-5APmaKMd"
      },
      "source": [
        "## Train Test Split Data\n"
      ]
    },
    {
      "cell_type": "markdown",
      "metadata": {
        "id": "Z7afErxEdk5N"
      },
      "source": [
        "First you have to divide the titanic dataframe into 2 separated dataframes :\n",
        "  - `y` with the feature to be predicted (i.e. survived)\n",
        "  - `X` with the other features that will be used for the model (all numeric features + sex recoded with factorize + embark_town recoded with factorize)\n",
        "\n",
        "Your `X` should be something like that:\n",
        "\n",
        "![Capture d’écran 2021-04-29 à 08.22.37.png](data:image/png;base64,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)\n"
      ]
    },
    {
      "cell_type": "code",
      "metadata": {
        "id": "k0YRG3fkTZV3",
        "colab": {
          "base_uri": "https://localhost:8080/"
        },
        "outputId": "05519a6e-a1ff-4e57-86b9-dfafc58cad74"
      },
      "source": [
        "# Your code here\n",
        "y = titanic.iloc[:,0]\n",
        "X = titanic.iloc[:,1:]\n",
        "y"
      ],
      "execution_count": null,
      "outputs": [
        {
          "output_type": "execute_result",
          "data": {
            "text/plain": [
              "0      did not survive\n",
              "1             survived\n",
              "2             survived\n",
              "3             survived\n",
              "4      did not survive\n",
              "            ...       \n",
              "885    did not survive\n",
              "886    did not survive\n",
              "887           survived\n",
              "889           survived\n",
              "890    did not survive\n",
              "Name: survived, Length: 714, dtype: object"
            ]
          },
          "metadata": {
            "tags": []
          },
          "execution_count": 38
        }
      ]
    },
    {
      "cell_type": "markdown",
      "metadata": {
        "id": "JGxM2N1ATDfZ"
      },
      "source": [
        "\n",
        "And then from `X` and `y`, you need to separate them for training and testing your model :\n",
        "* Use 75% of data for training, the rest for testing\n",
        "* Please split data with `random_state = 36`\n",
        "\n",
        "[See the previous quest on train-test split if needed](https://odyssey.wildcodeschool.com/quests/581)"
      ]
    },
    {
      "cell_type": "code",
      "metadata": {
        "id": "BzjohRebdGjO",
        "colab": {
          "base_uri": "https://localhost:8080/"
        },
        "outputId": "01236308-0110-4d23-ae76-ffe729b5a1de"
      },
      "source": [
        "# Your code here\n",
        "from sklearn.model_selection import train_test_split\n",
        "\n",
        "X_train, X_test, y_train, y_test = train_test_split(X, y,random_state=36)\n",
        "print(\"The length of the initial dataset is :\", len(X))\n",
        "print(\"The length of the train dataset is   :\", len(X_train))\n",
        "print(\"The length of the test dataset is    :\", len(X_test))"
      ],
      "execution_count": null,
      "outputs": [
        {
          "output_type": "stream",
          "text": [
            "The length of the initial dataset is : 714\n",
            "The length of the train dataset is   : 535\n",
            "The length of the test dataset is    : 179\n"
          ],
          "name": "stdout"
        }
      ]
    },
    {
      "cell_type": "markdown",
      "metadata": {
        "id": "pGVB8rj9KKmF"
      },
      "source": [
        "## Model initialization"
      ]
    },
    {
      "cell_type": "markdown",
      "metadata": {
        "id": "QhC4gFT2BVh1"
      },
      "source": [
        "CONGRATS !!! You are going to develop your first ML model for KNN classification.  \n",
        "For that, please create a `model` object that initialises your model with the KNN classifier\n",
        "\n",
        "\n",
        "[More info here](https://scikit-learn.org/stable/modules/generated/sklearn.neighbors.KNeighborsClassifier.html)"
      ]
    },
    {
      "cell_type": "code",
      "metadata": {
        "id": "wEQLo4iFHg7A"
      },
      "source": [
        "# Your code here\n",
        "from sklearn.neighbors import KNeighborsClassifier\n",
        "model = KNeighborsClassifier()\n"
      ],
      "execution_count": null,
      "outputs": []
    },
    {
      "cell_type": "markdown",
      "metadata": {
        "id": "ssHd4xLyKPTi"
      },
      "source": [
        "## Model fitting\n"
      ]
    },
    {
      "cell_type": "markdown",
      "metadata": {
        "id": "2Lt1sgc5WQ1a"
      },
      "source": [
        "Now you have to fit your model on the training data.\n",
        "\n",
        "[More info here](https://scikit-learn.org/stable/modules/generated/sklearn.neighbors.KNeighborsClassifier.html)"
      ]
    },
    {
      "cell_type": "code",
      "metadata": {
        "id": "QmF0GsFiKPc1",
        "colab": {
          "base_uri": "https://localhost:8080/"
        },
        "outputId": "5fe74b82-575e-4997-a7d4-5d5b9c217d25"
      },
      "source": [
        "# Your code here\n",
        "\n",
        "model.fit(X_train, y_train)"
      ],
      "execution_count": null,
      "outputs": [
        {
          "output_type": "execute_result",
          "data": {
            "text/plain": [
              "KNeighborsClassifier(algorithm='auto', leaf_size=30, metric='minkowski',\n",
              "                     metric_params=None, n_jobs=None, n_neighbors=5, p=2,\n",
              "                     weights='uniform')"
            ]
          },
          "metadata": {
            "tags": []
          },
          "execution_count": 111
        }
      ]
    },
    {
      "cell_type": "markdown",
      "metadata": {
        "id": "PGiFceTKfMfk"
      },
      "source": [
        "## Make predictions"
      ]
    },
    {
      "cell_type": "markdown",
      "metadata": {
        "id": "ApT-slSTfMs-"
      },
      "source": [
        "You model is ready for prediction !"
      ]
    },
    {
      "cell_type": "markdown",
      "metadata": {
        "id": "oq_utVBCNPGE"
      },
      "source": [
        "Make prediction for yourself !  \n",
        "Change the data below and evaluate your chance of survival ..."
      ]
    },
    {
      "cell_type": "code",
      "metadata": {
        "id": "lWYaEHyVNPRJ",
        "colab": {
          "base_uri": "https://localhost:8080/"
        },
        "outputId": "fd00277c-75e2-4f10-9815-c7e7ec524a1c"
      },
      "source": [
        "# Your code here\n",
        "my_class = 1\n",
        "my_sex = 0\n",
        "my_age = 40\n",
        "my_town = 0\n",
        "my_data = np.array([my_class, my_sex, my_age, my_town]).reshape(1,4)\n",
        "print(model.predict(my_data))"
      ],
      "execution_count": null,
      "outputs": [
        {
          "output_type": "stream",
          "text": [
            "['survived']\n"
          ],
          "name": "stdout"
        }
      ]
    },
    {
      "cell_type": "code",
      "metadata": {
        "id": "DxaeFdECVRg4",
        "colab": {
          "base_uri": "https://localhost:8080/"
        },
        "outputId": "1708d638-2833-4d41-aa2d-26eb0c47e424"
      },
      "source": [
        "# Then you can execute this code to see probabilities per class\n",
        "for i, j in zip(model.classes_, model.predict_proba(my_data)[0]):\n",
        "  print(\"Prediction probability for:\", i, \"is\", j)"
      ],
      "execution_count": null,
      "outputs": [
        {
          "output_type": "stream",
          "text": [
            "Prediction probability for: did not survive is 0.4\n",
            "Prediction probability for: survived is 0.6\n"
          ],
          "name": "stdout"
        }
      ]
    },
    {
      "cell_type": "markdown",
      "metadata": {
        "id": "3akJ-nN_gEax"
      },
      "source": [
        "## Model evaluation"
      ]
    },
    {
      "cell_type": "markdown",
      "metadata": {
        "id": "Acm3E683gEiU"
      },
      "source": [
        "Last but not least, you should evaluate the accuracy of your model.  \n",
        "You can compute the **accuracy score**  directly with the well-known `.score()` method. Remember to compare train score and test score to evaluate overfitting.\n",
        "Please remember that other metrics are available to evaluate classification models such as precision, recall, f1 score and all together compose the `confusion matrix`."
      ]
    },
    {
      "cell_type": "code",
      "metadata": {
        "id": "Lp0Q3yXOgD1q",
        "colab": {
          "base_uri": "https://localhost:8080/"
        },
        "outputId": "dc9dbbbc-a574-483c-9ea8-f35fea309989"
      },
      "source": [
        "# Your code here to compare test and train score (accuracy score). Is there overfitting?\n",
        "\n",
        "print(f\"Accuracy on the train data set: {model.score(X_train,y_train)}\")\n",
        "print(f\"Accuracy on the test data set: {model.score(X_test,y_test)}\")"
      ],
      "execution_count": null,
      "outputs": [
        {
          "output_type": "stream",
          "text": [
            "Accuracy on the train data set: 0.8429906542056075\n",
            "Accuracy on the test data set: 0.7430167597765364\n"
          ],
          "name": "stdout"
        }
      ]
    },
    {
      "cell_type": "code",
      "metadata": {
        "id": "SO2IXXT5Wm1x",
        "colab": {
          "base_uri": "https://localhost:8080/",
          "height": 111
        },
        "outputId": "302370cf-ecef-485c-98ad-e18034849767"
      },
      "source": [
        "# You can execute this code to get the confusion matrix\n",
        "\n",
        "from sklearn.metrics import confusion_matrix\n",
        "pd.DataFrame(data = confusion_matrix(y_true = y_test, y_pred = model.predict(X_test)),\n",
        "             index = model.classes_ + \" ACTUAL\",\n",
        "             columns = model.classes_ + \" PREDICTED\")"
      ],
      "execution_count": null,
      "outputs": [
        {
          "output_type": "execute_result",
          "data": {
            "text/html": [
              "<div>\n",
              "<style scoped>\n",
              "    .dataframe tbody tr th:only-of-type {\n",
              "        vertical-align: middle;\n",
              "    }\n",
              "\n",
              "    .dataframe tbody tr th {\n",
              "        vertical-align: top;\n",
              "    }\n",
              "\n",
              "    .dataframe thead th {\n",
              "        text-align: right;\n",
              "    }\n",
              "</style>\n",
              "<table border=\"1\" class=\"dataframe\">\n",
              "  <thead>\n",
              "    <tr style=\"text-align: right;\">\n",
              "      <th></th>\n",
              "      <th>did not survive PREDICTED</th>\n",
              "      <th>survived PREDICTED</th>\n",
              "    </tr>\n",
              "  </thead>\n",
              "  <tbody>\n",
              "    <tr>\n",
              "      <th>did not survive ACTUAL</th>\n",
              "      <td>79</td>\n",
              "      <td>22</td>\n",
              "    </tr>\n",
              "    <tr>\n",
              "      <th>survived ACTUAL</th>\n",
              "      <td>24</td>\n",
              "      <td>54</td>\n",
              "    </tr>\n",
              "  </tbody>\n",
              "</table>\n",
              "</div>"
            ],
            "text/plain": [
              "                        did not survive PREDICTED  survived PREDICTED\n",
              "did not survive ACTUAL                         79                  22\n",
              "survived ACTUAL                                24                  54"
            ]
          },
          "metadata": {
            "tags": []
          },
          "execution_count": 49
        }
      ]
    },
    {
      "cell_type": "code",
      "metadata": {
        "colab": {
          "base_uri": "https://localhost:8080/",
          "height": 296
        },
        "id": "6qQCRefOuONm",
        "outputId": "f1b309f0-a0e6-469a-9abd-d9a1cbccd182"
      },
      "source": [
        "from sklearn.metrics import confusion_matrix, ConfusionMatrixDisplay\n",
        "predictions = model.predict(X_test)\n",
        "cm = confusion_matrix(y_test, predictions, labels=model.classes_)\n",
        "disp = ConfusionMatrixDisplay(confusion_matrix=cm, display_labels=model.classes_)\n",
        "disp.plot(values_format = '')"
      ],
      "execution_count": null,
      "outputs": [
        {
          "output_type": "execute_result",
          "data": {
            "text/plain": [
              "<sklearn.metrics._plot.confusion_matrix.ConfusionMatrixDisplay at 0x7eff838d2950>"
            ]
          },
          "metadata": {
            "tags": []
          },
          "execution_count": 113
        },
        {
          "output_type": "display_data",
          "data": {
            "image/png": "[encoded data removed]",
            "text/plain": [
              "<Figure size 432x288 with 2 Axes>"
            ]
          },
          "metadata": {
            "tags": [],
            "needs_background": "light"
          }
        }
      ]
    },
    {
      "cell_type": "markdown",
      "metadata": {
        "id": "K3CIhiJvXTDQ"
      },
      "source": [
        "**How many false positives are there?  In other words, how many people were predicted to die when in fact they survived?**\n",
        "\n",
        "24"
      ]
    },
    {
      "cell_type": "markdown",
      "metadata": {
        "id": "4z5pTssNNGPY"
      },
      "source": [
        "Performances of our model are pretty poor and could be explained by the original dataset.  \n",
        "Anoher way is to tune the hyperparameter such as the number of neighbors ..."
      ]
    },
    {
      "cell_type": "markdown",
      "metadata": {
        "id": "keBhfUHKNESi"
      },
      "source": [
        "## Hyperparameter - improve you model\n"
      ]
    },
    {
      "cell_type": "markdown",
      "metadata": {
        "id": "DpjEHC3ZWZhI"
      },
      "source": [
        "Let's play with the `n_neighbors` and `weights` hyperparameters of the model.  \n",
        "* Evaluate the accuracy score (only on the test set) of your models by adjusting the hyperparameter `n_neighbors`  from 2 to 10, and changing `weights` between `uniform` and `distance`.\n",
        "* What is the values of `n_neighbors` and `weights` that leads to the best score ?\n",
        "\n",
        "*NB: you could use a loop to test the different hyperparameter values*\n",
        "\n",
        "*Tip: you should find as optimal value `n_neighbors = 2` and `weights = 'distance'`, with a test score value of `0.7809`.*"
      ]
    },
    {
      "cell_type": "code",
      "metadata": {
        "id": "3kJ6Df-CNEJG",
        "colab": {
          "base_uri": "https://localhost:8080/",
          "height": 404
        },
        "outputId": "a245560e-10aa-46d1-c682-4418f3ced34d"
      },
      "source": [
        "# Your code here\n",
        "import matplotlib.pyplot as plt\n",
        "def plot_acc_K(X_train,y_train,X_test,y_test):\n",
        "  accu,accd=[],[]\n",
        "  for i in range(2,11):\n",
        "    knn = KNeighborsClassifier(n_neighbors=i,weights='uniform')\n",
        "    knn.fit(X_train, y_train)\n",
        "    pred_i = knn.predict(X_test)\n",
        "    accu.append(knn.score(X_test,y_test))\n",
        "\n",
        "  for i in range(2,11):\n",
        "    knn = KNeighborsClassifier(n_neighbors=i,weights='distance')\n",
        "    knn.fit(X_train, y_train)\n",
        "    pred_i = knn.predict(X_test)\n",
        "    accd.append(knn.score(X_test,y_test))\n",
        "\n",
        "  plt.figure(figsize=(12, 6))\n",
        "  plt.plot(range(2, 11), accu, color='red', linestyle='dashed', marker='o',markerfacecolor='blue', markersize=10)\n",
        "  plt.plot(range(2, 11), accd, color='blue', linestyle='dashed', marker='o',markerfacecolor='yellow', markersize=10)\n",
        "  plt.title('Accuracy score depending on K Value')\n",
        "  plt.xlabel('K Value')\n",
        "  plt.ylabel('Accuracy')\n",
        "\n",
        "plot_acc_K(X_train,y_train,X_test,y_test)"
      ],
      "execution_count": null,
      "outputs": [
        {
          "output_type": "display_data",
          "data": {
            "image/png": "[encoded data removed]",
            "text/plain": [
              "<Figure size 864x432 with 1 Axes>"
            ]
          },
          "metadata": {
            "tags": [],
            "needs_background": "light"
          }
        }
      ]
    },
    {
      "cell_type": "markdown",
      "metadata": {
        "id": "kLhEuLCECG90"
      },
      "source": [
        "# Let's go back to data processing to improve our model\n"
      ]
    },
    {
      "cell_type": "code",
      "metadata": {
        "id": "Nr7y53G1CxCQ",
        "colab": {
          "base_uri": "https://localhost:8080/",
          "height": 204
        },
        "outputId": "bdcf7e44-b878-42fc-c7c6-b92f78b57081"
      },
      "source": [
        "# Let's re-import data in a new dataset to compare, just execute the code below:\n",
        "titanic2 = sns.load_dataset('titanic')\n",
        "titanic2['survived'] = titanic2['survived'].apply(lambda x: 'did not survive' if x == 0 else 'survived')\n",
        "titanic2.head()"
      ],
      "execution_count": null,
      "outputs": [
        {
          "output_type": "execute_result",
          "data": {
            "text/html": [
              "<div>\n",
              "<style scoped>\n",
              "    .dataframe tbody tr th:only-of-type {\n",
              "        vertical-align: middle;\n",
              "    }\n",
              "\n",
              "    .dataframe tbody tr th {\n",
              "        vertical-align: top;\n",
              "    }\n",
              "\n",
              "    .dataframe thead th {\n",
              "        text-align: right;\n",
              "    }\n",
              "</style>\n",
              "<table border=\"1\" class=\"dataframe\">\n",
              "  <thead>\n",
              "    <tr style=\"text-align: right;\">\n",
              "      <th></th>\n",
              "      <th>survived</th>\n",
              "      <th>pclass</th>\n",
              "      <th>sex</th>\n",
              "      <th>age</th>\n",
              "      <th>sibsp</th>\n",
              "      <th>parch</th>\n",
              "      <th>fare</th>\n",
              "      <th>embarked</th>\n",
              "      <th>class</th>\n",
              "      <th>who</th>\n",
              "      <th>adult_male</th>\n",
              "      <th>deck</th>\n",
              "      <th>embark_town</th>\n",
              "      <th>alive</th>\n",
              "      <th>alone</th>\n",
              "    </tr>\n",
              "  </thead>\n",
              "  <tbody>\n",
              "    <tr>\n",
              "      <th>0</th>\n",
              "      <td>did not survive</td>\n",
              "      <td>3</td>\n",
              "      <td>male</td>\n",
              "      <td>22.0</td>\n",
              "      <td>1</td>\n",
              "      <td>0</td>\n",
              "      <td>7.2500</td>\n",
              "      <td>S</td>\n",
              "      <td>Third</td>\n",
              "      <td>man</td>\n",
              "      <td>True</td>\n",
              "      <td>NaN</td>\n",
              "      <td>Southampton</td>\n",
              "      <td>no</td>\n",
              "      <td>False</td>\n",
              "    </tr>\n",
              "    <tr>\n",
              "      <th>1</th>\n",
              "      <td>survived</td>\n",
              "      <td>1</td>\n",
              "      <td>female</td>\n",
              "      <td>38.0</td>\n",
              "      <td>1</td>\n",
              "      <td>0</td>\n",
              "      <td>71.2833</td>\n",
              "      <td>C</td>\n",
              "      <td>First</td>\n",
              "      <td>woman</td>\n",
              "      <td>False</td>\n",
              "      <td>C</td>\n",
              "      <td>Cherbourg</td>\n",
              "      <td>yes</td>\n",
              "      <td>False</td>\n",
              "    </tr>\n",
              "    <tr>\n",
              "      <th>2</th>\n",
              "      <td>survived</td>\n",
              "      <td>3</td>\n",
              "      <td>female</td>\n",
              "      <td>26.0</td>\n",
              "      <td>0</td>\n",
              "      <td>0</td>\n",
              "      <td>7.9250</td>\n",
              "      <td>S</td>\n",
              "      <td>Third</td>\n",
              "      <td>woman</td>\n",
              "      <td>False</td>\n",
              "      <td>NaN</td>\n",
              "      <td>Southampton</td>\n",
              "      <td>yes</td>\n",
              "      <td>True</td>\n",
              "    </tr>\n",
              "    <tr>\n",
              "      <th>3</th>\n",
              "      <td>survived</td>\n",
              "      <td>1</td>\n",
              "      <td>female</td>\n",
              "      <td>35.0</td>\n",
              "      <td>1</td>\n",
              "      <td>0</td>\n",
              "      <td>53.1000</td>\n",
              "      <td>S</td>\n",
              "      <td>First</td>\n",
              "      <td>woman</td>\n",
              "      <td>False</td>\n",
              "      <td>C</td>\n",
              "      <td>Southampton</td>\n",
              "      <td>yes</td>\n",
              "      <td>False</td>\n",
              "    </tr>\n",
              "    <tr>\n",
              "      <th>4</th>\n",
              "      <td>did not survive</td>\n",
              "      <td>3</td>\n",
              "      <td>male</td>\n",
              "      <td>35.0</td>\n",
              "      <td>0</td>\n",
              "      <td>0</td>\n",
              "      <td>8.0500</td>\n",
              "      <td>S</td>\n",
              "      <td>Third</td>\n",
              "      <td>man</td>\n",
              "      <td>True</td>\n",
              "      <td>NaN</td>\n",
              "      <td>Southampton</td>\n",
              "      <td>no</td>\n",
              "      <td>True</td>\n",
              "    </tr>\n",
              "  </tbody>\n",
              "</table>\n",
              "</div>"
            ],
            "text/plain": [
              "          survived  pclass     sex   age  ...  deck  embark_town  alive  alone\n",
              "0  did not survive       3    male  22.0  ...   NaN  Southampton     no  False\n",
              "1         survived       1  female  38.0  ...     C    Cherbourg    yes  False\n",
              "2         survived       3  female  26.0  ...   NaN  Southampton    yes   True\n",
              "3         survived       1  female  35.0  ...     C  Southampton    yes  False\n",
              "4  did not survive       3    male  35.0  ...   NaN  Southampton     no   True\n",
              "\n",
              "[5 rows x 15 columns]"
            ]
          },
          "metadata": {
            "tags": []
          },
          "execution_count": 89
        }
      ]
    },
    {
      "cell_type": "markdown",
      "metadata": {
        "id": "Ef6sFcIIbUpb"
      },
      "source": [
        "\n",
        "Please do the same data processing as previously, but change `embark_town` (the harbour city) with get_dummies (and not factorize).\n",
        "Then initialize, fit and score your model. Is it better? "
      ]
    },
    {
      "cell_type": "markdown",
      "metadata": {
        "id": "WBjaHE0CbXYv"
      },
      "source": [
        "You should have a `X` like this one:\n",
        "\n",
        "![Capture d’écran 2021-05-01 à 12.13.40.png](data:image/png;base64,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)"
      ]
    },
    {
      "cell_type": "code",
      "metadata": {
        "id": "dG9oMxqobGP_",
        "colab": {
          "base_uri": "https://localhost:8080/",
          "height": 419
        },
        "outputId": "d7e67e95-8146-47d3-c29b-8376d5911ef4"
      },
      "source": [
        "# It's up to you:\n",
        "titanic2 = titanic2[['survived', 'pclass', 'sex', 'age', 'embark_town']]\n",
        "titanic2['sex']=pd.factorize(titanic2.sex)[0].tolist()\n",
        "titanic2.dropna(axis=0,inplace=True)\n",
        "titanic2=pd.concat([titanic2 , titanic2['embark_town'].str.get_dummies()], axis = 1)\n",
        "titanic2.drop(columns='embark_town', inplace=True)\n",
        "titanic2"
      ],
      "execution_count": null,
      "outputs": [
        {
          "output_type": "execute_result",
          "data": {
            "text/html": [
              "<div>\n",
              "<style scoped>\n",
              "    .dataframe tbody tr th:only-of-type {\n",
              "        vertical-align: middle;\n",
              "    }\n",
              "\n",
              "    .dataframe tbody tr th {\n",
              "        vertical-align: top;\n",
              "    }\n",
              "\n",
              "    .dataframe thead th {\n",
              "        text-align: right;\n",
              "    }\n",
              "</style>\n",
              "<table border=\"1\" class=\"dataframe\">\n",
              "  <thead>\n",
              "    <tr style=\"text-align: right;\">\n",
              "      <th></th>\n",
              "      <th>survived</th>\n",
              "      <th>pclass</th>\n",
              "      <th>sex</th>\n",
              "      <th>age</th>\n",
              "      <th>Cherbourg</th>\n",
              "      <th>Queenstown</th>\n",
              "      <th>Southampton</th>\n",
              "    </tr>\n",
              "  </thead>\n",
              "  <tbody>\n",
              "    <tr>\n",
              "      <th>0</th>\n",
              "      <td>did not survive</td>\n",
              "      <td>3</td>\n",
              "      <td>0</td>\n",
              "      <td>22.0</td>\n",
              "      <td>0</td>\n",
              "      <td>0</td>\n",
              "      <td>1</td>\n",
              "    </tr>\n",
              "    <tr>\n",
              "      <th>1</th>\n",
              "      <td>survived</td>\n",
              "      <td>1</td>\n",
              "      <td>1</td>\n",
              "      <td>38.0</td>\n",
              "      <td>1</td>\n",
              "      <td>0</td>\n",
              "      <td>0</td>\n",
              "    </tr>\n",
              "    <tr>\n",
              "      <th>2</th>\n",
              "      <td>survived</td>\n",
              "      <td>3</td>\n",
              "      <td>1</td>\n",
              "      <td>26.0</td>\n",
              "      <td>0</td>\n",
              "      <td>0</td>\n",
              "      <td>1</td>\n",
              "    </tr>\n",
              "    <tr>\n",
              "      <th>3</th>\n",
              "      <td>survived</td>\n",
              "      <td>1</td>\n",
              "      <td>1</td>\n",
              "      <td>35.0</td>\n",
              "      <td>0</td>\n",
              "      <td>0</td>\n",
              "      <td>1</td>\n",
              "    </tr>\n",
              "    <tr>\n",
              "      <th>4</th>\n",
              "      <td>did not survive</td>\n",
              "      <td>3</td>\n",
              "      <td>0</td>\n",
              "      <td>35.0</td>\n",
              "      <td>0</td>\n",
              "      <td>0</td>\n",
              "      <td>1</td>\n",
              "    </tr>\n",
              "    <tr>\n",
              "      <th>...</th>\n",
              "      <td>...</td>\n",
              "      <td>...</td>\n",
              "      <td>...</td>\n",
              "      <td>...</td>\n",
              "      <td>...</td>\n",
              "      <td>...</td>\n",
              "      <td>...</td>\n",
              "    </tr>\n",
              "    <tr>\n",
              "      <th>885</th>\n",
              "      <td>did not survive</td>\n",
              "      <td>3</td>\n",
              "      <td>1</td>\n",
              "      <td>39.0</td>\n",
              "      <td>0</td>\n",
              "      <td>1</td>\n",
              "      <td>0</td>\n",
              "    </tr>\n",
              "    <tr>\n",
              "      <th>886</th>\n",
              "      <td>did not survive</td>\n",
              "      <td>2</td>\n",
              "      <td>0</td>\n",
              "      <td>27.0</td>\n",
              "      <td>0</td>\n",
              "      <td>0</td>\n",
              "      <td>1</td>\n",
              "    </tr>\n",
              "    <tr>\n",
              "      <th>887</th>\n",
              "      <td>survived</td>\n",
              "      <td>1</td>\n",
              "      <td>1</td>\n",
              "      <td>19.0</td>\n",
              "      <td>0</td>\n",
              "      <td>0</td>\n",
              "      <td>1</td>\n",
              "    </tr>\n",
              "    <tr>\n",
              "      <th>889</th>\n",
              "      <td>survived</td>\n",
              "      <td>1</td>\n",
              "      <td>0</td>\n",
              "      <td>26.0</td>\n",
              "      <td>1</td>\n",
              "      <td>0</td>\n",
              "      <td>0</td>\n",
              "    </tr>\n",
              "    <tr>\n",
              "      <th>890</th>\n",
              "      <td>did not survive</td>\n",
              "      <td>3</td>\n",
              "      <td>0</td>\n",
              "      <td>32.0</td>\n",
              "      <td>0</td>\n",
              "      <td>1</td>\n",
              "      <td>0</td>\n",
              "    </tr>\n",
              "  </tbody>\n",
              "</table>\n",
              "<p>712 rows × 7 columns</p>\n",
              "</div>"
            ],
            "text/plain": [
              "            survived  pclass  sex   age  Cherbourg  Queenstown  Southampton\n",
              "0    did not survive       3    0  22.0          0           0            1\n",
              "1           survived       1    1  38.0          1           0            0\n",
              "2           survived       3    1  26.0          0           0            1\n",
              "3           survived       1    1  35.0          0           0            1\n",
              "4    did not survive       3    0  35.0          0           0            1\n",
              "..               ...     ...  ...   ...        ...         ...          ...\n",
              "885  did not survive       3    1  39.0          0           1            0\n",
              "886  did not survive       2    0  27.0          0           0            1\n",
              "887         survived       1    1  19.0          0           0            1\n",
              "889         survived       1    0  26.0          1           0            0\n",
              "890  did not survive       3    0  32.0          0           1            0\n",
              "\n",
              "[712 rows x 7 columns]"
            ]
          },
          "metadata": {
            "tags": []
          },
          "execution_count": 90
        }
      ]
    },
    {
      "cell_type": "code",
      "metadata": {
        "colab": {
          "base_uri": "https://localhost:8080/"
        },
        "id": "pMh5uDsHpJOi",
        "outputId": "047a2865-8433-44ea-bc85-19f446adfc71"
      },
      "source": [
        "X1=titanic2.iloc[:,1:]\n",
        "y1=titanic2.iloc[:,0]\n",
        "X1_train, X1_test, y1_train, y1_test = train_test_split(X1, y1,random_state=36)\n",
        "model1 = KNeighborsClassifier(n_neighbors=2,weights='distance')\n",
        "model1.fit(X1_train, y1_train)"
      ],
      "execution_count": null,
      "outputs": [
        {
          "output_type": "execute_result",
          "data": {
            "text/plain": [
              "KNeighborsClassifier(algorithm='auto', leaf_size=30, metric='minkowski',\n",
              "                     metric_params=None, n_jobs=None, n_neighbors=2, p=2,\n",
              "                     weights='distance')"
            ]
          },
          "metadata": {
            "tags": []
          },
          "execution_count": 206
        }
      ]
    },
    {
      "cell_type": "code",
      "metadata": {
        "colab": {
          "base_uri": "https://localhost:8080/"
        },
        "id": "m60jmZA4pI9K",
        "outputId": "b5b88b3d-64e4-4e25-8abf-8536f196a4a5"
      },
      "source": [
        "print(f\"Accuracy on the train data set: {model1.score(X1_train,y1_train)}\")\n",
        "print(f\"Accuracy on the test data set: {model1.score(X1_test,y1_test)}\")"
      ],
      "execution_count": null,
      "outputs": [
        {
          "output_type": "stream",
          "text": [
            "Accuracy on the train data set: 0.9213483146067416\n",
            "Accuracy on the test data set: 0.7921348314606742\n"
          ],
          "name": "stdout"
        }
      ]
    },
    {
      "cell_type": "code",
      "metadata": {
        "colab": {
          "base_uri": "https://localhost:8080/",
          "height": 404
        },
        "id": "9NFb4Wv7xyVD",
        "outputId": "37bf1a0a-ea0e-4b99-cb31-f3b2f500024d"
      },
      "source": [
        "plot_acc_K(X1_train,y1_train,X1_test,y1_test)"
      ],
      "execution_count": null,
      "outputs": [
        {
          "output_type": "display_data",
          "data": {
            "image/png": "[encoded data removed]",
            "text/plain": [
              "<Figure size 864x432 with 1 Axes>"
            ]
          },
          "metadata": {
            "tags": [],
            "needs_background": "light"
          }
        }
      ]
    },
    {
      "cell_type": "code",
      "metadata": {
        "colab": {
          "base_uri": "https://localhost:8080/",
          "height": 300
        },
        "id": "pVwupDBTpIyo",
        "outputId": "fd42fb57-0c64-4921-c779-dc26d59bd64a"
      },
      "source": [
        "predictions = model1.predict(X1_test)\n",
        "cm = confusion_matrix(y1_test, predictions, labels=model.classes_)\n",
        "disp = ConfusionMatrixDisplay(confusion_matrix=cm, display_labels=model1.classes_)\n",
        "disp.plot(values_format = '')"
      ],
      "execution_count": null,
      "outputs": [
        {
          "output_type": "execute_result",
          "data": {
            "text/plain": [
              "<sklearn.metrics._plot.confusion_matrix.ConfusionMatrixDisplay at 0x7eff82bc1090>"
            ]
          },
          "metadata": {
            "tags": []
          },
          "execution_count": 209
        },
        {
          "output_type": "display_data",
          "data": {
            "image/png": "[encoded data removed]",
            "text/plain": [
              "<Figure size 432x288 with 2 Axes>"
            ]
          },
          "metadata": {
            "tags": [],
            "needs_background": "light"
          }
        }
      ]
    },
    {
      "cell_type": "markdown",
      "metadata": {
        "id": "fLjO_nmX-F9H"
      },
      "source": [
        "# Next try with transformed data"
      ]
    },
    {
      "cell_type": "code",
      "metadata": {
        "colab": {
          "base_uri": "https://localhost:8080/",
          "height": 419
        },
        "id": "JBks9Yna5jnf",
        "outputId": "5b21e877-4b52-4da9-add4-846836df5e8e"
      },
      "source": [
        "titanic3 = sns.load_dataset('titanic')\n",
        "titanic3['survived'] = titanic3['survived'].apply(lambda x: 'did not survive' if x == 0 else 'survived')\n",
        "titanic3"
      ],
      "execution_count": null,
      "outputs": [
        {
          "output_type": "execute_result",
          "data": {
            "text/html": [
              "<div>\n",
              "<style scoped>\n",
              "    .dataframe tbody tr th:only-of-type {\n",
              "        vertical-align: middle;\n",
              "    }\n",
              "\n",
              "    .dataframe tbody tr th {\n",
              "        vertical-align: top;\n",
              "    }\n",
              "\n",
              "    .dataframe thead th {\n",
              "        text-align: right;\n",
              "    }\n",
              "</style>\n",
              "<table border=\"1\" class=\"dataframe\">\n",
              "  <thead>\n",
              "    <tr style=\"text-align: right;\">\n",
              "      <th></th>\n",
              "      <th>survived</th>\n",
              "      <th>pclass</th>\n",
              "      <th>sex</th>\n",
              "      <th>age</th>\n",
              "      <th>sibsp</th>\n",
              "      <th>parch</th>\n",
              "      <th>fare</th>\n",
              "      <th>embarked</th>\n",
              "      <th>class</th>\n",
              "      <th>who</th>\n",
              "      <th>adult_male</th>\n",
              "      <th>deck</th>\n",
              "      <th>embark_town</th>\n",
              "      <th>alive</th>\n",
              "      <th>alone</th>\n",
              "    </tr>\n",
              "  </thead>\n",
              "  <tbody>\n",
              "    <tr>\n",
              "      <th>0</th>\n",
              "      <td>did not survive</td>\n",
              "      <td>3</td>\n",
              "      <td>male</td>\n",
              "      <td>22.0</td>\n",
              "      <td>1</td>\n",
              "      <td>0</td>\n",
              "      <td>7.2500</td>\n",
              "      <td>S</td>\n",
              "      <td>Third</td>\n",
              "      <td>man</td>\n",
              "      <td>True</td>\n",
              "      <td>NaN</td>\n",
              "      <td>Southampton</td>\n",
              "      <td>no</td>\n",
              "      <td>False</td>\n",
              "    </tr>\n",
              "    <tr>\n",
              "      <th>1</th>\n",
              "      <td>survived</td>\n",
              "      <td>1</td>\n",
              "      <td>female</td>\n",
              "      <td>38.0</td>\n",
              "      <td>1</td>\n",
              "      <td>0</td>\n",
              "      <td>71.2833</td>\n",
              "      <td>C</td>\n",
              "      <td>First</td>\n",
              "      <td>woman</td>\n",
              "      <td>False</td>\n",
              "      <td>C</td>\n",
              "      <td>Cherbourg</td>\n",
              "      <td>yes</td>\n",
              "      <td>False</td>\n",
              "    </tr>\n",
              "    <tr>\n",
              "      <th>2</th>\n",
              "      <td>survived</td>\n",
              "      <td>3</td>\n",
              "      <td>female</td>\n",
              "      <td>26.0</td>\n",
              "      <td>0</td>\n",
              "      <td>0</td>\n",
              "      <td>7.9250</td>\n",
              "      <td>S</td>\n",
              "      <td>Third</td>\n",
              "      <td>woman</td>\n",
              "      <td>False</td>\n",
              "      <td>NaN</td>\n",
              "      <td>Southampton</td>\n",
              "      <td>yes</td>\n",
              "      <td>True</td>\n",
              "    </tr>\n",
              "    <tr>\n",
              "      <th>3</th>\n",
              "      <td>survived</td>\n",
              "      <td>1</td>\n",
              "      <td>female</td>\n",
              "      <td>35.0</td>\n",
              "      <td>1</td>\n",
              "      <td>0</td>\n",
              "      <td>53.1000</td>\n",
              "      <td>S</td>\n",
              "      <td>First</td>\n",
              "      <td>woman</td>\n",
              "      <td>False</td>\n",
              "      <td>C</td>\n",
              "      <td>Southampton</td>\n",
              "      <td>yes</td>\n",
              "      <td>False</td>\n",
              "    </tr>\n",
              "    <tr>\n",
              "      <th>4</th>\n",
              "      <td>did not survive</td>\n",
              "      <td>3</td>\n",
              "      <td>male</td>\n",
              "      <td>35.0</td>\n",
              "      <td>0</td>\n",
              "      <td>0</td>\n",
              "      <td>8.0500</td>\n",
              "      <td>S</td>\n",
              "      <td>Third</td>\n",
              "      <td>man</td>\n",
              "      <td>True</td>\n",
              "      <td>NaN</td>\n",
              "      <td>Southampton</td>\n",
              "      <td>no</td>\n",
              "      <td>True</td>\n",
              "    </tr>\n",
              "    <tr>\n",
              "      <th>...</th>\n",
              "      <td>...</td>\n",
              "      <td>...</td>\n",
              "      <td>...</td>\n",
              "      <td>...</td>\n",
              "      <td>...</td>\n",
              "      <td>...</td>\n",
              "      <td>...</td>\n",
              "      <td>...</td>\n",
              "      <td>...</td>\n",
              "      <td>...</td>\n",
              "      <td>...</td>\n",
              "      <td>...</td>\n",
              "      <td>...</td>\n",
              "      <td>...</td>\n",
              "      <td>...</td>\n",
              "    </tr>\n",
              "    <tr>\n",
              "      <th>886</th>\n",
              "      <td>did not survive</td>\n",
              "      <td>2</td>\n",
              "      <td>male</td>\n",
              "      <td>27.0</td>\n",
              "      <td>0</td>\n",
              "      <td>0</td>\n",
              "      <td>13.0000</td>\n",
              "      <td>S</td>\n",
              "      <td>Second</td>\n",
              "      <td>man</td>\n",
              "      <td>True</td>\n",
              "      <td>NaN</td>\n",
              "      <td>Southampton</td>\n",
              "      <td>no</td>\n",
              "      <td>True</td>\n",
              "    </tr>\n",
              "    <tr>\n",
              "      <th>887</th>\n",
              "      <td>survived</td>\n",
              "      <td>1</td>\n",
              "      <td>female</td>\n",
              "      <td>19.0</td>\n",
              "      <td>0</td>\n",
              "      <td>0</td>\n",
              "      <td>30.0000</td>\n",
              "      <td>S</td>\n",
              "      <td>First</td>\n",
              "      <td>woman</td>\n",
              "      <td>False</td>\n",
              "      <td>B</td>\n",
              "      <td>Southampton</td>\n",
              "      <td>yes</td>\n",
              "      <td>True</td>\n",
              "    </tr>\n",
              "    <tr>\n",
              "      <th>888</th>\n",
              "      <td>did not survive</td>\n",
              "      <td>3</td>\n",
              "      <td>female</td>\n",
              "      <td>NaN</td>\n",
              "      <td>1</td>\n",
              "      <td>2</td>\n",
              "      <td>23.4500</td>\n",
              "      <td>S</td>\n",
              "      <td>Third</td>\n",
              "      <td>woman</td>\n",
              "      <td>False</td>\n",
              "      <td>NaN</td>\n",
              "      <td>Southampton</td>\n",
              "      <td>no</td>\n",
              "      <td>False</td>\n",
              "    </tr>\n",
              "    <tr>\n",
              "      <th>889</th>\n",
              "      <td>survived</td>\n",
              "      <td>1</td>\n",
              "      <td>male</td>\n",
              "      <td>26.0</td>\n",
              "      <td>0</td>\n",
              "      <td>0</td>\n",
              "      <td>30.0000</td>\n",
              "      <td>C</td>\n",
              "      <td>First</td>\n",
              "      <td>man</td>\n",
              "      <td>True</td>\n",
              "      <td>C</td>\n",
              "      <td>Cherbourg</td>\n",
              "      <td>yes</td>\n",
              "      <td>True</td>\n",
              "    </tr>\n",
              "    <tr>\n",
              "      <th>890</th>\n",
              "      <td>did not survive</td>\n",
              "      <td>3</td>\n",
              "      <td>male</td>\n",
              "      <td>32.0</td>\n",
              "      <td>0</td>\n",
              "      <td>0</td>\n",
              "      <td>7.7500</td>\n",
              "      <td>Q</td>\n",
              "      <td>Third</td>\n",
              "      <td>man</td>\n",
              "      <td>True</td>\n",
              "      <td>NaN</td>\n",
              "      <td>Queenstown</td>\n",
              "      <td>no</td>\n",
              "      <td>True</td>\n",
              "    </tr>\n",
              "  </tbody>\n",
              "</table>\n",
              "<p>891 rows × 15 columns</p>\n",
              "</div>"
            ],
            "text/plain": [
              "            survived  pclass     sex   age  ...  deck  embark_town  alive  alone\n",
              "0    did not survive       3    male  22.0  ...   NaN  Southampton     no  False\n",
              "1           survived       1  female  38.0  ...     C    Cherbourg    yes  False\n",
              "2           survived       3  female  26.0  ...   NaN  Southampton    yes   True\n",
              "3           survived       1  female  35.0  ...     C  Southampton    yes  False\n",
              "4    did not survive       3    male  35.0  ...   NaN  Southampton     no   True\n",
              "..               ...     ...     ...   ...  ...   ...          ...    ...    ...\n",
              "886  did not survive       2    male  27.0  ...   NaN  Southampton     no   True\n",
              "887         survived       1  female  19.0  ...     B  Southampton    yes   True\n",
              "888  did not survive       3  female   NaN  ...   NaN  Southampton     no  False\n",
              "889         survived       1    male  26.0  ...     C    Cherbourg    yes   True\n",
              "890  did not survive       3    male  32.0  ...   NaN   Queenstown     no   True\n",
              "\n",
              "[891 rows x 15 columns]"
            ]
          },
          "metadata": {
            "tags": []
          },
          "execution_count": 210
        }
      ]
    },
    {
      "cell_type": "code",
      "metadata": {
        "id": "sZFLi85p5jjU"
      },
      "source": [
        "titanic3=titanic3.drop(columns=['parch','embarked','class','who','deck','alive','alone','adult_male'])\n",
        "#titanic3"
      ],
      "execution_count": null,
      "outputs": []
    },
    {
      "cell_type": "code",
      "metadata": {
        "colab": {
          "base_uri": "https://localhost:8080/",
          "height": 419
        },
        "id": "ihcYgqoS5jfl",
        "outputId": "ae94eb71-8f6f-4c8e-e362-803561110af5"
      },
      "source": [
        "titanic3.dropna(axis=0,inplace=True)\n",
        "titanic3['age']=np.log(titanic3['age'])\n",
        "titanic3=pd.concat([titanic3 , titanic3['embark_town'].str.get_dummies()], axis = 1)\n",
        "titanic3"
      ],
      "execution_count": null,
      "outputs": [
        {
          "output_type": "execute_result",
          "data": {
            "text/html": [
              "<div>\n",
              "<style scoped>\n",
              "    .dataframe tbody tr th:only-of-type {\n",
              "        vertical-align: middle;\n",
              "    }\n",
              "\n",
              "    .dataframe tbody tr th {\n",
              "        vertical-align: top;\n",
              "    }\n",
              "\n",
              "    .dataframe thead th {\n",
              "        text-align: right;\n",
              "    }\n",
              "</style>\n",
              "<table border=\"1\" class=\"dataframe\">\n",
              "  <thead>\n",
              "    <tr style=\"text-align: right;\">\n",
              "      <th></th>\n",
              "      <th>survived</th>\n",
              "      <th>pclass</th>\n",
              "      <th>sex</th>\n",
              "      <th>age</th>\n",
              "      <th>sibsp</th>\n",
              "      <th>fare</th>\n",
              "      <th>embark_town</th>\n",
              "      <th>Cherbourg</th>\n",
              "      <th>Queenstown</th>\n",
              "      <th>Southampton</th>\n",
              "    </tr>\n",
              "  </thead>\n",
              "  <tbody>\n",
              "    <tr>\n",
              "      <th>0</th>\n",
              "      <td>did not survive</td>\n",
              "      <td>3</td>\n",
              "      <td>male</td>\n",
              "      <td>3.091042</td>\n",
              "      <td>1</td>\n",
              "      <td>7.2500</td>\n",
              "      <td>Southampton</td>\n",
              "      <td>0</td>\n",
              "      <td>0</td>\n",
              "      <td>1</td>\n",
              "    </tr>\n",
              "    <tr>\n",
              "      <th>1</th>\n",
              "      <td>survived</td>\n",
              "      <td>1</td>\n",
              "      <td>female</td>\n",
              "      <td>3.637586</td>\n",
              "      <td>1</td>\n",
              "      <td>71.2833</td>\n",
              "      <td>Cherbourg</td>\n",
              "      <td>1</td>\n",
              "      <td>0</td>\n",
              "      <td>0</td>\n",
              "    </tr>\n",
              "    <tr>\n",
              "      <th>2</th>\n",
              "      <td>survived</td>\n",
              "      <td>3</td>\n",
              "      <td>female</td>\n",
              "      <td>3.258097</td>\n",
              "      <td>0</td>\n",
              "      <td>7.9250</td>\n",
              "      <td>Southampton</td>\n",
              "      <td>0</td>\n",
              "      <td>0</td>\n",
              "      <td>1</td>\n",
              "    </tr>\n",
              "    <tr>\n",
              "      <th>3</th>\n",
              "      <td>survived</td>\n",
              "      <td>1</td>\n",
              "      <td>female</td>\n",
              "      <td>3.555348</td>\n",
              "      <td>1</td>\n",
              "      <td>53.1000</td>\n",
              "      <td>Southampton</td>\n",
              "      <td>0</td>\n",
              "      <td>0</td>\n",
              "      <td>1</td>\n",
              "    </tr>\n",
              "    <tr>\n",
              "      <th>4</th>\n",
              "      <td>did not survive</td>\n",
              "      <td>3</td>\n",
              "      <td>male</td>\n",
              "      <td>3.555348</td>\n",
              "      <td>0</td>\n",
              "      <td>8.0500</td>\n",
              "      <td>Southampton</td>\n",
              "      <td>0</td>\n",
              "      <td>0</td>\n",
              "      <td>1</td>\n",
              "    </tr>\n",
              "    <tr>\n",
              "      <th>...</th>\n",
              "      <td>...</td>\n",
              "      <td>...</td>\n",
              "      <td>...</td>\n",
              "      <td>...</td>\n",
              "      <td>...</td>\n",
              "      <td>...</td>\n",
              "      <td>...</td>\n",
              "      <td>...</td>\n",
              "      <td>...</td>\n",
              "      <td>...</td>\n",
              "    </tr>\n",
              "    <tr>\n",
              "      <th>885</th>\n",
              "      <td>did not survive</td>\n",
              "      <td>3</td>\n",
              "      <td>female</td>\n",
              "      <td>3.663562</td>\n",
              "      <td>0</td>\n",
              "      <td>29.1250</td>\n",
              "      <td>Queenstown</td>\n",
              "      <td>0</td>\n",
              "      <td>1</td>\n",
              "      <td>0</td>\n",
              "    </tr>\n",
              "    <tr>\n",
              "      <th>886</th>\n",
              "      <td>did not survive</td>\n",
              "      <td>2</td>\n",
              "      <td>male</td>\n",
              "      <td>3.295837</td>\n",
              "      <td>0</td>\n",
              "      <td>13.0000</td>\n",
              "      <td>Southampton</td>\n",
              "      <td>0</td>\n",
              "      <td>0</td>\n",
              "      <td>1</td>\n",
              "    </tr>\n",
              "    <tr>\n",
              "      <th>887</th>\n",
              "      <td>survived</td>\n",
              "      <td>1</td>\n",
              "      <td>female</td>\n",
              "      <td>2.944439</td>\n",
              "      <td>0</td>\n",
              "      <td>30.0000</td>\n",
              "      <td>Southampton</td>\n",
              "      <td>0</td>\n",
              "      <td>0</td>\n",
              "      <td>1</td>\n",
              "    </tr>\n",
              "    <tr>\n",
              "      <th>889</th>\n",
              "      <td>survived</td>\n",
              "      <td>1</td>\n",
              "      <td>male</td>\n",
              "      <td>3.258097</td>\n",
              "      <td>0</td>\n",
              "      <td>30.0000</td>\n",
              "      <td>Cherbourg</td>\n",
              "      <td>1</td>\n",
              "      <td>0</td>\n",
              "      <td>0</td>\n",
              "    </tr>\n",
              "    <tr>\n",
              "      <th>890</th>\n",
              "      <td>did not survive</td>\n",
              "      <td>3</td>\n",
              "      <td>male</td>\n",
              "      <td>3.465736</td>\n",
              "      <td>0</td>\n",
              "      <td>7.7500</td>\n",
              "      <td>Queenstown</td>\n",
              "      <td>0</td>\n",
              "      <td>1</td>\n",
              "      <td>0</td>\n",
              "    </tr>\n",
              "  </tbody>\n",
              "</table>\n",
              "<p>712 rows × 10 columns</p>\n",
              "</div>"
            ],
            "text/plain": [
              "            survived  pclass     sex  ...  Cherbourg  Queenstown  Southampton\n",
              "0    did not survive       3    male  ...          0           0            1\n",
              "1           survived       1  female  ...          1           0            0\n",
              "2           survived       3  female  ...          0           0            1\n",
              "3           survived       1  female  ...          0           0            1\n",
              "4    did not survive       3    male  ...          0           0            1\n",
              "..               ...     ...     ...  ...        ...         ...          ...\n",
              "885  did not survive       3  female  ...          0           1            0\n",
              "886  did not survive       2    male  ...          0           0            1\n",
              "887         survived       1  female  ...          0           0            1\n",
              "889         survived       1    male  ...          1           0            0\n",
              "890  did not survive       3    male  ...          0           1            0\n",
              "\n",
              "[712 rows x 10 columns]"
            ]
          },
          "metadata": {
            "tags": []
          },
          "execution_count": 212
        }
      ]
    },
    {
      "cell_type": "code",
      "metadata": {
        "id": "3NOHsZpP5jVA"
      },
      "source": [
        "titanic3['fare']=np.log(titanic3['fare']+1)\n",
        "titanic3['sex']=titanic3['sex'].factorize()[0]\n",
        "titanic3.drop(columns='embark_town',inplace=True)\n"
      ],
      "execution_count": null,
      "outputs": []
    },
    {
      "cell_type": "code",
      "metadata": {
        "colab": {
          "base_uri": "https://localhost:8080/",
          "height": 404
        },
        "id": "VIQq8db276xK",
        "outputId": "86e1e4de-0f48-4524-b14e-099e3f9bb16e"
      },
      "source": [
        "#titanic3\n",
        "X3=titanic3.iloc[:,1:]\n",
        "y3=titanic3.iloc[:,0]\n",
        "X3_train, X3_test, y3_train, y3_test = train_test_split(X3, y3,random_state=36)\n",
        "plot_acc_K(X3_train,y3_train,X3_test,y3_test)"
      ],
      "execution_count": null,
      "outputs": [
        {
          "output_type": "display_data",
          "data": {
            "image/png": "[encoded data removed]",
            "text/plain": [
              "<Figure size 864x432 with 1 Axes>"
            ]
          },
          "metadata": {
            "tags": [],
            "needs_background": "light"
          }
        }
      ]
    },
    {
      "cell_type": "code",
      "metadata": {
        "colab": {
          "base_uri": "https://localhost:8080/"
        },
        "id": "tU5f7zFb-Q7O",
        "outputId": "e276ba94-f321-4fbb-cd3e-06ba2fab3289"
      },
      "source": [
        "model3 = KNeighborsClassifier(n_neighbors=5,weights='uniform')\n",
        "model3.fit(X3_train, y3_train)\n",
        "print('\\n')\n",
        "print(f\"Accuracy on the train data set: {model3.score(X3_train,y3_train)}\")\n",
        "print(f\"Accuracy on the test data set: {model3.score(X3_test,y3_test)}\")"
      ],
      "execution_count": null,
      "outputs": [
        {
          "output_type": "execute_result",
          "data": {
            "text/plain": [
              "KNeighborsClassifier(algorithm='auto', leaf_size=30, metric='minkowski',\n",
              "                     metric_params=None, n_jobs=None, n_neighbors=5, p=2,\n",
              "                     weights='uniform')"
            ]
          },
          "metadata": {
            "tags": []
          },
          "execution_count": 199
        },
        {
          "output_type": "stream",
          "text": [
            "\n",
            "\n",
            "Accuracy on the train data set: 0.8651685393258427\n",
            "Accuracy on the test data set: 0.7921348314606742\n"
          ],
          "name": "stdout"
        }
      ]
    },
    {
      "cell_type": "code",
      "metadata": {
        "colab": {
          "base_uri": "https://localhost:8080/",
          "height": 296
        },
        "id": "86rHGPxs-zw-",
        "outputId": "bcafab47-411a-46e8-d673-6cfcb3acf0e4"
      },
      "source": [
        "predictions = model3.predict(X3_test)\n",
        "cm = confusion_matrix(y3_test, predictions, labels=model3.classes_)\n",
        "disp = ConfusionMatrixDisplay(confusion_matrix=cm, display_labels=model3.classes_)\n",
        "disp.plot(values_format = '')"
      ],
      "execution_count": null,
      "outputs": [
        {
          "output_type": "execute_result",
          "data": {
            "text/plain": [
              "<sklearn.metrics._plot.confusion_matrix.ConfusionMatrixDisplay at 0x7eff82d86890>"
            ]
          },
          "metadata": {
            "tags": []
          },
          "execution_count": 219
        },
        {
          "output_type": "display_data",
          "data": {
            "image/png": "[encoded data removed]",
            "text/plain": [
              "<Figure size 432x288 with 2 Axes>"
            ]
          },
          "metadata": {
            "tags": [],
            "needs_background": "light"
          }
        }
      ]
    },
    {
      "cell_type": "markdown",
      "metadata": {
        "id": "XPX8kS_Gjt_K"
      },
      "source": [
        "# Conclusions\n",
        "* **Folding train/test is necessary, the model is hopelessly dependent on random_state...**\n",
        "* Congrats !!! You just landed on the MACHINE LEARNING CLASSIFICATION planet\n",
        "* The KNN classifier is an algorithm from supervised learning part of ML\n",
        "* Scikit learn is the to-know-and-to-love toolbox for ML\n",
        "* Our KNN classifier could be improved with hyperparameter tuning. \n",
        "* There is no perfect algorithm, we can very often improve a score by **feature engineering**, rather than looking for another algorithm\n",
        "* Other algorithms should be tested for selecting the best one, but it is another story ... to be continued ML Data Wilders :) "
      ]
    },
    {
      "cell_type": "code",
      "metadata": {
        "id": "ouPIBfAQD6Bp"
      },
      "source": [
        ""
      ],
      "execution_count": null,
      "outputs": []
    }
  ]
}