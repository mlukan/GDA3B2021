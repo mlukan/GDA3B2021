{
  "nbformat": 4,
  "nbformat_minor": 0,
  "metadata": {
    "colab": {
      "name": "Martin Lukan Python and the tuples.ipynb",
      "provenance": [],
      "collapsed_sections": [],
      "include_colab_link": true
    },
    "kernelspec": {
      "name": "python3",
      "display_name": "Python 3"
    }
  },
  "cells": [
    {
      "cell_type": "markdown",
      "metadata": {
        "id": "view-in-github",
        "colab_type": "text"
      },
      "source": [
        "<a href=\"https://colab.research.google.com/github/mlukan/GDA3B2021/blob/main/Martin_Lukan_Python_and_the_tuples.ipynb\" target=\"_parent\"><img src=\"https://colab.research.google.com/assets/colab-badge.svg\" alt=\"Open In Colab\"/></a>"
      ]
    },
    {
      "cell_type": "markdown",
      "metadata": {
        "id": "LoJw-LlCTnWF"
      },
      "source": [
        "# Mission 1\n",
        "\n",
        "Create a tuple of your choice containing 10 elements in this order:\n",
        "- 3 integers\n",
        "- 3 strings\n",
        "- 2 lists containing 3 items each\n",
        "- 2 dictionaries containing 3 items (3 key/value pairs) each\n",
        "\n",
        "Now, access the second-to-last item in the second list."
      ]
    },
    {
      "cell_type": "code",
      "metadata": {
        "id": "C2Lk113KSPUO"
      },
      "source": [
        "mytup=(1,2,3,'string1','string2','string3',['item1','item2','item3'],['itema','itemb','itemc'],{\"key1\":1,\"key2\":2,\"key3\":3},{\"keya\":\"vala\",\"keyb\":\"valb\",\"keyc\":\"valc\"})"
      ],
      "execution_count": 32,
      "outputs": []
    },
    {
      "cell_type": "code",
      "metadata": {
        "colab": {
          "base_uri": "https://localhost:8080/",
          "height": 35
        },
        "id": "s2mEyQlcN0aa",
        "outputId": "a4b93d62-ab90-404e-a225-da35e6361e4b"
      },
      "source": [
        "mytup[-3][-2]"
      ],
      "execution_count": 33,
      "outputs": [
        {
          "output_type": "execute_result",
          "data": {
            "application/vnd.google.colaboratory.intrinsic+json": {
              "type": "string"
            },
            "text/plain": [
              "'itemb'"
            ]
          },
          "metadata": {
            "tags": []
          },
          "execution_count": 33
        }
      ]
    },
    {
      "cell_type": "markdown",
      "metadata": {
        "id": "HGoGFI9qxuzW"
      },
      "source": [
        "# Mission 2\n",
        "\n",
        "In the same tuple, access the last 4 elements using slicing"
      ]
    },
    {
      "cell_type": "code",
      "metadata": {
        "id": "qk097m4Zx4mR",
        "colab": {
          "base_uri": "https://localhost:8080/"
        },
        "outputId": "779b6a51-dd53-4505-ba2c-14368ec8254a"
      },
      "source": [
        "mytup[-4:]"
      ],
      "execution_count": 34,
      "outputs": [
        {
          "output_type": "execute_result",
          "data": {
            "text/plain": [
              "(['item1', 'item2', 'item3'],\n",
              " ['itema', 'itemb', 'itemc'],\n",
              " {'key1': 1, 'key2': 2, 'key3': 3},\n",
              " {'keya': 'vala', 'keyb': 'valb', 'keyc': 'valc'})"
            ]
          },
          "metadata": {
            "tags": []
          },
          "execution_count": 34
        }
      ]
    },
    {
      "cell_type": "markdown",
      "metadata": {
        "id": "iVHJFx3Px8mY"
      },
      "source": [
        "# Mission 3\n",
        "\n",
        "Change the value of the 4th element (the 1st string) of your tuple (oh yes it's possible!)"
      ]
    },
    {
      "cell_type": "code",
      "metadata": {
        "colab": {
          "base_uri": "https://localhost:8080/"
        },
        "id": "s1rdsZ6COHmx",
        "outputId": "081bb27b-5d84-466f-de60-57180fdeb76e"
      },
      "source": [
        "mytup=mytup[:2]+('newstring',)+mytup[3:]\n",
        "mytup"
      ],
      "execution_count": 42,
      "outputs": [
        {
          "output_type": "execute_result",
          "data": {
            "text/plain": [
              "(1,\n",
              " 2,\n",
              " 'newstring',\n",
              " 'string1',\n",
              " 'string2',\n",
              " 'string3',\n",
              " ['item1', 'item2', 'item3'],\n",
              " ['itema', 'itemb', 'itemc'],\n",
              " {'key1': 1, 'key2': 2, 'key3': 3},\n",
              " {'keya': 'vala', 'keyb': 'valb', 'keyc': 'valc'})"
            ]
          },
          "metadata": {
            "tags": []
          },
          "execution_count": 42
        }
      ]
    },
    {
      "cell_type": "markdown",
      "metadata": {
        "id": "Wp3_jhWS2Foi"
      },
      "source": [
        "# Mission 4\n",
        "\n",
        "Create 2 tuples that contain only integers.\n",
        "Create a script that compares them to each other and indicates which one of the tuples returns the highest total value after adding all their values together. "
      ]
    },
    {
      "cell_type": "code",
      "metadata": {
        "id": "dGMYxaMWx8RO",
        "colab": {
          "base_uri": "https://localhost:8080/"
        },
        "outputId": "5bb4a604-2ff1-42cc-d0ad-4782f2ab0e2e"
      },
      "source": [
        "tup1=(20,25,31,1)\n",
        "tup2=(2,78,3,19)\n",
        "def comp_sums(t1,t2):\n",
        "  pars = list(locals().keys())\n",
        "  if sum(t1) > sum(t2):\n",
        "    print(f\"{pars[0]} is greater than {pars[1]}\")\n",
        "  else:\n",
        "    print(f\"{pars[1]} is greater than {pars[0]}\")\n",
        "comp_sums(tup1,tup2)\n",
        " "
      ],
      "execution_count": 19,
      "outputs": [
        {
          "output_type": "stream",
          "text": [
            "t2 is greater than t1\n"
          ],
          "name": "stdout"
        }
      ]
    },
    {
      "cell_type": "markdown",
      "metadata": {
        "id": "Zmk8uviVzPBZ"
      },
      "source": [
        "# Mission 5\n",
        "\n",
        "Here's a tuple:\n",
        "\n",
        "my_tuple = (\"data analyst\", \"data scientist\", \"data engineer\", \"data architect\")\n",
        "\n",
        "Create a script that allows you to change one of the values of \"my_tuple\" by indicating the position of the value you want to change, as well as the new value."
      ]
    },
    {
      "cell_type": "code",
      "metadata": {
        "id": "0o-MuRyZ1_7u",
        "colab": {
          "base_uri": "https://localhost:8080/"
        },
        "outputId": "8d3664e1-e912-43e1-a3ab-cfdd14d16482"
      },
      "source": [
        "def update_tuple(tup,i,val):\n",
        "  return tup[:i-1]+(val,) + tup[i:]\n",
        "testup=(1,2,3,4,5)\n",
        "update_tuple(testup,4,'f')\n"
      ],
      "execution_count": 44,
      "outputs": [
        {
          "output_type": "execute_result",
          "data": {
            "text/plain": [
              "(1, 2, 3, 'f', 5)"
            ]
          },
          "metadata": {
            "tags": []
          },
          "execution_count": 44
        }
      ]
    },
    {
      "cell_type": "code",
      "metadata": {
        "id": "6RqGfNIfSXP4"
      },
      "source": [
        ""
      ],
      "execution_count": 43,
      "outputs": []
    }
  ]
}