{
  "nbformat": 4,
  "nbformat_minor": 0,
  "metadata": {
    "colab": {
      "name": "Quest CNN Classification v2.ipynb",
      "provenance": [],
      "collapsed_sections": [],
      "include_colab_link": true
    },
    "kernelspec": {
      "name": "python3",
      "display_name": "Python 3"
    },
    "accelerator": "GPU"
  },
  "cells": [
    {
      "cell_type": "markdown",
      "metadata": {
        "id": "view-in-github",
        "colab_type": "text"
      },
      "source": [
        "<a href=\"https://colab.research.google.com/github/mlukan/GDA3B2021/blob/main/CNN/Quest_CNN_Classification_v2.ipynb\" target=\"_parent\"><img src=\"https://colab.research.google.com/assets/colab-badge.svg\" alt=\"Open In Colab\"/></a>"
      ]
    },
    {
      "cell_type": "markdown",
      "metadata": {
        "id": "eLMV7W2SpmS_"
      },
      "source": [
        "# Preparation"
      ]
    },
    {
      "cell_type": "code",
      "metadata": {
        "id": "Nh3aDkAmUPMe"
      },
      "source": [
        "import tensorflow as tf\n",
        "from tensorflow.keras import datasets, layers, models\n",
        "import tensorflow_datasets as tfds\n",
        "from keras.layers import MaxPooling2D, Conv2D,Flatten,Dense\n",
        "from keras.models import Sequential\n",
        "from keras.optimizers import Adam\n",
        "import matplotlib.pyplot as plt"
      ],
      "execution_count": 1,
      "outputs": []
    },
    {
      "cell_type": "code",
      "metadata": {
        "id": "vZT5_O_l0bqT",
        "colab": {
          "base_uri": "https://localhost:8080/"
        },
        "outputId": "a42d2f8b-2529-4999-cc38-8c72c072141f"
      },
      "source": [
        "(train_images, train_labels), (test_images, test_labels) = datasets.cifar10.load_data()"
      ],
      "execution_count": 2,
      "outputs": [
        {
          "output_type": "stream",
          "text": [
            "Downloading data from https://www.cs.toronto.edu/~kriz/cifar-10-python.tar.gz\n",
            "170500096/170498071 [==============================] - 9s 0us/step\n"
          ],
          "name": "stdout"
        }
      ]
    },
    {
      "cell_type": "code",
      "metadata": {
        "id": "rgtzfj5f0cfG"
      },
      "source": [
        "class_names = ['airplane', 'automobile', 'bird', 'cat', 'deer',\n",
        "               'dog', 'frog', 'horse', 'ship', 'truck']"
      ],
      "execution_count": 3,
      "outputs": []
    },
    {
      "cell_type": "markdown",
      "metadata": {
        "id": "9McRkqNvscOz"
      },
      "source": [
        "In this quest, you will work with the [CIFAR-10 dataset](https://www.cs.toronto.edu/~kriz/cifar.html). It contains 60000 32x32 colour images in 10 classes, with 6000 images per class. Your task will be predicting image classes.\n"
      ]
    },
    {
      "cell_type": "markdown",
      "metadata": {
        "id": "gs2BVhIgsKCD"
      },
      "source": [
        "# Tasks"
      ]
    },
    {
      "cell_type": "markdown",
      "metadata": {
        "id": "mp1MM9_DsuhS"
      },
      "source": [
        "Normalize pixel values of both train and test images to the values in the range between 0 and 1"
      ]
    },
    {
      "cell_type": "code",
      "metadata": {
        "id": "lZBGvhl0sDWI"
      },
      "source": [
        "# your code\n",
        "import numpy as np\n",
        "np.max(train_images[0])\n",
        "train_images=train_images/255\n",
        "test_images=test_images/255"
      ],
      "execution_count": 4,
      "outputs": []
    },
    {
      "cell_type": "code",
      "metadata": {
        "colab": {
          "base_uri": "https://localhost:8080/",
          "height": 285
        },
        "id": "_SCV8u0jG8br",
        "outputId": "6a26e6d6-6bf7-4a30-a316-54f03265b28e"
      },
      "source": [
        "print(train_labels[14])\n",
        "plt.imshow(train_images[14]);\n"
      ],
      "execution_count": 5,
      "outputs": [
        {
          "output_type": "stream",
          "text": [
            "[9]\n"
          ],
          "name": "stdout"
        },
        {
          "output_type": "display_data",
          "data": {
            "image/png": "[encoded data removed]",
            "text/plain": [
              "<Figure size 432x288 with 1 Axes>"
            ]
          },
          "metadata": {
            "tags": [],
            "needs_background": "light"
          }
        }
      ]
    },
    {
      "cell_type": "code",
      "metadata": {
        "id": "Pn27MvBTG7zi"
      },
      "source": [
        ""
      ],
      "execution_count": 5,
      "outputs": []
    },
    {
      "cell_type": "code",
      "metadata": {
        "colab": {
          "base_uri": "https://localhost:8080/"
        },
        "id": "eJUOFLg0I4bO",
        "outputId": "9fd84a89-57f0-4128-e7cf-78030e6fa595"
      },
      "source": [
        "print(train_images.shape, train_labels.shape, test_images.shape, test_labels.shape)"
      ],
      "execution_count": 6,
      "outputs": [
        {
          "output_type": "stream",
          "text": [
            "(50000, 32, 32, 3) (50000, 1) (10000, 32, 32, 3) (10000, 1)\n"
          ],
          "name": "stdout"
        }
      ]
    },
    {
      "cell_type": "code",
      "metadata": {
        "id": "3sTk-2P8WCEV"
      },
      "source": [
        "from keras.utils.np_utils import to_categorical   \n",
        "\n",
        "train_labels = to_categorical(train_labels, num_classes=10)\n",
        "test_labels = to_categorical(test_labels, num_classes=10)"
      ],
      "execution_count": 7,
      "outputs": []
    },
    {
      "cell_type": "code",
      "metadata": {
        "colab": {
          "base_uri": "https://localhost:8080/"
        },
        "id": "1ch0pG91WRFl",
        "outputId": "02e02ae2-c7c3-4911-f276-2ab9cb7dda0a"
      },
      "source": [
        "train_labels.shape"
      ],
      "execution_count": 8,
      "outputs": [
        {
          "output_type": "execute_result",
          "data": {
            "text/plain": [
              "(50000, 10)"
            ]
          },
          "metadata": {
            "tags": []
          },
          "execution_count": 8
        }
      ]
    },
    {
      "cell_type": "markdown",
      "metadata": {
        "id": "aCaySZ8Ss_aj"
      },
      "source": [
        "Build a sequential model with the following architecture:\n",
        "\n",
        "conv2d - (None, 30, 30, 32)  \n",
        "_________________________________________________________________\n",
        "max_pooling2d - (None, 15, 15, 32)        \n",
        "_________________________________________________________________\n",
        "conv2d - (None, 13, 13, 64)\n",
        "_________________________________________________________________\n",
        "max_pooling2d - (None, 6, 6, 64)        \n",
        "_________________________________________________________________\n",
        "conv2d - (None, 4, 4, 128) \n",
        "_________________________________________________________________\n",
        "flatten - (None, 2048)       \n",
        "_________________________________________________________________\n",
        "dense - (None, 64)    \n",
        "_________________________________________________________________\n",
        "dense - (None, 10)       \n"
      ]
    },
    {
      "cell_type": "code",
      "metadata": {
        "id": "RFsiddt20yLp"
      },
      "source": [
        "# your code\n",
        "def cnnmodel(input_shape):\n",
        "  model = Sequential()\n",
        "  model.add(Conv2D(32, kernel_size=3, activation='relu', input_shape=(input_shape[1], input_shape[2], input_shape[3])))\n",
        "  model.add(MaxPooling2D(pool_size=(2,2)))\n",
        "  model.add(Conv2D(32, kernel_size=3, activation='relu'))\n",
        "  model.add(MaxPooling2D(pool_size=(2, 2)))\n",
        "  model.add(Conv2D(64, kernel_size=(3, 3), activation='relu'))\n",
        "  model.add(Flatten())\n",
        "  model.add(Dense(64, activation='relu'))\n",
        "  model.add(Dense(10, activation='softmax'))\n",
        "  model.build()\n",
        "  model.summary()\n",
        "  return model\n"
      ],
      "execution_count": 9,
      "outputs": []
    },
    {
      "cell_type": "markdown",
      "metadata": {
        "id": "2blKJv2huDPh"
      },
      "source": [
        "Compile the model using Adam optimizer, sparse categorical crossentropy as loss function, and choose an appropriate metric for classification. Use 10 epochs to train the model."
      ]
    },
    {
      "cell_type": "code",
      "metadata": {
        "id": "flXnIRIG09nO",
        "colab": {
          "base_uri": "https://localhost:8080/"
        },
        "outputId": "93eef658-1e60-4e72-e067-cfb03889fbba"
      },
      "source": [
        "# your code\n",
        "cnnmod = cnnmodel(train_images.shape)\n",
        "# compile model\n",
        "cnnmod.compile(optimizer='adam', loss='categorical_crossentropy', metrics=['accuracy'])\n",
        "cnnmodhist = cnnmod.fit(train_images,train_labels, epochs=10,  validation_data=(test_images,test_labels))\n",
        "\n"
      ],
      "execution_count": 10,
      "outputs": [
        {
          "output_type": "stream",
          "text": [
            "Model: \"sequential\"\n",
            "_________________________________________________________________\n",
            "Layer (type)                 Output Shape              Param #   \n",
            "=================================================================\n",
            "conv2d (Conv2D)              (None, 30, 30, 32)        896       \n",
            "_________________________________________________________________\n",
            "max_pooling2d (MaxPooling2D) (None, 15, 15, 32)        0         \n",
            "_________________________________________________________________\n",
            "conv2d_1 (Conv2D)            (None, 13, 13, 32)        9248      \n",
            "_________________________________________________________________\n",
            "max_pooling2d_1 (MaxPooling2 (None, 6, 6, 32)          0         \n",
            "_________________________________________________________________\n",
            "conv2d_2 (Conv2D)            (None, 4, 4, 64)          18496     \n",
            "_________________________________________________________________\n",
            "flatten (Flatten)            (None, 1024)              0         \n",
            "_________________________________________________________________\n",
            "dense (Dense)                (None, 64)                65600     \n",
            "_________________________________________________________________\n",
            "dense_1 (Dense)              (None, 10)                650       \n",
            "=================================================================\n",
            "Total params: 94,890\n",
            "Trainable params: 94,890\n",
            "Non-trainable params: 0\n",
            "_________________________________________________________________\n",
            "Epoch 1/10\n",
            "1563/1563 [==============================] - 52s 6ms/step - loss: 1.7683 - accuracy: 0.3423 - val_loss: 1.2523 - val_accuracy: 0.5545\n",
            "Epoch 2/10\n",
            "1563/1563 [==============================] - 8s 5ms/step - loss: 1.2333 - accuracy: 0.5599 - val_loss: 1.1545 - val_accuracy: 0.5953\n",
            "Epoch 3/10\n",
            "1563/1563 [==============================] - 8s 5ms/step - loss: 1.0734 - accuracy: 0.6247 - val_loss: 1.0162 - val_accuracy: 0.6464\n",
            "Epoch 4/10\n",
            "1563/1563 [==============================] - 8s 5ms/step - loss: 0.9579 - accuracy: 0.6648 - val_loss: 1.0181 - val_accuracy: 0.6488\n",
            "Epoch 5/10\n",
            "1563/1563 [==============================] - 8s 5ms/step - loss: 0.8734 - accuracy: 0.6935 - val_loss: 0.9338 - val_accuracy: 0.6825\n",
            "Epoch 6/10\n",
            "1563/1563 [==============================] - 8s 5ms/step - loss: 0.8189 - accuracy: 0.7131 - val_loss: 0.9174 - val_accuracy: 0.6833\n",
            "Epoch 7/10\n",
            "1563/1563 [==============================] - 8s 5ms/step - loss: 0.7696 - accuracy: 0.7296 - val_loss: 0.9344 - val_accuracy: 0.6840\n",
            "Epoch 8/10\n",
            "1563/1563 [==============================] - 8s 5ms/step - loss: 0.7183 - accuracy: 0.7491 - val_loss: 0.9127 - val_accuracy: 0.6891\n",
            "Epoch 9/10\n",
            "1563/1563 [==============================] - 8s 5ms/step - loss: 0.6807 - accuracy: 0.7606 - val_loss: 0.9220 - val_accuracy: 0.6889\n",
            "Epoch 10/10\n",
            "1563/1563 [==============================] - 8s 5ms/step - loss: 0.6435 - accuracy: 0.7730 - val_loss: 0.9634 - val_accuracy: 0.6902\n"
          ],
          "name": "stdout"
        }
      ]
    },
    {
      "cell_type": "markdown",
      "metadata": {
        "id": "tyfR1bCiucDE"
      },
      "source": [
        "Evaluate the model on test data to get the loss and accuracy metrics"
      ]
    },
    {
      "cell_type": "code",
      "metadata": {
        "id": "CA4Hsi6B035n",
        "colab": {
          "base_uri": "https://localhost:8080/"
        },
        "outputId": "4c248633-2c34-44de-fb1d-148498cb137a"
      },
      "source": [
        "# your code\n",
        "# evaluate model\n",
        "_, acc = cnnmod.evaluate(test_images,test_labels)\n",
        "print('Test Accuracy: %.3f' % (acc * 100))\n"
      ],
      "execution_count": 11,
      "outputs": [
        {
          "output_type": "stream",
          "text": [
            "313/313 [==============================] - 1s 3ms/step - loss: 0.9634 - accuracy: 0.6902\n",
            "Test Accuracy: 69.020\n"
          ],
          "name": "stdout"
        }
      ]
    },
    {
      "cell_type": "code",
      "metadata": {
        "id": "rorIrt3OXa98"
      },
      "source": [
        "def show_history_acc_loss(story):\n",
        "    fig, (ax1, ax2) = plt.subplots(1, 2)\n",
        "#    fig.set_size_inches(18.5, 10.5)\n",
        "    fig.set_size_inches(10.5, 5.5)\n",
        "    ax1.plot(story.history['accuracy'])\n",
        "    ax1.plot(story.history['val_accuracy'])\n",
        "    ax1.set(xlabel='epoch', ylabel='accuracy')\n",
        "    ax1.legend(['train_accuracy', 'validation_accuracy'], loc='best')\n",
        "    ax1.set_title('Accuracy evolution during NN training')\n",
        "    \n",
        "    ax2.plot(story.history['loss'])\n",
        "    ax2.plot(story.history['val_loss'])\n",
        "    ax2.set(xlabel='epoch', ylabel='loss')\n",
        "    ax2.legend(['train_loss', 'validation_loss'], loc='best')\n",
        "    ax2.set_title('Loss evolution during NN training')\n",
        "    plt.show();"
      ],
      "execution_count": 12,
      "outputs": []
    },
    {
      "cell_type": "code",
      "metadata": {
        "colab": {
          "base_uri": "https://localhost:8080/",
          "height": 377
        },
        "id": "jM8dsmtZaCgf",
        "outputId": "a1fb6366-bca0-433b-86ef-56a2192bd974"
      },
      "source": [
        "show_history_acc_loss(cnnmodhist)"
      ],
      "execution_count": 13,
      "outputs": [
        {
          "output_type": "display_data",
          "data": {
            "image/png": "[encoded data removed]",
            "text/plain": [
              "<Figure size 756x396 with 2 Axes>"
            ]
          },
          "metadata": {
            "tags": [],
            "needs_background": "light"
          }
        }
      ]
    },
    {
      "cell_type": "code",
      "metadata": {
        "id": "Q4v_P0FwXcgw"
      },
      "source": [
        "del cnnmod"
      ],
      "execution_count": null,
      "outputs": []
    }
  ]
}